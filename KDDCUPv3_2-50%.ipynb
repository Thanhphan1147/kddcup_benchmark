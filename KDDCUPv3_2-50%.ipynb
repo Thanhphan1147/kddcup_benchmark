{
 "cells": [
  {
   "cell_type": "code",
   "execution_count": 2,
   "metadata": {},
   "outputs": [],
   "source": [
    "from imports import *"
   ]
  },
  {
   "cell_type": "markdown",
   "metadata": {},
   "source": [
    "# Fetch dataset"
   ]
  },
  {
   "cell_type": "code",
   "execution_count": 3,
   "metadata": {},
   "outputs": [
    {
     "name": "stdout",
     "output_type": "stream",
     "text": [
      "anomaly rate is 50.0% out of 155644 records (77822)\n"
     ]
    }
   ],
   "source": [
    "r = 0.5\n",
    "target_anomaly_rate = r\n",
    "\n",
    "df = pd.read_csv('kddcup.data', delimiter=',')\n",
    "df.columns = sa_columns + [\"target\"]\n",
    "df_normal = df[df[\"target\"]== 'normal.']\n",
    "df_normal = df_normal.sample(frac=0.08, random_state=1)\n",
    "n_records = int(np.ceil(len(df_normal)*r/(1-r)))\n",
    "\n",
    "df = df_normal.append(df[df[\"target\"]!= 'normal.'].sample(n = n_records, random_state=1))\n",
    "anomaly_rate = 1.0 - len(df.loc[df[\"target\"]=='normal.'])/len(df)\n",
    "print(f\"anomaly rate is {anomaly_rate:.1%} out of {len(df)} records ({n_records})\")\n",
    "\n",
    "df['binary_target'] = [1 if x=='normal.' else -1 for x in df[\"target\"]]\n",
    "df = df.sample(frac=1, random_state=2)\n",
    "toDecode = [\"protocol_type\", \"service\", \"flag\", \"target\"]\n",
    "leSF = preprocessing.LabelEncoder()\n",
    "for f in toDecode:\n",
    "    df[f] = leSF.fit_transform(df[f])\n",
    "\n",
    "x_train, x_test, y_train, y_test = train_test_split(df.drop([\"target\", 'binary_target'], axis=1), df['binary_target'], test_size=0.33, random_state=0)\n",
    "results = []"
   ]
  },
  {
   "cell_type": "markdown",
   "metadata": {},
   "source": [
    "Just like with sklearn SA dataset, we selected all of the 'normal' data with a small portion of outliers to reach our target anomaly rate"
   ]
  },
  {
   "cell_type": "markdown",
   "metadata": {},
   "source": [
    "# Cross-validation for Isolation Forest"
   ]
  },
  {
   "cell_type": "code",
   "execution_count": 3,
   "metadata": {},
   "outputs": [],
   "source": [
    "def cross_validation(contamination):\n",
    "    highest_score = 0\n",
    "    highest_score_c = 0\n",
    "    for c in contamination:\n",
    "        s = datetime.datetime.now()\n",
    "        y_pred = IsolationForest(random_state=1, n_jobs=-1, max_samples=0.25, n_estimators=100, contamination=c).fit(x_train).predict(x_test)\n",
    "        t = datetime.datetime.now() - s\n",
    "        p, r, f, s = map(lambda x: x[0], precision_recall_fscore_support(y_test, y_pred, labels=[-1]))\n",
    "        # p = tp / (tp + fp)\n",
    "        a = roc_auc_score(y_test, y_pred)\n",
    "        if p + r + a > highest_score: highest_score = p + r + a; highest_score_c = c\n",
    "        \n",
    "        yp = np.array(y_pred)\n",
    "        yt = np.array(y_test)\n",
    "        \n",
    "        prediction = yp[np.where(yt == -1)]\n",
    "\n",
    "        tp = len(yp[np.where(prediction == -1)])\n",
    "        print(tp)\n",
    "        fp = tp / p - tp\n",
    "        \n",
    "        # predicted true\n",
    "        positives = yp[np.where(yp == -1)]\n",
    "        print(f\"Finished trainning in {t} seconds\")\n",
    "        print(f\"contamination: {c} \\t tp: {tp}/support: {s}/predicted: {len(positives)} -> fp = {len(positives) - tp}\")\n",
    "        print(f\"AUC : {a:.1%} \\t precision: {p:.3} \\t recall: {r:.3} \\t f1: {f}\")\n",
    "        print(\"--------------------\")\n",
    "    return highest_score_c"
   ]
  },
  {
   "cell_type": "code",
   "execution_count": 4,
   "metadata": {},
   "outputs": [
    {
     "name": "stdout",
     "output_type": "stream",
     "text": [
      "{1, -1}\n"
     ]
    }
   ],
   "source": [
    "print(set(np.array(y_test)))"
   ]
  },
  {
   "cell_type": "code",
   "execution_count": 5,
   "metadata": {},
   "outputs": [
    {
     "name": "stdout",
     "output_type": "stream",
     "text": [
      "1811\n",
      "Finished trainning in 0:02:13.392060 seconds\n",
      "contamination: 0.01 \t tp: 1811/support: 160132/predicted: 4780 -> fp = 2969\n",
      "AUC : 50.1% \t precision: 0.379 \t recall: 0.0113 \t f1: 0.021963228873581063\n",
      "--------------------\n"
     ]
    },
    {
     "data": {
      "text/plain": [
       "0.01"
      ]
     },
     "execution_count": 5,
     "metadata": {},
     "output_type": "execute_result"
    }
   ],
   "source": [
    "contamination = [0.01]\n",
    "c_max = cross_validation(contamination)\n",
    "c_max"
   ]
  },
  {
   "cell_type": "code",
   "execution_count": null,
   "metadata": {},
   "outputs": [
    {
     "name": "stdout",
     "output_type": "stream",
     "text": [
      "1811\n",
      "Finished trainning in 0:02:13.593566 seconds\n",
      "contamination: 0.01 \t tp: 1811/support: 160132/predicted: 4780 -> fp = 2969\n",
      "AUC : 50.1% \t precision: 0.379 \t recall: 0.0113 \t f1: 0.021963228873581063\n",
      "--------------------\n",
      "2596\n",
      "Finished trainning in 0:02:13.651242 seconds\n",
      "contamination: 0.02 \t tp: 2596/support: 160132/predicted: 9511 -> fp = 6915\n",
      "AUC : 49.7% \t precision: 0.273 \t recall: 0.0162 \t f1: 0.03060544791120176\n",
      "--------------------\n",
      "3454\n",
      "Finished trainning in 0:02:13.717577 seconds\n",
      "contamination: 0.03 \t tp: 3454/support: 160132/predicted: 14335 -> fp = 10881\n",
      "AUC : 49.4% \t precision: 0.241 \t recall: 0.0216 \t f1: 0.039594880407183015\n",
      "--------------------\n",
      "4689\n",
      "Finished trainning in 0:02:13.473720 seconds\n",
      "contamination: 0.04 \t tp: 4689/support: 160132/predicted: 19136 -> fp = 14447\n",
      "AUC : 49.2% \t precision: 0.245 \t recall: 0.0293 \t f1: 0.0523127384697771\n",
      "--------------------\n",
      "6549\n",
      "Finished trainning in 0:02:13.423068 seconds\n",
      "contamination: 0.05 \t tp: 6549/support: 160132/predicted: 24141 -> fp = 17592\n",
      "AUC : 49.3% \t precision: 0.271 \t recall: 0.0409 \t f1: 0.07107932252690302\n",
      "--------------------\n",
      "8614\n",
      "Finished trainning in 0:02:13.319736 seconds\n",
      "contamination: 0.06 \t tp: 8614/support: 160132/predicted: 28911 -> fp = 20297\n",
      "AUC : 49.5% \t precision: 0.298 \t recall: 0.0538 \t f1: 0.091132705257534\n",
      "--------------------\n",
      "10554\n",
      "Finished trainning in 0:02:13.438982 seconds\n",
      "contamination: 0.07 \t tp: 10554/support: 160132/predicted: 33679 -> fp = 23125\n",
      "AUC : 49.7% \t precision: 0.313 \t recall: 0.0659 \t f1: 0.10891022697370117\n",
      "--------------------\n",
      "12075\n",
      "Finished trainning in 0:02:13.541093 seconds\n",
      "contamination: 0.08 \t tp: 12075/support: 160132/predicted: 38521 -> fp = 26446\n",
      "AUC : 49.7% \t precision: 0.313 \t recall: 0.0754 \t f1: 0.12156876563656224\n",
      "--------------------\n",
      "12570\n",
      "Finished trainning in 0:02:13.385818 seconds\n",
      "contamination: 0.09 \t tp: 12570/support: 160132/predicted: 43405 -> fp = 30835\n",
      "AUC : 49.1% \t precision: 0.29 \t recall: 0.0785 \t f1: 0.12351562615151053\n",
      "--------------------\n"
     ]
    }
   ],
   "source": [
    "contamination = [round(0.01 + 0.01*i, 2) for i in range(10)]\n",
    "c_max = cross_validation(contamination)\n",
    "c_max"
   ]
  },
  {
   "cell_type": "code",
   "execution_count": 4,
   "metadata": {},
   "outputs": [
    {
     "name": "stdout",
     "output_type": "stream",
     "text": [
      "13075\n",
      "Finished trainning in 0:02:13.593435 seconds\n",
      "contamination: 0.1 \t tp: 13075/support: 160132/predicted: 48330 -> fp = 35255\n",
      "AUC : 48.6% \t precision: 0.271 \t recall: 0.0817 \t f1: 0.12544252669551287\n",
      "--------------------\n",
      "32505\n",
      "Finished trainning in 0:02:13.677826 seconds\n",
      "contamination: 0.2 \t tp: 32505/support: 160132/predicted: 96032 -> fp = 63527\n",
      "AUC : 50.3% \t precision: 0.338 \t recall: 0.203 \t f1: 0.2537827329367124\n",
      "--------------------\n",
      "54196\n",
      "Finished trainning in 0:02:13.497355 seconds\n",
      "contamination: 0.3 \t tp: 54196/support: 160132/predicted: 139305 -> fp = 85109\n",
      "AUC : 53.7% \t precision: 0.389 \t recall: 0.338 \t f1: 0.3619859937148716\n",
      "--------------------\n",
      "70637\n",
      "Finished trainning in 0:02:13.196099 seconds\n",
      "contamination: 0.4 \t tp: 70637/support: 160132/predicted: 192072 -> fp = 121435\n",
      "AUC : 53.2% \t precision: 0.368 \t recall: 0.441 \t f1: 0.4011141270400109\n",
      "--------------------\n",
      "81425\n",
      "Finished trainning in 0:02:13.375726 seconds\n",
      "contamination: 0.5 \t tp: 81425/support: 160132/predicted: 240291 -> fp = 158866\n",
      "AUC : 50.7% \t precision: 0.339 \t recall: 0.508 \t f1: 0.40669492012197106\n",
      "--------------------\n",
      "81425\n",
      "Finished trainning in 0:02:13.414147 seconds\n",
      "contamination: 0.6 \t tp: 81425/support: 160132/predicted: 252728 -> fp = 171303\n",
      "AUC : 48.8% \t precision: 0.322 \t recall: 0.508 \t f1: 0.3944436370682556\n",
      "--------------------\n"
     ]
    },
    {
     "data": {
      "text/plain": [
       "0.5"
      ]
     },
     "execution_count": 4,
     "metadata": {},
     "output_type": "execute_result"
    }
   ],
   "source": [
    "contamination = [round(0.1*i, 1) for i in range(1, 7)]\n",
    "c_max_2 = cross_validation(contamination)\n",
    "c_max_2"
   ]
  },
  {
   "cell_type": "code",
   "execution_count": 5,
   "metadata": {},
   "outputs": [
    {
     "name": "stdout",
     "output_type": "stream",
     "text": [
      "70637\n",
      "Finished trainning in 0:02:13.109373 seconds\n",
      "contamination: 0.4 \t tp: 70637/support: 160132/predicted: 192072 -> fp = 121435\n",
      "AUC : 53.2% \t precision: 0.368 \t recall: 0.441 \t f1: 0.4011141270400109\n",
      "--------------------\n",
      "70637\n",
      "Finished trainning in 0:02:13.040052 seconds\n",
      "contamination: 0.41 \t tp: 70637/support: 160132/predicted: 196392 -> fp = 125755\n",
      "AUC : 52.5% \t precision: 0.36 \t recall: 0.441 \t f1: 0.3962538286342574\n",
      "--------------------\n",
      "70637\n",
      "Finished trainning in 0:02:12.903651 seconds\n",
      "contamination: 0.42 \t tp: 70637/support: 160132/predicted: 201702 -> fp = 131065\n",
      "AUC : 51.7% \t precision: 0.35 \t recall: 0.441 \t f1: 0.3904387094634556\n",
      "--------------------\n",
      "70637\n",
      "Finished trainning in 0:02:12.966043 seconds\n",
      "contamination: 0.43 \t tp: 70637/support: 160132/predicted: 206362 -> fp = 135725\n",
      "AUC : 50.9% \t precision: 0.342 \t recall: 0.441 \t f1: 0.385474250601647\n",
      "--------------------\n",
      "70637\n",
      "Finished trainning in 0:02:12.947277 seconds\n",
      "contamination: 0.44 \t tp: 70637/support: 160132/predicted: 210897 -> fp = 140260\n",
      "AUC : 50.2% \t precision: 0.335 \t recall: 0.441 \t f1: 0.3807626897088907\n",
      "--------------------\n",
      "70637\n",
      "Finished trainning in 0:02:12.798861 seconds\n",
      "contamination: 0.45 \t tp: 70637/support: 160132/predicted: 215814 -> fp = 145177\n",
      "AUC : 49.5% \t precision: 0.327 \t recall: 0.441 \t f1: 0.37578269219515564\n",
      "--------------------\n",
      "70637\n",
      "Finished trainning in 0:02:12.781742 seconds\n",
      "contamination: 0.46 \t tp: 70637/support: 160132/predicted: 220777 -> fp = 150140\n",
      "AUC : 48.7% \t precision: 0.32 \t recall: 0.441 \t f1: 0.370886484698445\n",
      "--------------------\n",
      "70637\n",
      "Finished trainning in 0:02:12.832148 seconds\n",
      "contamination: 0.47 \t tp: 70637/support: 160132/predicted: 223161 -> fp = 152524\n",
      "AUC : 48.3% \t precision: 0.317 \t recall: 0.441 \t f1: 0.3685796505545366\n",
      "--------------------\n",
      "81425\n",
      "Finished trainning in 0:02:12.821442 seconds\n",
      "contamination: 0.48 \t tp: 81425/support: 160132/predicted: 233949 -> fp = 152524\n",
      "AUC : 51.7% \t precision: 0.348 \t recall: 0.508 \t f1: 0.41323991768189783\n",
      "--------------------\n",
      "81425\n",
      "Finished trainning in 0:02:12.980862 seconds\n",
      "contamination: 0.49 \t tp: 81425/support: 160132/predicted: 235365 -> fp = 153940\n",
      "AUC : 51.5% \t precision: 0.346 \t recall: 0.508 \t f1: 0.4117603926199187\n",
      "--------------------\n",
      "81425\n",
      "Finished trainning in 0:02:12.969156 seconds\n",
      "contamination: 0.5 \t tp: 81425/support: 160132/predicted: 240291 -> fp = 158866\n",
      "AUC : 50.7% \t precision: 0.339 \t recall: 0.508 \t f1: 0.40669492012197106\n",
      "--------------------\n"
     ]
    },
    {
     "data": {
      "text/plain": [
       "0.48"
      ]
     },
     "execution_count": 5,
     "metadata": {},
     "output_type": "execute_result"
    }
   ],
   "source": [
    "contamination = [round(c_max_2 - 0.1 + 0.01*i, 2) for i in range(11)]\n",
    "c_max = cross_validation(contamination)\n",
    "c_max"
   ]
  },
  {
   "cell_type": "code",
   "execution_count": null,
   "metadata": {},
   "outputs": [],
   "source": [
    "c_max = 0.25"
   ]
  },
  {
   "cell_type": "code",
   "execution_count": 6,
   "metadata": {},
   "outputs": [
    {
     "name": "stdout",
     "output_type": "stream",
     "text": [
      "trained isolation forest in: 0:02:12.565903\n",
      "AUC: 51.7%\n",
      "              precision    recall  f1-score   support\n",
      "\n",
      "          -1       0.35      0.51      0.41    160132\n",
      "           1       0.68      0.53      0.59    321395\n",
      "\n",
      "    accuracy                           0.52    481527\n",
      "   macro avg       0.52      0.52      0.50    481527\n",
      "weighted avg       0.57      0.52      0.53    481527\n",
      "\n"
     ]
    },
    {
     "data": {
      "image/png": "[encoded data removed]",
      "text/plain": [
       "<Figure size 432x288 with 2 Axes>"
      ]
     },
     "metadata": {
      "needs_background": "light"
     },
     "output_type": "display_data"
    }
   ],
   "source": [
    "s = datetime.datetime.now()\n",
    "y_pred = IsolationForest(random_state=1, n_jobs=-1, max_samples=0.25, n_estimators=100, contamination=c_max).fit(x_train).predict(x_test)\n",
    "t = datetime.datetime.now() - s\n",
    "cm_if = confusion_matrix(y_test, y_pred)\n",
    "print(f\"trained isolation forest in: {t}\")\n",
    "print(f\"AUC: {roc_auc_score(y_test, y_pred):.1%}\")\n",
    "print(classification_report(y_test, y_pred))\n",
    "plot_confusion_matrix(cm_if, f\"Confusion matrix for If with c = {c_max}\")"
   ]
  },
  {
   "cell_type": "markdown",
   "metadata": {},
   "source": [
    "## Cross validation for LOF "
   ]
  },
  {
   "cell_type": "code",
   "execution_count": 3,
   "metadata": {},
   "outputs": [],
   "source": [
    "def cross_validation_lof(contamination):\n",
    "    highest_score = 0\n",
    "    highest_score_c = 0\n",
    "    #print(\"array:\", contamination)\n",
    "    for c in contamination:\n",
    "        s = datetime.datetime.now()\n",
    "        y_pred = LocalOutlierFactor(n_neighbors=100, metric='euclidean', algorithm = 'auto', contamination=c, n_jobs=-1).fit_predict(x_test)\n",
    "        t = datetime.datetime.now() - s\n",
    "        p, r, f, s = map(lambda x: x[0], precision_recall_fscore_support(y_test, y_pred, labels=[-1]))\n",
    "        # p = tp / (tp + fp)\n",
    "        a = roc_auc_score(y_test, y_pred)\n",
    "        if p + r + a > highest_score: highest_score = p + r + a; highest_score_c = c\n",
    "        \n",
    "        yp = np.array(y_pred)\n",
    "        yt = np.array(y_test)\n",
    "        \n",
    "        prediction = yp[np.where(yt == -1)]\n",
    "\n",
    "        tp = len(yp[np.where(prediction == -1)])\n",
    "        # fp through formula\n",
    "        fp = tp / p - tp\n",
    "        \n",
    "        # predicted true\n",
    "        positives = yp[np.where(yp == -1)]\n",
    "        print(f\"Finished trainning in {t} seconds\")\n",
    "        print(f\"contamination: {c} \\t tp: {tp}/support: {s}/predicted: {len(positives)} -> fp = {len(positives) - tp}\")\n",
    "        print(f\"AUC : {a:.1%} \\t precision: {p:.3} \\t recall: {r:.3} \\t f1: {f}\")\n",
    "        print(\"--------------------\")\n",
    "    return highest_score_c"
   ]
  },
  {
   "cell_type": "code",
   "execution_count": 4,
   "metadata": {},
   "outputs": [
    {
     "name": "stdout",
     "output_type": "stream",
     "text": [
      "Finished trainning in 0:12:38.481717 seconds\n",
      "contamination: 0.1 \t tp: 7282/support: 160132/predicted: 48153 -> fp = 40871\n",
      "AUC : 45.9% \t precision: 0.151 \t recall: 0.0455 \t f1: 0.06992342223395827\n",
      "--------------------\n",
      "Finished trainning in 0:12:39.043692 seconds\n",
      "contamination: 0.2 \t tp: 12461/support: 160132/predicted: 96306 -> fp = 83845\n",
      "AUC : 40.8% \t precision: 0.129 \t recall: 0.0778 \t f1: 0.09718528455221145\n",
      "--------------------\n",
      "Finished trainning in 0:12:38.488800 seconds\n",
      "contamination: 0.3 \t tp: 17647/support: 160132/predicted: 144458 -> fp = 126811\n",
      "AUC : 35.8% \t precision: 0.122 \t recall: 0.11 \t f1: 0.11587379756393841\n",
      "--------------------\n",
      "Finished trainning in 0:12:36.180096 seconds\n",
      "contamination: 0.4 \t tp: 23161/support: 160132/predicted: 192611 -> fp = 169450\n",
      "AUC : 30.9% \t precision: 0.12 \t recall: 0.145 \t f1: 0.13131940251117669\n",
      "--------------------\n",
      "Finished trainning in 0:12:35.131759 seconds\n",
      "contamination: 0.5 \t tp: 31059/support: 160132/predicted: 240763 -> fp = 209704\n",
      "AUC : 27.1% \t precision: 0.129 \t recall: 0.194 \t f1: 0.15494830317165342\n",
      "--------------------\n"
     ]
    },
    {
     "data": {
      "text/plain": [
       "0.1"
      ]
     },
     "execution_count": 4,
     "metadata": {},
     "output_type": "execute_result"
    }
   ],
   "source": [
    "contamination = [round(0.1 + 0.1*i, 2) for i in range(5)]\n",
    "c_max = cross_validation_lof(contamination)\n",
    "c_max"
   ]
  },
  {
   "cell_type": "code",
   "execution_count": 5,
   "metadata": {},
   "outputs": [
    {
     "name": "stdout",
     "output_type": "stream",
     "text": [
      "Finished trainning in 0:12:38.465320 seconds\n",
      "contamination: 0.01 \t tp: 1097/support: 160132/predicted: 4796 -> fp = 3699\n",
      "AUC : 49.8% \t precision: 0.229 \t recall: 0.00685 \t f1: 0.013302774544043463\n",
      "--------------------\n",
      "Finished trainning in 0:12:37.706760 seconds\n",
      "contamination: 0.02 \t tp: 1891/support: 160132/predicted: 9631 -> fp = 7740\n",
      "AUC : 49.4% \t precision: 0.196 \t recall: 0.0118 \t f1: 0.022278117139777218\n",
      "--------------------\n",
      "Finished trainning in 0:12:38.675098 seconds\n",
      "contamination: 0.03 \t tp: 3032/support: 160132/predicted: 14446 -> fp = 11414\n",
      "AUC : 49.2% \t precision: 0.21 \t recall: 0.0189 \t f1: 0.034735190001031056\n",
      "--------------------\n",
      "Finished trainning in 0:12:37.482743 seconds\n",
      "contamination: 0.04 \t tp: 3745/support: 160132/predicted: 19262 -> fp = 15517\n",
      "AUC : 48.8% \t precision: 0.194 \t recall: 0.0234 \t f1: 0.041751675083893554\n",
      "--------------------\n",
      "Finished trainning in 0:12:39.715872 seconds\n",
      "contamination: 0.05 \t tp: 4363/support: 160132/predicted: 24077 -> fp = 19714\n",
      "AUC : 48.3% \t precision: 0.181 \t recall: 0.0272 \t f1: 0.04737010678088475\n",
      "--------------------\n",
      "Finished trainning in 0:12:38.387344 seconds\n",
      "contamination: 0.06 \t tp: 5046/support: 160132/predicted: 28892 -> fp = 23846\n",
      "AUC : 47.9% \t precision: 0.175 \t recall: 0.0315 \t f1: 0.05339004570848146\n",
      "--------------------\n",
      "Finished trainning in 0:12:37.917837 seconds\n",
      "contamination: 0.07 \t tp: 5618/support: 160132/predicted: 33707 -> fp = 28089\n",
      "AUC : 47.4% \t precision: 0.167 \t recall: 0.0351 \t f1: 0.057965631271312774\n",
      "--------------------\n",
      "Finished trainning in 0:12:38.639050 seconds\n",
      "contamination: 0.08 \t tp: 6130/support: 160132/predicted: 38518 -> fp = 32388\n",
      "AUC : 46.9% \t precision: 0.159 \t recall: 0.0383 \t f1: 0.06171658696199346\n",
      "--------------------\n",
      "Finished trainning in 0:12:39.163874 seconds\n",
      "contamination: 0.09 \t tp: 6675/support: 160132/predicted: 43337 -> fp = 36662\n",
      "AUC : 46.4% \t precision: 0.154 \t recall: 0.0417 \t f1: 0.06561196054435811\n",
      "--------------------\n",
      "Finished trainning in 0:12:37.606220 seconds\n",
      "contamination: 0.1 \t tp: 7282/support: 160132/predicted: 48153 -> fp = 40871\n",
      "AUC : 45.9% \t precision: 0.151 \t recall: 0.0455 \t f1: 0.06992342223395827\n",
      "--------------------\n"
     ]
    },
    {
     "data": {
      "text/plain": [
       "0.01"
      ]
     },
     "execution_count": 5,
     "metadata": {},
     "output_type": "execute_result"
    }
   ],
   "source": [
    "contamination = [round(0.01 + 0.01*i, 2) for i in range(10)]\n",
    "c_max = cross_validation_lof(contamination)\n",
    "c_max"
   ]
  },
  {
   "cell_type": "code",
   "execution_count": null,
   "metadata": {},
   "outputs": [],
   "source": [
    "c_max = 0.3"
   ]
  },
  {
   "cell_type": "code",
   "execution_count": null,
   "metadata": {},
   "outputs": [],
   "source": [
    "contamination = [round(c_max-0.01 + 0.001*i, 3) for i in range(1,10)]\n",
    "c_max = cross_validation_lof(contamination)\n",
    "c_max"
   ]
  },
  {
   "cell_type": "code",
   "execution_count": null,
   "metadata": {},
   "outputs": [],
   "source": [
    "start = datetime.datetime.now()\n",
    "y_pred = LocalOutlierFactor(n_neighbors=100, metric='euclidean', algorithm = 'auto', contamination=0.5, n_jobs=-1).fit_predict(x_test)\n",
    "trainning_time = datetime.datetime.now() - start\n",
    "print(f\"trainning LOF in {trainning_time}\")\n",
    "cm = confusion_matrix(y_test, y_pred)\n",
    "plot_confusion_matrix(cm, \"confusion matrix\")\n",
    "print(classification_report(y_test, y_pred, target_names=['anomaly', 'normal']))\n",
    "print (\"AUC: \", \"{:.1%}\".format(roc_auc_score(y_test, y_pred)))"
   ]
  },
  {
   "cell_type": "code",
   "execution_count": null,
   "metadata": {},
   "outputs": [],
   "source": [
    "start = datetime.datetime.now()\n",
    "y_pred = LocalOutlierFactor(n_neighbors=100, metric='euclidean', algorithm = 'auto', contamination=c_max, n_jobs=-1).fit_predict(x_test)\n",
    "trainning_time = datetime.datetime.now() - start\n",
    "print(f\"trainning LOF in {trainning_time}\")\n",
    "cm = confusion_matrix(y_test, y_pred)\n",
    "plot_confusion_matrix(cm, \"confusion matrix\")\n",
    "print(classification_report(y_test, y_pred, target_names=['anomaly', 'normal']))\n",
    "print (\"AUC: \", \"{:.1%}\".format(roc_auc_score(y_test, y_pred)))"
   ]
  },
  {
   "cell_type": "markdown",
   "metadata": {},
   "source": [
    "# DBSCAN\n",
    "\n",
    "Tested parameters: \n",
    "* eps"
   ]
  },
  {
   "cell_type": "code",
   "execution_count": 4,
   "metadata": {},
   "outputs": [],
   "source": [
    "def cross_validation_dbscan(eps):\n",
    "    highest_score = 0\n",
    "    best_eps = 0\n",
    "    for e in eps:\n",
    "        s = datetime.datetime.now()\n",
    "        db = DBSCAN(eps=e, min_samples=10, metric='euclidean', algorithm = 'auto', n_jobs=-1).fit(x_test)\n",
    "        y_pred = [1 if i != -1 else i for i in db.labels_]\n",
    "        t = datetime.datetime.now() - s\n",
    "        p, r, f, s = map(lambda x: x[0], precision_recall_fscore_support(y_test, y_pred, labels=[-1]))\n",
    "        # p = tp / (tp + fp)\n",
    "        a = roc_auc_score(y_test, y_pred)\n",
    "        if p + r + a > highest_score: highest_score = p + r + a; best_eps = e\n",
    "        \n",
    "        yp = np.array(y_pred)\n",
    "        yt = np.array(y_test)\n",
    "        \n",
    "        prediction = yp[np.where(yt == -1)]\n",
    "\n",
    "        tp = len(yp[np.where(prediction == -1)])\n",
    "        print(tp)\n",
    "        # fp through formula\n",
    "        fp = tp / p - tp\n",
    "        \n",
    "        # predicted true\n",
    "        positives = yp[np.where(yp == -1)]\n",
    "        print(f\"Finished trainning in {t} seconds\")\n",
    "        print(f\"eps: {e} \\t tp: {tp}/support: {s}/predicted: {len(positives)} -> fp = {len(positives) - tp}\")\n",
    "        print(f\"AUC : {a:.1%} \\t precision: {p:.3} \\t recall: {r:.3} \\t f1: {f}\")\n",
    "        print(\"--------------------\")\n",
    "    return best_eps"
   ]
  },
  {
   "cell_type": "code",
   "execution_count": 5,
   "metadata": {},
   "outputs": [
    {
     "name": "stdout",
     "output_type": "stream",
     "text": [
      "7356\n",
      "Finished trainning in 0:00:10.389872 seconds\n",
      "eps: 0.1 \t tp: 7356/support: 25629/predicted: 31558 -> fp = 24202\n",
      "AUC : 17.3% \t precision: 0.233 \t recall: 0.287 \t f1: 0.25726126567226815\n",
      "--------------------\n",
      "7329\n",
      "Finished trainning in 0:00:10.046870 seconds\n",
      "eps: 0.2 \t tp: 7329/support: 25629/predicted: 31398 -> fp = 24069\n",
      "AUC : 17.5% \t precision: 0.233 \t recall: 0.286 \t f1: 0.2570361407754222\n",
      "--------------------\n",
      "7308\n",
      "Finished trainning in 0:00:09.777310 seconds\n",
      "eps: 0.3 \t tp: 7308/support: 25629/predicted: 31352 -> fp = 24044\n",
      "AUC : 17.5% \t precision: 0.233 \t recall: 0.285 \t f1: 0.2565065548165178\n",
      "--------------------\n",
      "7305\n",
      "Finished trainning in 0:00:09.676331 seconds\n",
      "eps: 0.4 \t tp: 7305/support: 25629/predicted: 31342 -> fp = 24037\n",
      "AUC : 17.5% \t precision: 0.233 \t recall: 0.285 \t f1: 0.2564462621333661\n",
      "--------------------\n",
      "7304\n",
      "Finished trainning in 0:00:09.760250 seconds\n",
      "eps: 0.5 \t tp: 7304/support: 25629/predicted: 31340 -> fp = 24036\n",
      "AUC : 17.5% \t precision: 0.233 \t recall: 0.285 \t f1: 0.25642015833172427\n",
      "--------------------\n"
     ]
    },
    {
     "data": {
      "text/plain": [
       "0.2"
      ]
     },
     "execution_count": 5,
     "metadata": {},
     "output_type": "execute_result"
    }
   ],
   "source": [
    "eps = [round(0.1 + 0.1*i, 1) for i in range(5)]\n",
    "e_max = cross_validation_dbscan(eps)\n",
    "e_max"
   ]
  },
  {
   "cell_type": "code",
   "execution_count": 6,
   "metadata": {},
   "outputs": [
    {
     "name": "stdout",
     "output_type": "stream",
     "text": [
      "7501\n",
      "Finished trainning in 0:00:09.013091 seconds\n",
      "eps: 0.01 \t tp: 7501/support: 25629/predicted: 32205 -> fp = 24704\n",
      "AUC : 16.6% \t precision: 0.233 \t recall: 0.293 \t f1: 0.25939758619497183\n",
      "--------------------\n",
      "7406\n",
      "Finished trainning in 0:00:09.318685 seconds\n",
      "eps: 0.02 \t tp: 7406/support: 25629/predicted: 31885 -> fp = 24479\n",
      "AUC : 16.9% \t precision: 0.232 \t recall: 0.289 \t f1: 0.2575372952672393\n",
      "--------------------\n",
      "7395\n",
      "Finished trainning in 0:00:09.035043 seconds\n",
      "eps: 0.03 \t tp: 7395/support: 25629/predicted: 31794 -> fp = 24399\n",
      "AUC : 17.0% \t precision: 0.233 \t recall: 0.289 \t f1: 0.2575623008202289\n",
      "--------------------\n",
      "7394\n",
      "Finished trainning in 0:00:08.981356 seconds\n",
      "eps: 0.04 \t tp: 7394/support: 25629/predicted: 31768 -> fp = 24374\n",
      "AUC : 17.1% \t precision: 0.233 \t recall: 0.289 \t f1: 0.25764412774186807\n",
      "--------------------\n",
      "7383\n",
      "Finished trainning in 0:00:09.088103 seconds\n",
      "eps: 0.05 \t tp: 7383/support: 25629/predicted: 31726 -> fp = 24343\n",
      "AUC : 17.1% \t precision: 0.233 \t recall: 0.288 \t f1: 0.25744921977159796\n",
      "--------------------\n",
      "7362\n",
      "Finished trainning in 0:00:09.267150 seconds\n",
      "eps: 0.06 \t tp: 7362/support: 25629/predicted: 31662 -> fp = 24300\n",
      "AUC : 17.1% \t precision: 0.233 \t recall: 0.287 \t f1: 0.2570037178614442\n",
      "--------------------\n",
      "7360\n",
      "Finished trainning in 0:00:09.050433 seconds\n",
      "eps: 0.07 \t tp: 7360/support: 25629/predicted: 31625 -> fp = 24265\n",
      "AUC : 17.2% \t precision: 0.233 \t recall: 0.287 \t f1: 0.25709994061550284\n",
      "--------------------\n",
      "7360\n",
      "Finished trainning in 0:00:09.148353 seconds\n",
      "eps: 0.08 \t tp: 7360/support: 25629/predicted: 31611 -> fp = 24251\n",
      "AUC : 17.2% \t precision: 0.233 \t recall: 0.287 \t f1: 0.25716282320055905\n",
      "--------------------\n",
      "7357\n",
      "Finished trainning in 0:00:09.084453 seconds\n",
      "eps: 0.09 \t tp: 7357/support: 25629/predicted: 31577 -> fp = 24220\n",
      "AUC : 17.3% \t precision: 0.233 \t recall: 0.287 \t f1: 0.2572107820857952\n",
      "--------------------\n",
      "7356\n",
      "Finished trainning in 0:00:08.975664 seconds\n",
      "eps: 0.1 \t tp: 7356/support: 25629/predicted: 31558 -> fp = 24202\n",
      "AUC : 17.3% \t precision: 0.233 \t recall: 0.287 \t f1: 0.25726126567226815\n",
      "--------------------\n"
     ]
    },
    {
     "data": {
      "text/plain": [
       "0.1"
      ]
     },
     "execution_count": 6,
     "metadata": {},
     "output_type": "execute_result"
    }
   ],
   "source": [
    "eps = [round(0.01 + 0.01*i, 2) for i in range(10)]\n",
    "e_max = cross_validation_dbscan(eps)\n",
    "e_max"
   ]
  },
  {
   "cell_type": "code",
   "execution_count": 7,
   "metadata": {},
   "outputs": [],
   "source": [
    "e_max = 0.03"
   ]
  },
  {
   "cell_type": "code",
   "execution_count": 10,
   "metadata": {},
   "outputs": [
    {
     "name": "stdout",
     "output_type": "stream",
     "text": [
      "7405\n",
      "Finished trainning in 0:00:09.241957 seconds\n",
      "eps: 0.021 \t tp: 7405/support: 25629/predicted: 31847 -> fp = 24442\n",
      "AUC : 17.0% \t precision: 0.233 \t recall: 0.289 \t f1: 0.25767276776393633\n",
      "--------------------\n",
      "7405\n",
      "Finished trainning in 0:00:09.003021 seconds\n",
      "eps: 0.022 \t tp: 7405/support: 25629/predicted: 31847 -> fp = 24442\n",
      "AUC : 17.0% \t precision: 0.233 \t recall: 0.289 \t f1: 0.25767276776393633\n",
      "--------------------\n",
      "7395\n",
      "Finished trainning in 0:00:09.005861 seconds\n",
      "eps: 0.023 \t tp: 7395/support: 25629/predicted: 31823 -> fp = 24428\n",
      "AUC : 17.0% \t precision: 0.232 \t recall: 0.289 \t f1: 0.2574322913040451\n",
      "--------------------\n",
      "7395\n",
      "Finished trainning in 0:00:09.004631 seconds\n",
      "eps: 0.024 \t tp: 7395/support: 25629/predicted: 31823 -> fp = 24428\n",
      "AUC : 17.0% \t precision: 0.232 \t recall: 0.289 \t f1: 0.2574322913040451\n",
      "--------------------\n",
      "7395\n",
      "Finished trainning in 0:00:09.034596 seconds\n",
      "eps: 0.025 \t tp: 7395/support: 25629/predicted: 31823 -> fp = 24428\n",
      "AUC : 17.0% \t precision: 0.232 \t recall: 0.289 \t f1: 0.2574322913040451\n",
      "--------------------\n",
      "7395\n",
      "Finished trainning in 0:00:09.292878 seconds\n",
      "eps: 0.026 \t tp: 7395/support: 25629/predicted: 31823 -> fp = 24428\n",
      "AUC : 17.0% \t precision: 0.232 \t recall: 0.289 \t f1: 0.2574322913040451\n",
      "--------------------\n",
      "7395\n",
      "Finished trainning in 0:00:09.029719 seconds\n",
      "eps: 0.027 \t tp: 7395/support: 25629/predicted: 31823 -> fp = 24428\n",
      "AUC : 17.0% \t precision: 0.232 \t recall: 0.289 \t f1: 0.2574322913040451\n",
      "--------------------\n",
      "7395\n",
      "Finished trainning in 0:00:09.021816 seconds\n",
      "eps: 0.028 \t tp: 7395/support: 25629/predicted: 31823 -> fp = 24428\n",
      "AUC : 17.0% \t precision: 0.232 \t recall: 0.289 \t f1: 0.2574322913040451\n",
      "--------------------\n",
      "7395\n",
      "Finished trainning in 0:00:08.984833 seconds\n",
      "eps: 0.029 \t tp: 7395/support: 25629/predicted: 31819 -> fp = 24424\n",
      "AUC : 17.0% \t precision: 0.232 \t recall: 0.289 \t f1: 0.257450215847375\n",
      "--------------------\n"
     ]
    },
    {
     "data": {
      "text/plain": [
       "0.021"
      ]
     },
     "execution_count": 10,
     "metadata": {},
     "output_type": "execute_result"
    }
   ],
   "source": [
    "eps = [round(e_max-0.01 + 0.001*i, 3) for i in range(1,10)]\n",
    "e_max = cross_validation_dbscan(eps)\n",
    "e_max"
   ]
  },
  {
   "cell_type": "code",
   "execution_count": 9,
   "metadata": {},
   "outputs": [
    {
     "name": "stdout",
     "output_type": "stream",
     "text": [
      "trainning dbscan in 0:00:09.019034\n",
      "              precision    recall  f1-score   support\n",
      "\n",
      "     anomaly       0.23      0.29      0.26     25629\n",
      "      normal       0.07      0.05      0.06     25734\n",
      "\n",
      "    accuracy                           0.17     51363\n",
      "   macro avg       0.15      0.17      0.16     51363\n",
      "weighted avg       0.15      0.17      0.16     51363\n",
      "\n",
      "AUC:  17.0%\n"
     ]
    },
    {
     "data": {
      "image/png": "[encoded data removed]",
      "text/plain": [
       "<Figure size 432x288 with 2 Axes>"
      ]
     },
     "metadata": {
      "needs_background": "light"
     },
     "output_type": "display_data"
    }
   ],
   "source": [
    "start = datetime.datetime.now()\n",
    "db = DBSCAN(eps=e_max, min_samples=10, metric='euclidean', algorithm = 'auto', n_jobs=-1).fit(x_test)\n",
    "y_pred = [1 if i != -1 else i for i in db.labels_]\n",
    "trainning_time = datetime.datetime.now() - start\n",
    "print(f\"trainning dbscan in {trainning_time}\")\n",
    "cm = confusion_matrix(y_test, y_pred)\n",
    "plot_confusion_matrix(cm, \"confusion matrix\")\n",
    "print(classification_report(y_test, y_pred, target_names=['anomaly', 'normal']))\n",
    "print (\"AUC: \", \"{:.1%}\".format(roc_auc_score(y_test, y_pred)))"
   ]
  },
  {
   "cell_type": "code",
   "execution_count": null,
   "metadata": {},
   "outputs": [],
   "source": []
  }
 ],
 "metadata": {
  "kernelspec": {
   "display_name": "Python 3",
   "language": "python",
   "name": "python3"
  },
  "language_info": {
   "codemirror_mode": {
    "name": "ipython",
    "version": 3
   },
   "file_extension": ".py",
   "mimetype": "text/x-python",
   "name": "python",
   "nbconvert_exporter": "python",
   "pygments_lexer": "ipython3",
   "version": "3.8.5"
  }
 },
 "nbformat": 4,
 "nbformat_minor": 4
}
