{
 "cells": [
  {
   "cell_type": "code",
   "execution_count": 1,
   "metadata": {},
   "outputs": [],
   "source": [
    "from imports import *"
   ]
  },
  {
   "cell_type": "code",
   "execution_count": 3,
   "metadata": {},
   "outputs": [
    {
     "name": "stdout",
     "output_type": "stream",
     "text": [
      "anomaly rate is 9.1%\n"
     ]
    }
   ],
   "source": [
    "# sf = datasets.fetch_kddcup99(subset='SF', random_state=0, percent10=False)\n",
    "# dfsf = pd.DataFrame(sf.data, columns=sf_columns)\n",
    "df = pd.read_csv('kddcup.data', delimiter=',')\n",
    "df.columns = sa_columns + [\"target\"]\n",
    "\n",
    "df_normal = df[df[\"target\"]== 'normal.']\n",
    "df_attacks = df[df[\"target\"]!= 'normal.']\n",
    "\n",
    "target_anomaly_rate = 0.1\n",
    "df_attacks = df_attacks.sample(n = int(len(df_normal)*target_anomaly_rate), random_state=1)\n",
    "\n",
    "df_train = df_normal.append(df_attacks)\n",
    "anomaly_rate = 1.0 - len(df_train.loc[df_train[\"target\"]=='normal.'])/len(df_train)\n",
    "print(f\"anomaly rate is {anomaly_rate:.1%}\")\n",
    "\n",
    "df_train['binary_target'] = [1 if x=='normal.' else -1 for x in df_train[\"target\"]]\n",
    "df_train = df_train.sample(frac=1, random_state=2)\n",
    "toDecode = [\"protocol_type\", \"service\", \"flag\", \"target\"]\n",
    "leSF = preprocessing.LabelEncoder()\n",
    "for f in toDecode:\n",
    "    df_train[f] = leSF.fit_transform(df_train[f])\n",
    "\n",
    "x_train, x_test, y_train, y_test = train_test_split(df_train.drop([\"target\", 'binary_target'], axis=1), df_train['binary_target'], test_size=0.33, random_state=0)\n",
    "results = []"
   ]
  },
  {
   "cell_type": "code",
   "execution_count": 7,
   "metadata": {},
   "outputs": [],
   "source": [
    "def cross_validation(contamination):\n",
    "    highest_score = 0\n",
    "    highest_score_c = 0\n",
    "    #print(\"array:\", contamination)\n",
    "    for c in contamination:\n",
    "        y_pred = IsolationForest(random_state=1, n_jobs=-1, max_samples=0.25, n_estimators=100, contamination=c).fit(x_train).predict(x_test)\n",
    "        p, r, f, s = map(lambda x: x[0], precision_recall_fscore_support(y_test, y_pred, labels=[-1]))\n",
    "        if p + r > highest_score: highest_score = p+r; highest_score_c = c\n",
    "        fp = s / p - s\n",
    "        print(f\"contamination: {c}, AUC : {roc_auc_score(y_test, y_pred):.1}, precision: {p}, support: {s}, recall: {r}, fp: {int(round(fp, 0))}\")\n",
    "    return highest_score_c"
   ]
  },
  {
   "cell_type": "code",
   "execution_count": 9,
   "metadata": {},
   "outputs": [
    {
     "name": "stdout",
     "output_type": "stream",
     "text": [
      "contamination: 0.01, AUC : 0.5, precision: 0.38575498575498574, support: 32011, recall: 0.0422979600762238, fp: 50972\n",
      "contamination: 0.02, AUC : 0.5, precision: 0.39752348420153716, support: 32011, recall: 0.08725125738027553, fp: 48515\n",
      "contamination: 0.03, AUC : 0.6, precision: 0.3755014460304133, support: 32011, recall: 0.12573802755302865, fp: 53238\n",
      "contamination: 0.04, AUC : 0.6, precision: 0.381508584294962, support: 32011, recall: 0.16937927587391835, fp: 51895\n",
      "contamination: 0.05, AUC : 0.6, precision: 0.37067890740111076, support: 32011, recall: 0.2043360094967355, fp: 54347\n",
      "contamination: 0.06, AUC : 0.6, precision: 0.37634968744080316, support: 32011, recall: 0.2482584111711599, fp: 53046\n",
      "contamination: 0.07, AUC : 0.6, precision: 0.3729690108726636, support: 32011, recall: 0.2861203961138359, fp: 53817\n",
      "contamination: 0.08, AUC : 0.6, precision: 0.3655368234250222, support: 32011, recall: 0.32173315422823406, fp: 55562\n",
      "contamination: 0.09, AUC : 0.6, precision: 0.34232896192131457, support: 32011, recall: 0.33841491987129424, fp: 61498\n",
      "contamination: 0.1, AUC : 0.6, precision: 0.3086433821434676, support: 32011, recall: 0.3384461591327981, fp: 71704\n"
     ]
    },
    {
     "data": {
      "text/plain": [
       "0.08"
      ]
     },
     "execution_count": 9,
     "metadata": {},
     "output_type": "execute_result"
    }
   ],
   "source": [
    "contamination = [round(0.01 + 0.01*i, 2) for i in range(10)]\n",
    "c_max = cross_validation(contamination)\n",
    "c_max"
   ]
  },
  {
   "cell_type": "code",
   "execution_count": 10,
   "metadata": {},
   "outputs": [
    {
     "name": "stdout",
     "output_type": "stream",
     "text": [
      "contamination: 0.1, AUC : 0.6, precision: 0.3086433821434676, support: 32011, recall: 0.3384461591327981, fp: 71704\n",
      "contamination: 0.2, AUC : 0.7, precision: 0.22933344628460897, support: 32011, recall: 0.5074193246071663, fp: 107572\n",
      "contamination: 0.3, AUC : 0.9, precision: 0.3008392936023835, support: 32011, recall: 0.9999375214769923, fp: 74395\n",
      "contamination: 0.4, AUC : 0.8, precision: 0.22606478767805313, support: 32011, recall: 1.0, fp: 109590\n",
      "contamination: 0.5, AUC : 0.8, precision: 0.18133564456831455, support: 32011, recall: 1.0, fp: 144518\n",
      "contamination: 0.6, AUC : 0.7, precision: 0.1506619789239842, support: 32011, recall: 1.0, fp: 180458\n"
     ]
    },
    {
     "data": {
      "text/plain": [
       "0.3"
      ]
     },
     "execution_count": 10,
     "metadata": {},
     "output_type": "execute_result"
    }
   ],
   "source": [
    "contamination = [round(0.1*i, 1) for i in range(1, 7)]\n",
    "c_max = cross_validation(contamination)\n",
    "c_max"
   ]
  },
  {
   "cell_type": "code",
   "execution_count": 11,
   "metadata": {},
   "outputs": [
    {
     "name": "stdout",
     "output_type": "stream",
     "text": [
      "contamination: 0.2, AUC : 0.7, precision: 0.22933344628460897, support: 32011, recall: 0.5074193246071663, fp: 107572\n",
      "contamination: 0.21, AUC : 0.7, precision: 0.22339416108582352, support: 32011, recall: 0.507481803130174, fp: 111283\n",
      "contamination: 0.22, AUC : 0.7, precision: 0.22339416108582352, support: 32011, recall: 0.507481803130174, fp: 111283\n",
      "contamination: 0.23, AUC : 0.7, precision: 0.22339416108582352, support: 32011, recall: 0.507481803130174, fp: 111283\n",
      "contamination: 0.24, AUC : 0.7, precision: 0.22339416108582352, support: 32011, recall: 0.507481803130174, fp: 111283\n",
      "contamination: 0.25, AUC : 0.9, precision: 0.361494499536922, support: 32011, recall: 0.9998438036924807, fp: 56541\n",
      "contamination: 0.26, AUC : 0.9, precision: 0.34737778935486674, support: 32011, recall: 0.9998438036924807, fp: 60139\n",
      "contamination: 0.27, AUC : 0.9, precision: 0.33392801251956183, support: 32011, recall: 0.9998750429539845, fp: 63851\n",
      "contamination: 0.28, AUC : 0.9, precision: 0.32229707277286046, support: 32011, recall: 0.9998750429539845, fp: 67310\n",
      "contamination: 0.29, AUC : 0.9, precision: 0.3113594801758686, support: 32011, recall: 0.9999375214769923, fp: 70799\n",
      "contamination: 0.3, AUC : 0.9, precision: 0.3008392936023835, support: 32011, recall: 0.9999375214769923, fp: 74395\n"
     ]
    },
    {
     "data": {
      "text/plain": [
       "0.25"
      ]
     },
     "execution_count": 11,
     "metadata": {},
     "output_type": "execute_result"
    }
   ],
   "source": [
    "contamination = [round(c_max - 0.1 + 0.01*i, 2) for i in range(11)]\n",
    "c_max = cross_validation(contamination)\n",
    "c_max"
   ]
  },
  {
   "cell_type": "code",
   "execution_count": 4,
   "metadata": {},
   "outputs": [
    {
     "name": "stdout",
     "output_type": "stream",
     "text": [
      "AUC: 91.2%\n",
      "              precision    recall  f1-score   support\n",
      "\n",
      "          -1       0.36      1.00      0.53     32011\n",
      "           1       1.00      0.82      0.90    321109\n",
      "\n",
      "    accuracy                           0.84    353120\n",
      "   macro avg       0.68      0.91      0.72    353120\n",
      "weighted avg       0.94      0.84      0.87    353120\n",
      "\n"
     ]
    },
    {
     "data": {
      "image/png": "[encoded data removed]",
      "text/plain": [
       "<Figure size 432x288 with 2 Axes>"
      ]
     },
     "metadata": {
      "needs_background": "light"
     },
     "output_type": "display_data"
    }
   ],
   "source": [
    "y_pred = IsolationForest(random_state=1, n_jobs=-1, max_samples=0.25, n_estimators=100, contamination=0.25).fit(x_train).predict(x_test)\n",
    "cm_if = confusion_matrix(y_test, y_pred)\n",
    "print(f\"AUC: {roc_auc_score(y_test, y_pred):.1%}\")\n",
    "print(classification_report(y_test, y_pred))\n",
    "plot_confusion_matrix(cm_if, f\"Confusion matrix for If with c = {0.52}\")"
   ]
  },
  {
   "cell_type": "markdown",
   "metadata": {},
   "source": [
    "## Experiment with slight variation in anomaly rate\n",
    "By increasing the amount of malicious data trained for our model, we can expect to reduce the fp/tp ratio and thus, "
   ]
  },
  {
   "cell_type": "code",
   "execution_count": 5,
   "metadata": {},
   "outputs": [
    {
     "name": "stdout",
     "output_type": "stream",
     "text": [
      "anomaly rate is 16.7%\n"
     ]
    }
   ],
   "source": [
    "# sf = datasets.fetch_kddcup99(subset='SF', random_state=0, percent10=False)\n",
    "# dfsf = pd.DataFrame(sf.data, columns=sf_columns)\n",
    "df = pd.read_csv('kddcup.data', delimiter=',')\n",
    "df.columns = sa_columns + [\"target\"]\n",
    "\n",
    "df_normal = df[df[\"target\"]== 'normal.']\n",
    "df_attacks = df[df[\"target\"]!= 'normal.']\n",
    "\n",
    "target_anomaly_rate = 0.2\n",
    "df_attacks = df_attacks.sample(n = int(len(df_normal)*target_anomaly_rate), random_state=1)\n",
    "\n",
    "df_train = df_normal.append(df_attacks)\n",
    "anomaly_rate = 1.0 - len(df_train.loc[df_train[\"target\"]=='normal.'])/len(df_train)\n",
    "print(f\"anomaly rate is {anomaly_rate:.1%}\")\n",
    "\n",
    "df_train['binary_target'] = [1 if x=='normal.' else -1 for x in df_train[\"target\"]]\n",
    "df_train = df_train.sample(frac=1, random_state=2)\n",
    "toDecode = [\"protocol_type\", \"service\", \"flag\", \"target\"]\n",
    "leSF = preprocessing.LabelEncoder()\n",
    "for f in toDecode:\n",
    "    df_train[f] = leSF.fit_transform(df_train[f])\n",
    "\n",
    "x_train, x_test, y_train, y_test = train_test_split(df_train.drop([\"target\", 'binary_target'], axis=1), df_train['binary_target'], test_size=0.33, random_state=0)\n",
    "results = []"
   ]
  },
  {
   "cell_type": "code",
   "execution_count": null,
   "metadata": {},
   "outputs": [
    {
     "name": "stdout",
     "output_type": "stream",
     "text": [
      "contamination: 0.1, AUC : 0.5, precision: 0.28236776466352953, support: 63899, recall: 0.17184932471556674, fp: 162398\n",
      "contamination: 0.2, AUC : 0.6, precision: 0.2810085767717805, support: 63899, recall: 0.34097560212209893, fp: 163493\n",
      "contamination: 0.3, AUC : 0.6, precision: 0.24821299352265305, support: 63899, recall: 0.44017903253572044, fp: 193537\n"
     ]
    }
   ],
   "source": [
    "contamination = [round(0.1*i, 1) for i in range(1, 7)]\n",
    "c_max = cross_validation(contamination)\n",
    "c_max"
   ]
  },
  {
   "cell_type": "code",
   "execution_count": null,
   "metadata": {},
   "outputs": [],
   "source": []
  }
 ],
 "metadata": {
  "kernelspec": {
   "display_name": "Python 3",
   "language": "python",
   "name": "python3"
  },
  "language_info": {
   "codemirror_mode": {
    "name": "ipython",
    "version": 3
   },
   "file_extension": ".py",
   "mimetype": "text/x-python",
   "name": "python",
   "nbconvert_exporter": "python",
   "pygments_lexer": "ipython3",
   "version": "3.8.5"
  }
 },
 "nbformat": 4,
 "nbformat_minor": 4
}
