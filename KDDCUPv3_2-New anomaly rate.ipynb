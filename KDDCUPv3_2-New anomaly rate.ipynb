{
 "cells": [
  {
   "cell_type": "code",
   "execution_count": 1,
   "metadata": {},
   "outputs": [],
   "source": [
    "from imports import *"
   ]
  },
  {
   "cell_type": "markdown",
   "metadata": {},
   "source": [
    "# Fetch dataset"
   ]
  },
  {
   "cell_type": "code",
   "execution_count": 2,
   "metadata": {},
   "outputs": [
    {
     "name": "stdout",
     "output_type": "stream",
     "text": [
      "anomaly rate is 9.1% out of 1070058 records (97278)\n"
     ]
    }
   ],
   "source": [
    "target_anomaly_rate = 0.1\n",
    "\n",
    "df = pd.read_csv('kddcup.data', delimiter=',')\n",
    "df.columns = sa_columns + [\"target\"]\n",
    "df_normal = df[df[\"target\"]== 'normal.']\n",
    "n_records = int(np.ceil(len(df_normal)*target_anomaly_rate))\n",
    "\n",
    "df = df_normal.append(df[df[\"target\"]!= 'normal.'].sample(n = n_records, random_state=1))\n",
    "anomaly_rate = 1.0 - len(df.loc[df[\"target\"]=='normal.'])/len(df)\n",
    "print(f\"anomaly rate is {anomaly_rate:.1%} out of {len(df)} records ({n_records})\")\n",
    "\n",
    "df['binary_target'] = [1 if x=='normal.' else -1 for x in df[\"target\"]]\n",
    "df = df.sample(frac=1, random_state=2)\n",
    "toDecode = [\"protocol_type\", \"service\", \"flag\", \"target\"]\n",
    "leSF = preprocessing.LabelEncoder()\n",
    "for f in toDecode:\n",
    "    df[f] = leSF.fit_transform(df[f])\n",
    "\n",
    "x_train, x_test, y_train, y_test = train_test_split(df.drop([\"target\", 'binary_target'], axis=1), df['binary_target'], test_size=0.33, random_state=0)\n",
    "results = []"
   ]
  },
  {
   "cell_type": "markdown",
   "metadata": {},
   "source": [
    "Just like with sklearn SA dataset, we selected all of the 'normal' data with a small portion of outliers to reach our target anomaly rate"
   ]
  },
  {
   "cell_type": "markdown",
   "metadata": {},
   "source": [
    "# Cross-validation for Isolation Forest"
   ]
  },
  {
   "cell_type": "code",
   "execution_count": 3,
   "metadata": {},
   "outputs": [],
   "source": [
    "def cross_validation(contamination):\n",
    "    highest_score = 0\n",
    "    highest_score_c = 0\n",
    "    for c in contamination:\n",
    "        s = datetime.datetime.now()\n",
    "        y_pred = IsolationForest(random_state=1, n_jobs=-1, max_samples=0.25, n_estimators=100, contamination=c).fit(x_train).predict(x_test)\n",
    "        t = datetime.datetime.now() - s\n",
    "        p, r, f, s = map(lambda x: x[0], precision_recall_fscore_support(y_test, y_pred, labels=[-1]))\n",
    "        # p = tp / (tp + fp)\n",
    "        a = roc_auc_score(y_test, y_pred)\n",
    "        if p + r + a > highest_score: highest_score = p + r + a; highest_score_c = c\n",
    "        \n",
    "        yp = np.array(y_pred)\n",
    "        yt = np.array(y_test)\n",
    "        \n",
    "        prediction = yp[np.where(yt == -1)]\n",
    "\n",
    "        tp = len(yp[np.where(prediction == -1)])\n",
    "        print(tp)\n",
    "        fp = tp / p - tp\n",
    "        \n",
    "        # predicted true\n",
    "        positives = yp[np.where(yp == -1)]\n",
    "        print(f\"{len(positives)} ({tp}) -> fp = {len(positives) - tp}/{fp}\")\n",
    "        print(f\"AUC : {a:.1%} \\t precision: {p:.3} \\t recall: {r:.3} \\t f1: {f}\")\n",
    "        print(\"--------------------\")\n",
    "    return highest_score_c"
   ]
  },
  {
   "cell_type": "code",
   "execution_count": 4,
   "metadata": {},
   "outputs": [
    {
     "name": "stdout",
     "output_type": "stream",
     "text": [
      "{1, -1}\n"
     ]
    }
   ],
   "source": [
    "print(set(np.array(y_test)))"
   ]
  },
  {
   "cell_type": "code",
   "execution_count": 5,
   "metadata": {},
   "outputs": [
    {
     "name": "stdout",
     "output_type": "stream",
     "text": [
      "1354\n",
      "contamination: 0.01 \t tp: 1354/32011 -> fp = 30657\n",
      "AUC : 51.8% \t precision: 0.386 \t recall: 0.0423 \t f1: 0.07623659243827595\n",
      "--------------------\n"
     ]
    },
    {
     "data": {
      "text/plain": [
       "0.01"
      ]
     },
     "execution_count": 5,
     "metadata": {},
     "output_type": "execute_result"
    }
   ],
   "source": [
    "contamination = [0.01]\n",
    "c_max = cross_validation(contamination)\n",
    "c_max"
   ]
  },
  {
   "cell_type": "code",
   "execution_count": 6,
   "metadata": {},
   "outputs": [
    {
     "name": "stdout",
     "output_type": "stream",
     "text": [
      "1354\n",
      "contamination: 0.01 \t tp: 1354/32011 -> fp = 30657\n",
      "AUC : 51.8% \t precision: 0.386 \t recall: 0.0423 \t f1: 0.07623659243827595\n",
      "--------------------\n",
      "2793\n",
      "contamination: 0.02 \t tp: 2793/32011 -> fp = 29218\n",
      "AUC : 53.7% \t precision: 0.398 \t recall: 0.0873 \t f1: 0.1430950124241105\n",
      "--------------------\n",
      "4025\n",
      "contamination: 0.03 \t tp: 4025/32011 -> fp = 27986\n",
      "AUC : 55.2% \t precision: 0.376 \t recall: 0.126 \t f1: 0.1883922302831734\n",
      "--------------------\n",
      "5422\n",
      "contamination: 0.04 \t tp: 5422/32011 -> fp = 26589\n",
      "AUC : 57.1% \t precision: 0.382 \t recall: 0.169 \t f1: 0.2346018216039634\n",
      "--------------------\n",
      "6541\n",
      "contamination: 0.05 \t tp: 6541/32011 -> fp = 25470\n",
      "AUC : 58.5% \t precision: 0.371 \t recall: 0.204 \t f1: 0.2634472481221177\n",
      "--------------------\n",
      "7947\n",
      "contamination: 0.06 \t tp: 7947/32011 -> fp = 24064\n",
      "AUC : 60.4% \t precision: 0.376 \t recall: 0.248 \t f1: 0.29916991360325257\n",
      "--------------------\n",
      "9159\n",
      "contamination: 0.07 \t tp: 9159/32011 -> fp = 22852\n",
      "AUC : 61.9% \t precision: 0.373 \t recall: 0.286 \t f1: 0.32382265591854054\n",
      "--------------------\n",
      "10299\n",
      "contamination: 0.08 \t tp: 10299/32011 -> fp = 21712\n",
      "AUC : 63.3% \t precision: 0.366 \t recall: 0.322 \t f1: 0.34223905891735623\n",
      "--------------------\n",
      "10833\n",
      "contamination: 0.09 \t tp: 10833/32011 -> fp = 21178\n",
      "AUC : 63.7% \t precision: 0.342 \t recall: 0.338 \t f1: 0.340360688701772\n",
      "--------------------\n",
      "10834\n",
      "contamination: 0.1 \t tp: 10834/32011 -> fp = 21177\n",
      "AUC : 63.1% \t precision: 0.309 \t recall: 0.338 \t f1: 0.32285846259294027\n",
      "--------------------\n"
     ]
    },
    {
     "data": {
      "text/plain": [
       "0.08"
      ]
     },
     "execution_count": 6,
     "metadata": {},
     "output_type": "execute_result"
    }
   ],
   "source": [
    "contamination = [round(0.01 + 0.01*i, 2) for i in range(10)]\n",
    "c_max = cross_validation(contamination)\n",
    "c_max"
   ]
  },
  {
   "cell_type": "code",
   "execution_count": 7,
   "metadata": {},
   "outputs": [
    {
     "name": "stdout",
     "output_type": "stream",
     "text": [
      "10834\n",
      "contamination: 0.1 \t tp: 10834/32011 -> fp = 21177\n",
      "AUC : 63.1% \t precision: 0.309 \t recall: 0.338 \t f1: 0.32285846259294027\n",
      "--------------------\n",
      "16243\n",
      "contamination: 0.2 \t tp: 16243/32011 -> fp = 15768\n",
      "AUC : 66.9% \t precision: 0.229 \t recall: 0.507 \t f1: 0.31589490266243997\n",
      "--------------------\n",
      "32009\n",
      "contamination: 0.3 \t tp: 32009/32011 -> fp = 2\n",
      "AUC : 88.4% \t precision: 0.301 \t recall: 1.0 \t f1: 0.4625243840762951\n",
      "--------------------\n",
      "32011\n",
      "contamination: 0.4 \t tp: 32011/32011 -> fp = 0\n",
      "AUC : 82.9% \t precision: 0.226 \t recall: 1.0 \t f1: 0.36876483192406057\n",
      "--------------------\n",
      "32011\n",
      "contamination: 0.5 \t tp: 32011/32011 -> fp = 0\n",
      "AUC : 77.5% \t precision: 0.181 \t recall: 1.0 \t f1: 0.3070010549534861\n",
      "--------------------\n",
      "32011\n",
      "contamination: 0.6 \t tp: 32011/32011 -> fp = 0\n",
      "AUC : 71.9% \t precision: 0.151 \t recall: 1.0 \t f1: 0.26187009162303665\n",
      "--------------------\n"
     ]
    },
    {
     "data": {
      "text/plain": [
       "0.3"
      ]
     },
     "execution_count": 7,
     "metadata": {},
     "output_type": "execute_result"
    }
   ],
   "source": [
    "contamination = [round(0.1*i, 1) for i in range(1, 7)]\n",
    "c_max_2 = cross_validation(contamination)\n",
    "c_max_2"
   ]
  },
  {
   "cell_type": "code",
   "execution_count": 8,
   "metadata": {},
   "outputs": [],
   "source": [
    "c_max = c_max_2 if c_max_2 > c_max else c_max"
   ]
  },
  {
   "cell_type": "code",
   "execution_count": 9,
   "metadata": {},
   "outputs": [
    {
     "name": "stdout",
     "output_type": "stream",
     "text": [
      "16243\n",
      "contamination: 0.2 \t tp: 16243/32011 -> fp = 15768\n",
      "AUC : 66.9% \t precision: 0.229 \t recall: 0.507 \t f1: 0.31589490266243997\n",
      "--------------------\n",
      "16245\n",
      "contamination: 0.21 \t tp: 16245/32011 -> fp = 15766\n",
      "AUC : 66.6% \t precision: 0.223 \t recall: 0.507 \t f1: 0.31022629619020337\n",
      "--------------------\n",
      "16245\n",
      "contamination: 0.22 \t tp: 16245/32011 -> fp = 15766\n",
      "AUC : 66.6% \t precision: 0.223 \t recall: 0.507 \t f1: 0.31022629619020337\n",
      "--------------------\n",
      "16245\n",
      "contamination: 0.23 \t tp: 16245/32011 -> fp = 15766\n",
      "AUC : 66.6% \t precision: 0.223 \t recall: 0.507 \t f1: 0.31022629619020337\n",
      "--------------------\n",
      "16245\n",
      "contamination: 0.24 \t tp: 16245/32011 -> fp = 15766\n",
      "AUC : 66.6% \t precision: 0.223 \t recall: 0.507 \t f1: 0.31022629619020337\n",
      "--------------------\n",
      "32006\n",
      "contamination: 0.25 \t tp: 32006/32011 -> fp = 5\n",
      "AUC : 91.2% \t precision: 0.361 \t recall: 1.0 \t f1: 0.5310039900787232\n",
      "--------------------\n",
      "32006\n",
      "contamination: 0.26 \t tp: 32006/32011 -> fp = 5\n",
      "AUC : 90.6% \t precision: 0.347 \t recall: 1.0 \t f1: 0.5156145537145481\n",
      "--------------------\n",
      "32007\n",
      "contamination: 0.27 \t tp: 32007/32011 -> fp = 4\n",
      "AUC : 90.1% \t precision: 0.334 \t recall: 1.0 \t f1: 0.5006530529246604\n",
      "--------------------\n",
      "32007\n",
      "contamination: 0.28 \t tp: 32007/32011 -> fp = 4\n",
      "AUC : 89.5% \t precision: 0.322 \t recall: 1.0 \t f1: 0.48746573256168135\n",
      "--------------------\n",
      "32009\n",
      "contamination: 0.29 \t tp: 32009/32011 -> fp = 2\n",
      "AUC : 89.0% \t precision: 0.311 \t recall: 1.0 \t f1: 0.4748581389311278\n",
      "--------------------\n",
      "32009\n",
      "contamination: 0.3 \t tp: 32009/32011 -> fp = 2\n",
      "AUC : 88.4% \t precision: 0.301 \t recall: 1.0 \t f1: 0.4625243840762951\n",
      "--------------------\n"
     ]
    },
    {
     "data": {
      "text/plain": [
       "0.25"
      ]
     },
     "execution_count": 9,
     "metadata": {},
     "output_type": "execute_result"
    }
   ],
   "source": [
    "contamination = [round(c_max - 0.1 + 0.01*i, 2) for i in range(11)]\n",
    "c_max = cross_validation(contamination)\n",
    "c_max"
   ]
  },
  {
   "cell_type": "code",
   "execution_count": 10,
   "metadata": {},
   "outputs": [
    {
     "name": "stdout",
     "output_type": "stream",
     "text": [
      "AUC: 91.2%\n",
      "              precision    recall  f1-score   support\n",
      "\n",
      "          -1       0.36      1.00      0.53     32011\n",
      "           1       1.00      0.82      0.90    321109\n",
      "\n",
      "    accuracy                           0.84    353120\n",
      "   macro avg       0.68      0.91      0.72    353120\n",
      "weighted avg       0.94      0.84      0.87    353120\n",
      "\n"
     ]
    },
    {
     "data": {
      "image/png": "[encoded data removed]",
      "text/plain": [
       "<Figure size 432x288 with 2 Axes>"
      ]
     },
     "metadata": {
      "needs_background": "light"
     },
     "output_type": "display_data"
    }
   ],
   "source": [
    "s = datetime.datetime.now()\n",
    "y_pred = IsolationForest(random_state=1, n_jobs=-1, max_samples=0.25, n_estimators=100, contamination=c_max).fit(x_train).predict(x_test)\n",
    "t = datetime.datetime.now()\n",
    "cm_if = confusion_matrix(y_test, y_pred)\n",
    "print(f\"trained isolation forest in: {t}\")\n",
    "print(f\"AUC: {roc_auc_score(y_test, y_pred):.1%}\")\n",
    "print(classification_report(y_test, y_pred))\n",
    "plot_confusion_matrix(cm_if, f\"Confusion matrix for If with c = {c_max}\")"
   ]
  },
  {
   "cell_type": "markdown",
   "metadata": {},
   "source": [
    "## Cross validation for LOF "
   ]
  },
  {
   "cell_type": "code",
   "execution_count": 9,
   "metadata": {},
   "outputs": [],
   "source": [
    "def cross_validation_lof(contamination):\n",
    "    highest_score = 0\n",
    "    highest_score_c = 0\n",
    "    #print(\"array:\", contamination)\n",
    "    for c in contamination:\n",
    "        s = datetime.datetime.now()\n",
    "        y_pred = LocalOutlierFactor(n_neighbors=100, metric='euclidean', algorithm = 'auto', contamination=c, n_jobs=-1).fit_predict(x_test)\n",
    "        t = datetime.datetime.now() - s\n",
    "        p, r, f, s = map(lambda x: x[0], precision_recall_fscore_support(y_test, y_pred, labels=[-1]))\n",
    "        # p = tp / (tp + fp)\n",
    "        a = roc_auc_score(y_test, y_pred)\n",
    "        if p + r + a > highest_score: highest_score = p + r + a; highest_score_c = c\n",
    "        \n",
    "        yp = np.array(y_pred)\n",
    "        yt = np.array(y_test)\n",
    "        \n",
    "        prediction = yp[np.where(yt == -1)]\n",
    "\n",
    "        tp = len(yp[np.where(prediction == -1)])\n",
    "        # fp through formula\n",
    "        fp = tp / p - tp\n",
    "        \n",
    "        # predicted true\n",
    "        positives = yp[np.where(yp == -1)]\n",
    "        print(f\"{len(positives)} ({tp}) -> fp = {len(positives) - tp}/{fp}\")\n",
    "        \n",
    "        print(f\"contamination: {c} \\t tp: {tp}/{s} -> fp = {fp}\")\n",
    "        print(f\"AUC : {a:.1%} \\t precision: {p:.3} \\t recall: {r:.3} \\t f1: {f}\")\n",
    "        print(\"--------------------\")\n",
    "    return highest_score_c"
   ]
  },
  {
   "cell_type": "code",
   "execution_count": 10,
   "metadata": {},
   "outputs": [
    {
     "name": "stdout",
     "output_type": "stream",
     "text": [
      "35312 (1489) -> fp = 33823/33823.0\n",
      "contamination: 0.1 \t tp: 1489/32011 -> fp = 33823.0\n",
      "AUC : 47.1% \t precision: 0.0422 \t recall: 0.0465 \t f1: 0.044234511236872984\n",
      "--------------------\n",
      "70624 (2982) -> fp = 67642/67642.0\n",
      "contamination: 0.2 \t tp: 2982/32011 -> fp = 67642.0\n",
      "AUC : 44.1% \t precision: 0.0422 \t recall: 0.0932 \t f1: 0.05810883226969357\n",
      "--------------------\n",
      "105936 (4495) -> fp = 101441/101441.0\n",
      "contamination: 0.3 \t tp: 4495/32011 -> fp = 101441.0\n",
      "AUC : 41.2% \t precision: 0.0424 \t recall: 0.14 \t f1: 0.06516995657752615\n",
      "--------------------\n",
      "141248 (5412) -> fp = 135836/135836.0\n",
      "contamination: 0.4 \t tp: 5412/32011 -> fp = 135836.0\n",
      "AUC : 37.3% \t precision: 0.0383 \t recall: 0.169 \t f1: 0.06247294512839159\n",
      "--------------------\n",
      "176560 (6244) -> fp = 170316/170316.00000000003\n",
      "contamination: 0.5 \t tp: 6244/32011 -> fp = 170316.00000000003\n",
      "AUC : 33.2% \t precision: 0.0354 \t recall: 0.195 \t f1: 0.059874095631703345\n",
      "--------------------\n"
     ]
    },
    {
     "data": {
      "text/plain": [
       "0.3"
      ]
     },
     "execution_count": 10,
     "metadata": {},
     "output_type": "execute_result"
    }
   ],
   "source": [
    "contamination = [round(0.1 + 0.1*i, 2) for i in range(5)]\n",
    "c_max = cross_validation_lof(contamination)\n",
    "c_max"
   ]
  },
  {
   "cell_type": "code",
   "execution_count": null,
   "metadata": {},
   "outputs": [
    {
     "name": "stdout",
     "output_type": "stream",
     "text": [
      "3489 (218) -> fp = 3271/3271.0\n",
      "contamination: 0.01 \t tp: 218/32011 -> fp = 3271.0\n",
      "AUC : 49.8% \t precision: 0.0625 \t recall: 0.00681 \t f1: 0.012281690140845071\n",
      "--------------------\n",
      "7063 (295) -> fp = 6768/6768.0\n",
      "contamination: 0.02 \t tp: 295/32011 -> fp = 6768.0\n",
      "AUC : 49.4% \t precision: 0.0418 \t recall: 0.00922 \t f1: 0.015099554691098941\n",
      "--------------------\n",
      "10594 (596) -> fp = 9998/9998.0\n",
      "contamination: 0.03 \t tp: 596/32011 -> fp = 9998.0\n",
      "AUC : 49.4% \t precision: 0.0563 \t recall: 0.0186 \t f1: 0.027977936861870674\n",
      "--------------------\n",
      "14125 (708) -> fp = 13417/13417.0\n",
      "contamination: 0.04 \t tp: 708/32011 -> fp = 13417.0\n",
      "AUC : 49.0% \t precision: 0.0501 \t recall: 0.0221 \t f1: 0.030691867522108552\n",
      "--------------------\n",
      "17656 (833) -> fp = 16823/16823.0\n",
      "contamination: 0.05 \t tp: 833/32011 -> fp = 16823.0\n",
      "AUC : 48.7% \t precision: 0.0472 \t recall: 0.026 \t f1: 0.033543399037590356\n",
      "--------------------\n",
      "21188 (940) -> fp = 20248/20248.0\n",
      "contamination: 0.06 \t tp: 940/32011 -> fp = 20248.0\n",
      "AUC : 48.3% \t precision: 0.0444 \t recall: 0.0294 \t f1: 0.0353390101317694\n",
      "--------------------\n",
      "24719 (1101) -> fp = 23618/23618.0\n",
      "contamination: 0.07 \t tp: 1101/32011 -> fp = 23618.0\n",
      "AUC : 48.0% \t precision: 0.0445 \t recall: 0.0344 \t f1: 0.03881544156530936\n",
      "--------------------\n",
      "28250 (1220) -> fp = 27030/27030.0\n",
      "contamination: 0.08 \t tp: 1220/32011 -> fp = 27030.0\n",
      "AUC : 47.7% \t precision: 0.0432 \t recall: 0.0381 \t f1: 0.0404905328487745\n",
      "--------------------\n"
     ]
    }
   ],
   "source": [
    "contamination = [round(0.01 + 0.01*i, 2) for i in range(10)]\n",
    "c_max = cross_validation_lof(contamination)\n",
    "c_max"
   ]
  },
  {
   "cell_type": "code",
   "execution_count": null,
   "metadata": {},
   "outputs": [],
   "source": [
    "c_max = 0.3"
   ]
  },
  {
   "cell_type": "code",
   "execution_count": null,
   "metadata": {},
   "outputs": [],
   "source": [
    "contamination = [round(c_max-0.01 + 0.001*i, 3) for i in range(1,10)]\n",
    "c_max = cross_validation_lof(contamination)\n",
    "c_max"
   ]
  },
  {
   "cell_type": "code",
   "execution_count": null,
   "metadata": {},
   "outputs": [],
   "source": [
    "start = datetime.datetime.now()\n",
    "y_pred = LocalOutlierFactor(n_neighbors=100, metric='euclidean', algorithm = 'auto', contamination=0.5, n_jobs=-1).fit_predict(x_test)\n",
    "trainning_time = datetime.datetime.now() - start\n",
    "print(f\"trainning LOF in {trainning_time}\")\n",
    "cm = confusion_matrix(y_test, y_pred)\n",
    "plot_confusion_matrix(cm, \"confusion matrix\")\n",
    "print(classification_report(y_test, y_pred, target_names=['anomaly', 'normal']))\n",
    "print (\"AUC: \", \"{:.1%}\".format(roc_auc_score(y_test, y_pred)))"
   ]
  },
  {
   "cell_type": "code",
   "execution_count": null,
   "metadata": {},
   "outputs": [],
   "source": [
    "start = datetime.datetime.now()\n",
    "y_pred = LocalOutlierFactor(n_neighbors=100, metric='euclidean', algorithm = 'auto', contamination=c_max, n_jobs=-1).fit_predict(x_test)\n",
    "trainning_time = datetime.datetime.now() - start\n",
    "print(f\"trainning LOF in {trainning_time}\")\n",
    "cm = confusion_matrix(y_test, y_pred)\n",
    "plot_confusion_matrix(cm, \"confusion matrix\")\n",
    "print(classification_report(y_test, y_pred, target_names=['anomaly', 'normal']))\n",
    "print (\"AUC: \", \"{:.1%}\".format(roc_auc_score(y_test, y_pred)))"
   ]
  },
  {
   "cell_type": "markdown",
   "metadata": {},
   "source": [
    "# DBSCAN\n",
    "\n",
    "Tested parameters: \n",
    "* eps"
   ]
  },
  {
   "cell_type": "code",
   "execution_count": null,
   "metadata": {},
   "outputs": [],
   "source": [
    "def cross_validation_dbscan(eps):\n",
    "    highest_score = 0\n",
    "    best_eps = 0\n",
    "    for e in eps:\n",
    "        s = datetime.datetime.now()\n",
    "        db = DBSCAN(eps=e, min_samples=10, metric='euclidean', algorithm = 'auto', n_jobs=-1).fit(x_test)\n",
    "        y_pred = [1 if i != -1 else i for i in db.labels_]\n",
    "        t = datetime.datetime.now() - s\n",
    "        p, r, f, s = map(lambda x: x[0], precision_recall_fscore_support(y_test, y_pred, labels=[-1]))\n",
    "        # p = tp / (tp + fp)\n",
    "        a = roc_auc_score(y_test, y_pred)\n",
    "        if p + r + a > highest_score: highest_score = p + r + a; best_eps = e\n",
    "        \n",
    "        yp = np.array(y_pred)\n",
    "        yt = np.array(y_test)\n",
    "        \n",
    "        prediction = yp[np.where(yt == -1)]\n",
    "\n",
    "        tp = len(yp[np.where(prediction == -1)])\n",
    "        print(tp)\n",
    "        # fp through formula\n",
    "        fp = tp / p - tp\n",
    "        \n",
    "        # predicted true\n",
    "        positives = yp[np.where(yp == -1)]\n",
    "        print(f\"{len(positives)} ({tp}) -> fp = {len(positives) - tp}/{fp}\")\n",
    "        print(f\"eps: {e} \\t tp: {tp}/{s} -> fp = {fp}\")\n",
    "        print(f\"AUC : {a:.1%} \\t precision: {p:.3} \\t recall: {r:.3} \\t f1: {f}\")\n",
    "        print(\"--------------------\")\n",
    "    return best_eps"
   ]
  },
  {
   "cell_type": "code",
   "execution_count": null,
   "metadata": {},
   "outputs": [],
   "source": [
    "eps = [round(0.1 + 0.1*i, 2) for i in range(5)]\n",
    "e_max = cross_validation_dbscan(eps)\n",
    "e_max"
   ]
  },
  {
   "cell_type": "code",
   "execution_count": null,
   "metadata": {},
   "outputs": [],
   "source": [
    "eps = [round(0.01 + 0.01*i, 2) for i in range(10)]\n",
    "e_max = cross_validation_dbscan(eps)\n",
    "e_max"
   ]
  },
  {
   "cell_type": "code",
   "execution_count": null,
   "metadata": {},
   "outputs": [],
   "source": [
    "e_max = 0.08"
   ]
  },
  {
   "cell_type": "code",
   "execution_count": null,
   "metadata": {},
   "outputs": [],
   "source": [
    "eps = [round(e_max-0.01 + 0.001*i, 3) for i in range(1,10)]\n",
    "e_max = cross_validation_lof(contamination)\n",
    "e_max"
   ]
  },
  {
   "cell_type": "code",
   "execution_count": null,
   "metadata": {},
   "outputs": [],
   "source": [
    "start = datetime.datetime.now()\n",
    "db = DBSCAN(eps=e_max, min_samples=10, metric='euclidean', algorithm = 'auto', n_jobs=-1).fit(x_test)\n",
    "y_pred = [1 if i != -1 else i for i in db.labels_]\n",
    "trainning_time = datetime.datetime.now() - start\n",
    "print(f\"trainning LOF in {trainning_time}\")\n",
    "cm = confusion_matrix(y_test, y_pred)\n",
    "plot_confusion_matrix(cm, \"confusion matrix\")\n",
    "print(classification_report(y_test, y_pred, target_names=['anomaly', 'normal']))\n",
    "print (\"AUC: \", \"{:.1%}\".format(roc_auc_score(y_test, y_pred)))"
   ]
  },
  {
   "cell_type": "code",
   "execution_count": null,
   "metadata": {},
   "outputs": [],
   "source": []
  },
  {
   "cell_type": "code",
   "execution_count": null,
   "metadata": {},
   "outputs": [],
   "source": []
  }
 ],
 "metadata": {
  "kernelspec": {
   "display_name": "Python 3",
   "language": "python",
   "name": "python3"
  },
  "language_info": {
   "codemirror_mode": {
    "name": "ipython",
    "version": 3
   },
   "file_extension": ".py",
   "mimetype": "text/x-python",
   "name": "python",
   "nbconvert_exporter": "python",
   "pygments_lexer": "ipython3",
   "version": "3.8.5"
  }
 },
 "nbformat": 4,
 "nbformat_minor": 4
}
