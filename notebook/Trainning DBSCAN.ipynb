{
 "cells": [
  {
   "cell_type": "code",
   "execution_count": 1,
   "metadata": {},
   "outputs": [],
   "source": [
    "from imports import *"
   ]
  },
  {
   "cell_type": "code",
   "execution_count": 2,
   "metadata": {},
   "outputs": [],
   "source": [
    "from sklearn.metrics import precision_score\n",
    "from sklearn.metrics import fbeta_score\n",
    "from sklearn.metrics import f1_score\n",
    "import time"
   ]
  },
  {
   "cell_type": "markdown",
   "metadata": {},
   "source": [
    "# Preprocessing\n",
    "Load the dataset. IF is then run on samples of the dataset with different anomaly rates."
   ]
  },
  {
   "cell_type": "code",
   "execution_count": 3,
   "metadata": {},
   "outputs": [],
   "source": [
    "df = pd.read_csv('kddcup.data', delimiter=',')\n",
    "df.columns = sa_columns + [\"target\"]"
   ]
  },
  {
   "cell_type": "code",
   "execution_count": 4,
   "metadata": {},
   "outputs": [
    {
     "name": "stdout",
     "output_type": "stream",
     "text": [
      "3377\n"
     ]
    }
   ],
   "source": [
    "dfsf = df[df[\"logged_in\"]== 1]\n",
    "print(len(dfsf)- len(dfsf.loc[dfsf[\"target\"]=='normal.']))\n",
    "dfsf = dfsf[sf_columns + [\"target\"]] \n",
    "# print(dfsf.head(1))\n",
    "# Split the dataset into 2 classes for consistent anomaly_rate when sampling\n",
    "dfsf_normal = dfsf.loc[dfsf[\"target\"]=='normal.']\n",
    "dfsf_attack = dfsf.loc[dfsf[\"target\"]!='normal.']\n",
    "# print(f\"A sample normal frame: \\t {dfsf_normal.head(1)}\")\n",
    "# print(\"-----------------\")\n",
    "# print(f\"A sample attack frame: \\t {dfsf_attack.head(1)}\")"
   ]
  },
  {
   "cell_type": "code",
   "execution_count": 5,
   "metadata": {},
   "outputs": [
    {
     "name": "stdout",
     "output_type": "stream",
     "text": [
      "anomaly rate is 0.5% out of 210920 records\n"
     ]
    }
   ],
   "source": [
    "frac = 0.3\n",
    "\n",
    "dfsf_frac = dfsf_normal.sample(frac = frac, random_state = 1).append(dfsf_attack.sample(frac = frac, random_state = 1))\n",
    "\n",
    "anomaly_rate = 1.0 - len(dfsf_frac.loc[dfsf_frac[\"target\"]=='normal.'])/len(dfsf_frac)\n",
    "print(f\"anomaly rate is {anomaly_rate:.1%} out of {len(dfsf_frac)} records\")\n",
    "\n",
    "dfsf_frac['binary_target'] = [1 if x=='normal.' else -1 for x in dfsf_frac[\"target\"]]\n",
    "toDecode = toDecodeSF\n",
    "leSF = preprocessing.LabelEncoder()\n",
    "for f in toDecode:\n",
    "    dfsf_frac[f] = leSF.fit_transform(dfsf_frac[f])\n",
    "\n",
    "dfsf_normed = preprocessing.normalize(dfsf_frac.drop([\"target\", \"binary_target\"], axis=1))"
   ]
  },
  {
   "cell_type": "markdown",
   "metadata": {},
   "source": [
    "# Parameter tuning"
   ]
  },
  {
   "cell_type": "code",
   "execution_count": 6,
   "metadata": {},
   "outputs": [],
   "source": [
    "def cross_validation_dbscan(eps, ms, silent=True):\n",
    "    highest_score = 0\n",
    "    best_eps = 0\n",
    "    for e in eps:\n",
    "        s = datetime.datetime.now()\n",
    "        db = DBSCAN(eps=e, min_samples=ms, metric='euclidean', algorithm = 'auto', n_jobs=-1).fit(x_train)\n",
    "        y_pred = [1 if i != -1 else i for i in db.labels_]\n",
    "        t = datetime.datetime.now() - s\n",
    "        p, r, f, s = map(lambda x: x[0], precision_recall_fscore_support(y_test, y_pred, labels=[-1]))\n",
    "        # p = tp / (tp + fp)\n",
    "        a = roc_auc_score(y_test, y_pred)\n",
    "        if p + r + a > highest_score: highest_score = p + r + a; best_eps = e\n",
    "        \n",
    "        yp = np.array(y_pred)\n",
    "        yt = np.array(y_test)\n",
    "        \n",
    "        prediction = yp[np.where(yt == -1)]\n",
    "\n",
    "        tp = len(yp[np.where(prediction == -1)])\n",
    "        print(tp)\n",
    "        # fp through formula\n",
    "        fp = tp / p - tp\n",
    "        \n",
    "        # predicted true\n",
    "        positives = yp[np.where(yp == -1)]\n",
    "        if not silent:\n",
    "            print(f\"Finished trainning in {t} seconds\")\n",
    "            print(f\"eps: {e} \\t tp: {tp}/support: {s}/predicted: {len(positives)} -> fp = {len(positives) - tp}\")\n",
    "            print(f\"AUC : {a:.1%} \\t precision: {p:.3} \\t recall: {r:.3} \\t f1: {f}\")\n",
    "            print(\"--------------------\")\n",
    "    return (best_eps, y_pred, f, len(positives) - tp, tp, p, r, t)"
   ]
  },
  {
   "cell_type": "code",
   "execution_count": 7,
   "metadata": {},
   "outputs": [],
   "source": [
    "Y_axis_f1 = []\n",
    "Y_axis_recall = []\n",
    "best_param = []"
   ]
  },
  {
   "cell_type": "code",
   "execution_count": 8,
   "metadata": {},
   "outputs": [
    {
     "name": "stdout",
     "output_type": "stream",
     "text": [
      "22\n",
      "Finished trainning in 0:00:01.487458 seconds\n",
      "eps: 0.005 \t tp: 22/support: 246/predicted: 735 -> fp = 713\n",
      "AUC : 53.8% \t precision: 0.0299 \t recall: 0.0894 \t f1: 0.04485219164118247\n",
      "--------------------\n",
      "20\n",
      "Finished trainning in 0:00:01.297528 seconds\n",
      "eps: 0.006 \t tp: 20/support: 246/predicted: 633 -> fp = 613\n",
      "AUC : 53.5% \t precision: 0.0316 \t recall: 0.0813 \t f1: 0.045506257110352666\n",
      "--------------------\n",
      "18\n",
      "Finished trainning in 0:00:01.384322 seconds\n",
      "eps: 0.007 \t tp: 18/support: 246/predicted: 550 -> fp = 532\n",
      "AUC : 53.2% \t precision: 0.0327 \t recall: 0.0732 \t f1: 0.04522613065326633\n",
      "--------------------\n",
      "14\n",
      "Finished trainning in 0:00:01.445741 seconds\n",
      "eps: 0.008 \t tp: 14/support: 246/predicted: 484 -> fp = 470\n",
      "AUC : 52.4% \t precision: 0.0289 \t recall: 0.0569 \t f1: 0.038356164383561646\n",
      "--------------------\n",
      "12\n",
      "Finished trainning in 0:00:01.534821 seconds\n",
      "eps: 0.009000000000000001 \t tp: 12/support: 246/predicted: 433 -> fp = 421\n",
      "AUC : 52.0% \t precision: 0.0277 \t recall: 0.0488 \t f1: 0.035346097201767304\n",
      "--------------------\n",
      "Time for DBSCAN fitting: 7.385\n"
     ]
    }
   ],
   "source": [
    "rs = 1\n",
    "x_train, x_test, y_train, y_test = train_test_split(dfsf_normed, dfsf_frac['binary_target'], test_size=0.25, random_state=rs)\n",
    "stime = time.time()\n",
    "emax, y_pred, f, fp, tp, p, r, t = cross_validation_dbscan(np.arange(0.005, 0.01, 0.001), 10, silent=True)\n",
    "print(\"Time for DBSCAN fitting: %.3f\" % (time.time() - stime))\n",
    "Y_axis_f1.append(f)\n",
    "Y_axis_recall.append(r)\n",
    "best_param.append(emax)"
   ]
  },
  {
   "cell_type": "code",
   "execution_count": 9,
   "metadata": {},
   "outputs": [
    {
     "name": "stdout",
     "output_type": "stream",
     "text": [
      "39\n",
      "Finished trainning in 0:00:01.223905 seconds\n",
      "eps: 0.005 \t tp: 39/support: 228/predicted: 887 -> fp = 848\n",
      "AUC : 57.7% \t precision: 0.044 \t recall: 0.171 \t f1: 0.06995515695067264\n",
      "--------------------\n",
      "38\n",
      "Finished trainning in 0:00:01.330885 seconds\n",
      "eps: 0.006 \t tp: 38/support: 228/predicted: 732 -> fp = 694\n",
      "AUC : 57.7% \t precision: 0.0519 \t recall: 0.167 \t f1: 0.07916666666666666\n",
      "--------------------\n",
      "28\n",
      "Finished trainning in 0:00:01.365125 seconds\n",
      "eps: 0.007 \t tp: 28/support: 228/predicted: 638 -> fp = 610\n",
      "AUC : 55.6% \t precision: 0.0439 \t recall: 0.123 \t f1: 0.06466512702078522\n",
      "--------------------\n",
      "11\n",
      "Finished trainning in 0:00:01.484129 seconds\n",
      "eps: 0.008 \t tp: 11/support: 228/predicted: 568 -> fp = 557\n",
      "AUC : 51.9% \t precision: 0.0194 \t recall: 0.0482 \t f1: 0.027638190954773864\n",
      "--------------------\n",
      "11\n",
      "Finished trainning in 0:00:01.501493 seconds\n",
      "eps: 0.009000000000000001 \t tp: 11/support: 228/predicted: 513 -> fp = 502\n",
      "AUC : 51.9% \t precision: 0.0214 \t recall: 0.0482 \t f1: 0.02968960863697706\n",
      "--------------------\n",
      "Time for DBSCAN fitting: 7.148\n"
     ]
    }
   ],
   "source": [
    "rs = 2\n",
    "x_train, x_test, y_train, y_test = train_test_split(dfsf_normed, dfsf_frac['binary_target'], test_size=0.25, random_state=rs)\n",
    "stime = time.time()\n",
    "emax, y_pred, f, fp, tp, p, r, t = cross_validation_dbscan(np.arange(0.005, 0.01, 0.001), 15, silent=False)\n",
    "print(\"Time for DBSCAN fitting: %.3f\" % (time.time() - stime))\n",
    "Y_axis_f1.append(f)\n",
    "Y_axis_recall.append(r)\n",
    "best_param.append(emax)"
   ]
  },
  {
   "cell_type": "code",
   "execution_count": 10,
   "metadata": {},
   "outputs": [
    {
     "name": "stdout",
     "output_type": "stream",
     "text": [
      "40\n",
      "Finished trainning in 0:00:01.218640 seconds\n",
      "eps: 0.005 \t tp: 40/support: 228/predicted: 1077 -> fp = 1037\n",
      "AUC : 57.8% \t precision: 0.0371 \t recall: 0.175 \t f1: 0.06130268199233716\n",
      "--------------------\n",
      "38\n",
      "Finished trainning in 0:00:01.331373 seconds\n",
      "eps: 0.006 \t tp: 38/support: 228/predicted: 930 -> fp = 892\n",
      "AUC : 57.5% \t precision: 0.0409 \t recall: 0.167 \t f1: 0.06563039723661486\n",
      "--------------------\n",
      "28\n",
      "Finished trainning in 0:00:01.290761 seconds\n",
      "eps: 0.007 \t tp: 28/support: 228/predicted: 731 -> fp = 703\n",
      "AUC : 55.5% \t precision: 0.0383 \t recall: 0.123 \t f1: 0.05839416058394161\n",
      "--------------------\n",
      "13\n",
      "Finished trainning in 0:00:01.466547 seconds\n",
      "eps: 0.008 \t tp: 13/support: 228/predicted: 618 -> fp = 605\n",
      "AUC : 52.3% \t precision: 0.021 \t recall: 0.057 \t f1: 0.030732860520094565\n",
      "--------------------\n",
      "11\n",
      "Finished trainning in 0:00:01.487506 seconds\n",
      "eps: 0.009000000000000001 \t tp: 11/support: 228/predicted: 575 -> fp = 564\n",
      "AUC : 51.9% \t precision: 0.0191 \t recall: 0.0482 \t f1: 0.027397260273972605\n",
      "--------------------\n",
      "Time for DBSCAN fitting: 7.032\n"
     ]
    }
   ],
   "source": [
    "rs = 2\n",
    "x_train, x_test, y_train, y_test = train_test_split(dfsf_normed, dfsf_frac['binary_target'], test_size=0.25, random_state=rs)\n",
    "stime = time.time()\n",
    "emax, y_pred, f, fp, tp, p, r, t = cross_validation_dbscan(np.arange(0.005, 0.01, 0.001), 20, silent=False)\n",
    "print(\"Time for DBSCAN fitting: %.3f\" % (time.time() - stime))\n",
    "Y_axis_f1.append(f)\n",
    "Y_axis_recall.append(r)\n",
    "best_param.append(emax)"
   ]
  },
  {
   "cell_type": "code",
   "execution_count": 11,
   "metadata": {},
   "outputs": [
    {
     "name": "stdout",
     "output_type": "stream",
     "text": [
      "39\n",
      "Finished trainning in 0:00:01.311895 seconds\n",
      "eps: 0.005 \t tp: 39/support: 251/predicted: 1898 -> fp = 1859\n",
      "AUC : 56.0% \t precision: 0.0205 \t recall: 0.155 \t f1: 0.03629595160539786\n",
      "--------------------\n",
      "36\n",
      "Finished trainning in 0:00:01.313290 seconds\n",
      "eps: 0.006 \t tp: 36/support: 251/predicted: 1418 -> fp = 1382\n",
      "AUC : 55.9% \t precision: 0.0254 \t recall: 0.143 \t f1: 0.04313960455362493\n",
      "--------------------\n",
      "33\n",
      "Finished trainning in 0:00:01.446933 seconds\n",
      "eps: 0.007 \t tp: 33/support: 251/predicted: 1141 -> fp = 1108\n",
      "AUC : 55.5% \t precision: 0.0289 \t recall: 0.131 \t f1: 0.04741379310344827\n",
      "--------------------\n",
      "16\n",
      "Finished trainning in 0:00:01.414088 seconds\n",
      "eps: 0.008 \t tp: 16/support: 251/predicted: 958 -> fp = 942\n",
      "AUC : 52.3% \t precision: 0.0167 \t recall: 0.0637 \t f1: 0.02646815550041356\n",
      "--------------------\n",
      "7\n",
      "Finished trainning in 0:00:01.524546 seconds\n",
      "eps: 0.009000000000000001 \t tp: 7/support: 251/predicted: 882 -> fp = 875\n",
      "AUC : 50.6% \t precision: 0.00794 \t recall: 0.0279 \t f1: 0.012356575463371577\n",
      "--------------------\n",
      "Time for DBSCAN fitting: 7.252\n"
     ]
    }
   ],
   "source": [
    "rs = 4\n",
    "x_train, x_test, y_train, y_test = train_test_split(dfsf_normed, dfsf_frac['binary_target'], test_size=0.25, random_state=rs)\n",
    "stime = time.time()\n",
    "emax, y_pred, f, fp, tp, p, r, t = cross_validation_dbscan(np.arange(0.005, 0.01, 0.001), 50, silent=False)\n",
    "print(\"Time for DBSCAN fitting: %.3f\" % (time.time() - stime))\n",
    "Y_axis_f1.append(f)\n",
    "Y_axis_recall.append(r)\n",
    "best_param.append(emax)"
   ]
  },
  {
   "cell_type": "code",
   "execution_count": null,
   "metadata": {},
   "outputs": [],
   "source": [
    "plt.figure(figsize=(40,20))\n",
    "plt.title('f1 score after parameter tuning')\n",
    "plt.xlabel(\"configuration\")\n",
    "plt.ylabel(\"Score\")\n",
    "plt.rc('font', size=30)\n",
    "ax = plt.axes()\n",
    "# ax.set_ylim(0.99, 0.992)\n",
    "pad = 0.005\n",
    "\n",
    "labels = best_param\n",
    "colors = {'1': 'r', '2':'b', '3':'c', '4':'y'}\n",
    "scorer = 'F1'\n",
    "\n",
    "\n",
    "Y_axis = np.array([best_score_1, best_score_2, best_score_3, best_score_4])\n",
    "# \n",
    "X_axis = np.array(best_param)\n",
    "\n",
    "ax.plot(X_axis, Y_axis_f1, '-', color=colors['1'],label=\"%s \" % (\"F1\"), linewidth=5)\n",
    "ax.plot(X_axis, Y_axis_recall, '-', color=colors['2'],label=\"%s \" % (\"Recall\"), linewidth=5)\n",
    "plt.legend(loc=\"best\")\n",
    "plt.grid('off')\n",
    "plt.tight_layout()\n",
    "plt.savefig(\"DBSCAN_graph_v2.png\", dpi=100)\n",
    "\n",
    "plt.show()"
   ]
  }
 ],
 "metadata": {
  "kernelspec": {
   "display_name": "Python 3",
   "language": "python",
   "name": "python3"
  },
  "language_info": {
   "codemirror_mode": {
    "name": "ipython",
    "version": 3
   },
   "file_extension": ".py",
   "mimetype": "text/x-python",
   "name": "python",
   "nbconvert_exporter": "python",
   "pygments_lexer": "ipython3",
   "version": "3.8.5"
  }
 },
 "nbformat": 4,
 "nbformat_minor": 4
}
