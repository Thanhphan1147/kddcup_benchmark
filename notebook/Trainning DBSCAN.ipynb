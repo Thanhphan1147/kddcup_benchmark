{
 "cells": [
  {
   "cell_type": "code",
   "execution_count": 2,
   "metadata": {},
   "outputs": [],
   "source": [
    "from imports import *"
   ]
  },
  {
   "cell_type": "code",
   "execution_count": 3,
   "metadata": {},
   "outputs": [],
   "source": [
    "from sklearn.metrics import precision_score\n",
    "from sklearn.metrics import fbeta_score\n",
    "from sklearn.metrics import f1_score\n",
    "import time"
   ]
  },
  {
   "cell_type": "markdown",
   "metadata": {},
   "source": [
    "# Preprocessing\n",
    "Load the dataset. IF is then run on samples of the dataset with different anomaly rates."
   ]
  },
  {
   "cell_type": "code",
   "execution_count": 4,
   "metadata": {},
   "outputs": [],
   "source": [
    "df = pd.read_csv('kddcup.data', delimiter=',')\n",
    "df.columns = sa_columns + [\"target\"]"
   ]
  },
  {
   "cell_type": "code",
   "execution_count": 5,
   "metadata": {},
   "outputs": [
    {
     "name": "stdout",
     "output_type": "stream",
     "text": [
      "3377\n"
     ]
    }
   ],
   "source": [
    "dfsf = df[df[\"logged_in\"]== 1]\n",
    "print(len(dfsf)- len(dfsf.loc[dfsf[\"target\"]=='normal.']))\n",
    "dfsf = dfsf[sf_columns + [\"target\"]] \n",
    "# print(dfsf.head(1))\n",
    "# Split the dataset into 2 classes for consistent anomaly_rate when sampling\n",
    "dfsf_normal = dfsf.loc[dfsf[\"target\"]=='normal.']\n",
    "dfsf_attack = dfsf.loc[dfsf[\"target\"]!='normal.']\n",
    "# print(f\"A sample normal frame: \\t {dfsf_normal.head(1)}\")\n",
    "# print(\"-----------------\")\n",
    "# print(f\"A sample attack frame: \\t {dfsf_attack.head(1)}\")"
   ]
  },
  {
   "cell_type": "code",
   "execution_count": 6,
   "metadata": {},
   "outputs": [
    {
     "name": "stdout",
     "output_type": "stream",
     "text": [
      "anomaly rate is 0.5% out of 70307 records\n"
     ]
    }
   ],
   "source": [
    "frac = 0.1\n",
    "\n",
    "dfsf_frac = dfsf_normal.sample(frac = frac, random_state = 1).append(dfsf_attack.sample(frac = frac, random_state = 1))\n",
    "\n",
    "anomaly_rate = 1.0 - len(dfsf_frac.loc[dfsf_frac[\"target\"]=='normal.'])/len(dfsf_frac)\n",
    "print(f\"anomaly rate is {anomaly_rate:.1%} out of {len(dfsf_frac)} records\")\n",
    "\n",
    "dfsf_frac['binary_target'] = [1 if x=='normal.' else -1 for x in dfsf_frac[\"target\"]]\n",
    "toDecode = toDecodeSF\n",
    "leSF = preprocessing.LabelEncoder()\n",
    "for f in toDecode:\n",
    "    dfsf_frac[f] = leSF.fit_transform(dfsf_frac[f])\n",
    "\n",
    "dfsf_normed = preprocessing.normalize(dfsf_frac.drop([\"target\", \"binary_target\"], axis=1))"
   ]
  },
  {
   "cell_type": "markdown",
   "metadata": {},
   "source": [
    "# Parameter tuning"
   ]
  },
  {
   "cell_type": "code",
   "execution_count": 29,
   "metadata": {},
   "outputs": [],
   "source": [
    "def cross_validation_dbscan(eps, ms, silent=True):\n",
    "    highest_score = 0\n",
    "    best_eps = 0\n",
    "    for e in eps:\n",
    "        s = datetime.datetime.now()\n",
    "        db = DBSCAN(eps=e, min_samples=ms, metric='euclidean', algorithm = 'auto', n_jobs=-1).fit(x_train)\n",
    "        y_pred = [1 if i != -1 else i for i in db.labels_]\n",
    "        t = datetime.datetime.now() - s\n",
    "        p, r, f, s = map(lambda x: x[0], precision_recall_fscore_support(y_train, y_pred, labels=[-1]))\n",
    "        # p = tp / (tp + fp)\n",
    "        f = f1_score(y_train, y_pred, average = 'weighted')\n",
    "        fa = f1_score(y_train, y_pred, pos_label = -1)\n",
    "        p = precision_score(y_train, y_pred, pos_label = -1)\n",
    "        r = recall_score(y_train, y_pred, pos_label = -1)\n",
    "        a = roc_auc_score(y_train, y_pred)\n",
    "        if r + fa > highest_score: highest_score = r + fa; best_eps = e\n",
    "        \n",
    "        yp = np.array(y_pred)\n",
    "        yt = np.array(y_test)\n",
    "        \n",
    "        prediction = yp[np.where(yt == -1)]\n",
    "\n",
    "        tp = len(yp[np.where(prediction == -1)])\n",
    "        print(tp)\n",
    "        # fp through formula\n",
    "        fp = tp / p - tp\n",
    "        \n",
    "        # predicted true\n",
    "        positives = yp[np.where(yp == -1)]\n",
    "        if not silent:\n",
    "            print(f\"Finished trainning in {t} seconds\")\n",
    "            print(f\"eps: {e} \\t tp: {tp}/support: {s}/predicted: {len(positives)} -> fp = {len(positives) - tp}\")\n",
    "            print(f\"AUC : {a:.1%} \\t precision: {p:.3} \\t recall: {r:.3} \\t f1: {f} , {fa}\")\n",
    "            print(\"--------------------\")\n",
    "    return (best_eps, y_pred, f, len(positives) - tp, tp, p, r, t)"
   ]
  },
  {
   "cell_type": "code",
   "execution_count": 30,
   "metadata": {},
   "outputs": [],
   "source": [
    "Y_axis_f1 = []\n",
    "Y_recall = []\n",
    "Y_precision = []\n",
    "Y_axis_recall = []\n",
    "best_param = []"
   ]
  },
  {
   "cell_type": "code",
   "execution_count": 31,
   "metadata": {},
   "outputs": [
    {
     "name": "stdout",
     "output_type": "stream",
     "text": [
      "70\n",
      "Finished trainning in 0:00:00.577804 seconds\n",
      "eps: 0.0001 \t tp: 70/support: 241/predicted: 40364 -> fp = 40294\n",
      "AUC : 22.0% \t precision: 0.00124 \t recall: 0.207 \t f1: 0.3737481992738984 , 0.0024627508927471987\n",
      "--------------------\n",
      "34\n",
      "Finished trainning in 0:00:00.844502 seconds\n",
      "eps: 0.0006000000000000001 \t tp: 34/support: 241/predicted: 15934 -> fp = 15900\n",
      "AUC : 44.8% \t precision: 0.00301 \t recall: 0.199 \t f1: 0.8161935078307103 , 0.005935085007727975\n",
      "--------------------\n",
      "11\n",
      "Finished trainning in 0:00:00.910827 seconds\n",
      "eps: 0.0011 \t tp: 11/support: 241/predicted: 5972 -> fp = 5961\n",
      "AUC : 52.4% \t precision: 0.00653 \t recall: 0.162 \t f1: 0.9339539799128492 , 0.012554321583775953\n",
      "--------------------\n",
      "5\n",
      "Finished trainning in 0:00:01.086133 seconds\n",
      "eps: 0.0016 \t tp: 5/support: 241/predicted: 2916 -> fp = 2911\n",
      "AUC : 55.1% \t precision: 0.013 \t recall: 0.158 \t f1: 0.9655608003080132 , 0.024073487488121634\n",
      "--------------------\n",
      "3\n",
      "Finished trainning in 0:00:01.127023 seconds\n",
      "eps: 0.0021 \t tp: 3/support: 241/predicted: 2004 -> fp = 2001\n",
      "AUC : 56.0% \t precision: 0.019 \t recall: 0.158 \t f1: 0.9746659281638277 , 0.033853006681514475\n",
      "--------------------\n",
      "3\n",
      "Finished trainning in 0:00:01.282721 seconds\n",
      "eps: 0.0026 \t tp: 3/support: 241/predicted: 1467 -> fp = 1464\n",
      "AUC : 56.5% \t precision: 0.0259 \t recall: 0.158 \t f1: 0.9799749909997635 , 0.04449648711943794\n",
      "--------------------\n",
      "2\n",
      "Finished trainning in 0:00:01.307542 seconds\n",
      "eps: 0.0031 \t tp: 2/support: 241/predicted: 1187 -> fp = 1185\n",
      "AUC : 56.8% \t precision: 0.032 \t recall: 0.158 \t f1: 0.9827361885444762 , 0.053221288515406154\n",
      "--------------------\n",
      "2\n",
      "Finished trainning in 0:00:01.432688 seconds\n",
      "eps: 0.0036 \t tp: 2/support: 241/predicted: 940 -> fp = 938\n",
      "AUC : 54.3% \t precision: 0.0266 \t recall: 0.104 \t f1: 0.9848267129573679 , 0.04233700254022015\n",
      "--------------------\n",
      "2\n",
      "Finished trainning in 0:00:01.390320 seconds\n",
      "eps: 0.0041 \t tp: 2/support: 241/predicted: 828 -> fp = 826\n",
      "AUC : 54.4% \t precision: 0.0302 \t recall: 0.104 \t f1: 0.985926555141525 , 0.04677268475210477\n",
      "--------------------\n",
      "2\n",
      "Finished trainning in 0:00:01.535739 seconds\n",
      "eps: 0.004600000000000001 \t tp: 2/support: 241/predicted: 759 -> fp = 757\n",
      "AUC : 54.1% \t precision: 0.0303 \t recall: 0.0954 \t f1: 0.9865488457285623 , 0.046000000000000006\n",
      "--------------------\n",
      "2\n",
      "Finished trainning in 0:00:01.629630 seconds\n",
      "eps: 0.0051 \t tp: 2/support: 241/predicted: 700 -> fp = 698\n",
      "AUC : 53.5% \t precision: 0.0286 \t recall: 0.083 \t f1: 0.9870427845503562 , 0.04250797024442083\n",
      "--------------------\n",
      "2\n",
      "Finished trainning in 0:00:01.717988 seconds\n",
      "eps: 0.0056 \t tp: 2/support: 241/predicted: 655 -> fp = 653\n",
      "AUC : 53.3% \t precision: 0.029 \t recall: 0.0788 \t f1: 0.9874553848558477 , 0.04241071428571429\n",
      "--------------------\n",
      "1\n",
      "Finished trainning in 0:00:01.781943 seconds\n",
      "eps: 0.0061 \t tp: 1/support: 241/predicted: 616 -> fp = 615\n",
      "AUC : 53.4% \t precision: 0.0308 \t recall: 0.0788 \t f1: 0.9878383854299804 , 0.044340723453908985\n",
      "--------------------\n",
      "1\n",
      "Finished trainning in 0:00:01.846804 seconds\n",
      "eps: 0.006600000000000001 \t tp: 1/support: 241/predicted: 568 -> fp = 567\n",
      "AUC : 53.2% \t precision: 0.0317 \t recall: 0.0747 \t f1: 0.9882802326096226 , 0.04449938195302843\n",
      "--------------------\n",
      "1\n",
      "Finished trainning in 0:00:01.974534 seconds\n",
      "eps: 0.0071 \t tp: 1/support: 241/predicted: 542 -> fp = 541\n",
      "AUC : 51.8% \t precision: 0.0203 \t recall: 0.0456 \t f1: 0.9883212072758454 , 0.0280970625798212\n",
      "--------------------\n",
      "1\n",
      "Finished trainning in 0:00:01.948846 seconds\n",
      "eps: 0.0076 \t tp: 1/support: 241/predicted: 517 -> fp = 516\n",
      "AUC : 51.6% \t precision: 0.0193 \t recall: 0.0415 \t f1: 0.9885337784101627 , 0.026385224274406337\n",
      "--------------------\n",
      "1\n",
      "Finished trainning in 0:00:02.036480 seconds\n",
      "eps: 0.0081 \t tp: 1/support: 241/predicted: 488 -> fp = 487\n",
      "AUC : 51.6% \t precision: 0.0205 \t recall: 0.0415 \t f1: 0.9888161527787975 , 0.027434842249657063\n",
      "--------------------\n",
      "1\n",
      "Finished trainning in 0:00:02.049481 seconds\n",
      "eps: 0.0086 \t tp: 1/support: 241/predicted: 462 -> fp = 461\n",
      "AUC : 51.6% \t precision: 0.0216 \t recall: 0.0415 \t f1: 0.9890695218378844 , 0.02844950213371266\n",
      "--------------------\n",
      "1\n",
      "Finished trainning in 0:00:02.085071 seconds\n",
      "eps: 0.0091 \t tp: 1/support: 241/predicted: 450 -> fp = 449\n",
      "AUC : 51.7% \t precision: 0.0222 \t recall: 0.0415 \t f1: 0.989186537470174 , 0.028943560057887122\n",
      "--------------------\n",
      "1\n",
      "Finished trainning in 0:00:02.357753 seconds\n",
      "eps: 0.0096 \t tp: 1/support: 241/predicted: 431 -> fp = 430\n",
      "AUC : 51.7% \t precision: 0.0232 \t recall: 0.0415 \t f1: 0.9893719233990189 , 0.029761904761904764\n",
      "--------------------\n",
      "Time for DBSCAN fitting: 34.249\n"
     ]
    }
   ],
   "source": [
    "rs = 1\n",
    "x_train, x_test, y_train, y_test = train_test_split(dfsf_normed, dfsf_frac['binary_target'], test_size=0.25, random_state=rs)\n",
    "stime = time.time()\n",
    "emax, y_pred, f, fp, tp, p, r, t = cross_validation_dbscan(np.arange(0.0001, 0.01, 0.0005), 10, silent=False)\n",
    "print(\"Time for DBSCAN fitting: %.3f\" % (time.time() - stime))\n",
    "Y_axis_f1.append(f)\n",
    "Y_axis_recall.append(r)\n",
    "Y_precision.append(p)\n",
    "best_param.append(emax)"
   ]
  },
  {
   "cell_type": "code",
   "execution_count": null,
   "metadata": {},
   "outputs": [
    {
     "name": "stdout",
     "output_type": "stream",
     "text": [
      "18\n",
      "Finished trainning in 0:00:00.922537 seconds\n",
      "eps: 0.001 \t tp: 18/support: 252/predicted: 11117 -> fp = 11099\n",
      "AUC : 49.4% \t precision: 0.0045 \t recall: 0.198 \t f1: 0.8760683129405669 , 0.00879584835957428\n",
      "--------------------\n",
      "7\n",
      "Finished trainning in 0:00:01.106119 seconds\n",
      "eps: 0.002 \t tp: 7/support: 252/predicted: 2667 -> fp = 2660\n",
      "AUC : 57.0% \t precision: 0.018 \t recall: 0.19 \t f1: 0.9679792290900617 , 0.0328879753340185\n",
      "--------------------\n",
      "4\n",
      "Finished trainning in 0:00:01.315582 seconds\n",
      "eps: 0.003 \t tp: 4/support: 252/predicted: 1480 -> fp = 1476\n",
      "AUC : 58.0% \t precision: 0.0318 \t recall: 0.187 \t f1: 0.9797644759333587 , 0.054272517321016164\n",
      "--------------------\n",
      "2\n",
      "Finished trainning in 0:00:01.411355 seconds\n",
      "eps: 0.004 \t tp: 2/support: 252/predicted: 1039 -> fp = 1037\n",
      "AUC : 58.2% \t precision: 0.0443 \t recall: 0.183 \t f1: 0.9841063707759286 , 0.07126258714175057\n",
      "--------------------\n",
      "1\n",
      "Finished trainning in 0:00:01.677904 seconds\n",
      "eps: 0.005 \t tp: 1/support: 252/predicted: 808 -> fp = 807\n",
      "AUC : 57.8% \t precision: 0.0532 \t recall: 0.171 \t f1: 0.9863237565235407 , 0.08113207547169811\n",
      "--------------------\n",
      "1\n",
      "Finished trainning in 0:00:01.879824 seconds\n",
      "eps: 0.006 \t tp: 1/support: 252/predicted: 695 -> fp = 694\n",
      "AUC : 57.9% \t precision: 0.0619 \t recall: 0.171 \t f1: 0.9874560996824702 , 0.0908130939809926\n",
      "--------------------\n",
      "1\n",
      "Finished trainning in 0:00:01.922422 seconds\n",
      "eps: 0.007 \t tp: 1/support: 252/predicted: 591 -> fp = 590\n",
      "AUC : 53.8% \t precision: 0.0372 \t recall: 0.0873 \t f1: 0.98786949532809 , 0.05219454329774614\n",
      "--------------------\n"
     ]
    }
   ],
   "source": [
    "rs = 2\n",
    "x_train, x_test, y_train, y_test = train_test_split(dfsf_normed, dfsf_frac['binary_target'], test_size=0.25, random_state=rs)\n",
    "stime = time.time()\n",
    "emax, y_pred, f, fp, tp, p, r, t = cross_validation_dbscan(np.arange(0.001, 0.01, 0.001), 15, silent=False)\n",
    "print(\"Time for DBSCAN fitting: %.3f\" % (time.time() - stime))\n",
    "Y_axis_f1.append(f)\n",
    "Y_axis_recall.append(r)\n",
    "Y_precision.append(p)\n",
    "best_param.append(emax)"
   ]
  },
  {
   "cell_type": "code",
   "execution_count": null,
   "metadata": {},
   "outputs": [],
   "source": [
    "rs = 2\n",
    "x_train, x_test, y_train, y_test = train_test_split(dfsf_normed, dfsf_frac['binary_target'], test_size=0.25, random_state=rs)\n",
    "stime = time.time()\n",
    "emax, y_pred, f, fp, tp, p, r, t = cross_validation_dbscan(np.arange(0.001, 0.01, 0.001), 20, silent=False)\n",
    "print(\"Time for DBSCAN fitting: %.3f\" % (time.time() - stime))\n",
    "Y_axis_f1.append(f)\n",
    "Y_axis_recall.append(r)\n",
    "Y_precision.append(p)\n",
    "best_param.append(emax)"
   ]
  },
  {
   "cell_type": "code",
   "execution_count": null,
   "metadata": {},
   "outputs": [],
   "source": [
    "rs = 4\n",
    "x_train, x_test, y_train, y_test = train_test_split(dfsf_normed, dfsf_frac['binary_target'], test_size=0.25, random_state=rs)\n",
    "stime = time.time()\n",
    "emax, y_pred, f, fp, tp, p, r, t = cross_validation_dbscan(np.arange(0.001, 0.01, 0.001), 50, silent=False)\n",
    "print(\"Time for DBSCAN fitting: %.3f\" % (time.time() - stime))\n",
    "Y_axis_f1.append(f)\n",
    "Y_axis_recall.append(r)\n",
    "Y_precision.append(p)\n",
    "best_param.append(emax)"
   ]
  },
  {
   "cell_type": "code",
   "execution_count": null,
   "metadata": {},
   "outputs": [],
   "source": [
    "# f1_tuned = [0.9954178136425095, 0.9952542140292294, 0.9953171367636211, 0.9952334249285871]\n",
    "\n",
    "plt.figure(figsize=(40,20))\n",
    "plt.rc('font', size=30)\n",
    "plt.title('f1 score after parameter tuning')\n",
    "plt.xlabel(\"configuration\")\n",
    "plt.ylabel(\"Score\")\n",
    "ax = plt.axes()\n",
    "ax.set_ylim(0.994, 0.996)\n",
    "pad = 0.005\n",
    "\n",
    "print(best_param)\n",
    "\n",
    "# labels = [f\"{i}-{p}\" for i,p in enumerate(best_param)]\n",
    "labels = [f\"{i}-{e:.2}\" for i,e in enumerate(best_param)]\n",
    "colors = {'1': 'r', '2':'b', '3':'c', '4':'y'}\n",
    "scorer = 'F1'\n",
    "\n",
    "\n",
    "# Y_axis = np.array([best_score_1, best_score_2, best_score_3, best_score_4])\n",
    "# \n",
    "X_axis = np.array(labels)\n",
    "\n",
    "ax.plot(X_axis, f1_tuned, '-', color=colors['1'],label=\"%s \" % (\"F1\"), linewidth=5)\n",
    "# ax.plot(X_axis, Y_axis_recall, '-', color=colors['2'],label=\"%s \" % (\"Recall\"), linewidth=5)\n",
    "plt.legend(loc=\"best\")\n",
    "plt.grid('off')\n",
    "plt.tight_layout()\n",
    "plt.savefig(\"DBSCAN_graph_v2.png\", dpi=100)\n",
    "\n",
    "plt.show()"
   ]
  },
  {
   "cell_type": "markdown",
   "metadata": {},
   "source": [
    "# Comparing against default value"
   ]
  },
  {
   "cell_type": "code",
   "execution_count": null,
   "metadata": {},
   "outputs": [],
   "source": [
    "f1_tuned = []\n",
    "auc_tuned = []\n",
    "r_tuned = []\n",
    "f1_not_tuned = []\n",
    "auc_not_tuned = []"
   ]
  },
  {
   "cell_type": "code",
   "execution_count": null,
   "metadata": {},
   "outputs": [],
   "source": [
    "rs = 1\n",
    "x_train, x_test, y_train, y_test = train_test_split(dfsf_normed, dfsf_frac['binary_target'], test_size=0.25, random_state=rs)\n",
    "\n",
    "e = best_param[0]\n",
    "ms = 10\n",
    "print(e)\n",
    "\n",
    "stime = time.time()\n",
    "db = DBSCAN(eps=e, min_samples=ms, metric='euclidean', algorithm = 'auto', n_jobs=-1).fit(x_test)\n",
    "y_pred = [1 if i != -1 else i for i in db.labels_]\n",
    "print(\"Time for IF fitting: %.3f\" % (time.time() - stime))\n",
    "f = f1_score(y_test, y_pred)\n",
    "print(f\"---{f}\")\n",
    "f1_tuned.append(f)\n",
    "a = roc_auc_score(y_test, y_pred)\n",
    "print(f\"---{a}\")\n",
    "auc_tuned.append(a)\n",
    "r = recall_score(y_test, y_pred)\n",
    "print(f\"---{r}\")\n",
    "r_tuned.append(r)\n",
    "db = DBSCAN(metric='euclidean', algorithm = 'auto', n_jobs=-1).fit(x_test)\n",
    "y_pred = [1 if i != -1 else i for i in db.labels_]\n",
    "a = roc_auc_score(y_test, y_pred)\n",
    "print(f\"---{a}\")\n",
    "auc_not_tuned.append(a)"
   ]
  },
  {
   "cell_type": "code",
   "execution_count": null,
   "metadata": {},
   "outputs": [],
   "source": [
    "rs = 2\n",
    "x_train, x_test, y_train, y_test = train_test_split(dfsf_normed, dfsf_frac['binary_target'], test_size=0.25, random_state=rs)\n",
    "\n",
    "e = best_param[1]\n",
    "ms = 15\n",
    "\n",
    "stime = time.time()\n",
    "db = DBSCAN(eps=e, min_samples=ms, metric='euclidean', algorithm = 'auto', n_jobs=-1).fit(x_test)\n",
    "y_pred = [1 if i != -1 else i for i in db.labels_]\n",
    "print(\"Time for IF fitting: %.3f\" % (time.time() - stime))\n",
    "f = f1_score(y_test, y_pred)\n",
    "print(f\"---{f}\")\n",
    "f1_tuned.append(f)\n",
    "a = roc_auc_score(y_test, y_pred)\n",
    "print(f\"---{a}\")\n",
    "auc_tuned.append(a)\n",
    "r = recall_score(y_test, y_pred)\n",
    "print(f\"---{r}\")\n",
    "r_tuned.append(r)\n",
    "db = DBSCAN(metric='euclidean', algorithm = 'auto', n_jobs=-1).fit(x_test)\n",
    "y_pred = [1 if i != -1 else i for i in db.labels_]\n",
    "a = roc_auc_score(y_test, y_pred)\n",
    "print(f\"---{a}\")\n",
    "auc_not_tuned.append(a)"
   ]
  },
  {
   "cell_type": "code",
   "execution_count": null,
   "metadata": {},
   "outputs": [],
   "source": [
    "rs = 3\n",
    "x_train, x_test, y_train, y_test = train_test_split(dfsf_normed, dfsf_frac['binary_target'], test_size=0.25, random_state=rs)\n",
    "\n",
    "e = best_param[2]\n",
    "ms = 20\n",
    "\n",
    "stime = time.time()\n",
    "db = DBSCAN(eps=e, min_samples=ms, metric='euclidean', algorithm = 'auto', n_jobs=-1).fit(x_test)\n",
    "y_pred = [1 if i != -1 else i for i in db.labels_]\n",
    "print(\"Time for IF fitting: %.3f\" % (time.time() - stime))\n",
    "f = f1_score(y_test, y_pred)\n",
    "print(f\"---{f}\")\n",
    "f1_tuned.append(f)\n",
    "a = roc_auc_score(y_test, y_pred)\n",
    "print(f\"---{a}\")\n",
    "auc_tuned.append(a)\n",
    "r = recall_score(y_test, y_pred)\n",
    "print(f\"---{r}\")\n",
    "r_tuned.append(r)\n",
    "db = DBSCAN(metric='euclidean', algorithm = 'auto', n_jobs=-1).fit(x_test)\n",
    "y_pred = [1 if i != -1 else i for i in db.labels_]\n",
    "a = roc_auc_score(y_test, y_pred)\n",
    "print(f\"---{a}\")\n",
    "auc_not_tuned.append(a)"
   ]
  },
  {
   "cell_type": "code",
   "execution_count": null,
   "metadata": {},
   "outputs": [],
   "source": [
    "rs = 4\n",
    "x_train, x_test, y_train, y_test = train_test_split(dfsf_normed, dfsf_frac['binary_target'], test_size=0.25, random_state=rs)\n",
    "\n",
    "e = best_param[3]\n",
    "ms = 50\n",
    "\n",
    "stime = time.time()\n",
    "db = DBSCAN(eps=e, min_samples=ms, metric='euclidean', algorithm = 'auto', n_jobs=-1).fit(x_test)\n",
    "y_pred = [1 if i != -1 else i for i in db.labels_]\n",
    "print(\"Time for IF fitting: %.3f\" % (time.time() - stime))\n",
    "f = f1_score(y_test, y_pred)\n",
    "print(f\"---{f}\")\n",
    "f1_tuned.append(f)\n",
    "a = roc_auc_score(y_test, y_pred)\n",
    "print(f\"---{a}\")\n",
    "auc_tuned.append(a)\n",
    "r = recall_score(y_test, y_pred)\n",
    "print(f\"---{r}\")\n",
    "r_tuned.append(r)\n",
    "db = DBSCAN(metric='euclidean', algorithm = 'auto', n_jobs=-1).fit(x_test)\n",
    "y_pred = [1 if i != -1 else i for i in db.labels_]\n",
    "a = roc_auc_score(y_test, y_pred)\n",
    "print(f\"---{a}\")\n",
    "auc_not_tuned.append(a)"
   ]
  },
  {
   "cell_type": "code",
   "execution_count": null,
   "metadata": {},
   "outputs": [],
   "source": [
    "fig, ax = plt.subplots(figsize = (30,20))\n",
    "plt.rc('font', size=30)\n",
    "\n",
    "f1_tuned = [0.9954178136425095, 0.9952542140292294, 0.9953171367636211, 0.9952334249285871]\n",
    "f1_default = [0.9615918309257809, 0.955213461022107, 0.9576507857113085, 0.9571646010002174]\n",
    "width = 1\n",
    "labels = [f\"eps: {best_param[0]}\\ms: {10}\", \n",
    "          f\"eps: {best_param[0]}\\ms: {15}\", \n",
    "          f\"eps: {best_param[0]}\\ms: {20}\", \n",
    "          f\"eps: {best_param[0]}\\ms: {50}\"]\n",
    "ax.set_xticks([i*5 + width/2 for i in range(len(f1_tuned))])\n",
    "ax.set_xticklabels(labels)\n",
    "ax.set_ylabel('auc-score')\n",
    "\n",
    "ax.set_title('auc score before and after parameter tuning using cross validation search')\n",
    "\n",
    "ax.bar([i*5 for i in range(len(auc_tuned))], auc_tuned, width=width)\n",
    "ax.bar([i*5 + width for i in range(len(auc_not_tuned))], auc_not_tuned, width=width)\n",
    "fig.tight_layout()\n",
    "ax.legend(['auc score tuned', 'auc score not tuned'])\n",
    "plt.show()"
   ]
  },
  {
   "cell_type": "markdown",
   "metadata": {},
   "source": [
    "# Means and standard deviation"
   ]
  },
  {
   "cell_type": "code",
   "execution_count": null,
   "metadata": {},
   "outputs": [],
   "source": [
    "import statistics \n",
    "time = [0.287, 0.298, 0.293, 0.366]\n",
    "m = statistics.mean(time)\n",
    "s = statistics.stdev(time)\n",
    "print(f\"time:\\t {m} \\pm {s}\")\n",
    "m = statistics.mean(auc_tuned)\n",
    "s = statistics.stdev(auc_tuned)\n",
    "print(f\"auc:\\t {m} \\pm {s}\")\n",
    "m = statistics.mean(f1_tuned)\n",
    "s = statistics.stdev(f1_tuned)\n",
    "print(f\"f1:\\t {m} \\pm {s}\")\n",
    "m = statistics.mean(r_tuned)\n",
    "s = statistics.stdev(r_tuned)\n",
    "print(f\"recall:\\t {m} \\pm {s}\")"
   ]
  },
  {
   "cell_type": "code",
   "execution_count": null,
   "metadata": {},
   "outputs": [],
   "source": []
  }
 ],
 "metadata": {
  "kernelspec": {
   "display_name": "Python 3",
   "language": "python",
   "name": "python3"
  },
  "language_info": {
   "codemirror_mode": {
    "name": "ipython",
    "version": 3
   },
   "file_extension": ".py",
   "mimetype": "text/x-python",
   "name": "python",
   "nbconvert_exporter": "python",
   "pygments_lexer": "ipython3",
   "version": "3.8.5"
  }
 },
 "nbformat": 4,
 "nbformat_minor": 4
}
