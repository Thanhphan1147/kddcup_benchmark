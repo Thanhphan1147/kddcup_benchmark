{
 "cells": [
  {
   "cell_type": "code",
   "execution_count": 2,
   "metadata": {},
   "outputs": [],
   "source": [
    "from imports import *"
   ]
  },
  {
   "cell_type": "markdown",
   "metadata": {},
   "source": [
    "# Preprocessing\n",
    "Load the dataset. IF is then run on samples of the dataset with different anomaly rates."
   ]
  },
  {
   "cell_type": "code",
   "execution_count": null,
   "metadata": {},
   "outputs": [],
   "source": [
    "def cross_validation(contamination, max_samples, n_estimators, random_state, silent=True):\n",
    "    highest_score = 0\n",
    "    highest_score_c = 0\n",
    "    for c in contamination:\n",
    "        s = datetime.datetime.now()\n",
    "        y_pred = IsolationForest(random_state= random_state, n_jobs=-1, max_samples=max_samples, n_estimators=n_estimators, contamination=c).fit(x_train).predict(x_test)\n",
    "        t = datetime.datetime.now() - s\n",
    "        p, r, f, s = map(lambda x: x[0], precision_recall_fscore_support(y_test, y_pred, labels=[-1]))\n",
    "        # p = tp / (tp + fp)\n",
    "        a = roc_auc_score(y_test, y_pred)\n",
    "        if p + r + a > highest_score: highest_score = (p + r)/2; highest_score_c = c\n",
    "        \n",
    "        yp = np.array(y_pred)\n",
    "        yt = np.array(y_test)\n",
    "        \n",
    "        prediction = yp[np.where(yt == -1)]\n",
    "\n",
    "        tp = len(yp[np.where(prediction == -1)])\n",
    "        \n",
    "        fp = tp / p - tp\n",
    "        # predicted true\n",
    "        positives = yp[np.where(yp == -1)]\n",
    "        if not silent:\n",
    "            print(f\"Finished trainning in {t} seconds\")\n",
    "            print(f\"contamination: {c} \\t tp: {tp}/support: {s}/predicted: {len(positives)} -> fp = {len(positives) - tp}\")\n",
    "            print(f\"AUC : {a:.1%} \\t precision: {p:.3} \\t recall: {r:.3} \\t f1: {f}\")\n",
    "            print(\"--------------------\")\n",
    "    return (highest_score_c, y_pred, f, len(positives) - tp, tp, p, r, t)"
   ]
  },
  {
   "cell_type": "code",
   "execution_count": 4,
   "metadata": {},
   "outputs": [
    {
     "name": "stdout",
     "output_type": "stream",
     "text": [
      "anomaly rate is 1.0% out of 982607 records (9827)\n"
     ]
    }
   ],
   "source": [
    "df = pd.read_csv('kddcup.data', delimiter=',')\n",
    "df.columns = sa_columns + [\"target\"]\n",
    "\n",
    "r = 0.01\n",
    "target_anomaly_rate = r\n",
    "n_records = int(np.ceil(len(df.loc[df[\"target\"]=='normal.'])*r/(1-r)))\n",
    "df_sample = df.loc[df[\"target\"]=='normal.'].append(df.loc[df[\"target\"]!='normal.'].sample(n = n_records, random_state=1))\n",
    "df_sample = df_sample.sample(frac=1, random_state=1)\n",
    "anomaly_rate = 1.0 - len(df_sample.loc[df_sample[\"target\"]=='normal.'])/len(df_sample)\n",
    "print(f\"anomaly rate is {anomaly_rate:.1%} out of {len(df_sample)} records ({n_records})\")\n",
    "\n",
    "df_sample['binary_target'] = [1 if x=='normal.' else -1 for x in df_sample[\"target\"]]\n",
    "toDecode = [\"protocol_type\", \"service\", \"flag\", \"target\"]\n",
    "leSF = preprocessing.LabelEncoder()\n",
    "for f in toDecode:\n",
    "    df_sample[f] = leSF.fit_transform(df_sample[f])\n",
    "\n",
    "x_train, x_test, y_train, y_test = train_test_split(df_sample.drop([\"target\", 'binary_target'], axis=1), df_sample['binary_target'], test_size=0.33, random_state=0)"
   ]
  },
  {
   "cell_type": "code",
   "execution_count": 11,
   "metadata": {},
   "outputs": [
    {
     "data": {
      "text/plain": [
       "0.04"
      ]
     },
     "execution_count": 11,
     "metadata": {},
     "output_type": "execute_result"
    }
   ],
   "source": [
    "contamination = [round(0.01 * i, 2) for i in range(1, 10)]\n",
    "cmax, y_pred, f, fp, tp, p, r, t = cross_validation(contamination, silent=True)\n",
    "cmax"
   ]
  },
  {
   "cell_type": "code",
   "execution_count": 13,
   "metadata": {},
   "outputs": [
    {
     "name": "stdout",
     "output_type": "stream",
     "text": [
      "Finished trainning in 0:01:21.561574 seconds\n",
      "AUC: 95.9%\n",
      "              precision    recall  f1-score   support\n",
      "\n",
      "          -1       0.11      1.00      0.20      3256\n",
      "           1       1.00      0.92      0.96    321005\n",
      "\n",
      "    accuracy                           0.92    324261\n",
      "   macro avg       0.56      0.96      0.58    324261\n",
      "weighted avg       0.99      0.92      0.95    324261\n",
      "\n"
     ]
    },
    {
     "data": {
      "image/png": "[encoded data removed]",
      "text/plain": [
       "<Figure size 432x288 with 2 Axes>"
      ]
     },
     "metadata": {
      "needs_background": "light"
     },
     "output_type": "display_data"
    }
   ],
   "source": [
    "cm_if = confusion_matrix(y_test, y_pred)\n",
    "print(f\"Finished trainning in {t} seconds\")\n",
    "print(f\"AUC: {roc_auc_score(y_test, y_pred):.1%}\")\n",
    "print(classification_report(y_test, y_pred))\n",
    "plot_confusion_matrix(cm_if, f\"Confusion matrix for If with c = {cmax}\")"
   ]
  },
  {
   "cell_type": "code",
   "execution_count": 15,
   "metadata": {},
   "outputs": [
    {
     "name": "stdout",
     "output_type": "stream",
     "text": [
      "tp: 8583\t fp: 38568.0\n"
     ]
    }
   ],
   "source": [
    "print(f\"tp: {tp}\\t fp: {fp}\")"
   ]
  },
  {
   "cell_type": "code",
   "execution_count": 5,
   "metadata": {},
   "outputs": [
    {
     "name": "stdout",
     "output_type": "stream",
     "text": [
      "anomaly rate is 2.0% out of 992633 records (19853)\n",
      "AUC: 95.4%\n",
      "              precision    recall  f1-score   support\n",
      "\n",
      "          -1       0.18      1.00      0.30      6503\n",
      "           1       1.00      0.91      0.95    321066\n",
      "\n",
      "    accuracy                           0.91    327569\n",
      "   macro avg       0.59      0.95      0.63    327569\n",
      "weighted avg       0.98      0.91      0.94    327569\n",
      "\n",
      "[0:01:31.801529] contamination: 0.07\t tp: 6501\t fp:29735.0\n",
      "f1: 0.304 \t auc: 0.954\n",
      "[[  6501      2]\n",
      " [ 29735 291331]]\n",
      "anomaly rate is 3.0% out of 1002866 records (30086)\n",
      "AUC: 95.3%\n",
      "              precision    recall  f1-score   support\n",
      "\n",
      "          -1       0.25      1.00      0.40      9934\n",
      "           1       1.00      0.91      0.95    321012\n",
      "\n",
      "    accuracy                           0.91    330946\n",
      "   macro avg       0.62      0.95      0.68    330946\n",
      "weighted avg       0.98      0.91      0.93    330946\n",
      "\n",
      "[0:01:30.224440] contamination: 0.11\t tp: 9927\t fp:29786.0\n",
      "f1: 0.4 \t auc: 0.953\n",
      "[[  9927      7]\n",
      " [ 29786 291226]]\n",
      "anomaly rate is 4.0% out of 1013313 records (40533)\n",
      "AUC: 95.3%\n",
      "              precision    recall  f1-score   support\n",
      "\n",
      "          -1       0.31      1.00      0.47     13315\n",
      "           1       1.00      0.91      0.95    321079\n",
      "\n",
      "    accuracy                           0.91    334394\n",
      "   macro avg       0.65      0.95      0.71    334394\n",
      "weighted avg       0.97      0.91      0.93    334394\n",
      "\n",
      "[0:01:35.000720] contamination: 0.13\t tp: 13309\t fp:30153.0\n",
      "f1: 0.469 \t auc: 0.953\n",
      "[[ 13309      6]\n",
      " [ 30153 290926]]\n",
      "anomaly rate is 5.0% out of 1023979 records (51199)\n",
      "AUC: 69.2%\n",
      "              precision    recall  f1-score   support\n",
      "\n",
      "          -1       0.18      0.50      0.27     17004\n",
      "           1       0.97      0.88      0.92    320910\n",
      "\n",
      "    accuracy                           0.86    337914\n",
      "   macro avg       0.58      0.69      0.60    337914\n",
      "weighted avg       0.93      0.86      0.89    337914\n",
      "\n",
      "[0:01:26.042494] contamination: 0.1\t tp: 8583\t fp:38568.0\n",
      "f1: 0.268 \t auc: 0.692\n",
      "[[  8583   8421]\n",
      " [ 38568 282342]]\n"
     ]
    }
   ],
   "source": [
    "rs = [0.02, 0.03, 0.04, 0.05]\n",
    "ts = []\n",
    "auc= []\n",
    "fps = []\n",
    "tps = []\n",
    "f1 = []\n",
    "cms = []\n",
    "for r in rs:\n",
    "    target_anomaly_rate = r\n",
    "    n_records = int(np.ceil(len(df.loc[df[\"target\"]=='normal.'])*r/(1-r)))\n",
    "    df_sample = df.loc[df[\"target\"]=='normal.'].append(df.loc[df[\"target\"]!='normal.'].sample(n = n_records, random_state=1))\n",
    "    df_sample = df_sample.sample(frac=1, random_state=1)\n",
    "    anomaly_rate = 1.0 - len(df_sample.loc[df_sample[\"target\"]=='normal.'])/len(df_sample)\n",
    "    print(f\"anomaly rate is {anomaly_rate:.1%} out of {len(df_sample)} records ({n_records})\")\n",
    "\n",
    "    df_sample['binary_target'] = [1 if x=='normal.' else -1 for x in df_sample[\"target\"]]\n",
    "    toDecode = [\"protocol_type\", \"service\", \"flag\", \"target\"]\n",
    "    leSF = preprocessing.LabelEncoder()\n",
    "    for f in toDecode:\n",
    "        df_sample[f] = leSF.fit_transform(df_sample[f])\n",
    "\n",
    "    x_train, x_test, y_train, y_test = train_test_split(df_sample.drop([\"target\", 'binary_target'], axis=1), df_sample['binary_target'], test_size=0.33, random_state=0)\n",
    "    contamination = [round(r + 0.01*i, 2) for i in range(1, 10)]\n",
    "    cmax, y_pred, f, fp, tp, p, r, t = cross_validation(contamination, silent=True)\n",
    "    \n",
    "    cm_if = confusion_matrix(y_test, y_pred)\n",
    "    print(f\"AUC: {roc_auc_score(y_test, y_pred):.1%}\")\n",
    "    print(classification_report(y_test, y_pred))\n",
    "    ts.append(t)\n",
    "    auc.append(roc_auc_score(y_test, y_pred))\n",
    "    fps.append(fp)\n",
    "    tps.append(tp)\n",
    "    f1.append(f)\n",
    "    cms.append(cm_if)\n",
    "    print(f\"[{t}] contamination: {cmax}\\t tp: {tp}\\t fp:{fp}\")\n",
    "    print(f\"f1: {f:.3} \\t auc: {roc_auc_score(y_test, y_pred):.3}\")\n",
    "    print(cm_if)"
   ]
  },
  {
   "cell_type": "code",
   "execution_count": 10,
   "metadata": {},
   "outputs": [
    {
     "name": "stdout",
     "output_type": "stream",
     "text": [
      "tp: 6501 fp: 29735.0\n"
     ]
    },
    {
     "data": {
      "image/png": "[encoded data removed]",
      "text/plain": [
       "<Figure size 432x288 with 2 Axes>"
      ]
     },
     "metadata": {
      "needs_background": "light"
     },
     "output_type": "display_data"
    }
   ],
   "source": [
    "print(f\"tp: {tps[0]} fp: {fps[0]}\")\n",
    "plot_confusion_matrix(cms[0], f\"contamination = {rs[0]}\")"
   ]
  },
  {
   "cell_type": "code",
   "execution_count": 12,
   "metadata": {},
   "outputs": [
    {
     "name": "stdout",
     "output_type": "stream",
     "text": [
      "tp: 9927 fp: 29786.0\n"
     ]
    },
    {
     "data": {
      "image/png": "[encoded data removed]",
      "text/plain": [
       "<Figure size 432x288 with 2 Axes>"
      ]
     },
     "metadata": {
      "needs_background": "light"
     },
     "output_type": "display_data"
    }
   ],
   "source": [
    "print(f\"tp: {tps[1]} fp: {fps[1]}\")\n",
    "plot_confusion_matrix(cms[1], f\"contamination = {rs[1]}\")"
   ]
  },
  {
   "cell_type": "code",
   "execution_count": 13,
   "metadata": {},
   "outputs": [
    {
     "name": "stdout",
     "output_type": "stream",
     "text": [
      "tp: 13309 fp: 30153.0\n"
     ]
    },
    {
     "data": {
      "image/png": "[encoded data removed]",
      "text/plain": [
       "<Figure size 432x288 with 2 Axes>"
      ]
     },
     "metadata": {
      "needs_background": "light"
     },
     "output_type": "display_data"
    }
   ],
   "source": [
    "print(f\"tp: {tps[2]} fp: {fps[2]}\")\n",
    "plot_confusion_matrix(cms[2], f\"contamination = {rs[2]}\")"
   ]
  },
  {
   "cell_type": "code",
   "execution_count": 14,
   "metadata": {},
   "outputs": [
    {
     "name": "stdout",
     "output_type": "stream",
     "text": [
      "tp: 8583 fp: 38568.0\n"
     ]
    },
    {
     "data": {
      "image/png": "[encoded data removed]",
      "text/plain": [
       "<Figure size 432x288 with 2 Axes>"
      ]
     },
     "metadata": {
      "needs_background": "light"
     },
     "output_type": "display_data"
    }
   ],
   "source": [
    "print(f\"tp: {tps[3]} fp: {fps[3]}\")\n",
    "plot_confusion_matrix(cms[3], f\"contamination = {rs[3]}\")"
   ]
  },
  {
   "cell_type": "code",
   "execution_count": 17,
   "metadata": {},
   "outputs": [
    {
     "name": "stdout",
     "output_type": "stream",
     "text": [
      "anomaly rate is 5.0% out of 1023979 records (51199)\n",
      "Finished trainning in 0:01:33.780120 seconds\n",
      "contamination: 0.11 \t tp: 8583/support: 17004/predicted: 37120 -> fp = 28537\n",
      "AUC : 70.8% \t precision: 0.231 \t recall: 0.505 \t f1: 0.3171605941911167\n",
      "--------------------\n",
      "Finished trainning in 0:01:33.554381 seconds\n",
      "contamination: 0.12 \t tp: 8583/support: 17004/predicted: 40441 -> fp = 31858\n",
      "AUC : 70.3% \t precision: 0.212 \t recall: 0.505 \t f1: 0.2988249630080947\n",
      "--------------------\n",
      "Finished trainning in 0:01:33.462066 seconds\n",
      "contamination: 0.13 \t tp: 8583/support: 17004/predicted: 43781 -> fp = 35198\n",
      "AUC : 69.8% \t precision: 0.196 \t recall: 0.505 \t f1: 0.28240519865098296\n",
      "--------------------\n",
      "Finished trainning in 0:01:33.657715 seconds\n",
      "contamination: 0.14 \t tp: 8583/support: 17004/predicted: 47151 -> fp = 38568\n",
      "AUC : 69.2% \t precision: 0.182 \t recall: 0.505 \t f1: 0.26757072714519525\n",
      "--------------------\n",
      "Finished trainning in 0:01:33.613250 seconds\n",
      "contamination: 0.15 \t tp: 8583/support: 17004/predicted: 48090 -> fp = 39507\n",
      "AUC : 69.1% \t precision: 0.178 \t recall: 0.505 \t f1: 0.26371094110056226\n",
      "--------------------\n",
      "Finished trainning in 0:01:33.765745 seconds\n",
      "contamination: 0.16 \t tp: 8583/support: 17004/predicted: 48090 -> fp = 39507\n",
      "AUC : 69.1% \t precision: 0.178 \t recall: 0.505 \t f1: 0.26371094110056226\n",
      "--------------------\n",
      "Finished trainning in 0:01:33.493208 seconds\n",
      "contamination: 0.17 \t tp: 16995/support: 17004/predicted: 57443 -> fp = 40448\n",
      "AUC : 93.7% \t precision: 0.296 \t recall: 0.999 \t f1: 0.45656641637675127\n",
      "--------------------\n",
      "Finished trainning in 0:01:33.451459 seconds\n",
      "contamination: 0.18 \t tp: 16995/support: 17004/predicted: 60741 -> fp = 43746\n",
      "AUC : 93.2% \t precision: 0.28 \t recall: 0.999 \t f1: 0.43719853366775996\n",
      "--------------------\n",
      "Finished trainning in 0:01:33.431364 seconds\n",
      "contamination: 0.19 \t tp: 16998/support: 17004/predicted: 64152 -> fp = 47154\n",
      "AUC : 92.6% \t precision: 0.265 \t recall: 1.0 \t f1: 0.41889693922815324\n",
      "--------------------\n",
      "Finished trainning in 0:01:33.463550 seconds\n",
      "contamination: 0.2 \t tp: 16999/support: 17004/predicted: 67545 -> fp = 50546\n",
      "AUC : 92.1% \t precision: 0.252 \t recall: 1.0 \t f1: 0.4021100190422122\n",
      "--------------------\n",
      "Finished trainning in 0:01:33.318265 seconds\n",
      "contamination: 0.21 \t tp: 17002/support: 17004/predicted: 70967 -> fp = 53965\n",
      "AUC : 91.6% \t precision: 0.24 \t recall: 1.0 \t f1: 0.3865364722465358\n",
      "--------------------\n",
      "Finished trainning in 0:01:33.617694 seconds\n",
      "contamination: 0.22 \t tp: 17002/support: 17004/predicted: 74330 -> fp = 57328\n",
      "AUC : 91.1% \t precision: 0.229 \t recall: 1.0 \t f1: 0.3723038517967022\n",
      "--------------------\n",
      "Finished trainning in 0:01:33.706216 seconds\n",
      "contamination: 0.23 \t tp: 17002/support: 17004/predicted: 77814 -> fp = 60812\n",
      "AUC : 90.5% \t precision: 0.218 \t recall: 1.0 \t f1: 0.35862388997869604\n",
      "--------------------\n",
      "Finished trainning in 0:01:33.544865 seconds\n",
      "contamination: 0.24 \t tp: 17003/support: 17004/predicted: 80910 -> fp = 63907\n",
      "AUC : 90.0% \t precision: 0.21 \t recall: 1.0 \t f1: 0.34730477766202994\n",
      "--------------------\n",
      "Finished trainning in 0:01:33.818995 seconds\n",
      "contamination: 0.25 \t tp: 17003/support: 17004/predicted: 84673 -> fp = 67670\n",
      "AUC : 89.5% \t precision: 0.201 \t recall: 1.0 \t f1: 0.334451252495648\n",
      "--------------------\n",
      "Finished trainning in 0:01:33.750711 seconds\n",
      "contamination: 0.26 \t tp: 17003/support: 17004/predicted: 88004 -> fp = 71001\n",
      "AUC : 88.9% \t precision: 0.193 \t recall: 1.0 \t f1: 0.3238419929910102\n",
      "--------------------\n",
      "Finished trainning in 0:01:33.686154 seconds\n",
      "contamination: 0.27 \t tp: 17004/support: 17004/predicted: 91338 -> fp = 74334\n",
      "AUC : 88.4% \t precision: 0.186 \t recall: 1.0 \t f1: 0.3138948884089273\n",
      "--------------------\n",
      "Finished trainning in 0:01:33.592833 seconds\n",
      "contamination: 0.28 \t tp: 17004/support: 17004/predicted: 94769 -> fp = 77765\n",
      "AUC : 87.9% \t precision: 0.179 \t recall: 1.0 \t f1: 0.30425952600359657\n",
      "--------------------\n",
      "Finished trainning in 0:01:33.470774 seconds\n",
      "contamination: 0.29 \t tp: 17004/support: 17004/predicted: 98211 -> fp = 81207\n",
      "AUC : 87.3% \t precision: 0.173 \t recall: 1.0 \t f1: 0.2951698997526364\n",
      "--------------------\n",
      "AUC: 87.3%\n",
      "              precision    recall  f1-score   support\n",
      "\n",
      "          -1       0.17      1.00      0.30     17004\n",
      "           1       1.00      0.75      0.86    320910\n",
      "\n",
      "    accuracy                           0.76    337914\n",
      "   macro avg       0.59      0.87      0.58    337914\n",
      "weighted avg       0.96      0.76      0.83    337914\n",
      "\n",
      "tp:17004\t fp:81207.0\n"
     ]
    },
    {
     "data": {
      "image/png": "[encoded data removed]",
      "text/plain": [
       "<Figure size 432x288 with 2 Axes>"
      ]
     },
     "metadata": {
      "needs_background": "light"
     },
     "output_type": "display_data"
    }
   ],
   "source": [
    "r = 0.05\n",
    "n_records = int(np.ceil(len(df.loc[df[\"target\"]=='normal.'])*r/(1-r)))\n",
    "df_sample = df.loc[df[\"target\"]=='normal.'].append(df.loc[df[\"target\"]!='normal.'].sample(n = n_records, random_state=1))\n",
    "df_sample = df_sample.sample(frac=1, random_state=1)\n",
    "anomaly_rate = 1.0 - len(df_sample.loc[df_sample[\"target\"]=='normal.'])/len(df_sample)\n",
    "print(f\"anomaly rate is {anomaly_rate:.1%} out of {len(df_sample)} records ({n_records})\")\n",
    "\n",
    "df_sample['binary_target'] = [1 if x=='normal.' else -1 for x in df_sample[\"target\"]]\n",
    "toDecode = [\"protocol_type\", \"service\", \"flag\", \"target\"]\n",
    "leSF = preprocessing.LabelEncoder()\n",
    "for f in toDecode:\n",
    "    df_sample[f] = leSF.fit_transform(df_sample[f])\n",
    "\n",
    "x_train, x_test, y_train, y_test = train_test_split(df_sample.drop([\"target\", 'binary_target'], axis=1), df_sample['binary_target'], test_size=0.33, random_state=0)\n",
    "\n",
    "contamination = [round(0.1 + 0.01*i, 2) for i in range(1, 20)]\n",
    "cmax, y_pred, f, fp, tp, p, r, t = cross_validation(contamination, silent=False)\n",
    "\n",
    "cm_if = confusion_matrix(y_test, y_pred)\n",
    "print(f\"AUC: {roc_auc_score(y_test, y_pred):.1%}\")\n",
    "print(classification_report(y_test, y_pred))\n",
    "print(f\"tp:{tp}\\t fp:{fp}\")\n",
    "plot_confusion_matrix(cm_if, f\"contamination={cmax}\")"
   ]
  },
  {
   "cell_type": "code",
   "execution_count": 18,
   "metadata": {},
   "outputs": [
    {
     "name": "stdout",
     "output_type": "stream",
     "text": [
      "Finished trainning in 0:01:34.080174 seconds\n",
      "AUC: 93.7%\n",
      "              precision    recall  f1-score   support\n",
      "\n",
      "          -1       0.30      1.00      0.46     17004\n",
      "           1       1.00      0.87      0.93    320910\n",
      "\n",
      "    accuracy                           0.88    337914\n",
      "   macro avg       0.65      0.94      0.69    337914\n",
      "weighted avg       0.96      0.88      0.91    337914\n",
      "\n"
     ]
    },
    {
     "data": {
      "image/png": "[encoded data removed]",
      "text/plain": [
       "<Figure size 432x288 with 2 Axes>"
      ]
     },
     "metadata": {
      "needs_background": "light"
     },
     "output_type": "display_data"
    }
   ],
   "source": [
    "s = datetime.datetime.now()\n",
    "y_pred = IsolationForest(random_state=1, n_jobs=-1, max_samples=0.25, n_estimators=100, contamination=0.17).fit(x_train).predict(x_test)\n",
    "t = datetime.datetime.now() - s\n",
    "\n",
    "cm_if = confusion_matrix(y_test, y_pred)\n",
    "print(f\"Finished trainning in {t} seconds\")\n",
    "print(f\"AUC: {roc_auc_score(y_test, y_pred):.1%}\")\n",
    "print(classification_report(y_test, y_pred))\n",
    "plot_confusion_matrix(cm_if, f\"Confusion matrix for If with c = {cmax}\")"
   ]
  },
  {
   "cell_type": "code",
   "execution_count": null,
   "metadata": {},
   "outputs": [
    {
     "name": "stdout",
     "output_type": "stream",
     "text": [
      "anomaly rate is 10.0% out of 1080867 records (108087)\n",
      "Finished trainning in 0:01:38.211932 seconds\n",
      "contamination: 0.11 \t tp: 12215/support: 35634/predicted: 36842 -> fp = 24627\n",
      "AUC : 63.3% \t precision: 0.332 \t recall: 0.343 \t f1: 0.3370771013852861\n",
      "--------------------\n",
      "Finished trainning in 0:01:36.942288 seconds\n",
      "contamination: 0.12 \t tp: 15711/support: 35634/predicted: 42890 -> fp = 27179\n",
      "AUC : 67.8% \t precision: 0.366 \t recall: 0.441 \t f1: 0.4001579135041516\n",
      "--------------------\n",
      "Finished trainning in 0:01:34.745884 seconds\n",
      "contamination: 0.13 \t tp: 15711/support: 35634/predicted: 46417 -> fp = 30706\n",
      "AUC : 67.3% \t precision: 0.338 \t recall: 0.441 \t f1: 0.3829569414144861\n",
      "--------------------\n",
      "Finished trainning in 0:01:34.152591 seconds\n",
      "contamination: 0.14 \t tp: 15713/support: 35634/predicted: 49986 -> fp = 34273\n",
      "AUC : 66.7% \t precision: 0.314 \t recall: 0.441 \t f1: 0.36704041111889746\n",
      "--------------------\n",
      "Finished trainning in 0:01:34.792767 seconds\n",
      "contamination: 0.15 \t tp: 15713/support: 35634/predicted: 53474 -> fp = 37761\n",
      "AUC : 66.2% \t precision: 0.294 \t recall: 0.441 \t f1: 0.35267316065897564\n",
      "--------------------\n",
      "Finished trainning in 0:01:34.262552 seconds\n",
      "contamination: 0.16 \t tp: 18133/support: 35634/predicted: 57002 -> fp = 38869\n",
      "AUC : 69.4% \t precision: 0.318 \t recall: 0.509 \t f1: 0.3914892698303036\n",
      "--------------------\n",
      "Finished trainning in 0:01:33.663405 seconds\n",
      "contamination: 0.17 \t tp: 18135/support: 35634/predicted: 60482 -> fp = 42347\n",
      "AUC : 68.9% \t precision: 0.3 \t recall: 0.509 \t f1: 0.37735652752923554\n",
      "--------------------\n",
      "Finished trainning in 0:01:34.839810 seconds\n",
      "contamination: 0.18 \t tp: 18136/support: 35634/predicted: 63999 -> fp = 45863\n",
      "AUC : 68.3% \t precision: 0.283 \t recall: 0.509 \t f1: 0.3640560858350145\n",
      "--------------------\n",
      "Finished trainning in 0:01:34.732093 seconds\n",
      "contamination: 0.19 \t tp: 18137/support: 35634/predicted: 67576 -> fp = 49439\n",
      "AUC : 67.7% \t precision: 0.268 \t recall: 0.509 \t f1: 0.3514581920356554\n",
      "--------------------\n"
     ]
    }
   ],
   "source": [
    "r = 0.1\n",
    "n_records = int(np.ceil(len(df.loc[df[\"target\"]=='normal.'])*r/(1-r)))\n",
    "df_sample = df.loc[df[\"target\"]=='normal.'].append(df.loc[df[\"target\"]!='normal.'].sample(n = n_records, random_state=1))\n",
    "df_sample = df_sample.sample(frac=1, random_state=1)\n",
    "anomaly_rate = 1.0 - len(df_sample.loc[df_sample[\"target\"]=='normal.'])/len(df_sample)\n",
    "print(f\"anomaly rate is {anomaly_rate:.1%} out of {len(df_sample)} records ({n_records})\")\n",
    "\n",
    "df_sample['binary_target'] = [1 if x=='normal.' else -1 for x in df_sample[\"target\"]]\n",
    "toDecode = [\"protocol_type\", \"service\", \"flag\", \"target\"]\n",
    "leSF = preprocessing.LabelEncoder()\n",
    "for f in toDecode:\n",
    "    df_sample[f] = leSF.fit_transform(df_sample[f])\n",
    "\n",
    "x_train, x_test, y_train, y_test = train_test_split(df_sample.drop([\"target\", 'binary_target'], axis=1), df_sample['binary_target'], test_size=0.33, random_state=0)\n",
    "\n",
    "contamination = [round(0.1 + 0.01*i, 2) for i in range(1, 20)]\n",
    "cmax, y_pred, f, fp, tp, p, r, t = cross_validation(contamination, silent=False)\n",
    "\n",
    "cm_if = confusion_matrix(y_test, y_pred)\n",
    "print(f\"AUC: {roc_auc_score(y_test, y_pred):.1%}\")\n",
    "print(classification_report(y_test, y_pred))\n",
    "print(f\"tp:{tp}\\t fp:{fp}\")\n",
    "plot_confusion_matrix(cm_if, f\"contamination={cmax}\")"
   ]
  },
  {
   "cell_type": "code",
   "execution_count": null,
   "metadata": {},
   "outputs": [],
   "source": [
    "dfsf = df[df[\"logged_in\"]== 1]\n",
    "print(len(dfsf)- len(dfsf.loc[dfsf[\"target\"]=='normal.']))\n",
    "dfsf = dfsf[sf_columns + [\"target\"]] \n",
    "# print(dfsf.head(1))\n",
    "\n",
    "anomaly_rate = 1.0 - len(dfsf.loc[dfsf[\"target\"]=='normal.'])/len(dfsf)\n",
    "print(f\"anomaly rate is {anomaly_rate:.1%} out of {len(dfsf)} records\")\n",
    "\n",
    "dfsf['binary_target'] = [1 if x=='normal.' else -1 for x in dfsf[\"target\"]]\n",
    "toDecode = toDecodeSF\n",
    "leSF = preprocessing.LabelEncoder()\n",
    "for f in toDecode:\n",
    "    dfsf[f] = leSF.fit_transform(dfsf[f])\n",
    "\n",
    "Y_axis_f1 = []\n",
    "Y_axis_recall = []"
   ]
  },
  {
   "cell_type": "code",
   "execution_count": null,
   "metadata": {},
   "outputs": [],
   "source": [
    "rs = 1\n",
    "x_train, x_test, y_train, y_test = train_test_split(df_sample.drop([\"target\", 'binary_target'], axis=1), df_sample['binary_target'], test_size=0.25, random_state=rs)\n",
    "stime = time.time()\n",
    "cmax, y_pred, f, fp, tp, p, r, t = cross_validation(np.arange(0.005, 0.02, 0.001), 0.25, 100, rs, silent=False)\n",
    "print(\"Time for IF fitting: %.3f\" % (time.time() - stime))\n",
    "Y_axis_f1.append(f)\n",
    "Y_axis_recall.append(r)"
   ]
  },
  {
   "cell_type": "code",
   "execution_count": null,
   "metadata": {},
   "outputs": [],
   "source": [
    "rs = 2\n",
    "x_train, x_test, y_train, y_test = train_test_split(df_sample.drop([\"target\", 'binary_target'], axis=1), df_sample['binary_target'], test_size=0.25, random_state=rs)\n",
    "stime = time.time()\n",
    "cmax, y_pred, f, fp, tp, p, r, t = cross_validation(np.arange(0.005, 0.02, 0.001), 0.25, 200, rs, silent=False)\n",
    "print(\"Time for IF fitting: %.3f\" % (time.time() - stime))\n",
    "Y_axis_f1.append(f)\n",
    "Y_axis_recall.append(r)"
   ]
  },
  {
   "cell_type": "code",
   "execution_count": null,
   "metadata": {},
   "outputs": [],
   "source": [
    "rs = 3\n",
    "x_train, x_test, y_train, y_test = train_test_split(df_sample.drop([\"target\", 'binary_target'], axis=1), df_sample['binary_target'], test_size=0.25, random_state=rs)\n",
    "stime = time.time()\n",
    "cmax, y_pred, f, fp, tp, p, r, t = cross_validation(np.arange(0.005, 0.02, 0.001), 0.25, 500, rs, silent=False)\n",
    "print(\"Time for IF fitting: %.3f\" % (time.time() - stime))\n",
    "Y_axis_f1.append(f)\n",
    "Y_axis_recall.append(r)"
   ]
  },
  {
   "cell_type": "code",
   "execution_count": null,
   "metadata": {},
   "outputs": [],
   "source": [
    "rs = 4\n",
    "x_train, x_test, y_train, y_test = train_test_split(df_sample.drop([\"target\", 'binary_target'], axis=1), df_sample['binary_target'], test_size=0.25, random_state=rs)\n",
    "stime = time.time()\n",
    "cmax, y_pred, f, fp, tp, p, r, t = cross_validation(np.arange(0.005, 0.02, 0.001), 0.25, 1000, rs, silent=False)\n",
    "print(\"Time for IF fitting: %.3f\" % (time.time() - stime))\n",
    "Y_axis_f1.append(f)\n",
    "Y_axis_recall.append(r)"
   ]
  },
  {
   "cell_type": "code",
   "execution_count": null,
   "metadata": {},
   "outputs": [],
   "source": [
    "rs = 5\n",
    "x_train, x_test, y_train, y_test = train_test_split(df_sample.drop([\"target\", 'binary_target'], axis=1), df_sample['binary_target'], test_size=0.25, random_state=rs)\n",
    "stime = time.time()\n",
    "cmax, y_pred, f, fp, tp, p, r, t = cross_validation(np.arange(0.005, 0.02, 0.001), 0.3, 100, rs, silent=False)\n",
    "print(\"Time for IF fitting: %.3f\" % (time.time() - stime))\n",
    "Y_axis_f1.append(f)\n",
    "Y_axis_recall.append(r)"
   ]
  },
  {
   "cell_type": "code",
   "execution_count": null,
   "metadata": {},
   "outputs": [],
   "source": [
    "rs = 6\n",
    "x_train, x_test, y_train, y_test = train_test_split(df_sample.drop([\"target\", 'binary_target'], axis=1), df_sample['binary_target'], test_size=0.25, random_state=rs)\n",
    "stime = time.time()\n",
    "cmax, y_pred, f, fp, tp, p, r, t = cross_validation(np.arange(0.005, 0.02, 0.001), 0.5, 100, rs, silent=False)\n",
    "print(\"Time for IF fitting: %.3f\" % (time.time() - stime))\n",
    "Y_axis_f1.append(f)\n",
    "Y_axis_recall.append(r)"
   ]
  },
  {
   "cell_type": "code",
   "execution_count": null,
   "metadata": {},
   "outputs": [],
   "source": [
    "X_axis = [f\"configuration-{i}\" for i in range(1,7)]"
   ]
  }
 ],
 "metadata": {
  "kernelspec": {
   "display_name": "Python 3",
   "language": "python",
   "name": "python3"
  },
  "language_info": {
   "codemirror_mode": {
    "name": "ipython",
    "version": 3
   },
   "file_extension": ".py",
   "mimetype": "text/x-python",
   "name": "python",
   "nbconvert_exporter": "python",
   "pygments_lexer": "ipython3",
   "version": "3.8.5"
  }
 },
 "nbformat": 4,
 "nbformat_minor": 4
}
