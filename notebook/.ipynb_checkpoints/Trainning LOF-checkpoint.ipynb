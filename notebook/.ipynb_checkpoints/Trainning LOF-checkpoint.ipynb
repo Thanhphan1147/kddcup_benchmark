{
 "cells": [
  {
   "cell_type": "code",
   "execution_count": 1,
   "metadata": {},
   "outputs": [],
   "source": [
    "from imports import *"
   ]
  },
  {
   "cell_type": "code",
   "execution_count": 2,
   "metadata": {},
   "outputs": [],
   "source": [
    "from sklearn.metrics import precision_score\n",
    "from sklearn.metrics import fbeta_score\n",
    "from sklearn.metrics import f1_score\n",
    "import time"
   ]
  },
  {
   "cell_type": "markdown",
   "metadata": {},
   "source": [
    "# Preprocessing\n",
    "Load the dataset. IF is then run on samples of the dataset with different anomaly rates."
   ]
  },
  {
   "cell_type": "code",
   "execution_count": 4,
   "metadata": {},
   "outputs": [],
   "source": [
    "df = pd.read_csv('kddcup.data', delimiter=',')\n",
    "df.columns = sa_columns + [\"target\"]"
   ]
  },
  {
   "cell_type": "code",
   "execution_count": 6,
   "metadata": {},
   "outputs": [
    {
     "name": "stdout",
     "output_type": "stream",
     "text": [
      "3377\n"
     ]
    }
   ],
   "source": [
    "dfsf = df[df[\"logged_in\"]== 1]\n",
    "print(len(dfsf)- len(dfsf.loc[dfsf[\"target\"]=='normal.']))\n",
    "dfsf = dfsf[sf_columns + [\"target\"]] \n",
    "# print(dfsf.head(1))\n",
    "# Split the dataset into 2 classes for consistent anomaly_rate when sampling\n",
    "dfsf_normal = dfsf.loc[dfsf[\"target\"]=='normal.']\n",
    "dfsf_attack = dfsf.loc[dfsf[\"target\"]!='normal.']\n",
    "# print(f\"A sample normal frame: \\t {dfsf_normal.head(1)}\")\n",
    "# print(\"-----------------\")\n",
    "# print(f\"A sample attack frame: \\t {dfsf_attack.head(1)}\")"
   ]
  },
  {
   "cell_type": "code",
   "execution_count": 7,
   "metadata": {},
   "outputs": [
    {
     "name": "stdout",
     "output_type": "stream",
     "text": [
      "anomaly rate is 0.5% out of 703066 records\n"
     ]
    }
   ],
   "source": [
    "anomaly_rate = 1.0 - len(dfsf.loc[dfsf[\"target\"]=='normal.'])/len(dfsf)\n",
    "print(f\"anomaly rate is {anomaly_rate:.1%} out of {len(dfsf)} records\")\n",
    "\n",
    "dfsf['binary_target'] = [1 if x=='normal.' else -1 for x in dfsf[\"target\"]]\n",
    "toDecode = toDecodeSF\n",
    "leSF = preprocessing.LabelEncoder()\n",
    "for f in toDecode:\n",
    "    dfsf[f] = leSF.fit_transform(dfsf[f])\n",
    "\n",
    "dfsf_normed = preprocessing.normalize(dfsf.drop([\"target\", \"binary_target\"], axis=1))"
   ]
  },
  {
   "cell_type": "markdown",
   "metadata": {},
   "source": [
    "# Parameter tuning"
   ]
  },
  {
   "cell_type": "code",
   "execution_count": 8,
   "metadata": {},
   "outputs": [],
   "source": [
    "def cross_validation_lof(contamination, n_neighbors, silent = True):\n",
    "    highest_score = 0\n",
    "    highest_score_c = 0\n",
    "    #print(\"array:\", contamination)\n",
    "    for c in contamination:\n",
    "        s = datetime.datetime.now()\n",
    "        y_pred = LocalOutlierFactor(n_neighbors=100, metric='euclidean', algorithm = 'auto', contamination=c, n_jobs=-1).fit_predict(x_test)\n",
    "        t = datetime.datetime.now() - s\n",
    "        p, r, f, s = map(lambda x: x[0], precision_recall_fscore_support(y_test, y_pred, labels=[-1]))\n",
    "        # p = tp / (tp + fp)\n",
    "        a = roc_auc_score(y_test, y_pred)\n",
    "        if p + r + a > highest_score: highest_score = p + r + a; highest_score_c = c\n",
    "        \n",
    "        yp = np.array(y_pred)\n",
    "        yt = np.array(y_test)\n",
    "        \n",
    "        prediction = yp[np.where(yt == -1)]\n",
    "\n",
    "        tp = len(yp[np.where(prediction == -1)])\n",
    "        # fp through formula\n",
    "        fp = tp / p - tp\n",
    "        \n",
    "        # predicted true\n",
    "        positives = yp[np.where(yp == -1)]\n",
    "        if not silent:\n",
    "            print(f\"Finished trainning in {t} seconds\")\n",
    "            print(f\"contamination: {c} \\t tp: {tp}/support: {s}/predicted: {len(positives)} -> fp = {len(positives) - tp}\")\n",
    "            print(f\"AUC : {a:.1%} \\t precision: {p:.3} \\t recall: {r:.3} \\t f1: {f}\")\n",
    "            print(\"--------------------\")\n",
    "    return (highest_score_c, y_pred, f, len(positives) - tp, tp, p, r, t)"
   ]
  },
  {
   "cell_type": "code",
   "execution_count": 9,
   "metadata": {},
   "outputs": [],
   "source": [
    "Y_axis_f1 = []\n",
    "Y_axis_recall = []"
   ]
  },
  {
   "cell_type": "code",
   "execution_count": null,
   "metadata": {},
   "outputs": [],
   "source": [
    "rs = 1\n",
    "x_train, x_test, y_train, y_test = train_test_split(dfsf_normed, df_sample['binary_target'], test_size=0.25, random_state=rs)\n",
    "stime = time.time()\n",
    "cmax, y_pred, f, fp, tp, p, r, t = cross_validation(np.arange(0.005, 0.02, 0.001), 0.25, 100, rs, silent=False)\n",
    "print(\"Time for IF fitting: %.3f\" % (time.time() - stime))\n",
    "Y_axis_f1.append(f)\n",
    "Y_axis_recall.append(r)"
   ]
  },
  {
   "cell_type": "code",
   "execution_count": null,
   "metadata": {},
   "outputs": [],
   "source": [
    "rs = 2\n",
    "x_train, x_test, y_train, y_test = train_test_split(df_sample.drop([\"target\", 'binary_target'], axis=1), df_sample['binary_target'], test_size=0.25, random_state=rs)\n",
    "stime = time.time()\n",
    "cmax, y_pred, f, fp, tp, p, r, t = cross_validation_lof(np.arange(0.005, 0.02, 0.001), 0.25, 200, rs, silent=False)\n",
    "print(\"Time for IF fitting: %.3f\" % (time.time() - stime))\n",
    "Y_axis_f1.append(f)\n",
    "Y_axis_recall.append(r)"
   ]
  },
  {
   "cell_type": "code",
   "execution_count": null,
   "metadata": {},
   "outputs": [],
   "source": [
    "rs = 3\n",
    "x_train, x_test, y_train, y_test = train_test_split(df_sample.drop([\"target\", 'binary_target'], axis=1), df_sample['binary_target'], test_size=0.25, random_state=rs)\n",
    "stime = time.time()\n",
    "cmax, y_pred, f, fp, tp, p, r, t = cross_validation(np.arange(0.005, 0.1, 0.005), rs, silent=False)\n",
    "print(\"Time for IF fitting: %.3f\" % (time.time() - stime))\n",
    "Y_axis_f1.append(f)\n",
    "Y_axis_recall.append(r)"
   ]
  },
  {
   "cell_type": "code",
   "execution_count": null,
   "metadata": {},
   "outputs": [],
   "source": [
    "rs = 4\n",
    "x_train, x_test, y_train, y_test = train_test_split(df_sample.drop([\"target\", 'binary_target'], axis=1), df_sample['binary_target'], test_size=0.25, random_state=rs)\n",
    "stime = time.time()\n",
    "cmax, y_pred, f, fp, tp, p, r, t = cross_validation(np.arange(0.005, 0.02, 0.001), 0.25, 1000, rs, silent=False)\n",
    "print(\"Time for IF fitting: %.3f\" % (time.time() - stime))\n",
    "Y_axis_f1.append(f)\n",
    "Y_axis_recall.append(r)"
   ]
  },
  {
   "cell_type": "code",
   "execution_count": null,
   "metadata": {},
   "outputs": [],
   "source": [
    "rs = 5\n",
    "x_train, x_test, y_train, y_test = train_test_split(df_sample.drop([\"target\", 'binary_target'], axis=1), df_sample['binary_target'], test_size=0.25, random_state=rs)\n",
    "stime = time.time()\n",
    "cmax, y_pred, f, fp, tp, p, r, t = cross_validation(np.arange(0.005, 0.02, 0.001), 0.3, 100, rs, silent=False)\n",
    "print(\"Time for IF fitting: %.3f\" % (time.time() - stime))\n",
    "Y_axis_f1.append(f)\n",
    "Y_axis_recall.append(r)"
   ]
  },
  {
   "cell_type": "code",
   "execution_count": null,
   "metadata": {},
   "outputs": [],
   "source": [
    "rs = 6\n",
    "x_train, x_test, y_train, y_test = train_test_split(df_sample.drop([\"target\", 'binary_target'], axis=1), df_sample['binary_target'], test_size=0.25, random_state=rs)\n",
    "stime = time.time()\n",
    "cmax, y_pred, f, fp, tp, p, r, t = cross_validation(np.arange(0.005, 0.02, 0.001), 0.5, 100, rs, silent=False)\n",
    "print(\"Time for IF fitting: %.3f\" % (time.time() - stime))\n",
    "Y_axis_f1.append(f)\n",
    "Y_axis_recall.append(r)"
   ]
  },
  {
   "cell_type": "code",
   "execution_count": null,
   "metadata": {},
   "outputs": [],
   "source": [
    "X_axis = [f\"configuration-{i}\" for i in range(1,7)]"
   ]
  }
 ],
 "metadata": {
  "kernelspec": {
   "display_name": "Python 3",
   "language": "python",
   "name": "python3"
  },
  "language_info": {
   "codemirror_mode": {
    "name": "ipython",
    "version": 3
   },
   "file_extension": ".py",
   "mimetype": "text/x-python",
   "name": "python",
   "nbconvert_exporter": "python",
   "pygments_lexer": "ipython3",
   "version": "3.8.5"
  }
 },
 "nbformat": 4,
 "nbformat_minor": 4
}
