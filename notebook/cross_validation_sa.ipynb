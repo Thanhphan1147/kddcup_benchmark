{
 "cells": [
  {
   "cell_type": "code",
   "execution_count": 1,
   "metadata": {},
   "outputs": [],
   "source": [
    "from sklearn import datasets\n",
    "from sklearn import preprocessing\n",
    "from sklearn.model_selection import train_test_split\n",
    "\n",
    "from sklearn.ensemble import IsolationForest\n",
    "from sklearn.neighbors import LocalOutlierFactor\n",
    "from sklearn import svm\n",
    "from sklearn.svm import OneClassSVM\n",
    "\n",
    "from sklearn.metrics import classification_report\n",
    "from sklearn.metrics import confusion_matrix\n",
    "# from sklearn.metrics import plot_confusion_matrix\n",
    "from sklearn.metrics import recall_score\n",
    "from sklearn.metrics import precision_score\n",
    "from sklearn.metrics import roc_auc_score\n",
    "from sklearn.metrics import precision_recall_fscore_support\n",
    "\n",
    "import pandas as pd\n",
    "import numpy as np\n",
    "import itertools\n",
    "import matplotlib.pyplot as plt\n",
    "import datetime\n",
    "\n",
    "%matplotlib inline\n",
    "\n",
    "\n",
    "def byte_decoder(val):\n",
    "    # decodes byte literals to strings\n",
    "    \n",
    "    return val.decode('utf-8')\n",
    "\n",
    "def plot_confusion_matrix(cm, title, classes=['abnormal', 'normal'],\n",
    "                          cmap=plt.cm.Blues):\n",
    "    \n",
    "    cm = cm.astype('float') / cm.sum(axis=1)[:, np.newaxis]\n",
    "    \n",
    "    plt.imshow(cm, interpolation='nearest', cmap=cmap)\n",
    "    plt.title(title)\n",
    "    plt.colorbar()\n",
    "    tick_marks = np.arange(len(classes))\n",
    "    plt.xticks(tick_marks, classes, rotation=90)\n",
    "    plt.yticks(tick_marks, classes)\n",
    "\n",
    "    fmt = '.1%'\n",
    "    thresh = cm.max() / 2.\n",
    "    for i, j in itertools.product(range(cm.shape[0]), range(cm.shape[1])):\n",
    "        plt.text(j, i, format(cm[i, j], fmt),\n",
    "                 horizontalalignment=\"center\",\n",
    "                 color=\"white\" if cm[i, j] > thresh else \"black\")\n",
    "\n",
    "    plt.tight_layout()\n",
    "    plt.ylabel('True label')\n",
    "    plt.xlabel('Predicted label')\n",
    "\n",
    "sa_columns = [\"duration\",\"protocol_type\",\"service\",\"flag\",\"src_bytes\",\"dst_bytes\",\"land\",\"wrong_fragment\",\n",
    "                           \"urgent\",\"hot\",\"num_failed_logins\",\"logged_in\",\"num_compromised\",\"root_shell\",\"su_attempted\",\n",
    "                           \"num_root\",\"num_file_creations\",\"num_shells\",\"num_access_files\",\"num_outbound_cmds\",\"is_host_login\",\n",
    "                           \"is_guest_login\",\"count\",\"srv_count\",\"serror_rate\",\"srv_serror_rate\",\"rerror_rate\",\"srv_rerror_rate\",\n",
    "                           \"same_srv_rate\",\"diff_srv_rate\",\"srv_diff_host_rate\",\"dst_host_count\",\"dst_host_srv_count\",\n",
    "                           \"dst_host_same_srv_rate\",\"dst_host_diff_srv_rate\",\"dst_host_same_src_port_rate\",\n",
    "                           \"dst_host_srv_diff_host_rate\",\"dst_host_serror_rate\",\"dst_host_srv_serror_rate\",\n",
    "                           \"dst_host_rerror_rate\",\"dst_host_srv_rerror_rate\"]\n",
    "sf_columns = [\"duration\", \"service\", \"src_bytes\", \"dst_bytes\"]"
   ]
  },
  {
   "cell_type": "code",
   "execution_count": 2,
   "metadata": {},
   "outputs": [],
   "source": [
    "sa = datasets.fetch_kddcup99(subset='SA', percent10=False, random_state=0)\n",
    "dfsa = pd.DataFrame(sa.data, columns=sa_columns)\n",
    "dfsa[\"target\"]=sa.target\n",
    "anomaly_rate =  1.0 - len(dfsa.loc[dfsa[\"target\"]==b'normal.'])/len(dfsa)\n",
    "f\"SA anomaly rate is {anomaly_rate:.1%}\"\n",
    "\n",
    "dfsa['binary_target'] = [1 if x==b'normal.' else -1 for x in dfsa[\"target\"]]\n",
    "toDecodeSA = [\"protocol_type\", \"service\", \"flag\", \"target\"]\n",
    "le = preprocessing.LabelEncoder()\n",
    "for f in toDecodeSA:\n",
    "    dfsa[f] = list(map(byte_decoder, dfsa[f]))\n",
    "    dfsa[f] = le.fit_transform(dfsa[f])\n",
    "\n",
    "X_train_sa, X_test_sa, y_train_sa, y_test_sa = train_test_split(dfsa.drop([\"target\", 'binary_target'], axis=1), dfsa['binary_target'], test_size=0.25, random_state=0)"
   ]
  },
  {
   "cell_type": "code",
   "execution_count": 5,
   "metadata": {},
   "outputs": [],
   "source": [
    "sa = datasets.fetch_kddcup99(subset='SA', percent10=False, random_state=0)\n",
    "dfsa = pd.DataFrame(sa.data, columns=sa_columns)\n",
    "dfsa[\"target\"]=sa.target\n",
    "anomaly_rate =  1.0 - len(dfsa.loc[dfsa[\"target\"]==b'normal.'])/len(dfsa)\n",
    "f\"SA anomaly rate is {anomaly_rate:.1%}\"\n",
    "\n",
    "dfsa['binary_target'] = [1 if x==b'normal.' else -1 for x in dfsa[\"target\"]]\n",
    "toDecodeSA = [\"protocol_type\", \"service\", \"flag\", \"target\"]\n",
    "le = preprocessing.LabelEncoder()\n",
    "for f in toDecodeSA:\n",
    "    dfsa[f] = list(map(byte_decoder, dfsa[f]))\n",
    "    dfsa[f] = le.fit_transform(dfsa[f])\n",
    "\n",
    "X_train_sa, X_test_sa, y_train_sa, y_test_sa = train_test_split(dfsa.drop([\"target\", 'binary_target'], axis=1), dfsa['binary_target'], test_size=0.25, random_state=0)"
   ]
  },
  {
   "cell_type": "code",
   "execution_count": 6,
   "metadata": {},
   "outputs": [
    {
     "name": "stdout",
     "output_type": "stream",
     "text": [
      "contamination: 0.01, AUC : 0.8, precision: 19.05%, support: 812, recall: 53.33%, fp: 3451\n",
      "contamination: 0.02, AUC : 1e+00, precision: 16.25%, support: 812, recall: 99.51%, fp: 4185\n",
      "contamination: 0.03, AUC : 1e+00, precision: 10.87%, support: 812, recall: 99.63%, fp: 6657\n",
      "contamination: 0.04, AUC : 1e+00, precision: 8.20%, support: 812, recall: 99.75%, fp: 9094\n",
      "contamination: 0.05, AUC : 1e+00, precision: 6.59%, support: 812, recall: 99.88%, fp: 11515\n",
      "contamination: 0.06, AUC : 1e+00, precision: 5.52%, support: 812, recall: 99.88%, fp: 13890\n",
      "contamination: 0.07, AUC : 1e+00, precision: 4.74%, support: 812, recall: 99.88%, fp: 16314\n",
      "contamination: 0.08, AUC : 1e+00, precision: 4.14%, support: 812, recall: 99.88%, fp: 18813\n",
      "contamination: 0.09, AUC : 1e+00, precision: 3.69%, support: 812, recall: 99.88%, fp: 21210\n",
      "contamination: 0.1, AUC : 1e+00, precision: 3.32%, support: 812, recall: 99.88%, fp: 23673\n",
      "contamination: 0.11, AUC : 0.9, precision: 3.02%, support: 812, recall: 99.88%, fp: 26085\n",
      "contamination: 0.12, AUC : 0.9, precision: 2.77%, support: 812, recall: 99.88%, fp: 28490\n",
      "contamination: 0.13, AUC : 0.9, precision: 2.56%, support: 812, recall: 99.88%, fp: 30951\n",
      "contamination: 0.14, AUC : 0.9, precision: 2.37%, support: 812, recall: 99.88%, fp: 33447\n",
      "contamination: 0.15, AUC : 0.9, precision: 2.21%, support: 812, recall: 99.88%, fp: 35865\n",
      "contamination: 0.16, AUC : 0.9, precision: 2.07%, support: 812, recall: 99.88%, fp: 38368\n",
      "contamination: 0.17, AUC : 0.9, precision: 1.95%, support: 812, recall: 99.88%, fp: 40830\n",
      "contamination: 0.18, AUC : 0.9, precision: 1.84%, support: 812, recall: 99.88%, fp: 43220\n",
      "contamination: 0.19, AUC : 0.9, precision: 1.75%, support: 812, recall: 99.88%, fp: 45643\n",
      "contamination: 0.2, AUC : 0.9, precision: 1.67%, support: 812, recall: 100.00%, fp: 47923\n",
      "contamination: 0.21, AUC : 0.9, precision: 1.58%, support: 812, recall: 100.00%, fp: 50447\n",
      "contamination: 0.22, AUC : 0.9, precision: 1.51%, support: 812, recall: 100.00%, fp: 52927\n",
      "contamination: 0.23, AUC : 0.9, precision: 1.45%, support: 812, recall: 100.00%, fp: 55268\n",
      "contamination: 0.24, AUC : 0.9, precision: 1.39%, support: 812, recall: 100.00%, fp: 57740\n",
      "contamination: 0.25, AUC : 0.9, precision: 1.33%, support: 812, recall: 100.00%, fp: 60142\n",
      "contamination: 0.26, AUC : 0.9, precision: 1.28%, support: 812, recall: 100.00%, fp: 62517\n",
      "contamination: 0.27, AUC : 0.9, precision: 1.23%, support: 812, recall: 100.00%, fp: 65073\n",
      "contamination: 0.28, AUC : 0.9, precision: 1.19%, support: 812, recall: 100.00%, fp: 67577\n",
      "contamination: 0.29, AUC : 0.9, precision: 1.15%, support: 812, recall: 100.00%, fp: 69995\n",
      "contamination: 0.3, AUC : 0.9, precision: 1.11%, support: 812, recall: 100.00%, fp: 72459\n",
      "best contamination value: 0.01\n"
     ]
    }
   ],
   "source": [
    "contamination = [round(0.01*i, 2) for i in range(1, 31)]\n",
    "c_max = cross_validation(contamination, ds=\"SA\")\n",
    "print(f\"best contamination value: {c_max}\")"
   ]
  },
  {
   "cell_type": "code",
   "execution_count": 8,
   "metadata": {},
   "outputs": [
    {
     "name": "stdout",
     "output_type": "stream",
     "text": [
      "contamination: 0.01, AUC : 0.8, precision: 19.05%, support: 812, recall: 53.33%, fp: 3451\n",
      "contamination: 0.011, AUC : 1e+00, precision: 30.50%, support: 812, recall: 99.51%, fp: 1850\n",
      "contamination: 0.012, AUC : 1e+00, precision: 27.56%, support: 812, recall: 99.51%, fp: 2135\n",
      "contamination: 0.013, AUC : 1e+00, precision: 25.53%, support: 812, recall: 99.51%, fp: 2369\n",
      "contamination: 0.014, AUC : 1e+00, precision: 23.70%, support: 812, recall: 99.51%, fp: 2614\n",
      "contamination: 0.015, AUC : 1e+00, precision: 22.10%, support: 812, recall: 99.51%, fp: 2862\n",
      "contamination: 0.016, AUC : 1e+00, precision: 20.54%, support: 812, recall: 99.51%, fp: 3140\n",
      "contamination: 0.017, AUC : 1e+00, precision: 19.23%, support: 812, recall: 99.51%, fp: 3410\n",
      "contamination: 0.018, AUC : 1e+00, precision: 18.15%, support: 812, recall: 99.51%, fp: 3662\n",
      "contamination: 0.019, AUC : 1e+00, precision: 17.13%, support: 812, recall: 99.51%, fp: 3928\n",
      "contamination: 0.02, AUC : 1e+00, precision: 16.25%, support: 812, recall: 99.51%, fp: 4185\n",
      "best contamination value: 0.011\n"
     ]
    }
   ],
   "source": [
    "c_max = 0.02\n",
    "contamination = [round(c_max - 0.01 + 0.001*i, 3) for i in range(11)]\n",
    "c_max = cross_validation(contamination, ds=\"SA\")\n",
    "print(f\"best contamination value: {c_max}\")"
   ]
  },
  {
   "cell_type": "code",
   "execution_count": 9,
   "metadata": {},
   "outputs": [
    {
     "name": "stdout",
     "output_type": "stream",
     "text": [
      "contamination: 0.01, AUC : 0.8, precision: 19.05%, support: 812, recall: 53.33%, fp: 3451\n",
      "contamination: 0.0101, AUC : 0.8, precision: 19.05%, support: 812, recall: 53.33%, fp: 3451\n",
      "contamination: 0.0102, AUC : 0.8, precision: 19.05%, support: 812, recall: 53.33%, fp: 3451\n",
      "contamination: 0.0103, AUC : 0.8, precision: 19.05%, support: 812, recall: 53.33%, fp: 3451\n",
      "contamination: 0.0104, AUC : 0.8, precision: 19.05%, support: 812, recall: 53.33%, fp: 3451\n",
      "contamination: 0.0105, AUC : 0.8, precision: 19.05%, support: 812, recall: 53.33%, fp: 3451\n",
      "contamination: 0.0106, AUC : 0.8, precision: 19.05%, support: 812, recall: 53.33%, fp: 3451\n",
      "contamination: 0.0107, AUC : 1e+00, precision: 30.51%, support: 812, recall: 99.51%, fp: 1849\n",
      "contamination: 0.0108, AUC : 0.8, precision: 19.05%, support: 812, recall: 53.33%, fp: 3451\n",
      "contamination: 0.0109, AUC : 0.8, precision: 19.05%, support: 812, recall: 53.33%, fp: 3451\n",
      "contamination: 0.011, AUC : 1e+00, precision: 30.50%, support: 812, recall: 99.51%, fp: 1850\n",
      "best contamination value: 0.0107\n"
     ]
    }
   ],
   "source": [
    "contamination = [round(c_max - 0.001 + 0.0001*i, 4) for i in range(11)]\n",
    "c_max = cross_validation(contamination, ds=\"SA\")\n",
    "print(f\"best contamination value: {c_max}\")"
   ]
  },
  {
   "cell_type": "code",
   "execution_count": 10,
   "metadata": {},
   "outputs": [
    {
     "name": "stdout",
     "output_type": "stream",
     "text": [
      "              precision    recall  f1-score   support\n",
      "\n",
      "          -1       0.31      1.00      0.47       812\n",
      "           1       1.00      0.99      1.00    243228\n",
      "\n",
      "    accuracy                           0.99    244040\n",
      "   macro avg       0.65      0.99      0.73    244040\n",
      "weighted avg       1.00      0.99      0.99    244040\n",
      "\n",
      "AUC : 99.4%\n"
     ]
    },
    {
     "data": {
      "image/png": "[encoded data removed]",
      "text/plain": [
       "<Figure size 432x288 with 2 Axes>"
      ]
     },
     "metadata": {
      "needs_background": "light"
     },
     "output_type": "display_data"
    }
   ],
   "source": [
    "y_pred = IsolationForest(random_state=1, n_jobs=-1, max_samples=0.25, n_estimators=100, contamination=c_max).fit(X_train_sa).predict(X_test_sa)\n",
    "p, r, f, s = map(lambda x: x[0], precision_recall_fscore_support(y_test_sa, y_pred, labels=[-1]))\n",
    "print(classification_report(y_test_sa, y_pred))\n",
    "print(f\"AUC : {roc_auc_score(y_test_sa, y_pred):.1%}\")\n",
    "plot_confusion_matrix(confusion_matrix(y_test_sa, y_pred), \"Confusion matrix for IF on SA\")"
   ]
  },
  {
   "cell_type": "code",
   "execution_count": null,
   "metadata": {},
   "outputs": [],
   "source": []
  }
 ],
 "metadata": {
  "kernelspec": {
   "display_name": "Python 3",
   "language": "python",
   "name": "python3"
  },
  "language_info": {
   "codemirror_mode": {
    "name": "ipython",
    "version": 3
   },
   "file_extension": ".py",
   "mimetype": "text/x-python",
   "name": "python",
   "nbconvert_exporter": "python",
   "pygments_lexer": "ipython3",
   "version": "3.8.5"
  }
 },
 "nbformat": 4,
 "nbformat_minor": 4
}
