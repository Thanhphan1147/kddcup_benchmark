{
 "cells": [
  {
   "cell_type": "code",
   "execution_count": 1,
   "metadata": {},
   "outputs": [],
   "source": [
    "from imports import *"
   ]
  },
  {
   "cell_type": "code",
   "execution_count": 2,
   "metadata": {},
   "outputs": [],
   "source": [
    "from sklearn.metrics import precision_score\n",
    "from sklearn.metrics import fbeta_score\n",
    "from sklearn.metrics import f1_score\n",
    "import time"
   ]
  },
  {
   "cell_type": "code",
   "execution_count": 16,
   "metadata": {},
   "outputs": [],
   "source": [
    "scoring = {'AUC': 'roc_auc',\n",
    "           'Precision': make_scorer(precision_score, pos_label=1), \n",
    "           'Recall': make_scorer(recall_score, pos_label=-1),\n",
    "           'F1': make_scorer(f1_score, average='weighted')}"
   ]
  },
  {
   "cell_type": "code",
   "execution_count": 17,
   "metadata": {},
   "outputs": [
    {
     "name": "stdout",
     "output_type": "stream",
     "text": [
      "SF anomaly rate is 4.5% / 73237\n"
     ]
    }
   ],
   "source": [
    "sf = datasets.fetch_kddcup99(subset='SF', percent10=True, random_state=0)\n",
    "dfsf = pd.DataFrame(sf.data, columns=sf_columns)\n",
    "dfsf[\"target\"]=sf.target\n",
    "anomaly_rate_sf = 1.0 - len(dfsf.loc[dfsf[\"target\"]==b'normal.'])/len(dfsf)\n",
    "print(f\"SF anomaly rate is {anomaly_rate_sf:.1%} / {len(dfsf)}\")\n",
    "\n",
    "dfsf['binary_target'] = [1 if x==b'normal.' else -1 for x in dfsf[\"target\"]]\n",
    "toDecodeSF = [\"service\", \"target\"]    \n",
    "leSF = preprocessing.LabelEncoder()\n",
    "for f in toDecodeSF:\n",
    "    dfsf[f] = list(map(byte_decoder, dfsf[f]))\n",
    "    dfsf[f] = leSF.fit_transform(dfsf[f])"
   ]
  },
  {
   "cell_type": "code",
   "execution_count": 18,
   "metadata": {},
   "outputs": [
    {
     "name": "stdout",
     "output_type": "stream",
     "text": [
      "Time for SVM fitting: 236.478\n"
     ]
    }
   ],
   "source": [
    "x_train_sf, x_test_sf, y_train_sf, y_test_sf = train_test_split(dfsf.drop([\"target\", 'binary_target'], axis=1), dfsf['binary_target'], test_size=0.25, random_state=1)\n",
    "gs_svm_1 = GridSearchCV(OneClassSVM(kernel=\"rbf\", gamma='scale'),\n",
    "                       param_grid={'nu': np.arange(0.045, 0.09, 0.005), 'kernel': [\"rbf\"], 'gamma': [\"scale\"]},\n",
    "                       scoring=scoring, refit='F1', cv=3)\n",
    "stime = time.time()\n",
    "gs_svm_1.fit(x_train_sf, y_train_sf)\n",
    "print(\"Time for SVM fitting: %.3f\" % (time.time() - stime))\n",
    "results_svm_1 = gs_svm_1.cv_results_"
   ]
  },
  {
   "cell_type": "code",
   "execution_count": 19,
   "metadata": {},
   "outputs": [
    {
     "name": "stdout",
     "output_type": "stream",
     "text": [
      "Time for SVM fitting: 235.435\n"
     ]
    }
   ],
   "source": [
    "x_train_sf, x_test_sf, y_train_sf, y_test_sf = train_test_split(dfsf.drop([\"target\", 'binary_target'], axis=1), dfsf['binary_target'], test_size=0.25, random_state=2)\n",
    "gs_svm_2 = GridSearchCV(OneClassSVM(kernel=\"rbf\", gamma='scale'),\n",
    "                       param_grid={'nu': np.arange(0.045, 0.09, 0.005), 'kernel': [\"rbf\"], 'gamma': [\"auto\"]},\n",
    "                       scoring=scoring, refit='F1', cv=3)\n",
    "stime = time.time()\n",
    "gs_svm_2.fit(x_train_sf, y_train_sf)\n",
    "print(\"Time for SVM fitting: %.3f\" % (time.time() - stime))\n",
    "results_svm_2 = gs_svm_2.cv_results_"
   ]
  },
  {
   "cell_type": "code",
   "execution_count": 20,
   "metadata": {},
   "outputs": [
    {
     "name": "stdout",
     "output_type": "stream",
     "text": [
      "Time for SVM fitting: 151.878\n"
     ]
    }
   ],
   "source": [
    "x_train_sf, x_test_sf, y_train_sf, y_test_sf = train_test_split(dfsf.drop([\"target\", 'binary_target'], axis=1), dfsf['binary_target'], test_size=0.25, random_state=3)\n",
    "gs_svm_3 = GridSearchCV(OneClassSVM(kernel=\"rbf\", gamma='scale'),\n",
    "                       param_grid={'nu': np.arange(0.045, 0.09, 0.005), 'kernel': [\"poly\"], 'gamma': [\"scale\"]},\n",
    "                       scoring=scoring, refit='F1', cv=3)\n",
    "stime = time.time()\n",
    "gs_svm_3.fit(x_train_sf, y_train_sf)\n",
    "print(\"Time for SVM fitting: %.3f\" % (time.time() - stime))\n",
    "results_svm_3 = gs_svm_3.cv_results_"
   ]
  },
  {
   "cell_type": "code",
   "execution_count": 29,
   "metadata": {},
   "outputs": [
    {
     "name": "stderr",
     "output_type": "stream",
     "text": [
      "<ipython-input-29-7ffd6abdfc23>:6: MatplotlibDeprecationWarning: Adding an axes using the same arguments as a previous axes currently reuses the earlier instance.  In a future version, a new instance will always be created and returned.  Meanwhile, this warning can be suppressed, and the future behavior ensured, by passing a unique label to each axes instance.\n",
      "  ax = plt.axes()\n"
     ]
    },
    {
     "data": {
      "image/png": "[encoded data removed]",
      "text/plain": [
       "<Figure size 1080x720 with 1 Axes>"
      ]
     },
     "metadata": {
      "needs_background": "light"
     },
     "output_type": "display_data"
    }
   ],
   "source": [
    "plt.figure(figsize=(15,10))\n",
    "\n",
    "plt.xlabel(\"configuration\")\n",
    "plt.ylabel(\"Score\")\n",
    "\n",
    "ax = plt.axes()\n",
    "ax.set_ylim(0.500, 1.000)\n",
    "pad = 0.005\n",
    "\n",
    "colors = {'lof': 'r', 'if':'b', 'dbscan':'c', 'svm':'y'}\n",
    "scorer = 'F1'\n",
    "\n",
    "best_index = np.nonzero(results_svm_1['rank_test_%s' % scorer] == 1)[0][0]\n",
    "best_score_1 = results_svm_1['mean_test_%s' % scorer][best_index]\n",
    "best_param_1 = results_svm_1['params'][best_index]\n",
    "\n",
    "best_index = np.nonzero(results_svm_2['rank_test_%s' % scorer] == 1)[0][0]\n",
    "best_score_2 = results_svm_2['mean_test_%s' % scorer][best_index]\n",
    "best_param_2 = results_svm_2['params'][best_index]\n",
    "\n",
    "best_index = np.nonzero(results_svm_3['rank_test_%s' % scorer] == 1)[0][0]\n",
    "best_score_3 = results_svm_3['mean_test_%s' % scorer][best_index]\n",
    "best_param_3 = results_svm_3['params'][best_index]\n",
    "\n",
    "# best_index = np.nonzero(results_svm_sf_4['rank_test_%s' % scorer] == 1)[0][0]\n",
    "# best_score_4 = results_svm_sf_4['mean_test_%s' % scorer][best_index]\n",
    "# best_param_4 = results_svm_sf_4['params'][best_index]\n",
    "\n",
    "Y_axis = np.array([best_score_1, best_score_2, best_score_3])\n",
    "X_axis = np.array([f\"1-{best_param_1}\", f\"2-{best_param_2}\", f\"3-{best_param_3}\"])\n",
    "\n",
    "ax.plot(X_axis, Y_axis, '-', color=colors['if'],label=\"%s \" % (scorer))\n",
    "plt.legend(loc=\"best\")\n",
    "plt.grid('off')\n",
    "plt.tight_layout()\n",
    "plt.savefig(\"svm_figure.png\", dpi=100)\n",
    "\n",
    "plt.show()"
   ]
  },
  {
   "cell_type": "markdown",
   "metadata": {},
   "source": [
    "# Comparison"
   ]
  },
  {
   "cell_type": "code",
   "execution_count": 34,
   "metadata": {},
   "outputs": [
    {
     "name": "stdout",
     "output_type": "stream",
     "text": [
      "tuned parameters: {'gamma': 'scale', 'kernel': 'rbf', 'nu': 0.05499999999999999}\n",
      "Time for SVM fitting: 17.972\n",
      "---0.9537729630584931\n",
      "---0.6876170499662896\n"
     ]
    }
   ],
   "source": [
    "x_train_sf, x_test_sf, y_train_sf, y_test_sf = train_test_split(dfsf.drop([\"target\", 'binary_target'], axis=1), dfsf['binary_target'], test_size=0.25, random_state=1)\n",
    "param = best_param_1\n",
    "print(f\"tuned parameters: {param}\")\n",
    "stime = time.time()\n",
    "y_pred = OneClassSVM(kernel=param['kernel'], gamma=param['gamma'], nu=param['nu']).fit(x_train_sf).predict(x_test_sf)\n",
    "print(\"Time for SVM fitting: %.3f\" % (time.time() - stime))\n",
    "print(f\"---{f1_score(y_test_sf, y_pred)}\")\n",
    "y_pred = OneClassSVM().fit(x_train_sf).predict(x_test_sf)\n",
    "print(f\"---{f1_score(y_test_sf, y_pred)}\")"
   ]
  },
  {
   "cell_type": "code",
   "execution_count": 35,
   "metadata": {},
   "outputs": [
    {
     "name": "stdout",
     "output_type": "stream",
     "text": [
      "tuned parameters: {'gamma': 'auto', 'kernel': 'rbf', 'nu': 0.049999999999999996}\n",
      "Time for SVM fitting: 17.934\n",
      "---0.9614221309136562\n",
      "---0.6882430151884492\n"
     ]
    }
   ],
   "source": [
    "x_train_sf, x_test_sf, y_train_sf, y_test_sf = train_test_split(dfsf.drop([\"target\", 'binary_target'], axis=1), dfsf['binary_target'], test_size=0.25, random_state=2)\n",
    "param = best_param_2\n",
    "print(f\"tuned parameters: {param}\")\n",
    "stime = time.time()\n",
    "y_pred = OneClassSVM(kernel=param['kernel'], gamma=param['gamma'], nu=param['nu']).fit(x_train_sf).predict(x_test_sf)\n",
    "print(\"Time for SVM fitting: %.3f\" % (time.time() - stime))\n",
    "print(f\"---{f1_score(y_test_sf, y_pred)}\")\n",
    "y_pred = OneClassSVM().fit(x_train_sf).predict(x_test_sf)\n",
    "print(f\"---{f1_score(y_test_sf, y_pred)}\")"
   ]
  },
  {
   "cell_type": "code",
   "execution_count": 37,
   "metadata": {},
   "outputs": [
    {
     "name": "stdout",
     "output_type": "stream",
     "text": [
      "tuned parameters: {'gamma': 'scale', 'kernel': 'poly', 'nu': 0.045}\n",
      "Time for SVM fitting: 10.396\n",
      "---0.9649308637027283\n",
      "---0.6826031219365056\n"
     ]
    }
   ],
   "source": [
    "x_train_sf, x_test_sf, y_train_sf, y_test_sf = train_test_split(dfsf.drop([\"target\", 'binary_target'], axis=1), dfsf['binary_target'], test_size=0.25, random_state=3)\n",
    "param = best_param_3\n",
    "print(f\"tuned parameters: {param}\")\n",
    "stime = time.time()\n",
    "y_pred = OneClassSVM(kernel=param['kernel'], gamma=param['gamma'], nu=param['nu']).fit(x_train_sf).predict(x_test_sf)\n",
    "print(\"Time for SVM fitting: %.3f\" % (time.time() - stime))\n",
    "print(f\"---{f1_score(y_test_sf, y_pred)}\")\n",
    "y_pred = OneClassSVM().fit(x_train_sf).predict(x_test_sf)\n",
    "print(f\"---{f1_score(y_test_sf, y_pred)}\")"
   ]
  },
  {
   "cell_type": "markdown",
   "metadata": {},
   "source": [
    "# Archive"
   ]
  },
  {
   "cell_type": "code",
   "execution_count": 38,
   "metadata": {},
   "outputs": [
    {
     "data": {
      "text/plain": [
       "{'mean_fit_time': array([4.6306502 , 5.11502067, 5.20066182, 6.09889436, 6.590343  ,\n",
       "        7.07237093, 7.92040881, 8.02568126, 8.48540958]),\n",
       " 'std_fit_time': array([0.12191405, 0.22227681, 0.1870071 , 0.0489273 , 0.37039363,\n",
       "        0.08951269, 0.18168845, 0.25793864, 0.13073613]),\n",
       " 'mean_score_time': array([1.18210196, 1.27119819, 1.39359395, 1.61965378, 1.68481922,\n",
       "        1.7856245 , 2.04110018, 2.14700691, 2.24029295]),\n",
       " 'std_score_time': array([0.026891  , 0.0758545 , 0.06915264, 0.08317724, 0.09403544,\n",
       "        0.06901534, 0.16078243, 0.02095035, 0.08943702]),\n",
       " 'param_gamma': masked_array(data=['scale', 'scale', 'scale', 'scale', 'scale', 'scale',\n",
       "                    'scale', 'scale', 'scale'],\n",
       "              mask=[False, False, False, False, False, False, False, False,\n",
       "                    False],\n",
       "        fill_value='?',\n",
       "             dtype=object),\n",
       " 'param_kernel': masked_array(data=['rbf', 'rbf', 'rbf', 'rbf', 'rbf', 'rbf', 'rbf', 'rbf',\n",
       "                    'rbf'],\n",
       "              mask=[False, False, False, False, False, False, False, False,\n",
       "                    False],\n",
       "        fill_value='?',\n",
       "             dtype=object),\n",
       " 'param_nu': masked_array(data=[0.045, 0.049999999999999996, 0.05499999999999999,\n",
       "                    0.05999999999999999, 0.06499999999999999,\n",
       "                    0.06999999999999998, 0.07499999999999998,\n",
       "                    0.07999999999999999, 0.08499999999999998],\n",
       "              mask=[False, False, False, False, False, False, False, False,\n",
       "                    False],\n",
       "        fill_value='?',\n",
       "             dtype=object),\n",
       " 'params': [{'gamma': 'scale', 'kernel': 'rbf', 'nu': 0.045},\n",
       "  {'gamma': 'scale', 'kernel': 'rbf', 'nu': 0.049999999999999996},\n",
       "  {'gamma': 'scale', 'kernel': 'rbf', 'nu': 0.05499999999999999},\n",
       "  {'gamma': 'scale', 'kernel': 'rbf', 'nu': 0.05999999999999999},\n",
       "  {'gamma': 'scale', 'kernel': 'rbf', 'nu': 0.06499999999999999},\n",
       "  {'gamma': 'scale', 'kernel': 'rbf', 'nu': 0.06999999999999998},\n",
       "  {'gamma': 'scale', 'kernel': 'rbf', 'nu': 0.07499999999999998},\n",
       "  {'gamma': 'scale', 'kernel': 'rbf', 'nu': 0.07999999999999999},\n",
       "  {'gamma': 'scale', 'kernel': 'rbf', 'nu': 0.08499999999999998}],\n",
       " 'split0_test_AUC': array([0.92579599, 0.92346443, 0.92180005, 0.91931429, 0.91735684,\n",
       "        0.92229029, 0.92383022, 0.92225048, 0.92108994]),\n",
       " 'split1_test_AUC': array([0.92547718, 0.92143388, 0.91888692, 0.91738411, 0.91456231,\n",
       "        0.92009938, 0.92250211, 0.92199016, 0.92068339]),\n",
       " 'split2_test_AUC': array([0.92849908, 0.92452615, 0.92195426, 0.91776253, 0.91723117,\n",
       "        0.91524081, 0.9230399 , 0.92148774, 0.92002164]),\n",
       " 'mean_test_AUC': array([0.92659075, 0.92314148, 0.92088041, 0.91815364, 0.91638344,\n",
       "        0.91921016, 0.92312408, 0.92190946, 0.92059832]),\n",
       " 'std_test_AUC': array([0.00135566, 0.0012829 , 0.00141102, 0.00083512, 0.00128875,\n",
       "        0.00294582, 0.00054546, 0.00031657, 0.00044026]),\n",
       " 'rank_test_AUC': array([1, 2, 5, 8, 9, 7, 3, 4, 6], dtype=int32),\n",
       " 'split0_test_Precision': array([0.9577096 , 0.95750643, 0.9851725 , 0.95724082, 0.98574751,\n",
       "        0.98567747, 0.98560848, 0.98561934, 0.99407199]),\n",
       " 'split1_test_Precision': array([0.98534001, 0.98533412, 0.98527491, 0.98521698, 0.95441612,\n",
       "        0.95478119, 0.9855746 , 0.95458275, 0.95443857]),\n",
       " 'split2_test_Precision': array([0.98578561, 0.95554032, 0.98576006, 0.95500347, 0.95495913,\n",
       "        0.95515512, 0.95501933, 0.96285985, 0.98607395]),\n",
       " 'mean_test_Precision': array([0.97627841, 0.96612696, 0.98540249, 0.96582042, 0.96504092,\n",
       "        0.96520459, 0.9754008 , 0.96768731, 0.97819484]),\n",
       " 'std_test_Precision': array([0.01313139, 0.01360521, 0.00025627, 0.01374581, 0.01464345,\n",
       "        0.01447732, 0.01441189, 0.01312239, 0.01711262]),\n",
       " 'rank_test_Precision': array([3, 6, 1, 7, 9, 8, 4, 5, 2], dtype=int32),\n",
       " 'split0_test_Recall': array([0.0838471 , 0.0838471 , 0.69050555, 0.08508015, 0.7053021 ,\n",
       "        0.7053021 , 0.7053021 , 0.70653514, 0.88039457]),\n",
       " 'split1_test_Recall': array([0.70671378, 0.70789164, 0.70789164, 0.70789164, 0.0753828 ,\n",
       "        0.08598351, 0.71849234, 0.08716137, 0.08716137]),\n",
       " 'split2_test_Recall': array([0.71428571, 0.08146399, 0.71664699, 0.08264463, 0.08264463,\n",
       "        0.09208973, 0.09327037, 0.25974026, 0.729634  ]),\n",
       " 'mean_test_Recall': array([0.50161553, 0.29106758, 0.70501473, 0.29187214, 0.28777651,\n",
       "        0.29445844, 0.50568827, 0.35114559, 0.56572998]),\n",
       " 'std_test_Recall': array([0.29542306, 0.29474073, 0.01086435, 0.29417189, 0.29525006,\n",
       "        0.29052103, 0.29167321, 0.26098808, 0.3439507 ]),\n",
       " 'rank_test_Recall': array([4, 8, 1, 7, 9, 6, 3, 5, 2], dtype=int32),\n",
       " 'split0_test_F1': array([0.92102492, 0.91843797, 0.94857747, 0.91449282, 0.94359576,\n",
       "        0.94049611, 0.93750675, 0.93548595, 0.94113754]),\n",
       " 'split1_test_F1': array([0.95229865, 0.94940133, 0.94672535, 0.94416042, 0.90695123,\n",
       "        0.90603403, 0.93707787, 0.90315392, 0.90149338]),\n",
       " 'split2_test_F1': array([0.95453595, 0.91615296, 0.94789676, 0.90916626, 0.90864507,\n",
       "        0.90629754, 0.90411655, 0.91175931, 0.93330407]),\n",
       " 'mean_test_F1': array([0.94261984, 0.92799742, 0.94773319, 0.9226065 , 0.91973069,\n",
       "        0.91760923, 0.92623372, 0.91679973, 0.92531167]),\n",
       " 'std_test_F1': array([0.01529721, 0.01516357, 0.00076492, 0.01539527, 0.01688932,\n",
       "        0.01618383, 0.01564018, 0.01367222, 0.017143  ]),\n",
       " 'rank_test_F1': array([2, 3, 1, 6, 7, 8, 4, 9, 5], dtype=int32)}"
      ]
     },
     "execution_count": 38,
     "metadata": {},
     "output_type": "execute_result"
    }
   ],
   "source": [
    "results_svm_1"
   ]
  },
  {
   "cell_type": "code",
   "execution_count": 39,
   "metadata": {},
   "outputs": [
    {
     "data": {
      "text/plain": [
       "{'mean_fit_time': array([4.59648132, 5.10838811, 5.67701538, 5.86032565, 6.59282756,\n",
       "        6.96126294, 7.53370476, 8.07009157, 8.47928754]),\n",
       " 'std_fit_time': array([0.10980449, 0.2139683 , 0.35016906, 0.29160383, 0.1102881 ,\n",
       "        0.16288381, 0.11754453, 0.27698292, 0.16672213]),\n",
       " 'mean_score_time': array([1.31376219, 1.46560884, 1.4736646 , 1.62724376, 1.6411465 ,\n",
       "        1.69198505, 1.80740054, 2.07927044, 2.43644476]),\n",
       " 'std_score_time': array([0.16308041, 0.09698267, 0.04602325, 0.24108478, 0.10895652,\n",
       "        0.04540636, 0.09736413, 0.13887866, 0.23257621]),\n",
       " 'param_gamma': masked_array(data=['auto', 'auto', 'auto', 'auto', 'auto', 'auto', 'auto',\n",
       "                    'auto', 'auto'],\n",
       "              mask=[False, False, False, False, False, False, False, False,\n",
       "                    False],\n",
       "        fill_value='?',\n",
       "             dtype=object),\n",
       " 'param_kernel': masked_array(data=['rbf', 'rbf', 'rbf', 'rbf', 'rbf', 'rbf', 'rbf', 'rbf',\n",
       "                    'rbf'],\n",
       "              mask=[False, False, False, False, False, False, False, False,\n",
       "                    False],\n",
       "        fill_value='?',\n",
       "             dtype=object),\n",
       " 'param_nu': masked_array(data=[0.045, 0.049999999999999996, 0.05499999999999999,\n",
       "                    0.05999999999999999, 0.06499999999999999,\n",
       "                    0.06999999999999998, 0.07499999999999998,\n",
       "                    0.07999999999999999, 0.08499999999999998],\n",
       "              mask=[False, False, False, False, False, False, False, False,\n",
       "                    False],\n",
       "        fill_value='?',\n",
       "             dtype=object),\n",
       " 'params': [{'gamma': 'auto', 'kernel': 'rbf', 'nu': 0.045},\n",
       "  {'gamma': 'auto', 'kernel': 'rbf', 'nu': 0.049999999999999996},\n",
       "  {'gamma': 'auto', 'kernel': 'rbf', 'nu': 0.05499999999999999},\n",
       "  {'gamma': 'auto', 'kernel': 'rbf', 'nu': 0.05999999999999999},\n",
       "  {'gamma': 'auto', 'kernel': 'rbf', 'nu': 0.06499999999999999},\n",
       "  {'gamma': 'auto', 'kernel': 'rbf', 'nu': 0.06999999999999998},\n",
       "  {'gamma': 'auto', 'kernel': 'rbf', 'nu': 0.07499999999999998},\n",
       "  {'gamma': 'auto', 'kernel': 'rbf', 'nu': 0.07999999999999999},\n",
       "  {'gamma': 'auto', 'kernel': 'rbf', 'nu': 0.08499999999999998}],\n",
       " 'split0_test_AUC': array([0.9630625 , 0.96156136, 0.95680919, 0.95422058, 0.94926026,\n",
       "        0.94602903, 0.94011357, 0.93782381, 0.93277049]),\n",
       " 'split1_test_AUC': array([0.96219666, 0.95655061, 0.95611029, 0.95118483, 0.94778386,\n",
       "        0.94669071, 0.94093935, 0.93564614, 0.93330858]),\n",
       " 'split2_test_AUC': array([0.95774768, 0.95812353, 0.95559361, 0.95153636, 0.95037847,\n",
       "        0.94285125, 0.94028283, 0.93531165, 0.93023574]),\n",
       " 'mean_test_AUC': array([0.96100228, 0.95874517, 0.95617103, 0.95231392, 0.94914086,\n",
       "        0.94519033, 0.94044525, 0.93626054, 0.93210494]),\n",
       " 'std_test_AUC': array([0.00232834, 0.00209232, 0.00049811, 0.00135583, 0.0010626 ,\n",
       "        0.0016759 , 0.00035615, 0.0011138 , 0.00133985]),\n",
       " 'rank_test_AUC': array([1, 2, 3, 4, 5, 6, 7, 8, 9], dtype=int32),\n",
       " 'split0_test_Precision': array([0.95859909, 0.99050501, 0.95915542, 0.9593336 , 0.99119421,\n",
       "        0.95898095, 0.95875133, 0.99143993, 0.99145036]),\n",
       " 'split1_test_Precision': array([0.96720368, 0.98976816, 0.99006189, 0.95938675, 0.99045504,\n",
       "        0.99091183, 0.99086012, 0.95950652, 0.99091297]),\n",
       " 'split2_test_Precision': array([0.97016395, 0.97065489, 0.99059971, 0.96408615, 0.96438149,\n",
       "        0.96418279, 0.99125736, 0.96389613, 0.99116293]),\n",
       " 'mean_test_Precision': array([0.96532224, 0.98364269, 0.97993901, 0.9609355 , 0.98201024,\n",
       "        0.97135852, 0.9802896 , 0.97161419, 0.99117542]),\n",
       " 'std_test_Precision': array([0.00490519, 0.00918869, 0.01469786, 0.00222795, 0.01246907,\n",
       "        0.01398841, 0.01523072, 0.01413299, 0.00021957]),\n",
       " 'rank_test_Precision': array([8, 2, 5, 9, 3, 7, 4, 6, 1], dtype=int32),\n",
       " 'split0_test_Recall': array([0.1662844 , 0.81651376, 0.18807339, 0.19380734, 0.83256881,\n",
       "        0.19495413, 0.1983945 , 0.83944954, 0.84059633]),\n",
       " 'split1_test_Recall': array([0.30572473, 0.78928136, 0.79658952, 0.14494519, 0.80633374,\n",
       "        0.81607795, 0.81607795, 0.16443362, 0.81851401]),\n",
       " 'split2_test_Recall': array([0.34311224, 0.35586735, 0.79846939, 0.2130102 , 0.22066327,\n",
       "        0.22321429, 0.81632653, 0.22321429, 0.81632653]),\n",
       " 'mean_test_Recall': array([0.27170712, 0.65388749, 0.59437744, 0.18392091, 0.61985527,\n",
       "        0.41141546, 0.61026633, 0.40903248, 0.82514562]),\n",
       " 'std_test_Recall': array([0.0760917 , 0.21102513, 0.28730137, 0.0286533 , 0.2824745 ,\n",
       "        0.28637209, 0.29123738, 0.3052954 , 0.01096174]),\n",
       " 'rank_test_Recall': array([8, 2, 5, 9, 3, 6, 4, 7, 1], dtype=int32),\n",
       " 'split0_test_F1': array([0.92467319, 0.95631594, 0.91922577, 0.91819623, 0.94679216,\n",
       "        0.91260377, 0.90742293, 0.9386603 , 0.93507849]),\n",
       " 'split1_test_F1': array([0.93383456, 0.95559822, 0.95201963, 0.91680136, 0.94706287,\n",
       "        0.94614081, 0.94254902, 0.90745104, 0.9380567 ]),\n",
       " 'split2_test_F1': array([0.93414854, 0.93332088, 0.95184247, 0.92110623, 0.92085192,\n",
       "        0.91611443, 0.94029861, 0.91173287, 0.93380589]),\n",
       " 'mean_test_F1': array([0.93088543, 0.94841168, 0.94102929, 0.91870127, 0.93823565,\n",
       "        0.924953  , 0.93009019, 0.9192814 , 0.93564702]),\n",
       " 'std_test_F1': array([0.00439459, 0.01067483, 0.01541759, 0.00179337, 0.01229265,\n",
       "        0.01505044, 0.01605448, 0.013814  , 0.00178134]),\n",
       " 'rank_test_F1': array([5, 1, 2, 9, 3, 7, 6, 8, 4], dtype=int32)}"
      ]
     },
     "execution_count": 39,
     "metadata": {},
     "output_type": "execute_result"
    }
   ],
   "source": [
    "results_svm_2"
   ]
  },
  {
   "cell_type": "code",
   "execution_count": 40,
   "metadata": {},
   "outputs": [
    {
     "data": {
      "text/plain": [
       "{'mean_fit_time': array([2.84116864, 3.43034482, 3.33127761, 4.02551603, 4.21886738,\n",
       "        4.59731992, 4.5762527 , 5.40818008, 6.09977253]),\n",
       " 'std_fit_time': array([0.08761936, 0.01190946, 0.24330537, 0.05426051, 0.30080873,\n",
       "        0.15267119, 0.07230954, 0.26394836, 0.06843346]),\n",
       " 'mean_score_time': array([0.79572002, 0.90075803, 0.88710984, 1.06110128, 1.08314888,\n",
       "        1.18822233, 1.19186632, 1.30830622, 1.42885693]),\n",
       " 'std_score_time': array([0.07283431, 0.01779197, 0.01052747, 0.0812991 , 0.03019581,\n",
       "        0.0330685 , 0.0280622 , 0.05398656, 0.02785504]),\n",
       " 'param_gamma': masked_array(data=['scale', 'scale', 'scale', 'scale', 'scale', 'scale',\n",
       "                    'scale', 'scale', 'scale'],\n",
       "              mask=[False, False, False, False, False, False, False, False,\n",
       "                    False],\n",
       "        fill_value='?',\n",
       "             dtype=object),\n",
       " 'param_kernel': masked_array(data=['poly', 'poly', 'poly', 'poly', 'poly', 'poly', 'poly',\n",
       "                    'poly', 'poly'],\n",
       "              mask=[False, False, False, False, False, False, False, False,\n",
       "                    False],\n",
       "        fill_value='?',\n",
       "             dtype=object),\n",
       " 'param_nu': masked_array(data=[0.045, 0.049999999999999996, 0.05499999999999999,\n",
       "                    0.05999999999999999, 0.06499999999999999,\n",
       "                    0.06999999999999998, 0.07499999999999998,\n",
       "                    0.07999999999999999, 0.08499999999999998],\n",
       "              mask=[False, False, False, False, False, False, False, False,\n",
       "                    False],\n",
       "        fill_value='?',\n",
       "             dtype=object),\n",
       " 'params': [{'gamma': 'scale', 'kernel': 'poly', 'nu': 0.045},\n",
       "  {'gamma': 'scale', 'kernel': 'poly', 'nu': 0.049999999999999996},\n",
       "  {'gamma': 'scale', 'kernel': 'poly', 'nu': 0.05499999999999999},\n",
       "  {'gamma': 'scale', 'kernel': 'poly', 'nu': 0.05999999999999999},\n",
       "  {'gamma': 'scale', 'kernel': 'poly', 'nu': 0.06499999999999999},\n",
       "  {'gamma': 'scale', 'kernel': 'poly', 'nu': 0.06999999999999998},\n",
       "  {'gamma': 'scale', 'kernel': 'poly', 'nu': 0.07499999999999998},\n",
       "  {'gamma': 'scale', 'kernel': 'poly', 'nu': 0.07999999999999999},\n",
       "  {'gamma': 'scale', 'kernel': 'poly', 'nu': 0.08499999999999998}],\n",
       " 'split0_test_AUC': array([0.38608301, 0.38661564, 0.38722921, 0.3875308 , 0.38756166,\n",
       "        0.38763481, 0.38758586, 0.38766189, 0.38755906]),\n",
       " 'split1_test_AUC': array([0.39533693, 0.39576189, 0.39579965, 0.39594251, 0.3960117 ,\n",
       "        0.3960442 , 0.39592803, 0.39581391, 0.39577978]),\n",
       " 'split2_test_AUC': array([0.3878268 , 0.38846679, 0.38898719, 0.38935862, 0.38935213,\n",
       "        0.3892393 , 0.38918015, 0.38917933, 0.38902626]),\n",
       " 'mean_test_AUC': array([0.38974891, 0.39028144, 0.39067201, 0.39094398, 0.39097516,\n",
       "        0.39097277, 0.39089801, 0.39088504, 0.39078837]),\n",
       " 'std_test_AUC': array([0.00401494, 0.00394827, 0.00369613, 0.00361241, 0.00363561,\n",
       "        0.00364538, 0.00361582, 0.00353987, 0.00357992]),\n",
       " 'rank_test_AUC': array([9, 8, 7, 3, 1, 2, 4, 5, 6], dtype=int32),\n",
       " 'split0_test_Precision': array([0.9655764 , 0.96650745, 0.96636174, 0.96618554, 0.96616123,\n",
       "        0.96628154, 0.96611374, 0.96590774, 0.96568862]),\n",
       " 'split1_test_Precision': array([0.96702353, 0.96774935, 0.9676637 , 0.96752305, 0.96741855,\n",
       "        0.96723521, 0.96710991, 0.96691525, 0.9667956 ]),\n",
       " 'split2_test_Precision': array([0.96545215, 0.96575697, 0.96554515, 0.96536696, 0.96563815,\n",
       "        0.96554153, 0.96535033, 0.9651632 , 0.96497822]),\n",
       " 'mean_test_Precision': array([0.96601736, 0.96667126, 0.96652353, 0.96635852, 0.96640598,\n",
       "        0.96635276, 0.96619133, 0.9659954 , 0.96582081]),\n",
       " 'std_test_Precision': array([0.00071328, 0.00082159, 0.00087243, 0.00088868, 0.00074716,\n",
       "        0.00069327, 0.00072044, 0.00071795, 0.0007478 ]),\n",
       " 'rank_test_Precision': array([7, 1, 2, 4, 3, 5, 6, 8, 9], dtype=int32),\n",
       " 'split0_test_Recall': array([0.26134969, 0.28588957, 0.28711656, 0.28711656, 0.29079755,\n",
       "        0.29815951, 0.29815951, 0.29815951, 0.29693252]),\n",
       " 'split1_test_Recall': array([0.28447205, 0.30310559, 0.30434783, 0.30434783, 0.30559006,\n",
       "        0.30559006, 0.30559006, 0.30559006, 0.3068323 ]),\n",
       " 'split2_test_Recall': array([0.27923628, 0.28878282, 0.28878282, 0.28878282, 0.29832936,\n",
       "        0.29952267, 0.29952267, 0.29952267, 0.29952267]),\n",
       " 'mean_test_Recall': array([0.27501934, 0.29259266, 0.29341574, 0.29341574, 0.29823899,\n",
       "        0.30109075, 0.30109075, 0.30109075, 0.30109583]),\n",
       " 'std_test_Recall': array([0.00989942, 0.00752702, 0.00776003, 0.00776003, 0.00603936,\n",
       "        0.0032298 , 0.0032298 , 0.0032298 , 0.00419186]),\n",
       " 'rank_test_Recall': array([9, 8, 6, 6, 5, 2, 2, 2, 1], dtype=int32),\n",
       " 'split0_test_F1': array([0.9340278 , 0.9322599 , 0.92869799, 0.92559804, 0.92245446,\n",
       "        0.91908357, 0.91626029, 0.91285199, 0.91016479]),\n",
       " 'split1_test_F1': array([0.93575436, 0.93479195, 0.9321721 , 0.9295503 , 0.92667802,\n",
       "        0.92339366, 0.92118772, 0.9178171 , 0.91486356]),\n",
       " 'split2_test_F1': array([0.93445261, 0.93252722, 0.92874879, 0.92565358, 0.92312139,\n",
       "        0.92058617, 0.9173944 , 0.91432641, 0.91134263]),\n",
       " 'mean_test_F1': array([0.93474492, 0.93319302, 0.92987296, 0.92693398, 0.92408462,\n",
       "        0.92102113, 0.91828081, 0.9149985 , 0.91212366]),\n",
       " 'std_test_F1': array([0.00073454, 0.00113587, 0.00162587, 0.00185016, 0.00185391,\n",
       "        0.00178626, 0.002107  , 0.00208196, 0.00199618]),\n",
       " 'rank_test_F1': array([1, 2, 3, 4, 5, 6, 7, 8, 9], dtype=int32)}"
      ]
     },
     "execution_count": 40,
     "metadata": {},
     "output_type": "execute_result"
    }
   ],
   "source": [
    "results_svm_3"
   ]
  },
  {
   "cell_type": "markdown",
   "metadata": {},
   "source": [
    "# Manual parameter tuning"
   ]
  },
  {
   "cell_type": "code",
   "execution_count": 3,
   "metadata": {},
   "outputs": [],
   "source": [
    "def cross_validation_svm(contamination, kernel, gamma, random_state, silent=True):\n",
    "    highest_score = 0\n",
    "    highest_score_c = 0\n",
    "    for c in contamination:\n",
    "        s = datetime.datetime.now()\n",
    "        y_pred = OneClassSVM(kernel = kernel, gamma = gamma, nu = c).fit(x_train).predict(x_test)\n",
    "        t = datetime.datetime.now() - s\n",
    "        p, r, f, s = map(lambda x: x[0], precision_recall_fscore_support(y_test, y_pred))\n",
    "        f = f1_score(y_test, y_pred, average = 'weighted')\n",
    "        fm = f1_score(y_test, y_pred, average = 'macro')\n",
    "        p = precision_score(y_test, y_pred, pos_label = -1)\n",
    "        r = recall_score(y_test, y_pred, average = 'macro')\n",
    "        a = roc_auc_score(y_test, y_pred)\n",
    "        if f > highest_score: highest_score = f; highest_score_c = c\n",
    "        \n",
    "        yp = np.array(y_pred)\n",
    "        yt = np.array(y_test)\n",
    "        \n",
    "        prediction = yp[np.where(yt == -1)]\n",
    "\n",
    "        tp = len(yp[np.where(prediction == -1)])\n",
    "        # fp through formula\n",
    "        fp = tp / p - tp\n",
    "        \n",
    "        # predicted true\n",
    "        positives = yp[np.where(yp == -1)]\n",
    "        if not silent:\n",
    "            print(f\"Finished trainning in {t} seconds\")\n",
    "            print(f\"contamination: {c} \\t tp: {tp}/support: {s}/predicted: {len(positives)} -> fp = {len(positives) - tp}\")\n",
    "            print(f\"AUC : {a:.1%} \\t precision: {p:.3} \\t recall: {r:.3} \\t f1: {f},{fm}\")\n",
    "            print(\"--------------------\")\n",
    "    return (highest_score_c, y_pred, f, len(positives) - tp, tp, p, r, t)"
   ]
  },
  {
   "cell_type": "code",
   "execution_count": 4,
   "metadata": {},
   "outputs": [
    {
     "name": "stdout",
     "output_type": "stream",
     "text": [
      "SF Anomaly Rate is:4.5%\n",
      "Finished trainning in 0:00:07.753031 seconds\n",
      "contamination: 0.05 \t tp: 582/support: 791/predicted: 1364 -> fp = 782\n",
      "AUC : 84.6% \t precision: 0.427 \t recall: 0.846 \t f1: 0.9526221818654705,0.7556927014628311\n",
      "--------------------\n",
      "Finished trainning in 0:00:10.540735 seconds\n",
      "contamination: 0.07 \t tp: 588/support: 791/predicted: 1666 -> fp = 1078\n",
      "AUC : 84.1% \t precision: 0.353 \t recall: 0.841 \t f1: 0.9415998624413807,0.7205678858344022\n",
      "--------------------\n",
      "Finished trainning in 0:00:13.542892 seconds\n",
      "contamination: 0.09000000000000001 \t tp: 200/support: 791/predicted: 1496 -> fp = 1296\n",
      "AUC : 58.9% \t precision: 0.134 \t recall: 0.589 \t f1: 0.9117680601275109,0.5599699595913482\n",
      "--------------------\n",
      "Finished trainning in 0:00:16.560885 seconds\n",
      "contamination: 0.11000000000000001 \t tp: 727/support: 791/predicted: 2226 -> fp = 1499\n",
      "AUC : 91.7% \t precision: 0.327 \t recall: 0.917 \t f1: 0.9331151039964567,0.7177109967897002\n",
      "--------------------\n",
      "Finished trainning in 0:00:19.342802 seconds\n",
      "contamination: 0.13 \t tp: 742/support: 791/predicted: 2607 -> fp = 1865\n",
      "AUC : 91.6% \t precision: 0.285 \t recall: 0.916 \t f1: 0.9205428377755136,0.689557530627871\n",
      "--------------------\n",
      "Finished trainning in 0:00:22.661313 seconds\n",
      "contamination: 0.15000000000000002 \t tp: 755/support: 791/predicted: 2867 -> fp = 2112\n",
      "AUC : 91.7% \t precision: 0.263 \t recall: 0.917 \t f1: 0.9122816876866574,0.6738139638835235\n",
      "--------------------\n",
      "Finished trainning in 0:00:25.337910 seconds\n",
      "contamination: 0.17000000000000004 \t tp: 779/support: 791/predicted: 3114 -> fp = 2335\n",
      "AUC : 92.6% \t precision: 0.25 \t recall: 0.926 \t f1: 0.9053939283003347,0.663617440264669\n",
      "--------------------\n",
      "Finished trainning in 0:00:28.590624 seconds\n",
      "contamination: 0.19 \t tp: 787/support: 791/predicted: 3473 -> fp = 2686\n",
      "AUC : 92.1% \t precision: 0.227 \t recall: 0.921 \t f1: 0.8932004271942718,0.64299968316828\n",
      "--------------------\n",
      "Finished trainning in 0:00:31.138193 seconds\n",
      "contamination: 0.21000000000000002 \t tp: 791/support: 791/predicted: 3836 -> fp = 3045\n",
      "AUC : 91.3% \t precision: 0.206 \t recall: 0.913 \t f1: 0.8805046814474757,0.6233645663695438\n",
      "--------------------\n",
      "Finished trainning in 0:00:34.354351 seconds\n",
      "contamination: 0.23000000000000004 \t tp: 791/support: 791/predicted: 4176 -> fp = 3385\n",
      "AUC : 90.3% \t precision: 0.189 \t recall: 0.903 \t f1: 0.8682379964685393,0.6057806118365606\n",
      "--------------------\n",
      "Finished trainning in 0:00:36.991156 seconds\n",
      "contamination: 0.25000000000000006 \t tp: 791/support: 791/predicted: 4570 -> fp = 3779\n",
      "AUC : 89.2% \t precision: 0.173 \t recall: 0.892 \t f1: 0.853877216955425,0.5871005080400676\n",
      "--------------------\n",
      "Finished trainning in 0:00:39.672782 seconds\n",
      "contamination: 0.27 \t tp: 791/support: 791/predicted: 4923 -> fp = 4132\n",
      "AUC : 88.2% \t precision: 0.161 \t recall: 0.882 \t f1: 0.8408401931869064,0.5715840603393658\n",
      "--------------------\n",
      "Finished trainning in 0:00:42.437527 seconds\n",
      "contamination: 0.29000000000000004 \t tp: 791/support: 791/predicted: 5285 -> fp = 4494\n",
      "AUC : 87.2% \t precision: 0.15 \t recall: 0.872 \t f1: 0.8272717637781842,0.5566183286542283\n",
      "--------------------\n",
      "Finished trainning in 0:00:45.515166 seconds\n",
      "contamination: 0.31000000000000005 \t tp: 791/support: 791/predicted: 5632 -> fp = 4841\n",
      "AUC : 86.2% \t precision: 0.14 \t recall: 0.862 \t f1: 0.814051625970202,0.5429942062278247\n",
      "--------------------\n",
      "Finished trainning in 0:00:48.615010 seconds\n",
      "contamination: 0.33 \t tp: 791/support: 791/predicted: 5986 -> fp = 5195\n",
      "AUC : 85.2% \t precision: 0.132 \t recall: 0.852 \t f1: 0.8003266856068724,0.5296794753593435\n",
      "--------------------\n",
      "Finished trainning in 0:00:50.710322 seconds\n",
      "contamination: 0.35000000000000003 \t tp: 791/support: 791/predicted: 6345 -> fp = 5554\n",
      "AUC : 84.1% \t precision: 0.125 \t recall: 0.841 \t f1: 0.7861412461888332,0.5166597350360429\n",
      "--------------------\n",
      "Finished trainning in 0:00:54.039746 seconds\n",
      "contamination: 0.37000000000000005 \t tp: 791/support: 791/predicted: 6684 -> fp = 5893\n",
      "AUC : 83.2% \t precision: 0.118 \t recall: 0.832 \t f1: 0.7724814865255312,0.5047214395098661\n",
      "--------------------\n",
      "Finished trainning in 0:00:57.079101 seconds\n",
      "contamination: 0.39000000000000007 \t tp: 791/support: 791/predicted: 7069 -> fp = 6278\n",
      "AUC : 82.1% \t precision: 0.112 \t recall: 0.821 \t f1: 0.7566355149029994,0.4914914869747705\n",
      "--------------------\n",
      "Time for SVM fitting: 585.408\n",
      "Time for SVM fitting: 585.881\n",
      "Time for SVM fitting: 391.494\n",
      "Time for SVM fitting: 305.768\n"
     ]
    }
   ],
   "source": [
    "target = \"target\"\n",
    "sf = datasets.fetch_kddcup99(subset='SF', percent10=True)\n",
    "dfSF=pd.DataFrame(sf.data, \n",
    "                  columns=[\"duration\", \"service\", \"src_bytes\", \"dst_bytes\"])\n",
    "assert len(dfSF)>0, \"SF dataset no loaded.\"\n",
    "\n",
    "dfSF[target]=sf.target\n",
    "anomaly_rateSF = 1.0 - len(dfSF.loc[dfSF[target]==b'normal.'])/len(dfSF)\n",
    "\n",
    "print(\"SF Anomaly Rate is:\"+\"{:.1%}\".format(anomaly_rateSF))\n",
    "\n",
    "dfSF['binary_target'] = [1 if x==b'normal.' else -1 for x in dfSF[target]]\n",
    "\n",
    "toDecode = toDecodeSF\n",
    "leSF = preprocessing.LabelEncoder()\n",
    "for f in toDecode:\n",
    "    dfSF[f] = list(map(byte_decoder, dfSF[f]))\n",
    "    dfSF[f] = leSF.fit_transform(dfSF[f])\n",
    "\n",
    "Y_axis_f1 = []\n",
    "Y_axis_recall = []\n",
    "best_param = []\n",
    "\n",
    "rs = 1\n",
    "x_train, x_test, y_train, y_test = train_test_split(dfSF.drop([\"target\", \"binary_target\"], axis=1), dfSF['binary_target'], test_size=0.25, random_state=rs)\n",
    "\n",
    "contaminations = np.arange(0.05, 0.4, 0.02)\n",
    "kernel = \"rbf\"\n",
    "gamma = \"scale\"\n",
    "\n",
    "stime = time.time()\n",
    "cmax, y_pred, f, fp, tp, p, r, t = cross_validation_svm(contaminations, kernel, gamma, rs, silent=False)\n",
    "print(\"Time for SVM fitting: %.3f\" % (time.time() - stime))\n",
    "Y_axis_f1.append(f)\n",
    "Y_axis_recall.append(r)\n",
    "best_param.append((rs, cmax, kernel, gamma))\n",
    "\n",
    "rs = 2\n",
    "x_train, x_test, y_train, y_test = train_test_split(dfSF.drop([\"target\", \"binary_target\"], axis=1), dfSF['binary_target'], test_size=0.25, random_state=rs)\n",
    "\n",
    "contaminations = np.arange(0.05, 0.4, 0.02)\n",
    "kernel = \"rbf\"\n",
    "gamma = \"auto\"\n",
    "\n",
    "stime = time.time()\n",
    "cmax, y_pred, f, fp, tp, p, r, t = cross_validation_svm(contaminations, kernel, gamma, rs, silent=True)\n",
    "print(\"Time for SVM fitting: %.3f\" % (time.time() - stime))\n",
    "Y_axis_f1.append(f)\n",
    "Y_axis_recall.append(r)\n",
    "best_param.append((rs, cmax, kernel, gamma))\n",
    "\n",
    "rs = 3\n",
    "x_train, x_test, y_train, y_test = train_test_split(dfSF.drop([\"target\", \"binary_target\"], axis=1), dfSF['binary_target'], test_size=0.25, random_state=rs)\n",
    "\n",
    "contaminations = np.arange(0.05, 0.4, 0.02)\n",
    "kernel = \"poly\"\n",
    "gamma = \"scale\"\n",
    "\n",
    "stime = time.time()\n",
    "cmax, y_pred, f, fp, tp, p, r, t = cross_validation_svm(contaminations, kernel, gamma, rs, silent=True)\n",
    "print(\"Time for SVM fitting: %.3f\" % (time.time() - stime))\n",
    "Y_axis_f1.append(f)\n",
    "Y_axis_recall.append(r)\n",
    "best_param.append((rs, cmax, kernel, gamma))\n",
    "\n",
    "rs = 4\n",
    "x_train, x_test, y_train, y_test = train_test_split(dfSF.drop([\"target\", \"binary_target\"], axis=1), dfSF['binary_target'], test_size=0.25, random_state=rs)\n",
    "\n",
    "contaminations = np.arange(0.05, 0.4, 0.02)\n",
    "kernel = \"linear\"\n",
    "gamma = \"scale\"\n",
    "\n",
    "stime = time.time()\n",
    "cmax, y_pred, f, fp, tp, p, r, t = cross_validation_svm(contaminations, kernel, gamma, rs, silent=True)\n",
    "print(\"Time for SVM fitting: %.3f\" % (time.time() - stime))\n",
    "Y_axis_f1.append(f)\n",
    "Y_axis_recall.append(r)\n",
    "best_param.append((rs, cmax, kernel, gamma))"
   ]
  },
  {
   "cell_type": "code",
   "execution_count": 13,
   "metadata": {},
   "outputs": [
    {
     "name": "stderr",
     "output_type": "stream",
     "text": [
      "<ipython-input-13-176837a52d89>:6: MatplotlibDeprecationWarning: Adding an axes using the same arguments as a previous axes currently reuses the earlier instance.  In a future version, a new instance will always be created and returned.  Meanwhile, this warning can be suppressed, and the future behavior ensured, by passing a unique label to each axes instance.\n",
      "  ax = plt.axes()\n"
     ]
    },
    {
     "data": {
      "image/png": "[encoded data removed]",
      "text/plain": [
       "<Figure size 2880x1440 with 1 Axes>"
      ]
     },
     "metadata": {
      "needs_background": "light"
     },
     "output_type": "display_data"
    }
   ],
   "source": [
    "plt.figure(figsize=(40,20))\n",
    "plt.rc('font', size=30)\n",
    "plt.title('f1 score for SVM after parameter tuning')\n",
    "plt.xlabel(\"configuration\")\n",
    "plt.ylabel(\"Score\")\n",
    "ax = plt.axes()\n",
    "ax.set_ylim(0.5, 0.8)\n",
    "pad = 0.005\n",
    "\n",
    "labels = [f\"\\n\\n{rs}-{cmax}\" for rs, cmax in enumerate(best_param)]\n",
    "colors = {'1': 'r', '2':'b', '3':'c', '4':'y'}\n",
    "scorer = 'F1'\n",
    "\n",
    "\n",
    "# Y_axis = np.array([best_score_1, best_score_2, best_score_3, best_score_4])\n",
    "# \n",
    "X_axis = np.array(labels)\n",
    "\n",
    "ax.plot(X_axis, Y_axis_f1, '-', color=colors['1'],label=\"%s \" % (\"F1\"), linewidth=5)\n",
    "# ax.plot(X_axis, Y_axis_recall, '-', color=colors['2'],label=\"%s \" % (\"Recall\"), linewidth=5)\n",
    "plt.legend(loc=\"best\")\n",
    "plt.grid('off')\n",
    "plt.tight_layout()\n",
    "plt.savefig(\"10 percent SVM_graph_SF.png\", dpi=100)\n",
    "\n",
    "plt.show()"
   ]
  },
  {
   "cell_type": "markdown",
   "metadata": {},
   "source": [
    "# Comparison against default values"
   ]
  },
  {
   "cell_type": "code",
   "execution_count": null,
   "metadata": {},
   "outputs": [],
   "source": [
    "f1_tuned = []\n",
    "auc_tuned = []\n",
    "r_tuned = []\n",
    "f1_not_tuned = []\n",
    "r_not_tuned = []\n",
    "auc_not_tuned = []\n",
    "\n",
    "\n",
    "for rs, c, k, g in best_param:\n",
    "    print(f\"---{[rs, c, k, g]}\")\n",
    "    x_train, x_test, y_train, y_test = train_test_split(dfSF.drop([\"target\", \"binary_target\"], axis=1), dfSF['binary_target'], test_size=0.25, random_state=rs)\n",
    "\n",
    "    stime = time.time()\n",
    "    y_pred = OneClassSVM(kernel = kernel, gamma = gamma, nu = c).fit(x_train).predict(x_test)\n",
    "    print(\"Time for SVM fitting: %.3f\" % (time.time() - stime))\n",
    "    f = f1_score(y_test, y_pred, pos_label=-1)\n",
    "    print(f\"---{f}\")\n",
    "    f1_tuned.append(f)\n",
    "    a = roc_auc_score(y_test, y_pred)\n",
    "    print(f\"---{a}\")\n",
    "    auc_tuned.append(a)\n",
    "    r = recall_score(y_test, y_pred, average = 'macro')\n",
    "    print(f\"---{r}\")\n",
    "    r_tuned.append(r)\n",
    "    y_pred = OneClassSVM().fit(x_train).predict(x_test)\n",
    "    f = f1_score(y_test, y_pred, pos_label=-1)\n",
    "    print(f\"---{f}\")\n",
    "    f1_not_tuned.append(f)\n",
    "    r_not_tuned.append(recall_score(y_test, y_pred, average = 'macro'))\n",
    "    auc_not_tuned.append(roc_auc_score(y_test, y_pred))\n",
    "    \n",
    "    \n",
    "fig, ax = plt.subplots(figsize = (30,20))\n",
    "plt.rc('font', size=30)\n",
    "\n",
    "width = 1\n",
    "labels = [f\"{rs}-c: {c:.2}\\n kernel: {k}\\n gamma: {g}\" for rs, c, k, g in best_param]\n",
    "ax.set_xticks([i*5 + width/2 for i in range(len(f1_tuned))])\n",
    "ax.set_xticklabels(labels)\n",
    "ax.set_ylabel('f1-score')\n",
    "\n",
    "ax.set_title('f1 score before and after parameter tuning using cross validation search')\n",
    "\n",
    "ax.bar([i*5 for i in range(len(f1_tuned))], f1_tuned, width=width)\n",
    "ax.bar([i*5 + width for i in range(len(f1_not_tuned))], f1_not_tuned, width=width)\n",
    "fig.tight_layout()\n",
    "ax.legend(['f1 score tuned', 'f1 score not tuned'])\n",
    "plt.show()"
   ]
  },
  {
   "cell_type": "code",
   "execution_count": null,
   "metadata": {},
   "outputs": [],
   "source": []
  }
 ],
 "metadata": {
  "kernelspec": {
   "display_name": "Python 3",
   "language": "python",
   "name": "python3"
  },
  "language_info": {
   "codemirror_mode": {
    "name": "ipython",
    "version": 3
   },
   "file_extension": ".py",
   "mimetype": "text/x-python",
   "name": "python",
   "nbconvert_exporter": "python",
   "pygments_lexer": "ipython3",
   "version": "3.8.5"
  }
 },
 "nbformat": 4,
 "nbformat_minor": 4
}
