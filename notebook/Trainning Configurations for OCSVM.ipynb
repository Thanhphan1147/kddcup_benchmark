{
 "cells": [
  {
   "cell_type": "code",
   "execution_count": 4,
   "metadata": {},
   "outputs": [],
   "source": [
    "from imports import *"
   ]
  },
  {
   "cell_type": "code",
   "execution_count": 5,
   "metadata": {},
   "outputs": [],
   "source": [
    "from sklearn.metrics import precision_score\n",
    "from sklearn.metrics import fbeta_score\n",
    "from sklearn.metrics import f1_score\n",
    "import time"
   ]
  },
  {
   "cell_type": "code",
   "execution_count": 6,
   "metadata": {},
   "outputs": [],
   "source": [
    "scoring = {'AUC': 'roc_auc',\n",
    "           'Precision': make_scorer(precision_score, pos_label=1), \n",
    "           'Recall': make_scorer(recall_score, pos_label=-1),\n",
    "           'F1': make_scorer(f1_score, average='weighted')}"
   ]
  },
  {
   "cell_type": "code",
   "execution_count": 7,
   "metadata": {},
   "outputs": [
    {
     "name": "stdout",
     "output_type": "stream",
     "text": [
      "SF anomaly rate is 4.5% / 73237\n"
     ]
    }
   ],
   "source": [
    "sf = datasets.fetch_kddcup99(subset='SF', percent10=True, random_state=0)\n",
    "dfsf = pd.DataFrame(sf.data, columns=sf_columns)\n",
    "dfsf[\"target\"]=sf.target\n",
    "anomaly_rate_sf = 1.0 - len(dfsf.loc[dfsf[\"target\"]==b'normal.'])/len(dfsf)\n",
    "print(f\"SF anomaly rate is {anomaly_rate_sf:.1%} / {len(dfsf)}\")\n",
    "\n",
    "dfsf['binary_target'] = [1 if x==b'normal.' else -1 for x in dfsf[\"target\"]]\n",
    "toDecodeSF = [\"service\", \"target\"]    \n",
    "leSF = preprocessing.LabelEncoder()\n",
    "for f in toDecodeSF:\n",
    "    dfsf[f] = list(map(byte_decoder, dfsf[f]))\n",
    "    dfsf[f] = leSF.fit_transform(dfsf[f])"
   ]
  },
  {
   "cell_type": "code",
   "execution_count": 79,
   "metadata": {},
   "outputs": [
    {
     "name": "stdout",
     "output_type": "stream",
     "text": [
      "Time for SVM fitting: 586.013\n"
     ]
    }
   ],
   "source": [
    "x_train_sf, x_test_sf, y_train_sf, y_test_sf = train_test_split(dfsf.drop([\"target\", 'binary_target'], axis=1), dfsf['binary_target'], test_size=0.25, random_state=1)\n",
    "gs_svm_1 = GridSearchCV(OneClassSVM(random_state = 1, n_jobs = -1),\n",
    "                       param_grid={'contamination': np.arange(0.005, 0.02, 0.001), 'n_estimators': [100], 'max_samples': [0.25]},\n",
    "                       scoring=scoring, refit='F1', cv=3)\n",
    "stime = time.time()\n",
    "gs_svm_1.fit(x_train_sf, y_train_sf)\n",
    "print(\"Time for IF fitting: %.3f\" % (time.time() - stime))\n",
    "results_svm_1 = gs_svm_1.cv_results_"
   ]
  },
  {
   "cell_type": "code",
   "execution_count": 81,
   "metadata": {},
   "outputs": [
    {
     "name": "stdout",
     "output_type": "stream",
     "text": [
      "Time for IF fitting: 356.985\n"
     ]
    }
   ],
   "source": [
    "gs_sf_1 = GridSearchCV(OneClassSVM(),\n",
    "                  param_grid={'nu': np.arange(0.045, 0.055, 0.001), 'kernel': ['poly'], 'gamma': ['auto'], 'degree': [2]},\n",
    "                  scoring=scoring, refit='Recall')\n",
    "stime = time.time()\n",
    "gs_sf_1.fit(x_sf, y_sf)\n",
    "print(\"Time for IF fitting: %.3f\" % (time.time() - stime))\n",
    "results_svm_sf_1 = gs_sf_1.cv_results_"
   ]
  },
  {
   "cell_type": "code",
   "execution_count": 70,
   "metadata": {},
   "outputs": [
    {
     "name": "stdout",
     "output_type": "stream",
     "text": [
      "3: {'gamma': 'scale', 'kernel': 'rbf', 'nu': 0.048}\n",
      "Time for SVM fitting: 9.053\n",
      "              precision    recall  f1-score   support\n",
      "\n",
      "     anomaly       0.06      0.07      0.06       836\n",
      "      normal       0.96      0.95      0.95     17474\n",
      "\n",
      "    accuracy                           0.91     18310\n",
      "   macro avg       0.51      0.51      0.51     18310\n",
      "weighted avg       0.91      0.91      0.91     18310\n",
      "\n",
      "Time for SVM fitting: 7.353\n",
      "              precision    recall  f1-score   support\n",
      "\n",
      "     anomaly       0.46      0.71      0.56       836\n",
      "      normal       0.99      0.96      0.97     17474\n",
      "\n",
      "    accuracy                           0.95     18310\n",
      "   macro avg       0.72      0.84      0.76     18310\n",
      "weighted avg       0.96      0.95      0.95     18310\n",
      "\n"
     ]
    }
   ],
   "source": [
    "best_index = np.nonzero(results_svm_sf_1['rank_test_F1_n'] == 1)[0][0]\n",
    "best_score_1 = results_svm_sf_1['mean_test_F1_n'][best_index]\n",
    "best_param_1 = results_svm_sf_1['params'][best_index]\n",
    "print(f\"{best_index}: {best_param_1} : {best_score_1}\")\n",
    "\n",
    "stime = time.time()\n",
    "y_pred_1 = OneClassSVM(kernel=\"rbf\", gamma='scale', nu=0.055).fit(X_train_sf).predict(X_test_sf)\n",
    "print(\"Time for SVM fitting: %.3f\" % (time.time() - stime))\n",
    "f1 = fbeta_score(y_test_sf, y_pred_1, labels=[-1], average='macro', beta=0.5) \n",
    "print(classification_report(y_test_sf, y_pred_1, target_names=['anomaly', 'normal']))\n",
    "\n",
    "\n",
    "stime = time.time()\n",
    "y_pred_not_tuned = OneClassSVM(kernel=\"rbf\", gamma='scale', nu=0.045).fit(X_train_sf).predict(X_test_sf)\n",
    "print(\"Time for SVM fitting: %.3f\" % (time.time() - stime))\n",
    "f1_not_tuned_1 = fbeta_score(y_test_sf, y_pred_not_tuned, labels=[-1], average='macro', beta=0.5) \n",
    "print(classification_report(y_test_sf, y_pred_not_tuned, target_names=['anomaly', 'normal']))"
   ]
  },
  {
   "cell_type": "code",
   "execution_count": 38,
   "metadata": {},
   "outputs": [
    {
     "name": "stdout",
     "output_type": "stream",
     "text": [
      "Time for SVM fitting: 5.747\n"
     ]
    },
    {
     "data": {
      "text/plain": [
       "0.5002581977794992"
      ]
     },
     "execution_count": 38,
     "metadata": {},
     "output_type": "execute_result"
    }
   ],
   "source": [
    "stime = time.time()\n",
    "y_pred_not_tuned = OneClassSVM(kernel=\"rbf\", gamma='scale', nu=0.045).fit(X_train_sf).predict(X_test_sf)\n",
    "print(\"Time for SVM fitting: %.3f\" % (time.time() - stime))\n",
    "f1_not_tuned_1 = fbeta_score(y_test_sf, y_pred_not_tuned, labels=[-1], average='macro', beta=0.5) \n",
    "f1_not_tuned_1"
   ]
  },
  {
   "cell_type": "code",
   "execution_count": 16,
   "metadata": {},
   "outputs": [
    {
     "name": "stdout",
     "output_type": "stream",
     "text": [
      "Time for OCSVM fitting: 238.868\n",
      "Time for OCSVM prediction: 0.596\n"
     ]
    }
   ],
   "source": [
    "gs_sf_2 = GridSearchCV(OneClassSVM(kernel=\"rbf\", gamma='auto'),\n",
    "                  param_grid={'nu': np.arange(0.04, 0.24, 0.04)},\n",
    "                  scoring=scoring, refit='F1')\n",
    "stime = time.time()\n",
    "gs_sf_2.fit(X_train_sf, y_train_sf)\n",
    "print(\"Time for OCSVM fitting: %.3f\" % (time.time() - stime))\n",
    "results_svm_sf_2 = gs_sf_2.cv_results_\n",
    "\n",
    "stime = time.time()\n",
    "y_pred = gs_sf_2.predict(X_test_sf)\n",
    "print(\"Time for OCSVM prediction: %.3f\" % (time.time() - stime))"
   ]
  },
  {
   "cell_type": "code",
   "execution_count": 21,
   "metadata": {},
   "outputs": [
    {
     "name": "stdout",
     "output_type": "stream",
     "text": [
      "Time for SVM fitting: 5.811\n"
     ]
    }
   ],
   "source": [
    "stime = time.time()\n",
    "y_pred_not_tuned = OneClassSVM(kernel=\"rbf\", gamma='auto', nu=0.045).fit(X_train_sf).predict(X_test_sf)\n",
    "print(\"Time for SVM fitting: %.3f\" % (time.time() - stime))\n",
    "f1_not_tuned_2 = fbeta_score(y_test_sf, y_pred_not_tuned, labels=[-1], average='macro', beta=0.5) "
   ]
  },
  {
   "cell_type": "code",
   "execution_count": 17,
   "metadata": {},
   "outputs": [
    {
     "name": "stdout",
     "output_type": "stream",
     "text": [
      "Time for OCSVM fitting: 121.492\n",
      "Time for OCSVM prediction: 0.312\n"
     ]
    }
   ],
   "source": [
    "gs_sf_3 = GridSearchCV(OneClassSVM(kernel=\"linear\", gamma='auto'),\n",
    "                  param_grid={'nu': np.arange(0.04, 0.24, 0.04)},\n",
    "                  scoring=scoring, refit='F1')\n",
    "stime = time.time()\n",
    "gs_sf_3.fit(X_train_sf, y_train_sf)\n",
    "print(\"Time for OCSVM fitting: %.3f\" % (time.time() - stime))\n",
    "results_svm_sf_3 = gs_sf_3.cv_results_\n",
    "\n",
    "stime = time.time()\n",
    "y_pred = gs_sf_3.predict(X_test_sf)\n",
    "print(\"Time for OCSVM prediction: %.3f\" % (time.time() - stime))"
   ]
  },
  {
   "cell_type": "code",
   "execution_count": 22,
   "metadata": {},
   "outputs": [
    {
     "name": "stdout",
     "output_type": "stream",
     "text": [
      "Time for SVM fitting: 2.824\n"
     ]
    }
   ],
   "source": [
    "stime = time.time()\n",
    "y_pred_not_tuned = OneClassSVM(kernel=\"linear\", gamma='auto', nu=0.045).fit(X_train_sf).predict(X_test_sf)\n",
    "print(\"Time for SVM fitting: %.3f\" % (time.time() - stime))\n",
    "f1_not_tuned_3 = fbeta_score(y_test_sf, y_pred_not_tuned, labels=[-1], average='macro', beta=0.5) "
   ]
  },
  {
   "cell_type": "code",
   "execution_count": 18,
   "metadata": {},
   "outputs": [
    {
     "name": "stdout",
     "output_type": "stream",
     "text": [
      "Time for OCSVM fitting: 121.980\n",
      "Time for OCSVM prediction: 0.317\n"
     ]
    }
   ],
   "source": [
    "gs_sf_4 = GridSearchCV(OneClassSVM(kernel=\"linear\", gamma='scale'),\n",
    "                  param_grid={'nu': np.arange(0.04, 0.24, 0.04)},\n",
    "                  scoring=scoring, refit='F1')\n",
    "stime = time.time()\n",
    "gs_sf_4.fit(X_train_sf, y_train_sf)\n",
    "print(\"Time for OCSVM fitting: %.3f\" % (time.time() - stime))\n",
    "results_svm_sf_4 = gs_sf_4.cv_results_\n",
    "\n",
    "stime = time.time()\n",
    "y_pred = gs_sf_4.predict(X_test_sf)\n",
    "print(\"Time for OCSVM prediction: %.3f\" % (time.time() - stime))"
   ]
  },
  {
   "cell_type": "code",
   "execution_count": 23,
   "metadata": {},
   "outputs": [
    {
     "name": "stdout",
     "output_type": "stream",
     "text": [
      "Time for SVM fitting: 2.768\n"
     ]
    }
   ],
   "source": [
    "stime = time.time()\n",
    "y_pred_not_tuned = OneClassSVM(kernel=\"linear\", gamma='scale', nu=0.045).fit(X_train_sf).predict(X_test_sf)\n",
    "print(\"Time for SVM fitting: %.3f\" % (time.time() - stime))\n",
    "f1_not_tuned_4 = fbeta_score(y_test_sf, y_pred_not_tuned, labels=[-1], average='macro', beta=0.5) "
   ]
  },
  {
   "cell_type": "code",
   "execution_count": 28,
   "metadata": {},
   "outputs": [
    {
     "name": "stderr",
     "output_type": "stream",
     "text": [
      "<ipython-input-28-c0941da69862>:10: MatplotlibDeprecationWarning: Adding an axes using the same arguments as a previous axes currently reuses the earlier instance.  In a future version, a new instance will always be created and returned.  Meanwhile, this warning can be suppressed, and the future behavior ensured, by passing a unique label to each axes instance.\n",
      "  ax = plt.axes()\n"
     ]
    },
    {
     "data": {
      "image/png": "[encoded data removed]",
      "text/plain": [
       "<Figure size 720x576 with 1 Axes>"
      ]
     },
     "metadata": {
      "needs_background": "light"
     },
     "output_type": "display_data"
    }
   ],
   "source": [
    "# X_axis = np.array(results_svm[\"param_nu\"].data, dtype=float)\n",
    "# print GridSearch cross-validation for parameters\n",
    "# X_axis_if = np.array(results_if[\"param_contamination\"].data, dtype=float)\n",
    "plt.figure(figsize=(10,8))\n",
    "\n",
    "plt.xlabel(\"configuration\")\n",
    "plt.ylabel(\"Score\")\n",
    "plt.grid()\n",
    "\n",
    "ax = plt.axes()\n",
    "pad = 0.005\n",
    "\n",
    "colors = {'lof': 'r', 'if':'b', 'dbscan':'c', 'svm':'y'}\n",
    "scorer = 'FP'\n",
    "\n",
    "best_index = np.nonzero(results_svm_sf_1['rank_test_%s' % scorer] == 1)[0][0]\n",
    "best_score_1 = results_svm_sf_1['mean_test_%s' % scorer][best_index]\n",
    "best_param_1 = results_svm_sf_1['params'][best_index]\n",
    "\n",
    "best_index = np.nonzero(results_svm_sf_2['rank_test_%s' % scorer] == 1)[0][0]\n",
    "best_score_2 = results_svm_sf_2['mean_test_%s' % scorer][best_index]\n",
    "best_param_2 = results_svm_sf_2['params'][best_index]\n",
    "\n",
    "best_index = np.nonzero(results_svm_sf_3['rank_test_%s' % scorer] == 1)[0][0]\n",
    "best_score_3 = results_svm_sf_3['mean_test_%s' % scorer][best_index]\n",
    "best_param_3 = results_svm_sf_3['params'][best_index]\n",
    "\n",
    "best_index = np.nonzero(results_svm_sf_4['rank_test_%s' % scorer] == 1)[0][0]\n",
    "best_score_4 = results_svm_sf_4['mean_test_%s' % scorer][best_index]\n",
    "best_param_4 = results_svm_sf_4['params'][best_index]\n",
    "\n",
    "Y_axis = np.array([best_score_1, best_score_2, best_score_3, best_score_4])\n",
    "Y_axis_not_tuned = np.array([f1_not_tuned_1, f1_not_tuned_2, f1_not_tuned_3, f1_not_tuned_4])\n",
    "X_axis = np.array([f\"1-{best_param_1}\", f\"2-{best_param_2}\", f\"3-{best_param_3}\", f\"4-{best_param_4}\"])\n",
    "\n",
    "ax.plot(X_axis, Y_axis, '-', color=colors['if'],label=\"%s \" % (scorer))\n",
    "ax.plot(X_axis, Y_axis_not_tuned, '-', color=colors['svm'],label=\"%s not tuned\" % (scorer))\n",
    "plt.legend(loc=\"best\")\n",
    "plt.grid('off')\n",
    "plt.tight_layout()\n",
    "plt.savefig(\"svm_nu.png\", dpi=100)\n",
    "\n",
    "plt.show()"
   ]
  },
  {
   "cell_type": "code",
   "execution_count": 55,
   "metadata": {},
   "outputs": [
    {
     "name": "stdout",
     "output_type": "stream",
     "text": [
      "SA anomaly rate is 3.4%\n"
     ]
    }
   ],
   "source": [
    "sa = datasets.fetch_kddcup99(subset='SA', percent10=True, random_state=0)\n",
    "dfsa = pd.DataFrame(sa.data, columns=sa_columns)\n",
    "dfsa[\"target\"]=sa.target\n",
    "anomaly_rate =  1.0 - len(dfsa.loc[dfsa[\"target\"]==b'normal.'])/len(dfsa)\n",
    "print(f\"SA anomaly rate is {anomaly_rate:.1%}\")\n",
    "\n",
    "dfsa['binary_target'] = [1 if x==b'normal.' else -1 for x in dfsa[\"target\"]]\n",
    "toDecodeSA = [\"protocol_type\", \"service\", \"flag\", \"target\"]\n",
    "le = preprocessing.LabelEncoder()\n",
    "for f in toDecodeSA:\n",
    "    dfsa[f] = list(map(byte_decoder, dfsa[f]))\n",
    "    dfsa[f] = le.fit_transform(dfsa[f])\n",
    "\n",
    "X_train_sa, X_test_sa, y_train_sa, y_test_sa = train_test_split(dfsa.drop([\"target\", 'binary_target'], axis=1), dfsa['binary_target'], test_size=0.25, random_state=0)"
   ]
  },
  {
   "cell_type": "code",
   "execution_count": 65,
   "metadata": {},
   "outputs": [
    {
     "name": "stdout",
     "output_type": "stream",
     "text": [
      "anomaly rate is 1.0% out of 98261 records (983)\n"
     ]
    }
   ],
   "source": [
    "r = 0.01\n",
    "target_anomaly_rate = r\n",
    "\n",
    "df = pd.read_csv('kddcup.data', delimiter=',')\n",
    "df.columns = sa_columns + [\"target\"]\n",
    "df_normal = df[df[\"target\"]== 'normal.']\n",
    "df_normal = df_normal.sample(frac=0.1, random_state=1)\n",
    "n_records = int(np.ceil(len(df_normal)*r/(1-r)))\n",
    "\n",
    "df = df_normal.append(df[df[\"target\"]!= 'normal.'].sample(n = n_records, random_state=1))\n",
    "anomaly_rate = 1.0 - len(df.loc[df[\"target\"]=='normal.'])/len(df)\n",
    "print(f\"anomaly rate is {anomaly_rate:.1%} out of {len(df)} records ({n_records})\")\n",
    "\n",
    "df['binary_target'] = [1 if x=='normal.' else -1 for x in df[\"target\"]]\n",
    "df = df.sample(frac=1, random_state=2)\n",
    "toDecode = [\"protocol_type\", \"service\", \"flag\", \"target\"]\n",
    "leSF = preprocessing.LabelEncoder()\n",
    "for f in toDecode:\n",
    "    df[f] = leSF.fit_transform(df[f])\n",
    "\n",
    "x_train_1, x_test_1, y_train_1, y_test_1 = train_test_split(df.drop([\"target\", 'binary_target'], axis=1), df['binary_target'], test_size=0.33, random_state=0)\n",
    "results = []"
   ]
  },
  {
   "cell_type": "code",
   "execution_count": 66,
   "metadata": {},
   "outputs": [
    {
     "name": "stdout",
     "output_type": "stream",
     "text": [
      "anomaly rate is 2.0% out of 198527 records (3971)\n"
     ]
    }
   ],
   "source": [
    "r = 0.02\n",
    "target_anomaly_rate = r\n",
    "\n",
    "df = pd.read_csv('kddcup.data', delimiter=',')\n",
    "df.columns = sa_columns + [\"target\"]\n",
    "df_normal = df[df[\"target\"]== 'normal.']\n",
    "df_normal = df_normal.sample(frac=0.2, random_state=1)\n",
    "n_records = int(np.ceil(len(df_normal)*r/(1-r)))\n",
    "\n",
    "df = df_normal.append(df[df[\"target\"]!= 'normal.'].sample(n = n_records, random_state=1))\n",
    "anomaly_rate = 1.0 - len(df.loc[df[\"target\"]=='normal.'])/len(df)\n",
    "print(f\"anomaly rate is {anomaly_rate:.1%} out of {len(df)} records ({n_records})\")\n",
    "\n",
    "df['binary_target'] = [1 if x=='normal.' else -1 for x in df[\"target\"]]\n",
    "df = df.sample(frac=1, random_state=2)\n",
    "toDecode = [\"protocol_type\", \"service\", \"flag\", \"target\"]\n",
    "leSF = preprocessing.LabelEncoder()\n",
    "for f in toDecode:\n",
    "    df[f] = leSF.fit_transform(df[f])\n",
    "\n",
    "x_train_2, x_test_2, y_train_2, y_test_2 = train_test_split(df.drop([\"target\", 'binary_target'], axis=1), df['binary_target'], test_size=0.33, random_state=0)\n",
    "results = []"
   ]
  },
  {
   "cell_type": "code",
   "execution_count": 59,
   "metadata": {},
   "outputs": [
    {
     "name": "stdout",
     "output_type": "stream",
     "text": [
      "Time for OCSVM fitting: 260.066\n",
      "Time for OCSVM prediction: 0.194\n"
     ]
    }
   ],
   "source": [
    "scoring = {'AUC': 'roc_auc', 'Precision': make_scorer(precision_score, pos_label=-1), 'F1': make_scorer(fbeta_score, labels=[-1], average='macro', beta=0.5)}\n",
    "gs = GridSearchCV(OneClassSVM(kernel=\"rbf\", gamma='scale'),\n",
    "                  param_grid={'nu': np.arange(0.01, 0.25, 0.05)},\n",
    "                  scoring=scoring, refit='F1')\n",
    "stime = time.time()\n",
    "gs.fit(X_train_sf, y_train_sf)\n",
    "print(\"Time for OCSVM fitting: %.3f\" % (time.time() - stime))\n",
    "results_svm = gs.cv_results_\n",
    "\n",
    "stime = time.time()\n",
    "y_pred = gs.predict(X_test_sf)\n",
    "print(\"Time for OCSVM prediction: %.3f\" % (time.time() - stime))"
   ]
  },
  {
   "cell_type": "code",
   "execution_count": 60,
   "metadata": {},
   "outputs": [
    {
     "name": "stdout",
     "output_type": "stream",
     "text": [
      "Time for OCSVM fitting: 2996.328\n",
      "Time for OCSVM prediction: 5.784\n"
     ]
    }
   ],
   "source": [
    "gs_sa = GridSearchCV(OneClassSVM(kernel=\"rbf\", gamma='scale'),\n",
    "                  param_grid={'nu': np.arange(0.01, 0.25, 0.05)},\n",
    "                  scoring=scoring, refit='F1')\n",
    "stime = time.time()\n",
    "gs_sa.fit(X_train_sa, y_train_sa)\n",
    "print(\"Time for OCSVM fitting: %.3f\" % (time.time() - stime))\n",
    "results_svm_sa = gs.cv_results_\n",
    "\n",
    "stime = time.time()\n",
    "y_pred = gs_sa.predict(X_test_sa)\n",
    "print(\"Time for OCSVM prediction: %.3f\" % (time.time() - stime))"
   ]
  },
  {
   "cell_type": "code",
   "execution_count": null,
   "metadata": {},
   "outputs": [],
   "source": [
    "gs_sa_poly = GridSearchCV(OneClassSVM(kernel=\"poly\"),\n",
    "                  param_grid={'nu': np.arange(0.01, 0.25, 0.05),\n",
    "                             'gamma': ['scale', 'auto'],\n",
    "                             'degree': np.array([2,3,4])},\n",
    "                  scoring=scoring, refit='F1')\n",
    "stime = time.time()\n",
    "gs_sa_poly.fit(X_train_sa, y_train_sa)\n",
    "print(\"Time for OCSVM fitting: %.3f\" % (time.time() - stime))\n",
    "results_svm_sa_poly = gs_sa_poly.cv_results_\n",
    "\n",
    "stime = time.time()\n",
    "y_pred = gs_sa_poly.predict(X_test_sa)\n",
    "print(\"Time for OCSVM prediction: %.3f\" % (time.time() - stime))"
   ]
  },
  {
   "cell_type": "code",
   "execution_count": null,
   "metadata": {},
   "outputs": [],
   "source": [
    "gs_sa_poly = GridSearchCV(OneClassSVM(kernel=\"sigmoid\", gamma='scale'),\n",
    "                  param_grid={'nu': np.arange(0.01, 0.25, 0.05)},\n",
    "                  scoring=scoring, refit='F1')\n",
    "stime = time.time()\n",
    "gs_sa_poly.fit(X_train_sa, y_train_sa)\n",
    "print(\"Time for OCSVM fitting: %.3f\" % (time.time() - stime))\n",
    "results_svm_sa_poly = gs_sa_poly.cv_results_\n",
    "\n",
    "stime = time.time()\n",
    "y_pred = gs_sa_poly.predict(X_test_sa)\n",
    "print(\"Time for OCSVM prediction: %.3f\" % (time.time() - stime))"
   ]
  },
  {
   "cell_type": "code",
   "execution_count": 68,
   "metadata": {},
   "outputs": [
    {
     "name": "stdout",
     "output_type": "stream",
     "text": [
      "Time for OCSVM fitting: 2107.779\n",
      "Time for OCSVM prediction: 1.039\n"
     ]
    }
   ],
   "source": [
    "gs_sa_1 = GridSearchCV(OneClassSVM(kernel=\"rbf\", gamma='scale'),\n",
    "                  param_grid={'nu': np.arange(0.01, 0.25, 0.05)},\n",
    "                  scoring=scoring, refit='F1')\n",
    "stime = time.time()\n",
    "gs_sa_1.fit(x_train_1, y_train_1)\n",
    "print(\"Time for OCSVM fitting: %.3f\" % (time.time() - stime))\n",
    "results_svm_sa_1 = gs_sa_1.cv_results_\n",
    "\n",
    "stime = time.time()\n",
    "y_pred = gs_sa_1.predict(x_test_1)\n",
    "print(\"Time for OCSVM prediction: %.3f\" % (time.time() - stime))"
   ]
  },
  {
   "cell_type": "code",
   "execution_count": 69,
   "metadata": {},
   "outputs": [
    {
     "name": "stdout",
     "output_type": "stream",
     "text": [
      "Time for OCSVM fitting: 12059.687\n",
      "Time for OCSVM prediction: 25.436\n"
     ]
    }
   ],
   "source": [
    "gs_sa_2 = GridSearchCV(OneClassSVM(kernel=\"rbf\", gamma='scale'),\n",
    "                  param_grid={'nu': np.arange(0.01, 0.25, 0.05)},\n",
    "                  scoring=scoring, refit='F1')\n",
    "stime = time.time()\n",
    "gs_sa_2.fit(x_train_2, y_train_2)\n",
    "print(\"Time for OCSVM fitting: %.3f\" % (time.time() - stime))\n",
    "results_svm_sa = gs_sa_2.cv_results_\n",
    "\n",
    "stime = time.time()\n",
    "y_pred = gs_sa_2.predict(x_test_2)\n",
    "print(\"Time for OCSVM prediction: %.3f\" % (time.time() - stime))"
   ]
  },
  {
   "cell_type": "code",
   "execution_count": 80,
   "metadata": {},
   "outputs": [],
   "source": [
    "fit_time = [260.066, 2996.328, 2107.779, 12059.687]"
   ]
  },
  {
   "cell_type": "code",
   "execution_count": 81,
   "metadata": {},
   "outputs": [
    {
     "name": "stderr",
     "output_type": "stream",
     "text": [
      "<ipython-input-81-68d2061ab5f3>:10: MatplotlibDeprecationWarning: Adding an axes using the same arguments as a previous axes currently reuses the earlier instance.  In a future version, a new instance will always be created and returned.  Meanwhile, this warning can be suppressed, and the future behavior ensured, by passing a unique label to each axes instance.\n",
      "  ax = plt.axes()\n"
     ]
    },
    {
     "data": {
      "image/png": "[encoded data removed]",
      "text/plain": [
       "<Figure size 720x576 with 1 Axes>"
      ]
     },
     "metadata": {
      "needs_background": "light"
     },
     "output_type": "display_data"
    }
   ],
   "source": [
    "# X_axis = np.array(results_svm[\"param_nu\"].data, dtype=float)\n",
    "# print GridSearch cross-validation for parameters\n",
    "X_axis_if = np.array(results_if[\"param_contamination\"].data, dtype=float)\n",
    "plt.figure(figsize=(10,8))\n",
    "\n",
    "plt.xlabel(\"configuration\")\n",
    "plt.ylabel(\"Score\")\n",
    "plt.grid()\n",
    "\n",
    "ax = plt.axes()\n",
    "pad = 0.005\n",
    "\n",
    "colors = {'lof': 'r', 'if':'b', 'dbscan':'c', 'svm':'y'}\n",
    "scorer = 'Precision'\n",
    "\n",
    "best_index = np.nonzero(results_svm['rank_test_%s' % scorer] == 1)[0][0]\n",
    "best_score_svm = results_svm['mean_test_%s' % scorer][best_index]\n",
    "\n",
    "best_index = np.nonzero(results_svm_sa['rank_test_%s' % scorer] == 1)[0][0]\n",
    "best_score_sa = results_svm_sa['mean_test_%s' % scorer][best_index]\n",
    "\n",
    "best_index = np.nonzero(results_svm_sa_1['rank_test_%s' % scorer] == 1)[0][0]\n",
    "best_score_1 = results_svm_sa_1['mean_test_%s' % scorer][best_index]\n",
    "\n",
    "best_index = np.nonzero(results_svm_sa_2['rank_test_%s' % scorer] == 1)[0][0]\n",
    "best_score_2 = results_svm_sa_2['mean_test_%s' % scorer][best_index]\n",
    "\n",
    "Y_axis = np.array([best_score_svm, best_score_sa, best_score_1, best_score_2])\n",
    "X_axis = np.array(['c1', 'c2', 'c3', 'c4'])\n",
    "\n",
    "ax.plot(X_axis, Y_axis, '-', color=colors['svm'],label=\"%s \" % (scorer))\n",
    "plt.legend(loc=\"best\")\n",
    "plt.grid('off')\n",
    "plt.tight_layout()\n",
    "plt.savefig(\"nu.png\", dpi=100)\n",
    "\n",
    "plt.show()\n",
    "\n",
    "# for scorer, color in zip(sorted(scoring), ['b', 'k']):\n",
    "#     sample, style= ('test', '-')\n",
    "#     sample_score_mean = results_svm['mean_%s_%s' % (sample, scorer)]\n",
    "# #    sample_score_std = results_svm['std_%s_%s' % (sample, scorer)]\n",
    "    \n",
    "#     sample_score_mean_lof = results_lof['mean_%s_%s' % (sample, scorer)]\n",
    "# #    sample_score_std_lof = results_lof['std_%s_%s' % (sample, scorer)]\n",
    "    \n",
    "# #     We don't plot standard deviation    \n",
    "# #     ax.fill_between(X_axis, sample_score_mean - sample_score_std,\n",
    "# #                 sample_score_mean + sample_score_std,\n",
    "# #                 alpha=0.1 if sample == 'test' else 0, color=color)\n",
    "#     ax.plot(X_axis, sample_score_mean, style, color=color,\n",
    "#         alpha=1 if sample == 'test' else 0.7,\n",
    "#         label=\"%s (%s)\" % (scorer, sample))\n",
    "\n",
    "#     best_index = np.nonzero(results['rank_test_%s' % scorer] == 1)[0][0]\n",
    "#     best_score = results['mean_test_%s' % scorer][best_index]\n",
    "\n",
    "#     # Plot a dotted vertical line at the best score for that scorer marked by x\n",
    "#     ax.plot([X_axis[best_index], ] * 2, [0, best_score],\n",
    "#         linestyle='-.', color=color, marker='x', markeredgewidth=3, ms=8)\n",
    "\n",
    "#     # Annotate the best score for that scorer\n",
    "#     ax.annotate(\"%0.2f\" % best_score,\n",
    "#             (X_axis[best_index], best_score+pad))\n",
    "    \n",
    "# plt.legend(loc=\"best\")\n",
    "# plt.grid('off')\n",
    "# plt.tight_layout()\n",
    "# plt.savefig(\"nu.png\", dpi=100)\n",
    "\n",
    "# plt.show()"
   ]
  },
  {
   "cell_type": "markdown",
   "metadata": {},
   "source": [
    "# Archive"
   ]
  },
  {
   "cell_type": "code",
   "execution_count": 63,
   "metadata": {},
   "outputs": [
    {
     "data": {
      "text/plain": [
       "{'mean_fit_time': array([ 0.61091375,  5.07705498,  9.18493633, 13.29303331, 16.88273849]),\n",
       " 'std_fit_time': array([0.01198042, 0.12844537, 0.08549168, 0.08558367, 0.30675319]),\n",
       " 'mean_score_time': array([0.1449966 , 0.74371862, 1.3358501 , 1.94709306, 2.59730806]),\n",
       " 'std_score_time': array([0.00463848, 0.01713212, 0.01801429, 0.02144899, 0.06321599]),\n",
       " 'param_nu': masked_array(data=[0.01, 0.060000000000000005, 0.11, 0.16000000000000003,\n",
       "                    0.21000000000000002],\n",
       "              mask=[False, False, False, False, False],\n",
       "        fill_value='?',\n",
       "             dtype=object),\n",
       " 'params': [{'nu': 0.01},\n",
       "  {'nu': 0.060000000000000005},\n",
       "  {'nu': 0.11},\n",
       "  {'nu': 0.16000000000000003},\n",
       "  {'nu': 0.21000000000000002}],\n",
       " 'split0_test_AUC': array([0.94115565, 0.91135687, 0.91014531, 0.89717969, 0.93749916]),\n",
       " 'split1_test_AUC': array([0.95307346, 0.92250814, 0.91347697, 0.8959531 , 0.93966566]),\n",
       " 'split2_test_AUC': array([0.95114229, 0.92344162, 0.9168717 , 0.9012755 , 0.93832205]),\n",
       " 'split3_test_AUC': array([0.95184264, 0.92213463, 0.91759157, 0.90055923, 0.93995872]),\n",
       " 'split4_test_AUC': array([0.95169046, 0.92177507, 0.91608672, 0.89807279, 0.93711678]),\n",
       " 'mean_test_AUC': array([0.9497809 , 0.92024327, 0.91483445, 0.89860806, 0.93851247]),\n",
       " 'std_test_AUC': array([0.00435859, 0.00447774, 0.00272584, 0.00201484, 0.00113424]),\n",
       " 'rank_test_AUC': array([1, 3, 4, 5, 2], dtype=int32),\n",
       " 'split0_test_Precision': array([0.75067751, 0.06375228, 0.13298429, 0.12318841, 0.20669856]),\n",
       " 'split1_test_Precision': array([0.25373134, 0.39036755, 0.31814483, 0.10830325, 0.20676329]),\n",
       " 'split2_test_Precision': array([0.16304348, 0.40073983, 0.34516928, 0.27947598, 0.2232581 ]),\n",
       " 'split3_test_Precision': array([0.79895561, 0.40073983, 0.13901345, 0.27883397, 0.21859786]),\n",
       " 'split4_test_Precision': array([0.21      , 0.06743738, 0.34441603, 0.1132661 , 0.22042219]),\n",
       " 'mean_test_Precision': array([0.43528159, 0.26460737, 0.25594558, 0.18061354, 0.215148  ]),\n",
       " 'std_test_Precision': array([0.27912694, 0.16254137, 0.09843702, 0.08060166, 0.0070312 ]),\n",
       " 'rank_test_Precision': array([1, 2, 3, 5, 4], dtype=int32),\n",
       " 'split0_test_F1': array([0.72475144, 0.06651463, 0.14923619, 0.1427372 , 0.24559409]),\n",
       " 'split1_test_F1': array([0.12195122, 0.42956764, 0.36576239, 0.12564919, 0.24572282]),\n",
       " 'split2_test_F1': array([0.09113001, 0.43930792, 0.39441404, 0.32619776, 0.26431974]),\n",
       " 'split3_test_F1': array([0.77155825, 0.43978349, 0.15426723, 0.32529942, 0.2590285 ]),\n",
       " 'split4_test_F1': array([0.12352941, 0.06927949, 0.39284325, 0.13021762, 0.26110723]),\n",
       " 'mean_test_F1': array([0.36658407, 0.28889064, 0.29130462, 0.21002024, 0.25515448]),\n",
       " 'std_test_F1': array([0.31211654, 0.18047946, 0.11441004, 0.09465775, 0.00793477]),\n",
       " 'rank_test_F1': array([1, 3, 2, 5, 4], dtype=int32)}"
      ]
     },
     "execution_count": 63,
     "metadata": {},
     "output_type": "execute_result"
    }
   ],
   "source": [
    "results_svm"
   ]
  },
  {
   "cell_type": "code",
   "execution_count": 70,
   "metadata": {},
   "outputs": [
    {
     "data": {
      "text/plain": [
       "{'mean_fit_time': array([ 0.61091375,  5.07705498,  9.18493633, 13.29303331, 16.88273849]),\n",
       " 'std_fit_time': array([0.01198042, 0.12844537, 0.08549168, 0.08558367, 0.30675319]),\n",
       " 'mean_score_time': array([0.1449966 , 0.74371862, 1.3358501 , 1.94709306, 2.59730806]),\n",
       " 'std_score_time': array([0.00463848, 0.01713212, 0.01801429, 0.02144899, 0.06321599]),\n",
       " 'param_nu': masked_array(data=[0.01, 0.060000000000000005, 0.11, 0.16000000000000003,\n",
       "                    0.21000000000000002],\n",
       "              mask=[False, False, False, False, False],\n",
       "        fill_value='?',\n",
       "             dtype=object),\n",
       " 'params': [{'nu': 0.01},\n",
       "  {'nu': 0.060000000000000005},\n",
       "  {'nu': 0.11},\n",
       "  {'nu': 0.16000000000000003},\n",
       "  {'nu': 0.21000000000000002}],\n",
       " 'split0_test_AUC': array([0.94115565, 0.91135687, 0.91014531, 0.89717969, 0.93749916]),\n",
       " 'split1_test_AUC': array([0.95307346, 0.92250814, 0.91347697, 0.8959531 , 0.93966566]),\n",
       " 'split2_test_AUC': array([0.95114229, 0.92344162, 0.9168717 , 0.9012755 , 0.93832205]),\n",
       " 'split3_test_AUC': array([0.95184264, 0.92213463, 0.91759157, 0.90055923, 0.93995872]),\n",
       " 'split4_test_AUC': array([0.95169046, 0.92177507, 0.91608672, 0.89807279, 0.93711678]),\n",
       " 'mean_test_AUC': array([0.9497809 , 0.92024327, 0.91483445, 0.89860806, 0.93851247]),\n",
       " 'std_test_AUC': array([0.00435859, 0.00447774, 0.00272584, 0.00201484, 0.00113424]),\n",
       " 'rank_test_AUC': array([1, 3, 4, 5, 2], dtype=int32),\n",
       " 'split0_test_Precision': array([0.75067751, 0.06375228, 0.13298429, 0.12318841, 0.20669856]),\n",
       " 'split1_test_Precision': array([0.25373134, 0.39036755, 0.31814483, 0.10830325, 0.20676329]),\n",
       " 'split2_test_Precision': array([0.16304348, 0.40073983, 0.34516928, 0.27947598, 0.2232581 ]),\n",
       " 'split3_test_Precision': array([0.79895561, 0.40073983, 0.13901345, 0.27883397, 0.21859786]),\n",
       " 'split4_test_Precision': array([0.21      , 0.06743738, 0.34441603, 0.1132661 , 0.22042219]),\n",
       " 'mean_test_Precision': array([0.43528159, 0.26460737, 0.25594558, 0.18061354, 0.215148  ]),\n",
       " 'std_test_Precision': array([0.27912694, 0.16254137, 0.09843702, 0.08060166, 0.0070312 ]),\n",
       " 'rank_test_Precision': array([1, 2, 3, 5, 4], dtype=int32),\n",
       " 'split0_test_F1': array([0.72475144, 0.06651463, 0.14923619, 0.1427372 , 0.24559409]),\n",
       " 'split1_test_F1': array([0.12195122, 0.42956764, 0.36576239, 0.12564919, 0.24572282]),\n",
       " 'split2_test_F1': array([0.09113001, 0.43930792, 0.39441404, 0.32619776, 0.26431974]),\n",
       " 'split3_test_F1': array([0.77155825, 0.43978349, 0.15426723, 0.32529942, 0.2590285 ]),\n",
       " 'split4_test_F1': array([0.12352941, 0.06927949, 0.39284325, 0.13021762, 0.26110723]),\n",
       " 'mean_test_F1': array([0.36658407, 0.28889064, 0.29130462, 0.21002024, 0.25515448]),\n",
       " 'std_test_F1': array([0.31211654, 0.18047946, 0.11441004, 0.09465775, 0.00793477]),\n",
       " 'rank_test_F1': array([1, 3, 2, 5, 4], dtype=int32)}"
      ]
     },
     "execution_count": 70,
     "metadata": {},
     "output_type": "execute_result"
    }
   ],
   "source": [
    "results_svm_sa = gs.cv_results_\n",
    "results_svm_sa"
   ]
  },
  {
   "cell_type": "code",
   "execution_count": 53,
   "metadata": {},
   "outputs": [
    {
     "data": {
      "text/plain": [
       "{'mean_fit_time': array([2.36972971, 2.23002892, 2.23278694, 2.26178975, 2.20120721]),\n",
       " 'std_fit_time': array([0.35499806, 0.04266414, 0.04018767, 0.06024252, 0.02619915]),\n",
       " 'mean_score_time': array([1.02248826, 1.01561413, 1.01032758, 1.01449027, 0.98523035]),\n",
       " 'std_score_time': array([0.03878348, 0.03293335, 0.03019608, 0.08170886, 0.02489543]),\n",
       " 'param_contamination': masked_array(data=[0.01, 0.060000000000000005, 0.11, 0.16000000000000003,\n",
       "                    0.21000000000000002],\n",
       "              mask=[False, False, False, False, False],\n",
       "        fill_value='?',\n",
       "             dtype=object),\n",
       " 'params': [{'contamination': 0.01},\n",
       "  {'contamination': 0.060000000000000005},\n",
       "  {'contamination': 0.11},\n",
       "  {'contamination': 0.16000000000000003},\n",
       "  {'contamination': 0.21000000000000002}],\n",
       " 'split0_test_AUC': array([0.87293722, 0.87293722, 0.87293722, 0.87293722, 0.87293722]),\n",
       " 'split1_test_AUC': array([0.87041117, 0.87041117, 0.87041117, 0.87041117, 0.87041117]),\n",
       " 'split2_test_AUC': array([0.88079782, 0.88079782, 0.88079782, 0.88079782, 0.88079782]),\n",
       " 'split3_test_AUC': array([0.88039776, 0.88039776, 0.88039776, 0.88039776, 0.88039776]),\n",
       " 'split4_test_AUC': array([0.88277807, 0.88277807, 0.88277807, 0.88277807, 0.88277807]),\n",
       " 'mean_test_AUC': array([0.87746441, 0.87746441, 0.87746441, 0.87746441, 0.87746441]),\n",
       " 'std_test_AUC': array([0.00486199, 0.00486199, 0.00486199, 0.00486199, 0.00486199]),\n",
       " 'rank_test_AUC': array([1, 1, 1, 1, 1], dtype=int32),\n",
       " 'split0_test_Precision': array([0.32075472, 0.15923567, 0.0881095 , 0.1109778 , 0.20518868]),\n",
       " 'split1_test_Precision': array([0.36082474, 0.13932981, 0.07791017, 0.09924623, 0.20916626]),\n",
       " 'split2_test_Precision': array([0.27956989, 0.13804714, 0.08236434, 0.10892388, 0.22347741]),\n",
       " 'split3_test_Precision': array([0.28448276, 0.15397631, 0.09386973, 0.1065051 , 0.21527446]),\n",
       " 'split4_test_Precision': array([0.36893204, 0.13486842, 0.08063021, 0.10406938, 0.22015656]),\n",
       " 'mean_test_Precision': array([0.32291283, 0.14509147, 0.08457679, 0.10594448, 0.21465267]),\n",
       " 'std_test_Precision': array([0.0371893 , 0.00965742, 0.00572281, 0.00407205, 0.00675608]),\n",
       " 'rank_test_Precision': array([1, 3, 5, 4, 2], dtype=int32)}"
      ]
     },
     "execution_count": 53,
     "metadata": {},
     "output_type": "execute_result"
    }
   ],
   "source": [
    "results_if"
   ]
  },
  {
   "cell_type": "code",
   "execution_count": 71,
   "metadata": {},
   "outputs": [
    {
     "data": {
      "text/plain": [
       "{'mean_fit_time': array([  3.15310521,  42.07081943,  78.29551282, 112.87918234,\n",
       "        146.41757412]),\n",
       " 'std_fit_time': array([0.04969832, 0.3443859 , 0.5249806 , 1.44938901, 1.82195756]),\n",
       " 'mean_score_time': array([ 0.70274234,  4.20767879,  7.52159572, 10.85573292, 14.25604572]),\n",
       " 'std_score_time': array([0.03234505, 0.159796  , 0.03570407, 0.12898077, 0.12571462]),\n",
       " 'param_nu': masked_array(data=[0.01, 0.060000000000000005, 0.11, 0.16000000000000003,\n",
       "                    0.21000000000000002],\n",
       "              mask=[False, False, False, False, False],\n",
       "        fill_value='?',\n",
       "             dtype=object),\n",
       " 'params': [{'nu': 0.01},\n",
       "  {'nu': 0.060000000000000005},\n",
       "  {'nu': 0.11},\n",
       "  {'nu': 0.16000000000000003},\n",
       "  {'nu': 0.21000000000000002}],\n",
       " 'split0_test_AUC': array([0.78775349, 0.79479753, 0.80760556, 0.79655984, 0.78935081]),\n",
       " 'split1_test_AUC': array([0.78493623, 0.79004843, 0.79999716, 0.79676182, 0.78783564]),\n",
       " 'split2_test_AUC': array([0.74577745, 0.75972126, 0.76601837, 0.77492016, 0.76957091]),\n",
       " 'split3_test_AUC': array([0.77017719, 0.77735675, 0.79750651, 0.7856981 , 0.78009865]),\n",
       " 'split4_test_AUC': array([0.76416275, 0.77721264, 0.80028026, 0.79119923, 0.78337628]),\n",
       " 'mean_test_AUC': array([0.77056142, 0.77982732, 0.79428157, 0.78902783, 0.78204646]),\n",
       " 'std_test_AUC': array([0.01521537, 0.01221288, 0.01452852, 0.00814093, 0.00704372]),\n",
       " 'rank_test_AUC': array([5, 4, 1, 2, 3], dtype=int32),\n",
       " 'split0_test_Precision': array([0.1147541 , 0.05213904, 0.02708192, 0.01950523, 0.01516272]),\n",
       " 'split1_test_Precision': array([0.04531722, 0.05073281, 0.02954695, 0.0215255 , 0.01651706]),\n",
       " 'split2_test_Precision': array([0.04065041, 0.03321033, 0.01863354, 0.01322626, 0.00978679]),\n",
       " 'split3_test_Precision': array([0.06504065, 0.04252401, 0.02372394, 0.01589595, 0.01213682]),\n",
       " 'split4_test_Precision': array([0.03018109, 0.05263158, 0.02981969, 0.02076451, 0.01592472]),\n",
       " 'mean_test_Precision': array([0.05918869, 0.04624755, 0.02576121, 0.01818349, 0.01390562]),\n",
       " 'std_test_Precision': array([0.02999762, 0.00747552, 0.00418334, 0.00314276, 0.00255226]),\n",
       " 'rank_test_Precision': array([1, 2, 3, 4, 5], dtype=int32),\n",
       " 'split0_test_F1': array([0.11272142, 0.0624    , 0.0331071 , 0.02400187, 0.01872317]),\n",
       " 'split1_test_F1': array([0.05140507, 0.0610915 , 0.03613297, 0.02648854, 0.02039911]),\n",
       " 'split2_test_F1': array([0.04084967, 0.04003559, 0.02281947, 0.01630182, 0.01210654]),\n",
       " 'split3_test_F1': array([0.06430868, 0.05088641, 0.02897787, 0.01956367, 0.01499182]),\n",
       " 'split4_test_F1': array([0.03501401, 0.06282876, 0.0363053 , 0.02549247, 0.01963234]),\n",
       " 'mean_test_F1': array([0.06085977, 0.05544845, 0.03146854, 0.02236967, 0.0171706 ]),\n",
       " 'std_test_F1': array([0.02778246, 0.00886573, 0.00507633, 0.00384899, 0.00313961]),\n",
       " 'rank_test_F1': array([1, 2, 3, 4, 5], dtype=int32)}"
      ]
     },
     "execution_count": 71,
     "metadata": {},
     "output_type": "execute_result"
    }
   ],
   "source": [
    "results_svm_sa_1"
   ]
  },
  {
   "cell_type": "code",
   "execution_count": 73,
   "metadata": {},
   "outputs": [
    {
     "data": {
      "text/plain": [
       "{'mean_fit_time': array([154.23872514, 241.91987371, 485.70241013, 596.96554732,\n",
       "        670.873102  ]),\n",
       " 'std_fit_time': array([164.24436164, 100.47818039,  63.7203627 , 101.96003818,\n",
       "         18.59338774]),\n",
       " 'mean_score_time': array([ 2.8996356 , 17.1722085 , 31.82961888, 44.81605072, 59.74999189]),\n",
       " 'std_score_time': array([0.11708601, 0.27358993, 0.43767576, 1.05497233, 1.08656381]),\n",
       " 'param_nu': masked_array(data=[0.01, 0.060000000000000005, 0.11, 0.16000000000000003,\n",
       "                    0.21000000000000002],\n",
       "              mask=[False, False, False, False, False],\n",
       "        fill_value='?',\n",
       "             dtype=object),\n",
       " 'params': [{'nu': 0.01},\n",
       "  {'nu': 0.060000000000000005},\n",
       "  {'nu': 0.11},\n",
       "  {'nu': 0.16000000000000003},\n",
       "  {'nu': 0.21000000000000002}],\n",
       " 'split0_test_AUC': array([0.77804472, 0.78739991, 0.78571251, 0.79789526, 0.78842519]),\n",
       " 'split1_test_AUC': array([0.76379205, 0.77314981, 0.79521723, 0.78525999, 0.78128722]),\n",
       " 'split2_test_AUC': array([0.77350027, 0.77824086, 0.79092233, 0.7893282 , 0.78408866]),\n",
       " 'split3_test_AUC': array([0.77745612, 0.78233769, 0.79489878, 0.78817545, 0.78170407]),\n",
       " 'split4_test_AUC': array([0.78041759, 0.78268204, 0.8023077 , 0.79270626, 0.78507322]),\n",
       " 'mean_test_AUC': array([0.77464215, 0.78076206, 0.79381171, 0.79067303, 0.78411567]),\n",
       " 'std_test_AUC': array([0.00586311, 0.00478608, 0.00546415, 0.00432764, 0.00258091]),\n",
       " 'rank_test_AUC': array([5, 4, 1, 2, 3], dtype=int32),\n",
       " 'split0_test_Precision': array([0.06679574, 0.09955892, 0.0599512 , 0.04095644, 0.03124436]),\n",
       " 'split1_test_Precision': array([0.06944444, 0.07929515, 0.05150363, 0.03573108, 0.02737259]),\n",
       " 'split2_test_Precision': array([0.04983012, 0.08628461, 0.0507023 , 0.0353857 , 0.02710027]),\n",
       " 'split3_test_Precision': array([0.03221477, 0.09003021, 0.05513119, 0.03843514, 0.0293501 ]),\n",
       " 'split4_test_Precision': array([0.04972376, 0.08165829, 0.04914676, 0.03465347, 0.02604997]),\n",
       " 'mean_test_Precision': array([0.05360177, 0.08736544, 0.05328701, 0.03703237, 0.02822346]),\n",
       " 'std_test_Precision': array([0.01350363, 0.00713654, 0.00386821, 0.00234223, 0.00184958]),\n",
       " 'rank_test_Precision': array([2, 1, 3, 4, 5], dtype=int32),\n",
       " 'split0_test_F1': array([0.07362356, 0.11445958, 0.07148795, 0.0495702 , 0.03810237]),\n",
       " 'split1_test_F1': array([0.06237525, 0.09104046, 0.06138761, 0.04323094, 0.03336846]),\n",
       " 'split2_test_F1': array([0.05412054, 0.09933284, 0.06061102, 0.0428841 , 0.03307899]),\n",
       " 'split3_test_F1': array([0.03386005, 0.10370267, 0.06583122, 0.04654255, 0.03580563]),\n",
       " 'split4_test_F1': array([0.05286344, 0.09451796, 0.05887644, 0.04205527, 0.03184437]),\n",
       " 'mean_test_F1': array([0.05536857, 0.1006107 , 0.06363885, 0.04485661, 0.03443996]),\n",
       " 'std_test_F1': array([0.01305977, 0.00814488, 0.00454601, 0.00280861, 0.00223677]),\n",
       " 'rank_test_F1': array([3, 1, 2, 4, 5], dtype=int32)}"
      ]
     },
     "execution_count": 73,
     "metadata": {},
     "output_type": "execute_result"
    }
   ],
   "source": [
    "results_svm_sa_2 = gs_sa_2.cv_results_\n",
    "results_svm_sa_2"
   ]
  },
  {
   "cell_type": "markdown",
   "metadata": {},
   "source": [
    "# Gridsearch - cv for Isolation Forest"
   ]
  },
  {
   "cell_type": "code",
   "execution_count": 3,
   "metadata": {},
   "outputs": [
    {
     "name": "stdout",
     "output_type": "stream",
     "text": [
      "anomaly rate is 1.0% out of 982607 records (9827)\n"
     ]
    }
   ],
   "source": [
    "r = 0.01\n",
    "target_anomaly_rate = r\n",
    "\n",
    "df = pd.read_csv('kddcup.data', delimiter=',')\n",
    "df.columns = sa_columns + [\"target\"]\n",
    "df_normal = df[df[\"target\"]== 'normal.']\n",
    "df_normal = df_normal.sample(frac=1, random_state=1)\n",
    "n_records = int(np.ceil(len(df_normal)*r/(1-r)))\n",
    "\n",
    "df = df_normal.append(df[df[\"target\"]!= 'normal.'].sample(n = n_records, random_state=1))\n",
    "anomaly_rate = 1.0 - len(df.loc[df[\"target\"]=='normal.'])/len(df)\n",
    "print(f\"anomaly rate is {anomaly_rate:.1%} out of {len(df)} records ({n_records})\")\n",
    "\n",
    "df['binary_target'] = [1 if x=='normal.' else -1 for x in df[\"target\"]]\n",
    "df = df.sample(frac=1, random_state=2)\n",
    "toDecode = [\"protocol_type\", \"service\", \"flag\", \"target\"]\n",
    "leSF = preprocessing.LabelEncoder()\n",
    "for f in toDecode:\n",
    "    df[f] = leSF.fit_transform(df[f])\n",
    "\n",
    "x_train_1, x_test_1, y_train_1, y_test_1 = train_test_split(df.drop([\"target\", 'binary_target'], axis=1), df['binary_target'], test_size=0.33, random_state=0)\n",
    "results = []"
   ]
  },
  {
   "cell_type": "code",
   "execution_count": 7,
   "metadata": {},
   "outputs": [
    {
     "name": "stdout",
     "output_type": "stream",
     "text": [
      "Time for OCSVM fitting: 2827.709\n",
      "Time for OCSVM prediction: 19.730\n"
     ]
    }
   ],
   "source": [
    "scoring = {'AUC': 'roc_auc', 'Precision': make_scorer(precision_score, pos_label=-1), 'F1': make_scorer(fbeta_score, labels=[-1], average='macro', beta=0.5)}\n",
    "gs_if = GridSearchCV(IsolationForest(random_state = 8, n_estimators = 100, max_samples = 0.25, n_jobs = -1),\n",
    "                  param_grid={'contamination': np.arange(0.005, 0.05, 0.005)},\n",
    "                  scoring=scoring, refit='F1')\n",
    "stime = time.time()\n",
    "gs_if.fit(x_train_1, y_train_1)\n",
    "print(\"Time for OCSVM fitting: %.3f\" % (time.time() - stime))\n",
    "results_if = gs_if.cv_results_\n",
    "\n",
    "stime = time.time()\n",
    "y_pred = gs_if.predict(x_test_1)\n",
    "print(\"Time for IF prediction: %.3f\" % (time.time() - stime))"
   ]
  },
  {
   "cell_type": "code",
   "execution_count": 5,
   "metadata": {},
   "outputs": [
    {
     "name": "stdout",
     "output_type": "stream",
     "text": [
      "Time for IF fitting: 8937.886\n",
      "Time for IF prediction: 105.478\n"
     ]
    }
   ],
   "source": [
    "scoring = {'AUC': 'roc_auc', 'Precision': make_scorer(precision_score, pos_label=-1), 'F1': make_scorer(fbeta_score, labels=[-1], average='macro', beta=0.5)}\n",
    "gs_if_2 = GridSearchCV(IsolationForest(random_state = 8, n_estimators = 500, max_samples = 0.4, n_jobs = -1),\n",
    "                  param_grid={'contamination': np.arange(0.005, 0.05, 0.01)},\n",
    "                  scoring=scoring, refit='F1')\n",
    "stime = time.time()\n",
    "gs_if_2.fit(x_train_1, y_train_1)\n",
    "print(\"Time for IF fitting: %.3f\" % (time.time() - stime))\n",
    "results_if_2 = gs_if_2.cv_results_\n",
    "\n",
    "stime = time.time()\n",
    "y_pred = gs_if_2.predict(x_test_1)\n",
    "print(\"Time for IF prediction: %.3f\" % (time.time() - stime))"
   ]
  },
  {
   "cell_type": "code",
   "execution_count": 6,
   "metadata": {},
   "outputs": [
    {
     "name": "stdout",
     "output_type": "stream",
     "text": [
      "anomaly rate is 1.0% out of 491304 records (4914)\n"
     ]
    }
   ],
   "source": [
    "r = 0.01\n",
    "target_anomaly_rate = r\n",
    "\n",
    "df = pd.read_csv('kddcup.data', delimiter=',')\n",
    "df.columns = sa_columns + [\"target\"]\n",
    "df_normal = df[df[\"target\"]== 'normal.']\n",
    "df_normal = df_normal.sample(frac=0.5, random_state=1)\n",
    "n_records = int(np.ceil(len(df_normal)*r/(1-r)))\n",
    "\n",
    "df = df_normal.append(df[df[\"target\"]!= 'normal.'].sample(n = n_records, random_state=1))\n",
    "anomaly_rate = 1.0 - len(df.loc[df[\"target\"]=='normal.'])/len(df)\n",
    "print(f\"anomaly rate is {anomaly_rate:.1%} out of {len(df)} records ({n_records})\")\n",
    "\n",
    "df['binary_target'] = [1 if x=='normal.' else -1 for x in df[\"target\"]]\n",
    "df = df.sample(frac=1, random_state=2)\n",
    "toDecode = [\"protocol_type\", \"service\", \"flag\", \"target\"]\n",
    "leSF = preprocessing.LabelEncoder()\n",
    "for f in toDecode:\n",
    "    df[f] = leSF.fit_transform(df[f])\n",
    "\n",
    "x_train_2, x_test_2, y_train_2, y_test_2 = train_test_split(df.drop([\"target\", 'binary_target'], axis=1), df['binary_target'], test_size=0.33, random_state=0)\n",
    "results = []"
   ]
  },
  {
   "cell_type": "code",
   "execution_count": 7,
   "metadata": {},
   "outputs": [
    {
     "name": "stdout",
     "output_type": "stream",
     "text": [
      "anomaly rate is 1.0% out of 98261 records (983)\n"
     ]
    }
   ],
   "source": [
    "r = 0.01\n",
    "target_anomaly_rate = r\n",
    "\n",
    "df = pd.read_csv('kddcup.data', delimiter=',')\n",
    "df.columns = sa_columns + [\"target\"]\n",
    "df_normal = df[df[\"target\"]== 'normal.']\n",
    "df_normal = df_normal.sample(frac=0.1, random_state=1)\n",
    "n_records = int(np.ceil(len(df_normal)*r/(1-r)))\n",
    "\n",
    "df = df_normal.append(df[df[\"target\"]!= 'normal.'].sample(n = n_records, random_state=1))\n",
    "anomaly_rate = 1.0 - len(df.loc[df[\"target\"]=='normal.'])/len(df)\n",
    "print(f\"anomaly rate is {anomaly_rate:.1%} out of {len(df)} records ({n_records})\")\n",
    "\n",
    "df['binary_target'] = [1 if x=='normal.' else -1 for x in df[\"target\"]]\n",
    "df = df.sample(frac=1, random_state=2)\n",
    "toDecode = [\"protocol_type\", \"service\", \"flag\", \"target\"]\n",
    "leSF = preprocessing.LabelEncoder()\n",
    "for f in toDecode:\n",
    "    df[f] = leSF.fit_transform(df[f])\n",
    "\n",
    "x_train_3, x_test_3, y_train_3, y_test_3 = train_test_split(df.drop([\"target\", 'binary_target'], axis=1), df['binary_target'], test_size=0.33, random_state=0)\n",
    "results = []"
   ]
  },
  {
   "cell_type": "code",
   "execution_count": 8,
   "metadata": {},
   "outputs": [
    {
     "name": "stdout",
     "output_type": "stream",
     "text": [
      "Time for IF fitting: 6870.513\n",
      "Time for IF prediction: 47.760\n"
     ]
    }
   ],
   "source": [
    "scoring = {'AUC': 'roc_auc', 'Precision': make_scorer(precision_score, pos_label=-1), 'F1': make_scorer(fbeta_score, labels=[-1], average='macro', beta=0.5)}\n",
    "gs_if_3 = GridSearchCV(IsolationForest(random_state = 8, n_estimators = 500, max_samples = 0.4, n_jobs = -1),\n",
    "                  param_grid={'contamination': np.arange(0.005, 0.05, 0.005)},\n",
    "                  scoring=scoring, refit='F1')\n",
    "stime = time.time()\n",
    "gs_if_3.fit(x_train_2, y_train_2)\n",
    "print(\"Time for IF fitting: %.3f\" % (time.time() - stime))\n",
    "results_if_3 = gs_if_3.cv_results_\n",
    "\n",
    "stime = time.time()\n",
    "y_pred = gs_if_3.predict(x_test_2)\n",
    "print(\"Time for IF prediction: %.3f\" % (time.time() - stime))"
   ]
  },
  {
   "cell_type": "code",
   "execution_count": 9,
   "metadata": {},
   "outputs": [
    {
     "name": "stdout",
     "output_type": "stream",
     "text": [
      "Time for IF fitting: 194.835\n",
      "Time for IF prediction: 1.242\n"
     ]
    }
   ],
   "source": [
    "scoring = {'AUC': 'roc_auc', 'Precision': make_scorer(precision_score, pos_label=-1), 'F1': make_scorer(fbeta_score, labels=[-1], average='macro', beta=0.5)}\n",
    "gs_if_4 = GridSearchCV(IsolationForest(random_state = 8, n_estimators = 100, max_samples = 0.25, n_jobs = -1),\n",
    "                  param_grid={'contamination': np.arange(0.005, 0.05, 0.005)},\n",
    "                  scoring=scoring, refit='F1')\n",
    "stime = time.time()\n",
    "gs_if_4.fit(x_train_3, y_train_3)\n",
    "print(\"Time for IF fitting: %.3f\" % (time.time() - stime))\n",
    "results_if_4 = gs_if_4.cv_results_\n",
    "\n",
    "stime = time.time()\n",
    "y_pred = gs_if_4.predict(x_test_3)\n",
    "print(\"Time for IF prediction: %.3f\" % (time.time() - stime))"
   ]
  },
  {
   "cell_type": "code",
   "execution_count": null,
   "metadata": {},
   "outputs": [],
   "source": [
    "# X_axis = np.array(results_svm[\"param_nu\"].data, dtype=float)\n",
    "# print GridSearch cross-validation for parameters\n",
    "X_axis_if = np.array(results_if[\"param_contamination\"].data, dtype=float)\n",
    "plt.figure(figsize=(10,8))\n",
    "\n",
    "plt.xlabel(\"configuration\")\n",
    "plt.ylabel(\"Score\")\n",
    "plt.grid()\n",
    "\n",
    "ax = plt.axes()\n",
    "pad = 0.005\n",
    "\n",
    "colors = {'lof': 'r', 'if':'b', 'dbscan':'c', 'svm':'y'}\n",
    "scorer = 'Precision'\n",
    "\n",
    "best_index = np.nonzero(results_svm['rank_test_%s' % scorer] == 1)[0][0]\n",
    "best_score_svm = results_svm['mean_test_%s' % scorer][best_index]\n",
    "\n",
    "best_index = np.nonzero(results_svm_sa['rank_test_%s' % scorer] == 1)[0][0]\n",
    "best_score_sa = results_svm_sa['mean_test_%s' % scorer][best_index]\n",
    "\n",
    "best_index = np.nonzero(results_svm_sa_1['rank_test_%s' % scorer] == 1)[0][0]\n",
    "best_score_1 = results_svm_sa_1['mean_test_%s' % scorer][best_index]\n",
    "\n",
    "best_index = np.nonzero(results_svm_sa_2['rank_test_%s' % scorer] == 1)[0][0]\n",
    "best_score_2 = results_svm_sa_2['mean_test_%s' % scorer][best_index]\n",
    "\n",
    "Y_axis = np.array([best_score_svm, best_score_sa, best_score_1, best_score_2])\n",
    "X_axis = np.array(['c1', 'c2', 'c3', 'c4'])\n",
    "\n",
    "ax.plot(X_axis, Y_axis, '-', color=colors['svm'],label=\"%s \" % (scorer))\n",
    "plt.legend(loc=\"best\")\n",
    "plt.grid('off')\n",
    "plt.tight_layout()\n",
    "plt.savefig(\"nu.png\", dpi=100)\n",
    "\n",
    "plt.show()\n",
    "\n",
    "# for scorer, color in zip(sorted(scoring), ['b', 'k']):\n",
    "#     sample, style= ('test', '-')\n",
    "#     sample_score_mean = results_svm['mean_%s_%s' % (sample, scorer)]\n",
    "# #    sample_score_std = results_svm['std_%s_%s' % (sample, scorer)]\n",
    "    \n",
    "#     sample_score_mean_lof = results_lof['mean_%s_%s' % (sample, scorer)]\n",
    "# #    sample_score_std_lof = results_lof['std_%s_%s' % (sample, scorer)]\n",
    "    \n",
    "# #     We don't plot standard deviation    \n",
    "# #     ax.fill_between(X_axis, sample_score_mean - sample_score_std,\n",
    "# #                 sample_score_mean + sample_score_std,\n",
    "# #                 alpha=0.1 if sample == 'test' else 0, color=color)\n",
    "#     ax.plot(X_axis, sample_score_mean, style, color=color,\n",
    "#         alpha=1 if sample == 'test' else 0.7,\n",
    "#         label=\"%s (%s)\" % (scorer, sample))\n",
    "\n",
    "#     best_index = np.nonzero(results['rank_test_%s' % scorer] == 1)[0][0]\n",
    "#     best_score = results['mean_test_%s' % scorer][best_index]\n",
    "\n",
    "#     # Plot a dotted vertical line at the best score for that scorer marked by x\n",
    "#     ax.plot([X_axis[best_index], ] * 2, [0, best_score],\n",
    "#         linestyle='-.', color=color, marker='x', markeredgewidth=3, ms=8)\n",
    "\n",
    "#     # Annotate the best score for that scorer\n",
    "#     ax.annotate(\"%0.2f\" % best_score,\n",
    "#             (X_axis[best_index], best_score+pad))\n",
    "    \n",
    "# plt.legend(loc=\"best\")\n",
    "# plt.grid('off')\n",
    "# plt.tight_layout()\n",
    "# plt.savefig(\"nu.png\", dpi=100)\n",
    "\n",
    "# plt.show()"
   ]
  },
  {
   "cell_type": "code",
   "execution_count": 8,
   "metadata": {},
   "outputs": [
    {
     "data": {
      "text/plain": [
       "{'mean_fit_time': array([46.77783184, 46.68659058, 46.46211052, 46.09187679, 46.10831294,\n",
       "        46.05788155, 46.01047573, 45.96446815, 45.94876547]),\n",
       " 'std_fit_time': array([1.36089297, 0.69669117, 0.97346501, 0.89779749, 0.94491019,\n",
       "        0.87227376, 0.89019088, 0.89633083, 0.91718986]),\n",
       " 'mean_score_time': array([15.37120395, 15.49070249, 15.37002869, 15.14422588, 15.19636493,\n",
       "        15.2260787 , 15.24647198, 15.17751408, 15.12680554]),\n",
       " 'std_score_time': array([0.09654318, 0.08170173, 0.24454611, 0.09699296, 0.05072041,\n",
       "        0.11692479, 0.16588774, 0.10115135, 0.06918126]),\n",
       " 'param_contamination': masked_array(data=[0.005, 0.01, 0.015, 0.02, 0.025, 0.030000000000000002,\n",
       "                    0.034999999999999996, 0.04, 0.045],\n",
       "              mask=[False, False, False, False, False, False, False, False,\n",
       "                    False],\n",
       "        fill_value='?',\n",
       "             dtype=object),\n",
       " 'params': [{'contamination': 0.005},\n",
       "  {'contamination': 0.01},\n",
       "  {'contamination': 0.015},\n",
       "  {'contamination': 0.02},\n",
       "  {'contamination': 0.025},\n",
       "  {'contamination': 0.030000000000000002},\n",
       "  {'contamination': 0.034999999999999996},\n",
       "  {'contamination': 0.04},\n",
       "  {'contamination': 0.045}],\n",
       " 'split0_test_AUC': array([0.98966099, 0.98966099, 0.98966099, 0.98966099, 0.98966099,\n",
       "        0.98966099, 0.98966099, 0.98966099, 0.98966099]),\n",
       " 'split1_test_AUC': array([0.98955445, 0.98955445, 0.98955445, 0.98955445, 0.98955445,\n",
       "        0.98955445, 0.98955445, 0.98955445, 0.98955445]),\n",
       " 'split2_test_AUC': array([0.99120951, 0.99120951, 0.99120951, 0.99120951, 0.99120951,\n",
       "        0.99120951, 0.99120951, 0.99120951, 0.99120951]),\n",
       " 'split3_test_AUC': array([0.99152211, 0.99152211, 0.99152211, 0.99152211, 0.99152211,\n",
       "        0.99152211, 0.99152211, 0.99152211, 0.99152211]),\n",
       " 'split4_test_AUC': array([0.99095894, 0.99095894, 0.99095894, 0.99095894, 0.99095894,\n",
       "        0.99095894, 0.99095894, 0.99095894, 0.99095894]),\n",
       " 'mean_test_AUC': array([0.9905812, 0.9905812, 0.9905812, 0.9905812, 0.9905812, 0.9905812,\n",
       "        0.9905812, 0.9905812, 0.9905812]),\n",
       " 'std_test_AUC': array([0.00081532, 0.00081532, 0.00081532, 0.00081532, 0.00081532,\n",
       "        0.00081532, 0.00081532, 0.00081532, 0.00081532]),\n",
       " 'rank_test_AUC': array([1, 1, 1, 1, 1, 1, 1, 1, 1], dtype=int32),\n",
       " 'split0_test_Precision': array([0.482066  , 0.35343511, 0.32750874, 0.24578494, 0.23768116,\n",
       "        0.32829908, 0.28297055, 0.24591988, 0.21902874]),\n",
       " 'split1_test_Precision': array([0.45642541, 0.43478261, 0.33580981, 0.25326858, 0.23006447,\n",
       "        0.3319074 , 0.28649001, 0.25253686, 0.22543155]),\n",
       " 'split2_test_Precision': array([0.53753754, 0.38047974, 0.33282287, 0.25518591, 0.3996904 ,\n",
       "        0.33445596, 0.2833626 , 0.24784028, 0.22285517]),\n",
       " 'split3_test_Precision': array([0.47987118, 0.42463533, 0.32330444, 0.25845903, 0.38046117,\n",
       "        0.31795132, 0.27475898, 0.23982419, 0.21057047]),\n",
       " 'split4_test_Precision': array([0.55947137, 0.37269939, 0.33300395, 0.25443564, 0.39646918,\n",
       "        0.33274736, 0.28698289, 0.25047259, 0.22499575]),\n",
       " 'mean_test_Precision': array([0.5030743 , 0.39320644, 0.33048996, 0.25342682, 0.32887328,\n",
       "        0.32907222, 0.28291301, 0.24731876, 0.22057634]),\n",
       " 'std_test_Precision': array([0.03879226, 0.03124298, 0.00448515, 0.00419186, 0.07787781,\n",
       "        0.00591273, 0.00438298, 0.00437201, 0.00549199]),\n",
       " 'rank_test_Precision': array([1, 2, 3, 7, 5, 4, 6, 8, 9], dtype=int32),\n",
       " 'split0_test_F1': array([0.40806412, 0.35241285, 0.35114013, 0.27321949, 0.26517908,\n",
       "        0.37918216, 0.33029443, 0.28955758, 0.25954198]),\n",
       " 'split1_test_F1': array([0.38356504, 0.43716657, 0.36079183, 0.28184237, 0.25862069,\n",
       "        0.38307388, 0.33416092, 0.29691158, 0.26674486]),\n",
       " 'split2_test_F1': array([0.45259166, 0.37538763, 0.35718199, 0.28320737, 0.4542256 ,\n",
       "        0.38581077, 0.3307712 , 0.29172504, 0.26386788]),\n",
       " 'split3_test_F1': array([0.39839572, 0.42312661, 0.34835165, 0.28641128, 0.43421053,\n",
       "        0.36813058, 0.32134071, 0.28281053, 0.25003985]),\n",
       " 'split4_test_F1': array([0.47048654, 0.37150283, 0.3577115 , 0.2826944 , 0.45089498,\n",
       "        0.38399119, 0.33471429, 0.29464087, 0.26626743]),\n",
       " 'mean_test_F1': array([0.42262062, 0.3919193 , 0.35503542, 0.28147498, 0.37262618,\n",
       "        0.38003772, 0.33025631, 0.29112912, 0.2612924 ]),\n",
       " 'std_test_F1': array([0.03320688, 0.03247183, 0.00457715, 0.00440779, 0.09068543,\n",
       "        0.00633543, 0.0047932 , 0.00485372, 0.00617733]),\n",
       " 'rank_test_F1': array([1, 2, 5, 8, 4, 3, 6, 7, 9], dtype=int32)}"
      ]
     },
     "execution_count": 8,
     "metadata": {},
     "output_type": "execute_result"
    }
   ],
   "source": [
    "results_if"
   ]
  }
 ],
 "metadata": {
  "kernelspec": {
   "display_name": "Python 3",
   "language": "python",
   "name": "python3"
  },
  "language_info": {
   "codemirror_mode": {
    "name": "ipython",
    "version": 3
   },
   "file_extension": ".py",
   "mimetype": "text/x-python",
   "name": "python",
   "nbconvert_exporter": "python",
   "pygments_lexer": "ipython3",
   "version": "3.8.5"
  }
 },
 "nbformat": 4,
 "nbformat_minor": 4
}
