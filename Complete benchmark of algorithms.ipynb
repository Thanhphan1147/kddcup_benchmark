{
 "cells": [
  {
   "cell_type": "code",
<<<<<<< HEAD
   "execution_count": 74,
=======
   "execution_count": 53,
>>>>>>> 123531472715b7d0ed596aecae53032844ba3731
   "metadata": {},
   "outputs": [],
   "source": [
    "from imports import *"
   ]
  },
  {
   "cell_type": "code",
   "execution_count": 75,
   "metadata": {},
   "outputs": [],
   "source": [
    "from sklearn.metrics import precision_score\n",
    "from sklearn.metrics import fbeta_score\n",
    "import time"
   ]
  },
  {
   "cell_type": "code",
   "execution_count": 47,
   "metadata": {},
   "outputs": [],
   "source": [
    "def TP(y_test, y_pred):\n",
    "    yp = np.array(y_pred)\n",
    "    yt = np.array(y_test)\n",
    "\n",
    "    prediction = yp[np.where(yt == -1)]\n",
    "    p, r, f, s = precision_recall_fscore_support(y_test, y_pred, labels=[-1])\n",
    "    \n",
    "    tp = len(yp[np.where(prediction == -1)])\n",
    "    return tp\n",
    "    \n",
    "def FP(y_pred, y_test):\n",
    "    yp = np.array(y_pred)\n",
    "    yt = np.array(y_test)\n",
    "\n",
    "    prediction = yp[np.where(yt == -1)]\n",
    "    p, r, f, s = precision_recall_fscore_support(y_test, y_pred, labels=[-1])\n",
    "    \n",
    "    tp = len(yp[np.where(prediction == -1)])\n",
    "    # fp through formula\n",
    "    fp = tp / p - tp\n",
    "    return fp\n",
    "\n",
    "param_grid = [\n",
    "  {'nu': np.arange(0.045, 0.1, 0.01), 'kernel': ['linear']},\n",
    "  {'nu': np.arange(0.045, 0.1, 0.01), 'kernel': ['rbf']},\n",
    " ]\n",
    "\n",
    "# scoring = {'AUC': 'roc_auc', \n",
    "#            'Precision': make_scorer(precision_score, pos_label=1), \n",
    "#            'Fbeta_outlier': make_scorer(fbeta_score, labels=[-1], average='macro', beta=0.5),\n",
    "#            'Fbeta_normal': make_scorer(fbeta_score, labels=[1], average='macro', beta=0.5),\n",
    "#            'TP': make_scorer(TP, greater_is_better = True),\n",
    "#            'FP': make_scorer(FP, greater_is_better = False)}\n",
    "\n",
    "scoring = {'AUC': 'roc_auc',\n",
    "           'Precision': make_scorer(precision_score, pos_label=1), \n",
    "           'Recall': make_scorer(recall_score, pos_label=-1),\n",
    "           'F1': make_scorer(fbeta_score, labels=[-1], average='macro', beta=0.5),\n",
    "           'F1_n': make_scorer(fbeta_score, labels=[1], average='macro', beta=0.5)}"
   ]
  },
  {
   "cell_type": "markdown",
   "metadata": {},
   "source": [
    "# Gridsearch - cv for Isolation Forest"
   ]
  },
  {
   "cell_type": "code",
   "execution_count": 39,
   "metadata": {},
   "outputs": [
    {
     "name": "stdout",
     "output_type": "stream",
     "text": [
      "SA anomaly rate is 3.4%\n"
     ]
    }
   ],
   "source": [
    "sa = datasets.fetch_kddcup99(subset='SA', percent10=True, random_state=0)\n",
    "dfsa = pd.DataFrame(sa.data, columns=sa_columns)\n",
    "dfsa[\"target\"]=sa.target\n",
    "anomaly_rate =  1.0 - len(dfsa.loc[dfsa[\"target\"]==b'normal.'])/len(dfsa)\n",
    "print(f\"SA anomaly rate is {anomaly_rate:.1%}\")\n",
    "\n",
    "dfsa['binary_target'] = [1 if x==b'normal.' else -1 for x in dfsa[\"target\"]]\n",
    "toDecodeSA = [\"protocol_type\", \"service\", \"flag\", \"target\"]\n",
    "le = preprocessing.LabelEncoder()\n",
    "for f in toDecodeSA:\n",
    "    dfsa[f] = list(map(byte_decoder, dfsa[f]))\n",
    "    dfsa[f] = le.fit_transform(dfsa[f])\n",
    "\n",
    "X_train_sa, X_test_sa, y_train_sa, y_test_sa = train_test_split(dfsa.drop([\"target\", 'binary_target'], axis=1), dfsa['binary_target'], test_size=0.25, random_state=0)\n",
    "# x_sa = dfsa.drop([\"target\", 'binary_target'], axis=1)\n",
    "# y_sa = dfsa[\"binary_target\"]"
   ]
  },
  {
   "cell_type": "code",
   "execution_count": 48,
   "metadata": {},
   "outputs": [
    {
     "name": "stdout",
     "output_type": "stream",
     "text": [
      "Time for IF fitting: 442.257\n",
      "Time for IF prediction: 2.371\n",
      "              precision    recall  f1-score   support\n",
      "\n",
      "     anomaly       0.20      0.52      0.29       849\n",
      "      normal       0.98      0.93      0.95     24315\n",
      "\n",
      "    accuracy                           0.91     25164\n",
      "   macro avg       0.59      0.72      0.62     25164\n",
      "weighted avg       0.96      0.91      0.93     25164\n",
      "\n"
     ]
    }
   ],
   "source": [
    "gs_if = GridSearchCV(IsolationForest(random_state = 8, n_estimators = 100, max_samples = 0.25, n_jobs = -1),\n",
    "                  param_grid={'contamination': np.arange(0.03, 0.1, 0.01)},\n",
    "                  scoring=scoring, refit='Recall')\n",
    "stime = time.time()\n",
    "gs_if.fit(X_train_sa, y_train_sa)\n",
    "# gs_if.fit(x_sa, y_sa)\n",
    "print(\"Time for IF fitting: %.3f\" % (time.time() - stime))\n",
    "results_if = gs_if.cv_results_\n",
    "\n",
    "stime = time.time()\n",
    "y_pred = gs_if.predict(X_test_sa)\n",
    "print(\"Time for IF prediction: %.3f\" % (time.time() - stime))\n",
    "print(classification_report(y_test_sa, y_pred, target_names=['anomaly', 'normal']))"
   ]
  },
  {
   "cell_type": "code",
   "execution_count": 49,
   "metadata": {},
   "outputs": [
    {
     "data": {
      "text/plain": [
       "{'mean_fit_time': array([7.6111866 , 7.29379935, 7.33033967, 7.31547146, 7.4681407 ,\n",
       "        7.59343252, 7.49350595, 7.64097791]),\n",
       " 'std_fit_time': array([0.25085091, 0.6385828 , 0.32771084, 0.34695194, 0.39690589,\n",
       "        0.63837196, 0.68486506, 0.37816412]),\n",
       " 'mean_score_time': array([3.30314665, 3.47485366, 3.20644894, 3.22743678, 3.31284723,\n",
       "        3.33783126, 3.31977725, 3.41458592]),\n",
       " 'std_score_time': array([0.04686013, 0.23216021, 0.14033221, 0.31596472, 0.25415372,\n",
       "        0.21562218, 0.31417293, 0.17674259]),\n",
       " 'param_contamination': masked_array(data=[0.03, 0.04, 0.05, 0.060000000000000005, 0.07,\n",
       "                    0.08000000000000002, 0.09000000000000001, 0.1],\n",
       "              mask=[False, False, False, False, False, False, False, False],\n",
       "        fill_value='?',\n",
       "             dtype=object),\n",
       " 'params': [{'contamination': 0.03},\n",
       "  {'contamination': 0.04},\n",
       "  {'contamination': 0.05},\n",
       "  {'contamination': 0.060000000000000005},\n",
       "  {'contamination': 0.07},\n",
       "  {'contamination': 0.08000000000000002},\n",
       "  {'contamination': 0.09000000000000001},\n",
       "  {'contamination': 0.1}],\n",
       " 'split0_test_AUC': array([0.95831246, 0.95831246, 0.95831246, 0.95831246, 0.95831246,\n",
       "        0.95831246, 0.95831246, 0.95831246]),\n",
       " 'split1_test_AUC': array([0.95503183, 0.95503183, 0.95503183, 0.95503183, 0.95503183,\n",
       "        0.95503183, 0.95503183, 0.95503183]),\n",
       " 'split2_test_AUC': array([0.95279836, 0.95279836, 0.95279836, 0.95279836, 0.95279836,\n",
       "        0.95279836, 0.95279836, 0.95279836]),\n",
       " 'split3_test_AUC': array([0.95265141, 0.95265141, 0.95265141, 0.95265141, 0.95265141,\n",
       "        0.95265141, 0.95265141, 0.95265141]),\n",
       " 'split4_test_AUC': array([0.97278306, 0.97278306, 0.97278306, 0.97278306, 0.97278306,\n",
       "        0.97278306, 0.97278306, 0.97278306]),\n",
       " 'mean_test_AUC': array([0.95831542, 0.95831542, 0.95831542, 0.95831542, 0.95831542,\n",
       "        0.95831542, 0.95831542, 0.95831542]),\n",
       " 'std_test_AUC': array([0.00751816, 0.00751816, 0.00751816, 0.00751816, 0.00751816,\n",
       "        0.00751816, 0.00751816, 0.00751816]),\n",
       " 'rank_test_AUC': array([1, 1, 1, 1, 1, 1, 1, 1], dtype=int32),\n",
       " 'split0_test_Precision': array([0.97719647, 0.97703131, 0.98223404, 0.98205454, 0.98196522,\n",
       "        0.9818563 , 0.98162653, 0.98158474]),\n",
       " 'split1_test_Precision': array([0.97921777, 0.97958061, 0.98167049, 0.98357088, 0.98339719,\n",
       "        0.98321498, 0.98304102, 0.98296695]),\n",
       " 'split2_test_Precision': array([0.97741539, 0.9772351 , 0.98241942, 0.98222097, 0.98208039,\n",
       "        0.98192858, 0.98173716, 0.98173716]),\n",
       " 'split3_test_Precision': array([0.98000682, 0.97986762, 0.98223492, 0.98422091, 0.98403307,\n",
       "        0.98385004, 0.98367823, 0.98360776]),\n",
       " 'split4_test_Precision': array([0.97957365, 0.98196767, 0.98180931, 0.98160936, 0.98152212,\n",
       "        0.98152212, 0.99985449, 0.99992655]),\n",
       " 'mean_test_Precision': array([0.97868202, 0.97913646, 0.98207363, 0.98273533, 0.9825996 ,\n",
       "        0.9824744 , 0.98598749, 0.98596463]),\n",
       " 'std_test_Precision': array([0.00115311, 0.00183273, 0.00028415, 0.00099004, 0.00095121,\n",
       "        0.00089751, 0.00697698, 0.00702184]),\n",
       " 'rank_test_Precision': array([8, 7, 6, 3, 4, 5, 1, 2], dtype=int32),\n",
       " 'split0_test_Recall': array([0.40641711, 0.40641711, 0.54723708, 0.54723708, 0.55080214,\n",
       "        0.55258467, 0.55258467, 0.55258467]),\n",
       " 'split1_test_Recall': array([0.34689507, 0.3640257 , 0.43468951, 0.49892934, 0.49892934,\n",
       "        0.49892934, 0.49892934, 0.49892934]),\n",
       " 'split2_test_Recall': array([0.33400402, 0.3360161 , 0.49295775, 0.49295775, 0.49496982,\n",
       "        0.49698189, 0.49698189, 0.49698189]),\n",
       " 'split3_test_Recall': array([0.36026201, 0.36244541, 0.44323144, 0.51091703, 0.51091703,\n",
       "        0.51091703, 0.51091703, 0.51091703]),\n",
       " 'split4_test_Recall': array([0.45321101, 0.52110092, 0.52110092, 0.52110092, 0.52110092,\n",
       "        0.52110092, 0.99633028, 0.99816514]),\n",
       " 'mean_test_Recall': array([0.38015785, 0.39800105, 0.48784334, 0.51422842, 0.51534385,\n",
       "        0.51610277, 0.61114864, 0.61151561]),\n",
       " 'std_test_Recall': array([0.04395167, 0.06555161, 0.0435325 , 0.01915344, 0.01997282,\n",
       "        0.02021552, 0.19363276, 0.19436277]),\n",
       " 'rank_test_Recall': array([8, 7, 6, 5, 4, 3, 2, 1], dtype=int32),\n",
       " 'split0_test_F1': array([0.44793713, 0.38448567, 0.40726983, 0.35360516, 0.30503455,\n",
       "        0.27575165, 0.24552511, 0.2407954 ]),\n",
       " 'split1_test_F1': array([0.37587007, 0.31728257, 0.31259624, 0.29971701, 0.25987062,\n",
       "        0.22865554, 0.20557614, 0.19722363]),\n",
       " 'split2_test_F1': array([0.36644592, 0.28743546, 0.34477906, 0.29215359, 0.25303436,\n",
       "        0.22240231, 0.20136964, 0.20136964]),\n",
       " 'split3_test_F1': array([0.36995516, 0.29287227, 0.29557368, 0.28775209, 0.24714829,\n",
       "        0.21787709, 0.19650655, 0.18901454]),\n",
       " 'split4_test_F1': array([0.47849671, 0.46695166, 0.40056417, 0.34060926, 0.32003606,\n",
       "        0.32003606, 0.45576633, 0.41968832]),\n",
       " 'mean_test_F1': array([0.407741  , 0.34980552, 0.3521566 , 0.31476742, 0.27702478,\n",
       "        0.25294453, 0.26094875, 0.24961831]),\n",
       " 'std_test_F1': array([0.04641316, 0.06799278, 0.04517043, 0.02699592, 0.02965444,\n",
       "        0.03943081, 0.09895491, 0.08688798]),\n",
       " 'rank_test_F1': array([1, 3, 2, 4, 5, 7, 6, 8], dtype=int32),\n",
       " 'split0_test_F1_n': array([0.97806717, 0.97649249, 0.97893372, 0.97675464, 0.97408775,\n",
       "        0.97196382, 0.96918274, 0.9686785 ]),\n",
       " 'split1_test_F1_n': array([0.97981864, 0.97842359, 0.97857232, 0.97824114, 0.97596012,\n",
       "        0.97357767, 0.97131318, 0.97035195]),\n",
       " 'split2_test_F1_n': array([0.97814954, 0.97582145, 0.97877309, 0.97633842, 0.97382095,\n",
       "        0.97115976, 0.96882795, 0.96882795]),\n",
       " 'split3_test_F1_n': array([0.98020748, 0.97803347, 0.97833629, 0.9781026 , 0.97553564,\n",
       "        0.97304621, 0.9707202 , 0.96976912]),\n",
       " 'split4_test_F1_n': array([0.98005733, 0.98089691, 0.97901175, 0.97664082, 0.97560976,\n",
       "        0.97560976, 0.9882358 , 0.98632062]),\n",
       " 'mean_test_F1_n': array([0.97926003, 0.97793358, 0.97872543, 0.97721552, 0.97500284,\n",
       "        0.97307144, 0.97365597, 0.97278963]),\n",
       " 'std_test_F1_n': array([0.00094884, 0.00176461, 0.00024597, 0.00079383, 0.00087211,\n",
       "        0.00152193, 0.00734845, 0.00679338]),\n",
       " 'rank_test_F1_n': array([1, 3, 2, 4, 5, 7, 6, 8], dtype=int32)}"
      ]
     },
     "execution_count": 49,
     "metadata": {},
     "output_type": "execute_result"
    }
   ],
   "source": [
    "results_if"
   ]
  },
  {
   "cell_type": "code",
   "execution_count": 50,
   "metadata": {},
   "outputs": [
    {
     "name": "stdout",
     "output_type": "stream",
     "text": [
      "Time for IF fitting: 2047.487\n",
      "Time for IF prediction: 14.056\n",
      "              precision    recall  f1-score   support\n",
      "\n",
      "     anomaly       0.20      0.51      0.28       849\n",
      "      normal       0.98      0.93      0.95     24315\n",
      "\n",
      "    accuracy                           0.91     25164\n",
      "   macro avg       0.59      0.72      0.62     25164\n",
      "weighted avg       0.96      0.91      0.93     25164\n",
      "\n"
     ]
    }
   ],
   "source": [
    "gs_if_2 = GridSearchCV(IsolationForest(random_state = 8, n_estimators = 500, max_samples = 0.25, n_jobs = -1),\n",
    "                  param_grid={'contamination': np.arange(0.03, 0.1, 0.01)},\n",
    "                  scoring=scoring, refit='Recall')\n",
    "stime = time.time()\n",
    "gs_if_2.fit(X_train_sa, y_train_sa)\n",
    "print(\"Time for IF fitting: %.3f\" % (time.time() - stime))\n",
    "results_if_2 = gs_if_2.cv_results_\n",
    "\n",
    "stime = time.time()\n",
    "y_pred = gs_if_2.predict(X_test_sa)\n",
    "print(\"Time for IF prediction: %.3f\" % (time.time() - stime))\n",
    "print(classification_report(y_test_sa, y_pred, target_names=['anomaly', 'normal']))"
   ]
  },
  {
   "cell_type": "code",
   "execution_count": 51,
   "metadata": {},
   "outputs": [
    {
     "data": {
      "text/plain": [
       "{'mean_fit_time': array([33.53826742, 34.095715  , 34.75877404, 33.74938402, 34.53478251,\n",
       "        33.68609195, 34.96420455, 33.63325238]),\n",
       " 'std_fit_time': array([1.5660897 , 1.34508911, 2.07597392, 0.95265611, 1.88713192,\n",
       "        1.78833025, 1.28344492, 0.59275916]),\n",
       " 'mean_score_time': array([16.05393467, 16.13688111, 15.66118164, 15.04872713, 15.93125548,\n",
       "        15.68251648, 15.88416572, 15.5127532 ]),\n",
       " 'std_score_time': array([0.65627574, 0.61365201, 0.56665333, 0.92488544, 0.51931848,\n",
       "        0.41178031, 0.49973044, 0.4029384 ]),\n",
       " 'param_contamination': masked_array(data=[0.03, 0.04, 0.05, 0.060000000000000005, 0.07,\n",
       "                    0.08000000000000002, 0.09000000000000001, 0.1],\n",
       "              mask=[False, False, False, False, False, False, False, False],\n",
       "        fill_value='?',\n",
       "             dtype=object),\n",
       " 'params': [{'contamination': 0.03},\n",
       "  {'contamination': 0.04},\n",
       "  {'contamination': 0.05},\n",
       "  {'contamination': 0.060000000000000005},\n",
       "  {'contamination': 0.07},\n",
       "  {'contamination': 0.08000000000000002},\n",
       "  {'contamination': 0.09000000000000001},\n",
       "  {'contamination': 0.1}],\n",
       " 'split0_test_AUC': array([0.96144715, 0.96144715, 0.96144715, 0.96144715, 0.96144715,\n",
       "        0.96144715, 0.96144715, 0.96144715]),\n",
       " 'split1_test_AUC': array([0.95116204, 0.95116204, 0.95116204, 0.95116204, 0.95116204,\n",
       "        0.95116204, 0.95116204, 0.95116204]),\n",
       " 'split2_test_AUC': array([0.95137471, 0.95137471, 0.95137471, 0.95137471, 0.95137471,\n",
       "        0.95137471, 0.95137471, 0.95137471]),\n",
       " 'split3_test_AUC': array([0.9514999, 0.9514999, 0.9514999, 0.9514999, 0.9514999, 0.9514999,\n",
       "        0.9514999, 0.9514999]),\n",
       " 'split4_test_AUC': array([0.95858113, 0.95858113, 0.95858113, 0.95858113, 0.95858113,\n",
       "        0.95858113, 0.95858113, 0.95858113]),\n",
       " 'mean_test_AUC': array([0.95481299, 0.95481299, 0.95481299, 0.95481299, 0.95481299,\n",
       "        0.95481299, 0.95481299, 0.95481299]),\n",
       " 'std_test_AUC': array([0.0043437, 0.0043437, 0.0043437, 0.0043437, 0.0043437, 0.0043437,\n",
       "        0.0043437, 0.0043437]),\n",
       " 'rank_test_AUC': array([1, 1, 1, 1, 1, 1, 1, 1], dtype=int32),\n",
       " 'split0_test_Precision': array([0.97720115, 0.98004573, 0.98228415, 0.98223135, 0.98206246,\n",
       "        0.98186023, 0.98171354, 0.98171354]),\n",
       " 'split1_test_Precision': array([0.97929296, 0.97954968, 0.98166794, 0.98358471, 0.98342307,\n",
       "        0.98323302, 0.98303856, 0.98282695]),\n",
       " 'split2_test_Precision': array([0.97726031, 0.97728055, 0.98241942, 0.98230276, 0.98206502,\n",
       "        0.98187464, 0.98171846, 0.98167558]),\n",
       " 'split3_test_Precision': array([0.98007234, 0.97989258, 0.98225346, 0.98423534, 0.98402852,\n",
       "        0.98384188, 0.98366514, 0.98356808]),\n",
       " 'split4_test_Precision': array([0.97582628, 0.97568536, 0.98180551, 0.98160547, 0.98149993,\n",
       "        0.98134328, 0.98114849, 0.98109228]),\n",
       " 'mean_test_Precision': array([0.97793061, 0.97849078, 0.9820861 , 0.98279192, 0.9826158 ,\n",
       "        0.98243061, 0.98225684, 0.98217529]),\n",
       " 'std_test_Precision': array([0.00153965, 0.00172274, 0.00029391, 0.00096677, 0.00094891,\n",
       "        0.00094364, 0.00093892, 0.00089446]),\n",
       " 'rank_test_Precision': array([8, 7, 6, 1, 2, 3, 4, 5], dtype=int32),\n",
       " 'split0_test_Recall': array([0.40641711, 0.48663102, 0.54901961, 0.55258467, 0.55258467,\n",
       "        0.55258467, 0.55258467, 0.55258467]),\n",
       " 'split1_test_Recall': array([0.3490364 , 0.3640257 , 0.43468951, 0.49892934, 0.49892934,\n",
       "        0.49892934, 0.49892934, 0.49892934]),\n",
       " 'split2_test_Recall': array([0.32997988, 0.3360161 , 0.49295775, 0.49496982, 0.49496982,\n",
       "        0.49496982, 0.49698189, 0.49698189]),\n",
       " 'split3_test_Recall': array([0.36244541, 0.36244541, 0.44323144, 0.51091703, 0.51091703,\n",
       "        0.51091703, 0.51091703, 0.51091703]),\n",
       " 'split4_test_Recall': array([0.35045872, 0.35229358, 0.52110092, 0.52110092, 0.52293578,\n",
       "        0.52293578, 0.52293578, 0.52293578]),\n",
       " 'mean_test_Recall': array([0.3596675 , 0.38028236, 0.48819984, 0.51570035, 0.51606733,\n",
       "        0.51606733, 0.51646974, 0.51646974]),\n",
       " 'std_test_Recall': array([0.02558288, 0.0541024 , 0.04402198, 0.02060835, 0.0207173 ,\n",
       "        0.0207173 , 0.02031931, 0.02031931]),\n",
       " 'rank_test_Recall': array([8, 7, 6, 5, 3, 3, 1, 1], dtype=int32),\n",
       " 'split0_test_F1': array([0.45005922, 0.42325581, 0.40177407, 0.34807995, 0.3109328 ,\n",
       "        0.27634159, 0.25607137, 0.25607137]),\n",
       " 'split1_test_F1': array([0.38173302, 0.3071919 , 0.31182796, 0.30346444, 0.26507395,\n",
       "        0.23138034, 0.20528634, 0.18332022]),\n",
       " 'split2_test_F1': array([0.35451794, 0.29939046, 0.34477906, 0.29588646, 0.2505602 ,\n",
       "        0.22375841, 0.19954758, 0.1955042 ]),\n",
       " 'split3_test_F1': array([0.37086685, 0.30050688, 0.30082988, 0.29147982, 0.24631579,\n",
       "        0.21674694, 0.19506502, 0.18506802]),\n",
       " 'split4_test_F1': array([0.40448962, 0.33507853, 0.39921282, 0.33963167, 0.30184283,\n",
       "        0.27440786, 0.24700988, 0.24018203]),\n",
       " 'mean_test_F1': array([0.39233333, 0.33308472, 0.35168476, 0.31570847, 0.27494511,\n",
       "        0.24452703, 0.22059604, 0.21202917]),\n",
       " 'std_test_F1': array([0.03311566, 0.04690812, 0.0424036 , 0.02345245, 0.0265718 ,\n",
       "        0.02561615, 0.02563376, 0.03018768]),\n",
       " 'rank_test_F1': array([1, 3, 2, 4, 5, 6, 7, 8], dtype=int32),\n",
       " 'split0_test_F1_n': array([0.97811189, 0.97862183, 0.97876141, 0.97653501, 0.97447171,\n",
       "        0.97201156, 0.97023415, 0.97023415]),\n",
       " 'split1_test_F1_n': array([0.97996047, 0.97809496, 0.97854226, 0.97842319, 0.97629932,\n",
       "        0.97381307, 0.97128124, 0.96853981]),\n",
       " 'split2_test_F1_n': array([0.97783457, 0.97625892, 0.97877309, 0.97654662, 0.97363313,\n",
       "        0.97131142, 0.96860074, 0.96808003]),\n",
       " 'split3_test_F1_n': array([0.98024627, 0.97830272, 0.97856232, 0.97830041, 0.97547357,\n",
       "        0.97293557, 0.97054337, 0.96923433]),\n",
       " 'split4_test_F1_n': array([0.97704057, 0.97521515, 0.97896654, 0.97659482, 0.97457926,\n",
       "        0.97272999, 0.97043932, 0.96978018]),\n",
       " 'mean_test_F1_n': array([0.97863875, 0.97729872, 0.97872112, 0.97728001, 0.9748914 ,\n",
       "        0.97256032, 0.97021977, 0.9691737 ]),\n",
       " 'std_test_F1_n': array([0.00124976, 0.00132779, 0.00015605, 0.00088436, 0.00091411,\n",
       "        0.00084851, 0.0008833 , 0.00078664]),\n",
       " 'rank_test_F1_n': array([2, 3, 1, 4, 5, 6, 7, 8], dtype=int32)}"
      ]
     },
     "execution_count": 51,
     "metadata": {},
     "output_type": "execute_result"
    }
   ],
   "source": [
    "results_if_2"
   ]
  },
  {
   "cell_type": "code",
   "execution_count": 52,
   "metadata": {},
   "outputs": [
    {
     "name": "stdout",
     "output_type": "stream",
     "text": [
      "Time for IF fitting: 3992.392\n",
      "Time for IF prediction: 24.968\n"
     ]
    }
   ],
   "source": [
    "gs_if_3 = GridSearchCV(IsolationForest(random_state = 8, n_estimators = 1000, max_samples = 0.25, n_jobs = -1),\n",
    "                  param_grid={'contamination': np.arange(0.03, 0.1, 0.01)},\n",
    "                  scoring=scoring, refit='F1')\n",
    "stime = time.time()\n",
    "gs_if_3.fit(X_train_sa, y_train_sa)\n",
    "print(\"Time for IF fitting: %.3f\" % (time.time() - stime))\n",
    "results_if_3 = gs_if_3.cv_results_\n",
    "\n",
    "stime = time.time()\n",
    "y_pred = gs_if_3.predict(X_test_sa)\n",
    "print(\"Time for IF prediction: %.3f\" % (time.time() - stime))"
   ]
  },
  {
   "cell_type": "code",
   "execution_count": 27,
   "metadata": {},
   "outputs": [
    {
     "name": "stdout",
     "output_type": "stream",
     "text": [
      "Time for IF fitting: 14.116\n"
     ]
    }
   ],
   "source": [
    "stime = time.time()\n",
    "y_pred_not_tuned = IsolationForest(random_state = 8, n_estimators = 100, contamination = 0.034 ,max_samples = 0.25, n_jobs = -1).fit(X_train_sa).predict(X_test_sa)\n",
    "print(\"Time for IF fitting: %.3f\" % (time.time() - stime))\n",
    "f1_not_tuned = fbeta_score(y_test_sa, y_pred_not_tuned, labels=[-1], average='macro', beta=0.5) "
   ]
  },
  {
   "cell_type": "markdown",
   "metadata": {},
   "source": [
    "# Run gridSearchCV on SF subset"
   ]
  },
  {
   "cell_type": "code",
   "execution_count": 37,
   "metadata": {},
   "outputs": [
    {
     "name": "stdout",
     "output_type": "stream",
     "text": [
      "SF anomaly rate is 4.5% / 73237\n"
     ]
    }
   ],
   "source": [
    "sf = datasets.fetch_kddcup99(subset='SF', percent10=True, random_state=0)\n",
    "dfsf = pd.DataFrame(sf.data, columns=sf_columns)\n",
    "dfsf[\"target\"]=sf.target\n",
    "anomaly_rate_sf = 1.0 - len(dfsf.loc[dfsf[\"target\"]==b'normal.'])/len(dfsf)\n",
    "print(f\"SF anomaly rate is {anomaly_rate_sf:.1%} / {len(dfsf)}\")\n",
    "\n",
    "dfsf['binary_target'] = [1 if x==b'normal.' else -1 for x in dfsf[\"target\"]]\n",
    "toDecodeSF = [\"service\", \"target\"]    \n",
    "leSF = preprocessing.LabelEncoder()\n",
    "for f in toDecodeSF:\n",
    "    dfsf[f] = list(map(byte_decoder, dfsf[f]))\n",
    "    dfsf[f] = leSF.fit_transform(dfsf[f])\n",
    "\n",
    "x_sf = dfsf.drop([\"target\", 'binary_target'], axis=1)\n",
    "y_sf = dfsf[\"binary_target\"]"
   ]
  },
  {
   "cell_type": "code",
   "execution_count": null,
   "metadata": {},
   "outputs": [],
   "source": []
  },
  {
   "cell_type": "markdown",
   "metadata": {},
   "source": [
    "# Customized "
   ]
  },
  {
   "cell_type": "code",
   "execution_count": 5,
   "metadata": {},
   "outputs": [
    {
     "name": "stdout",
     "output_type": "stream",
     "text": [
      "anomaly rate is 1.0% out of 98261 records (983)\n"
     ]
    }
   ],
   "source": [
    "r = 0.01\n",
    "target_anomaly_rate = r\n",
    "\n",
    "df = pd.read_csv('kddcup.data', delimiter=',')\n",
    "df.columns = sa_columns + [\"target\"]\n",
    "df_normal = df[df[\"target\"]== 'normal.']\n",
    "df_normal = df_normal.sample(frac=0.1, random_state=1)\n",
    "n_records = int(np.ceil(len(df_normal)*r/(1-r)))\n",
    "\n",
    "df = df_normal.append(df[df[\"target\"]!= 'normal.'].sample(n = n_records, random_state=1))\n",
    "anomaly_rate = 1.0 - len(df.loc[df[\"target\"]=='normal.'])/len(df)\n",
    "print(f\"anomaly rate is {anomaly_rate:.1%} out of {len(df)} records ({n_records})\")\n",
    "\n",
    "df['binary_target'] = [1 if x=='normal.' else -1 for x in df[\"target\"]]\n",
    "df = df.sample(frac=1, random_state=2)\n",
    "toDecode = [\"protocol_type\", \"service\", \"flag\", \"target\"]\n",
    "leSF = preprocessing.LabelEncoder()\n",
    "for f in toDecode:\n",
    "    df[f] = leSF.fit_transform(df[f])\n",
    "\n",
    "x_train, x_test, y_train, y_test = train_test_split(df.drop([\"target\", 'binary_target'], axis=1), df['binary_target'], test_size=0.33, random_state=0)\n",
    "results = []"
   ]
  },
  {
   "cell_type": "code",
   "execution_count": 7,
   "metadata": {},
   "outputs": [
    {
     "name": "stdout",
     "output_type": "stream",
     "text": [
      "Time for OCSVM fitting: 335.672\n",
      "Time for IF prediction: 2.524\n"
     ]
    }
   ],
   "source": [
    "scoring = {'AUC': 'roc_auc', 'Precision': make_scorer(precision_score, pos_label=-1), 'F1': make_scorer(fbeta_score, labels=[-1], average='macro', beta=0.5)}\n",
    "gs_if_1 = GridSearchCV(IsolationForest(random_state = 8, n_estimators = 100, max_samples = 0.25, n_jobs = -1),\n",
    "                  param_grid={'contamination': np.arange(0.005, 0.05, 0.005)},\n",
    "                  scoring=scoring, refit='F1')\n",
    "stime = time.time()\n",
    "gs_if_1.fit(x_train, y_train)\n",
    "print(\"Time for OCSVM fitting: %.3f\" % (time.time() - stime))\n",
    "results_if_1 = gs_if_1.cv_results_\n",
    "\n",
    "stime = time.time()\n",
    "y_pred = gs_if_1.predict(x_test)\n",
    "print(\"Time for IF prediction: %.3f\" % (time.time() - stime))"
   ]
  },
  {
   "cell_type": "code",
   "execution_count": 28,
   "metadata": {},
   "outputs": [
    {
     "name": "stdout",
     "output_type": "stream",
     "text": [
      "Time for IF fitting: 13.256\n"
     ]
    }
   ],
   "source": [
    "stime = time.time()\n",
    "y_pred_not_tuned = IsolationForest(random_state = 8, n_estimators = 100, contamination = 0.01 ,max_samples = 0.25, n_jobs = -1).fit(x_train).predict(x_test)\n",
    "print(\"Time for IF fitting: %.3f\" % (time.time() - stime))\n",
    "f1_not_tuned_1 = fbeta_score(y_test, y_pred_not_tuned, labels=[-1], average='macro', beta=0.5) "
   ]
  },
  {
   "cell_type": "code",
   "execution_count": 8,
   "metadata": {},
   "outputs": [
    {
     "name": "stdout",
     "output_type": "stream",
     "text": [
      "Time for OCSVM fitting: 1617.573\n",
      "Time for IF prediction: 15.097\n"
     ]
    }
   ],
   "source": [
    "scoring = {'AUC': 'roc_auc', 'Precision': make_scorer(precision_score, pos_label=-1), 'F1': make_scorer(fbeta_score, labels=[-1], average='macro', beta=0.5)}\n",
    "gs_if_2 = GridSearchCV(IsolationForest(random_state = 8, n_estimators = 500, max_samples = 0.25, n_jobs = -1),\n",
    "                  param_grid={'contamination': np.arange(0.005, 0.05, 0.005)},\n",
    "                  scoring=scoring, refit='F1')\n",
    "stime = time.time()\n",
    "gs_if_2.fit(x_train, y_train)\n",
    "print(\"Time for IF fitting: %.3f\" % (time.time() - stime))\n",
    "results_if_2 = gs_if_2.cv_results_\n",
    "\n",
    "stime = time.time()\n",
    "y_pred = gs_if_2.predict(x_test)\n",
    "print(\"Time for IF prediction: %.3f\" % (time.time() - stime))"
   ]
  },
  {
   "cell_type": "code",
   "execution_count": 29,
   "metadata": {},
   "outputs": [],
   "source": [
    "y_pred_not_tuned = IsolationForest(random_state = 8, n_estimators = 500, contamination = 0.01 ,max_samples = 0.25, n_jobs = -1).fit(x_train).predict(x_test)\n",
    "f1_not_tuned_2 = fbeta_score(y_test, y_pred_not_tuned, labels=[-1], average='macro', beta=0.5) "
   ]
  },
  {
   "cell_type": "code",
   "execution_count": 9,
   "metadata": {},
   "outputs": [
    {
     "name": "stdout",
     "output_type": "stream",
     "text": [
      "Time for OCSVM fitting: 3230.039\n",
      "Time for IF prediction: 29.958\n"
     ]
    }
   ],
   "source": [
    "\n",
    "gs_if_3 = GridSearchCV(IsolationForest(random_state = 8, n_estimators = 1000, max_samples = 0.25, n_jobs = -1),\n",
    "                  param_grid={'contamination': np.arange(0.005, 0.05, 0.005)},\n",
    "                  scoring=scoring, refit='F1')\n",
    "stime = time.time()\n",
    "gs_if_3.fit(x_train, y_train)\n",
    "print(\"Time for OCSVM fitting: %.3f\" % (time.time() - stime))\n",
    "results_if_3 = gs_if_3.cv_results_\n",
    "\n",
    "stime = time.time()\n",
    "y_pred = gs_if_3.predict(x_test)\n",
    "print(\"Time for IF prediction: %.3f\" % (time.time() - stime))"
   ]
  },
  {
   "cell_type": "code",
   "execution_count": 30,
   "metadata": {},
   "outputs": [],
   "source": [
    "y_pred_not_tuned = IsolationForest(random_state = 8, n_estimators = 1000, contamination = 0.01 ,max_samples = 0.25, n_jobs = -1).fit(x_train).predict(x_test)\n",
    "f1_not_tuned_3 = fbeta_score(y_test, y_pred_not_tuned, labels=[-1], average='macro', beta=0.5) "
   ]
  },
  {
   "cell_type": "code",
   "execution_count": 31,
   "metadata": {},
   "outputs": [
    {
     "name": "stderr",
     "output_type": "stream",
     "text": [
      "<ipython-input-31-75fa62880c04>:10: MatplotlibDeprecationWarning: Adding an axes using the same arguments as a previous axes currently reuses the earlier instance.  In a future version, a new instance will always be created and returned.  Meanwhile, this warning can be suppressed, and the future behavior ensured, by passing a unique label to each axes instance.\n",
      "  ax = plt.axes()\n"
     ]
    },
    {
     "data": {
      "image/png": "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\n",
      "text/plain": [
       "<Figure size 720x576 with 1 Axes>"
      ]
     },
     "metadata": {
      "needs_background": "light"
     },
     "output_type": "display_data"
    }
   ],
   "source": [
    "# X_axis = np.array(results_svm[\"param_nu\"].data, dtype=float)\n",
    "# print GridSearch cross-validation for parameters\n",
    "X_axis_if = np.array(results_if[\"param_contamination\"].data, dtype=float)\n",
    "plt.figure(figsize=(10,8))\n",
    "\n",
    "plt.xlabel(\"configuration\")\n",
    "plt.ylabel(\"Score\")\n",
    "plt.grid()\n",
    "\n",
    "ax = plt.axes()\n",
    "pad = 0.005\n",
    "\n",
    "colors = {'lof': 'r', 'if':'b', 'dbscan':'c', 'svm':'y'}\n",
    "scorer = 'F1'\n",
    "\n",
    "best_index = np.nonzero(results_if['rank_test_%s' % scorer] == 1)[0][0]\n",
    "best_score = results_if['mean_test_%s' % scorer][best_index]\n",
    "best_param = results_if['params'][best_index]\n",
    "\n",
    "best_index = np.nonzero(results_if_1['rank_test_%s' % scorer] == 1)[0][0]\n",
    "best_score_1 = results_if_1['mean_test_%s' % scorer][best_index]\n",
    "best_param_1 = results_if_1['params'][best_index]\n",
    "\n",
    "best_index = np.nonzero(results_if_2['rank_test_%s' % scorer] == 1)[0][0]\n",
    "best_score_2 = results_if_2['mean_test_%s' % scorer][best_index]\n",
    "best_param_2 = results_if_2['params'][best_index]\n",
    "\n",
    "best_index = np.nonzero(results_if_3['rank_test_%s' % scorer] == 1)[0][0]\n",
    "best_score_3 = results_if_3['mean_test_%s' % scorer][best_index]\n",
    "best_param_3 = results_if_3['params'][best_index]\n",
    "\n",
    "Y_axis = np.array([best_score, best_score_1, best_score_2, best_score_3])\n",
    "Y_axis_not_tuned = np.array([f1_not_tuned, f1_not_tuned_1, f1_not_tuned_2, f1_not_tuned_3])\n",
    "X_axis = np.array([f\"1-{best_param}\", f\"2-{best_param_1}\", f\"3-{best_param_2}\", f\"4-{best_param_3}\"])\n",
    "\n",
    "ax.plot(X_axis, Y_axis, '-', color=colors['if'],label=\"%s \" % (scorer))\n",
    "ax.plot(X_axis, Y_axis_not_tuned, '-', color=colors['svm'],label=\"%s not tuned\" % (scorer))\n",
    "plt.legend(loc=\"best\")\n",
    "plt.grid('off')\n",
    "plt.tight_layout()\n",
    "plt.savefig(\"contamination.png\", dpi=100)\n",
    "\n",
    "plt.show()\n"
   ]
  },
  {
   "cell_type": "code",
   "execution_count": null,
   "metadata": {},
   "outputs": [],
   "source": []
  },
  {
   "cell_type": "markdown",
   "metadata": {},
   "source": [
    "## Archive"
   ]
  },
  {
   "cell_type": "code",
   "execution_count": 10,
   "metadata": {},
   "outputs": [
    {
     "data": {
      "text/plain": [
       "{'mean_fit_time': array([6.21555524, 5.77661214, 5.95518894, 6.19180145, 6.08735819,\n",
       "        6.14506054, 6.21053281, 5.84242525, 5.89293857]),\n",
       " 'std_fit_time': array([0.60381184, 0.08732966, 0.46662113, 0.45817326, 0.32295941,\n",
       "        0.42638088, 0.32233241, 0.4282788 , 0.41282265]),\n",
       " 'mean_score_time': array([2.66141915, 2.51375799, 2.53874798, 2.89526315, 2.61636267,\n",
       "        2.61370153, 2.72671041, 2.74505868, 2.78359818]),\n",
       " 'std_score_time': array([0.25419216, 0.056611  , 0.17544882, 0.27049189, 0.07448752,\n",
       "        0.26343074, 0.24308007, 0.21713803, 0.22577689]),\n",
       " 'param_contamination': masked_array(data=[0.005, 0.01, 0.015, 0.02, 0.025, 0.030000000000000002,\n",
       "                    0.034999999999999996, 0.04, 0.045],\n",
       "              mask=[False, False, False, False, False, False, False, False,\n",
       "                    False],\n",
       "        fill_value='?',\n",
       "             dtype=object),\n",
       " 'params': [{'contamination': 0.005},\n",
       "  {'contamination': 0.01},\n",
       "  {'contamination': 0.015},\n",
       "  {'contamination': 0.02},\n",
       "  {'contamination': 0.025},\n",
       "  {'contamination': 0.030000000000000002},\n",
       "  {'contamination': 0.034999999999999996},\n",
       "  {'contamination': 0.04},\n",
       "  {'contamination': 0.045}],\n",
       " 'split0_test_AUC': array([0.95831246, 0.95831246, 0.95831246, 0.95831246, 0.95831246,\n",
       "        0.95831246, 0.95831246, 0.95831246, 0.95831246]),\n",
       " 'split1_test_AUC': array([0.95503183, 0.95503183, 0.95503183, 0.95503183, 0.95503183,\n",
       "        0.95503183, 0.95503183, 0.95503183, 0.95503183]),\n",
       " 'split2_test_AUC': array([0.95279836, 0.95279836, 0.95279836, 0.95279836, 0.95279836,\n",
       "        0.95279836, 0.95279836, 0.95279836, 0.95279836]),\n",
       " 'split3_test_AUC': array([0.95265141, 0.95265141, 0.95265141, 0.95265141, 0.95265141,\n",
       "        0.95265141, 0.95265141, 0.95265141, 0.95265141]),\n",
       " 'split4_test_AUC': array([0.97278306, 0.97278306, 0.97278306, 0.97278306, 0.97278306,\n",
       "        0.97278306, 0.97278306, 0.97278306, 0.97278306]),\n",
       " 'mean_test_AUC': array([0.95831542, 0.95831542, 0.95831542, 0.95831542, 0.95831542,\n",
       "        0.95831542, 0.95831542, 0.95831542, 0.95831542]),\n",
       " 'std_test_AUC': array([0.00751816, 0.00751816, 0.00751816, 0.00751816, 0.00751816,\n",
       "        0.00751816, 0.00751816, 0.00751816, 0.00751816]),\n",
       " 'rank_test_AUC': array([1, 1, 1, 1, 1, 1, 1, 1, 1], dtype=int32),\n",
       " 'split0_test_Precision': array([0.825     , 0.76047904, 0.71814672, 0.58823529, 0.52183908,\n",
       "        0.45967742, 0.3986014 , 0.37936772, 0.38128492]),\n",
       " 'split1_test_Precision': array([0.74683544, 0.73333333, 0.66826923, 0.51624549, 0.43304843,\n",
       "        0.38388626, 0.34693878, 0.3074141 , 0.26604069]),\n",
       " 'split2_test_Precision': array([0.54285714, 0.56834532, 0.56018519, 0.48780488, 0.45      ,\n",
       "        0.37556561, 0.31028037, 0.27740864, 0.30708661]),\n",
       " 'split3_test_Precision': array([0.55223881, 0.62237762, 0.61463415, 0.48398577, 0.45114943,\n",
       "        0.3724605 , 0.32108317, 0.27946128, 0.2462908 ]),\n",
       " 'split4_test_Precision': array([0.73611111, 0.7       , 0.6473029 , 0.5751634 , 0.48979592,\n",
       "        0.42290749, 0.46168224, 0.45512821, 0.41581259]),\n",
       " 'mean_test_Precision': array([0.6806085 , 0.67690706, 0.64170764, 0.53028696, 0.46916657,\n",
       "        0.40289945, 0.36771719, 0.33975599, 0.32330312]),\n",
       " 'std_test_Precision': array([0.11293331, 0.07135908, 0.05283681, 0.04362934, 0.03223805,\n",
       "        0.03364292, 0.05601558, 0.06848135, 0.06541063]),\n",
       " 'rank_test_Precision': array([1, 2, 3, 4, 5, 6, 7, 8, 9], dtype=int32),\n",
       " 'split0_test_F1': array([0.37457435, 0.51668023, 0.58234189, 0.52056221, 0.4932638 ,\n",
       "        0.44793713, 0.4001404 , 0.38448567, 0.39854015]),\n",
       " 'split1_test_F1': array([0.37675607, 0.51546392, 0.53502694, 0.45396825, 0.40619989,\n",
       "        0.37587007, 0.35022662, 0.31728257, 0.28117764]),\n",
       " 'split2_test_F1': array([0.24453024, 0.37511871, 0.44452608, 0.42553191, 0.41817243,\n",
       "        0.36644592, 0.31475161, 0.28743546, 0.3210405 ]),\n",
       " 'split3_test_F1': array([0.25482094, 0.43203883, 0.49295775, 0.42983565, 0.42432432,\n",
       "        0.36995516, 0.32858274, 0.29287227, 0.26315789]),\n",
       " 'split4_test_F1': array([0.31812725, 0.47257384, 0.51689861, 0.49745619, 0.45433034,\n",
       "        0.40660737, 0.45996276, 0.46695166, 0.43332316]),\n",
       " 'mean_test_F1': array([0.31376177, 0.46237511, 0.51435025, 0.46547084, 0.43925816,\n",
       "        0.39336313, 0.37073282, 0.34980552, 0.33944787]),\n",
       " 'std_test_F1': array([0.05648457, 0.05367579, 0.04558495, 0.03756439, 0.03131854,\n",
       "        0.03076429, 0.05321244, 0.06799278, 0.06611941]),\n",
       " 'rank_test_F1': array([9, 3, 1, 2, 4, 5, 6, 7, 8], dtype=int32)}"
      ]
     },
     "execution_count": 10,
     "metadata": {},
     "output_type": "execute_result"
    }
   ],
   "source": [
    "results_if"
   ]
  },
  {
   "cell_type": "code",
   "execution_count": 11,
   "metadata": {},
   "outputs": [
    {
     "data": {
      "text/plain": [
       "{'mean_fit_time': array([5.54624696, 4.78931022, 4.95135288, 5.0274086 , 5.22425542,\n",
       "        4.97471795, 4.89164462, 5.206355  , 4.89924297]),\n",
       " 'std_fit_time': array([0.72005267, 0.08548646, 0.05900054, 0.4468235 , 0.47714769,\n",
       "        0.34250453, 0.38810539, 0.27953558, 0.29640239]),\n",
       " 'mean_score_time': array([2.29723072, 2.13414845, 2.21209617, 2.29829369, 2.39871373,\n",
       "        2.22686644, 2.27099638, 2.28763256, 2.1953187 ]),\n",
       " 'std_score_time': array([0.17112037, 0.05027567, 0.11903623, 0.28867631, 0.28192272,\n",
       "        0.21980232, 0.28003769, 0.27482119, 0.19561075]),\n",
       " 'param_contamination': masked_array(data=[0.005, 0.01, 0.015, 0.02, 0.025, 0.030000000000000002,\n",
       "                    0.034999999999999996, 0.04, 0.045],\n",
       "              mask=[False, False, False, False, False, False, False, False,\n",
       "                    False],\n",
       "        fill_value='?',\n",
       "             dtype=object),\n",
       " 'params': [{'contamination': 0.005},\n",
       "  {'contamination': 0.01},\n",
       "  {'contamination': 0.015},\n",
       "  {'contamination': 0.02},\n",
       "  {'contamination': 0.025},\n",
       "  {'contamination': 0.030000000000000002},\n",
       "  {'contamination': 0.034999999999999996},\n",
       "  {'contamination': 0.04},\n",
       "  {'contamination': 0.045}],\n",
       " 'split0_test_AUC': array([0.98390617, 0.98390617, 0.98390617, 0.98390617, 0.98390617,\n",
       "        0.98390617, 0.98390617, 0.98390617, 0.98390617]),\n",
       " 'split1_test_AUC': array([0.98413535, 0.98413535, 0.98413535, 0.98413535, 0.98413535,\n",
       "        0.98413535, 0.98413535, 0.98413535, 0.98413535]),\n",
       " 'split2_test_AUC': array([0.98508597, 0.98508597, 0.98508597, 0.98508597, 0.98508597,\n",
       "        0.98508597, 0.98508597, 0.98508597, 0.98508597]),\n",
       " 'split3_test_AUC': array([0.98785351, 0.98785351, 0.98785351, 0.98785351, 0.98785351,\n",
       "        0.98785351, 0.98785351, 0.98785351, 0.98785351]),\n",
       " 'split4_test_AUC': array([0.98818922, 0.98818922, 0.98818922, 0.98818922, 0.98818922,\n",
       "        0.98818922, 0.98818922, 0.98818922, 0.98818922]),\n",
       " 'mean_test_AUC': array([0.98583404, 0.98583404, 0.98583404, 0.98583404, 0.98583404,\n",
       "        0.98583404, 0.98583404, 0.98583404, 0.98583404]),\n",
       " 'std_test_AUC': array([0.00183232, 0.00183232, 0.00183232, 0.00183232, 0.00183232,\n",
       "        0.00183232, 0.00183232, 0.00183232, 0.00183232]),\n",
       " 'rank_test_AUC': array([1, 1, 1, 1, 1, 1, 1, 1, 1], dtype=int32),\n",
       " 'split0_test_Precision': array([0.61538462, 0.40677966, 0.3715847 , 0.27419355, 0.21383648,\n",
       "        0.1748072 , 0.15212528, 0.1487965 , 0.23292469]),\n",
       " 'split1_test_Precision': array([0.58441558, 0.34375   , 0.30252101, 0.23701299, 0.19109948,\n",
       "        0.16937355, 0.15631692, 0.24236984, 0.21915584]),\n",
       " 'split2_test_Precision': array([0.57446809, 0.33333333, 0.29651163, 0.20731707, 0.1629393 ,\n",
       "        0.14206128, 0.26785714, 0.23300971, 0.21052632]),\n",
       " 'split3_test_Precision': array([0.53225806, 0.31851852, 0.30653266, 0.2421875 , 0.19496855,\n",
       "        0.19135802, 0.28077754, 0.2443609 , 0.221843  ]),\n",
       " 'split4_test_Precision': array([0.59722222, 0.384     , 0.34482759, 0.26315789, 0.21671827,\n",
       "        0.37019231, 0.31818182, 0.27598566, 0.24367089]),\n",
       " 'mean_test_Precision': array([0.58074971, 0.3572763 , 0.32439552, 0.2447738 , 0.19591241,\n",
       "        0.20955847, 0.23505174, 0.22890452, 0.22562415]),\n",
       " 'std_test_Precision': array([0.02783975, 0.03293366, 0.02904953, 0.02312324, 0.01931547,\n",
       "        0.08186921, 0.06804943, 0.04259342, 0.01151576]),\n",
       " 'rank_test_Precision': array([1, 2, 3, 4, 9, 8, 5, 6, 7], dtype=int32),\n",
       " 'split0_test_F1': array([0.50890585, 0.39669421, 0.39306358, 0.30222222, 0.24199288,\n",
       "        0.20130255, 0.17699115, 0.17338093, 0.27513446]),\n",
       " 'split1_test_F1': array([0.50790068, 0.35483871, 0.33118675, 0.26700805, 0.21948286,\n",
       "        0.19634212, 0.18222666, 0.28565383, 0.25971528]),\n",
       " 'split2_test_F1': array([0.43831169, 0.32407407, 0.31559406, 0.23097826, 0.18586006,\n",
       "        0.16388175, 0.31380753, 0.27522936, 0.25      ]),\n",
       " 'split3_test_F1': array([0.43650794, 0.32089552, 0.32937365, 0.26863085, 0.2211127 ,\n",
       "        0.2173913 , 0.32795156, 0.28786537, 0.26273242]),\n",
       " 'split4_test_F1': array([0.48642534, 0.36697248, 0.36231884, 0.28735632, 0.24204703,\n",
       "        0.42354235, 0.36842105, 0.32271584, 0.28709918]),\n",
       " 'mean_test_F1': array([0.4756103 , 0.352695  , 0.34630738, 0.27123914, 0.22209911,\n",
       "        0.24049201, 0.27387959, 0.26896907, 0.26693627]),\n",
       " 'std_test_F1': array([0.03221307, 0.02819481, 0.02793278, 0.02393892, 0.02056584,\n",
       "        0.0931614 , 0.07904902, 0.05039931, 0.01288725]),\n",
       " 'rank_test_F1': array([1, 2, 3, 5, 9, 8, 4, 6, 7], dtype=int32)}"
      ]
     },
     "execution_count": 11,
     "metadata": {},
     "output_type": "execute_result"
    }
   ],
   "source": [
    "results_if_1"
   ]
  },
  {
   "cell_type": "code",
   "execution_count": 12,
   "metadata": {},
   "outputs": [
    {
     "data": {
      "text/plain": [
       "{'mean_fit_time': array([24.31703992, 23.216957  , 24.1506587 , 24.69542909, 23.57292929,\n",
       "        24.09752197, 24.16185451, 23.43724122, 24.41055369]),\n",
       " 'std_fit_time': array([0.79751815, 0.55757141, 0.9760791 , 1.75896369, 1.54284222,\n",
       "        1.43959983, 0.67923485, 0.85166922, 1.03591614]),\n",
       " 'mean_score_time': array([11.30978208, 10.6352777 , 11.61853366, 11.91336746, 11.47628174,\n",
       "        11.20442705, 10.9214447 , 11.3750761 , 10.44719672]),\n",
       " 'std_score_time': array([0.93648512, 0.33901763, 1.45881979, 0.71136804, 1.01590535,\n",
       "        1.39775789, 0.80280347, 1.18651469, 0.47040681]),\n",
       " 'param_contamination': masked_array(data=[0.005, 0.01, 0.015, 0.02, 0.025, 0.030000000000000002,\n",
       "                    0.034999999999999996, 0.04, 0.045],\n",
       "              mask=[False, False, False, False, False, False, False, False,\n",
       "                    False],\n",
       "        fill_value='?',\n",
       "             dtype=object),\n",
       " 'params': [{'contamination': 0.005},\n",
       "  {'contamination': 0.01},\n",
       "  {'contamination': 0.015},\n",
       "  {'contamination': 0.02},\n",
       "  {'contamination': 0.025},\n",
       "  {'contamination': 0.030000000000000002},\n",
       "  {'contamination': 0.034999999999999996},\n",
       "  {'contamination': 0.04},\n",
       "  {'contamination': 0.045}],\n",
       " 'split0_test_AUC': array([0.98522834, 0.98522834, 0.98522834, 0.98522834, 0.98522834,\n",
       "        0.98522834, 0.98522834, 0.98522834, 0.98522834]),\n",
       " 'split1_test_AUC': array([0.98288543, 0.98288543, 0.98288543, 0.98288543, 0.98288543,\n",
       "        0.98288543, 0.98288543, 0.98288543, 0.98288543]),\n",
       " 'split2_test_AUC': array([0.98298715, 0.98298715, 0.98298715, 0.98298715, 0.98298715,\n",
       "        0.98298715, 0.98298715, 0.98298715, 0.98298715]),\n",
       " 'split3_test_AUC': array([0.98506735, 0.98506735, 0.98506735, 0.98506735, 0.98506735,\n",
       "        0.98506735, 0.98506735, 0.98506735, 0.98506735]),\n",
       " 'split4_test_AUC': array([0.98505625, 0.98505625, 0.98505625, 0.98505625, 0.98505625,\n",
       "        0.98505625, 0.98505625, 0.98505625, 0.98505625]),\n",
       " 'mean_test_AUC': array([0.98424491, 0.98424491, 0.98424491, 0.98424491, 0.98424491,\n",
       "        0.98424491, 0.98424491, 0.98424491, 0.98424491]),\n",
       " 'std_test_AUC': array([0.0010707, 0.0010707, 0.0010707, 0.0010707, 0.0010707, 0.0010707,\n",
       "        0.0010707, 0.0010707, 0.0010707]),\n",
       " 'rank_test_AUC': array([1, 1, 1, 1, 1, 1, 1, 1, 1], dtype=int32),\n",
       " 'split0_test_Precision': array([0.57971014, 0.38888889, 0.36756757, 0.26984127, 0.20606061,\n",
       "        0.1721519 , 0.16037736, 0.26546906, 0.23539823]),\n",
       " 'split1_test_Precision': array([0.53571429, 0.33333333, 0.29875519, 0.23529412, 0.1967655 ,\n",
       "        0.16937355, 0.14807302, 0.24236984, 0.22425249]),\n",
       " 'split2_test_Precision': array([0.57446809, 0.35714286, 0.32075472, 0.20731707, 0.15987461,\n",
       "        0.13821138, 0.12623762, 0.23575639, 0.20654045]),\n",
       " 'split3_test_Precision': array([0.55932203, 0.31617647, 0.30808081, 0.24031008, 0.19135802,\n",
       "        0.15938303, 0.27600849, 0.23941068, 0.21775544]),\n",
       " 'split4_test_Precision': array([0.58108108, 0.375     , 0.34146341, 0.26717557, 0.21148036,\n",
       "        0.17721519, 0.31950207, 0.27402135, 0.24137931]),\n",
       " 'mean_test_Precision': array([0.56605913, 0.35410831, 0.32732434, 0.24398762, 0.19310782,\n",
       "        0.16326701, 0.20603971, 0.25140546, 0.22506518]),\n",
       " 'std_test_Precision': array([0.01702303, 0.02655479, 0.02469454, 0.02297791, 0.01803448,\n",
       "        0.01381052, 0.07691931, 0.01536017, 0.01241113]),\n",
       " 'rank_test_Precision': array([1, 2, 3, 5, 8, 9, 7, 4, 6], dtype=int32),\n",
       " 'split0_test_F1': array([0.48899756, 0.38461538, 0.38946163, 0.29798422, 0.23399862,\n",
       "        0.19848219, 0.18589393, 0.3111839 , 0.27789386]),\n",
       " 'split1_test_F1': array([0.47770701, 0.34591195, 0.32757052, 0.26490066, 0.22544781,\n",
       "        0.19634212, 0.17323208, 0.28565383, 0.26543453]),\n",
       " 'split2_test_F1': array([0.43831169, 0.34179688, 0.33730159, 0.23097826, 0.18266476,\n",
       "        0.15977444, 0.1468894 , 0.27829314, 0.24549918]),\n",
       " 'split3_test_F1': array([0.45081967, 0.3189911 , 0.3308026 , 0.26678141, 0.2173913 ,\n",
       "        0.18386714, 0.32274081, 0.28236316, 0.25814138]),\n",
       " 'split4_test_F1': array([0.47777778, 0.36036036, 0.35934292, 0.29118136, 0.2368065 ,\n",
       "        0.20184544, 0.3698367 , 0.32056619, 0.28455285]),\n",
       " 'mean_test_F1': array([0.46672274, 0.35033513, 0.34889585, 0.27036518, 0.2192618 ,\n",
       "        0.18806227, 0.23971859, 0.29561205, 0.26630436]),\n",
       " 'std_test_F1': array([0.01896908, 0.02168205, 0.023114  , 0.0236227 , 0.01952485,\n",
       "        0.0153942 , 0.08917199, 0.0169696 , 0.01391093]),\n",
       " 'rank_test_F1': array([1, 2, 3, 5, 8, 9, 7, 4, 6], dtype=int32)}"
      ]
     },
     "execution_count": 12,
     "metadata": {},
     "output_type": "execute_result"
    }
   ],
   "source": [
    "results_if_2"
   ]
  },
  {
   "cell_type": "code",
   "execution_count": 13,
   "metadata": {},
   "outputs": [
    {
     "data": {
      "text/plain": [
       "{'mean_fit_time': array([47.31434169, 45.97796268, 48.00057578, 47.1546936 , 47.62843785,\n",
       "        48.24247708, 49.17009764, 49.09654984, 46.28782687]),\n",
       " 'std_fit_time': array([1.24401669, 0.82261936, 2.20239155, 2.55197371, 1.07577365,\n",
       "        2.32573154, 1.47841788, 2.86741506, 1.08468606]),\n",
       " 'mean_score_time': array([21.52650146, 21.91144209, 23.1245595 , 23.04074917, 21.54013433,\n",
       "        23.23153219, 24.00194645, 23.22636113, 22.74216194]),\n",
       " 'std_score_time': array([1.20731601, 1.52392491, 1.76930535, 1.33748878, 0.98767619,\n",
       "        1.60100884, 1.66941748, 1.98731715, 2.03405259]),\n",
       " 'param_contamination': masked_array(data=[0.005, 0.01, 0.015, 0.02, 0.025, 0.030000000000000002,\n",
       "                    0.034999999999999996, 0.04, 0.045],\n",
       "              mask=[False, False, False, False, False, False, False, False,\n",
       "                    False],\n",
       "        fill_value='?',\n",
       "             dtype=object),\n",
       " 'params': [{'contamination': 0.005},\n",
       "  {'contamination': 0.01},\n",
       "  {'contamination': 0.015},\n",
       "  {'contamination': 0.02},\n",
       "  {'contamination': 0.025},\n",
       "  {'contamination': 0.030000000000000002},\n",
       "  {'contamination': 0.034999999999999996},\n",
       "  {'contamination': 0.04},\n",
       "  {'contamination': 0.045}],\n",
       " 'split0_test_AUC': array([0.98466475, 0.98466475, 0.98466475, 0.98466475, 0.98466475,\n",
       "        0.98466475, 0.98466475, 0.98466475, 0.98466475]),\n",
       " 'split1_test_AUC': array([0.98400803, 0.98400803, 0.98400803, 0.98400803, 0.98400803,\n",
       "        0.98400803, 0.98400803, 0.98400803, 0.98400803]),\n",
       " 'split2_test_AUC': array([0.98329373, 0.98329373, 0.98329373, 0.98329373, 0.98329373,\n",
       "        0.98329373, 0.98329373, 0.98329373, 0.98329373]),\n",
       " 'split3_test_AUC': array([0.9861837, 0.9861837, 0.9861837, 0.9861837, 0.9861837, 0.9861837,\n",
       "        0.9861837, 0.9861837, 0.9861837]),\n",
       " 'split4_test_AUC': array([0.98508919, 0.98508919, 0.98508919, 0.98508919, 0.98508919,\n",
       "        0.98508919, 0.98508919, 0.98508919, 0.98508919]),\n",
       " 'mean_test_AUC': array([0.98464788, 0.98464788, 0.98464788, 0.98464788, 0.98464788,\n",
       "        0.98464788, 0.98464788, 0.98464788, 0.98464788]),\n",
       " 'std_test_AUC': array([0.00097948, 0.00097948, 0.00097948, 0.00097948, 0.00097948,\n",
       "        0.00097948, 0.00097948, 0.00097948, 0.00097948]),\n",
       " 'rank_test_AUC': array([1, 1, 1, 1, 1, 1, 1, 1, 1], dtype=int32),\n",
       " 'split0_test_Precision': array([0.57971014, 0.38888889, 0.36956522, 0.26666667, 0.20668693,\n",
       "        0.17171717, 0.15525114, 0.26129666, 0.2305026 ]),\n",
       " 'split1_test_Precision': array([0.52941176, 0.33742331, 0.29875519, 0.23322684, 0.19414894,\n",
       "        0.16859122, 0.15565032, 0.24770642, 0.2238806 ]),\n",
       " 'split2_test_Precision': array([0.58695652, 0.33333333, 0.32278481, 0.20987654, 0.16398714,\n",
       "        0.13972603, 0.1281407 , 0.234375  , 0.20797227]),\n",
       " 'split3_test_Precision': array([0.53225806, 0.32089552, 0.31282051, 0.24701195, 0.19375   ,\n",
       "        0.16986301, 0.28077754, 0.23853211, 0.22298456]),\n",
       " 'split4_test_Precision': array([0.57333333, 0.36923077, 0.34825871, 0.25735294, 0.21148036,\n",
       "        0.17766497, 0.31428571, 0.27304965, 0.24483307]),\n",
       " 'mean_test_Precision': array([0.56033397, 0.34995437, 0.33043689, 0.24282699, 0.19401067,\n",
       "        0.16551248, 0.20682108, 0.25099197, 0.22603462]),\n",
       " 'std_test_Precision': array([0.02448518, 0.0251602 , 0.02538214, 0.01987331, 0.01653709,\n",
       "        0.01326294, 0.07548074, 0.01438676, 0.01194601]),\n",
       " 'rank_test_Precision': array([1, 2, 3, 5, 8, 9, 7, 4, 6], dtype=int32),\n",
       " 'split0_test_F1': array([0.48899756, 0.38461538, 0.39125432, 0.29488291, 0.23464458,\n",
       "        0.1980198 , 0.18037135, 0.3065929 , 0.27242933]),\n",
       " 'split1_test_F1': array([0.47368421, 0.34942821, 0.32757052, 0.26315789, 0.22269677,\n",
       "        0.1955008 , 0.18150174, 0.29157667, 0.26501767]),\n",
       " 'split2_test_F1': array([0.44407895, 0.32407407, 0.33909574, 0.23351648, 0.18695015,\n",
       "        0.16139241, 0.1489486 , 0.27675277, 0.24711697]),\n",
       " 'split3_test_F1': array([0.43650794, 0.32282282, 0.33516484, 0.27336861, 0.21985816,\n",
       "        0.19496855, 0.32795156, 0.28138528, 0.264013  ]),\n",
       " 'split4_test_F1': array([0.47356828, 0.35608309, 0.36534447, 0.28180354, 0.2368065 ,\n",
       "        0.20231214, 0.36423841, 0.31950207, 0.28838951]),\n",
       " 'mean_test_F1': array([0.46336739, 0.34740472, 0.35168598, 0.26934589, 0.22019123,\n",
       "        0.19043874, 0.24060233, 0.29516194, 0.2673933 ]),\n",
       " 'std_test_F1': array([0.01980341, 0.02285883, 0.02351691, 0.02071498, 0.01786799,\n",
       "        0.01475319, 0.08767762, 0.01590382, 0.01337462]),\n",
       " 'rank_test_F1': array([1, 3, 2, 5, 8, 9, 7, 4, 6], dtype=int32)}"
      ]
     },
     "execution_count": 13,
     "metadata": {},
     "output_type": "execute_result"
    }
   ],
   "source": [
    "results_if_3"
   ]
  },
  {
   "cell_type": "markdown",
   "metadata": {},
   "source": [
    "# Preprocessing\n",
    "Load the dataset. IF is then run on samples of the dataset with different anomaly rates."
   ]
  },
  {
   "cell_type": "code",
   "execution_count": 76,
   "metadata": {},
   "outputs": [],
   "source": [
    "def tp(y_test, y_pred):\n",
    "    yp = np.array(y_pred)\n",
    "    yt = np.array(y_test)\n",
    "\n",
    "    prediction = yp[np.where(yt == -1)]\n",
    "    p, r, f, s = precision_recall_fscore_support(y_test, y_pred, labels=[-1])\n",
    "    \n",
    "    tp = len(yp[np.where(prediction == -1)])\n",
    "    pp = len(yp[np.where(yp == -1)])\n",
    "    \n",
    "    fp = pp - tp\n",
    "    return tp/pp\n",
    "\n",
    "scoring = {'AUC': 'roc_auc',\n",
    "           'Recall': make_scorer(precision_score, pos_label=-1), \n",
    "           'F1': make_scorer(fbeta_score, labels=[-1], average='macro', beta=0.5),\n",
    "           'TP': make_scorer(tp)}"
   ]
  },
  {
   "cell_type": "code",
   "execution_count": 77,
   "metadata": {},
   "outputs": [
    {
     "name": "stdout",
     "output_type": "stream",
     "text": [
      "SF anomaly rate is 4.5% / 73237\n"
     ]
    }
   ],
   "source": [
    "sf = datasets.fetch_kddcup99(subset='SF', percent10=True, random_state=0)\n",
    "dfsf = pd.DataFrame(sf.data, columns=sf_columns)\n",
    "dfsf[\"target\"]=sf.target\n",
    "anomaly_rate_sf = 1.0 - len(dfsf.loc[dfsf[\"target\"]==b'normal.'])/len(dfsf)\n",
    "print(f\"SF anomaly rate is {anomaly_rate_sf:.1%} / {len(dfsf)}\")\n",
    "\n",
    "dfsf['binary_target'] = [1 if x==b'normal.' else -1 for x in dfsf[\"target\"]]\n",
    "toDecodeSF = [\"service\", \"target\"]    \n",
    "leSF = preprocessing.LabelEncoder()\n",
    "for f in toDecodeSF:\n",
    "    dfsf[f] = list(map(byte_decoder, dfsf[f]))\n",
    "    dfsf[f] = leSF.fit_transform(dfsf[f])\n",
    "\n",
    "x_sf = dfsf.drop([\"target\", 'binary_target'], axis=1)\n",
    "y_sf = dfsf[\"binary_target\"]"
   ]
  },
  {
   "cell_type": "code",
   "execution_count": 79,
   "metadata": {},
   "outputs": [
    {
     "name": "stdout",
     "output_type": "stream",
     "text": [
      "Time for SVM fitting: 586.013\n"
     ]
    }
   ],
   "source": [
    "gs_sf_1 = GridSearchCV(OneClassSVM(),\n",
    "                  param_grid={'nu': np.arange(0.045, 0.055, 0.001), 'kernel': ['rbf'], 'gamma': ['scale']},\n",
    "                  scoring=scoring, refit='Recall')\n",
    "stime = time.time()\n",
    "gs_sf_1.fit(x_sf, y_sf)\n",
    "print(\"Time for SVM fitting: %.3f\" % (time.time() - stime))\n",
    "results_svm_sf_1 = gs_sf_1.cv_results_"
   ]
  },
  {
   "cell_type": "code",
   "execution_count": 81,
   "metadata": {},
   "outputs": [
    {
     "name": "stdout",
     "output_type": "stream",
     "text": [
      "Time for IF fitting: 356.985\n"
     ]
    }
   ],
   "source": [
    "gs_sf_1 = GridSearchCV(OneClassSVM(),\n",
    "                  param_grid={'nu': np.arange(0.045, 0.055, 0.001), 'kernel': ['poly'], 'gamma': ['auto'], 'degree': [2]},\n",
    "                  scoring=scoring, refit='Recall')\n",
    "stime = time.time()\n",
    "gs_sf_1.fit(x_sf, y_sf)\n",
    "print(\"Time for IF fitting: %.3f\" % (time.time() - stime))\n",
    "results_svm_sf_1 = gs_sf_1.cv_results_"
   ]
  },
  {
   "cell_type": "code",
   "execution_count": 70,
   "metadata": {},
   "outputs": [
    {
     "name": "stdout",
     "output_type": "stream",
     "text": [
      "3: {'gamma': 'scale', 'kernel': 'rbf', 'nu': 0.048}\n",
      "Time for SVM fitting: 9.053\n",
      "              precision    recall  f1-score   support\n",
      "\n",
      "     anomaly       0.06      0.07      0.06       836\n",
      "      normal       0.96      0.95      0.95     17474\n",
      "\n",
      "    accuracy                           0.91     18310\n",
      "   macro avg       0.51      0.51      0.51     18310\n",
      "weighted avg       0.91      0.91      0.91     18310\n",
      "\n",
      "Time for SVM fitting: 7.353\n",
      "              precision    recall  f1-score   support\n",
      "\n",
      "     anomaly       0.46      0.71      0.56       836\n",
      "      normal       0.99      0.96      0.97     17474\n",
      "\n",
      "    accuracy                           0.95     18310\n",
      "   macro avg       0.72      0.84      0.76     18310\n",
      "weighted avg       0.96      0.95      0.95     18310\n",
      "\n"
     ]
    }
   ],
   "source": [
    "best_index = np.nonzero(results_svm_sf_1['rank_test_F1_n'] == 1)[0][0]\n",
    "best_score_1 = results_svm_sf_1['mean_test_F1_n'][best_index]\n",
    "best_param_1 = results_svm_sf_1['params'][best_index]\n",
    "print(f\"{best_index}: {best_param_1} : {best_score_1}\")\n",
    "\n",
    "stime = time.time()\n",
    "y_pred_1 = OneClassSVM(kernel=\"rbf\", gamma='scale', nu=0.055).fit(X_train_sf).predict(X_test_sf)\n",
    "print(\"Time for SVM fitting: %.3f\" % (time.time() - stime))\n",
    "f1 = fbeta_score(y_test_sf, y_pred_1, labels=[-1], average='macro', beta=0.5) \n",
    "print(classification_report(y_test_sf, y_pred_1, target_names=['anomaly', 'normal']))\n",
    "\n",
    "\n",
    "stime = time.time()\n",
    "y_pred_not_tuned = OneClassSVM(kernel=\"rbf\", gamma='scale', nu=0.045).fit(X_train_sf).predict(X_test_sf)\n",
    "print(\"Time for SVM fitting: %.3f\" % (time.time() - stime))\n",
    "f1_not_tuned_1 = fbeta_score(y_test_sf, y_pred_not_tuned, labels=[-1], average='macro', beta=0.5) \n",
    "print(classification_report(y_test_sf, y_pred_not_tuned, target_names=['anomaly', 'normal']))"
   ]
  },
  {
   "cell_type": "code",
   "execution_count": 38,
   "metadata": {},
   "outputs": [
    {
     "name": "stdout",
     "output_type": "stream",
     "text": [
      "Time for SVM fitting: 5.747\n"
     ]
    },
    {
     "data": {
      "text/plain": [
       "0.5002581977794992"
      ]
     },
     "execution_count": 38,
     "metadata": {},
     "output_type": "execute_result"
    }
   ],
   "source": [
    "stime = time.time()\n",
    "y_pred_not_tuned = OneClassSVM(kernel=\"rbf\", gamma='scale', nu=0.045).fit(X_train_sf).predict(X_test_sf)\n",
    "print(\"Time for SVM fitting: %.3f\" % (time.time() - stime))\n",
    "f1_not_tuned_1 = fbeta_score(y_test_sf, y_pred_not_tuned, labels=[-1], average='macro', beta=0.5) \n",
    "f1_not_tuned_1"
   ]
  },
  {
   "cell_type": "code",
   "execution_count": 16,
   "metadata": {},
   "outputs": [
    {
     "name": "stdout",
     "output_type": "stream",
     "text": [
      "Time for OCSVM fitting: 238.868\n",
      "Time for OCSVM prediction: 0.596\n"
     ]
    }
   ],
   "source": [
    "gs_sf_2 = GridSearchCV(OneClassSVM(kernel=\"rbf\", gamma='auto'),\n",
    "                  param_grid={'nu': np.arange(0.04, 0.24, 0.04)},\n",
    "                  scoring=scoring, refit='F1')\n",
    "stime = time.time()\n",
    "gs_sf_2.fit(X_train_sf, y_train_sf)\n",
    "print(\"Time for OCSVM fitting: %.3f\" % (time.time() - stime))\n",
    "results_svm_sf_2 = gs_sf_2.cv_results_\n",
    "\n",
    "stime = time.time()\n",
    "y_pred = gs_sf_2.predict(X_test_sf)\n",
    "print(\"Time for OCSVM prediction: %.3f\" % (time.time() - stime))"
   ]
  },
  {
   "cell_type": "code",
   "execution_count": 21,
   "metadata": {},
   "outputs": [
    {
     "name": "stdout",
     "output_type": "stream",
     "text": [
      "Time for SVM fitting: 5.811\n"
     ]
    }
   ],
   "source": [
    "stime = time.time()\n",
    "y_pred_not_tuned = OneClassSVM(kernel=\"rbf\", gamma='auto', nu=0.045).fit(X_train_sf).predict(X_test_sf)\n",
    "print(\"Time for SVM fitting: %.3f\" % (time.time() - stime))\n",
    "f1_not_tuned_2 = fbeta_score(y_test_sf, y_pred_not_tuned, labels=[-1], average='macro', beta=0.5) "
   ]
  },
  {
   "cell_type": "code",
   "execution_count": 17,
   "metadata": {},
   "outputs": [
    {
     "name": "stdout",
     "output_type": "stream",
     "text": [
      "Time for OCSVM fitting: 121.492\n",
      "Time for OCSVM prediction: 0.312\n"
     ]
    }
   ],
   "source": [
    "gs_sf_3 = GridSearchCV(OneClassSVM(kernel=\"linear\", gamma='auto'),\n",
    "                  param_grid={'nu': np.arange(0.04, 0.24, 0.04)},\n",
    "                  scoring=scoring, refit='F1')\n",
    "stime = time.time()\n",
    "gs_sf_3.fit(X_train_sf, y_train_sf)\n",
    "print(\"Time for OCSVM fitting: %.3f\" % (time.time() - stime))\n",
    "results_svm_sf_3 = gs_sf_3.cv_results_\n",
    "\n",
    "stime = time.time()\n",
    "y_pred = gs_sf_3.predict(X_test_sf)\n",
    "print(\"Time for OCSVM prediction: %.3f\" % (time.time() - stime))"
   ]
  },
  {
   "cell_type": "code",
   "execution_count": 22,
   "metadata": {},
   "outputs": [
    {
     "name": "stdout",
     "output_type": "stream",
     "text": [
      "Time for SVM fitting: 2.824\n"
     ]
    }
   ],
   "source": [
    "stime = time.time()\n",
    "y_pred_not_tuned = OneClassSVM(kernel=\"linear\", gamma='auto', nu=0.045).fit(X_train_sf).predict(X_test_sf)\n",
    "print(\"Time for SVM fitting: %.3f\" % (time.time() - stime))\n",
    "f1_not_tuned_3 = fbeta_score(y_test_sf, y_pred_not_tuned, labels=[-1], average='macro', beta=0.5) "
   ]
  },
  {
   "cell_type": "code",
   "execution_count": 18,
   "metadata": {},
   "outputs": [
    {
     "name": "stdout",
     "output_type": "stream",
     "text": [
      "Time for OCSVM fitting: 121.980\n",
      "Time for OCSVM prediction: 0.317\n"
     ]
    }
   ],
   "source": [
    "gs_sf_4 = GridSearchCV(OneClassSVM(kernel=\"linear\", gamma='scale'),\n",
    "                  param_grid={'nu': np.arange(0.04, 0.24, 0.04)},\n",
    "                  scoring=scoring, refit='F1')\n",
    "stime = time.time()\n",
    "gs_sf_4.fit(X_train_sf, y_train_sf)\n",
    "print(\"Time for OCSVM fitting: %.3f\" % (time.time() - stime))\n",
    "results_svm_sf_4 = gs_sf_4.cv_results_\n",
    "\n",
    "stime = time.time()\n",
    "y_pred = gs_sf_4.predict(X_test_sf)\n",
    "print(\"Time for OCSVM prediction: %.3f\" % (time.time() - stime))"
   ]
  },
  {
   "cell_type": "code",
   "execution_count": 23,
   "metadata": {},
   "outputs": [
    {
     "name": "stdout",
     "output_type": "stream",
     "text": [
      "Time for SVM fitting: 2.768\n"
     ]
    }
   ],
   "source": [
    "stime = time.time()\n",
    "y_pred_not_tuned = OneClassSVM(kernel=\"linear\", gamma='scale', nu=0.045).fit(X_train_sf).predict(X_test_sf)\n",
    "print(\"Time for SVM fitting: %.3f\" % (time.time() - stime))\n",
    "f1_not_tuned_4 = fbeta_score(y_test_sf, y_pred_not_tuned, labels=[-1], average='macro', beta=0.5) "
   ]
  },
  {
   "cell_type": "code",
   "execution_count": 28,
   "metadata": {},
   "outputs": [
    {
     "name": "stderr",
     "output_type": "stream",
     "text": [
      "<ipython-input-28-c0941da69862>:10: MatplotlibDeprecationWarning: Adding an axes using the same arguments as a previous axes currently reuses the earlier instance.  In a future version, a new instance will always be created and returned.  Meanwhile, this warning can be suppressed, and the future behavior ensured, by passing a unique label to each axes instance.\n",
      "  ax = plt.axes()\n"
     ]
    },
    {
     "data": {
      "image/png": "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\n",
      "text/plain": [
       "<Figure size 720x576 with 1 Axes>"
      ]
     },
     "metadata": {
      "needs_background": "light"
     },
     "output_type": "display_data"
    }
   ],
   "source": [
    "# X_axis = np.array(results_svm[\"param_nu\"].data, dtype=float)\n",
    "# print GridSearch cross-validation for parameters\n",
    "# X_axis_if = np.array(results_if[\"param_contamination\"].data, dtype=float)\n",
    "plt.figure(figsize=(10,8))\n",
    "\n",
    "plt.xlabel(\"configuration\")\n",
    "plt.ylabel(\"Score\")\n",
    "plt.grid()\n",
    "\n",
    "ax = plt.axes()\n",
    "pad = 0.005\n",
    "\n",
    "colors = {'lof': 'r', 'if':'b', 'dbscan':'c', 'svm':'y'}\n",
    "scorer = 'FP'\n",
    "\n",
    "best_index = np.nonzero(results_svm_sf_1['rank_test_%s' % scorer] == 1)[0][0]\n",
    "best_score_1 = results_svm_sf_1['mean_test_%s' % scorer][best_index]\n",
    "best_param_1 = results_svm_sf_1['params'][best_index]\n",
    "\n",
    "best_index = np.nonzero(results_svm_sf_2['rank_test_%s' % scorer] == 1)[0][0]\n",
    "best_score_2 = results_svm_sf_2['mean_test_%s' % scorer][best_index]\n",
    "best_param_2 = results_svm_sf_2['params'][best_index]\n",
    "\n",
    "best_index = np.nonzero(results_svm_sf_3['rank_test_%s' % scorer] == 1)[0][0]\n",
    "best_score_3 = results_svm_sf_3['mean_test_%s' % scorer][best_index]\n",
    "best_param_3 = results_svm_sf_3['params'][best_index]\n",
    "\n",
    "best_index = np.nonzero(results_svm_sf_4['rank_test_%s' % scorer] == 1)[0][0]\n",
    "best_score_4 = results_svm_sf_4['mean_test_%s' % scorer][best_index]\n",
    "best_param_4 = results_svm_sf_4['params'][best_index]\n",
    "\n",
    "Y_axis = np.array([best_score_1, best_score_2, best_score_3, best_score_4])\n",
    "Y_axis_not_tuned = np.array([f1_not_tuned_1, f1_not_tuned_2, f1_not_tuned_3, f1_not_tuned_4])\n",
    "X_axis = np.array([f\"1-{best_param_1}\", f\"2-{best_param_2}\", f\"3-{best_param_3}\", f\"4-{best_param_4}\"])\n",
    "\n",
    "ax.plot(X_axis, Y_axis, '-', color=colors['if'],label=\"%s \" % (scorer))\n",
    "ax.plot(X_axis, Y_axis_not_tuned, '-', color=colors['svm'],label=\"%s not tuned\" % (scorer))\n",
    "plt.legend(loc=\"best\")\n",
    "plt.grid('off')\n",
    "plt.tight_layout()\n",
    "plt.savefig(\"svm_nu.png\", dpi=100)\n",
    "\n",
    "plt.show()"
   ]
  },
  {
   "cell_type": "code",
   "execution_count": 55,
   "metadata": {},
   "outputs": [
    {
     "name": "stdout",
     "output_type": "stream",
     "text": [
      "SA anomaly rate is 3.4%\n"
     ]
    }
   ],
   "source": [
    "sa = datasets.fetch_kddcup99(subset='SA', percent10=True, random_state=0)\n",
    "dfsa = pd.DataFrame(sa.data, columns=sa_columns)\n",
    "dfsa[\"target\"]=sa.target\n",
    "anomaly_rate =  1.0 - len(dfsa.loc[dfsa[\"target\"]==b'normal.'])/len(dfsa)\n",
    "print(f\"SA anomaly rate is {anomaly_rate:.1%}\")\n",
    "\n",
    "dfsa['binary_target'] = [1 if x==b'normal.' else -1 for x in dfsa[\"target\"]]\n",
    "toDecodeSA = [\"protocol_type\", \"service\", \"flag\", \"target\"]\n",
    "le = preprocessing.LabelEncoder()\n",
    "for f in toDecodeSA:\n",
    "    dfsa[f] = list(map(byte_decoder, dfsa[f]))\n",
    "    dfsa[f] = le.fit_transform(dfsa[f])\n",
    "\n",
    "X_train_sa, X_test_sa, y_train_sa, y_test_sa = train_test_split(dfsa.drop([\"target\", 'binary_target'], axis=1), dfsa['binary_target'], test_size=0.25, random_state=0)"
   ]
  },
  {
   "cell_type": "code",
   "execution_count": 65,
   "metadata": {},
   "outputs": [
    {
     "name": "stdout",
     "output_type": "stream",
     "text": [
      "anomaly rate is 1.0% out of 98261 records (983)\n"
     ]
    }
   ],
   "source": [
    "r = 0.01\n",
    "target_anomaly_rate = r\n",
    "\n",
    "df = pd.read_csv('kddcup.data', delimiter=',')\n",
    "df.columns = sa_columns + [\"target\"]\n",
    "df_normal = df[df[\"target\"]== 'normal.']\n",
    "df_normal = df_normal.sample(frac=0.1, random_state=1)\n",
    "n_records = int(np.ceil(len(df_normal)*r/(1-r)))\n",
    "\n",
    "df = df_normal.append(df[df[\"target\"]!= 'normal.'].sample(n = n_records, random_state=1))\n",
    "anomaly_rate = 1.0 - len(df.loc[df[\"target\"]=='normal.'])/len(df)\n",
    "print(f\"anomaly rate is {anomaly_rate:.1%} out of {len(df)} records ({n_records})\")\n",
    "\n",
    "df['binary_target'] = [1 if x=='normal.' else -1 for x in df[\"target\"]]\n",
    "df = df.sample(frac=1, random_state=2)\n",
    "toDecode = [\"protocol_type\", \"service\", \"flag\", \"target\"]\n",
    "leSF = preprocessing.LabelEncoder()\n",
    "for f in toDecode:\n",
    "    df[f] = leSF.fit_transform(df[f])\n",
    "\n",
    "x_train_1, x_test_1, y_train_1, y_test_1 = train_test_split(df.drop([\"target\", 'binary_target'], axis=1), df['binary_target'], test_size=0.33, random_state=0)\n",
    "results = []"
   ]
  },
  {
   "cell_type": "code",
   "execution_count": 66,
   "metadata": {},
   "outputs": [
    {
     "name": "stdout",
     "output_type": "stream",
     "text": [
      "anomaly rate is 2.0% out of 198527 records (3971)\n"
     ]
    }
   ],
   "source": [
    "r = 0.02\n",
    "target_anomaly_rate = r\n",
    "\n",
    "df = pd.read_csv('kddcup.data', delimiter=',')\n",
    "df.columns = sa_columns + [\"target\"]\n",
    "df_normal = df[df[\"target\"]== 'normal.']\n",
    "df_normal = df_normal.sample(frac=0.2, random_state=1)\n",
    "n_records = int(np.ceil(len(df_normal)*r/(1-r)))\n",
    "\n",
    "df = df_normal.append(df[df[\"target\"]!= 'normal.'].sample(n = n_records, random_state=1))\n",
    "anomaly_rate = 1.0 - len(df.loc[df[\"target\"]=='normal.'])/len(df)\n",
    "print(f\"anomaly rate is {anomaly_rate:.1%} out of {len(df)} records ({n_records})\")\n",
    "\n",
    "df['binary_target'] = [1 if x=='normal.' else -1 for x in df[\"target\"]]\n",
    "df = df.sample(frac=1, random_state=2)\n",
    "toDecode = [\"protocol_type\", \"service\", \"flag\", \"target\"]\n",
    "leSF = preprocessing.LabelEncoder()\n",
    "for f in toDecode:\n",
    "    df[f] = leSF.fit_transform(df[f])\n",
    "\n",
    "x_train_2, x_test_2, y_train_2, y_test_2 = train_test_split(df.drop([\"target\", 'binary_target'], axis=1), df['binary_target'], test_size=0.33, random_state=0)\n",
    "results = []"
   ]
  },
  {
   "cell_type": "code",
   "execution_count": 59,
   "metadata": {},
   "outputs": [
    {
     "name": "stdout",
     "output_type": "stream",
     "text": [
      "Time for OCSVM fitting: 260.066\n",
      "Time for OCSVM prediction: 0.194\n"
     ]
    }
   ],
   "source": [
    "scoring = {'AUC': 'roc_auc', 'Precision': make_scorer(precision_score, pos_label=-1), 'F1': make_scorer(fbeta_score, labels=[-1], average='macro', beta=0.5)}\n",
    "gs = GridSearchCV(OneClassSVM(kernel=\"rbf\", gamma='scale'),\n",
    "                  param_grid={'nu': np.arange(0.01, 0.25, 0.05)},\n",
    "                  scoring=scoring, refit='F1')\n",
    "stime = time.time()\n",
    "gs.fit(X_train_sf, y_train_sf)\n",
    "print(\"Time for OCSVM fitting: %.3f\" % (time.time() - stime))\n",
    "results_svm = gs.cv_results_\n",
    "\n",
    "stime = time.time()\n",
    "y_pred = gs.predict(X_test_sf)\n",
    "print(\"Time for OCSVM prediction: %.3f\" % (time.time() - stime))"
   ]
  },
  {
   "cell_type": "code",
   "execution_count": 60,
   "metadata": {},
   "outputs": [
    {
     "name": "stdout",
     "output_type": "stream",
     "text": [
      "Time for OCSVM fitting: 2996.328\n",
      "Time for OCSVM prediction: 5.784\n"
     ]
    }
   ],
   "source": [
    "gs_sa = GridSearchCV(OneClassSVM(kernel=\"rbf\", gamma='scale'),\n",
    "                  param_grid={'nu': np.arange(0.01, 0.25, 0.05)},\n",
    "                  scoring=scoring, refit='F1')\n",
    "stime = time.time()\n",
    "gs_sa.fit(X_train_sa, y_train_sa)\n",
    "print(\"Time for OCSVM fitting: %.3f\" % (time.time() - stime))\n",
    "results_svm_sa = gs.cv_results_\n",
    "\n",
    "stime = time.time()\n",
    "y_pred = gs_sa.predict(X_test_sa)\n",
    "print(\"Time for OCSVM prediction: %.3f\" % (time.time() - stime))"
   ]
  },
  {
   "cell_type": "code",
   "execution_count": null,
   "metadata": {},
   "outputs": [],
   "source": [
    "gs_sa_poly = GridSearchCV(OneClassSVM(kernel=\"poly\"),\n",
    "                  param_grid={'nu': np.arange(0.01, 0.25, 0.05),\n",
    "                             'gamma': ['scale', 'auto'],\n",
    "                             'degree': np.array([2,3,4])},\n",
    "                  scoring=scoring, refit='F1')\n",
    "stime = time.time()\n",
    "gs_sa_poly.fit(X_train_sa, y_train_sa)\n",
    "print(\"Time for OCSVM fitting: %.3f\" % (time.time() - stime))\n",
    "results_svm_sa_poly = gs_sa_poly.cv_results_\n",
    "\n",
    "stime = time.time()\n",
    "y_pred = gs_sa_poly.predict(X_test_sa)\n",
    "print(\"Time for OCSVM prediction: %.3f\" % (time.time() - stime))"
   ]
  },
  {
   "cell_type": "code",
   "execution_count": null,
   "metadata": {},
   "outputs": [],
   "source": [
    "gs_sa_poly = GridSearchCV(OneClassSVM(kernel=\"sigmoid\", gamma='scale'),\n",
    "                  param_grid={'nu': np.arange(0.01, 0.25, 0.05)},\n",
    "                  scoring=scoring, refit='F1')\n",
    "stime = time.time()\n",
    "gs_sa_poly.fit(X_train_sa, y_train_sa)\n",
    "print(\"Time for OCSVM fitting: %.3f\" % (time.time() - stime))\n",
    "results_svm_sa_poly = gs_sa_poly.cv_results_\n",
    "\n",
    "stime = time.time()\n",
    "y_pred = gs_sa_poly.predict(X_test_sa)\n",
    "print(\"Time for OCSVM prediction: %.3f\" % (time.time() - stime))"
   ]
  },
  {
   "cell_type": "code",
   "execution_count": 68,
   "metadata": {},
   "outputs": [
    {
     "name": "stdout",
     "output_type": "stream",
     "text": [
      "Time for OCSVM fitting: 2107.779\n",
      "Time for OCSVM prediction: 1.039\n"
     ]
    }
   ],
   "source": [
    "gs_sa_1 = GridSearchCV(OneClassSVM(kernel=\"rbf\", gamma='scale'),\n",
    "                  param_grid={'nu': np.arange(0.01, 0.25, 0.05)},\n",
    "                  scoring=scoring, refit='F1')\n",
    "stime = time.time()\n",
    "gs_sa_1.fit(x_train_1, y_train_1)\n",
    "print(\"Time for OCSVM fitting: %.3f\" % (time.time() - stime))\n",
    "results_svm_sa_1 = gs_sa_1.cv_results_\n",
    "\n",
    "stime = time.time()\n",
    "y_pred = gs_sa_1.predict(x_test_1)\n",
    "print(\"Time for OCSVM prediction: %.3f\" % (time.time() - stime))"
   ]
  },
  {
   "cell_type": "code",
   "execution_count": 69,
   "metadata": {},
   "outputs": [
    {
     "name": "stdout",
     "output_type": "stream",
     "text": [
      "Time for OCSVM fitting: 12059.687\n",
      "Time for OCSVM prediction: 25.436\n"
     ]
    }
   ],
   "source": [
    "gs_sa_2 = GridSearchCV(OneClassSVM(kernel=\"rbf\", gamma='scale'),\n",
    "                  param_grid={'nu': np.arange(0.01, 0.25, 0.05)},\n",
    "                  scoring=scoring, refit='F1')\n",
    "stime = time.time()\n",
    "gs_sa_2.fit(x_train_2, y_train_2)\n",
    "print(\"Time for OCSVM fitting: %.3f\" % (time.time() - stime))\n",
    "results_svm_sa = gs_sa_2.cv_results_\n",
    "\n",
    "stime = time.time()\n",
    "y_pred = gs_sa_2.predict(x_test_2)\n",
    "print(\"Time for OCSVM prediction: %.3f\" % (time.time() - stime))"
   ]
  },
  {
   "cell_type": "code",
   "execution_count": 80,
   "metadata": {},
   "outputs": [],
   "source": [
    "fit_time = [260.066, 2996.328, 2107.779, 12059.687]"
   ]
  },
  {
   "cell_type": "code",
   "execution_count": 81,
   "metadata": {},
   "outputs": [
    {
     "name": "stderr",
     "output_type": "stream",
     "text": [
      "<ipython-input-81-68d2061ab5f3>:10: MatplotlibDeprecationWarning: Adding an axes using the same arguments as a previous axes currently reuses the earlier instance.  In a future version, a new instance will always be created and returned.  Meanwhile, this warning can be suppressed, and the future behavior ensured, by passing a unique label to each axes instance.\n",
      "  ax = plt.axes()\n"
     ]
    },
    {
     "data": {
      "image/png": "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\n",
      "text/plain": [
       "<Figure size 720x576 with 1 Axes>"
      ]
     },
     "metadata": {
      "needs_background": "light"
     },
     "output_type": "display_data"
    }
   ],
   "source": [
    "# X_axis = np.array(results_svm[\"param_nu\"].data, dtype=float)\n",
    "# print GridSearch cross-validation for parameters\n",
    "X_axis_if = np.array(results_if[\"param_contamination\"].data, dtype=float)\n",
    "plt.figure(figsize=(10,8))\n",
    "\n",
    "plt.xlabel(\"configuration\")\n",
    "plt.ylabel(\"Score\")\n",
    "plt.grid()\n",
    "\n",
    "ax = plt.axes()\n",
    "pad = 0.005\n",
    "\n",
    "colors = {'lof': 'r', 'if':'b', 'dbscan':'c', 'svm':'y'}\n",
    "scorer = 'Precision'\n",
    "\n",
    "best_index = np.nonzero(results_svm['rank_test_%s' % scorer] == 1)[0][0]\n",
    "best_score_svm = results_svm['mean_test_%s' % scorer][best_index]\n",
    "\n",
    "best_index = np.nonzero(results_svm_sa['rank_test_%s' % scorer] == 1)[0][0]\n",
    "best_score_sa = results_svm_sa['mean_test_%s' % scorer][best_index]\n",
    "\n",
    "best_index = np.nonzero(results_svm_sa_1['rank_test_%s' % scorer] == 1)[0][0]\n",
    "best_score_1 = results_svm_sa_1['mean_test_%s' % scorer][best_index]\n",
    "\n",
    "best_index = np.nonzero(results_svm_sa_2['rank_test_%s' % scorer] == 1)[0][0]\n",
    "best_score_2 = results_svm_sa_2['mean_test_%s' % scorer][best_index]\n",
    "\n",
    "Y_axis = np.array([best_score_svm, best_score_sa, best_score_1, best_score_2])\n",
    "X_axis = np.array(['c1', 'c2', 'c3', 'c4'])\n",
    "\n",
    "ax.plot(X_axis, Y_axis, '-', color=colors['svm'],label=\"%s \" % (scorer))\n",
    "plt.legend(loc=\"best\")\n",
    "plt.grid('off')\n",
    "plt.tight_layout()\n",
    "plt.savefig(\"nu.png\", dpi=100)\n",
    "\n",
    "plt.show()\n",
    "\n",
    "# for scorer, color in zip(sorted(scoring), ['b', 'k']):\n",
    "#     sample, style= ('test', '-')\n",
    "#     sample_score_mean = results_svm['mean_%s_%s' % (sample, scorer)]\n",
    "# #    sample_score_std = results_svm['std_%s_%s' % (sample, scorer)]\n",
    "    \n",
    "#     sample_score_mean_lof = results_lof['mean_%s_%s' % (sample, scorer)]\n",
    "# #    sample_score_std_lof = results_lof['std_%s_%s' % (sample, scorer)]\n",
    "    \n",
    "# #     We don't plot standard deviation    \n",
    "# #     ax.fill_between(X_axis, sample_score_mean - sample_score_std,\n",
    "# #                 sample_score_mean + sample_score_std,\n",
    "# #                 alpha=0.1 if sample == 'test' else 0, color=color)\n",
    "#     ax.plot(X_axis, sample_score_mean, style, color=color,\n",
    "#         alpha=1 if sample == 'test' else 0.7,\n",
    "#         label=\"%s (%s)\" % (scorer, sample))\n",
    "\n",
    "#     best_index = np.nonzero(results['rank_test_%s' % scorer] == 1)[0][0]\n",
    "#     best_score = results['mean_test_%s' % scorer][best_index]\n",
    "\n",
    "#     # Plot a dotted vertical line at the best score for that scorer marked by x\n",
    "#     ax.plot([X_axis[best_index], ] * 2, [0, best_score],\n",
    "#         linestyle='-.', color=color, marker='x', markeredgewidth=3, ms=8)\n",
    "\n",
    "#     # Annotate the best score for that scorer\n",
    "#     ax.annotate(\"%0.2f\" % best_score,\n",
    "#             (X_axis[best_index], best_score+pad))\n",
    "    \n",
    "# plt.legend(loc=\"best\")\n",
    "# plt.grid('off')\n",
    "# plt.tight_layout()\n",
    "# plt.savefig(\"nu.png\", dpi=100)\n",
    "\n",
    "# plt.show()"
   ]
  },
  {
   "cell_type": "markdown",
   "metadata": {},
   "source": [
    "# Archive"
   ]
  },
  {
   "cell_type": "code",
   "execution_count": 63,
   "metadata": {},
   "outputs": [
    {
     "data": {
      "text/plain": [
       "{'mean_fit_time': array([ 0.61091375,  5.07705498,  9.18493633, 13.29303331, 16.88273849]),\n",
       " 'std_fit_time': array([0.01198042, 0.12844537, 0.08549168, 0.08558367, 0.30675319]),\n",
       " 'mean_score_time': array([0.1449966 , 0.74371862, 1.3358501 , 1.94709306, 2.59730806]),\n",
       " 'std_score_time': array([0.00463848, 0.01713212, 0.01801429, 0.02144899, 0.06321599]),\n",
       " 'param_nu': masked_array(data=[0.01, 0.060000000000000005, 0.11, 0.16000000000000003,\n",
       "                    0.21000000000000002],\n",
       "              mask=[False, False, False, False, False],\n",
       "        fill_value='?',\n",
       "             dtype=object),\n",
       " 'params': [{'nu': 0.01},\n",
       "  {'nu': 0.060000000000000005},\n",
       "  {'nu': 0.11},\n",
       "  {'nu': 0.16000000000000003},\n",
       "  {'nu': 0.21000000000000002}],\n",
       " 'split0_test_AUC': array([0.94115565, 0.91135687, 0.91014531, 0.89717969, 0.93749916]),\n",
       " 'split1_test_AUC': array([0.95307346, 0.92250814, 0.91347697, 0.8959531 , 0.93966566]),\n",
       " 'split2_test_AUC': array([0.95114229, 0.92344162, 0.9168717 , 0.9012755 , 0.93832205]),\n",
       " 'split3_test_AUC': array([0.95184264, 0.92213463, 0.91759157, 0.90055923, 0.93995872]),\n",
       " 'split4_test_AUC': array([0.95169046, 0.92177507, 0.91608672, 0.89807279, 0.93711678]),\n",
       " 'mean_test_AUC': array([0.9497809 , 0.92024327, 0.91483445, 0.89860806, 0.93851247]),\n",
       " 'std_test_AUC': array([0.00435859, 0.00447774, 0.00272584, 0.00201484, 0.00113424]),\n",
       " 'rank_test_AUC': array([1, 3, 4, 5, 2], dtype=int32),\n",
       " 'split0_test_Precision': array([0.75067751, 0.06375228, 0.13298429, 0.12318841, 0.20669856]),\n",
       " 'split1_test_Precision': array([0.25373134, 0.39036755, 0.31814483, 0.10830325, 0.20676329]),\n",
       " 'split2_test_Precision': array([0.16304348, 0.40073983, 0.34516928, 0.27947598, 0.2232581 ]),\n",
       " 'split3_test_Precision': array([0.79895561, 0.40073983, 0.13901345, 0.27883397, 0.21859786]),\n",
       " 'split4_test_Precision': array([0.21      , 0.06743738, 0.34441603, 0.1132661 , 0.22042219]),\n",
       " 'mean_test_Precision': array([0.43528159, 0.26460737, 0.25594558, 0.18061354, 0.215148  ]),\n",
       " 'std_test_Precision': array([0.27912694, 0.16254137, 0.09843702, 0.08060166, 0.0070312 ]),\n",
       " 'rank_test_Precision': array([1, 2, 3, 5, 4], dtype=int32),\n",
       " 'split0_test_F1': array([0.72475144, 0.06651463, 0.14923619, 0.1427372 , 0.24559409]),\n",
       " 'split1_test_F1': array([0.12195122, 0.42956764, 0.36576239, 0.12564919, 0.24572282]),\n",
       " 'split2_test_F1': array([0.09113001, 0.43930792, 0.39441404, 0.32619776, 0.26431974]),\n",
       " 'split3_test_F1': array([0.77155825, 0.43978349, 0.15426723, 0.32529942, 0.2590285 ]),\n",
       " 'split4_test_F1': array([0.12352941, 0.06927949, 0.39284325, 0.13021762, 0.26110723]),\n",
       " 'mean_test_F1': array([0.36658407, 0.28889064, 0.29130462, 0.21002024, 0.25515448]),\n",
       " 'std_test_F1': array([0.31211654, 0.18047946, 0.11441004, 0.09465775, 0.00793477]),\n",
       " 'rank_test_F1': array([1, 3, 2, 5, 4], dtype=int32)}"
      ]
     },
     "execution_count": 63,
     "metadata": {},
     "output_type": "execute_result"
    }
   ],
   "source": [
    "results_svm"
   ]
  },
  {
   "cell_type": "code",
   "execution_count": 70,
   "metadata": {},
   "outputs": [
    {
     "data": {
      "text/plain": [
       "{'mean_fit_time': array([ 0.61091375,  5.07705498,  9.18493633, 13.29303331, 16.88273849]),\n",
       " 'std_fit_time': array([0.01198042, 0.12844537, 0.08549168, 0.08558367, 0.30675319]),\n",
       " 'mean_score_time': array([0.1449966 , 0.74371862, 1.3358501 , 1.94709306, 2.59730806]),\n",
       " 'std_score_time': array([0.00463848, 0.01713212, 0.01801429, 0.02144899, 0.06321599]),\n",
       " 'param_nu': masked_array(data=[0.01, 0.060000000000000005, 0.11, 0.16000000000000003,\n",
       "                    0.21000000000000002],\n",
       "              mask=[False, False, False, False, False],\n",
       "        fill_value='?',\n",
       "             dtype=object),\n",
       " 'params': [{'nu': 0.01},\n",
       "  {'nu': 0.060000000000000005},\n",
       "  {'nu': 0.11},\n",
       "  {'nu': 0.16000000000000003},\n",
       "  {'nu': 0.21000000000000002}],\n",
       " 'split0_test_AUC': array([0.94115565, 0.91135687, 0.91014531, 0.89717969, 0.93749916]),\n",
       " 'split1_test_AUC': array([0.95307346, 0.92250814, 0.91347697, 0.8959531 , 0.93966566]),\n",
       " 'split2_test_AUC': array([0.95114229, 0.92344162, 0.9168717 , 0.9012755 , 0.93832205]),\n",
       " 'split3_test_AUC': array([0.95184264, 0.92213463, 0.91759157, 0.90055923, 0.93995872]),\n",
       " 'split4_test_AUC': array([0.95169046, 0.92177507, 0.91608672, 0.89807279, 0.93711678]),\n",
       " 'mean_test_AUC': array([0.9497809 , 0.92024327, 0.91483445, 0.89860806, 0.93851247]),\n",
       " 'std_test_AUC': array([0.00435859, 0.00447774, 0.00272584, 0.00201484, 0.00113424]),\n",
       " 'rank_test_AUC': array([1, 3, 4, 5, 2], dtype=int32),\n",
       " 'split0_test_Precision': array([0.75067751, 0.06375228, 0.13298429, 0.12318841, 0.20669856]),\n",
       " 'split1_test_Precision': array([0.25373134, 0.39036755, 0.31814483, 0.10830325, 0.20676329]),\n",
       " 'split2_test_Precision': array([0.16304348, 0.40073983, 0.34516928, 0.27947598, 0.2232581 ]),\n",
       " 'split3_test_Precision': array([0.79895561, 0.40073983, 0.13901345, 0.27883397, 0.21859786]),\n",
       " 'split4_test_Precision': array([0.21      , 0.06743738, 0.34441603, 0.1132661 , 0.22042219]),\n",
       " 'mean_test_Precision': array([0.43528159, 0.26460737, 0.25594558, 0.18061354, 0.215148  ]),\n",
       " 'std_test_Precision': array([0.27912694, 0.16254137, 0.09843702, 0.08060166, 0.0070312 ]),\n",
       " 'rank_test_Precision': array([1, 2, 3, 5, 4], dtype=int32),\n",
       " 'split0_test_F1': array([0.72475144, 0.06651463, 0.14923619, 0.1427372 , 0.24559409]),\n",
       " 'split1_test_F1': array([0.12195122, 0.42956764, 0.36576239, 0.12564919, 0.24572282]),\n",
       " 'split2_test_F1': array([0.09113001, 0.43930792, 0.39441404, 0.32619776, 0.26431974]),\n",
       " 'split3_test_F1': array([0.77155825, 0.43978349, 0.15426723, 0.32529942, 0.2590285 ]),\n",
       " 'split4_test_F1': array([0.12352941, 0.06927949, 0.39284325, 0.13021762, 0.26110723]),\n",
       " 'mean_test_F1': array([0.36658407, 0.28889064, 0.29130462, 0.21002024, 0.25515448]),\n",
       " 'std_test_F1': array([0.31211654, 0.18047946, 0.11441004, 0.09465775, 0.00793477]),\n",
       " 'rank_test_F1': array([1, 3, 2, 5, 4], dtype=int32)}"
      ]
     },
     "execution_count": 70,
     "metadata": {},
     "output_type": "execute_result"
    }
   ],
   "source": [
    "results_svm_sa = gs.cv_results_\n",
    "results_svm_sa"
   ]
  },
  {
   "cell_type": "code",
   "execution_count": 53,
   "metadata": {},
   "outputs": [
    {
     "data": {
      "text/plain": [
       "{'mean_fit_time': array([2.36972971, 2.23002892, 2.23278694, 2.26178975, 2.20120721]),\n",
       " 'std_fit_time': array([0.35499806, 0.04266414, 0.04018767, 0.06024252, 0.02619915]),\n",
       " 'mean_score_time': array([1.02248826, 1.01561413, 1.01032758, 1.01449027, 0.98523035]),\n",
       " 'std_score_time': array([0.03878348, 0.03293335, 0.03019608, 0.08170886, 0.02489543]),\n",
       " 'param_contamination': masked_array(data=[0.01, 0.060000000000000005, 0.11, 0.16000000000000003,\n",
       "                    0.21000000000000002],\n",
       "              mask=[False, False, False, False, False],\n",
       "        fill_value='?',\n",
       "             dtype=object),\n",
       " 'params': [{'contamination': 0.01},\n",
       "  {'contamination': 0.060000000000000005},\n",
       "  {'contamination': 0.11},\n",
       "  {'contamination': 0.16000000000000003},\n",
       "  {'contamination': 0.21000000000000002}],\n",
       " 'split0_test_AUC': array([0.87293722, 0.87293722, 0.87293722, 0.87293722, 0.87293722]),\n",
       " 'split1_test_AUC': array([0.87041117, 0.87041117, 0.87041117, 0.87041117, 0.87041117]),\n",
       " 'split2_test_AUC': array([0.88079782, 0.88079782, 0.88079782, 0.88079782, 0.88079782]),\n",
       " 'split3_test_AUC': array([0.88039776, 0.88039776, 0.88039776, 0.88039776, 0.88039776]),\n",
       " 'split4_test_AUC': array([0.88277807, 0.88277807, 0.88277807, 0.88277807, 0.88277807]),\n",
       " 'mean_test_AUC': array([0.87746441, 0.87746441, 0.87746441, 0.87746441, 0.87746441]),\n",
       " 'std_test_AUC': array([0.00486199, 0.00486199, 0.00486199, 0.00486199, 0.00486199]),\n",
       " 'rank_test_AUC': array([1, 1, 1, 1, 1], dtype=int32),\n",
       " 'split0_test_Precision': array([0.32075472, 0.15923567, 0.0881095 , 0.1109778 , 0.20518868]),\n",
       " 'split1_test_Precision': array([0.36082474, 0.13932981, 0.07791017, 0.09924623, 0.20916626]),\n",
       " 'split2_test_Precision': array([0.27956989, 0.13804714, 0.08236434, 0.10892388, 0.22347741]),\n",
       " 'split3_test_Precision': array([0.28448276, 0.15397631, 0.09386973, 0.1065051 , 0.21527446]),\n",
       " 'split4_test_Precision': array([0.36893204, 0.13486842, 0.08063021, 0.10406938, 0.22015656]),\n",
       " 'mean_test_Precision': array([0.32291283, 0.14509147, 0.08457679, 0.10594448, 0.21465267]),\n",
       " 'std_test_Precision': array([0.0371893 , 0.00965742, 0.00572281, 0.00407205, 0.00675608]),\n",
       " 'rank_test_Precision': array([1, 3, 5, 4, 2], dtype=int32)}"
      ]
     },
     "execution_count": 53,
     "metadata": {},
     "output_type": "execute_result"
    }
   ],
   "source": [
    "results_if"
   ]
  },
  {
   "cell_type": "code",
   "execution_count": 71,
   "metadata": {},
   "outputs": [
    {
     "data": {
      "text/plain": [
       "{'mean_fit_time': array([  3.15310521,  42.07081943,  78.29551282, 112.87918234,\n",
       "        146.41757412]),\n",
       " 'std_fit_time': array([0.04969832, 0.3443859 , 0.5249806 , 1.44938901, 1.82195756]),\n",
       " 'mean_score_time': array([ 0.70274234,  4.20767879,  7.52159572, 10.85573292, 14.25604572]),\n",
       " 'std_score_time': array([0.03234505, 0.159796  , 0.03570407, 0.12898077, 0.12571462]),\n",
       " 'param_nu': masked_array(data=[0.01, 0.060000000000000005, 0.11, 0.16000000000000003,\n",
       "                    0.21000000000000002],\n",
       "              mask=[False, False, False, False, False],\n",
       "        fill_value='?',\n",
       "             dtype=object),\n",
       " 'params': [{'nu': 0.01},\n",
       "  {'nu': 0.060000000000000005},\n",
       "  {'nu': 0.11},\n",
       "  {'nu': 0.16000000000000003},\n",
       "  {'nu': 0.21000000000000002}],\n",
       " 'split0_test_AUC': array([0.78775349, 0.79479753, 0.80760556, 0.79655984, 0.78935081]),\n",
       " 'split1_test_AUC': array([0.78493623, 0.79004843, 0.79999716, 0.79676182, 0.78783564]),\n",
       " 'split2_test_AUC': array([0.74577745, 0.75972126, 0.76601837, 0.77492016, 0.76957091]),\n",
       " 'split3_test_AUC': array([0.77017719, 0.77735675, 0.79750651, 0.7856981 , 0.78009865]),\n",
       " 'split4_test_AUC': array([0.76416275, 0.77721264, 0.80028026, 0.79119923, 0.78337628]),\n",
       " 'mean_test_AUC': array([0.77056142, 0.77982732, 0.79428157, 0.78902783, 0.78204646]),\n",
       " 'std_test_AUC': array([0.01521537, 0.01221288, 0.01452852, 0.00814093, 0.00704372]),\n",
       " 'rank_test_AUC': array([5, 4, 1, 2, 3], dtype=int32),\n",
       " 'split0_test_Precision': array([0.1147541 , 0.05213904, 0.02708192, 0.01950523, 0.01516272]),\n",
       " 'split1_test_Precision': array([0.04531722, 0.05073281, 0.02954695, 0.0215255 , 0.01651706]),\n",
       " 'split2_test_Precision': array([0.04065041, 0.03321033, 0.01863354, 0.01322626, 0.00978679]),\n",
       " 'split3_test_Precision': array([0.06504065, 0.04252401, 0.02372394, 0.01589595, 0.01213682]),\n",
       " 'split4_test_Precision': array([0.03018109, 0.05263158, 0.02981969, 0.02076451, 0.01592472]),\n",
       " 'mean_test_Precision': array([0.05918869, 0.04624755, 0.02576121, 0.01818349, 0.01390562]),\n",
       " 'std_test_Precision': array([0.02999762, 0.00747552, 0.00418334, 0.00314276, 0.00255226]),\n",
       " 'rank_test_Precision': array([1, 2, 3, 4, 5], dtype=int32),\n",
       " 'split0_test_F1': array([0.11272142, 0.0624    , 0.0331071 , 0.02400187, 0.01872317]),\n",
       " 'split1_test_F1': array([0.05140507, 0.0610915 , 0.03613297, 0.02648854, 0.02039911]),\n",
       " 'split2_test_F1': array([0.04084967, 0.04003559, 0.02281947, 0.01630182, 0.01210654]),\n",
       " 'split3_test_F1': array([0.06430868, 0.05088641, 0.02897787, 0.01956367, 0.01499182]),\n",
       " 'split4_test_F1': array([0.03501401, 0.06282876, 0.0363053 , 0.02549247, 0.01963234]),\n",
       " 'mean_test_F1': array([0.06085977, 0.05544845, 0.03146854, 0.02236967, 0.0171706 ]),\n",
       " 'std_test_F1': array([0.02778246, 0.00886573, 0.00507633, 0.00384899, 0.00313961]),\n",
       " 'rank_test_F1': array([1, 2, 3, 4, 5], dtype=int32)}"
      ]
     },
     "execution_count": 71,
     "metadata": {},
     "output_type": "execute_result"
    }
   ],
   "source": [
    "results_svm_sa_1"
   ]
  },
  {
   "cell_type": "code",
   "execution_count": 73,
   "metadata": {},
   "outputs": [
    {
     "data": {
      "text/plain": [
       "{'mean_fit_time': array([154.23872514, 241.91987371, 485.70241013, 596.96554732,\n",
       "        670.873102  ]),\n",
       " 'std_fit_time': array([164.24436164, 100.47818039,  63.7203627 , 101.96003818,\n",
       "         18.59338774]),\n",
       " 'mean_score_time': array([ 2.8996356 , 17.1722085 , 31.82961888, 44.81605072, 59.74999189]),\n",
       " 'std_score_time': array([0.11708601, 0.27358993, 0.43767576, 1.05497233, 1.08656381]),\n",
       " 'param_nu': masked_array(data=[0.01, 0.060000000000000005, 0.11, 0.16000000000000003,\n",
       "                    0.21000000000000002],\n",
       "              mask=[False, False, False, False, False],\n",
       "        fill_value='?',\n",
       "             dtype=object),\n",
       " 'params': [{'nu': 0.01},\n",
       "  {'nu': 0.060000000000000005},\n",
       "  {'nu': 0.11},\n",
       "  {'nu': 0.16000000000000003},\n",
       "  {'nu': 0.21000000000000002}],\n",
       " 'split0_test_AUC': array([0.77804472, 0.78739991, 0.78571251, 0.79789526, 0.78842519]),\n",
       " 'split1_test_AUC': array([0.76379205, 0.77314981, 0.79521723, 0.78525999, 0.78128722]),\n",
       " 'split2_test_AUC': array([0.77350027, 0.77824086, 0.79092233, 0.7893282 , 0.78408866]),\n",
       " 'split3_test_AUC': array([0.77745612, 0.78233769, 0.79489878, 0.78817545, 0.78170407]),\n",
       " 'split4_test_AUC': array([0.78041759, 0.78268204, 0.8023077 , 0.79270626, 0.78507322]),\n",
       " 'mean_test_AUC': array([0.77464215, 0.78076206, 0.79381171, 0.79067303, 0.78411567]),\n",
       " 'std_test_AUC': array([0.00586311, 0.00478608, 0.00546415, 0.00432764, 0.00258091]),\n",
       " 'rank_test_AUC': array([5, 4, 1, 2, 3], dtype=int32),\n",
       " 'split0_test_Precision': array([0.06679574, 0.09955892, 0.0599512 , 0.04095644, 0.03124436]),\n",
       " 'split1_test_Precision': array([0.06944444, 0.07929515, 0.05150363, 0.03573108, 0.02737259]),\n",
       " 'split2_test_Precision': array([0.04983012, 0.08628461, 0.0507023 , 0.0353857 , 0.02710027]),\n",
       " 'split3_test_Precision': array([0.03221477, 0.09003021, 0.05513119, 0.03843514, 0.0293501 ]),\n",
       " 'split4_test_Precision': array([0.04972376, 0.08165829, 0.04914676, 0.03465347, 0.02604997]),\n",
       " 'mean_test_Precision': array([0.05360177, 0.08736544, 0.05328701, 0.03703237, 0.02822346]),\n",
       " 'std_test_Precision': array([0.01350363, 0.00713654, 0.00386821, 0.00234223, 0.00184958]),\n",
       " 'rank_test_Precision': array([2, 1, 3, 4, 5], dtype=int32),\n",
       " 'split0_test_F1': array([0.07362356, 0.11445958, 0.07148795, 0.0495702 , 0.03810237]),\n",
       " 'split1_test_F1': array([0.06237525, 0.09104046, 0.06138761, 0.04323094, 0.03336846]),\n",
       " 'split2_test_F1': array([0.05412054, 0.09933284, 0.06061102, 0.0428841 , 0.03307899]),\n",
       " 'split3_test_F1': array([0.03386005, 0.10370267, 0.06583122, 0.04654255, 0.03580563]),\n",
       " 'split4_test_F1': array([0.05286344, 0.09451796, 0.05887644, 0.04205527, 0.03184437]),\n",
       " 'mean_test_F1': array([0.05536857, 0.1006107 , 0.06363885, 0.04485661, 0.03443996]),\n",
       " 'std_test_F1': array([0.01305977, 0.00814488, 0.00454601, 0.00280861, 0.00223677]),\n",
       " 'rank_test_F1': array([3, 1, 2, 4, 5], dtype=int32)}"
      ]
     },
     "execution_count": 73,
     "metadata": {},
     "output_type": "execute_result"
    }
   ],
   "source": [
    "results_svm_sa_2 = gs_sa_2.cv_results_\n",
    "results_svm_sa_2"
   ]
  },
  {
   "cell_type": "markdown",
   "metadata": {},
   "source": [
    "# Gridsearch - cv for Isolation Forest"
   ]
  },
  {
   "cell_type": "code",
   "execution_count": 3,
   "metadata": {},
   "outputs": [
    {
     "name": "stdout",
     "output_type": "stream",
     "text": [
      "anomaly rate is 1.0% out of 982607 records (9827)\n"
     ]
    }
   ],
   "source": [
    "r = 0.01\n",
    "target_anomaly_rate = r\n",
    "\n",
    "df = pd.read_csv('kddcup.data', delimiter=',')\n",
    "df.columns = sa_columns + [\"target\"]\n",
    "df_normal = df[df[\"target\"]== 'normal.']\n",
    "df_normal = df_normal.sample(frac=1, random_state=1)\n",
    "n_records = int(np.ceil(len(df_normal)*r/(1-r)))\n",
    "\n",
    "df = df_normal.append(df[df[\"target\"]!= 'normal.'].sample(n = n_records, random_state=1))\n",
    "anomaly_rate = 1.0 - len(df.loc[df[\"target\"]=='normal.'])/len(df)\n",
    "print(f\"anomaly rate is {anomaly_rate:.1%} out of {len(df)} records ({n_records})\")\n",
    "\n",
    "df['binary_target'] = [1 if x=='normal.' else -1 for x in df[\"target\"]]\n",
    "df = df.sample(frac=1, random_state=2)\n",
    "toDecode = [\"protocol_type\", \"service\", \"flag\", \"target\"]\n",
    "leSF = preprocessing.LabelEncoder()\n",
    "for f in toDecode:\n",
    "    df[f] = leSF.fit_transform(df[f])\n",
    "\n",
    "x_train_1, x_test_1, y_train_1, y_test_1 = train_test_split(df.drop([\"target\", 'binary_target'], axis=1), df['binary_target'], test_size=0.33, random_state=0)\n",
    "results = []"
   ]
  },
  {
   "cell_type": "code",
   "execution_count": 7,
   "metadata": {},
   "outputs": [
    {
     "name": "stdout",
     "output_type": "stream",
     "text": [
      "Time for OCSVM fitting: 2827.709\n",
      "Time for OCSVM prediction: 19.730\n"
     ]
    }
   ],
   "source": [
    "scoring = {'AUC': 'roc_auc', 'Precision': make_scorer(precision_score, pos_label=-1), 'F1': make_scorer(fbeta_score, labels=[-1], average='macro', beta=0.5)}\n",
    "gs_if = GridSearchCV(IsolationForest(random_state = 8, n_estimators = 100, max_samples = 0.25, n_jobs = -1),\n",
    "                  param_grid={'contamination': np.arange(0.005, 0.05, 0.005)},\n",
    "                  scoring=scoring, refit='F1')\n",
    "stime = time.time()\n",
    "gs_if.fit(x_train_1, y_train_1)\n",
    "print(\"Time for OCSVM fitting: %.3f\" % (time.time() - stime))\n",
    "results_if = gs_if.cv_results_\n",
    "\n",
    "stime = time.time()\n",
    "y_pred = gs_if.predict(x_test_1)\n",
    "print(\"Time for IF prediction: %.3f\" % (time.time() - stime))"
   ]
  },
  {
   "cell_type": "code",
   "execution_count": 5,
   "metadata": {},
   "outputs": [
    {
     "name": "stdout",
     "output_type": "stream",
     "text": [
      "Time for IF fitting: 8937.886\n",
      "Time for IF prediction: 105.478\n"
     ]
    }
   ],
   "source": [
    "scoring = {'AUC': 'roc_auc', 'Precision': make_scorer(precision_score, pos_label=-1), 'F1': make_scorer(fbeta_score, labels=[-1], average='macro', beta=0.5)}\n",
    "gs_if_2 = GridSearchCV(IsolationForest(random_state = 8, n_estimators = 500, max_samples = 0.4, n_jobs = -1),\n",
    "                  param_grid={'contamination': np.arange(0.005, 0.05, 0.01)},\n",
    "                  scoring=scoring, refit='F1')\n",
    "stime = time.time()\n",
    "gs_if_2.fit(x_train_1, y_train_1)\n",
    "print(\"Time for IF fitting: %.3f\" % (time.time() - stime))\n",
    "results_if_2 = gs_if_2.cv_results_\n",
    "\n",
    "stime = time.time()\n",
    "y_pred = gs_if_2.predict(x_test_1)\n",
    "print(\"Time for IF prediction: %.3f\" % (time.time() - stime))"
   ]
  },
  {
   "cell_type": "code",
   "execution_count": 6,
   "metadata": {},
   "outputs": [
    {
     "name": "stdout",
     "output_type": "stream",
     "text": [
      "anomaly rate is 1.0% out of 491304 records (4914)\n"
     ]
    }
   ],
   "source": [
    "r = 0.01\n",
    "target_anomaly_rate = r\n",
    "\n",
    "df = pd.read_csv('kddcup.data', delimiter=',')\n",
    "df.columns = sa_columns + [\"target\"]\n",
    "df_normal = df[df[\"target\"]== 'normal.']\n",
    "df_normal = df_normal.sample(frac=0.5, random_state=1)\n",
    "n_records = int(np.ceil(len(df_normal)*r/(1-r)))\n",
    "\n",
    "df = df_normal.append(df[df[\"target\"]!= 'normal.'].sample(n = n_records, random_state=1))\n",
    "anomaly_rate = 1.0 - len(df.loc[df[\"target\"]=='normal.'])/len(df)\n",
    "print(f\"anomaly rate is {anomaly_rate:.1%} out of {len(df)} records ({n_records})\")\n",
    "\n",
    "df['binary_target'] = [1 if x=='normal.' else -1 for x in df[\"target\"]]\n",
    "df = df.sample(frac=1, random_state=2)\n",
    "toDecode = [\"protocol_type\", \"service\", \"flag\", \"target\"]\n",
    "leSF = preprocessing.LabelEncoder()\n",
    "for f in toDecode:\n",
    "    df[f] = leSF.fit_transform(df[f])\n",
    "\n",
    "x_train_2, x_test_2, y_train_2, y_test_2 = train_test_split(df.drop([\"target\", 'binary_target'], axis=1), df['binary_target'], test_size=0.33, random_state=0)\n",
    "results = []"
   ]
  },
  {
   "cell_type": "code",
   "execution_count": 7,
   "metadata": {},
   "outputs": [
    {
     "name": "stdout",
     "output_type": "stream",
     "text": [
      "anomaly rate is 1.0% out of 98261 records (983)\n"
     ]
    }
   ],
   "source": [
    "r = 0.01\n",
    "target_anomaly_rate = r\n",
    "\n",
    "df = pd.read_csv('kddcup.data', delimiter=',')\n",
    "df.columns = sa_columns + [\"target\"]\n",
    "df_normal = df[df[\"target\"]== 'normal.']\n",
    "df_normal = df_normal.sample(frac=0.1, random_state=1)\n",
    "n_records = int(np.ceil(len(df_normal)*r/(1-r)))\n",
    "\n",
    "df = df_normal.append(df[df[\"target\"]!= 'normal.'].sample(n = n_records, random_state=1))\n",
    "anomaly_rate = 1.0 - len(df.loc[df[\"target\"]=='normal.'])/len(df)\n",
    "print(f\"anomaly rate is {anomaly_rate:.1%} out of {len(df)} records ({n_records})\")\n",
    "\n",
    "df['binary_target'] = [1 if x=='normal.' else -1 for x in df[\"target\"]]\n",
    "df = df.sample(frac=1, random_state=2)\n",
    "toDecode = [\"protocol_type\", \"service\", \"flag\", \"target\"]\n",
    "leSF = preprocessing.LabelEncoder()\n",
    "for f in toDecode:\n",
    "    df[f] = leSF.fit_transform(df[f])\n",
    "\n",
    "x_train_3, x_test_3, y_train_3, y_test_3 = train_test_split(df.drop([\"target\", 'binary_target'], axis=1), df['binary_target'], test_size=0.33, random_state=0)\n",
    "results = []"
   ]
  },
  {
   "cell_type": "code",
   "execution_count": 8,
   "metadata": {},
   "outputs": [
    {
     "name": "stdout",
     "output_type": "stream",
     "text": [
      "Time for IF fitting: 6870.513\n",
      "Time for IF prediction: 47.760\n"
     ]
    }
   ],
   "source": [
    "scoring = {'AUC': 'roc_auc', 'Precision': make_scorer(precision_score, pos_label=-1), 'F1': make_scorer(fbeta_score, labels=[-1], average='macro', beta=0.5)}\n",
    "gs_if_3 = GridSearchCV(IsolationForest(random_state = 8, n_estimators = 500, max_samples = 0.4, n_jobs = -1),\n",
    "                  param_grid={'contamination': np.arange(0.005, 0.05, 0.005)},\n",
    "                  scoring=scoring, refit='F1')\n",
    "stime = time.time()\n",
    "gs_if_3.fit(x_train_2, y_train_2)\n",
    "print(\"Time for IF fitting: %.3f\" % (time.time() - stime))\n",
    "results_if_3 = gs_if_3.cv_results_\n",
    "\n",
    "stime = time.time()\n",
    "y_pred = gs_if_3.predict(x_test_2)\n",
    "print(\"Time for IF prediction: %.3f\" % (time.time() - stime))"
   ]
  },
  {
   "cell_type": "code",
   "execution_count": 9,
   "metadata": {},
   "outputs": [
    {
     "name": "stdout",
     "output_type": "stream",
     "text": [
      "Time for IF fitting: 194.835\n",
      "Time for IF prediction: 1.242\n"
     ]
    }
   ],
   "source": [
    "scoring = {'AUC': 'roc_auc', 'Precision': make_scorer(precision_score, pos_label=-1), 'F1': make_scorer(fbeta_score, labels=[-1], average='macro', beta=0.5)}\n",
    "gs_if_4 = GridSearchCV(IsolationForest(random_state = 8, n_estimators = 100, max_samples = 0.25, n_jobs = -1),\n",
    "                  param_grid={'contamination': np.arange(0.005, 0.05, 0.005)},\n",
    "                  scoring=scoring, refit='F1')\n",
    "stime = time.time()\n",
    "gs_if_4.fit(x_train_3, y_train_3)\n",
    "print(\"Time for IF fitting: %.3f\" % (time.time() - stime))\n",
    "results_if_4 = gs_if_4.cv_results_\n",
    "\n",
    "stime = time.time()\n",
    "y_pred = gs_if_4.predict(x_test_3)\n",
    "print(\"Time for IF prediction: %.3f\" % (time.time() - stime))"
   ]
  },
  {
   "cell_type": "code",
   "execution_count": null,
   "metadata": {},
   "outputs": [],
   "source": [
    "# X_axis = np.array(results_svm[\"param_nu\"].data, dtype=float)\n",
    "# print GridSearch cross-validation for parameters\n",
    "X_axis_if = np.array(results_if[\"param_contamination\"].data, dtype=float)\n",
    "plt.figure(figsize=(10,8))\n",
    "\n",
    "plt.xlabel(\"configuration\")\n",
    "plt.ylabel(\"Score\")\n",
    "plt.grid()\n",
    "\n",
    "ax = plt.axes()\n",
    "pad = 0.005\n",
    "\n",
    "colors = {'lof': 'r', 'if':'b', 'dbscan':'c', 'svm':'y'}\n",
    "scorer = 'Precision'\n",
    "\n",
    "best_index = np.nonzero(results_svm['rank_test_%s' % scorer] == 1)[0][0]\n",
    "best_score_svm = results_svm['mean_test_%s' % scorer][best_index]\n",
    "\n",
    "best_index = np.nonzero(results_svm_sa['rank_test_%s' % scorer] == 1)[0][0]\n",
    "best_score_sa = results_svm_sa['mean_test_%s' % scorer][best_index]\n",
    "\n",
    "best_index = np.nonzero(results_svm_sa_1['rank_test_%s' % scorer] == 1)[0][0]\n",
    "best_score_1 = results_svm_sa_1['mean_test_%s' % scorer][best_index]\n",
    "\n",
    "best_index = np.nonzero(results_svm_sa_2['rank_test_%s' % scorer] == 1)[0][0]\n",
    "best_score_2 = results_svm_sa_2['mean_test_%s' % scorer][best_index]\n",
    "\n",
    "Y_axis = np.array([best_score_svm, best_score_sa, best_score_1, best_score_2])\n",
    "X_axis = np.array(['c1', 'c2', 'c3', 'c4'])\n",
    "\n",
    "ax.plot(X_axis, Y_axis, '-', color=colors['svm'],label=\"%s \" % (scorer))\n",
    "plt.legend(loc=\"best\")\n",
    "plt.grid('off')\n",
    "plt.tight_layout()\n",
    "plt.savefig(\"nu.png\", dpi=100)\n",
    "\n",
    "plt.show()\n",
    "\n",
    "# for scorer, color in zip(sorted(scoring), ['b', 'k']):\n",
    "#     sample, style= ('test', '-')\n",
    "#     sample_score_mean = results_svm['mean_%s_%s' % (sample, scorer)]\n",
    "# #    sample_score_std = results_svm['std_%s_%s' % (sample, scorer)]\n",
    "    \n",
    "#     sample_score_mean_lof = results_lof['mean_%s_%s' % (sample, scorer)]\n",
    "# #    sample_score_std_lof = results_lof['std_%s_%s' % (sample, scorer)]\n",
    "    \n",
    "# #     We don't plot standard deviation    \n",
    "# #     ax.fill_between(X_axis, sample_score_mean - sample_score_std,\n",
    "# #                 sample_score_mean + sample_score_std,\n",
    "# #                 alpha=0.1 if sample == 'test' else 0, color=color)\n",
    "#     ax.plot(X_axis, sample_score_mean, style, color=color,\n",
    "#         alpha=1 if sample == 'test' else 0.7,\n",
    "#         label=\"%s (%s)\" % (scorer, sample))\n",
    "\n",
    "#     best_index = np.nonzero(results['rank_test_%s' % scorer] == 1)[0][0]\n",
    "#     best_score = results['mean_test_%s' % scorer][best_index]\n",
    "\n",
    "#     # Plot a dotted vertical line at the best score for that scorer marked by x\n",
    "#     ax.plot([X_axis[best_index], ] * 2, [0, best_score],\n",
    "#         linestyle='-.', color=color, marker='x', markeredgewidth=3, ms=8)\n",
    "\n",
    "#     # Annotate the best score for that scorer\n",
    "#     ax.annotate(\"%0.2f\" % best_score,\n",
    "#             (X_axis[best_index], best_score+pad))\n",
    "    \n",
    "# plt.legend(loc=\"best\")\n",
    "# plt.grid('off')\n",
    "# plt.tight_layout()\n",
    "# plt.savefig(\"nu.png\", dpi=100)\n",
    "\n",
    "# plt.show()"
   ]
  },
  {
   "cell_type": "code",
   "execution_count": 8,
   "metadata": {},
   "outputs": [
    {
     "data": {
      "text/plain": [
       "{'mean_fit_time': array([46.77783184, 46.68659058, 46.46211052, 46.09187679, 46.10831294,\n",
       "        46.05788155, 46.01047573, 45.96446815, 45.94876547]),\n",
       " 'std_fit_time': array([1.36089297, 0.69669117, 0.97346501, 0.89779749, 0.94491019,\n",
       "        0.87227376, 0.89019088, 0.89633083, 0.91718986]),\n",
       " 'mean_score_time': array([15.37120395, 15.49070249, 15.37002869, 15.14422588, 15.19636493,\n",
       "        15.2260787 , 15.24647198, 15.17751408, 15.12680554]),\n",
       " 'std_score_time': array([0.09654318, 0.08170173, 0.24454611, 0.09699296, 0.05072041,\n",
       "        0.11692479, 0.16588774, 0.10115135, 0.06918126]),\n",
       " 'param_contamination': masked_array(data=[0.005, 0.01, 0.015, 0.02, 0.025, 0.030000000000000002,\n",
       "                    0.034999999999999996, 0.04, 0.045],\n",
       "              mask=[False, False, False, False, False, False, False, False,\n",
       "                    False],\n",
       "        fill_value='?',\n",
       "             dtype=object),\n",
       " 'params': [{'contamination': 0.005},\n",
       "  {'contamination': 0.01},\n",
       "  {'contamination': 0.015},\n",
       "  {'contamination': 0.02},\n",
       "  {'contamination': 0.025},\n",
       "  {'contamination': 0.030000000000000002},\n",
       "  {'contamination': 0.034999999999999996},\n",
       "  {'contamination': 0.04},\n",
       "  {'contamination': 0.045}],\n",
       " 'split0_test_AUC': array([0.98966099, 0.98966099, 0.98966099, 0.98966099, 0.98966099,\n",
       "        0.98966099, 0.98966099, 0.98966099, 0.98966099]),\n",
       " 'split1_test_AUC': array([0.98955445, 0.98955445, 0.98955445, 0.98955445, 0.98955445,\n",
       "        0.98955445, 0.98955445, 0.98955445, 0.98955445]),\n",
       " 'split2_test_AUC': array([0.99120951, 0.99120951, 0.99120951, 0.99120951, 0.99120951,\n",
       "        0.99120951, 0.99120951, 0.99120951, 0.99120951]),\n",
       " 'split3_test_AUC': array([0.99152211, 0.99152211, 0.99152211, 0.99152211, 0.99152211,\n",
       "        0.99152211, 0.99152211, 0.99152211, 0.99152211]),\n",
       " 'split4_test_AUC': array([0.99095894, 0.99095894, 0.99095894, 0.99095894, 0.99095894,\n",
       "        0.99095894, 0.99095894, 0.99095894, 0.99095894]),\n",
       " 'mean_test_AUC': array([0.9905812, 0.9905812, 0.9905812, 0.9905812, 0.9905812, 0.9905812,\n",
       "        0.9905812, 0.9905812, 0.9905812]),\n",
       " 'std_test_AUC': array([0.00081532, 0.00081532, 0.00081532, 0.00081532, 0.00081532,\n",
       "        0.00081532, 0.00081532, 0.00081532, 0.00081532]),\n",
       " 'rank_test_AUC': array([1, 1, 1, 1, 1, 1, 1, 1, 1], dtype=int32),\n",
       " 'split0_test_Precision': array([0.482066  , 0.35343511, 0.32750874, 0.24578494, 0.23768116,\n",
       "        0.32829908, 0.28297055, 0.24591988, 0.21902874]),\n",
       " 'split1_test_Precision': array([0.45642541, 0.43478261, 0.33580981, 0.25326858, 0.23006447,\n",
       "        0.3319074 , 0.28649001, 0.25253686, 0.22543155]),\n",
       " 'split2_test_Precision': array([0.53753754, 0.38047974, 0.33282287, 0.25518591, 0.3996904 ,\n",
       "        0.33445596, 0.2833626 , 0.24784028, 0.22285517]),\n",
       " 'split3_test_Precision': array([0.47987118, 0.42463533, 0.32330444, 0.25845903, 0.38046117,\n",
       "        0.31795132, 0.27475898, 0.23982419, 0.21057047]),\n",
       " 'split4_test_Precision': array([0.55947137, 0.37269939, 0.33300395, 0.25443564, 0.39646918,\n",
       "        0.33274736, 0.28698289, 0.25047259, 0.22499575]),\n",
       " 'mean_test_Precision': array([0.5030743 , 0.39320644, 0.33048996, 0.25342682, 0.32887328,\n",
       "        0.32907222, 0.28291301, 0.24731876, 0.22057634]),\n",
       " 'std_test_Precision': array([0.03879226, 0.03124298, 0.00448515, 0.00419186, 0.07787781,\n",
       "        0.00591273, 0.00438298, 0.00437201, 0.00549199]),\n",
       " 'rank_test_Precision': array([1, 2, 3, 7, 5, 4, 6, 8, 9], dtype=int32),\n",
       " 'split0_test_F1': array([0.40806412, 0.35241285, 0.35114013, 0.27321949, 0.26517908,\n",
       "        0.37918216, 0.33029443, 0.28955758, 0.25954198]),\n",
       " 'split1_test_F1': array([0.38356504, 0.43716657, 0.36079183, 0.28184237, 0.25862069,\n",
       "        0.38307388, 0.33416092, 0.29691158, 0.26674486]),\n",
       " 'split2_test_F1': array([0.45259166, 0.37538763, 0.35718199, 0.28320737, 0.4542256 ,\n",
       "        0.38581077, 0.3307712 , 0.29172504, 0.26386788]),\n",
       " 'split3_test_F1': array([0.39839572, 0.42312661, 0.34835165, 0.28641128, 0.43421053,\n",
       "        0.36813058, 0.32134071, 0.28281053, 0.25003985]),\n",
       " 'split4_test_F1': array([0.47048654, 0.37150283, 0.3577115 , 0.2826944 , 0.45089498,\n",
       "        0.38399119, 0.33471429, 0.29464087, 0.26626743]),\n",
       " 'mean_test_F1': array([0.42262062, 0.3919193 , 0.35503542, 0.28147498, 0.37262618,\n",
       "        0.38003772, 0.33025631, 0.29112912, 0.2612924 ]),\n",
       " 'std_test_F1': array([0.03320688, 0.03247183, 0.00457715, 0.00440779, 0.09068543,\n",
       "        0.00633543, 0.0047932 , 0.00485372, 0.00617733]),\n",
       " 'rank_test_F1': array([1, 2, 5, 8, 4, 3, 6, 7, 9], dtype=int32)}"
      ]
     },
     "execution_count": 8,
     "metadata": {},
     "output_type": "execute_result"
    }
   ],
   "source": [
    "results_if"
   ]
  }
 ],
 "metadata": {
  "kernelspec": {
   "display_name": "Python 3",
   "language": "python",
   "name": "python3"
  },
  "language_info": {
   "codemirror_mode": {
    "name": "ipython",
    "version": 3
   },
   "file_extension": ".py",
   "mimetype": "text/x-python",
   "name": "python",
   "nbconvert_exporter": "python",
   "pygments_lexer": "ipython3",
   "version": "3.8.5"
  }
 },
 "nbformat": 4,
 "nbformat_minor": 4
}
