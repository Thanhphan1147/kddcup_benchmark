{
 "cells": [
  {
   "cell_type": "code",
   "execution_count": 2,
   "metadata": {},
   "outputs": [],
   "source": [
    "from sklearn import datasets\n",
    "from sklearn import preprocessing\n",
    "from sklearn.model_selection import train_test_split\n",
    "\n",
    "from sklearn.ensemble import IsolationForest\n",
    "from sklearn.neighbors import LocalOutlierFactor\n",
    "from sklearn import svm\n",
    "from sklearn.neighbors import NearestNeighbors\n",
    "from sklearn.neighbors import KNeighborsClassifier\n",
    "from sklearn.cluster import KMeans\n",
    "from sklearn.svm import OneClassSVM\n",
    "from sklearn.cluster import DBSCAN\n",
    "\n",
    "from sklearn import metrics\n",
    "from sklearn.preprocessing import StandardScaler\n",
    "\n",
    "from sklearn.metrics import classification_report\n",
    "from sklearn.metrics import confusion_matrix\n",
    "# from sklearn.metrics import plot_confusion_matrix\n",
    "from sklearn.metrics import recall_score\n",
    "from sklearn.metrics import roc_auc_score\n",
    "from sklearn.model_selection import GridSearchCV\n",
    "from sklearn.metrics import make_scorer\n",
    "from sklearn.metrics import accuracy_score\n",
    "\n",
    "import pandas as pd\n",
    "import numpy as np\n",
    "import itertools\n",
    "import matplotlib.pyplot as plt\n",
    "import datetime\n",
    "\n",
    "%matplotlib inline\n",
    "\n",
    "\n",
    "def byte_decoder(val):\n",
    "    # decodes byte literals to strings\n",
    "    \n",
    "    return val.decode('utf-8')\n",
    "\n",
    "def plot_confusion_matrix(cm, title, classes=['abnormal', 'normal'],\n",
    "                          cmap=plt.cm.Blues):\n",
    "    \n",
    "    cm = cm.astype('float') / cm.sum(axis=1)[:, np.newaxis]\n",
    "    \n",
    "    plt.imshow(cm, interpolation='nearest', cmap=cmap)\n",
    "    plt.title(title)\n",
    "    plt.colorbar()\n",
    "    tick_marks = np.arange(len(classes))\n",
    "    plt.xticks(tick_marks, classes, rotation=90)\n",
    "    plt.yticks(tick_marks, classes)\n",
    "\n",
    "    fmt = '.1%'\n",
    "    thresh = cm.max() / 2.\n",
    "    for i, j in itertools.product(range(cm.shape[0]), range(cm.shape[1])):\n",
    "        plt.text(j, i, format(cm[i, j], fmt),\n",
    "                 horizontalalignment=\"center\",\n",
    "                 color=\"white\" if cm[i, j] > thresh else \"black\")\n",
    "\n",
    "    plt.tight_layout()\n",
    "    plt.ylabel('True label')\n",
    "    plt.xlabel('Predicted label')\n",
    "\n",
    "def time(expr):\n",
    "    start = datetime.datetime.now()\n",
    "    code = eval(expr)\n",
    "    end = datetime.datetime.now()\n",
    "    return (end-start, code)\n",
    "\n",
    "sa_columns = [\"duration\",\"protocol_type\",\"service\",\"flag\",\"src_bytes\",\"dst_bytes\",\"land\",\"wrong_fragment\",\n",
    "                           \"urgent\",\"hot\",\"num_failed_logins\",\"logged_in\",\"num_compromised\",\"root_shell\",\"su_attempted\",\n",
    "                           \"num_root\",\"num_file_creations\",\"num_shells\",\"num_access_files\",\"num_outbound_cmds\",\"is_host_login\",\n",
    "                           \"is_guest_login\",\"count\",\"srv_count\",\"serror_rate\",\"srv_serror_rate\",\"rerror_rate\",\"srv_rerror_rate\",\n",
    "                           \"same_srv_rate\",\"diff_srv_rate\",\"srv_diff_host_rate\",\"dst_host_count\",\"dst_host_srv_count\",\n",
    "                           \"dst_host_same_srv_rate\",\"dst_host_diff_srv_rate\",\"dst_host_same_src_port_rate\",\n",
    "                           \"dst_host_srv_diff_host_rate\",\"dst_host_serror_rate\",\"dst_host_srv_serror_rate\",\n",
    "                           \"dst_host_rerror_rate\",\"dst_host_srv_rerror_rate\"]\n",
    "sf_columns = [\"duration\", \"service\", \"src_bytes\", \"dst_bytes\"]"
   ]
  },
  {
   "cell_type": "markdown",
   "metadata": {},
   "source": [
    "# GridsearchCV Isolation Forest"
   ]
  },
  {
   "cell_type": "code",
   "execution_count": 3,
   "metadata": {},
   "outputs": [
    {
     "name": "stdout",
     "output_type": "stream",
     "text": [
      "SF anomaly rate is 0.5%\n"
     ]
    }
   ],
   "source": [
    "sf = datasets.fetch_kddcup99(subset='SF',percent10 = False, random_state=0)\n",
    "dfsf = pd.DataFrame(sf.data, columns=sf_columns)\n",
    "dfsf[\"target\"]=sf.target\n",
    "anomaly_rate_sf = 1.0 - len(dfsf.loc[dfsf[\"target\"]==b'normal.'])/len(dfsf)\n",
    "print(f\"SF anomaly rate is {anomaly_rate_sf:.1%}\")\n",
    "\n",
    "dfsf['binary_target'] = [1 if x==b'normal.' else -1 for x in dfsf[\"target\"]]\n",
    "toDecodeSF = [\"service\", \"target\"]    \n",
    "leSF = preprocessing.LabelEncoder()\n",
    "for f in toDecodeSF:\n",
    "    dfsf[f] = list(map(byte_decoder, dfsf[f]))\n",
    "    dfsf[f] = leSF.fit_transform(dfsf[f])\n",
    "\n",
    "X_train_sf, X_test_sf, y_train_sf, y_test_sf = train_test_split(dfsf.drop([\"target\", 'binary_target'], axis=1), dfsf['binary_target'], test_size=0.33, random_state=0)"
   ]
  },
  {
   "cell_type": "code",
   "execution_count": 4,
   "metadata": {},
   "outputs": [
    {
     "name": "stderr",
     "output_type": "stream",
     "text": [
      "/home/ubuntu/anaconda3/lib/python3.7/site-packages/sklearn/model_selection/_split.py:2053: FutureWarning: You should specify a value for 'cv' instead of relying on the default value. The default value will change from 3 to 5 in version 0.22.\n",
      "  warnings.warn(CV_WARNING, FutureWarning)\n"
     ]
    },
    {
     "data": {
      "text/plain": [
       "{'contamination': 0.15}"
      ]
     },
     "execution_count": 4,
     "metadata": {},
     "output_type": "execute_result"
    }
   ],
   "source": [
    "parameters = {'contamination':[0.05, 0.1, 0.15, 0.2, 0.25]}\n",
    "samples = {'max_samples': [0.1, 0.15, 0.20, 0.25]}\n",
    "\n",
    "scoring = {'AUC': 'roc_auc', 'Recall': make_scorer(recall_score, pos_label=-1)}\n",
    "\n",
    "If = GridSearchCV(IsolationForest(behaviour='new', random_state=75, max_samples=0.25, n_jobs=-1, n_estimators=100), param_grid = parameters, scoring = scoring, refit=\"Recall\")\n",
    "If.fit(X_train_sf, y_train_sf)\n",
    "If.best_params_"
   ]
  },
  {
   "cell_type": "code",
   "execution_count": 6,
   "metadata": {},
   "outputs": [
    {
     "name": "stderr",
     "output_type": "stream",
     "text": [
      "/home/ubuntu/anaconda3/lib/python3.7/site-packages/sklearn/model_selection/_split.py:2053: FutureWarning: You should specify a value for 'cv' instead of relying on the default value. The default value will change from 3 to 5 in version 0.22.\n",
      "  warnings.warn(CV_WARNING, FutureWarning)\n"
     ]
    },
    {
     "data": {
      "text/plain": [
       "{'max_samples': 0.1}"
      ]
     },
     "execution_count": 6,
     "metadata": {},
     "output_type": "execute_result"
    }
   ],
   "source": [
    "If_max_samples = GridSearchCV(IsolationForest(behaviour='new', random_state=75,contamination=If.best_params_['contamination'], n_jobs=-1, n_estimators=100), param_grid = samples, scoring = scoring, refit=\"Recall\")\n",
    "If_max_samples.fit(X_train_sf, y_train_sf)\n",
    "If_max_samples.best_params_"
   ]
  },
  {
   "cell_type": "code",
   "execution_count": 7,
   "metadata": {},
   "outputs": [
    {
     "name": "stderr",
     "output_type": "stream",
     "text": [
      "/home/ubuntu/anaconda3/lib/python3.7/site-packages/sklearn/ensemble/iforest.py:223: FutureWarning: behaviour=\"old\" is deprecated and will be removed in version 0.22. Please use behaviour=\"new\", which makes the decision_function change to match other anomaly detection algorithm API.\n",
      "  FutureWarning)\n",
      "/home/ubuntu/anaconda3/lib/python3.7/site-packages/sklearn/ensemble/iforest.py:417: DeprecationWarning: threshold_ attribute is deprecated in 0.20 and will be removed in 0.22.\n",
      "  \" be removed in 0.22.\", DeprecationWarning)\n"
     ]
    },
    {
     "name": "stdout",
     "output_type": "stream",
     "text": [
      "trainning done in 0:00:35.630327\n",
      "              precision    recall  f1-score   support\n",
      "\n",
      "      oulier       0.03      1.00      0.06      1101\n",
      "      inlier       1.00      0.85      0.92    230912\n",
      "\n",
      "   micro avg       0.85      0.85      0.85    232013\n",
      "   macro avg       0.52      0.93      0.49    232013\n",
      "weighted avg       1.00      0.85      0.92    232013\n",
      "\n",
      "AUC: 92.7%\n"
     ]
    },
    {
     "data": {
      "image/png": "[encoded data removed]",
      "text/plain": [
       "<Figure size 432x288 with 2 Axes>"
      ]
     },
     "metadata": {
      "needs_background": "light"
     },
     "output_type": "display_data"
    }
   ],
   "source": [
    "oIf = IsolationForest(random_state=1, n_jobs=-1, contamination=If.best_params_['contamination'], max_samples=If_max_samples.best_params_['max_samples'], n_estimators=100)\n",
    "start = datetime.datetime.now()\n",
    "y_pred = oIf.fit(X_train_sf).predict(X_test_sf)\n",
    "fit_time = datetime.datetime.now() - start\n",
    "print(f\"trainning done in {fit_time}\")\n",
    "print(classification_report(y_test_sf, y_pred, target_names=['oulier', 'inlier']))\n",
    "print(f\"AUC: {roc_auc_score(y_test_sf, y_pred):.1%}\")\n",
    "cm = confusion_matrix(y_test_sf, y_pred)\n",
    "plot_confusion_matrix(cm, \"confusion matrix for optimized IF\")"
   ]
  },
  {
   "cell_type": "code",
   "execution_count": 8,
   "metadata": {},
   "outputs": [
    {
     "name": "stderr",
     "output_type": "stream",
     "text": [
      "/home/ubuntu/anaconda3/lib/python3.7/site-packages/pandas/core/ops.py:1649: FutureWarning: elementwise comparison failed; returning scalar instead, but in the future will perform elementwise comparison\n",
      "  result = method(y)\n"
     ]
    }
   ],
   "source": [
    "sf10p = datasets.fetch_kddcup99(subset='SF', random_state=0, percent10=True)\n",
    "dfsf10p = pd.DataFrame(sf10p.data, columns=sf_columns)\n",
    "dfsf10p[\"target\"]=sf10p.target\n",
    "anomaly_rate_sf = 1.0 - len(dfsf10p.loc[dfsf[\"target\"]==b'normal.'])/len(dfsf)\n",
    "f\"SF anomaly rate is {anomaly_rate_sf:.1%}\"\n",
    "\n",
    "dfsf10p['binary_target'] = [1 if x==b'normal.' else -1 for x in dfsf10p[\"target\"]]\n",
    "toDecodeSF = [\"service\", \"target\"]    \n",
    "leSF = preprocessing.LabelEncoder()\n",
    "for f in toDecodeSF:\n",
    "    dfsf10p[f] = list(map(byte_decoder, dfsf10p[f]))\n",
    "    dfsf10p[f] = leSF.fit_transform(dfsf10p[f])\n",
    "\n",
    "X_train_sf10p, X_test_sf10p, y_train_sf10p, y_test_sf10p = train_test_split(dfsf10p.drop([\"target\", 'binary_target'], axis=1), dfsf10p['binary_target'], test_size=0.25, random_state=0)"
   ]
  },
  {
   "cell_type": "code",
   "execution_count": 9,
   "metadata": {},
   "outputs": [
    {
     "name": "stderr",
     "output_type": "stream",
     "text": [
      "/home/ubuntu/anaconda3/lib/python3.7/site-packages/sklearn/model_selection/_split.py:2053: FutureWarning: You should specify a value for 'cv' instead of relying on the default value. The default value will change from 3 to 5 in version 0.22.\n",
      "  warnings.warn(CV_WARNING, FutureWarning)\n"
     ]
    },
    {
     "data": {
      "text/plain": [
       "{'contamination': 0.05}"
      ]
     },
     "execution_count": 9,
     "metadata": {},
     "output_type": "execute_result"
    }
   ],
   "source": [
    "parameters = {'contamination':[0.05, 0.1, 0.15, 0.2, 0.25]}\n",
    "scoring = {'AUC': 'roc_auc', 'Recall': make_scorer(recall_score, pos_label=-1)}\n",
    "\n",
    "If10p = GridSearchCV(IsolationForest(random_state=1, n_jobs=-1, behaviour=\"new\", max_samples=0.25, n_estimators=100), param_grid = parameters, scoring = \"roc_auc\", refit=\"Recall\")\n",
    "If10p.fit(X_train_sf10p, y_train_sf10p)\n",
    "If10p.best_params_"
   ]
  },
  {
   "cell_type": "code",
   "execution_count": null,
   "metadata": {},
   "outputs": [
    {
     "name": "stderr",
     "output_type": "stream",
     "text": [
      "/home/ubuntu/anaconda3/lib/python3.7/site-packages/sklearn/model_selection/_split.py:2053: FutureWarning: You should specify a value for 'cv' instead of relying on the default value. The default value will change from 3 to 5 in version 0.22.\n",
      "  warnings.warn(CV_WARNING, FutureWarning)\n"
     ]
    }
   ],
   "source": [
    "If_max_samples10p = GridSearchCV(IsolationForest(behaviour='new', random_state=75,contamination=If10p.best_params_['contamination'], n_jobs=-1, n_estimators=100), param_grid = samples, scoring = scoring, refit=\"Recall\")\n",
    "If_max_samples10p.fit(X_train_sf, y_train_sf)\n",
    "If_max_samples10p.best_params_"
   ]
  },
  {
   "cell_type": "code",
   "execution_count": null,
   "metadata": {},
   "outputs": [],
   "source": [
    "oIf10p = IsolationForest(random_state=1, n_jobs=-1, behaviour=\"new\", contamination=If10p.best_params_['contamination'], max_samples=If_max_samples10p.best_params_['max_samples'], n_estimators=100)\n",
    "start = datetime.datetime.now()\n",
    "y_pred10p = oIf10p.fit(X_train_sf).predict(X_test_sf)\n",
    "fit_time = datetime.datetime.now() - start\n",
    "print(f\"trainning done in {fit_time}\")\n",
    "print(f\"AUC: {roc_auc_score(y_test_sf10p, y_pred10p)}\")\n",
    "cm = confusion_matrix(y_test_sf10p, y_pred10p)\n",
    "plot_confusion_matrix(cm, \"confusion matrix for optimized IF\")"
   ]
  },
  {
   "cell_type": "code",
   "execution_count": null,
   "metadata": {},
   "outputs": [],
   "source": [
    "parameters = {'contamination':[0.1, 0.11, 0.12, 0.13, 0.14, 0.15]}\n",
    "\n",
    "scoring = {'AUC': 'roc_auc', 'Recall': make_scorer(recall_score, pos_label=-1), 'Accuracy': 'accuracy'}\n",
    "\n",
    "If = GridSearchCV(IsolationForest(behaviour='new', random_state=75, max_samples=0.1, n_jobs=-1, n_estimators=100), param_grid = parameters, scoring = scoring, refit=\"Accuracy\")\n",
    "If.fit(X_train_sf, y_train_sf)\n",
    "If.best_params_"
   ]
  },
  {
   "cell_type": "code",
   "execution_count": null,
   "metadata": {},
   "outputs": [],
   "source": []
  }
 ],
 "metadata": {
  "kernelspec": {
   "display_name": "Python 3",
   "language": "python",
   "name": "python3"
  },
  "language_info": {
   "codemirror_mode": {
    "name": "ipython",
    "version": 3
   },
   "file_extension": ".py",
   "mimetype": "text/x-python",
   "name": "python",
   "nbconvert_exporter": "python",
   "pygments_lexer": "ipython3",
   "version": "3.7.3"
  }
 },
 "nbformat": 4,
 "nbformat_minor": 2
}
