{
 "cells": [
  {
   "cell_type": "code",
   "execution_count": 1,
   "metadata": {},
   "outputs": [],
   "source": [
    "from imports import *"
   ]
  },
  {
   "cell_type": "code",
   "execution_count": 2,
   "metadata": {},
   "outputs": [],
   "source": [
    "from sklearn.metrics import precision_score\n",
    "from sklearn.metrics import fbeta_score\n",
    "import time"
   ]
  },
  {
   "cell_type": "code",
   "execution_count": null,
   "metadata": {},
   "outputs": [],
   "source": [
    "def TP(y_pred, y_test):\n",
    "    yp = np.array(y_pred)\n",
    "    yt = np.array(y_test)\n",
    "\n",
    "    prediction = yp[np.where(yt == -1)]\n",
    "    p, r, f, s = precision_recall_fscore_support(y_test, y_pred, labels=[-1])\n",
    "    \n",
    "    tp = len(yp[np.where(prediction == -1)])\n",
    "    return tp\n",
    "    \n",
    "def FP(y_pred, y_test):\n",
    "    yp = np.array(y_pred)\n",
    "    yt = np.array(y_test)\n",
    "\n",
    "    prediction = yp[np.where(yt == -1)]\n",
    "    p, r, f, s = precision_recall_fscore_support(y_test, y_pred, labels=[-1])\n",
    "    \n",
    "    tp = len(yp[np.where(prediction == -1)])\n",
    "    # fp through formula\n",
    "    fp = tp / p - tp\n",
    "    return fp\n",
    "\n",
    "scoring = {'AUC': 'roc_auc', \n",
    "           'Precision': make_scorer(precision_score, pos_label=-1), \n",
    "           'F1': make_scorer(fbeta_score, labels=[-1], average='macro', beta=0.5),\n",
    "           'Precision_1': make_scorer(precision_score, pos_label=1),\n",
    "           'TP': make_scorer(TP, greater_is_better = True),\n",
    "           'FP': make_scorer(FP, greater_is_better = False)}"
   ]
  },
  {
   "cell_type": "markdown",
   "metadata": {},
   "source": [
    "# Gridsearch - cv for Isolation Forest"
   ]
  },
  {
   "cell_type": "code",
   "execution_count": 3,
   "metadata": {},
   "outputs": [
    {
     "name": "stdout",
     "output_type": "stream",
     "text": [
      "SA anomaly rate is 3.4%\n"
     ]
    }
   ],
   "source": [
    "sa = datasets.fetch_kddcup99(subset='SA', percent10=True, random_state=0)\n",
    "dfsa = pd.DataFrame(sa.data, columns=sa_columns)\n",
    "dfsa[\"target\"]=sa.target\n",
    "anomaly_rate =  1.0 - len(dfsa.loc[dfsa[\"target\"]==b'normal.'])/len(dfsa)\n",
    "print(f\"SA anomaly rate is {anomaly_rate:.1%}\")\n",
    "\n",
    "dfsa['binary_target'] = [1 if x==b'normal.' else -1 for x in dfsa[\"target\"]]\n",
    "toDecodeSA = [\"protocol_type\", \"service\", \"flag\", \"target\"]\n",
    "le = preprocessing.LabelEncoder()\n",
    "for f in toDecodeSA:\n",
    "    dfsa[f] = list(map(byte_decoder, dfsa[f]))\n",
    "    dfsa[f] = le.fit_transform(dfsa[f])\n",
    "\n",
    "X_train_sa, X_test_sa, y_train_sa, y_test_sa = train_test_split(dfsa.drop([\"target\", 'binary_target'], axis=1), dfsa['binary_target'], test_size=0.25, random_state=0)"
   ]
  },
  {
   "cell_type": "code",
   "execution_count": 4,
   "metadata": {},
   "outputs": [
    {
     "name": "stdout",
     "output_type": "stream",
     "text": [
      "Time for OCSVM fitting: 400.836\n",
      "Time for IF prediction: 2.043\n"
     ]
    }
   ],
   "source": [
    "scoring = {'AUC': 'roc_auc', 'Precision': make_scorer(precision_score, pos_label=-1), 'F1': make_scorer(fbeta_score, labels=[-1], average='macro', beta=0.5)}\n",
    "gs_if = GridSearchCV(IsolationForest(random_state = 8, n_estimators = 100, max_samples = 0.25, n_jobs = -1),\n",
    "                  param_grid={'contamination': np.arange(0.005, 0.05, 0.005)},\n",
    "                  scoring=scoring, refit='F1')\n",
    "stime = time.time()\n",
    "gs_if.fit(X_train_sa, y_train_sa)\n",
    "print(\"Time for IF fitting: %.3f\" % (time.time() - stime))\n",
    "results_if = gs_if.cv_results_\n",
    "\n",
    "stime = time.time()\n",
    "y_pred = gs_if.predict(X_test_sa)\n",
    "print(\"Time for IF prediction: %.3f\" % (time.time() - stime))"
   ]
  },
  {
   "cell_type": "code",
   "execution_count": 27,
   "metadata": {},
   "outputs": [
    {
     "name": "stdout",
     "output_type": "stream",
     "text": [
      "Time for IF fitting: 14.116\n"
     ]
    }
   ],
   "source": [
    "stime = time.time()\n",
    "y_pred_not_tuned = IsolationForest(random_state = 8, n_estimators = 100, contamination = 0.034 ,max_samples = 0.25, n_jobs = -1).fit(X_train_sa).predict(X_test_sa)\n",
    "print(\"Time for IF fitting: %.3f\" % (time.time() - stime))\n",
    "f1_not_tuned = fbeta_score(y_test_sa, y_pred_not_tuned, labels=[-1], average='macro', beta=0.5) "
   ]
  },
  {
   "cell_type": "code",
   "execution_count": 5,
   "metadata": {},
   "outputs": [
    {
     "name": "stdout",
     "output_type": "stream",
     "text": [
      "anomaly rate is 1.0% out of 98261 records (983)\n"
     ]
    }
   ],
   "source": [
    "r = 0.01\n",
    "target_anomaly_rate = r\n",
    "\n",
    "df = pd.read_csv('kddcup.data', delimiter=',')\n",
    "df.columns = sa_columns + [\"target\"]\n",
    "df_normal = df[df[\"target\"]== 'normal.']\n",
    "df_normal = df_normal.sample(frac=0.1, random_state=1)\n",
    "n_records = int(np.ceil(len(df_normal)*r/(1-r)))\n",
    "\n",
    "df = df_normal.append(df[df[\"target\"]!= 'normal.'].sample(n = n_records, random_state=1))\n",
    "anomaly_rate = 1.0 - len(df.loc[df[\"target\"]=='normal.'])/len(df)\n",
    "print(f\"anomaly rate is {anomaly_rate:.1%} out of {len(df)} records ({n_records})\")\n",
    "\n",
    "df['binary_target'] = [1 if x=='normal.' else -1 for x in df[\"target\"]]\n",
    "df = df.sample(frac=1, random_state=2)\n",
    "toDecode = [\"protocol_type\", \"service\", \"flag\", \"target\"]\n",
    "leSF = preprocessing.LabelEncoder()\n",
    "for f in toDecode:\n",
    "    df[f] = leSF.fit_transform(df[f])\n",
    "\n",
    "x_train, x_test, y_train, y_test = train_test_split(df.drop([\"target\", 'binary_target'], axis=1), df['binary_target'], test_size=0.33, random_state=0)\n",
    "results = []"
   ]
  },
  {
   "cell_type": "code",
   "execution_count": 7,
   "metadata": {},
   "outputs": [
    {
     "name": "stdout",
     "output_type": "stream",
     "text": [
      "Time for OCSVM fitting: 335.672\n",
      "Time for IF prediction: 2.524\n"
     ]
    }
   ],
   "source": [
    "scoring = {'AUC': 'roc_auc', 'Precision': make_scorer(precision_score, pos_label=-1), 'F1': make_scorer(fbeta_score, labels=[-1], average='macro', beta=0.5)}\n",
    "gs_if_1 = GridSearchCV(IsolationForest(random_state = 8, n_estimators = 100, max_samples = 0.25, n_jobs = -1),\n",
    "                  param_grid={'contamination': np.arange(0.005, 0.05, 0.005)},\n",
    "                  scoring=scoring, refit='F1')\n",
    "stime = time.time()\n",
    "gs_if_1.fit(x_train, y_train)\n",
    "print(\"Time for OCSVM fitting: %.3f\" % (time.time() - stime))\n",
    "results_if_1 = gs_if_1.cv_results_\n",
    "\n",
    "stime = time.time()\n",
    "y_pred = gs_if_1.predict(x_test)\n",
    "print(\"Time for IF prediction: %.3f\" % (time.time() - stime))"
   ]
  },
  {
   "cell_type": "code",
   "execution_count": 28,
   "metadata": {},
   "outputs": [
    {
     "name": "stdout",
     "output_type": "stream",
     "text": [
      "Time for IF fitting: 13.256\n"
     ]
    }
   ],
   "source": [
    "stime = time.time()\n",
    "y_pred_not_tuned = IsolationForest(random_state = 8, n_estimators = 100, contamination = 0.01 ,max_samples = 0.25, n_jobs = -1).fit(x_train).predict(x_test)\n",
    "print(\"Time for IF fitting: %.3f\" % (time.time() - stime))\n",
    "f1_not_tuned_1 = fbeta_score(y_test, y_pred_not_tuned, labels=[-1], average='macro', beta=0.5) "
   ]
  },
  {
   "cell_type": "code",
   "execution_count": 8,
   "metadata": {},
   "outputs": [
    {
     "name": "stdout",
     "output_type": "stream",
     "text": [
      "Time for OCSVM fitting: 1617.573\n",
      "Time for IF prediction: 15.097\n"
     ]
    }
   ],
   "source": [
    "scoring = {'AUC': 'roc_auc', 'Precision': make_scorer(precision_score, pos_label=-1), 'F1': make_scorer(fbeta_score, labels=[-1], average='macro', beta=0.5)}\n",
    "gs_if_2 = GridSearchCV(IsolationForest(random_state = 8, n_estimators = 500, max_samples = 0.25, n_jobs = -1),\n",
    "                  param_grid={'contamination': np.arange(0.005, 0.05, 0.005)},\n",
    "                  scoring=scoring, refit='F1')\n",
    "stime = time.time()\n",
    "gs_if_2.fit(x_train, y_train)\n",
    "print(\"Time for IF fitting: %.3f\" % (time.time() - stime))\n",
    "results_if_2 = gs_if_2.cv_results_\n",
    "\n",
    "stime = time.time()\n",
    "y_pred = gs_if_2.predict(x_test)\n",
    "print(\"Time for IF prediction: %.3f\" % (time.time() - stime))"
   ]
  },
  {
   "cell_type": "code",
   "execution_count": 29,
   "metadata": {},
   "outputs": [],
   "source": [
    "y_pred_not_tuned = IsolationForest(random_state = 8, n_estimators = 500, contamination = 0.01 ,max_samples = 0.25, n_jobs = -1).fit(x_train).predict(x_test)\n",
    "f1_not_tuned_2 = fbeta_score(y_test, y_pred_not_tuned, labels=[-1], average='macro', beta=0.5) "
   ]
  },
  {
   "cell_type": "code",
   "execution_count": 9,
   "metadata": {},
   "outputs": [
    {
     "name": "stdout",
     "output_type": "stream",
     "text": [
      "Time for OCSVM fitting: 3230.039\n",
      "Time for IF prediction: 29.958\n"
     ]
    }
   ],
   "source": [
    "\n",
    "gs_if_3 = GridSearchCV(IsolationForest(random_state = 8, n_estimators = 1000, max_samples = 0.25, n_jobs = -1),\n",
    "                  param_grid={'contamination': np.arange(0.005, 0.05, 0.005)},\n",
    "                  scoring=scoring, refit='F1')\n",
    "stime = time.time()\n",
    "gs_if_3.fit(x_train, y_train)\n",
    "print(\"Time for OCSVM fitting: %.3f\" % (time.time() - stime))\n",
    "results_if_3 = gs_if_3.cv_results_\n",
    "\n",
    "stime = time.time()\n",
    "y_pred = gs_if_3.predict(x_test)\n",
    "print(\"Time for IF prediction: %.3f\" % (time.time() - stime))"
   ]
  },
  {
   "cell_type": "code",
   "execution_count": 30,
   "metadata": {},
   "outputs": [],
   "source": [
    "y_pred_not_tuned = IsolationForest(random_state = 8, n_estimators = 1000, contamination = 0.01 ,max_samples = 0.25, n_jobs = -1).fit(x_train).predict(x_test)\n",
    "f1_not_tuned_3 = fbeta_score(y_test, y_pred_not_tuned, labels=[-1], average='macro', beta=0.5) "
   ]
  },
  {
   "cell_type": "code",
   "execution_count": 31,
   "metadata": {},
   "outputs": [
    {
     "name": "stderr",
     "output_type": "stream",
     "text": [
      "<ipython-input-31-75fa62880c04>:10: MatplotlibDeprecationWarning: Adding an axes using the same arguments as a previous axes currently reuses the earlier instance.  In a future version, a new instance will always be created and returned.  Meanwhile, this warning can be suppressed, and the future behavior ensured, by passing a unique label to each axes instance.\n",
      "  ax = plt.axes()\n"
     ]
    },
    {
     "data": {
      "image/png": "[encoded data removed]",
      "text/plain": [
       "<Figure size 720x576 with 1 Axes>"
      ]
     },
     "metadata": {
      "needs_background": "light"
     },
     "output_type": "display_data"
    }
   ],
   "source": [
    "# X_axis = np.array(results_svm[\"param_nu\"].data, dtype=float)\n",
    "# print GridSearch cross-validation for parameters\n",
    "X_axis_if = np.array(results_if[\"param_contamination\"].data, dtype=float)\n",
    "plt.figure(figsize=(10,8))\n",
    "\n",
    "plt.xlabel(\"configuration\")\n",
    "plt.ylabel(\"Score\")\n",
    "plt.grid()\n",
    "\n",
    "ax = plt.axes()\n",
    "pad = 0.005\n",
    "\n",
    "colors = {'lof': 'r', 'if':'b', 'dbscan':'c', 'svm':'y'}\n",
    "scorer = 'F1'\n",
    "\n",
    "best_index = np.nonzero(results_if['rank_test_%s' % scorer] == 1)[0][0]\n",
    "best_score = results_if['mean_test_%s' % scorer][best_index]\n",
    "best_param = results_if['params'][best_index]\n",
    "\n",
    "best_index = np.nonzero(results_if_1['rank_test_%s' % scorer] == 1)[0][0]\n",
    "best_score_1 = results_if_1['mean_test_%s' % scorer][best_index]\n",
    "best_param_1 = results_if_1['params'][best_index]\n",
    "\n",
    "best_index = np.nonzero(results_if_2['rank_test_%s' % scorer] == 1)[0][0]\n",
    "best_score_2 = results_if_2['mean_test_%s' % scorer][best_index]\n",
    "best_param_2 = results_if_2['params'][best_index]\n",
    "\n",
    "best_index = np.nonzero(results_if_3['rank_test_%s' % scorer] == 1)[0][0]\n",
    "best_score_3 = results_if_3['mean_test_%s' % scorer][best_index]\n",
    "best_param_3 = results_if_3['params'][best_index]\n",
    "\n",
    "Y_axis = np.array([best_score, best_score_1, best_score_2, best_score_3])\n",
    "Y_axis_not_tuned = np.array([f1_not_tuned, f1_not_tuned_1, f1_not_tuned_2, f1_not_tuned_3])\n",
    "X_axis = np.array([f\"1-{best_param}\", f\"2-{best_param_1}\", f\"3-{best_param_2}\", f\"4-{best_param_3}\"])\n",
    "\n",
    "ax.plot(X_axis, Y_axis, '-', color=colors['if'],label=\"%s \" % (scorer))\n",
    "ax.plot(X_axis, Y_axis_not_tuned, '-', color=colors['svm'],label=\"%s not tuned\" % (scorer))\n",
    "plt.legend(loc=\"best\")\n",
    "plt.grid('off')\n",
    "plt.tight_layout()\n",
    "plt.savefig(\"contamination.png\", dpi=100)\n",
    "\n",
    "plt.show()\n"
   ]
  },
  {
   "cell_type": "code",
   "execution_count": null,
   "metadata": {},
   "outputs": [],
   "source": []
  },
  {
   "cell_type": "markdown",
   "metadata": {},
   "source": [
    "## Archive"
   ]
  },
  {
   "cell_type": "code",
   "execution_count": 10,
   "metadata": {},
   "outputs": [
    {
     "data": {
      "text/plain": [
       "{'mean_fit_time': array([6.21555524, 5.77661214, 5.95518894, 6.19180145, 6.08735819,\n",
       "        6.14506054, 6.21053281, 5.84242525, 5.89293857]),\n",
       " 'std_fit_time': array([0.60381184, 0.08732966, 0.46662113, 0.45817326, 0.32295941,\n",
       "        0.42638088, 0.32233241, 0.4282788 , 0.41282265]),\n",
       " 'mean_score_time': array([2.66141915, 2.51375799, 2.53874798, 2.89526315, 2.61636267,\n",
       "        2.61370153, 2.72671041, 2.74505868, 2.78359818]),\n",
       " 'std_score_time': array([0.25419216, 0.056611  , 0.17544882, 0.27049189, 0.07448752,\n",
       "        0.26343074, 0.24308007, 0.21713803, 0.22577689]),\n",
       " 'param_contamination': masked_array(data=[0.005, 0.01, 0.015, 0.02, 0.025, 0.030000000000000002,\n",
       "                    0.034999999999999996, 0.04, 0.045],\n",
       "              mask=[False, False, False, False, False, False, False, False,\n",
       "                    False],\n",
       "        fill_value='?',\n",
       "             dtype=object),\n",
       " 'params': [{'contamination': 0.005},\n",
       "  {'contamination': 0.01},\n",
       "  {'contamination': 0.015},\n",
       "  {'contamination': 0.02},\n",
       "  {'contamination': 0.025},\n",
       "  {'contamination': 0.030000000000000002},\n",
       "  {'contamination': 0.034999999999999996},\n",
       "  {'contamination': 0.04},\n",
       "  {'contamination': 0.045}],\n",
       " 'split0_test_AUC': array([0.95831246, 0.95831246, 0.95831246, 0.95831246, 0.95831246,\n",
       "        0.95831246, 0.95831246, 0.95831246, 0.95831246]),\n",
       " 'split1_test_AUC': array([0.95503183, 0.95503183, 0.95503183, 0.95503183, 0.95503183,\n",
       "        0.95503183, 0.95503183, 0.95503183, 0.95503183]),\n",
       " 'split2_test_AUC': array([0.95279836, 0.95279836, 0.95279836, 0.95279836, 0.95279836,\n",
       "        0.95279836, 0.95279836, 0.95279836, 0.95279836]),\n",
       " 'split3_test_AUC': array([0.95265141, 0.95265141, 0.95265141, 0.95265141, 0.95265141,\n",
       "        0.95265141, 0.95265141, 0.95265141, 0.95265141]),\n",
       " 'split4_test_AUC': array([0.97278306, 0.97278306, 0.97278306, 0.97278306, 0.97278306,\n",
       "        0.97278306, 0.97278306, 0.97278306, 0.97278306]),\n",
       " 'mean_test_AUC': array([0.95831542, 0.95831542, 0.95831542, 0.95831542, 0.95831542,\n",
       "        0.95831542, 0.95831542, 0.95831542, 0.95831542]),\n",
       " 'std_test_AUC': array([0.00751816, 0.00751816, 0.00751816, 0.00751816, 0.00751816,\n",
       "        0.00751816, 0.00751816, 0.00751816, 0.00751816]),\n",
       " 'rank_test_AUC': array([1, 1, 1, 1, 1, 1, 1, 1, 1], dtype=int32),\n",
       " 'split0_test_Precision': array([0.825     , 0.76047904, 0.71814672, 0.58823529, 0.52183908,\n",
       "        0.45967742, 0.3986014 , 0.37936772, 0.38128492]),\n",
       " 'split1_test_Precision': array([0.74683544, 0.73333333, 0.66826923, 0.51624549, 0.43304843,\n",
       "        0.38388626, 0.34693878, 0.3074141 , 0.26604069]),\n",
       " 'split2_test_Precision': array([0.54285714, 0.56834532, 0.56018519, 0.48780488, 0.45      ,\n",
       "        0.37556561, 0.31028037, 0.27740864, 0.30708661]),\n",
       " 'split3_test_Precision': array([0.55223881, 0.62237762, 0.61463415, 0.48398577, 0.45114943,\n",
       "        0.3724605 , 0.32108317, 0.27946128, 0.2462908 ]),\n",
       " 'split4_test_Precision': array([0.73611111, 0.7       , 0.6473029 , 0.5751634 , 0.48979592,\n",
       "        0.42290749, 0.46168224, 0.45512821, 0.41581259]),\n",
       " 'mean_test_Precision': array([0.6806085 , 0.67690706, 0.64170764, 0.53028696, 0.46916657,\n",
       "        0.40289945, 0.36771719, 0.33975599, 0.32330312]),\n",
       " 'std_test_Precision': array([0.11293331, 0.07135908, 0.05283681, 0.04362934, 0.03223805,\n",
       "        0.03364292, 0.05601558, 0.06848135, 0.06541063]),\n",
       " 'rank_test_Precision': array([1, 2, 3, 4, 5, 6, 7, 8, 9], dtype=int32),\n",
       " 'split0_test_F1': array([0.37457435, 0.51668023, 0.58234189, 0.52056221, 0.4932638 ,\n",
       "        0.44793713, 0.4001404 , 0.38448567, 0.39854015]),\n",
       " 'split1_test_F1': array([0.37675607, 0.51546392, 0.53502694, 0.45396825, 0.40619989,\n",
       "        0.37587007, 0.35022662, 0.31728257, 0.28117764]),\n",
       " 'split2_test_F1': array([0.24453024, 0.37511871, 0.44452608, 0.42553191, 0.41817243,\n",
       "        0.36644592, 0.31475161, 0.28743546, 0.3210405 ]),\n",
       " 'split3_test_F1': array([0.25482094, 0.43203883, 0.49295775, 0.42983565, 0.42432432,\n",
       "        0.36995516, 0.32858274, 0.29287227, 0.26315789]),\n",
       " 'split4_test_F1': array([0.31812725, 0.47257384, 0.51689861, 0.49745619, 0.45433034,\n",
       "        0.40660737, 0.45996276, 0.46695166, 0.43332316]),\n",
       " 'mean_test_F1': array([0.31376177, 0.46237511, 0.51435025, 0.46547084, 0.43925816,\n",
       "        0.39336313, 0.37073282, 0.34980552, 0.33944787]),\n",
       " 'std_test_F1': array([0.05648457, 0.05367579, 0.04558495, 0.03756439, 0.03131854,\n",
       "        0.03076429, 0.05321244, 0.06799278, 0.06611941]),\n",
       " 'rank_test_F1': array([9, 3, 1, 2, 4, 5, 6, 7, 8], dtype=int32)}"
      ]
     },
     "execution_count": 10,
     "metadata": {},
     "output_type": "execute_result"
    }
   ],
   "source": [
    "results_if"
   ]
  },
  {
   "cell_type": "code",
   "execution_count": 11,
   "metadata": {},
   "outputs": [
    {
     "data": {
      "text/plain": [
       "{'mean_fit_time': array([5.54624696, 4.78931022, 4.95135288, 5.0274086 , 5.22425542,\n",
       "        4.97471795, 4.89164462, 5.206355  , 4.89924297]),\n",
       " 'std_fit_time': array([0.72005267, 0.08548646, 0.05900054, 0.4468235 , 0.47714769,\n",
       "        0.34250453, 0.38810539, 0.27953558, 0.29640239]),\n",
       " 'mean_score_time': array([2.29723072, 2.13414845, 2.21209617, 2.29829369, 2.39871373,\n",
       "        2.22686644, 2.27099638, 2.28763256, 2.1953187 ]),\n",
       " 'std_score_time': array([0.17112037, 0.05027567, 0.11903623, 0.28867631, 0.28192272,\n",
       "        0.21980232, 0.28003769, 0.27482119, 0.19561075]),\n",
       " 'param_contamination': masked_array(data=[0.005, 0.01, 0.015, 0.02, 0.025, 0.030000000000000002,\n",
       "                    0.034999999999999996, 0.04, 0.045],\n",
       "              mask=[False, False, False, False, False, False, False, False,\n",
       "                    False],\n",
       "        fill_value='?',\n",
       "             dtype=object),\n",
       " 'params': [{'contamination': 0.005},\n",
       "  {'contamination': 0.01},\n",
       "  {'contamination': 0.015},\n",
       "  {'contamination': 0.02},\n",
       "  {'contamination': 0.025},\n",
       "  {'contamination': 0.030000000000000002},\n",
       "  {'contamination': 0.034999999999999996},\n",
       "  {'contamination': 0.04},\n",
       "  {'contamination': 0.045}],\n",
       " 'split0_test_AUC': array([0.98390617, 0.98390617, 0.98390617, 0.98390617, 0.98390617,\n",
       "        0.98390617, 0.98390617, 0.98390617, 0.98390617]),\n",
       " 'split1_test_AUC': array([0.98413535, 0.98413535, 0.98413535, 0.98413535, 0.98413535,\n",
       "        0.98413535, 0.98413535, 0.98413535, 0.98413535]),\n",
       " 'split2_test_AUC': array([0.98508597, 0.98508597, 0.98508597, 0.98508597, 0.98508597,\n",
       "        0.98508597, 0.98508597, 0.98508597, 0.98508597]),\n",
       " 'split3_test_AUC': array([0.98785351, 0.98785351, 0.98785351, 0.98785351, 0.98785351,\n",
       "        0.98785351, 0.98785351, 0.98785351, 0.98785351]),\n",
       " 'split4_test_AUC': array([0.98818922, 0.98818922, 0.98818922, 0.98818922, 0.98818922,\n",
       "        0.98818922, 0.98818922, 0.98818922, 0.98818922]),\n",
       " 'mean_test_AUC': array([0.98583404, 0.98583404, 0.98583404, 0.98583404, 0.98583404,\n",
       "        0.98583404, 0.98583404, 0.98583404, 0.98583404]),\n",
       " 'std_test_AUC': array([0.00183232, 0.00183232, 0.00183232, 0.00183232, 0.00183232,\n",
       "        0.00183232, 0.00183232, 0.00183232, 0.00183232]),\n",
       " 'rank_test_AUC': array([1, 1, 1, 1, 1, 1, 1, 1, 1], dtype=int32),\n",
       " 'split0_test_Precision': array([0.61538462, 0.40677966, 0.3715847 , 0.27419355, 0.21383648,\n",
       "        0.1748072 , 0.15212528, 0.1487965 , 0.23292469]),\n",
       " 'split1_test_Precision': array([0.58441558, 0.34375   , 0.30252101, 0.23701299, 0.19109948,\n",
       "        0.16937355, 0.15631692, 0.24236984, 0.21915584]),\n",
       " 'split2_test_Precision': array([0.57446809, 0.33333333, 0.29651163, 0.20731707, 0.1629393 ,\n",
       "        0.14206128, 0.26785714, 0.23300971, 0.21052632]),\n",
       " 'split3_test_Precision': array([0.53225806, 0.31851852, 0.30653266, 0.2421875 , 0.19496855,\n",
       "        0.19135802, 0.28077754, 0.2443609 , 0.221843  ]),\n",
       " 'split4_test_Precision': array([0.59722222, 0.384     , 0.34482759, 0.26315789, 0.21671827,\n",
       "        0.37019231, 0.31818182, 0.27598566, 0.24367089]),\n",
       " 'mean_test_Precision': array([0.58074971, 0.3572763 , 0.32439552, 0.2447738 , 0.19591241,\n",
       "        0.20955847, 0.23505174, 0.22890452, 0.22562415]),\n",
       " 'std_test_Precision': array([0.02783975, 0.03293366, 0.02904953, 0.02312324, 0.01931547,\n",
       "        0.08186921, 0.06804943, 0.04259342, 0.01151576]),\n",
       " 'rank_test_Precision': array([1, 2, 3, 4, 9, 8, 5, 6, 7], dtype=int32),\n",
       " 'split0_test_F1': array([0.50890585, 0.39669421, 0.39306358, 0.30222222, 0.24199288,\n",
       "        0.20130255, 0.17699115, 0.17338093, 0.27513446]),\n",
       " 'split1_test_F1': array([0.50790068, 0.35483871, 0.33118675, 0.26700805, 0.21948286,\n",
       "        0.19634212, 0.18222666, 0.28565383, 0.25971528]),\n",
       " 'split2_test_F1': array([0.43831169, 0.32407407, 0.31559406, 0.23097826, 0.18586006,\n",
       "        0.16388175, 0.31380753, 0.27522936, 0.25      ]),\n",
       " 'split3_test_F1': array([0.43650794, 0.32089552, 0.32937365, 0.26863085, 0.2211127 ,\n",
       "        0.2173913 , 0.32795156, 0.28786537, 0.26273242]),\n",
       " 'split4_test_F1': array([0.48642534, 0.36697248, 0.36231884, 0.28735632, 0.24204703,\n",
       "        0.42354235, 0.36842105, 0.32271584, 0.28709918]),\n",
       " 'mean_test_F1': array([0.4756103 , 0.352695  , 0.34630738, 0.27123914, 0.22209911,\n",
       "        0.24049201, 0.27387959, 0.26896907, 0.26693627]),\n",
       " 'std_test_F1': array([0.03221307, 0.02819481, 0.02793278, 0.02393892, 0.02056584,\n",
       "        0.0931614 , 0.07904902, 0.05039931, 0.01288725]),\n",
       " 'rank_test_F1': array([1, 2, 3, 5, 9, 8, 4, 6, 7], dtype=int32)}"
      ]
     },
     "execution_count": 11,
     "metadata": {},
     "output_type": "execute_result"
    }
   ],
   "source": [
    "results_if_1"
   ]
  },
  {
   "cell_type": "code",
   "execution_count": 12,
   "metadata": {},
   "outputs": [
    {
     "data": {
      "text/plain": [
       "{'mean_fit_time': array([24.31703992, 23.216957  , 24.1506587 , 24.69542909, 23.57292929,\n",
       "        24.09752197, 24.16185451, 23.43724122, 24.41055369]),\n",
       " 'std_fit_time': array([0.79751815, 0.55757141, 0.9760791 , 1.75896369, 1.54284222,\n",
       "        1.43959983, 0.67923485, 0.85166922, 1.03591614]),\n",
       " 'mean_score_time': array([11.30978208, 10.6352777 , 11.61853366, 11.91336746, 11.47628174,\n",
       "        11.20442705, 10.9214447 , 11.3750761 , 10.44719672]),\n",
       " 'std_score_time': array([0.93648512, 0.33901763, 1.45881979, 0.71136804, 1.01590535,\n",
       "        1.39775789, 0.80280347, 1.18651469, 0.47040681]),\n",
       " 'param_contamination': masked_array(data=[0.005, 0.01, 0.015, 0.02, 0.025, 0.030000000000000002,\n",
       "                    0.034999999999999996, 0.04, 0.045],\n",
       "              mask=[False, False, False, False, False, False, False, False,\n",
       "                    False],\n",
       "        fill_value='?',\n",
       "             dtype=object),\n",
       " 'params': [{'contamination': 0.005},\n",
       "  {'contamination': 0.01},\n",
       "  {'contamination': 0.015},\n",
       "  {'contamination': 0.02},\n",
       "  {'contamination': 0.025},\n",
       "  {'contamination': 0.030000000000000002},\n",
       "  {'contamination': 0.034999999999999996},\n",
       "  {'contamination': 0.04},\n",
       "  {'contamination': 0.045}],\n",
       " 'split0_test_AUC': array([0.98522834, 0.98522834, 0.98522834, 0.98522834, 0.98522834,\n",
       "        0.98522834, 0.98522834, 0.98522834, 0.98522834]),\n",
       " 'split1_test_AUC': array([0.98288543, 0.98288543, 0.98288543, 0.98288543, 0.98288543,\n",
       "        0.98288543, 0.98288543, 0.98288543, 0.98288543]),\n",
       " 'split2_test_AUC': array([0.98298715, 0.98298715, 0.98298715, 0.98298715, 0.98298715,\n",
       "        0.98298715, 0.98298715, 0.98298715, 0.98298715]),\n",
       " 'split3_test_AUC': array([0.98506735, 0.98506735, 0.98506735, 0.98506735, 0.98506735,\n",
       "        0.98506735, 0.98506735, 0.98506735, 0.98506735]),\n",
       " 'split4_test_AUC': array([0.98505625, 0.98505625, 0.98505625, 0.98505625, 0.98505625,\n",
       "        0.98505625, 0.98505625, 0.98505625, 0.98505625]),\n",
       " 'mean_test_AUC': array([0.98424491, 0.98424491, 0.98424491, 0.98424491, 0.98424491,\n",
       "        0.98424491, 0.98424491, 0.98424491, 0.98424491]),\n",
       " 'std_test_AUC': array([0.0010707, 0.0010707, 0.0010707, 0.0010707, 0.0010707, 0.0010707,\n",
       "        0.0010707, 0.0010707, 0.0010707]),\n",
       " 'rank_test_AUC': array([1, 1, 1, 1, 1, 1, 1, 1, 1], dtype=int32),\n",
       " 'split0_test_Precision': array([0.57971014, 0.38888889, 0.36756757, 0.26984127, 0.20606061,\n",
       "        0.1721519 , 0.16037736, 0.26546906, 0.23539823]),\n",
       " 'split1_test_Precision': array([0.53571429, 0.33333333, 0.29875519, 0.23529412, 0.1967655 ,\n",
       "        0.16937355, 0.14807302, 0.24236984, 0.22425249]),\n",
       " 'split2_test_Precision': array([0.57446809, 0.35714286, 0.32075472, 0.20731707, 0.15987461,\n",
       "        0.13821138, 0.12623762, 0.23575639, 0.20654045]),\n",
       " 'split3_test_Precision': array([0.55932203, 0.31617647, 0.30808081, 0.24031008, 0.19135802,\n",
       "        0.15938303, 0.27600849, 0.23941068, 0.21775544]),\n",
       " 'split4_test_Precision': array([0.58108108, 0.375     , 0.34146341, 0.26717557, 0.21148036,\n",
       "        0.17721519, 0.31950207, 0.27402135, 0.24137931]),\n",
       " 'mean_test_Precision': array([0.56605913, 0.35410831, 0.32732434, 0.24398762, 0.19310782,\n",
       "        0.16326701, 0.20603971, 0.25140546, 0.22506518]),\n",
       " 'std_test_Precision': array([0.01702303, 0.02655479, 0.02469454, 0.02297791, 0.01803448,\n",
       "        0.01381052, 0.07691931, 0.01536017, 0.01241113]),\n",
       " 'rank_test_Precision': array([1, 2, 3, 5, 8, 9, 7, 4, 6], dtype=int32),\n",
       " 'split0_test_F1': array([0.48899756, 0.38461538, 0.38946163, 0.29798422, 0.23399862,\n",
       "        0.19848219, 0.18589393, 0.3111839 , 0.27789386]),\n",
       " 'split1_test_F1': array([0.47770701, 0.34591195, 0.32757052, 0.26490066, 0.22544781,\n",
       "        0.19634212, 0.17323208, 0.28565383, 0.26543453]),\n",
       " 'split2_test_F1': array([0.43831169, 0.34179688, 0.33730159, 0.23097826, 0.18266476,\n",
       "        0.15977444, 0.1468894 , 0.27829314, 0.24549918]),\n",
       " 'split3_test_F1': array([0.45081967, 0.3189911 , 0.3308026 , 0.26678141, 0.2173913 ,\n",
       "        0.18386714, 0.32274081, 0.28236316, 0.25814138]),\n",
       " 'split4_test_F1': array([0.47777778, 0.36036036, 0.35934292, 0.29118136, 0.2368065 ,\n",
       "        0.20184544, 0.3698367 , 0.32056619, 0.28455285]),\n",
       " 'mean_test_F1': array([0.46672274, 0.35033513, 0.34889585, 0.27036518, 0.2192618 ,\n",
       "        0.18806227, 0.23971859, 0.29561205, 0.26630436]),\n",
       " 'std_test_F1': array([0.01896908, 0.02168205, 0.023114  , 0.0236227 , 0.01952485,\n",
       "        0.0153942 , 0.08917199, 0.0169696 , 0.01391093]),\n",
       " 'rank_test_F1': array([1, 2, 3, 5, 8, 9, 7, 4, 6], dtype=int32)}"
      ]
     },
     "execution_count": 12,
     "metadata": {},
     "output_type": "execute_result"
    }
   ],
   "source": [
    "results_if_2"
   ]
  },
  {
   "cell_type": "code",
   "execution_count": 13,
   "metadata": {},
   "outputs": [
    {
     "data": {
      "text/plain": [
       "{'mean_fit_time': array([47.31434169, 45.97796268, 48.00057578, 47.1546936 , 47.62843785,\n",
       "        48.24247708, 49.17009764, 49.09654984, 46.28782687]),\n",
       " 'std_fit_time': array([1.24401669, 0.82261936, 2.20239155, 2.55197371, 1.07577365,\n",
       "        2.32573154, 1.47841788, 2.86741506, 1.08468606]),\n",
       " 'mean_score_time': array([21.52650146, 21.91144209, 23.1245595 , 23.04074917, 21.54013433,\n",
       "        23.23153219, 24.00194645, 23.22636113, 22.74216194]),\n",
       " 'std_score_time': array([1.20731601, 1.52392491, 1.76930535, 1.33748878, 0.98767619,\n",
       "        1.60100884, 1.66941748, 1.98731715, 2.03405259]),\n",
       " 'param_contamination': masked_array(data=[0.005, 0.01, 0.015, 0.02, 0.025, 0.030000000000000002,\n",
       "                    0.034999999999999996, 0.04, 0.045],\n",
       "              mask=[False, False, False, False, False, False, False, False,\n",
       "                    False],\n",
       "        fill_value='?',\n",
       "             dtype=object),\n",
       " 'params': [{'contamination': 0.005},\n",
       "  {'contamination': 0.01},\n",
       "  {'contamination': 0.015},\n",
       "  {'contamination': 0.02},\n",
       "  {'contamination': 0.025},\n",
       "  {'contamination': 0.030000000000000002},\n",
       "  {'contamination': 0.034999999999999996},\n",
       "  {'contamination': 0.04},\n",
       "  {'contamination': 0.045}],\n",
       " 'split0_test_AUC': array([0.98466475, 0.98466475, 0.98466475, 0.98466475, 0.98466475,\n",
       "        0.98466475, 0.98466475, 0.98466475, 0.98466475]),\n",
       " 'split1_test_AUC': array([0.98400803, 0.98400803, 0.98400803, 0.98400803, 0.98400803,\n",
       "        0.98400803, 0.98400803, 0.98400803, 0.98400803]),\n",
       " 'split2_test_AUC': array([0.98329373, 0.98329373, 0.98329373, 0.98329373, 0.98329373,\n",
       "        0.98329373, 0.98329373, 0.98329373, 0.98329373]),\n",
       " 'split3_test_AUC': array([0.9861837, 0.9861837, 0.9861837, 0.9861837, 0.9861837, 0.9861837,\n",
       "        0.9861837, 0.9861837, 0.9861837]),\n",
       " 'split4_test_AUC': array([0.98508919, 0.98508919, 0.98508919, 0.98508919, 0.98508919,\n",
       "        0.98508919, 0.98508919, 0.98508919, 0.98508919]),\n",
       " 'mean_test_AUC': array([0.98464788, 0.98464788, 0.98464788, 0.98464788, 0.98464788,\n",
       "        0.98464788, 0.98464788, 0.98464788, 0.98464788]),\n",
       " 'std_test_AUC': array([0.00097948, 0.00097948, 0.00097948, 0.00097948, 0.00097948,\n",
       "        0.00097948, 0.00097948, 0.00097948, 0.00097948]),\n",
       " 'rank_test_AUC': array([1, 1, 1, 1, 1, 1, 1, 1, 1], dtype=int32),\n",
       " 'split0_test_Precision': array([0.57971014, 0.38888889, 0.36956522, 0.26666667, 0.20668693,\n",
       "        0.17171717, 0.15525114, 0.26129666, 0.2305026 ]),\n",
       " 'split1_test_Precision': array([0.52941176, 0.33742331, 0.29875519, 0.23322684, 0.19414894,\n",
       "        0.16859122, 0.15565032, 0.24770642, 0.2238806 ]),\n",
       " 'split2_test_Precision': array([0.58695652, 0.33333333, 0.32278481, 0.20987654, 0.16398714,\n",
       "        0.13972603, 0.1281407 , 0.234375  , 0.20797227]),\n",
       " 'split3_test_Precision': array([0.53225806, 0.32089552, 0.31282051, 0.24701195, 0.19375   ,\n",
       "        0.16986301, 0.28077754, 0.23853211, 0.22298456]),\n",
       " 'split4_test_Precision': array([0.57333333, 0.36923077, 0.34825871, 0.25735294, 0.21148036,\n",
       "        0.17766497, 0.31428571, 0.27304965, 0.24483307]),\n",
       " 'mean_test_Precision': array([0.56033397, 0.34995437, 0.33043689, 0.24282699, 0.19401067,\n",
       "        0.16551248, 0.20682108, 0.25099197, 0.22603462]),\n",
       " 'std_test_Precision': array([0.02448518, 0.0251602 , 0.02538214, 0.01987331, 0.01653709,\n",
       "        0.01326294, 0.07548074, 0.01438676, 0.01194601]),\n",
       " 'rank_test_Precision': array([1, 2, 3, 5, 8, 9, 7, 4, 6], dtype=int32),\n",
       " 'split0_test_F1': array([0.48899756, 0.38461538, 0.39125432, 0.29488291, 0.23464458,\n",
       "        0.1980198 , 0.18037135, 0.3065929 , 0.27242933]),\n",
       " 'split1_test_F1': array([0.47368421, 0.34942821, 0.32757052, 0.26315789, 0.22269677,\n",
       "        0.1955008 , 0.18150174, 0.29157667, 0.26501767]),\n",
       " 'split2_test_F1': array([0.44407895, 0.32407407, 0.33909574, 0.23351648, 0.18695015,\n",
       "        0.16139241, 0.1489486 , 0.27675277, 0.24711697]),\n",
       " 'split3_test_F1': array([0.43650794, 0.32282282, 0.33516484, 0.27336861, 0.21985816,\n",
       "        0.19496855, 0.32795156, 0.28138528, 0.264013  ]),\n",
       " 'split4_test_F1': array([0.47356828, 0.35608309, 0.36534447, 0.28180354, 0.2368065 ,\n",
       "        0.20231214, 0.36423841, 0.31950207, 0.28838951]),\n",
       " 'mean_test_F1': array([0.46336739, 0.34740472, 0.35168598, 0.26934589, 0.22019123,\n",
       "        0.19043874, 0.24060233, 0.29516194, 0.2673933 ]),\n",
       " 'std_test_F1': array([0.01980341, 0.02285883, 0.02351691, 0.02071498, 0.01786799,\n",
       "        0.01475319, 0.08767762, 0.01590382, 0.01337462]),\n",
       " 'rank_test_F1': array([1, 3, 2, 5, 8, 9, 7, 4, 6], dtype=int32)}"
      ]
     },
     "execution_count": 13,
     "metadata": {},
     "output_type": "execute_result"
    }
   ],
   "source": [
    "results_if_3"
   ]
  },
  {
   "cell_type": "markdown",
   "metadata": {},
   "source": [
    "# Preprocessing\n",
    "Load the dataset. IF is then run on samples of the dataset with different anomaly rates."
   ]
  },
  {
   "cell_type": "code",
   "execution_count": 19,
   "metadata": {},
   "outputs": [
    {
     "name": "stdout",
     "output_type": "stream",
     "text": [
      "SF anomaly rate is 4.5%\n"
     ]
    }
   ],
   "source": [
    "sf = datasets.fetch_kddcup99(subset='SF', percent10=True, random_state=0)\n",
    "dfsf = pd.DataFrame(sf.data, columns=sf_columns)\n",
    "dfsf[\"target\"]=sf.target\n",
    "anomaly_rate_sf = 1.0 - len(dfsf.loc[dfsf[\"target\"]==b'normal.'])/len(dfsf)\n",
    "print(f\"SF anomaly rate is {anomaly_rate_sf:.1%}\")\n",
    "\n",
    "dfsf['binary_target'] = [1 if x==b'normal.' else -1 for x in dfsf[\"target\"]]\n",
    "toDecodeSF = [\"service\", \"target\"]    \n",
    "leSF = preprocessing.LabelEncoder()\n",
    "for f in toDecodeSF:\n",
    "    dfsf[f] = list(map(byte_decoder, dfsf[f]))\n",
    "    dfsf[f] = leSF.fit_transform(dfsf[f])\n",
    "\n",
    "dfsf_normed = preprocessing.normalize(dfsf.drop([\"target\", 'binary_target'], axis=1))\n",
    "\n",
    "X_train_sf, X_test_sf, y_train_sf, y_test_sf = train_test_split(dfsf.drop([\"target\", 'binary_target'], axis=1), dfsf['binary_target'], test_size=0.33, random_state=0)\n",
    "X_train_nd, X_test_nd, y_train_nd, y_test_nd = train_test_split(dfsf_normed, dfsf['binary_target'], test_size=0.33, random_state=0)"
   ]
  },
  {
   "cell_type": "code",
   "execution_count": 55,
   "metadata": {},
   "outputs": [
    {
     "name": "stdout",
     "output_type": "stream",
     "text": [
      "SA anomaly rate is 3.4%\n"
     ]
    }
   ],
   "source": [
    "sa = datasets.fetch_kddcup99(subset='SA', percent10=True, random_state=0)\n",
    "dfsa = pd.DataFrame(sa.data, columns=sa_columns)\n",
    "dfsa[\"target\"]=sa.target\n",
    "anomaly_rate =  1.0 - len(dfsa.loc[dfsa[\"target\"]==b'normal.'])/len(dfsa)\n",
    "print(f\"SA anomaly rate is {anomaly_rate:.1%}\")\n",
    "\n",
    "dfsa['binary_target'] = [1 if x==b'normal.' else -1 for x in dfsa[\"target\"]]\n",
    "toDecodeSA = [\"protocol_type\", \"service\", \"flag\", \"target\"]\n",
    "le = preprocessing.LabelEncoder()\n",
    "for f in toDecodeSA:\n",
    "    dfsa[f] = list(map(byte_decoder, dfsa[f]))\n",
    "    dfsa[f] = le.fit_transform(dfsa[f])\n",
    "\n",
    "X_train_sa, X_test_sa, y_train_sa, y_test_sa = train_test_split(dfsa.drop([\"target\", 'binary_target'], axis=1), dfsa['binary_target'], test_size=0.25, random_state=0)"
   ]
  },
  {
   "cell_type": "code",
   "execution_count": 65,
   "metadata": {},
   "outputs": [
    {
     "name": "stdout",
     "output_type": "stream",
     "text": [
      "anomaly rate is 1.0% out of 98261 records (983)\n"
     ]
    }
   ],
   "source": [
    "r = 0.01\n",
    "target_anomaly_rate = r\n",
    "\n",
    "df = pd.read_csv('kddcup.data', delimiter=',')\n",
    "df.columns = sa_columns + [\"target\"]\n",
    "df_normal = df[df[\"target\"]== 'normal.']\n",
    "df_normal = df_normal.sample(frac=0.1, random_state=1)\n",
    "n_records = int(np.ceil(len(df_normal)*r/(1-r)))\n",
    "\n",
    "df = df_normal.append(df[df[\"target\"]!= 'normal.'].sample(n = n_records, random_state=1))\n",
    "anomaly_rate = 1.0 - len(df.loc[df[\"target\"]=='normal.'])/len(df)\n",
    "print(f\"anomaly rate is {anomaly_rate:.1%} out of {len(df)} records ({n_records})\")\n",
    "\n",
    "df['binary_target'] = [1 if x=='normal.' else -1 for x in df[\"target\"]]\n",
    "df = df.sample(frac=1, random_state=2)\n",
    "toDecode = [\"protocol_type\", \"service\", \"flag\", \"target\"]\n",
    "leSF = preprocessing.LabelEncoder()\n",
    "for f in toDecode:\n",
    "    df[f] = leSF.fit_transform(df[f])\n",
    "\n",
    "x_train_1, x_test_1, y_train_1, y_test_1 = train_test_split(df.drop([\"target\", 'binary_target'], axis=1), df['binary_target'], test_size=0.33, random_state=0)\n",
    "results = []"
   ]
  },
  {
   "cell_type": "code",
   "execution_count": 66,
   "metadata": {},
   "outputs": [
    {
     "name": "stdout",
     "output_type": "stream",
     "text": [
      "anomaly rate is 2.0% out of 198527 records (3971)\n"
     ]
    }
   ],
   "source": [
    "r = 0.02\n",
    "target_anomaly_rate = r\n",
    "\n",
    "df = pd.read_csv('kddcup.data', delimiter=',')\n",
    "df.columns = sa_columns + [\"target\"]\n",
    "df_normal = df[df[\"target\"]== 'normal.']\n",
    "df_normal = df_normal.sample(frac=0.2, random_state=1)\n",
    "n_records = int(np.ceil(len(df_normal)*r/(1-r)))\n",
    "\n",
    "df = df_normal.append(df[df[\"target\"]!= 'normal.'].sample(n = n_records, random_state=1))\n",
    "anomaly_rate = 1.0 - len(df.loc[df[\"target\"]=='normal.'])/len(df)\n",
    "print(f\"anomaly rate is {anomaly_rate:.1%} out of {len(df)} records ({n_records})\")\n",
    "\n",
    "df['binary_target'] = [1 if x=='normal.' else -1 for x in df[\"target\"]]\n",
    "df = df.sample(frac=1, random_state=2)\n",
    "toDecode = [\"protocol_type\", \"service\", \"flag\", \"target\"]\n",
    "leSF = preprocessing.LabelEncoder()\n",
    "for f in toDecode:\n",
    "    df[f] = leSF.fit_transform(df[f])\n",
    "\n",
    "x_train_2, x_test_2, y_train_2, y_test_2 = train_test_split(df.drop([\"target\", 'binary_target'], axis=1), df['binary_target'], test_size=0.33, random_state=0)\n",
    "results = []"
   ]
  },
  {
   "cell_type": "code",
   "execution_count": 59,
   "metadata": {},
   "outputs": [
    {
     "name": "stdout",
     "output_type": "stream",
     "text": [
      "Time for OCSVM fitting: 260.066\n",
      "Time for OCSVM prediction: 0.194\n"
     ]
    }
   ],
   "source": [
    "scoring = {'AUC': 'roc_auc', 'Precision': make_scorer(precision_score, pos_label=-1), 'F1': make_scorer(fbeta_score, labels=[-1], average='macro', beta=0.5)}\n",
    "gs = GridSearchCV(OneClassSVM(kernel=\"rbf\", gamma='scale'),\n",
    "                  param_grid={'nu': np.arange(0.01, 0.25, 0.05)},\n",
    "                  scoring=scoring, refit='F1')\n",
    "stime = time.time()\n",
    "gs.fit(X_train_sf, y_train_sf)\n",
    "print(\"Time for OCSVM fitting: %.3f\" % (time.time() - stime))\n",
    "results_svm = gs.cv_results_\n",
    "\n",
    "stime = time.time()\n",
    "y_pred = gs.predict(X_test_sf)\n",
    "print(\"Time for OCSVM prediction: %.3f\" % (time.time() - stime))"
   ]
  },
  {
   "cell_type": "code",
   "execution_count": 60,
   "metadata": {},
   "outputs": [
    {
     "name": "stdout",
     "output_type": "stream",
     "text": [
      "Time for OCSVM fitting: 2996.328\n",
      "Time for OCSVM prediction: 5.784\n"
     ]
    }
   ],
   "source": [
    "gs_sa = GridSearchCV(OneClassSVM(kernel=\"rbf\", gamma='scale'),\n",
    "                  param_grid={'nu': np.arange(0.01, 0.25, 0.05)},\n",
    "                  scoring=scoring, refit='F1')\n",
    "stime = time.time()\n",
    "gs_sa.fit(X_train_sa, y_train_sa)\n",
    "print(\"Time for OCSVM fitting: %.3f\" % (time.time() - stime))\n",
    "results_svm_sa = gs.cv_results_\n",
    "\n",
    "stime = time.time()\n",
    "y_pred = gs_sa.predict(X_test_sa)\n",
    "print(\"Time for OCSVM prediction: %.3f\" % (time.time() - stime))"
   ]
  },
  {
   "cell_type": "code",
   "execution_count": null,
   "metadata": {},
   "outputs": [],
   "source": [
    "gs_sa_poly = GridSearchCV(OneClassSVM(kernel=\"poly\"),\n",
    "                  param_grid={'nu': np.arange(0.01, 0.25, 0.05),\n",
    "                             'gamma': ['scale', 'auto'],\n",
    "                             'degree': np.array([2,3,4])},\n",
    "                  scoring=scoring, refit='F1')\n",
    "stime = time.time()\n",
    "gs_sa_poly.fit(X_train_sa, y_train_sa)\n",
    "print(\"Time for OCSVM fitting: %.3f\" % (time.time() - stime))\n",
    "results_svm_sa_poly = gs_sa_poly.cv_results_\n",
    "\n",
    "stime = time.time()\n",
    "y_pred = gs_sa_poly.predict(X_test_sa)\n",
    "print(\"Time for OCSVM prediction: %.3f\" % (time.time() - stime))"
   ]
  },
  {
   "cell_type": "code",
   "execution_count": null,
   "metadata": {},
   "outputs": [],
   "source": [
    "gs_sa_poly = GridSearchCV(OneClassSVM(kernel=\"sigmoid\", gamma='scale'),\n",
    "                  param_grid={'nu': np.arange(0.01, 0.25, 0.05)},\n",
    "                  scoring=scoring, refit='F1')\n",
    "stime = time.time()\n",
    "gs_sa_poly.fit(X_train_sa, y_train_sa)\n",
    "print(\"Time for OCSVM fitting: %.3f\" % (time.time() - stime))\n",
    "results_svm_sa_poly = gs_sa_poly.cv_results_\n",
    "\n",
    "stime = time.time()\n",
    "y_pred = gs_sa_poly.predict(X_test_sa)\n",
    "print(\"Time for OCSVM prediction: %.3f\" % (time.time() - stime))"
   ]
  },
  {
   "cell_type": "code",
   "execution_count": 68,
   "metadata": {},
   "outputs": [
    {
     "name": "stdout",
     "output_type": "stream",
     "text": [
      "Time for OCSVM fitting: 2107.779\n",
      "Time for OCSVM prediction: 1.039\n"
     ]
    }
   ],
   "source": [
    "gs_sa_1 = GridSearchCV(OneClassSVM(kernel=\"rbf\", gamma='scale'),\n",
    "                  param_grid={'nu': np.arange(0.01, 0.25, 0.05)},\n",
    "                  scoring=scoring, refit='F1')\n",
    "stime = time.time()\n",
    "gs_sa_1.fit(x_train_1, y_train_1)\n",
    "print(\"Time for OCSVM fitting: %.3f\" % (time.time() - stime))\n",
    "results_svm_sa_1 = gs_sa_1.cv_results_\n",
    "\n",
    "stime = time.time()\n",
    "y_pred = gs_sa_1.predict(x_test_1)\n",
    "print(\"Time for OCSVM prediction: %.3f\" % (time.time() - stime))"
   ]
  },
  {
   "cell_type": "code",
   "execution_count": 69,
   "metadata": {},
   "outputs": [
    {
     "name": "stdout",
     "output_type": "stream",
     "text": [
      "Time for OCSVM fitting: 12059.687\n",
      "Time for OCSVM prediction: 25.436\n"
     ]
    }
   ],
   "source": [
    "gs_sa_2 = GridSearchCV(OneClassSVM(kernel=\"rbf\", gamma='scale'),\n",
    "                  param_grid={'nu': np.arange(0.01, 0.25, 0.05)},\n",
    "                  scoring=scoring, refit='F1')\n",
    "stime = time.time()\n",
    "gs_sa_2.fit(x_train_2, y_train_2)\n",
    "print(\"Time for OCSVM fitting: %.3f\" % (time.time() - stime))\n",
    "results_svm_sa = gs_sa_2.cv_results_\n",
    "\n",
    "stime = time.time()\n",
    "y_pred = gs_sa_2.predict(x_test_2)\n",
    "print(\"Time for OCSVM prediction: %.3f\" % (time.time() - stime))"
   ]
  },
  {
   "cell_type": "code",
   "execution_count": 80,
   "metadata": {},
   "outputs": [],
   "source": [
    "fit_time = [260.066, 2996.328, 2107.779, 12059.687]"
   ]
  },
  {
   "cell_type": "code",
   "execution_count": 81,
   "metadata": {},
   "outputs": [
    {
     "name": "stderr",
     "output_type": "stream",
     "text": [
      "<ipython-input-81-68d2061ab5f3>:10: MatplotlibDeprecationWarning: Adding an axes using the same arguments as a previous axes currently reuses the earlier instance.  In a future version, a new instance will always be created and returned.  Meanwhile, this warning can be suppressed, and the future behavior ensured, by passing a unique label to each axes instance.\n",
      "  ax = plt.axes()\n"
     ]
    },
    {
     "data": {
      "image/png": "[encoded data removed]",
      "text/plain": [
       "<Figure size 720x576 with 1 Axes>"
      ]
     },
     "metadata": {
      "needs_background": "light"
     },
     "output_type": "display_data"
    }
   ],
   "source": [
    "# X_axis = np.array(results_svm[\"param_nu\"].data, dtype=float)\n",
    "# print GridSearch cross-validation for parameters\n",
    "X_axis_if = np.array(results_if[\"param_contamination\"].data, dtype=float)\n",
    "plt.figure(figsize=(10,8))\n",
    "\n",
    "plt.xlabel(\"configuration\")\n",
    "plt.ylabel(\"Score\")\n",
    "plt.grid()\n",
    "\n",
    "ax = plt.axes()\n",
    "pad = 0.005\n",
    "\n",
    "colors = {'lof': 'r', 'if':'b', 'dbscan':'c', 'svm':'y'}\n",
    "scorer = 'Precision'\n",
    "\n",
    "best_index = np.nonzero(results_svm['rank_test_%s' % scorer] == 1)[0][0]\n",
    "best_score_svm = results_svm['mean_test_%s' % scorer][best_index]\n",
    "\n",
    "best_index = np.nonzero(results_svm_sa['rank_test_%s' % scorer] == 1)[0][0]\n",
    "best_score_sa = results_svm_sa['mean_test_%s' % scorer][best_index]\n",
    "\n",
    "best_index = np.nonzero(results_svm_sa_1['rank_test_%s' % scorer] == 1)[0][0]\n",
    "best_score_1 = results_svm_sa_1['mean_test_%s' % scorer][best_index]\n",
    "\n",
    "best_index = np.nonzero(results_svm_sa_2['rank_test_%s' % scorer] == 1)[0][0]\n",
    "best_score_2 = results_svm_sa_2['mean_test_%s' % scorer][best_index]\n",
    "\n",
    "Y_axis = np.array([best_score_svm, best_score_sa, best_score_1, best_score_2])\n",
    "X_axis = np.array(['c1', 'c2', 'c3', 'c4'])\n",
    "\n",
    "ax.plot(X_axis, Y_axis, '-', color=colors['svm'],label=\"%s \" % (scorer))\n",
    "plt.legend(loc=\"best\")\n",
    "plt.grid('off')\n",
    "plt.tight_layout()\n",
    "plt.savefig(\"nu.png\", dpi=100)\n",
    "\n",
    "plt.show()\n",
    "\n",
    "# for scorer, color in zip(sorted(scoring), ['b', 'k']):\n",
    "#     sample, style= ('test', '-')\n",
    "#     sample_score_mean = results_svm['mean_%s_%s' % (sample, scorer)]\n",
    "# #    sample_score_std = results_svm['std_%s_%s' % (sample, scorer)]\n",
    "    \n",
    "#     sample_score_mean_lof = results_lof['mean_%s_%s' % (sample, scorer)]\n",
    "# #    sample_score_std_lof = results_lof['std_%s_%s' % (sample, scorer)]\n",
    "    \n",
    "# #     We don't plot standard deviation    \n",
    "# #     ax.fill_between(X_axis, sample_score_mean - sample_score_std,\n",
    "# #                 sample_score_mean + sample_score_std,\n",
    "# #                 alpha=0.1 if sample == 'test' else 0, color=color)\n",
    "#     ax.plot(X_axis, sample_score_mean, style, color=color,\n",
    "#         alpha=1 if sample == 'test' else 0.7,\n",
    "#         label=\"%s (%s)\" % (scorer, sample))\n",
    "\n",
    "#     best_index = np.nonzero(results['rank_test_%s' % scorer] == 1)[0][0]\n",
    "#     best_score = results['mean_test_%s' % scorer][best_index]\n",
    "\n",
    "#     # Plot a dotted vertical line at the best score for that scorer marked by x\n",
    "#     ax.plot([X_axis[best_index], ] * 2, [0, best_score],\n",
    "#         linestyle='-.', color=color, marker='x', markeredgewidth=3, ms=8)\n",
    "\n",
    "#     # Annotate the best score for that scorer\n",
    "#     ax.annotate(\"%0.2f\" % best_score,\n",
    "#             (X_axis[best_index], best_score+pad))\n",
    "    \n",
    "# plt.legend(loc=\"best\")\n",
    "# plt.grid('off')\n",
    "# plt.tight_layout()\n",
    "# plt.savefig(\"nu.png\", dpi=100)\n",
    "\n",
    "# plt.show()"
   ]
  },
  {
   "cell_type": "markdown",
   "metadata": {},
   "source": [
    "# Archive"
   ]
  },
  {
   "cell_type": "code",
   "execution_count": 63,
   "metadata": {},
   "outputs": [
    {
     "data": {
      "text/plain": [
       "{'mean_fit_time': array([ 0.61091375,  5.07705498,  9.18493633, 13.29303331, 16.88273849]),\n",
       " 'std_fit_time': array([0.01198042, 0.12844537, 0.08549168, 0.08558367, 0.30675319]),\n",
       " 'mean_score_time': array([0.1449966 , 0.74371862, 1.3358501 , 1.94709306, 2.59730806]),\n",
       " 'std_score_time': array([0.00463848, 0.01713212, 0.01801429, 0.02144899, 0.06321599]),\n",
       " 'param_nu': masked_array(data=[0.01, 0.060000000000000005, 0.11, 0.16000000000000003,\n",
       "                    0.21000000000000002],\n",
       "              mask=[False, False, False, False, False],\n",
       "        fill_value='?',\n",
       "             dtype=object),\n",
       " 'params': [{'nu': 0.01},\n",
       "  {'nu': 0.060000000000000005},\n",
       "  {'nu': 0.11},\n",
       "  {'nu': 0.16000000000000003},\n",
       "  {'nu': 0.21000000000000002}],\n",
       " 'split0_test_AUC': array([0.94115565, 0.91135687, 0.91014531, 0.89717969, 0.93749916]),\n",
       " 'split1_test_AUC': array([0.95307346, 0.92250814, 0.91347697, 0.8959531 , 0.93966566]),\n",
       " 'split2_test_AUC': array([0.95114229, 0.92344162, 0.9168717 , 0.9012755 , 0.93832205]),\n",
       " 'split3_test_AUC': array([0.95184264, 0.92213463, 0.91759157, 0.90055923, 0.93995872]),\n",
       " 'split4_test_AUC': array([0.95169046, 0.92177507, 0.91608672, 0.89807279, 0.93711678]),\n",
       " 'mean_test_AUC': array([0.9497809 , 0.92024327, 0.91483445, 0.89860806, 0.93851247]),\n",
       " 'std_test_AUC': array([0.00435859, 0.00447774, 0.00272584, 0.00201484, 0.00113424]),\n",
       " 'rank_test_AUC': array([1, 3, 4, 5, 2], dtype=int32),\n",
       " 'split0_test_Precision': array([0.75067751, 0.06375228, 0.13298429, 0.12318841, 0.20669856]),\n",
       " 'split1_test_Precision': array([0.25373134, 0.39036755, 0.31814483, 0.10830325, 0.20676329]),\n",
       " 'split2_test_Precision': array([0.16304348, 0.40073983, 0.34516928, 0.27947598, 0.2232581 ]),\n",
       " 'split3_test_Precision': array([0.79895561, 0.40073983, 0.13901345, 0.27883397, 0.21859786]),\n",
       " 'split4_test_Precision': array([0.21      , 0.06743738, 0.34441603, 0.1132661 , 0.22042219]),\n",
       " 'mean_test_Precision': array([0.43528159, 0.26460737, 0.25594558, 0.18061354, 0.215148  ]),\n",
       " 'std_test_Precision': array([0.27912694, 0.16254137, 0.09843702, 0.08060166, 0.0070312 ]),\n",
       " 'rank_test_Precision': array([1, 2, 3, 5, 4], dtype=int32),\n",
       " 'split0_test_F1': array([0.72475144, 0.06651463, 0.14923619, 0.1427372 , 0.24559409]),\n",
       " 'split1_test_F1': array([0.12195122, 0.42956764, 0.36576239, 0.12564919, 0.24572282]),\n",
       " 'split2_test_F1': array([0.09113001, 0.43930792, 0.39441404, 0.32619776, 0.26431974]),\n",
       " 'split3_test_F1': array([0.77155825, 0.43978349, 0.15426723, 0.32529942, 0.2590285 ]),\n",
       " 'split4_test_F1': array([0.12352941, 0.06927949, 0.39284325, 0.13021762, 0.26110723]),\n",
       " 'mean_test_F1': array([0.36658407, 0.28889064, 0.29130462, 0.21002024, 0.25515448]),\n",
       " 'std_test_F1': array([0.31211654, 0.18047946, 0.11441004, 0.09465775, 0.00793477]),\n",
       " 'rank_test_F1': array([1, 3, 2, 5, 4], dtype=int32)}"
      ]
     },
     "execution_count": 63,
     "metadata": {},
     "output_type": "execute_result"
    }
   ],
   "source": [
    "results_svm"
   ]
  },
  {
   "cell_type": "code",
   "execution_count": 70,
   "metadata": {},
   "outputs": [
    {
     "data": {
      "text/plain": [
       "{'mean_fit_time': array([ 0.61091375,  5.07705498,  9.18493633, 13.29303331, 16.88273849]),\n",
       " 'std_fit_time': array([0.01198042, 0.12844537, 0.08549168, 0.08558367, 0.30675319]),\n",
       " 'mean_score_time': array([0.1449966 , 0.74371862, 1.3358501 , 1.94709306, 2.59730806]),\n",
       " 'std_score_time': array([0.00463848, 0.01713212, 0.01801429, 0.02144899, 0.06321599]),\n",
       " 'param_nu': masked_array(data=[0.01, 0.060000000000000005, 0.11, 0.16000000000000003,\n",
       "                    0.21000000000000002],\n",
       "              mask=[False, False, False, False, False],\n",
       "        fill_value='?',\n",
       "             dtype=object),\n",
       " 'params': [{'nu': 0.01},\n",
       "  {'nu': 0.060000000000000005},\n",
       "  {'nu': 0.11},\n",
       "  {'nu': 0.16000000000000003},\n",
       "  {'nu': 0.21000000000000002}],\n",
       " 'split0_test_AUC': array([0.94115565, 0.91135687, 0.91014531, 0.89717969, 0.93749916]),\n",
       " 'split1_test_AUC': array([0.95307346, 0.92250814, 0.91347697, 0.8959531 , 0.93966566]),\n",
       " 'split2_test_AUC': array([0.95114229, 0.92344162, 0.9168717 , 0.9012755 , 0.93832205]),\n",
       " 'split3_test_AUC': array([0.95184264, 0.92213463, 0.91759157, 0.90055923, 0.93995872]),\n",
       " 'split4_test_AUC': array([0.95169046, 0.92177507, 0.91608672, 0.89807279, 0.93711678]),\n",
       " 'mean_test_AUC': array([0.9497809 , 0.92024327, 0.91483445, 0.89860806, 0.93851247]),\n",
       " 'std_test_AUC': array([0.00435859, 0.00447774, 0.00272584, 0.00201484, 0.00113424]),\n",
       " 'rank_test_AUC': array([1, 3, 4, 5, 2], dtype=int32),\n",
       " 'split0_test_Precision': array([0.75067751, 0.06375228, 0.13298429, 0.12318841, 0.20669856]),\n",
       " 'split1_test_Precision': array([0.25373134, 0.39036755, 0.31814483, 0.10830325, 0.20676329]),\n",
       " 'split2_test_Precision': array([0.16304348, 0.40073983, 0.34516928, 0.27947598, 0.2232581 ]),\n",
       " 'split3_test_Precision': array([0.79895561, 0.40073983, 0.13901345, 0.27883397, 0.21859786]),\n",
       " 'split4_test_Precision': array([0.21      , 0.06743738, 0.34441603, 0.1132661 , 0.22042219]),\n",
       " 'mean_test_Precision': array([0.43528159, 0.26460737, 0.25594558, 0.18061354, 0.215148  ]),\n",
       " 'std_test_Precision': array([0.27912694, 0.16254137, 0.09843702, 0.08060166, 0.0070312 ]),\n",
       " 'rank_test_Precision': array([1, 2, 3, 5, 4], dtype=int32),\n",
       " 'split0_test_F1': array([0.72475144, 0.06651463, 0.14923619, 0.1427372 , 0.24559409]),\n",
       " 'split1_test_F1': array([0.12195122, 0.42956764, 0.36576239, 0.12564919, 0.24572282]),\n",
       " 'split2_test_F1': array([0.09113001, 0.43930792, 0.39441404, 0.32619776, 0.26431974]),\n",
       " 'split3_test_F1': array([0.77155825, 0.43978349, 0.15426723, 0.32529942, 0.2590285 ]),\n",
       " 'split4_test_F1': array([0.12352941, 0.06927949, 0.39284325, 0.13021762, 0.26110723]),\n",
       " 'mean_test_F1': array([0.36658407, 0.28889064, 0.29130462, 0.21002024, 0.25515448]),\n",
       " 'std_test_F1': array([0.31211654, 0.18047946, 0.11441004, 0.09465775, 0.00793477]),\n",
       " 'rank_test_F1': array([1, 3, 2, 5, 4], dtype=int32)}"
      ]
     },
     "execution_count": 70,
     "metadata": {},
     "output_type": "execute_result"
    }
   ],
   "source": [
    "results_svm_sa = gs.cv_results_\n",
    "results_svm_sa"
   ]
  },
  {
   "cell_type": "code",
   "execution_count": 53,
   "metadata": {},
   "outputs": [
    {
     "data": {
      "text/plain": [
       "{'mean_fit_time': array([2.36972971, 2.23002892, 2.23278694, 2.26178975, 2.20120721]),\n",
       " 'std_fit_time': array([0.35499806, 0.04266414, 0.04018767, 0.06024252, 0.02619915]),\n",
       " 'mean_score_time': array([1.02248826, 1.01561413, 1.01032758, 1.01449027, 0.98523035]),\n",
       " 'std_score_time': array([0.03878348, 0.03293335, 0.03019608, 0.08170886, 0.02489543]),\n",
       " 'param_contamination': masked_array(data=[0.01, 0.060000000000000005, 0.11, 0.16000000000000003,\n",
       "                    0.21000000000000002],\n",
       "              mask=[False, False, False, False, False],\n",
       "        fill_value='?',\n",
       "             dtype=object),\n",
       " 'params': [{'contamination': 0.01},\n",
       "  {'contamination': 0.060000000000000005},\n",
       "  {'contamination': 0.11},\n",
       "  {'contamination': 0.16000000000000003},\n",
       "  {'contamination': 0.21000000000000002}],\n",
       " 'split0_test_AUC': array([0.87293722, 0.87293722, 0.87293722, 0.87293722, 0.87293722]),\n",
       " 'split1_test_AUC': array([0.87041117, 0.87041117, 0.87041117, 0.87041117, 0.87041117]),\n",
       " 'split2_test_AUC': array([0.88079782, 0.88079782, 0.88079782, 0.88079782, 0.88079782]),\n",
       " 'split3_test_AUC': array([0.88039776, 0.88039776, 0.88039776, 0.88039776, 0.88039776]),\n",
       " 'split4_test_AUC': array([0.88277807, 0.88277807, 0.88277807, 0.88277807, 0.88277807]),\n",
       " 'mean_test_AUC': array([0.87746441, 0.87746441, 0.87746441, 0.87746441, 0.87746441]),\n",
       " 'std_test_AUC': array([0.00486199, 0.00486199, 0.00486199, 0.00486199, 0.00486199]),\n",
       " 'rank_test_AUC': array([1, 1, 1, 1, 1], dtype=int32),\n",
       " 'split0_test_Precision': array([0.32075472, 0.15923567, 0.0881095 , 0.1109778 , 0.20518868]),\n",
       " 'split1_test_Precision': array([0.36082474, 0.13932981, 0.07791017, 0.09924623, 0.20916626]),\n",
       " 'split2_test_Precision': array([0.27956989, 0.13804714, 0.08236434, 0.10892388, 0.22347741]),\n",
       " 'split3_test_Precision': array([0.28448276, 0.15397631, 0.09386973, 0.1065051 , 0.21527446]),\n",
       " 'split4_test_Precision': array([0.36893204, 0.13486842, 0.08063021, 0.10406938, 0.22015656]),\n",
       " 'mean_test_Precision': array([0.32291283, 0.14509147, 0.08457679, 0.10594448, 0.21465267]),\n",
       " 'std_test_Precision': array([0.0371893 , 0.00965742, 0.00572281, 0.00407205, 0.00675608]),\n",
       " 'rank_test_Precision': array([1, 3, 5, 4, 2], dtype=int32)}"
      ]
     },
     "execution_count": 53,
     "metadata": {},
     "output_type": "execute_result"
    }
   ],
   "source": [
    "results_if"
   ]
  },
  {
   "cell_type": "code",
   "execution_count": 71,
   "metadata": {},
   "outputs": [
    {
     "data": {
      "text/plain": [
       "{'mean_fit_time': array([  3.15310521,  42.07081943,  78.29551282, 112.87918234,\n",
       "        146.41757412]),\n",
       " 'std_fit_time': array([0.04969832, 0.3443859 , 0.5249806 , 1.44938901, 1.82195756]),\n",
       " 'mean_score_time': array([ 0.70274234,  4.20767879,  7.52159572, 10.85573292, 14.25604572]),\n",
       " 'std_score_time': array([0.03234505, 0.159796  , 0.03570407, 0.12898077, 0.12571462]),\n",
       " 'param_nu': masked_array(data=[0.01, 0.060000000000000005, 0.11, 0.16000000000000003,\n",
       "                    0.21000000000000002],\n",
       "              mask=[False, False, False, False, False],\n",
       "        fill_value='?',\n",
       "             dtype=object),\n",
       " 'params': [{'nu': 0.01},\n",
       "  {'nu': 0.060000000000000005},\n",
       "  {'nu': 0.11},\n",
       "  {'nu': 0.16000000000000003},\n",
       "  {'nu': 0.21000000000000002}],\n",
       " 'split0_test_AUC': array([0.78775349, 0.79479753, 0.80760556, 0.79655984, 0.78935081]),\n",
       " 'split1_test_AUC': array([0.78493623, 0.79004843, 0.79999716, 0.79676182, 0.78783564]),\n",
       " 'split2_test_AUC': array([0.74577745, 0.75972126, 0.76601837, 0.77492016, 0.76957091]),\n",
       " 'split3_test_AUC': array([0.77017719, 0.77735675, 0.79750651, 0.7856981 , 0.78009865]),\n",
       " 'split4_test_AUC': array([0.76416275, 0.77721264, 0.80028026, 0.79119923, 0.78337628]),\n",
       " 'mean_test_AUC': array([0.77056142, 0.77982732, 0.79428157, 0.78902783, 0.78204646]),\n",
       " 'std_test_AUC': array([0.01521537, 0.01221288, 0.01452852, 0.00814093, 0.00704372]),\n",
       " 'rank_test_AUC': array([5, 4, 1, 2, 3], dtype=int32),\n",
       " 'split0_test_Precision': array([0.1147541 , 0.05213904, 0.02708192, 0.01950523, 0.01516272]),\n",
       " 'split1_test_Precision': array([0.04531722, 0.05073281, 0.02954695, 0.0215255 , 0.01651706]),\n",
       " 'split2_test_Precision': array([0.04065041, 0.03321033, 0.01863354, 0.01322626, 0.00978679]),\n",
       " 'split3_test_Precision': array([0.06504065, 0.04252401, 0.02372394, 0.01589595, 0.01213682]),\n",
       " 'split4_test_Precision': array([0.03018109, 0.05263158, 0.02981969, 0.02076451, 0.01592472]),\n",
       " 'mean_test_Precision': array([0.05918869, 0.04624755, 0.02576121, 0.01818349, 0.01390562]),\n",
       " 'std_test_Precision': array([0.02999762, 0.00747552, 0.00418334, 0.00314276, 0.00255226]),\n",
       " 'rank_test_Precision': array([1, 2, 3, 4, 5], dtype=int32),\n",
       " 'split0_test_F1': array([0.11272142, 0.0624    , 0.0331071 , 0.02400187, 0.01872317]),\n",
       " 'split1_test_F1': array([0.05140507, 0.0610915 , 0.03613297, 0.02648854, 0.02039911]),\n",
       " 'split2_test_F1': array([0.04084967, 0.04003559, 0.02281947, 0.01630182, 0.01210654]),\n",
       " 'split3_test_F1': array([0.06430868, 0.05088641, 0.02897787, 0.01956367, 0.01499182]),\n",
       " 'split4_test_F1': array([0.03501401, 0.06282876, 0.0363053 , 0.02549247, 0.01963234]),\n",
       " 'mean_test_F1': array([0.06085977, 0.05544845, 0.03146854, 0.02236967, 0.0171706 ]),\n",
       " 'std_test_F1': array([0.02778246, 0.00886573, 0.00507633, 0.00384899, 0.00313961]),\n",
       " 'rank_test_F1': array([1, 2, 3, 4, 5], dtype=int32)}"
      ]
     },
     "execution_count": 71,
     "metadata": {},
     "output_type": "execute_result"
    }
   ],
   "source": [
    "results_svm_sa_1"
   ]
  },
  {
   "cell_type": "code",
   "execution_count": 73,
   "metadata": {},
   "outputs": [
    {
     "data": {
      "text/plain": [
       "{'mean_fit_time': array([154.23872514, 241.91987371, 485.70241013, 596.96554732,\n",
       "        670.873102  ]),\n",
       " 'std_fit_time': array([164.24436164, 100.47818039,  63.7203627 , 101.96003818,\n",
       "         18.59338774]),\n",
       " 'mean_score_time': array([ 2.8996356 , 17.1722085 , 31.82961888, 44.81605072, 59.74999189]),\n",
       " 'std_score_time': array([0.11708601, 0.27358993, 0.43767576, 1.05497233, 1.08656381]),\n",
       " 'param_nu': masked_array(data=[0.01, 0.060000000000000005, 0.11, 0.16000000000000003,\n",
       "                    0.21000000000000002],\n",
       "              mask=[False, False, False, False, False],\n",
       "        fill_value='?',\n",
       "             dtype=object),\n",
       " 'params': [{'nu': 0.01},\n",
       "  {'nu': 0.060000000000000005},\n",
       "  {'nu': 0.11},\n",
       "  {'nu': 0.16000000000000003},\n",
       "  {'nu': 0.21000000000000002}],\n",
       " 'split0_test_AUC': array([0.77804472, 0.78739991, 0.78571251, 0.79789526, 0.78842519]),\n",
       " 'split1_test_AUC': array([0.76379205, 0.77314981, 0.79521723, 0.78525999, 0.78128722]),\n",
       " 'split2_test_AUC': array([0.77350027, 0.77824086, 0.79092233, 0.7893282 , 0.78408866]),\n",
       " 'split3_test_AUC': array([0.77745612, 0.78233769, 0.79489878, 0.78817545, 0.78170407]),\n",
       " 'split4_test_AUC': array([0.78041759, 0.78268204, 0.8023077 , 0.79270626, 0.78507322]),\n",
       " 'mean_test_AUC': array([0.77464215, 0.78076206, 0.79381171, 0.79067303, 0.78411567]),\n",
       " 'std_test_AUC': array([0.00586311, 0.00478608, 0.00546415, 0.00432764, 0.00258091]),\n",
       " 'rank_test_AUC': array([5, 4, 1, 2, 3], dtype=int32),\n",
       " 'split0_test_Precision': array([0.06679574, 0.09955892, 0.0599512 , 0.04095644, 0.03124436]),\n",
       " 'split1_test_Precision': array([0.06944444, 0.07929515, 0.05150363, 0.03573108, 0.02737259]),\n",
       " 'split2_test_Precision': array([0.04983012, 0.08628461, 0.0507023 , 0.0353857 , 0.02710027]),\n",
       " 'split3_test_Precision': array([0.03221477, 0.09003021, 0.05513119, 0.03843514, 0.0293501 ]),\n",
       " 'split4_test_Precision': array([0.04972376, 0.08165829, 0.04914676, 0.03465347, 0.02604997]),\n",
       " 'mean_test_Precision': array([0.05360177, 0.08736544, 0.05328701, 0.03703237, 0.02822346]),\n",
       " 'std_test_Precision': array([0.01350363, 0.00713654, 0.00386821, 0.00234223, 0.00184958]),\n",
       " 'rank_test_Precision': array([2, 1, 3, 4, 5], dtype=int32),\n",
       " 'split0_test_F1': array([0.07362356, 0.11445958, 0.07148795, 0.0495702 , 0.03810237]),\n",
       " 'split1_test_F1': array([0.06237525, 0.09104046, 0.06138761, 0.04323094, 0.03336846]),\n",
       " 'split2_test_F1': array([0.05412054, 0.09933284, 0.06061102, 0.0428841 , 0.03307899]),\n",
       " 'split3_test_F1': array([0.03386005, 0.10370267, 0.06583122, 0.04654255, 0.03580563]),\n",
       " 'split4_test_F1': array([0.05286344, 0.09451796, 0.05887644, 0.04205527, 0.03184437]),\n",
       " 'mean_test_F1': array([0.05536857, 0.1006107 , 0.06363885, 0.04485661, 0.03443996]),\n",
       " 'std_test_F1': array([0.01305977, 0.00814488, 0.00454601, 0.00280861, 0.00223677]),\n",
       " 'rank_test_F1': array([3, 1, 2, 4, 5], dtype=int32)}"
      ]
     },
     "execution_count": 73,
     "metadata": {},
     "output_type": "execute_result"
    }
   ],
   "source": [
    "results_svm_sa_2 = gs_sa_2.cv_results_\n",
    "results_svm_sa_2"
   ]
  },
  {
   "cell_type": "code",
   "execution_count": null,
   "metadata": {},
   "outputs": [],
   "source": []
  }
 ],
 "metadata": {
  "kernelspec": {
   "display_name": "Python 3",
   "language": "python",
   "name": "python3"
  },
  "language_info": {
   "codemirror_mode": {
    "name": "ipython",
    "version": 3
   },
   "file_extension": ".py",
   "mimetype": "text/x-python",
   "name": "python",
   "nbconvert_exporter": "python",
   "pygments_lexer": "ipython3",
   "version": "3.8.5"
  }
 },
 "nbformat": 4,
 "nbformat_minor": 4
}
