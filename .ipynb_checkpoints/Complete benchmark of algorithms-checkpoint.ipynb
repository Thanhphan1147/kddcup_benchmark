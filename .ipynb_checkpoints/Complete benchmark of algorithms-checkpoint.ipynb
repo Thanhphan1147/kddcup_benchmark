{
 "cells": [
  {
   "cell_type": "code",
   "execution_count": 15,
   "metadata": {},
   "outputs": [],
   "source": [
    "from imports import *"
   ]
  },
  {
   "cell_type": "code",
   "execution_count": 21,
   "metadata": {},
   "outputs": [],
   "source": [
    "from sklearn.metrics import precision_score\n",
    "import time"
   ]
  },
  {
   "cell_type": "markdown",
   "metadata": {},
   "source": [
    "# Preprocessing\n",
    "Load the dataset. IF is then run on samples of the dataset with different anomaly rates."
   ]
  },
  {
   "cell_type": "code",
   "execution_count": 18,
   "metadata": {},
   "outputs": [],
   "source": [
    "def plot_gridsearch_cv(results, estimator, x_min, x_max, y_min, y_max,save=False, saveas=\"MyFigure.png\"):\n",
    "    \n",
    "    # print GridSearch cross-validation for parameters\n",
    "    \n",
    "    plt.figure(figsize=(10,8))\n",
    "    plt.title(\"GridSearchCV for \"+estimator, fontsize=24)\n",
    "\n",
    "    plt.xlabel(estimator)\n",
    "    plt.ylabel(\"Score\")\n",
    "    plt.grid()\n",
    "\n",
    "    ax = plt.axes()\n",
    "    ax.set_xlim(x_min, x_max)\n",
    "    ax.set_ylim(y_min, y_max)\n",
    "\n",
    "    pad = 0.005\n",
    "    X_axis = np.array(results[\"param_\"+estimator].data, dtype=float)\n",
    "\n",
    "    for scorer, color in zip(sorted(scoring), ['b', 'k']):\n",
    "        for sample, style in (('train', '--'), ('test', '-')):\n",
    "            sample_score_mean = results['mean_%s_%s' % (sample, scorer)]\n",
    "            sample_score_std = results['std_%s_%s' % (sample, scorer)]\n",
    "            ax.fill_between(X_axis, sample_score_mean - sample_score_std,\n",
    "                        sample_score_mean + sample_score_std,\n",
    "                        alpha=0.1 if sample == 'test' else 0, color=color)\n",
    "            ax.plot(X_axis, sample_score_mean, style, color=color,\n",
    "                alpha=1 if sample == 'test' else 0.7,\n",
    "                label=\"%s (%s)\" % (scorer, sample))\n",
    "\n",
    "        best_index = np.nonzero(results['rank_test_%s' % scorer] == 1)[0][0]\n",
    "        best_score = results['mean_test_%s' % scorer][best_index]\n",
    "\n",
    "        # Plot a dotted vertical line at the best score for that scorer marked by x\n",
    "        ax.plot([X_axis[best_index], ] * 2, [0, best_score],\n",
    "            linestyle='-.', color=color, marker='x', markeredgewidth=3, ms=8)\n",
    "\n",
    "        # Annotate the best score for that scorer\n",
    "        ax.annotate(\"%0.2f\" % best_score,\n",
    "                (X_axis[best_index], best_score+pad))\n",
    "\n",
    "    plt.legend(loc=\"best\")\n",
    "    plt.grid('off')\n",
    "    plt.tight_layout()\n",
    "    if save:\n",
    "        plt.savefig(saveas, dpi=100)\n",
    "        \n",
    "    plt.show()"
   ]
  },
  {
   "cell_type": "code",
   "execution_count": 19,
   "metadata": {},
   "outputs": [
    {
     "name": "stdout",
     "output_type": "stream",
     "text": [
      "SF anomaly rate is 4.5%\n"
     ]
    }
   ],
   "source": [
    "sf = datasets.fetch_kddcup99(subset='SF', percent10=True, random_state=0)\n",
    "dfsf = pd.DataFrame(sf.data, columns=sf_columns)\n",
    "dfsf[\"target\"]=sf.target\n",
    "anomaly_rate_sf = 1.0 - len(dfsf.loc[dfsf[\"target\"]==b'normal.'])/len(dfsf)\n",
    "print(f\"SF anomaly rate is {anomaly_rate_sf:.1%}\")\n",
    "\n",
    "dfsf['binary_target'] = [1 if x==b'normal.' else -1 for x in dfsf[\"target\"]]\n",
    "toDecodeSF = [\"service\", \"target\"]    \n",
    "leSF = preprocessing.LabelEncoder()\n",
    "for f in toDecodeSF:\n",
    "    dfsf[f] = list(map(byte_decoder, dfsf[f]))\n",
    "    dfsf[f] = leSF.fit_transform(dfsf[f])\n",
    "\n",
    "dfsf_normed = preprocessing.normalize(dfsf.drop([\"target\", 'binary_target'], axis=1))\n",
    "\n",
    "X_train_sf, X_test_sf, y_train_sf, y_test_sf = train_test_split(dfsf.drop([\"target\", 'binary_target'], axis=1), dfsf['binary_target'], test_size=0.33, random_state=0)\n",
    "X_train_nd, X_test_nd, y_train_nd, y_test_nd = train_test_split(dfsf_normed, dfsf['binary_target'], test_size=0.33, random_state=0)"
   ]
  },
  {
   "cell_type": "code",
   "execution_count": 38,
   "metadata": {},
   "outputs": [
    {
     "ename": "NameError",
     "evalue": "name 'contamination' is not defined",
     "output_type": "error",
     "traceback": [
      "\u001b[0;31m---------------------------------------------------------------------------\u001b[0m",
      "\u001b[0;31mNameError\u001b[0m                                 Traceback (most recent call last)",
      "\u001b[0;32m<ipython-input-38-749953445721>\u001b[0m in \u001b[0;36m<module>\u001b[0;34m\u001b[0m\n\u001b[1;32m      4\u001b[0m                   scoring=scoring, refit='Precison')\n\u001b[1;32m      5\u001b[0m \u001b[0;34m\u001b[0m\u001b[0m\n\u001b[0;32m----> 6\u001b[0;31m lof = GridSearchCV(LocalOutlierFactor(metric='euclidean', algorithm = 'auto', contamination=contamination, n_jobs=-1),\n\u001b[0m\u001b[1;32m      7\u001b[0m                   param_grid={'contamination': np.arange(0.01, 0.25, 0.05),\n\u001b[1;32m      8\u001b[0m                              'n_neighbors': np.arrange(10, 100, 10)},\n",
      "\u001b[0;31mNameError\u001b[0m: name 'contamination' is not defined"
     ]
    }
   ],
   "source": [
    "scoring = {'AUC': 'roc_auc', 'Precison': make_scorer(precision_score, pos_label=-1)}\n",
    "gs = GridSearchCV(OneClassSVM(kernel=\"rbf\", gamma='scale'),\n",
    "                  param_grid={'nu': np.arange(0.01, 0.25, 0.05)},\n",
    "                  scoring=scoring, refit='Precison')\n",
    "\n",
    "lof = GridSearchCV(LocalOutlierFactor(metric='euclidean', algorithm = 'auto', n_jobs=-1),\n",
    "                  param_grid={'contamination': np.arange(0.01, 0.25, 0.05),\n",
    "                             'n_neighbors': np.arrange(10, 100, 10)},\n",
    "                  scoring=scoring, refit='Precison')\n",
    "stime = time.time()\n",
    "gs.fit(X_train_sf, y_train_sf)\n",
    "print(\"Time for OCSVM fitting: %.3f\" % (time.time() - stime))\n",
    "results_svm = gs.cv_results_\n",
    "\n",
    "stime = time.time()\n",
    "y_pred = gs.predict(X_test_sf)\n",
    "print(\"Time for OCSVM prediction: %.3f\" % (time.time() - stime))\n",
    "\n",
    "stime = time.time()\n",
    "lof.fit(X_train_sf, y_train_sf)\n",
    "print(\"Time for OCSVM fitting: %.3f\" % (time.time() - stime))\n",
    "results_lof = gs.cv_results_\n",
    "\n",
    "stime = time.time()\n",
    "y_pred = lof.predict(X_test_sf)\n",
    "print(\"Time for OCSVM prediction: %.3f\" % (time.time() - stime))"
   ]
  },
  {
   "cell_type": "code",
   "execution_count": 30,
   "metadata": {},
   "outputs": [
    {
     "data": {
      "text/plain": [
       "{'mean_fit_time': array([ 0.5854681 ,  4.90748415,  8.80813327, 12.92739396, 16.35218234]),\n",
       " 'std_fit_time': array([0.01514718, 0.08986283, 0.10723962, 0.12916775, 0.16789047]),\n",
       " 'mean_score_time': array([0.13133607, 0.72448044, 1.30484314, 1.89528699, 2.48642278]),\n",
       " 'std_score_time': array([0.00429686, 0.02652689, 0.05058779, 0.05123481, 0.06453795]),\n",
       " 'param_nu': masked_array(data=[0.01, 0.060000000000000005, 0.11, 0.16000000000000003,\n",
       "                    0.21000000000000002],\n",
       "              mask=[False, False, False, False, False],\n",
       "        fill_value='?',\n",
       "             dtype=object),\n",
       " 'params': [{'nu': 0.01},\n",
       "  {'nu': 0.060000000000000005},\n",
       "  {'nu': 0.11},\n",
       "  {'nu': 0.16000000000000003},\n",
       "  {'nu': 0.21000000000000002}],\n",
       " 'split0_test_AUC': array([0.94115565, 0.91135687, 0.91014531, 0.89717969, 0.93749916]),\n",
       " 'split1_test_AUC': array([0.95307346, 0.92250814, 0.91347697, 0.8959531 , 0.93966566]),\n",
       " 'split2_test_AUC': array([0.95114229, 0.92344162, 0.9168717 , 0.9012755 , 0.93832205]),\n",
       " 'split3_test_AUC': array([0.95184264, 0.92213463, 0.91759157, 0.90055923, 0.93995872]),\n",
       " 'split4_test_AUC': array([0.95169046, 0.92177507, 0.91608672, 0.89807279, 0.93711678]),\n",
       " 'mean_test_AUC': array([0.9497809 , 0.92024327, 0.91483445, 0.89860806, 0.93851247]),\n",
       " 'std_test_AUC': array([0.00435859, 0.00447774, 0.00272584, 0.00201484, 0.00113424]),\n",
       " 'rank_test_AUC': array([1, 3, 4, 5, 2], dtype=int32),\n",
       " 'split0_test_Precison': array([0.75067751, 0.06375228, 0.13298429, 0.12318841, 0.20669856]),\n",
       " 'split1_test_Precison': array([0.25373134, 0.39036755, 0.31814483, 0.10830325, 0.20676329]),\n",
       " 'split2_test_Precison': array([0.16304348, 0.40073983, 0.34516928, 0.27947598, 0.2232581 ]),\n",
       " 'split3_test_Precison': array([0.79895561, 0.40073983, 0.13901345, 0.27883397, 0.21859786]),\n",
       " 'split4_test_Precison': array([0.21      , 0.06743738, 0.34441603, 0.1132661 , 0.22042219]),\n",
       " 'mean_test_Precison': array([0.43528159, 0.26460737, 0.25594558, 0.18061354, 0.215148  ]),\n",
       " 'std_test_Precison': array([0.27912694, 0.16254137, 0.09843702, 0.08060166, 0.0070312 ]),\n",
       " 'rank_test_Precison': array([1, 2, 3, 5, 4], dtype=int32)}"
      ]
     },
     "execution_count": 30,
     "metadata": {},
     "output_type": "execute_result"
    }
   ],
   "source": [
    "results_svm"
   ]
  },
  {
   "cell_type": "code",
   "execution_count": null,
   "metadata": {},
   "outputs": [],
   "source": [
    "results_lof"
   ]
  },
  {
   "cell_type": "code",
   "execution_count": 37,
   "metadata": {},
   "outputs": [
    {
     "name": "stderr",
     "output_type": "stream",
     "text": [
      "<ipython-input-37-2c4f5925c15e>:10: MatplotlibDeprecationWarning: Adding an axes using the same arguments as a previous axes currently reuses the earlier instance.  In a future version, a new instance will always be created and returned.  Meanwhile, this warning can be suppressed, and the future behavior ensured, by passing a unique label to each axes instance.\n",
      "  ax = plt.axes()\n"
     ]
    },
    {
     "data": {
      "image/png": "[encoded data removed]",
      "text/plain": [
       "<Figure size 720x576 with 1 Axes>"
      ]
     },
     "metadata": {
      "needs_background": "light"
     },
     "output_type": "display_data"
    }
   ],
   "source": [
    "X_axis = np.array(results[\"param_nu\"].data, dtype=float)\n",
    "# print GridSearch cross-validation for parameters\n",
    "\n",
    "plt.figure(figsize=(10,8))\n",
    "\n",
    "plt.xlabel(\"nu\")\n",
    "plt.ylabel(\"Score\")\n",
    "plt.grid()\n",
    "\n",
    "ax = plt.axes()\n",
    "pad = 0.005\n",
    "\n",
    "for scorer, color in zip(sorted(scoring), ['b', 'k']):\n",
    "    sample, style= ('test', '-')\n",
    "    sample_score_mean = results['mean_%s_%s' % (sample, scorer)]\n",
    "    sample_score_std = results['std_%s_%s' % (sample, scorer)]\n",
    "    ax.fill_between(X_axis, sample_score_mean - sample_score_std,\n",
    "                sample_score_mean + sample_score_std,\n",
    "                alpha=0.1 if sample == 'test' else 0, color=color)\n",
    "    ax.plot(X_axis, sample_score_mean, style, color=color,\n",
    "        alpha=1 if sample == 'test' else 0.7,\n",
    "        label=\"%s (%s)\" % (scorer, sample))\n",
    "\n",
    "    best_index = np.nonzero(results['rank_test_%s' % scorer] == 1)[0][0]\n",
    "    best_score = results['mean_test_%s' % scorer][best_index]\n",
    "\n",
    "    # Plot a dotted vertical line at the best score for that scorer marked by x\n",
    "    ax.plot([X_axis[best_index], ] * 2, [0, best_score],\n",
    "        linestyle='-.', color=color, marker='x', markeredgewidth=3, ms=8)\n",
    "\n",
    "    # Annotate the best score for that scorer\n",
    "    ax.annotate(\"%0.2f\" % best_score,\n",
    "            (X_axis[best_index], best_score+pad))\n",
    "    \n",
    "plt.legend(loc=\"best\")\n",
    "plt.grid('off')\n",
    "plt.tight_layout()\n",
    "plt.savefig(\"nu.png\", dpi=100)\n",
    "\n",
    "plt.show()"
   ]
  },
  {
   "cell_type": "code",
   "execution_count": null,
   "metadata": {},
   "outputs": [],
   "source": []
  }
 ],
 "metadata": {
  "kernelspec": {
   "display_name": "Python 3",
   "language": "python",
   "name": "python3"
  },
  "language_info": {
   "codemirror_mode": {
    "name": "ipython",
    "version": 3
   },
   "file_extension": ".py",
   "mimetype": "text/x-python",
   "name": "python",
   "nbconvert_exporter": "python",
   "pygments_lexer": "ipython3",
   "version": "3.8.5"
  }
 },
 "nbformat": 4,
 "nbformat_minor": 4
}
