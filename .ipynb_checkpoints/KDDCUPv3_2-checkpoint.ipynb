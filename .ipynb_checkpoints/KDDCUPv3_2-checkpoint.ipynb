{
 "cells": [
  {
   "cell_type": "code",
   "execution_count": 22,
   "metadata": {},
   "outputs": [],
   "source": [
    "from imports import *"
   ]
  },
  {
   "cell_type": "markdown",
   "metadata": {},
   "source": [
    "# Fetch dataset"
   ]
  },
  {
   "cell_type": "code",
   "execution_count": 23,
   "metadata": {},
   "outputs": [
    {
     "name": "stdout",
     "output_type": "stream",
     "text": [
      "anomaly rate is 4.8% out of 1021419 records (48639)\n"
     ]
    }
   ],
   "source": [
    "target_anomaly_rate = 0.05\n",
    "\n",
    "df = pd.read_csv('kddcup.data', delimiter=',')\n",
    "df.columns = sa_columns + [\"target\"]\n",
    "df_normal = df[df[\"target\"]== 'normal.']\n",
    "n_records = int(np.ceil(len(df_normal)*target_anomaly_rate))\n",
    "\n",
    "df = df_normal.append(df[df[\"target\"]!= 'normal.'].sample(n = n_records, random_state=1))\n",
    "anomaly_rate = 1.0 - len(df.loc[df[\"target\"]=='normal.'])/len(df)\n",
    "print(f\"anomaly rate is {anomaly_rate:.1%} out of {len(df)} records ({n_records})\")\n",
    "\n",
    "df['binary_target'] = [1 if x=='normal.' else -1 for x in df[\"target\"]]\n",
    "df = df.sample(frac=1, random_state=2)\n",
    "toDecode = [\"protocol_type\", \"service\", \"flag\", \"target\"]\n",
    "leSF = preprocessing.LabelEncoder()\n",
    "for f in toDecode:\n",
    "    df[f] = leSF.fit_transform(df[f])\n",
    "\n",
    "x_train, x_test, y_train, y_test = train_test_split(df.drop([\"target\", 'binary_target'], axis=1), df['binary_target'], test_size=0.33, random_state=0)\n",
    "results = []"
   ]
  },
  {
   "cell_type": "markdown",
   "metadata": {},
   "source": [
    "Just like with sklearn SA dataset, we selected all of the 'normal' data with a small portion of outliers to reach our target anomaly rate"
   ]
  },
  {
   "cell_type": "markdown",
   "metadata": {},
   "source": [
    "# Cross-validation for Isolation Forest"
   ]
  },
  {
   "cell_type": "code",
   "execution_count": 24,
   "metadata": {},
   "outputs": [],
   "source": [
    "def cross_validation(contamination):\n",
    "    highest_score = 0\n",
    "    highest_score_c = 0\n",
    "    for c in contamination:\n",
    "        s = datetime.datetime.now()\n",
    "        y_pred = IsolationForest(random_state=1, n_jobs=-1, max_samples=0.25, n_estimators=100, contamination=c).fit(x_train).predict(x_test)\n",
    "        t = datetime.datetime.now() - s\n",
    "        p, r, f, s = map(lambda x: x[0], precision_recall_fscore_support(y_test, y_pred, labels=[-1]))\n",
    "        a = roc_auc_score(y_test, y_pred)\n",
    "        if p + r + a > highest_score: highest_score = p + r + a; highest_score_c = c\n",
    "        fp = s / p - s\n",
    "        \n",
    "        predicted = len(y for y in y_pred if y == -1)\n",
    "        print(f\"{predicted} -> tp = {predicted/s}\")\n",
    "        print(f\"contamination: {c} \\t AUC : {a:.1%} \\t precision: {p:.3} \\t support: {s} \\t recall: {r:.3} \\t fp: {int(round(fp, 0))}\")\n",
    "    return highest_score_c"
   ]
  },
  {
   "cell_type": "code",
   "execution_count": 12,
   "metadata": {},
   "outputs": [
    {
     "name": "stdout",
     "output_type": "stream",
     "text": [
      "contamination: 0.01 \t AUC : 0.5 \t precision: 0.42, support: 16048 \t recall: 0.0897 \t fp: 22166 \t trained in: 0:01:07.473924\n",
      "contamination: 0.02 \t AUC : 0.6 \t precision: 0.382, support: 16048 \t recall: 0.163 \t fp: 26009 \t trained in: 0:01:06.269313\n",
      "contamination: 0.03 \t AUC : 0.6 \t precision: 0.41, support: 16048 \t recall: 0.263 \t fp: 23076 \t trained in: 0:01:08.493122\n",
      "contamination: 0.04 \t AUC : 0.7 \t precision: 0.389, support: 16048 \t recall: 0.329 \t fp: 25211 \t trained in: 0:01:06.907859\n",
      "contamination: 0.05 \t AUC : 0.7 \t precision: 0.347, support: 16048 \t recall: 0.358 \t fp: 30145 \t trained in: 0:01:10.433294\n",
      "contamination: 0.06 \t AUC : 0.7 \t precision: 0.349, support: 16048 \t recall: 0.442 \t fp: 29985 \t trained in: 0:01:07.368975\n",
      "contamination: 0.07 \t AUC : 0.7 \t precision: 0.299, support: 16048 \t recall: 0.442 \t fp: 37567 \t trained in: 0:01:08.309771\n",
      "contamination: 0.08 \t AUC : 0.7 \t precision: 0.3, support: 16048 \t recall: 0.51 \t fp: 37434 \t trained in: 0:01:06.838025\n",
      "contamination: 0.09 \t AUC : 0.7 \t precision: 0.269, support: 16048 \t recall: 0.51 \t fp: 43614 \t trained in: 0:01:05.701095\n",
      "contamination: 0.1 \t AUC : 0.7 \t precision: 0.242, support: 16048 \t recall: 0.51 \t fp: 50326 \t trained in: 0:01:09.032405\n"
     ]
    },
    {
     "data": {
      "text/plain": [
       "0.08"
      ]
     },
     "execution_count": 12,
     "metadata": {},
     "output_type": "execute_result"
    }
   ],
   "source": [
    "contamination = [round(0.01 + 0.01*i, 2) for i in range(10)]\n",
    "c_max = cross_validation(contamination)\n",
    "c_max"
   ]
  },
  {
   "cell_type": "code",
   "execution_count": 13,
   "metadata": {},
   "outputs": [
    {
     "name": "stdout",
     "output_type": "stream",
     "text": [
      "contamination: 0.1 \t AUC : 0.7 \t precision: 0.242, support: 16048 \t recall: 0.51 \t fp: 50326 \t trained in: 0:01:06.382878\n",
      "contamination: 0.2 \t AUC : 0.9 \t precision: 0.237, support: 16048 \t recall: 1.0 \t fp: 51567 \t trained in: 0:01:08.595805\n",
      "contamination: 0.3 \t AUC : 0.9 \t precision: 0.158, support: 16048 \t recall: 1.0 \t fp: 85362 \t trained in: 0:01:10.810329\n",
      "contamination: 0.4 \t AUC : 0.8 \t precision: 0.119, support: 16048 \t recall: 1.0 \t fp: 118751 \t trained in: 0:01:09.646030\n",
      "contamination: 0.5 \t AUC : 0.8 \t precision: 0.0952, support: 16048 \t recall: 1.0 \t fp: 152562 \t trained in: 0:01:07.822236\n",
      "contamination: 0.6 \t AUC : 0.7 \t precision: 0.0794, support: 16048 \t recall: 1.0 \t fp: 185997 \t trained in: 0:01:08.701308\n"
     ]
    },
    {
     "data": {
      "text/plain": [
       "0.2"
      ]
     },
     "execution_count": 13,
     "metadata": {},
     "output_type": "execute_result"
    }
   ],
   "source": [
    "contamination = [round(0.1*i, 1) for i in range(1, 7)]\n",
    "c_max = cross_validation(contamination)\n",
    "c_max"
   ]
  },
  {
   "cell_type": "code",
   "execution_count": 15,
   "metadata": {},
   "outputs": [],
   "source": [
    "c_max = 0.2"
   ]
  },
  {
   "cell_type": "code",
   "execution_count": 16,
   "metadata": {},
   "outputs": [
    {
     "name": "stdout",
     "output_type": "stream",
     "text": [
      "contamination: 0.1 \t AUC : 0.7 \t precision: 0.242, support: 16048 \t recall: 0.51 \t fp: 50326 \t trained in: 0:01:08.772054\n",
      "contamination: 0.11 \t AUC : 0.7 \t precision: 0.22, support: 16048 \t recall: 0.51 \t fp: 56874 \t trained in: 0:01:07.378130\n",
      "contamination: 0.12 \t AUC : 0.7 \t precision: 0.211, support: 16048 \t recall: 0.51 \t fp: 60166 \t trained in: 0:01:10.693526\n",
      "contamination: 0.13 \t AUC : 0.7 \t precision: 0.211, support: 16048 \t recall: 0.51 \t fp: 60166 \t trained in: 0:01:07.946999\n",
      "contamination: 0.14 \t AUC : 1e+00 \t precision: 0.339, support: 16048 \t recall: 0.999 \t fp: 31279 \t trained in: 0:01:06.050463\n",
      "contamination: 0.15 \t AUC : 0.9 \t precision: 0.317, support: 16048 \t recall: 0.999 \t fp: 34539 \t trained in: 0:01:11.984676\n",
      "contamination: 0.16 \t AUC : 0.9 \t precision: 0.297, support: 16048 \t recall: 1.0 \t fp: 37957 \t trained in: 0:01:13.729303\n",
      "contamination: 0.17 \t AUC : 0.9 \t precision: 0.28, support: 16048 \t recall: 1.0 \t fp: 41339 \t trained in: 0:01:08.704151\n",
      "contamination: 0.18 \t AUC : 0.9 \t precision: 0.264, support: 16048 \t recall: 1.0 \t fp: 44746 \t trained in: 0:01:07.754556\n",
      "contamination: 0.19 \t AUC : 0.9 \t precision: 0.25, support: 16048 \t recall: 1.0 \t fp: 48209 \t trained in: 0:01:09.179116\n",
      "contamination: 0.2 \t AUC : 0.9 \t precision: 0.237, support: 16048 \t recall: 1.0 \t fp: 51567 \t trained in: 0:01:09.985610\n"
     ]
    },
    {
     "data": {
      "text/plain": [
       "0.14"
      ]
     },
     "execution_count": 16,
     "metadata": {},
     "output_type": "execute_result"
    }
   ],
   "source": [
    "contamination = [round(c_max - 0.1 + 0.01*i, 2) for i in range(11)]\n",
    "c_max = cross_validation(contamination)\n",
    "c_max"
   ]
  },
  {
   "cell_type": "code",
   "execution_count": 20,
   "metadata": {},
   "outputs": [
    {
     "name": "stdout",
     "output_type": "stream",
     "text": [
      "AUC: 95.1%\n",
      "              precision    recall  f1-score   support\n",
      "\n",
      "          -1       0.34      1.00      0.51     16048\n",
      "           1       1.00      0.90      0.95    321021\n",
      "\n",
      "    accuracy                           0.91    337069\n",
      "   macro avg       0.67      0.95      0.73    337069\n",
      "weighted avg       0.97      0.91      0.93    337069\n",
      "\n"
     ]
    },
    {
     "data": {
      "image/png": "[encoded data removed]",
      "text/plain": [
       "<Figure size 432x288 with 2 Axes>"
      ]
     },
     "metadata": {
      "needs_background": "light"
     },
     "output_type": "display_data"
    }
   ],
   "source": [
    "y_pred = IsolationForest(random_state=1, n_jobs=-1, max_samples=0.25, n_estimators=100, contamination=c_max).fit(x_train).predict(x_test)\n",
    "cm_if = confusion_matrix(y_test, y_pred)\n",
    "print(f\"AUC: {roc_auc_score(y_test, y_pred):.1%}\")\n",
    "print(classification_report(y_test, y_pred))\n",
    "plot_confusion_matrix(cm_if, f\"Confusion matrix for If with c = {c_max}\")"
   ]
  },
  {
   "cell_type": "markdown",
   "metadata": {},
   "source": [
    "## Cross validation for LOF "
   ]
  },
  {
   "cell_type": "code",
   "execution_count": 3,
   "metadata": {},
   "outputs": [],
   "source": [
    "def cross_validation_lof(contamination):\n",
    "    highest_score = 0\n",
    "    highest_score_c = 0\n",
    "    #print(\"array:\", contamination)\n",
    "    for c in contamination:\n",
    "        y_pred = LocalOutlierFactor(n_neighbors=100, metric='euclidean', algorithm = 'auto', contamination=c, n_jobs=-1).fit_predict(x_test)\n",
    "        p, r, f, s = map(lambda x: x[0], precision_recall_fscore_support(y_test, y_pred, labels=[-1]))\n",
    "        if p + r > highest_score: highest_score = p+r; highest_score_c = c\n",
    "        fp = s / p - s\n",
    "        print(f\"contamination: {c}, AUC : {roc_auc_score(y_test, y_pred):.1}, precision: {p}, support: {s}, recall: {r}, fp: {int(round(fp, 0))}\")\n",
    "    return highest_score_c"
   ]
  },
  {
   "cell_type": "code",
   "execution_count": 7,
   "metadata": {},
   "outputs": [
    {
     "name": "stdout",
     "output_type": "stream",
     "text": [
      "contamination: 0.1, AUC : 0.5, precision: 0.026700685317589817, support: 16048, recall: 0.05608175473579262, fp: 584985\n",
      "contamination: 0.2, AUC : 0.4, precision: 0.022146735099534222, support: 16048, recall: 0.0930333998005982, fp: 708573\n",
      "contamination: 0.3, AUC : 0.4, precision: 0.020322188269498918, support: 16048, recall: 0.12805333998005983, fp: 773631\n",
      "contamination: 0.4, AUC : 0.4, precision: 0.019580502566232533, support: 16048, recall: 0.16450648055832504, fp: 803543\n",
      "contamination: 0.5, AUC : 0.3, precision: 0.019040668351786583, support: 16048, recall: 0.19996261216350947, fp: 826780\n"
     ]
    },
    {
     "data": {
      "text/plain": [
       "0.5"
      ]
     },
     "execution_count": 7,
     "metadata": {},
     "output_type": "execute_result"
    }
   ],
   "source": [
    "contamination = [round(0.1 + 0.1*i, 2) for i in range(5)]\n",
    "c_max = cross_validation_lof(contamination)\n",
    "c_max"
   ]
  },
  {
   "cell_type": "code",
   "execution_count": 4,
   "metadata": {},
   "outputs": [
    {
     "name": "stdout",
     "output_type": "stream",
     "text": [
      "contamination: 0.01, AUC : 0.5, precision: 0.04817127564674398, support: 16048, recall: 0.010094715852442673, fp: 317097\n",
      "contamination: 0.02, AUC : 0.5, precision: 0.03752595668940967, support: 16048, recall: 0.015765204386839482, fp: 411603\n",
      "contamination: 0.03, AUC : 0.5, precision: 0.04232176406605359, support: 16048, recall: 0.02666999002991027, fp: 363142\n",
      "contamination: 0.04, AUC : 0.5, precision: 0.03700956760364904, support: 16048, recall: 0.031094217347956133, fp: 417570\n",
      "contamination: 0.05, AUC : 0.5, precision: 0.03334519995253352, support: 16048, recall: 0.03501994017946162, fp: 465221\n",
      "contamination: 0.06, AUC : 0.5, precision: 0.03070457354758962, support: 16048, recall: 0.03869641076769691, fp: 506610\n",
      "contamination: 0.07, AUC : 0.5, precision: 0.02924472323472069, support: 16048, recall: 0.042996011964107676, fp: 532701\n",
      "contamination: 0.08, AUC : 0.5, precision: 0.02829488986130683, support: 16048, recall: 0.04754486540378863, fp: 551122\n",
      "contamination: 0.09, AUC : 0.5, precision: 0.027460029668699523, support: 16048, recall: 0.05190677966101695, fp: 568365\n",
      "contamination: 0.1, AUC : 0.5, precision: 0.026700685317589817, support: 16048, recall: 0.05608175473579262, fp: 584985\n"
     ]
    },
    {
     "data": {
      "text/plain": [
       "0.1"
      ]
     },
     "execution_count": 4,
     "metadata": {},
     "output_type": "execute_result"
    }
   ],
   "source": [
    "contamination = [round(0.01 + 0.01*i, 2) for i in range(10)]\n",
    "c_max = cross_validation_lof(contamination)\n",
    "c_max"
   ]
  },
  {
   "cell_type": "code",
   "execution_count": null,
   "metadata": {},
   "outputs": [
    {
     "name": "stdout",
     "output_type": "stream",
     "text": [
      "contamination: 0.091, AUC : 0.5, precision: 0.027417356719045445, support: 16048, recall: 0.05240528414755733, fp: 569275\n",
      "contamination: 0.092, AUC : 0.5, precision: 0.027248395730547225, support: 16048, recall: 0.05265453639082752, fp: 572904\n",
      "contamination: 0.093, AUC : 0.5, precision: 0.027114967462039046, support: 16048, recall: 0.05296610169491525, fp: 575802\n",
      "contamination: 0.094, AUC : 0.5, precision: 0.02695281679027931, support: 16048, recall: 0.053215353938185446, fp: 579363\n",
      "contamination: 0.095, AUC : 0.5, precision: 0.027137592904877897, support: 16048, recall: 0.054150049850448655, fp: 575309\n",
      "contamination: 0.096, AUC : 0.5, precision: 0.027318520349825397, support: 16048, recall: 0.05508474576271186, fp: 571392\n"
     ]
    }
   ],
   "source": [
    "contamination = [round(c_max-0.01 + 0.001*i, 3) for i in range(1,10)]\n",
    "c_max = cross_validation_lof(contamination)\n",
    "c_max"
   ]
  },
  {
   "cell_type": "code",
   "execution_count": 6,
   "metadata": {},
   "outputs": [
    {
     "name": "stdout",
     "output_type": "stream",
     "text": [
      "trainning Isolation Forest in 0:01:46.126397\n",
      "              precision    recall  f1-score   support\n",
      "\n",
      "     anomaly       0.41      0.00      0.01     32011\n",
      "      normal       0.91      1.00      0.95    321109\n",
      "\n",
      "    accuracy                           0.91    353120\n",
      "   macro avg       0.66      0.50      0.48    353120\n",
      "weighted avg       0.86      0.91      0.87    353120\n",
      "\n",
      "AUC:  50.2%\n"
     ]
    },
    {
     "data": {
      "image/png": "[encoded data removed]",
      "text/plain": [
       "<Figure size 432x288 with 2 Axes>"
      ]
     },
     "metadata": {
      "needs_background": "light"
     },
     "output_type": "display_data"
    }
   ],
   "source": [
    "start = datetime.datetime.now()\n",
    "y_pred = LocalOutlierFactor(n_neighbors=100, metric='euclidean', algorithm = 'auto', contamination=c_max, n_jobs=-1).fit_predict(x_test)\n",
    "trainning_time = datetime.datetime.now() - start\n",
    "print(f\"trainning LOF in {trainning_time}\")\n",
    "cm = confusion_matrix(y_test, y_pred)\n",
    "plot_confusion_matrix(cm, \"confusion matrix\")\n",
    "print(classification_report(y_test, y_pred, target_names=['anomaly', 'normal']))\n",
    "print (\"AUC: \", \"{:.1%}\".format(roc_auc_score(y_test, y_pred)))"
   ]
  },
  {
   "cell_type": "code",
   "execution_count": 19,
   "metadata": {},
   "outputs": [
    {
     "name": "stdout",
     "output_type": "stream",
     "text": [
      "trainning LOF in 0:01:27.902615\n",
      "              precision    recall  f1-score   support\n",
      "\n",
      "     anomaly       0.02      0.20      0.03     16048\n",
      "      normal       0.92      0.49      0.64    321021\n",
      "\n",
      "    accuracy                           0.47    337069\n",
      "   macro avg       0.47      0.34      0.34    337069\n",
      "weighted avg       0.88      0.47      0.61    337069\n",
      "\n",
      "AUC:  34.2%\n"
     ]
    },
    {
     "data": {
      "image/png": "[encoded data removed]",
      "text/plain": [
       "<Figure size 432x288 with 2 Axes>"
      ]
     },
     "metadata": {
      "needs_background": "light"
     },
     "output_type": "display_data"
    }
   ],
   "source": [
    "start = datetime.datetime.now()\n",
    "y_pred = LocalOutlierFactor(n_neighbors=100, metric='euclidean', algorithm = 'auto', contamination=0.5, n_jobs=-1).fit_predict(x_test)\n",
    "trainning_time = datetime.datetime.now() - start\n",
    "print(f\"trainning LOF in {trainning_time}\")\n",
    "cm = confusion_matrix(y_test, y_pred)\n",
    "plot_confusion_matrix(cm, \"confusion matrix\")\n",
    "print(classification_report(y_test, y_pred, target_names=['anomaly', 'normal']))\n",
    "print (\"AUC: \", \"{:.1%}\".format(roc_auc_score(y_test, y_pred)))"
   ]
  },
  {
   "cell_type": "code",
   "execution_count": 5,
   "metadata": {},
   "outputs": [
    {
     "name": "stdout",
     "output_type": "stream",
     "text": [
      "trainning Isolation Forest in 0:00:45.360794\n",
      "              precision    recall  f1-score   support\n",
      "\n",
      "     anomaly       0.03      0.27      0.05     32011\n",
      "      normal       0.63      0.12      0.21    321109\n",
      "\n",
      "    accuracy                           0.14    353120\n",
      "   macro avg       0.33      0.20      0.13    353120\n",
      "weighted avg       0.58      0.14      0.19    353120\n",
      "\n",
      "AUC:  20.0%\n"
     ]
    },
    {
     "data": {
      "image/png": "[encoded data removed]",
      "text/plain": [
       "<Figure size 432x288 with 2 Axes>"
      ]
     },
     "metadata": {
      "needs_background": "light"
     },
     "output_type": "display_data"
    }
   ],
   "source": [
    "start = datetime.datetime.now()\n",
    "db = dbscan.fit(x_test)\n",
    "y_pred = [1 if i != -1 else i for i in db.labels_]\n",
    "trainning_time = datetime.datetime.now() - start\n",
    "print(f\"trainning Isolation Forest in {trainning_time}\")\n",
    "cm = confusion_matrix(y_test, y_pred)\n",
    "plot_confusion_matrix(cm, \"confusion matrix\")\n",
    "print(classification_report(y_test, y_pred, target_names=['anomaly', 'normal']))\n",
    "print (\"AUC: \", \"{:.1%}\".format(roc_auc_score(y_test, y_pred)))"
   ]
  },
  {
   "cell_type": "code",
   "execution_count": null,
   "metadata": {},
   "outputs": [],
   "source": []
  }
 ],
 "metadata": {
  "kernelspec": {
   "display_name": "Python 3",
   "language": "python",
   "name": "python3"
  },
  "language_info": {
   "codemirror_mode": {
    "name": "ipython",
    "version": 3
   },
   "file_extension": ".py",
   "mimetype": "text/x-python",
   "name": "python",
   "nbconvert_exporter": "python",
   "pygments_lexer": "ipython3",
   "version": "3.8.5"
  }
 },
 "nbformat": 4,
 "nbformat_minor": 4
}
