{
 "cells": [
  {
   "cell_type": "code",
   "execution_count": 1,
   "metadata": {},
   "outputs": [],
   "source": [
    "from imports import *"
   ]
  },
  {
   "cell_type": "markdown",
   "metadata": {},
   "source": [
    "# Fetch dataset"
   ]
  },
  {
   "cell_type": "code",
   "execution_count": 2,
   "metadata": {},
   "outputs": [
    {
     "name": "stdout",
     "output_type": "stream",
     "text": [
      "anomaly rate is 4.8% out of 1021419 records (48639)\n"
     ]
    }
   ],
   "source": [
    "target_anomaly_rate = 0.05\n",
    "\n",
    "df = pd.read_csv('kddcup.data', delimiter=',')\n",
    "df.columns = sa_columns + [\"target\"]\n",
    "df_normal = df[df[\"target\"]== 'normal.']\n",
    "n_records = int(np.ceil(len(df_normal)*target_anomaly_rate))\n",
    "\n",
    "df = df_normal.append(df[df[\"target\"]!= 'normal.'].sample(n = n_records, random_state=1))\n",
    "anomaly_rate = 1.0 - len(df.loc[df[\"target\"]=='normal.'])/len(df)\n",
    "print(f\"anomaly rate is {anomaly_rate:.1%} out of {len(df)} records ({n_records})\")\n",
    "\n",
    "df['binary_target'] = [1 if x=='normal.' else -1 for x in df[\"target\"]]\n",
    "df = df.sample(frac=1, random_state=2)\n",
    "toDecode = [\"protocol_type\", \"service\", \"flag\", \"target\"]\n",
    "leSF = preprocessing.LabelEncoder()\n",
    "for f in toDecode:\n",
    "    df[f] = leSF.fit_transform(df[f])\n",
    "\n",
    "x_train, x_test, y_train, y_test = train_test_split(df.drop([\"target\", 'binary_target'], axis=1), df['binary_target'], test_size=0.33, random_state=0)\n",
    "results = []"
   ]
  },
  {
   "cell_type": "markdown",
   "metadata": {},
   "source": [
    "Just like with sklearn SA dataset, we selected all of the 'normal' data with a small portion of outliers to reach our target anomaly rate"
   ]
  },
  {
   "cell_type": "markdown",
   "metadata": {},
   "source": [
    "# Cross-validation for Isolation Forest"
   ]
  },
  {
   "cell_type": "code",
   "execution_count": 81,
   "metadata": {},
   "outputs": [],
   "source": [
    "def cross_validation(contamination):\n",
    "    highest_score = 0\n",
    "    highest_score_c = 0\n",
    "    for c in contamination:\n",
    "        s = datetime.datetime.now()\n",
    "        y_pred = IsolationForest(random_state=1, n_jobs=-1, max_samples=0.25, n_estimators=100, contamination=c).fit(x_train).predict(x_test)\n",
    "        t = datetime.datetime.now() - s\n",
    "        p, r, f, s = map(lambda x: x[0], precision_recall_fscore_support(y_test, y_pred, labels=[-1]))\n",
    "        # p = tp / (tp + fp)\n",
    "        a = roc_auc_score(y_test, y_pred)\n",
    "        if p + r + a > highest_score: highest_score = p + r + a; highest_score_c = c\n",
    "        \n",
    "        yp = np.array(y_pred)\n",
    "        yt = np.array(y_test)\n",
    "        \n",
    "        prediction = yp[np.where(yt == -1)]\n",
    "\n",
    "        tp = len(yp[np.where(prediction == -1)])\n",
    "        print(tp)\n",
    "        fp = len(prediction) - tp\n",
    "        \n",
    "        print(f\"contamination: {c} \\t tp: {tp}/{s} -> fp = {fp}\")\n",
    "        print(f\"AUC : {a:.1%} \\t precision: {p:.3} \\t recall: {r:.3} \\t f1: {f}\")\n",
    "        print(\"--------------------\")\n",
    "    return highest_score_c"
   ]
  },
  {
   "cell_type": "code",
   "execution_count": 82,
   "metadata": {},
   "outputs": [
    {
     "name": "stdout",
     "output_type": "stream",
     "text": [
      "{1, -1}\n"
     ]
    }
   ],
   "source": [
    "print(set(np.array(y_test)))"
   ]
  },
  {
   "cell_type": "code",
   "execution_count": 83,
   "metadata": {},
   "outputs": [
    {
     "name": "stdout",
     "output_type": "stream",
     "text": [
      "1440\n",
      "contamination: 0.01 \t tp: 1440/16048 -> fp = 14608\n",
      "AUC : 54.2% \t precision: 0.42 \t recall: 0.0897 \t f1: 0.14786671458643527\n",
      "--------------------\n"
     ]
    },
    {
     "data": {
      "text/plain": [
       "0.01"
      ]
     },
     "execution_count": 83,
     "metadata": {},
     "output_type": "execute_result"
    }
   ],
   "source": [
    "contamination = [0.01]\n",
    "c_max = cross_validation(contamination)\n",
    "c_max"
   ]
  },
  {
   "cell_type": "code",
   "execution_count": 84,
   "metadata": {},
   "outputs": [
    {
     "name": "stdout",
     "output_type": "stream",
     "text": [
      "1440\n",
      "contamination: 0.01 \t tp: 1440/16048 -> fp = 14608\n",
      "AUC : 54.2% \t precision: 0.42 \t recall: 0.0897 \t f1: 0.14786671458643527\n",
      "--------------------\n",
      "2610\n",
      "contamination: 0.02 \t tp: 2610/16048 -> fp = 13438\n",
      "AUC : 57.5% \t precision: 0.382 \t recall: 0.163 \t f1: 0.22806710940230684\n",
      "--------------------\n",
      "4213\n",
      "contamination: 0.03 \t tp: 4213/16048 -> fp = 11835\n",
      "AUC : 62.2% \t precision: 0.41 \t recall: 0.263 \t f1: 0.32014894182909687\n",
      "--------------------\n",
      "5284\n",
      "contamination: 0.04 \t tp: 5284/16048 -> fp = 10764\n",
      "AUC : 65.2% \t precision: 0.389 \t recall: 0.329 \t f1: 0.35662943340195047\n",
      "--------------------\n",
      "5740\n",
      "contamination: 0.05 \t tp: 5740/16048 -> fp = 10308\n",
      "AUC : 66.2% \t precision: 0.347 \t recall: 0.358 \t f1: 0.3524715996315628\n",
      "--------------------\n",
      "7094\n",
      "contamination: 0.06 \t tp: 7094/16048 -> fp = 8954\n",
      "AUC : 70.0% \t precision: 0.349 \t recall: 0.442 \t f1: 0.3898123471714702\n",
      "--------------------\n",
      "7096\n",
      "contamination: 0.07 \t tp: 7096/16048 -> fp = 8952\n",
      "AUC : 69.5% \t precision: 0.299 \t recall: 0.442 \t f1: 0.3569865425732612\n",
      "--------------------\n",
      "8177\n",
      "contamination: 0.08 \t tp: 8177/16048 -> fp = 7871\n",
      "AUC : 72.5% \t precision: 0.3 \t recall: 0.51 \t f1: 0.37769925402434235\n",
      "--------------------\n",
      "8177\n",
      "contamination: 0.09 \t tp: 8177/16048 -> fp = 7871\n",
      "AUC : 72.0% \t precision: 0.269 \t recall: 0.51 \t f1: 0.3520926627626593\n",
      "--------------------\n",
      "8178\n",
      "contamination: 0.1 \t tp: 8178/16048 -> fp = 7870\n",
      "AUC : 71.5% \t precision: 0.242 \t recall: 0.51 \t f1: 0.3279595765158807\n",
      "--------------------\n"
     ]
    },
    {
     "data": {
      "text/plain": [
       "0.08"
      ]
     },
     "execution_count": 84,
     "metadata": {},
     "output_type": "execute_result"
    }
   ],
   "source": [
    "contamination = [round(0.01 + 0.01*i, 2) for i in range(10)]\n",
    "c_max = cross_validation(contamination)\n",
    "c_max"
   ]
  },
  {
   "cell_type": "code",
   "execution_count": 85,
   "metadata": {},
   "outputs": [
    {
     "name": "stdout",
     "output_type": "stream",
     "text": [
      "8178\n",
      "contamination: 0.1 \t tp: 8178/16048 -> fp = 7870\n",
      "AUC : 71.5% \t precision: 0.242 \t recall: 0.51 \t f1: 0.3279595765158807\n",
      "--------------------\n",
      "16043\n",
      "contamination: 0.2 \t tp: 16043/16048 -> fp = 5\n",
      "AUC : 92.0% \t precision: 0.237 \t recall: 1.0 \t f1: 0.3836111044690466\n",
      "--------------------\n",
      "16048\n",
      "contamination: 0.3 \t tp: 16048/16048 -> fp = 0\n",
      "AUC : 86.7% \t precision: 0.158 \t recall: 1.0 \t f1: 0.2732551209794139\n",
      "--------------------\n",
      "16048\n",
      "contamination: 0.4 \t tp: 16048/16048 -> fp = 0\n",
      "AUC : 81.5% \t precision: 0.119 \t recall: 1.0 \t f1: 0.2127718814427864\n",
      "--------------------\n",
      "16048\n",
      "contamination: 0.5 \t tp: 16048/16048 -> fp = 0\n",
      "AUC : 76.2% \t precision: 0.0952 \t recall: 1.0 \t f1: 0.17381321145035689\n",
      "--------------------\n",
      "16048\n",
      "contamination: 0.6 \t tp: 16048/16048 -> fp = 0\n",
      "AUC : 71.0% \t precision: 0.0794 \t recall: 1.0 \t f1: 0.1471665757268688\n",
      "--------------------\n"
     ]
    },
    {
     "data": {
      "text/plain": [
       "0.2"
      ]
     },
     "execution_count": 85,
     "metadata": {},
     "output_type": "execute_result"
    }
   ],
   "source": [
    "contamination = [round(0.1*i, 1) for i in range(1, 7)]\n",
    "c_max_2 = cross_validation(contamination)\n",
    "c_max_2"
   ]
  },
  {
   "cell_type": "code",
   "execution_count": 86,
   "metadata": {},
   "outputs": [],
   "source": [
    "c_max = c_max_2 if c_max_2 > c_max else c_max"
   ]
  },
  {
   "cell_type": "code",
   "execution_count": 87,
   "metadata": {},
   "outputs": [
    {
     "name": "stdout",
     "output_type": "stream",
     "text": [
      "8178\n",
      "contamination: 0.1 \t tp: 8178/16048 -> fp = 7870\n",
      "AUC : 71.5% \t precision: 0.242 \t recall: 0.51 \t f1: 0.3279595765158807\n",
      "--------------------\n",
      "8180\n",
      "contamination: 0.11 \t tp: 8180/16048 -> fp = 7868\n",
      "AUC : 71.0% \t precision: 0.22 \t recall: 0.51 \t f1: 0.30741478447141946\n",
      "--------------------\n",
      "8180\n",
      "contamination: 0.12 \t tp: 8180/16048 -> fp = 7868\n",
      "AUC : 70.7% \t precision: 0.211 \t recall: 0.51 \t f1: 0.2980180705333722\n",
      "--------------------\n",
      "8180\n",
      "contamination: 0.13 \t tp: 8180/16048 -> fp = 7868\n",
      "AUC : 70.7% \t precision: 0.211 \t recall: 0.51 \t f1: 0.2980180705333722\n",
      "--------------------\n",
      "16039\n",
      "contamination: 0.14 \t tp: 16039/16048 -> fp = 9\n",
      "AUC : 95.1% \t precision: 0.339 \t recall: 0.999 \t f1: 0.5063774704805203\n",
      "--------------------\n",
      "16039\n",
      "contamination: 0.15 \t tp: 16039/16048 -> fp = 9\n",
      "AUC : 94.6% \t precision: 0.317 \t recall: 0.999 \t f1: 0.48160103292446743\n",
      "--------------------\n",
      "16040\n",
      "contamination: 0.16 \t tp: 16040/16048 -> fp = 8\n",
      "AUC : 94.1% \t precision: 0.297 \t recall: 1.0 \t f1: 0.4581155570787993\n",
      "--------------------\n",
      "16040\n",
      "contamination: 0.17 \t tp: 16040/16048 -> fp = 8\n",
      "AUC : 93.5% \t precision: 0.28 \t recall: 1.0 \t f1: 0.437021496880364\n",
      "--------------------\n",
      "16041\n",
      "contamination: 0.18 \t tp: 16041/16048 -> fp = 7\n",
      "AUC : 93.0% \t precision: 0.264 \t recall: 1.0 \t f1: 0.4176528021870729\n",
      "--------------------\n",
      "16043\n",
      "contamination: 0.19 \t tp: 16043/16048 -> fp = 5\n",
      "AUC : 92.5% \t precision: 0.25 \t recall: 1.0 \t f1: 0.39965124244877626\n",
      "--------------------\n",
      "16043\n",
      "contamination: 0.2 \t tp: 16043/16048 -> fp = 5\n",
      "AUC : 92.0% \t precision: 0.237 \t recall: 1.0 \t f1: 0.3836111044690466\n",
      "--------------------\n"
     ]
    },
    {
     "data": {
      "text/plain": [
       "0.14"
      ]
     },
     "execution_count": 87,
     "metadata": {},
     "output_type": "execute_result"
    }
   ],
   "source": [
    "contamination = [round(c_max - 0.1 + 0.01*i, 2) for i in range(11)]\n",
    "c_max = cross_validation(contamination)\n",
    "c_max"
   ]
  },
  {
   "cell_type": "code",
   "execution_count": 88,
   "metadata": {},
   "outputs": [
    {
     "name": "stdout",
     "output_type": "stream",
     "text": [
      "AUC: 95.1%\n",
      "              precision    recall  f1-score   support\n",
      "\n",
      "          -1       0.34      1.00      0.51     16048\n",
      "           1       1.00      0.90      0.95    321021\n",
      "\n",
      "    accuracy                           0.91    337069\n",
      "   macro avg       0.67      0.95      0.73    337069\n",
      "weighted avg       0.97      0.91      0.93    337069\n",
      "\n"
     ]
    },
    {
     "data": {
      "image/png": "[encoded data removed]",
      "text/plain": [
       "<Figure size 432x288 with 2 Axes>"
      ]
     },
     "metadata": {
      "needs_background": "light"
     },
     "output_type": "display_data"
    }
   ],
   "source": [
    "s = datetime.datetime.now()\n",
    "y_pred = IsolationForest(random_state=1, n_jobs=-1, max_samples=0.25, n_estimators=100, contamination=c_max).fit(x_train).predict(x_test)\n",
    "t = datetime.datetime.now() - s\n",
    "cm_if = confusion_matrix(y_test, y_pred)\n",
    "print(f\"trained isolation forest in: {t}\")\n",
    "print(f\"AUC: {roc_auc_score(y_test, y_pred):.1%}\")\n",
    "print(classification_report(y_test, y_pred))\n",
    "plot_confusion_matrix(cm_if, f\"Confusion matrix for If with c = {c_max}\")"
   ]
  },
  {
   "cell_type": "markdown",
   "metadata": {},
   "source": [
    "## Cross validation for LOF "
   ]
  },
  {
   "cell_type": "code",
   "execution_count": 3,
   "metadata": {},
   "outputs": [],
   "source": [
    "def cross_validation_lof(contamination):\n",
    "    highest_score = 0\n",
    "    highest_score_c = 0\n",
    "    #print(\"array:\", contamination)\n",
    "    for c in contamination:\n",
    "        s = datetime.datetime.now()\n",
    "        y_pred = LocalOutlierFactor(n_neighbors=100, metric='euclidean', algorithm = 'auto', contamination=c, n_jobs=-1).fit_predict(x_test)\n",
    "        t = datetime.datetime.now() - s\n",
    "        p, r, f, s = map(lambda x: x[0], precision_recall_fscore_support(y_test, y_pred, labels=[-1]))\n",
    "        # p = tp / (tp + fp)\n",
    "        a = roc_auc_score(y_test, y_pred)\n",
    "        if p + r + a > highest_score: highest_score = p + r + a; highest_score_c = c\n",
    "        \n",
    "        yp = np.array(y_pred)\n",
    "        yt = np.array(y_test)\n",
    "        \n",
    "        prediction = yp[np.where(yt == -1)]\n",
    "\n",
    "        tp = len(yp[np.where(prediction == -1)])\n",
    "        # fp through formula\n",
    "        fp = tp / p - tp\n",
    "        \n",
    "        # predicted true\n",
    "        positives = yp[np.where(yp == -1)]\n",
    "        print(f\"{len(positives)} ({tp}) -> fp = {len(positives) - tp}/{fp}\")\n",
    "        \n",
    "        print(f\"contamination: {c} \\t tp: {tp}/{s} -> fp = {fp}\")\n",
    "        print(f\"AUC : {a:.1%} \\t precision: {p:.3} \\t recall: {r:.3} \\t f1: {f}\")\n",
    "        print(\"--------------------\")\n",
    "    return highest_score_c"
   ]
  },
  {
   "cell_type": "code",
   "execution_count": 4,
   "metadata": {},
   "outputs": [
    {
     "name": "stdout",
     "output_type": "stream",
     "text": [
      "33707 (900) -> fp = 32807/32807.0\n",
      "contamination: 0.1 \t tp: 900/16048 -> fp = 32807.0\n",
      "AUC : 47.7% \t precision: 0.0267 \t recall: 0.0561 \t f1: 0.03617726861621948\n",
      "--------------------\n",
      "67414 (1493) -> fp = 65921/65921.0\n",
      "contamination: 0.2 \t tp: 1493/16048 -> fp = 65921.0\n",
      "AUC : 44.4% \t precision: 0.0221 \t recall: 0.093 \t f1: 0.03577676068150775\n",
      "--------------------\n",
      "101121 (2055) -> fp = 99066/99066.0\n",
      "contamination: 0.3 \t tp: 2055/16048 -> fp = 99066.0\n",
      "AUC : 41.0% \t precision: 0.0203 \t recall: 0.128 \t f1: 0.03507753757393167\n",
      "--------------------\n",
      "134828 (2640) -> fp = 132188/132188.0\n",
      "contamination: 0.4 \t tp: 2640/16048 -> fp = 132188.0\n",
      "AUC : 37.6% \t precision: 0.0196 \t recall: 0.165 \t f1: 0.034995625546806644\n",
      "--------------------\n",
      "168534 (3209) -> fp = 165325/165325.0\n",
      "contamination: 0.5 \t tp: 3209/16048 -> fp = 165325.0\n",
      "AUC : 34.2% \t precision: 0.019 \t recall: 0.2 \t f1: 0.03477045432382356\n",
      "--------------------\n"
     ]
    },
    {
     "data": {
      "text/plain": [
       "0.5"
      ]
     },
     "execution_count": 4,
     "metadata": {},
     "output_type": "execute_result"
    }
   ],
   "source": [
    "contamination = [round(0.1 + 0.1*i, 2) for i in range(5)]\n",
    "c_max = cross_validation_lof(contamination)\n",
    "c_max"
   ]
  },
  {
   "cell_type": "code",
   "execution_count": 5,
   "metadata": {},
   "outputs": [
    {
     "name": "stdout",
     "output_type": "stream",
     "text": [
      "3363 (162) -> fp = 3201/3201.0\n",
      "contamination: 0.01 \t tp: 162/16048 -> fp = 3201.0\n",
      "AUC : 50.0% \t precision: 0.0482 \t recall: 0.0101 \t f1: 0.016691566637473596\n",
      "--------------------\n",
      "6742 (253) -> fp = 6489/6489.000000000001\n",
      "contamination: 0.02 \t tp: 253/16048 -> fp = 6489.000000000001\n",
      "AUC : 49.8% \t precision: 0.0375 \t recall: 0.0158 \t f1: 0.022202720491443617\n",
      "--------------------\n",
      "10113 (428) -> fp = 9685/9685.0\n",
      "contamination: 0.03 \t tp: 428/16048 -> fp = 9685.0\n",
      "AUC : 49.8% \t precision: 0.0423 \t recall: 0.0267 \t f1: 0.03272046175604908\n",
      "--------------------\n",
      "13483 (499) -> fp = 12984/12984.0\n",
      "contamination: 0.04 \t tp: 499/16048 -> fp = 12984.0\n",
      "AUC : 49.5% \t precision: 0.037 \t recall: 0.0311 \t f1: 0.03379499508990552\n",
      "--------------------\n",
      "16854 (562) -> fp = 16292/16292.0\n",
      "contamination: 0.05 \t tp: 562/16048 -> fp = 16292.0\n",
      "AUC : 49.2% \t precision: 0.0333 \t recall: 0.035 \t f1: 0.034162057017810464\n",
      "--------------------\n",
      "20225 (621) -> fp = 19604/19604.0\n",
      "contamination: 0.06 \t tp: 621/16048 -> fp = 19604.0\n",
      "AUC : 48.9% \t precision: 0.0307 \t recall: 0.0387 \t f1: 0.03424034405756348\n",
      "--------------------\n",
      "23594 (690) -> fp = 22904/22904.0\n",
      "contamination: 0.07 \t tp: 690/16048 -> fp = 22904.0\n",
      "AUC : 48.6% \t precision: 0.0292 \t recall: 0.043 \t f1: 0.03481156349326472\n",
      "--------------------\n",
      "26966 (763) -> fp = 26203/26203.0\n",
      "contamination: 0.08 \t tp: 763/16048 -> fp = 26203.0\n",
      "AUC : 48.3% \t precision: 0.0283 \t recall: 0.0475 \t f1: 0.03547682149997675\n",
      "--------------------\n",
      "30335 (833) -> fp = 29502/29502.0\n",
      "contamination: 0.09 \t tp: 833/16048 -> fp = 29502.0\n",
      "AUC : 48.0% \t precision: 0.0275 \t recall: 0.0519 \t f1: 0.03591833214755406\n",
      "--------------------\n",
      "33707 (900) -> fp = 32807/32807.0\n",
      "contamination: 0.1 \t tp: 900/16048 -> fp = 32807.0\n",
      "AUC : 47.7% \t precision: 0.0267 \t recall: 0.0561 \t f1: 0.03617726861621948\n",
      "--------------------\n"
     ]
    },
    {
     "data": {
      "text/plain": [
       "0.03"
      ]
     },
     "execution_count": 5,
     "metadata": {},
     "output_type": "execute_result"
    }
   ],
   "source": [
    "contamination = [round(0.01 + 0.01*i, 2) for i in range(10)]\n",
    "c_max = cross_validation_lof(contamination)\n",
    "c_max"
   ]
  },
  {
   "cell_type": "code",
   "execution_count": 6,
   "metadata": {},
   "outputs": [],
   "source": [
    "c_max = 0.5"
   ]
  },
  {
   "cell_type": "code",
   "execution_count": 7,
   "metadata": {},
   "outputs": [
    {
     "name": "stdout",
     "output_type": "stream",
     "text": [
      "165501 (3177) -> fp = 162324/162324.0\n",
      "contamination: 0.491 \t tp: 3177/16048 -> fp = 162324.0\n",
      "AUC : 34.6% \t precision: 0.0192 \t recall: 0.198 \t f1: 0.034998815746713006\n",
      "--------------------\n",
      "165838 (3179) -> fp = 162659/162659.0\n",
      "contamination: 0.492 \t tp: 3179/16048 -> fp = 162659.0\n",
      "AUC : 34.6% \t precision: 0.0192 \t recall: 0.198 \t f1: 0.03495596142638795\n",
      "--------------------\n",
      "166170 (3184) -> fp = 162986/162986.0\n",
      "contamination: 0.493 \t tp: 3184/16048 -> fp = 162986.0\n",
      "AUC : 34.5% \t precision: 0.0192 \t recall: 0.198 \t f1: 0.03494715121447936\n",
      "--------------------\n",
      "166510 (3189) -> fp = 163321/163321.0\n",
      "contamination: 0.494 \t tp: 3189/16048 -> fp = 163321.0\n",
      "AUC : 34.5% \t precision: 0.0192 \t recall: 0.199 \t f1: 0.03493684198994292\n",
      "--------------------\n",
      "166849 (3193) -> fp = 163656/163656.0\n",
      "contamination: 0.495 \t tp: 3193/16048 -> fp = 163656.0\n",
      "AUC : 34.5% \t precision: 0.0191 \t recall: 0.199 \t f1: 0.03491582694084649\n",
      "--------------------\n",
      "167186 (3197) -> fp = 163989/163989.0\n",
      "contamination: 0.496 \t tp: 3197/16048 -> fp = 163989.0\n",
      "AUC : 34.4% \t precision: 0.0191 \t recall: 0.199 \t f1: 0.03489527052839538\n",
      "--------------------\n",
      "167523 (3199) -> fp = 164324/164324.0\n",
      "contamination: 0.497 \t tp: 3199/16048 -> fp = 164324.0\n",
      "AUC : 34.4% \t precision: 0.0191 \t recall: 0.199 \t f1: 0.03485299965680854\n",
      "--------------------\n",
      "167860 (3200) -> fp = 164660/164659.99999999997\n",
      "contamination: 0.498 \t tp: 3200/16048 -> fp = 164659.99999999997\n",
      "AUC : 34.3% \t precision: 0.0191 \t recall: 0.199 \t f1: 0.03480000870000218\n",
      "--------------------\n",
      "168197 (3206) -> fp = 164991/164991.0\n",
      "contamination: 0.499 \t tp: 3206/16048 -> fp = 164991.0\n",
      "AUC : 34.3% \t precision: 0.0191 \t recall: 0.2 \t f1: 0.03480148715026188\n",
      "--------------------\n"
     ]
    },
    {
     "data": {
      "text/plain": [
       "0.491"
      ]
     },
     "execution_count": 7,
     "metadata": {},
     "output_type": "execute_result"
    }
   ],
   "source": [
    "contamination = [round(c_max-0.01 + 0.001*i, 3) for i in range(1,10)]\n",
    "c_max = cross_validation_lof(contamination)\n",
    "c_max"
   ]
  },
  {
   "cell_type": "code",
   "execution_count": 8,
   "metadata": {},
   "outputs": [
    {
     "name": "stdout",
     "output_type": "stream",
     "text": [
      "trainning LOF in 0:01:41.432512\n",
      "              precision    recall  f1-score   support\n",
      "\n",
      "     anomaly       0.02      0.20      0.03     16048\n",
      "      normal       0.92      0.49      0.64    321021\n",
      "\n",
      "    accuracy                           0.48    337069\n",
      "   macro avg       0.47      0.35      0.34    337069\n",
      "weighted avg       0.88      0.48      0.62    337069\n",
      "\n",
      "AUC:  34.6%\n"
     ]
    },
    {
     "data": {
      "image/png": "[encoded data removed]",
      "text/plain": [
       "<Figure size 432x288 with 2 Axes>"
      ]
     },
     "metadata": {
      "needs_background": "light"
     },
     "output_type": "display_data"
    }
   ],
   "source": [
    "start = datetime.datetime.now()\n",
    "y_pred = LocalOutlierFactor(n_neighbors=100, metric='euclidean', algorithm = 'auto', contamination=c_max, n_jobs=-1).fit_predict(x_test)\n",
    "trainning_time = datetime.datetime.now() - start\n",
    "print(f\"trainning LOF in {trainning_time}\")\n",
    "cm = confusion_matrix(y_test, y_pred)\n",
    "plot_confusion_matrix(cm, \"confusion matrix\")\n",
    "print(classification_report(y_test, y_pred, target_names=['anomaly', 'normal']))\n",
    "print (\"AUC: \", \"{:.1%}\".format(roc_auc_score(y_test, y_pred)))"
   ]
  },
  {
   "cell_type": "markdown",
   "metadata": {},
   "source": [
    "# DBSCAN\n",
    "\n",
    "Tested parameters: \n",
    "* eps"
   ]
  },
  {
   "cell_type": "code",
   "execution_count": 9,
   "metadata": {},
   "outputs": [],
   "source": [
    "def cross_validation_dbscan(eps):\n",
    "    highest_score = 0\n",
    "    best_eps = 0\n",
    "    for e in eps:\n",
    "        s = datetime.datetime.now()\n",
    "        db = DBSCAN(eps=e, min_samples=10, metric='euclidean', algorithm = 'auto', n_jobs=-1).fit(x_test)\n",
    "        y_pred = [1 if i != -1 else i for i in db.labels_]\n",
    "        t = datetime.datetime.now() - s\n",
    "        p, r, f, s = map(lambda x: x[0], precision_recall_fscore_support(y_test, y_pred, labels=[-1]))\n",
    "        # p = tp / (tp + fp)\n",
    "        a = roc_auc_score(y_test, y_pred)\n",
    "        if p + r + a > highest_score: highest_score = p + r + a; best_eps = e\n",
    "        \n",
    "        yp = np.array(y_pred)\n",
    "        yt = np.array(y_test)\n",
    "        \n",
    "        prediction = yp[np.where(yt == -1)]\n",
    "\n",
    "        tp = len(yp[np.where(prediction == -1)])\n",
    "        print(tp)\n",
    "        fp = len(prediction) - tp\n",
    "        \n",
    "        print(f\"eps: {e} \\t tp: {tp}/{s} -> fp = {fp}\")\n",
    "        print(f\"AUC : {a:.1%} \\t precision: {p:.3} \\t recall: {r:.3} \\t f1: {f}\")\n",
    "        print(\"--------------------\")\n",
    "    return best_eps"
   ]
  },
  {
   "cell_type": "code",
   "execution_count": 96,
   "metadata": {},
   "outputs": [
    {
     "name": "stdout",
     "output_type": "stream",
     "text": [
      "4740\n",
      "eps: 0.1 \t tp: 4740/16048 -> fp = 11308\n",
      "AUC : 20.9% \t precision: 0.0166 \t recall: 0.295 \t f1: 0.03134392017219319\n",
      "--------------------\n",
      "4723\n",
      "eps: 0.2 \t tp: 4723/16048 -> fp = 11325\n",
      "AUC : 21.0% \t precision: 0.0165 \t recall: 0.294 \t f1: 0.03131412583332504\n",
      "--------------------\n",
      "4719\n",
      "eps: 0.3 \t tp: 4719/16048 -> fp = 11329\n",
      "AUC : 21.0% \t precision: 0.0165 \t recall: 0.294 \t f1: 0.03131688184994575\n",
      "--------------------\n",
      "4719\n",
      "eps: 0.4 \t tp: 4719/16048 -> fp = 11329\n",
      "AUC : 21.0% \t precision: 0.0166 \t recall: 0.294 \t f1: 0.031344755781244286\n",
      "--------------------\n",
      "4718\n",
      "eps: 0.5 \t tp: 4718/16048 -> fp = 11330\n",
      "AUC : 21.1% \t precision: 0.0166 \t recall: 0.294 \t f1: 0.03136425883823275\n",
      "--------------------\n"
     ]
    },
    {
     "data": {
      "text/plain": [
       "0.5"
      ]
     },
     "execution_count": 96,
     "metadata": {},
     "output_type": "execute_result"
    }
   ],
   "source": [
    "eps = [round(0.1 + 0.1*i, 2) for i in range(5)]\n",
    "e_max = cross_validation_dbscan(eps)\n",
    "e_max"
   ]
  },
  {
   "cell_type": "code",
   "execution_count": 97,
   "metadata": {},
   "outputs": [
    {
     "name": "stdout",
     "output_type": "stream",
     "text": [
      "4794\n",
      "eps: 0.01 \t tp: 4794/16048 -> fp = 11254\n",
      "AUC : 19.4% \t precision: 0.0161 \t recall: 0.299 \t f1: 0.030634447458471915\n",
      "--------------------\n",
      "4777\n",
      "eps: 0.02 \t tp: 4777/16048 -> fp = 11271\n",
      "AUC : 20.1% \t precision: 0.0163 \t recall: 0.298 \t f1: 0.03099522776009681\n",
      "--------------------\n",
      "4777\n",
      "eps: 0.03 \t tp: 4777/16048 -> fp = 11271\n",
      "AUC : 20.4% \t precision: 0.0165 \t recall: 0.298 \t f1: 0.031207332449223572\n",
      "--------------------\n",
      "4767\n",
      "eps: 0.04 \t tp: 4767/16048 -> fp = 11281\n",
      "AUC : 20.6% \t precision: 0.0165 \t recall: 0.297 \t f1: 0.03124272920018744\n",
      "--------------------\n",
      "4767\n",
      "eps: 0.05 \t tp: 4767/16048 -> fp = 11281\n",
      "AUC : 20.7% \t precision: 0.0165 \t recall: 0.297 \t f1: 0.03133751429811067\n",
      "--------------------\n",
      "4757\n",
      "eps: 0.06 \t tp: 4757/16048 -> fp = 11291\n",
      "AUC : 20.8% \t precision: 0.0165 \t recall: 0.296 \t f1: 0.031323048153342685\n",
      "--------------------\n",
      "4754\n",
      "eps: 0.07 \t tp: 4754/16048 -> fp = 11294\n",
      "AUC : 20.8% \t precision: 0.0166 \t recall: 0.296 \t f1: 0.031349016633970224\n",
      "--------------------\n",
      "4753\n",
      "eps: 0.08 \t tp: 4753/16048 -> fp = 11295\n",
      "AUC : 20.9% \t precision: 0.0166 \t recall: 0.296 \t f1: 0.03137573315113888\n",
      "--------------------\n",
      "4742\n",
      "eps: 0.09 \t tp: 4742/16048 -> fp = 11306\n",
      "AUC : 20.9% \t precision: 0.0165 \t recall: 0.295 \t f1: 0.03133155818670755\n",
      "--------------------\n",
      "4740\n",
      "eps: 0.1 \t tp: 4740/16048 -> fp = 11308\n",
      "AUC : 20.9% \t precision: 0.0166 \t recall: 0.295 \t f1: 0.03134392017219319\n",
      "--------------------\n"
     ]
    },
    {
     "data": {
      "text/plain": [
       "0.08"
      ]
     },
     "execution_count": 97,
     "metadata": {},
     "output_type": "execute_result"
    }
   ],
   "source": [
    "eps = [round(0.01 + 0.01*i, 2) for i in range(10)]\n",
    "e_max = cross_validation_dbscan(eps)\n",
    "e_max"
   ]
  },
  {
   "cell_type": "code",
   "execution_count": 10,
   "metadata": {},
   "outputs": [],
   "source": [
    "e_max = 0.08"
   ]
  },
  {
   "cell_type": "code",
   "execution_count": 11,
   "metadata": {},
   "outputs": [
    {
     "name": "stdout",
     "output_type": "stream",
     "text": [
      "165501 (3177) -> fp = 162324/162324.0\n",
      "contamination: 0.491 \t tp: 3177/16048 -> fp = 162324.0\n",
      "AUC : 34.6% \t precision: 0.0192 \t recall: 0.198 \t f1: 0.034998815746713006\n",
      "--------------------\n",
      "165838 (3179) -> fp = 162659/162659.0\n",
      "contamination: 0.492 \t tp: 3179/16048 -> fp = 162659.0\n",
      "AUC : 34.6% \t precision: 0.0192 \t recall: 0.198 \t f1: 0.03495596142638795\n",
      "--------------------\n",
      "166170 (3184) -> fp = 162986/162986.0\n",
      "contamination: 0.493 \t tp: 3184/16048 -> fp = 162986.0\n",
      "AUC : 34.5% \t precision: 0.0192 \t recall: 0.198 \t f1: 0.03494715121447936\n",
      "--------------------\n",
      "166510 (3189) -> fp = 163321/163321.0\n",
      "contamination: 0.494 \t tp: 3189/16048 -> fp = 163321.0\n",
      "AUC : 34.5% \t precision: 0.0192 \t recall: 0.199 \t f1: 0.03493684198994292\n",
      "--------------------\n",
      "166849 (3193) -> fp = 163656/163656.0\n",
      "contamination: 0.495 \t tp: 3193/16048 -> fp = 163656.0\n",
      "AUC : 34.5% \t precision: 0.0191 \t recall: 0.199 \t f1: 0.03491582694084649\n",
      "--------------------\n",
      "167186 (3197) -> fp = 163989/163989.0\n",
      "contamination: 0.496 \t tp: 3197/16048 -> fp = 163989.0\n",
      "AUC : 34.4% \t precision: 0.0191 \t recall: 0.199 \t f1: 0.03489527052839538\n",
      "--------------------\n",
      "167523 (3199) -> fp = 164324/164324.0\n",
      "contamination: 0.497 \t tp: 3199/16048 -> fp = 164324.0\n",
      "AUC : 34.4% \t precision: 0.0191 \t recall: 0.199 \t f1: 0.03485299965680854\n",
      "--------------------\n",
      "167860 (3200) -> fp = 164660/164659.99999999997\n",
      "contamination: 0.498 \t tp: 3200/16048 -> fp = 164659.99999999997\n",
      "AUC : 34.3% \t precision: 0.0191 \t recall: 0.199 \t f1: 0.03480000870000218\n",
      "--------------------\n",
      "168197 (3206) -> fp = 164991/164991.0\n",
      "contamination: 0.499 \t tp: 3206/16048 -> fp = 164991.0\n",
      "AUC : 34.3% \t precision: 0.0191 \t recall: 0.2 \t f1: 0.03480148715026188\n",
      "--------------------\n"
     ]
    },
    {
     "data": {
      "text/plain": [
       "0.491"
      ]
     },
     "execution_count": 11,
     "metadata": {},
     "output_type": "execute_result"
    }
   ],
   "source": [
    "eps = [round(e_max-0.01 + 0.001*i, 3) for i in range(1,10)]\n",
    "e_max = cross_validation_lof(contamination)\n",
    "e_max"
   ]
  },
  {
   "cell_type": "code",
   "execution_count": 12,
   "metadata": {},
   "outputs": [
    {
     "name": "stdout",
     "output_type": "stream",
     "text": [
      "trainning Isolation Forest in 0:00:43.428649\n",
      "              precision    recall  f1-score   support\n",
      "\n",
      "     anomaly       0.02      0.29      0.03     16048\n",
      "      normal       0.78      0.13      0.22    321021\n",
      "\n",
      "    accuracy                           0.14    337069\n",
      "   macro avg       0.40      0.21      0.13    337069\n",
      "weighted avg       0.75      0.14      0.21    337069\n",
      "\n",
      "AUC:  21.1%\n"
     ]
    },
    {
     "data": {
      "image/png": "[encoded data removed]",
      "text/plain": [
       "<Figure size 432x288 with 2 Axes>"
      ]
     },
     "metadata": {
      "needs_background": "light"
     },
     "output_type": "display_data"
    }
   ],
   "source": [
    "start = datetime.datetime.now()\n",
    "db = DBSCAN(eps=e_max, min_samples=10, metric='euclidean', algorithm = 'auto', n_jobs=-1).fit(x_test)\n",
    "y_pred = [1 if i != -1 else i for i in db.labels_]\n",
    "trainning_time = datetime.datetime.now() - start\n",
    "print(f\"trainning Isolation Forest in {trainning_time}\")\n",
    "cm = confusion_matrix(y_test, y_pred)\n",
    "plot_confusion_matrix(cm, \"confusion matrix\")\n",
    "print(classification_report(y_test, y_pred, target_names=['anomaly', 'normal']))\n",
    "print (\"AUC: \", \"{:.1%}\".format(roc_auc_score(y_test, y_pred)))"
   ]
  },
  {
   "cell_type": "code",
   "execution_count": null,
   "metadata": {},
   "outputs": [],
   "source": []
  }
 ],
 "metadata": {
  "kernelspec": {
   "display_name": "Python 3",
   "language": "python",
   "name": "python3"
  },
  "language_info": {
   "codemirror_mode": {
    "name": "ipython",
    "version": 3
   },
   "file_extension": ".py",
   "mimetype": "text/x-python",
   "name": "python",
   "nbconvert_exporter": "python",
   "pygments_lexer": "ipython3",
   "version": "3.8.5"
  }
 },
 "nbformat": 4,
 "nbformat_minor": 4
}
