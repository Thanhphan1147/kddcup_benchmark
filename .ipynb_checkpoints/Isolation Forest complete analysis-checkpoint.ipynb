{
 "cells": [
  {
   "cell_type": "code",
   "execution_count": 1,
   "metadata": {},
   "outputs": [],
   "source": [
    "from imports import *"
   ]
  },
  {
   "cell_type": "markdown",
   "metadata": {},
   "source": [
    "# Preprocessing\n",
    "Load the dataset. IF is then run on samples of the dataset with different anomaly rates."
   ]
  },
  {
   "cell_type": "code",
   "execution_count": null,
   "metadata": {},
   "outputs": [],
   "source": [
    "def cross_validation(contamination, silent=true):\n",
    "    highest_score = 0\n",
    "    highest_score_c = 0\n",
    "    for c in contamination:\n",
    "        s = datetime.datetime.now()\n",
    "        y_pred = IsolationForest(random_state=1, n_jobs=-1, max_samples=0.25, n_estimators=100, contamination=c).fit(x_train).predict(x_test)\n",
    "        t = datetime.datetime.now() - s\n",
    "        p, r, f, s = map(lambda x: x[0], precision_recall_fscore_support(y_test, y_pred, labels=[-1]))\n",
    "        # p = tp / (tp + fp)\n",
    "        a = roc_auc_score(y_test, y_pred)\n",
    "        if p + r + a > highest_score: highest_score = p + r + a; highest_score_c = c\n",
    "        \n",
    "        yp = np.array(y_pred)\n",
    "        yt = np.array(y_test)\n",
    "        \n",
    "        prediction = yp[np.where(yt == -1)]\n",
    "\n",
    "        tp = len(yp[np.where(prediction == -1)])\n",
    "        \n",
    "        fp = tp / p - tp\n",
    "        # predicted true\n",
    "        positives = yp[np.where(yp == -1)]\n",
    "        if not silent:\n",
    "            print(f\"{len(positives)} ({tp}) -> fp = {len(positives) - tp}\")\n",
    "            print(f\"contamination: {c} \\t tp: {tp}/support: {s}/predicted: {len(positives)} -> fp = {len(positives) - tp}\")\n",
    "            print(f\"AUC : {a:.1%} \\t precision: {p:.3} \\t recall: {r:.3} \\t f1: {f}\")\n",
    "            print(\"--------------------\")\n",
    "    return highest_score_c"
   ]
  },
  {
   "cell_type": "code",
   "execution_count": 5,
   "metadata": {},
   "outputs": [
    {
     "name": "stdout",
     "output_type": "stream",
     "text": [
      "anomaly rate is 1.0% out of 982607 records (9827)\n"
     ]
    }
   ],
   "source": [
    "df = pd.read_csv('kddcup.data', delimiter=',')\n",
    "df.columns = sa_columns + [\"target\"]\n",
    "\n",
    "r = 0.01\n",
    "target_anomaly_rate = r\n",
    "n_records = int(np.ceil(len(df.loc[df[\"target\"]=='normal.'])*r/(1-r)))\n",
    "df_sample = df.loc[df[\"target\"]=='normal.'].append(df.loc[df[\"target\"]!='normal.'].sample(n = n_records, random_state=1))\n",
    "df_sample = df_sample.sample(frac=1, random_state=1)\n",
    "anomaly_rate = 1.0 - len(df_sample.loc[df_sample[\"target\"]=='normal.'])/len(df_sample)\n",
    "print(f\"anomaly rate is {anomaly_rate:.1%} out of {len(df_sample)} records ({n_records})\")\n",
    "\n",
    "df_sample['binary_target'] = [1 if x=='normal.' else -1 for x in df_sample[\"target\"]]\n",
    "toDecode = [\"protocol_type\", \"service\", \"flag\", \"target\"]\n",
    "leSF = preprocessing.LabelEncoder()\n",
    "for f in toDecode:\n",
    "    df_sample[f] = leSF.fit_transform(df_sample[f])\n",
    "\n",
    "x_train, x_test, y_train, y_test = train_test_split(df_sample.drop([\"target\", 'binary_target'], axis=1), df_sample['binary_target'], test_size=0.33, random_state=0)"
   ]
  },
  {
   "cell_type": "code",
   "execution_count": null,
   "metadata": {},
   "outputs": [],
   "source": []
  }
 ],
 "metadata": {
  "kernelspec": {
   "display_name": "Python 3",
   "language": "python",
   "name": "python3"
  },
  "language_info": {
   "codemirror_mode": {
    "name": "ipython",
    "version": 3
   },
   "file_extension": ".py",
   "mimetype": "text/x-python",
   "name": "python",
   "nbconvert_exporter": "python",
   "pygments_lexer": "ipython3",
   "version": "3.8.5"
  }
 },
 "nbformat": 4,
 "nbformat_minor": 4
}
