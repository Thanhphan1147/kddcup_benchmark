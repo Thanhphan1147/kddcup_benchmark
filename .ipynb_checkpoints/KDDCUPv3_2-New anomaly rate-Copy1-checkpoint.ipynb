{
 "cells": [
  {
   "cell_type": "code",
   "execution_count": 1,
   "metadata": {},
   "outputs": [],
   "source": [
    "from imports import *"
   ]
  },
  {
   "cell_type": "markdown",
   "metadata": {},
   "source": [
    "# Fetch dataset"
   ]
  },
  {
   "cell_type": "code",
   "execution_count": 2,
   "metadata": {},
   "outputs": [
    {
     "name": "stdout",
     "output_type": "stream",
     "text": [
      "anomaly rate is 16.7% out of 1167336 records (194556)\n"
     ]
    }
   ],
   "source": [
    "target_anomaly_rate = 0.2\n",
    "\n",
    "df = pd.read_csv('kddcup.data', delimiter=',')\n",
    "df.columns = sa_columns + [\"target\"]\n",
    "df_normal = df[df[\"target\"]== 'normal.']\n",
    "n_records = int(np.ceil(len(df_normal)*target_anomaly_rate))\n",
    "\n",
    "df = df_normal.append(df[df[\"target\"]!= 'normal.'].sample(n = n_records, random_state=1))\n",
    "anomaly_rate = 1.0 - len(df.loc[df[\"target\"]=='normal.'])/len(df)\n",
    "print(f\"anomaly rate is {anomaly_rate:.1%} out of {len(df)} records ({n_records})\")\n",
    "\n",
    "df['binary_target'] = [1 if x=='normal.' else -1 for x in df[\"target\"]]\n",
    "df = df.sample(frac=1, random_state=2)\n",
    "toDecode = [\"protocol_type\", \"service\", \"flag\", \"target\"]\n",
    "leSF = preprocessing.LabelEncoder()\n",
    "for f in toDecode:\n",
    "    df[f] = leSF.fit_transform(df[f])\n",
    "\n",
    "x_train, x_test, y_train, y_test = train_test_split(df.drop([\"target\", 'binary_target'], axis=1), df['binary_target'], test_size=0.33, random_state=0)\n",
    "results = []"
   ]
  },
  {
   "cell_type": "markdown",
   "metadata": {},
   "source": [
    "Just like with sklearn SA dataset, we selected all of the 'normal' data with a small portion of outliers to reach our target anomaly rate"
   ]
  },
  {
   "cell_type": "markdown",
   "metadata": {},
   "source": [
    "# Cross-validation for Isolation Forest"
   ]
  },
  {
   "cell_type": "code",
   "execution_count": 3,
   "metadata": {},
   "outputs": [],
   "source": [
    "def cross_validation(contamination):\n",
    "    highest_score = 0\n",
    "    highest_score_c = 0\n",
    "    for c in contamination:\n",
    "        s = datetime.datetime.now()\n",
    "        y_pred = IsolationForest(random_state=1, n_jobs=-1, max_samples=0.25, n_estimators=100, contamination=c).fit(x_train).predict(x_test)\n",
    "        t = datetime.datetime.now() - s\n",
    "        p, r, f, s = map(lambda x: x[0], precision_recall_fscore_support(y_test, y_pred, labels=[-1]))\n",
    "        # p = tp / (tp + fp)\n",
    "        a = roc_auc_score(y_test, y_pred)\n",
    "        if p + r + a > highest_score: highest_score = p + r + a; highest_score_c = c\n",
    "        \n",
    "        yp = np.array(y_pred)\n",
    "        yt = np.array(y_test)\n",
    "        \n",
    "        prediction = yp[np.where(yt == -1)]\n",
    "\n",
    "        tp = len(yp[np.where(prediction == -1)])\n",
    "        print(tp)\n",
    "        fp = len(prediction) - tp\n",
    "        \n",
    "        print(f\"contamination: {c} \\t tp: {tp}/{s} -> fp = {fp}\")\n",
    "        print(f\"AUC : {a:.1%} \\t precision: {p:.3} \\t recall: {r:.3} \\t f1: {f}\")\n",
    "        print(\"--------------------\")\n",
    "    return highest_score_c"
   ]
  },
  {
   "cell_type": "code",
   "execution_count": 4,
   "metadata": {},
   "outputs": [
    {
     "name": "stdout",
     "output_type": "stream",
     "text": [
      "{1, -1}\n"
     ]
    }
   ],
   "source": [
    "print(set(np.array(y_test)))"
   ]
  },
  {
   "cell_type": "code",
   "execution_count": 5,
   "metadata": {},
   "outputs": [
    {
     "name": "stdout",
     "output_type": "stream",
     "text": [
      "1197\n",
      "contamination: 0.01 \t tp: 1197/63899 -> fp = 62702\n",
      "AUC : 50.5% \t precision: 0.311 \t recall: 0.0187 \t f1: 0.035337879727216366\n",
      "--------------------\n"
     ]
    },
    {
     "data": {
      "text/plain": [
       "0.01"
      ]
     },
     "execution_count": 5,
     "metadata": {},
     "output_type": "execute_result"
    }
   ],
   "source": [
    "contamination = [0.01]\n",
    "c_max = cross_validation(contamination)\n",
    "c_max"
   ]
  },
  {
   "cell_type": "code",
   "execution_count": 6,
   "metadata": {},
   "outputs": [
    {
     "name": "stdout",
     "output_type": "stream",
     "text": [
      "1197\n",
      "contamination: 0.01 \t tp: 1197/63899 -> fp = 62702\n",
      "AUC : 50.5% \t precision: 0.311 \t recall: 0.0187 \t f1: 0.035337879727216366\n",
      "--------------------\n",
      "2582\n",
      "contamination: 0.02 \t tp: 2582/63899 -> fp = 61317\n",
      "AUC : 51.2% \t precision: 0.329 \t recall: 0.0404 \t f1: 0.07198316118150518\n",
      "--------------------\n",
      "4307\n",
      "contamination: 0.03 \t tp: 4307/63899 -> fp = 59592\n",
      "AUC : 52.2% \t precision: 0.371 \t recall: 0.0674 \t f1: 0.11410027154116166\n",
      "--------------------\n",
      "5013\n",
      "contamination: 0.04 \t tp: 5013/63899 -> fp = 58886\n",
      "AUC : 52.3% \t precision: 0.327 \t recall: 0.0785 \t f1: 0.1265158302522493\n",
      "--------------------\n",
      "5483\n",
      "contamination: 0.05 \t tp: 5483/63899 -> fp = 58416\n",
      "AUC : 52.2% \t precision: 0.285 \t recall: 0.0858 \t f1: 0.13191704359541911\n",
      "--------------------\n",
      "6101\n",
      "contamination: 0.06 \t tp: 6101/63899 -> fp = 57798\n",
      "AUC : 52.1% \t precision: 0.263 \t recall: 0.0955 \t f1: 0.14007415825785494\n",
      "--------------------\n",
      "6917\n",
      "contamination: 0.07 \t tp: 6917/63899 -> fp = 56982\n",
      "AUC : 52.3% \t precision: 0.256 \t recall: 0.108 \t f1: 0.1522361123338322\n",
      "--------------------\n",
      "8018\n",
      "contamination: 0.08 \t tp: 8018/63899 -> fp = 55881\n",
      "AUC : 52.7% \t precision: 0.258 \t recall: 0.125 \t f1: 0.16882132479892198\n",
      "--------------------\n",
      "9238\n",
      "contamination: 0.09 \t tp: 9238/63899 -> fp = 54661\n",
      "AUC : 53.2% \t precision: 0.264 \t recall: 0.145 \t f1: 0.18679230022646393\n",
      "--------------------\n",
      "10981\n",
      "contamination: 0.1 \t tp: 10981/63899 -> fp = 52918\n",
      "AUC : 54.2% \t precision: 0.282 \t recall: 0.172 \t f1: 0.21366307351052652\n",
      "--------------------\n"
     ]
    },
    {
     "data": {
      "text/plain": [
       "0.1"
      ]
     },
     "execution_count": 6,
     "metadata": {},
     "output_type": "execute_result"
    }
   ],
   "source": [
    "contamination = [round(0.01 + 0.01*i, 2) for i in range(10)]\n",
    "c_max = cross_validation(contamination)\n",
    "c_max"
   ]
  },
  {
   "cell_type": "code",
   "execution_count": 7,
   "metadata": {},
   "outputs": [
    {
     "name": "stdout",
     "output_type": "stream",
     "text": [
      "10981\n",
      "contamination: 0.1 \t tp: 10981/63899 -> fp = 52918\n",
      "AUC : 54.2% \t precision: 0.282 \t recall: 0.172 \t f1: 0.21366307351052652\n",
      "--------------------\n",
      "21788\n",
      "contamination: 0.2 \t tp: 21788/63899 -> fp = 42111\n",
      "AUC : 58.4% \t precision: 0.281 \t recall: 0.341 \t f1: 0.30810130520242657\n",
      "--------------------\n",
      "28127\n",
      "contamination: 0.3 \t tp: 28127/63899 -> fp = 35772\n",
      "AUC : 58.8% \t precision: 0.248 \t recall: 0.44 \t f1: 0.3174300433931282\n",
      "--------------------\n",
      "32479\n",
      "contamination: 0.4 \t tp: 32479/63899 -> fp = 31420\n",
      "AUC : 58.3% \t precision: 0.228 \t recall: 0.508 \t f1: 0.314679352407158\n",
      "--------------------\n",
      "63899\n",
      "contamination: 0.5 \t tp: 63899/63899 -> fp = 0\n",
      "AUC : 80.0% \t precision: 0.333 \t recall: 1.0 \t f1: 0.4991660905465524\n",
      "--------------------\n",
      "63899\n",
      "contamination: 0.6 \t tp: 63899/63899 -> fp = 0\n",
      "AUC : 74.0% \t precision: 0.276 \t recall: 1.0 \t f1: 0.43311665864586224\n",
      "--------------------\n"
     ]
    },
    {
     "data": {
      "text/plain": [
       "0.5"
      ]
     },
     "execution_count": 7,
     "metadata": {},
     "output_type": "execute_result"
    }
   ],
   "source": [
    "contamination = [round(0.1*i, 1) for i in range(1, 7)]\n",
    "c_max_2 = cross_validation(contamination)\n",
    "c_max_2"
   ]
  },
  {
   "cell_type": "code",
   "execution_count": 8,
   "metadata": {},
   "outputs": [],
   "source": [
    "c_max = c_max_2 if c_max_2 > c_max else c_max"
   ]
  },
  {
   "cell_type": "code",
   "execution_count": 9,
   "metadata": {},
   "outputs": [
    {
     "name": "stdout",
     "output_type": "stream",
     "text": [
      "32479\n",
      "contamination: 0.4 \t tp: 32479/63899 -> fp = 31420\n",
      "AUC : 58.3% \t precision: 0.228 \t recall: 0.508 \t f1: 0.314679352407158\n",
      "--------------------\n",
      "32479\n",
      "contamination: 0.41 \t tp: 32479/63899 -> fp = 31420\n",
      "AUC : 58.3% \t precision: 0.228 \t recall: 0.508 \t f1: 0.314679352407158\n",
      "--------------------\n",
      "32479\n",
      "contamination: 0.42 \t tp: 32479/63899 -> fp = 31420\n",
      "AUC : 58.3% \t precision: 0.228 \t recall: 0.508 \t f1: 0.314679352407158\n",
      "--------------------\n",
      "32479\n",
      "contamination: 0.43 \t tp: 32479/63899 -> fp = 31420\n",
      "AUC : 58.3% \t precision: 0.228 \t recall: 0.508 \t f1: 0.314679352407158\n",
      "--------------------\n",
      "32479\n",
      "contamination: 0.44 \t tp: 32479/63899 -> fp = 31420\n",
      "AUC : 58.3% \t precision: 0.228 \t recall: 0.508 \t f1: 0.314679352407158\n",
      "--------------------\n",
      "32479\n",
      "contamination: 0.45 \t tp: 32479/63899 -> fp = 31420\n",
      "AUC : 58.3% \t precision: 0.228 \t recall: 0.508 \t f1: 0.314679352407158\n",
      "--------------------\n",
      "63899\n",
      "contamination: 0.47 \t tp: 63899/63899 -> fp = 0\n",
      "AUC : 81.8% \t precision: 0.353 \t recall: 1.0 \t f1: 0.52185879374413\n",
      "--------------------\n",
      "63899\n",
      "contamination: 0.48 \t tp: 63899/63899 -> fp = 0\n",
      "AUC : 81.3% \t precision: 0.347 \t recall: 1.0 \t f1: 0.5150403817323038\n",
      "--------------------\n",
      "63899\n",
      "contamination: 0.49 \t tp: 63899/63899 -> fp = 0\n",
      "AUC : 80.6% \t precision: 0.339 \t recall: 1.0 \t f1: 0.5061968494892403\n",
      "--------------------\n",
      "63899\n",
      "contamination: 0.5 \t tp: 63899/63899 -> fp = 0\n",
      "AUC : 80.0% \t precision: 0.333 \t recall: 1.0 \t f1: 0.4991660905465524\n",
      "--------------------\n"
     ]
    },
    {
     "data": {
      "text/plain": [
       "0.46"
      ]
     },
     "execution_count": 9,
     "metadata": {},
     "output_type": "execute_result"
    }
   ],
   "source": [
    "contamination = [round(c_max - 0.1 + 0.01*i, 2) for i in range(11)]\n",
    "c_max = cross_validation(contamination)\n",
    "c_max"
   ]
  },
  {
   "cell_type": "code",
   "execution_count": 10,
   "metadata": {},
   "outputs": [
    {
     "name": "stdout",
     "output_type": "stream",
     "text": [
      "AUC: 82.4%\n",
      "              precision    recall  f1-score   support\n",
      "\n",
      "          -1       0.36      1.00      0.53     63899\n",
      "           1       1.00      0.65      0.79    321322\n",
      "\n",
      "    accuracy                           0.71    385221\n",
      "   macro avg       0.68      0.82      0.66    385221\n",
      "weighted avg       0.89      0.71      0.74    385221\n",
      "\n"
     ]
    },
    {
     "data": {
      "image/png": "[encoded data removed]",
      "text/plain": [
       "<Figure size 432x288 with 2 Axes>"
      ]
     },
     "metadata": {
      "needs_background": "light"
     },
     "output_type": "display_data"
    }
   ],
   "source": [
    "y_pred = IsolationForest(random_state=1, n_jobs=-1, max_samples=0.25, n_estimators=100, contamination=c_max).fit(x_train).predict(x_test)\n",
    "cm_if = confusion_matrix(y_test, y_pred)\n",
    "print(f\"AUC: {roc_auc_score(y_test, y_pred):.1%}\")\n",
    "print(classification_report(y_test, y_pred))\n",
    "plot_confusion_matrix(cm_if, f\"Confusion matrix for If with c = {c_max}\")"
   ]
  },
  {
   "cell_type": "markdown",
   "metadata": {},
   "source": [
    "## Cross validation for LOF "
   ]
  },
  {
   "cell_type": "code",
   "execution_count": 11,
   "metadata": {},
   "outputs": [],
   "source": [
    "def cross_validation_lof(contamination):\n",
    "    highest_score = 0\n",
    "    highest_score_c = 0\n",
    "    #print(\"array:\", contamination)\n",
    "    for c in contamination:\n",
    "        s = datetime.datetime.now()\n",
    "        y_pred = LocalOutlierFactor(n_neighbors=100, metric='euclidean', algorithm = 'auto', contamination=c, n_jobs=-1).fit_predict(x_test)\n",
    "        t = datetime.datetime.now() - s\n",
    "        p, r, f, s = map(lambda x: x[0], precision_recall_fscore_support(y_test, y_pred, labels=[-1]))\n",
    "        # p = tp / (tp + fp)\n",
    "        a = roc_auc_score(y_test, y_pred)\n",
    "        if p + r + a > highest_score: highest_score = p + r + a; highest_score_c = c\n",
    "        \n",
    "        yp = np.array(y_pred)\n",
    "        yt = np.array(y_test)\n",
    "        \n",
    "        prediction = yp[np.where(yt == -1)]\n",
    "\n",
    "        tp = len(yp[np.where(prediction == -1)])\n",
    "        # fp through formula\n",
    "        fp = tp / p - tp\n",
    "        \n",
    "        # predicted true\n",
    "        positives = yp[np.where(yp == -1)]\n",
    "        print(f\"{len(positives)} ({tp}) -> fp = {len(positives) - tp}/{fp}\")\n",
    "        \n",
    "        print(f\"contamination: {c} \\t tp: {tp}/{s} -> fp = {fp}\")\n",
    "        print(f\"AUC : {a:.1%} \\t precision: {p:.3} \\t recall: {r:.3} \\t f1: {f}\")\n",
    "        print(\"--------------------\")\n",
    "    return highest_score_c"
   ]
  },
  {
   "cell_type": "code",
   "execution_count": 12,
   "metadata": {},
   "outputs": [
    {
     "name": "stdout",
     "output_type": "stream",
     "text": [
      "38522 (3552) -> fp = 34970/34970.0\n",
      "contamination: 0.1 \t tp: 3552/63899 -> fp = 34970.0\n",
      "AUC : 47.3% \t precision: 0.0922 \t recall: 0.0556 \t f1: 0.06936077562218686\n",
      "--------------------\n",
      "77044 (6656) -> fp = 70388/70388.0\n",
      "contamination: 0.2 \t tp: 6656/63899 -> fp = 70388.0\n",
      "AUC : 44.3% \t precision: 0.0864 \t recall: 0.104 \t f1: 0.09444952924231781\n",
      "--------------------\n",
      "115566 (8726) -> fp = 106840/106840.0\n",
      "contamination: 0.3 \t tp: 8726/63899 -> fp = 106840.0\n",
      "AUC : 40.2% \t precision: 0.0755 \t recall: 0.137 \t f1: 0.09724458808124146\n",
      "--------------------\n",
      "154088 (10259) -> fp = 143829/143829.0\n",
      "contamination: 0.4 \t tp: 10259/63899 -> fp = 143829.0\n",
      "AUC : 35.6% \t precision: 0.0666 \t recall: 0.161 \t f1: 0.09412487900654626\n",
      "--------------------\n",
      "192610 (12168) -> fp = 180442/180442.0\n",
      "contamination: 0.5 \t tp: 12168/63899 -> fp = 180442.0\n",
      "AUC : 31.4% \t precision: 0.0632 \t recall: 0.19 \t f1: 0.09487386407494475\n",
      "--------------------\n"
     ]
    },
    {
     "data": {
      "text/plain": [
       "0.2"
      ]
     },
     "execution_count": 12,
     "metadata": {},
     "output_type": "execute_result"
    }
   ],
   "source": [
    "contamination = [round(0.1 + 0.1*i, 2) for i in range(5)]\n",
    "c_max = cross_validation_lof(contamination)\n",
    "c_max"
   ]
  },
  {
   "cell_type": "code",
   "execution_count": 13,
   "metadata": {},
   "outputs": [
    {
     "name": "stdout",
     "output_type": "stream",
     "text": [
      "3850 (1041) -> fp = 2809/2809.0\n",
      "contamination: 0.01 \t tp: 1041/63899 -> fp = 2809.0\n",
      "AUC : 50.4% \t precision: 0.27 \t recall: 0.0163 \t f1: 0.03073108090156312\n",
      "--------------------\n",
      "7704 (1196) -> fp = 6508/6508.0\n",
      "contamination: 0.02 \t tp: 1196/63899 -> fp = 6508.0\n",
      "AUC : 49.9% \t precision: 0.155 \t recall: 0.0187 \t f1: 0.033406421518651454\n",
      "--------------------\n",
      "11557 (1705) -> fp = 9852/9852.0\n",
      "contamination: 0.03 \t tp: 1705/63899 -> fp = 9852.0\n",
      "AUC : 49.8% \t precision: 0.148 \t recall: 0.0267 \t f1: 0.04519189991518236\n",
      "--------------------\n",
      "15409 (2066) -> fp = 13343/13343.0\n",
      "contamination: 0.04 \t tp: 2066/63899 -> fp = 13343.0\n",
      "AUC : 49.5% \t precision: 0.134 \t recall: 0.0323 \t f1: 0.052100670802441115\n",
      "--------------------\n",
      "19261 (2343) -> fp = 16918/16918.0\n",
      "contamination: 0.05 \t tp: 2343/63899 -> fp = 16918.0\n",
      "AUC : 49.2% \t precision: 0.122 \t recall: 0.0367 \t f1: 0.056349206349206336\n",
      "--------------------\n",
      "23114 (2571) -> fp = 20543/20543.0\n",
      "contamination: 0.06 \t tp: 2571/63899 -> fp = 20543.0\n",
      "AUC : 48.8% \t precision: 0.111 \t recall: 0.0402 \t f1: 0.0590946180455794\n",
      "--------------------\n",
      "26966 (2888) -> fp = 24078/24078.0\n",
      "contamination: 0.07 \t tp: 2888/63899 -> fp = 24078.0\n",
      "AUC : 48.5% \t precision: 0.107 \t recall: 0.0452 \t f1: 0.06356682991250756\n",
      "--------------------\n",
      "30818 (3078) -> fp = 27740/27740.0\n",
      "contamination: 0.08 \t tp: 3078/63899 -> fp = 27740.0\n",
      "AUC : 48.1% \t precision: 0.0999 \t recall: 0.0482 \t f1: 0.06499361255107321\n",
      "--------------------\n",
      "34670 (3296) -> fp = 31374/31374.0\n",
      "contamination: 0.09 \t tp: 3296/63899 -> fp = 31374.0\n",
      "AUC : 47.7% \t precision: 0.0951 \t recall: 0.0516 \t f1: 0.06687701001329018\n",
      "--------------------\n",
      "38522 (3552) -> fp = 34970/34970.0\n",
      "contamination: 0.1 \t tp: 3552/63899 -> fp = 34970.0\n",
      "AUC : 47.3% \t precision: 0.0922 \t recall: 0.0556 \t f1: 0.06936077562218686\n",
      "--------------------\n"
     ]
    },
    {
     "data": {
      "text/plain": [
       "0.01"
      ]
     },
     "execution_count": 13,
     "metadata": {},
     "output_type": "execute_result"
    }
   ],
   "source": [
    "contamination = [round(0.01 + 0.01*i, 2) for i in range(10)]\n",
    "c_max = cross_validation_lof(contamination)\n",
    "c_max"
   ]
  },
  {
   "cell_type": "code",
   "execution_count": 14,
   "metadata": {},
   "outputs": [],
   "source": [
    "c_max = 0.3"
   ]
  },
  {
   "cell_type": "code",
   "execution_count": null,
   "metadata": {},
   "outputs": [
    {
     "name": "stdout",
     "output_type": "stream",
     "text": [
      "112100 (8529) -> fp = 103571/103571.0\n",
      "contamination: 0.291 \t tp: 8529/63899 -> fp = 103571.0\n",
      "AUC : 40.6% \t precision: 0.0761 \t recall: 0.133 \t f1: 0.09692100523298429\n",
      "--------------------\n"
     ]
    }
   ],
   "source": [
    "contamination = [round(c_max-0.01 + 0.001*i, 3) for i in range(1,10)]\n",
    "c_max = cross_validation_lof(contamination)\n",
    "c_max"
   ]
  },
  {
   "cell_type": "code",
   "execution_count": null,
   "metadata": {},
   "outputs": [],
   "source": [
    "start = datetime.datetime.now()\n",
    "y_pred = LocalOutlierFactor(n_neighbors=100, metric='euclidean', algorithm = 'auto', contamination=0.5, n_jobs=-1).fit_predict(x_test)\n",
    "trainning_time = datetime.datetime.now() - start\n",
    "print(f\"trainning LOF in {trainning_time}\")\n",
    "cm = confusion_matrix(y_test, y_pred)\n",
    "plot_confusion_matrix(cm, \"confusion matrix\")\n",
    "print(classification_report(y_test, y_pred, target_names=['anomaly', 'normal']))\n",
    "print (\"AUC: \", \"{:.1%}\".format(roc_auc_score(y_test, y_pred)))"
   ]
  },
  {
   "cell_type": "code",
   "execution_count": null,
   "metadata": {},
   "outputs": [],
   "source": [
    "start = datetime.datetime.now()\n",
    "y_pred = LocalOutlierFactor(n_neighbors=100, metric='euclidean', algorithm = 'auto', contamination=c_max, n_jobs=-1).fit_predict(x_test)\n",
    "trainning_time = datetime.datetime.now() - start\n",
    "print(f\"trainning LOF in {trainning_time}\")\n",
    "cm = confusion_matrix(y_test, y_pred)\n",
    "plot_confusion_matrix(cm, \"confusion matrix\")\n",
    "print(classification_report(y_test, y_pred, target_names=['anomaly', 'normal']))\n",
    "print (\"AUC: \", \"{:.1%}\".format(roc_auc_score(y_test, y_pred)))"
   ]
  },
  {
   "cell_type": "markdown",
   "metadata": {},
   "source": [
    "# DBSCAN\n",
    "\n",
    "Tested parameters: \n",
    "* eps"
   ]
  },
  {
   "cell_type": "code",
   "execution_count": null,
   "metadata": {},
   "outputs": [],
   "source": [
    "def cross_validation_dbscan(eps):\n",
    "    highest_score = 0\n",
    "    best_eps = 0\n",
    "    for e in eps:\n",
    "        s = datetime.datetime.now()\n",
    "        db = DBSCAN(eps=e, min_samples=10, metric='euclidean', algorithm = 'auto', n_jobs=-1).fit(x_test)\n",
    "        y_pred = [1 if i != -1 else i for i in db.labels_]\n",
    "        t = datetime.datetime.now() - s\n",
    "        p, r, f, s = map(lambda x: x[0], precision_recall_fscore_support(y_test, y_pred, labels=[-1]))\n",
    "        # p = tp / (tp + fp)\n",
    "        a = roc_auc_score(y_test, y_pred)\n",
    "        if p + r + a > highest_score: highest_score = p + r + a; best_eps = e\n",
    "        \n",
    "        yp = np.array(y_pred)\n",
    "        yt = np.array(y_test)\n",
    "        \n",
    "        prediction = yp[np.where(yt == -1)]\n",
    "\n",
    "        tp = len(yp[np.where(prediction == -1)])\n",
    "        print(tp)\n",
    "        # fp through formula\n",
    "        fp = tp / p - tp\n",
    "        \n",
    "        # predicted true\n",
    "        positives = yp[np.where(yp == -1)]\n",
    "        print(f\"{len(positives)} ({tp}) -> fp = {len(positives) - tp}/{fp}\")\n",
    "        print(f\"eps: {e} \\t tp: {tp}/{s} -> fp = {fp}\")\n",
    "        print(f\"AUC : {a:.1%} \\t precision: {p:.3} \\t recall: {r:.3} \\t f1: {f}\")\n",
    "        print(\"--------------------\")\n",
    "    return best_eps"
   ]
  },
  {
   "cell_type": "code",
   "execution_count": null,
   "metadata": {},
   "outputs": [],
   "source": [
    "eps = [round(0.1 + 0.1*i, 2) for i in range(5)]\n",
    "e_max = cross_validation_dbscan(eps)\n",
    "e_max"
   ]
  },
  {
   "cell_type": "code",
   "execution_count": null,
   "metadata": {},
   "outputs": [],
   "source": [
    "eps = [round(0.01 + 0.01*i, 2) for i in range(10)]\n",
    "e_max = cross_validation_dbscan(eps)\n",
    "e_max"
   ]
  },
  {
   "cell_type": "code",
   "execution_count": null,
   "metadata": {},
   "outputs": [],
   "source": [
    "e_max = 0.08"
   ]
  },
  {
   "cell_type": "code",
   "execution_count": null,
   "metadata": {},
   "outputs": [],
   "source": [
    "eps = [round(e_max-0.01 + 0.001*i, 3) for i in range(1,10)]\n",
    "e_max = cross_validation_lof(contamination)\n",
    "e_max"
   ]
  },
  {
   "cell_type": "code",
   "execution_count": null,
   "metadata": {},
   "outputs": [],
   "source": [
    "start = datetime.datetime.now()\n",
    "db = DBSCAN(eps=e_max, min_samples=10, metric='euclidean', algorithm = 'auto', n_jobs=-1).fit(x_test)\n",
    "y_pred = [1 if i != -1 else i for i in db.labels_]\n",
    "trainning_time = datetime.datetime.now() - start\n",
    "print(f\"trainning Isolation Forest in {trainning_time}\")\n",
    "cm = confusion_matrix(y_test, y_pred)\n",
    "plot_confusion_matrix(cm, \"confusion matrix\")\n",
    "print(classification_report(y_test, y_pred, target_names=['anomaly', 'normal']))\n",
    "print (\"AUC: \", \"{:.1%}\".format(roc_auc_score(y_test, y_pred)))"
   ]
  },
  {
   "cell_type": "code",
   "execution_count": null,
   "metadata": {},
   "outputs": [],
   "source": []
  },
  {
   "cell_type": "code",
   "execution_count": null,
   "metadata": {},
   "outputs": [],
   "source": []
  }
 ],
 "metadata": {
  "kernelspec": {
   "display_name": "Python 3",
   "language": "python",
   "name": "python3"
  },
  "language_info": {
   "codemirror_mode": {
    "name": "ipython",
    "version": 3
   },
   "file_extension": ".py",
   "mimetype": "text/x-python",
   "name": "python",
   "nbconvert_exporter": "python",
   "pygments_lexer": "ipython3",
   "version": "3.8.5"
  }
 },
 "nbformat": 4,
 "nbformat_minor": 4
}
