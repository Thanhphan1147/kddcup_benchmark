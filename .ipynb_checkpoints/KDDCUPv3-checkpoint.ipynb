{
 "cells": [
  {
   "cell_type": "code",
   "execution_count": 2,
   "metadata": {},
   "outputs": [],
   "source": [
    "from imports import *"
   ]
  },
  {
   "cell_type": "code",
   "execution_count": 7,
   "metadata": {},
   "outputs": [
    {
     "name": "stdout",
     "output_type": "stream",
     "text": [
      "anomaly rate is 16.7%\n"
     ]
    }
   ],
   "source": [
    "# sf = datasets.fetch_kddcup99(subset='SF', random_state=0, percent10=False)\n",
    "# dfsf = pd.DataFrame(sf.data, columns=sf_columns)\n",
    "df = pd.read_csv('kddcup.data', delimiter=',')\n",
    "df.columns = sa_columns + [\"target\"]\n",
    "\n",
    "df_normal = df[df[\"target\"]== 'normal.']\n",
    "df_attacks = df[df[\"target\"]!= 'normal.']\n",
    "\n",
    "target_anomaly_rate = 0.2\n",
    "df_attacks = df_attacks.sample(n = int(len(df_normal)*target_anomaly_rate), random_state=1)\n",
    "\n",
    "df_train = df_normal.append(df_attacks)\n",
    "anomaly_rate = 1.0 - len(df_train.loc[df_train[\"target\"]=='normal.'])/len(df_train)\n",
    "print(f\"anomaly rate is {anomaly_rate:.1%}\")\n",
    "\n",
    "df_train['binary_target'] = [1 if x=='normal.' else -1 for x in df_train[\"target\"]]\n",
    "toDecode = [\"protocol_type\", \"service\", \"flag\", \"target\"]\n",
    "leSF = preprocessing.LabelEncoder()\n",
    "for f in toDecode:\n",
    "    df_train[f] = leSF.fit_transform(df_train[f])\n",
    "\n",
    "x_train, x_test, y_train, y_test = train_test_split(df_train.drop([\"target\", 'binary_target'], axis=1), df_train['binary_target'], test_size=0.33, random_state=0)\n",
    "results = []"
   ]
  },
  {
   "cell_type": "code",
   "execution_count": 9,
   "metadata": {},
   "outputs": [],
   "source": [
    "def cross_validation(contamination):\n",
    "    highest_score = 0\n",
    "    highest_score_c = 0\n",
    "    #print(\"array:\", contamination)\n",
    "    for c in contamination:\n",
    "        y_pred = IsolationForest(random_state=1, n_jobs=-1, max_samples=0.25, n_estimators=100, contamination=c).fit(x_train).predict(x_test)\n",
    "        p, r, f, s = map(lambda x: x[0], precision_recall_fscore_support(y_test, y_pred, labels=[-1]))\n",
    "        if p + r > highest_score: highest_score = p; highest_score_c = c\n",
    "        fp = s / p - s\n",
    "        print(f\"contamination: {c}, AUC : {roc_auc_score(y_test, y_pred):.1}, precision: {p}, support: {s}, recall: {r}, fp: {int(round(fp, 0))}\")\n",
    "    return highest_score_c"
   ]
  },
  {
   "cell_type": "code",
   "execution_count": null,
   "metadata": {},
   "outputs": [],
   "source": [
    "contamination = [round(0.01 + 0.01*i, 2) for i in range(10)]\n",
    "c_max = cross_validation(contamination)\n",
    "c_max"
   ]
  }
 ],
 "metadata": {
  "kernelspec": {
   "display_name": "Python 3",
   "language": "python",
   "name": "python3"
  },
  "language_info": {
   "codemirror_mode": {
    "name": "ipython",
    "version": 3
   },
   "file_extension": ".py",
   "mimetype": "text/x-python",
   "name": "python",
   "nbconvert_exporter": "python",
   "pygments_lexer": "ipython3",
   "version": "3.8.5"
  }
 },
 "nbformat": 4,
 "nbformat_minor": 4
}
