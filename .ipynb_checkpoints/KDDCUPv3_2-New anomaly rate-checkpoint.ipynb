{
 "cells": [
  {
   "cell_type": "code",
   "execution_count": 22,
   "metadata": {},
   "outputs": [],
   "source": [
    "from imports import *"
   ]
  },
  {
   "cell_type": "markdown",
   "metadata": {},
   "source": [
    "# Fetch dataset"
   ]
  },
  {
   "cell_type": "code",
   "execution_count": 23,
   "metadata": {},
   "outputs": [
    {
     "name": "stdout",
     "output_type": "stream",
     "text": [
      "anomaly rate is 4.8% out of 1021419 records (48639)\n"
     ]
    }
   ],
   "source": [
    "target_anomaly_rate = 0.05\n",
    "\n",
    "df = pd.read_csv('kddcup.data', delimiter=',')\n",
    "df.columns = sa_columns + [\"target\"]\n",
    "df_normal = df[df[\"target\"]== 'normal.']\n",
    "n_records = int(np.ceil(len(df_normal)*target_anomaly_rate))\n",
    "\n",
    "df = df_normal.append(df[df[\"target\"]!= 'normal.'].sample(n = n_records, random_state=1))\n",
    "anomaly_rate = 1.0 - len(df.loc[df[\"target\"]=='normal.'])/len(df)\n",
    "print(f\"anomaly rate is {anomaly_rate:.1%} out of {len(df)} records ({n_records})\")\n",
    "\n",
    "df['binary_target'] = [1 if x=='normal.' else -1 for x in df[\"target\"]]\n",
    "df = df.sample(frac=1, random_state=2)\n",
    "toDecode = [\"protocol_type\", \"service\", \"flag\", \"target\"]\n",
    "leSF = preprocessing.LabelEncoder()\n",
    "for f in toDecode:\n",
    "    df[f] = leSF.fit_transform(df[f])\n",
    "\n",
    "x_train, x_test, y_train, y_test = train_test_split(df.drop([\"target\", 'binary_target'], axis=1), df['binary_target'], test_size=0.33, random_state=0)\n",
    "results = []"
   ]
  },
  {
   "cell_type": "markdown",
   "metadata": {},
   "source": [
    "Just like with sklearn SA dataset, we selected all of the 'normal' data with a small portion of outliers to reach our target anomaly rate"
   ]
  },
  {
   "cell_type": "markdown",
   "metadata": {},
   "source": [
    "# Cross-validation for Isolation Forest"
   ]
  },
  {
   "cell_type": "code",
   "execution_count": 81,
   "metadata": {},
   "outputs": [],
   "source": [
    "def cross_validation(contamination):\n",
    "    highest_score = 0\n",
    "    highest_score_c = 0\n",
    "    for c in contamination:\n",
    "        s = datetime.datetime.now()\n",
    "        y_pred = IsolationForest(random_state=1, n_jobs=-1, max_samples=0.25, n_estimators=100, contamination=c).fit(x_train).predict(x_test)\n",
    "        t = datetime.datetime.now() - s\n",
    "        p, r, f, s = map(lambda x: x[0], precision_recall_fscore_support(y_test, y_pred, labels=[-1]))\n",
    "        # p = tp / (tp + fp)\n",
    "        a = roc_auc_score(y_test, y_pred)\n",
    "        if p + r + a > highest_score: highest_score = p + r + a; highest_score_c = c\n",
    "        \n",
    "        yp = np.array(y_pred)\n",
    "        yt = np.array(y_test)\n",
    "        \n",
    "        prediction = yp[np.where(yt == -1)]\n",
    "\n",
    "        tp = len(yp[np.where(prediction == -1)])\n",
    "        print(tp)\n",
    "        fp = len(prediction) - tp\n",
    "        \n",
    "        print(f\"contamination: {c} \\t tp: {tp}/{s} -> fp = {fp}\")\n",
    "        print(f\"AUC : {a:.1%} \\t precision: {p:.3} \\t recall: {r:.3} \\t f1: {f}\")\n",
    "        print(\"--------------------\")\n",
    "    return highest_score_c"
   ]
  },
  {
   "cell_type": "code",
   "execution_count": 82,
   "metadata": {},
   "outputs": [
    {
     "name": "stdout",
     "output_type": "stream",
     "text": [
      "{1, -1}\n"
     ]
    }
   ],
   "source": [
    "print(set(np.array(y_test)))"
   ]
  },
  {
   "cell_type": "code",
   "execution_count": 83,
   "metadata": {},
   "outputs": [
    {
     "name": "stdout",
     "output_type": "stream",
     "text": [
      "1440\n",
      "contamination: 0.01 \t tp: 1440/16048 -> fp = 14608\n",
      "AUC : 54.2% \t precision: 0.42 \t recall: 0.0897 \t f1: 0.14786671458643527\n",
      "--------------------\n"
     ]
    },
    {
     "data": {
      "text/plain": [
       "0.01"
      ]
     },
     "execution_count": 83,
     "metadata": {},
     "output_type": "execute_result"
    }
   ],
   "source": [
    "contamination = [0.01]\n",
    "c_max = cross_validation(contamination)\n",
    "c_max"
   ]
  },
  {
   "cell_type": "code",
   "execution_count": 84,
   "metadata": {},
   "outputs": [
    {
     "name": "stdout",
     "output_type": "stream",
     "text": [
      "1440\n",
      "contamination: 0.01 \t tp: 1440/16048 -> fp = 14608\n",
      "AUC : 54.2% \t precision: 0.42 \t recall: 0.0897 \t f1: 0.14786671458643527\n",
      "--------------------\n",
      "2610\n",
      "contamination: 0.02 \t tp: 2610/16048 -> fp = 13438\n",
      "AUC : 57.5% \t precision: 0.382 \t recall: 0.163 \t f1: 0.22806710940230684\n",
      "--------------------\n",
      "4213\n",
      "contamination: 0.03 \t tp: 4213/16048 -> fp = 11835\n",
      "AUC : 62.2% \t precision: 0.41 \t recall: 0.263 \t f1: 0.32014894182909687\n",
      "--------------------\n",
      "5284\n",
      "contamination: 0.04 \t tp: 5284/16048 -> fp = 10764\n",
      "AUC : 65.2% \t precision: 0.389 \t recall: 0.329 \t f1: 0.35662943340195047\n",
      "--------------------\n",
      "5740\n",
      "contamination: 0.05 \t tp: 5740/16048 -> fp = 10308\n",
      "AUC : 66.2% \t precision: 0.347 \t recall: 0.358 \t f1: 0.3524715996315628\n",
      "--------------------\n",
      "7094\n",
      "contamination: 0.06 \t tp: 7094/16048 -> fp = 8954\n",
      "AUC : 70.0% \t precision: 0.349 \t recall: 0.442 \t f1: 0.3898123471714702\n",
      "--------------------\n",
      "7096\n",
      "contamination: 0.07 \t tp: 7096/16048 -> fp = 8952\n",
      "AUC : 69.5% \t precision: 0.299 \t recall: 0.442 \t f1: 0.3569865425732612\n",
      "--------------------\n",
      "8177\n",
      "contamination: 0.08 \t tp: 8177/16048 -> fp = 7871\n",
      "AUC : 72.5% \t precision: 0.3 \t recall: 0.51 \t f1: 0.37769925402434235\n",
      "--------------------\n",
      "8177\n",
      "contamination: 0.09 \t tp: 8177/16048 -> fp = 7871\n",
      "AUC : 72.0% \t precision: 0.269 \t recall: 0.51 \t f1: 0.3520926627626593\n",
      "--------------------\n",
      "8178\n",
      "contamination: 0.1 \t tp: 8178/16048 -> fp = 7870\n",
      "AUC : 71.5% \t precision: 0.242 \t recall: 0.51 \t f1: 0.3279595765158807\n",
      "--------------------\n"
     ]
    },
    {
     "data": {
      "text/plain": [
       "0.08"
      ]
     },
     "execution_count": 84,
     "metadata": {},
     "output_type": "execute_result"
    }
   ],
   "source": [
    "contamination = [round(0.01 + 0.01*i, 2) for i in range(10)]\n",
    "c_max = cross_validation(contamination)\n",
    "c_max"
   ]
  },
  {
   "cell_type": "code",
   "execution_count": 85,
   "metadata": {},
   "outputs": [
    {
     "name": "stdout",
     "output_type": "stream",
     "text": [
      "8178\n",
      "contamination: 0.1 \t tp: 8178/16048 -> fp = 7870\n",
      "AUC : 71.5% \t precision: 0.242 \t recall: 0.51 \t f1: 0.3279595765158807\n",
      "--------------------\n",
      "16043\n",
      "contamination: 0.2 \t tp: 16043/16048 -> fp = 5\n",
      "AUC : 92.0% \t precision: 0.237 \t recall: 1.0 \t f1: 0.3836111044690466\n",
      "--------------------\n",
      "16048\n",
      "contamination: 0.3 \t tp: 16048/16048 -> fp = 0\n",
      "AUC : 86.7% \t precision: 0.158 \t recall: 1.0 \t f1: 0.2732551209794139\n",
      "--------------------\n",
      "16048\n",
      "contamination: 0.4 \t tp: 16048/16048 -> fp = 0\n",
      "AUC : 81.5% \t precision: 0.119 \t recall: 1.0 \t f1: 0.2127718814427864\n",
      "--------------------\n",
      "16048\n",
      "contamination: 0.5 \t tp: 16048/16048 -> fp = 0\n",
      "AUC : 76.2% \t precision: 0.0952 \t recall: 1.0 \t f1: 0.17381321145035689\n",
      "--------------------\n",
      "16048\n",
      "contamination: 0.6 \t tp: 16048/16048 -> fp = 0\n",
      "AUC : 71.0% \t precision: 0.0794 \t recall: 1.0 \t f1: 0.1471665757268688\n",
      "--------------------\n"
     ]
    },
    {
     "data": {
      "text/plain": [
       "0.2"
      ]
     },
     "execution_count": 85,
     "metadata": {},
     "output_type": "execute_result"
    }
   ],
   "source": [
    "contamination = [round(0.1*i, 1) for i in range(1, 7)]\n",
    "c_max_2 = cross_validation(contamination)\n",
    "c_max_2"
   ]
  },
  {
   "cell_type": "code",
   "execution_count": 86,
   "metadata": {},
   "outputs": [],
   "source": [
    "c_max = c_max_2 if c_max_2 > c_max else c_max"
   ]
  },
  {
   "cell_type": "code",
   "execution_count": 87,
   "metadata": {},
   "outputs": [
    {
     "name": "stdout",
     "output_type": "stream",
     "text": [
      "8178\n",
      "contamination: 0.1 \t tp: 8178/16048 -> fp = 7870\n",
      "AUC : 71.5% \t precision: 0.242 \t recall: 0.51 \t f1: 0.3279595765158807\n",
      "--------------------\n",
      "8180\n",
      "contamination: 0.11 \t tp: 8180/16048 -> fp = 7868\n",
      "AUC : 71.0% \t precision: 0.22 \t recall: 0.51 \t f1: 0.30741478447141946\n",
      "--------------------\n",
      "8180\n",
      "contamination: 0.12 \t tp: 8180/16048 -> fp = 7868\n",
      "AUC : 70.7% \t precision: 0.211 \t recall: 0.51 \t f1: 0.2980180705333722\n",
      "--------------------\n",
      "8180\n",
      "contamination: 0.13 \t tp: 8180/16048 -> fp = 7868\n",
      "AUC : 70.7% \t precision: 0.211 \t recall: 0.51 \t f1: 0.2980180705333722\n",
      "--------------------\n",
      "16039\n",
      "contamination: 0.14 \t tp: 16039/16048 -> fp = 9\n",
      "AUC : 95.1% \t precision: 0.339 \t recall: 0.999 \t f1: 0.5063774704805203\n",
      "--------------------\n",
      "16039\n",
      "contamination: 0.15 \t tp: 16039/16048 -> fp = 9\n",
      "AUC : 94.6% \t precision: 0.317 \t recall: 0.999 \t f1: 0.48160103292446743\n",
      "--------------------\n",
      "16040\n",
      "contamination: 0.16 \t tp: 16040/16048 -> fp = 8\n",
      "AUC : 94.1% \t precision: 0.297 \t recall: 1.0 \t f1: 0.4581155570787993\n",
      "--------------------\n",
      "16040\n",
      "contamination: 0.17 \t tp: 16040/16048 -> fp = 8\n",
      "AUC : 93.5% \t precision: 0.28 \t recall: 1.0 \t f1: 0.437021496880364\n",
      "--------------------\n",
      "16041\n",
      "contamination: 0.18 \t tp: 16041/16048 -> fp = 7\n",
      "AUC : 93.0% \t precision: 0.264 \t recall: 1.0 \t f1: 0.4176528021870729\n",
      "--------------------\n",
      "16043\n",
      "contamination: 0.19 \t tp: 16043/16048 -> fp = 5\n",
      "AUC : 92.5% \t precision: 0.25 \t recall: 1.0 \t f1: 0.39965124244877626\n",
      "--------------------\n",
      "16043\n",
      "contamination: 0.2 \t tp: 16043/16048 -> fp = 5\n",
      "AUC : 92.0% \t precision: 0.237 \t recall: 1.0 \t f1: 0.3836111044690466\n",
      "--------------------\n"
     ]
    },
    {
     "data": {
      "text/plain": [
       "0.14"
      ]
     },
     "execution_count": 87,
     "metadata": {},
     "output_type": "execute_result"
    }
   ],
   "source": [
    "contamination = [round(c_max - 0.1 + 0.01*i, 2) for i in range(11)]\n",
    "c_max = cross_validation(contamination)\n",
    "c_max"
   ]
  },
  {
   "cell_type": "code",
   "execution_count": 88,
   "metadata": {},
   "outputs": [
    {
     "name": "stdout",
     "output_type": "stream",
     "text": [
      "AUC: 95.1%\n",
      "              precision    recall  f1-score   support\n",
      "\n",
      "          -1       0.34      1.00      0.51     16048\n",
      "           1       1.00      0.90      0.95    321021\n",
      "\n",
      "    accuracy                           0.91    337069\n",
      "   macro avg       0.67      0.95      0.73    337069\n",
      "weighted avg       0.97      0.91      0.93    337069\n",
      "\n"
     ]
    },
    {
     "data": {
      "image/png": "[encoded data removed]",
      "text/plain": [
       "<Figure size 432x288 with 2 Axes>"
      ]
     },
     "metadata": {
      "needs_background": "light"
     },
     "output_type": "display_data"
    }
   ],
   "source": [
    "y_pred = IsolationForest(random_state=1, n_jobs=-1, max_samples=0.25, n_estimators=100, contamination=c_max).fit(x_train).predict(x_test)\n",
    "cm_if = confusion_matrix(y_test, y_pred)\n",
    "print(f\"AUC: {roc_auc_score(y_test, y_pred):.1%}\")\n",
    "print(classification_report(y_test, y_pred))\n",
    "plot_confusion_matrix(cm_if, f\"Confusion matrix for If with c = {c_max}\")"
   ]
  },
  {
   "cell_type": "markdown",
   "metadata": {},
   "source": [
    "## Cross validation for LOF "
   ]
  },
  {
   "cell_type": "code",
   "execution_count": 90,
   "metadata": {},
   "outputs": [],
   "source": [
    "def cross_validation_lof(contamination):\n",
    "    highest_score = 0\n",
    "    highest_score_c = 0\n",
    "    #print(\"array:\", contamination)\n",
    "    for c in contamination:\n",
    "        s = datetime.datetime.now()\n",
    "        y_pred = LocalOutlierFactor(n_neighbors=100, metric='euclidean', algorithm = 'auto', contamination=c, n_jobs=-1).fit_predict(x_test)\n",
    "        t = datetime.datetime.now() - s\n",
    "        p, r, f, s = map(lambda x: x[0], precision_recall_fscore_support(y_test, y_pred, labels=[-1]))\n",
    "        # p = tp / (tp + fp)\n",
    "        a = roc_auc_score(y_test, y_pred)\n",
    "        if p + r + a > highest_score: highest_score = p + r + a; highest_score_c = c\n",
    "        \n",
    "        yp = np.array(y_pred)\n",
    "        yt = np.array(y_test)\n",
    "        \n",
    "        prediction = yp[np.where(yt == -1)]\n",
    "\n",
    "        tp = len(yp[np.where(prediction == -1)])\n",
    "        print(tp)\n",
    "        fp = len(prediction) - tp\n",
    "        \n",
    "        print(f\"contamination: {c} \\t tp: {tp}/{s} -> fp = {fp}\")\n",
    "        print(f\"AUC : {a:.1%} \\t precision: {p:.3} \\t recall: {r:.3} \\t f1: {f}\")\n",
    "        print(\"--------------------\")\n",
    "    return highest_score_c"
   ]
  },
  {
   "cell_type": "code",
   "execution_count": 91,
   "metadata": {},
   "outputs": [
    {
     "name": "stdout",
     "output_type": "stream",
     "text": [
      "900\n",
      "contamination: 0.1 \t tp: 900/16048 -> fp = 15148\n",
      "AUC : 47.7% \t precision: 0.0267 \t recall: 0.0561 \t f1: 0.03617726861621948\n",
      "--------------------\n",
      "1493\n",
      "contamination: 0.2 \t tp: 1493/16048 -> fp = 14555\n",
      "AUC : 44.4% \t precision: 0.0221 \t recall: 0.093 \t f1: 0.03577676068150775\n",
      "--------------------\n",
      "2055\n",
      "contamination: 0.3 \t tp: 2055/16048 -> fp = 13993\n",
      "AUC : 41.0% \t precision: 0.0203 \t recall: 0.128 \t f1: 0.03507753757393167\n",
      "--------------------\n",
      "2640\n",
      "contamination: 0.4 \t tp: 2640/16048 -> fp = 13408\n",
      "AUC : 37.6% \t precision: 0.0196 \t recall: 0.165 \t f1: 0.034995625546806644\n",
      "--------------------\n",
      "3209\n",
      "contamination: 0.5 \t tp: 3209/16048 -> fp = 12839\n",
      "AUC : 34.2% \t precision: 0.019 \t recall: 0.2 \t f1: 0.03477045432382356\n",
      "--------------------\n"
     ]
    },
    {
     "data": {
      "text/plain": [
       "0.5"
      ]
     },
     "execution_count": 91,
     "metadata": {},
     "output_type": "execute_result"
    }
   ],
   "source": [
    "contamination = [round(0.1 + 0.1*i, 2) for i in range(5)]\n",
    "c_max = cross_validation_lof(contamination)\n",
    "c_max"
   ]
  },
  {
   "cell_type": "code",
   "execution_count": 92,
   "metadata": {},
   "outputs": [
    {
     "name": "stdout",
     "output_type": "stream",
     "text": [
      "162\n",
      "contamination: 0.01 \t tp: 162/16048 -> fp = 15886\n",
      "AUC : 50.0% \t precision: 0.0482 \t recall: 0.0101 \t f1: 0.016691566637473596\n",
      "--------------------\n",
      "253\n",
      "contamination: 0.02 \t tp: 253/16048 -> fp = 15795\n",
      "AUC : 49.8% \t precision: 0.0375 \t recall: 0.0158 \t f1: 0.022202720491443617\n",
      "--------------------\n",
      "428\n",
      "contamination: 0.03 \t tp: 428/16048 -> fp = 15620\n",
      "AUC : 49.8% \t precision: 0.0423 \t recall: 0.0267 \t f1: 0.03272046175604908\n",
      "--------------------\n",
      "499\n",
      "contamination: 0.04 \t tp: 499/16048 -> fp = 15549\n",
      "AUC : 49.5% \t precision: 0.037 \t recall: 0.0311 \t f1: 0.03379499508990552\n",
      "--------------------\n",
      "562\n",
      "contamination: 0.05 \t tp: 562/16048 -> fp = 15486\n",
      "AUC : 49.2% \t precision: 0.0333 \t recall: 0.035 \t f1: 0.034162057017810464\n",
      "--------------------\n",
      "621\n",
      "contamination: 0.06 \t tp: 621/16048 -> fp = 15427\n",
      "AUC : 48.9% \t precision: 0.0307 \t recall: 0.0387 \t f1: 0.03424034405756348\n",
      "--------------------\n",
      "690\n",
      "contamination: 0.07 \t tp: 690/16048 -> fp = 15358\n",
      "AUC : 48.6% \t precision: 0.0292 \t recall: 0.043 \t f1: 0.03481156349326472\n",
      "--------------------\n",
      "763\n",
      "contamination: 0.08 \t tp: 763/16048 -> fp = 15285\n",
      "AUC : 48.3% \t precision: 0.0283 \t recall: 0.0475 \t f1: 0.03547682149997675\n",
      "--------------------\n",
      "833\n",
      "contamination: 0.09 \t tp: 833/16048 -> fp = 15215\n",
      "AUC : 48.0% \t precision: 0.0275 \t recall: 0.0519 \t f1: 0.03591833214755406\n",
      "--------------------\n",
      "900\n",
      "contamination: 0.1 \t tp: 900/16048 -> fp = 15148\n",
      "AUC : 47.7% \t precision: 0.0267 \t recall: 0.0561 \t f1: 0.03617726861621948\n",
      "--------------------\n"
     ]
    },
    {
     "data": {
      "text/plain": [
       "0.03"
      ]
     },
     "execution_count": 92,
     "metadata": {},
     "output_type": "execute_result"
    }
   ],
   "source": [
    "contamination = [round(0.01 + 0.01*i, 2) for i in range(10)]\n",
    "c_max = cross_validation_lof(contamination)\n",
    "c_max"
   ]
  },
  {
   "cell_type": "code",
   "execution_count": null,
   "metadata": {},
   "outputs": [],
   "source": [
    "c_max = 0.5"
   ]
  },
  {
   "cell_type": "code",
   "execution_count": null,
   "metadata": {},
   "outputs": [
    {
     "name": "stdout",
     "output_type": "stream",
     "text": [
      "contamination: 0.091, AUC : 0.5, precision: 0.027417356719045445, support: 16048, recall: 0.05240528414755733, fp: 569275\n",
      "contamination: 0.092, AUC : 0.5, precision: 0.027248395730547225, support: 16048, recall: 0.05265453639082752, fp: 572904\n",
      "contamination: 0.093, AUC : 0.5, precision: 0.027114967462039046, support: 16048, recall: 0.05296610169491525, fp: 575802\n",
      "contamination: 0.094, AUC : 0.5, precision: 0.02695281679027931, support: 16048, recall: 0.053215353938185446, fp: 579363\n",
      "contamination: 0.095, AUC : 0.5, precision: 0.027137592904877897, support: 16048, recall: 0.054150049850448655, fp: 575309\n",
      "contamination: 0.096, AUC : 0.5, precision: 0.027318520349825397, support: 16048, recall: 0.05508474576271186, fp: 571392\n"
     ]
    }
   ],
   "source": [
    "contamination = [round(c_max-0.01 + 0.001*i, 3) for i in range(1,10)]\n",
    "c_max = cross_validation_lof(contamination)\n",
    "c_max"
   ]
  },
  {
   "cell_type": "code",
   "execution_count": null,
   "metadata": {},
   "outputs": [],
   "source": [
    "start = datetime.datetime.now()\n",
    "y_pred = LocalOutlierFactor(n_neighbors=100, metric='euclidean', algorithm = 'auto', contamination=0.6, n_jobs=-1).fit_predict(x_test)\n",
    "trainning_time = datetime.datetime.now() - start\n",
    "print(f\"trainning LOF in {trainning_time}\")\n",
    "cm = confusion_matrix(y_test, y_pred)\n",
    "plot_confusion_matrix(cm, \"confusion matrix\")\n",
    "print(classification_report(y_test, y_pred, target_names=['anomaly', 'normal']))\n",
    "print (\"AUC: \", \"{:.1%}\".format(roc_auc_score(y_test, y_pred)))"
   ]
  },
  {
   "cell_type": "code",
   "execution_count": null,
   "metadata": {},
   "outputs": [],
   "source": [
    "start = datetime.datetime.now()\n",
    "y_pred = LocalOutlierFactor(n_neighbors=100, metric='euclidean', algorithm = 'auto', contamination=c_max, n_jobs=-1).fit_predict(x_test)\n",
    "trainning_time = datetime.datetime.now() - start\n",
    "print(f\"trainning LOF in {trainning_time}\")\n",
    "cm = confusion_matrix(y_test, y_pred)\n",
    "plot_confusion_matrix(cm, \"confusion matrix\")\n",
    "print(classification_report(y_test, y_pred, target_names=['anomaly', 'normal']))\n",
    "print (\"AUC: \", \"{:.1%}\".format(roc_auc_score(y_test, y_pred)))"
   ]
  },
  {
   "cell_type": "markdown",
   "metadata": {},
   "source": [
    "# DBSCAN\n",
    "\n",
    "Tested parameters: \n",
    "* eps"
   ]
  },
  {
   "cell_type": "code",
   "execution_count": 95,
   "metadata": {},
   "outputs": [],
   "source": [
    "def cross_validation_dbscan(eps):\n",
    "    highest_score = 0\n",
    "    best_eps = 0\n",
    "    for e in eps:\n",
    "        s = datetime.datetime.now()\n",
    "        db = DBSCAN(eps=e, min_samples=10, metric='euclidean', algorithm = 'auto', n_jobs=-1).fit(x_test)\n",
    "        y_pred = [1 if i != -1 else i for i in db.labels_]\n",
    "        t = datetime.datetime.now() - s\n",
    "        p, r, f, s = map(lambda x: x[0], precision_recall_fscore_support(y_test, y_pred, labels=[-1]))\n",
    "        # p = tp / (tp + fp)\n",
    "        a = roc_auc_score(y_test, y_pred)\n",
    "        if p + r + a > highest_score: highest_score = p + r + a; best_eps = e\n",
    "        \n",
    "        yp = np.array(y_pred)\n",
    "        yt = np.array(y_test)\n",
    "        \n",
    "        prediction = yp[np.where(yt == -1)]\n",
    "\n",
    "        tp = len(yp[np.where(prediction == -1)])\n",
    "        print(tp)\n",
    "        fp = len(prediction) - tp\n",
    "        \n",
    "        print(f\"eps: {e} \\t tp: {tp}/{s} -> fp = {fp}\")\n",
    "        print(f\"AUC : {a:.1%} \\t precision: {p:.3} \\t recall: {r:.3} \\t f1: {f}\")\n",
    "        print(\"--------------------\")\n",
    "    return best_eps"
   ]
  },
  {
   "cell_type": "code",
   "execution_count": 96,
   "metadata": {},
   "outputs": [
    {
     "name": "stdout",
     "output_type": "stream",
     "text": [
      "4740\n",
      "eps: 0.1 \t tp: 4740/16048 -> fp = 11308\n",
      "AUC : 20.9% \t precision: 0.0166 \t recall: 0.295 \t f1: 0.03134392017219319\n",
      "--------------------\n",
      "4723\n",
      "eps: 0.2 \t tp: 4723/16048 -> fp = 11325\n",
      "AUC : 21.0% \t precision: 0.0165 \t recall: 0.294 \t f1: 0.03131412583332504\n",
      "--------------------\n",
      "4719\n",
      "eps: 0.3 \t tp: 4719/16048 -> fp = 11329\n",
      "AUC : 21.0% \t precision: 0.0165 \t recall: 0.294 \t f1: 0.03131688184994575\n",
      "--------------------\n",
      "4719\n",
      "eps: 0.4 \t tp: 4719/16048 -> fp = 11329\n",
      "AUC : 21.0% \t precision: 0.0166 \t recall: 0.294 \t f1: 0.031344755781244286\n",
      "--------------------\n",
      "4718\n",
      "eps: 0.5 \t tp: 4718/16048 -> fp = 11330\n",
      "AUC : 21.1% \t precision: 0.0166 \t recall: 0.294 \t f1: 0.03136425883823275\n",
      "--------------------\n"
     ]
    },
    {
     "data": {
      "text/plain": [
       "0.5"
      ]
     },
     "execution_count": 96,
     "metadata": {},
     "output_type": "execute_result"
    }
   ],
   "source": [
    "eps = [round(0.1 + 0.1*i, 2) for i in range(5)]\n",
    "e_max = cross_validation_dbscan(eps)\n",
    "e_max"
   ]
  },
  {
   "cell_type": "code",
   "execution_count": 97,
   "metadata": {},
   "outputs": [
    {
     "name": "stdout",
     "output_type": "stream",
     "text": [
      "4794\n",
      "eps: 0.01 \t tp: 4794/16048 -> fp = 11254\n",
      "AUC : 19.4% \t precision: 0.0161 \t recall: 0.299 \t f1: 0.030634447458471915\n",
      "--------------------\n",
      "4777\n",
      "eps: 0.02 \t tp: 4777/16048 -> fp = 11271\n",
      "AUC : 20.1% \t precision: 0.0163 \t recall: 0.298 \t f1: 0.03099522776009681\n",
      "--------------------\n",
      "4777\n",
      "eps: 0.03 \t tp: 4777/16048 -> fp = 11271\n",
      "AUC : 20.4% \t precision: 0.0165 \t recall: 0.298 \t f1: 0.031207332449223572\n",
      "--------------------\n",
      "4767\n",
      "eps: 0.04 \t tp: 4767/16048 -> fp = 11281\n",
      "AUC : 20.6% \t precision: 0.0165 \t recall: 0.297 \t f1: 0.03124272920018744\n",
      "--------------------\n",
      "4767\n",
      "eps: 0.05 \t tp: 4767/16048 -> fp = 11281\n",
      "AUC : 20.7% \t precision: 0.0165 \t recall: 0.297 \t f1: 0.03133751429811067\n",
      "--------------------\n",
      "4757\n",
      "eps: 0.06 \t tp: 4757/16048 -> fp = 11291\n",
      "AUC : 20.8% \t precision: 0.0165 \t recall: 0.296 \t f1: 0.031323048153342685\n",
      "--------------------\n",
      "4754\n",
      "eps: 0.07 \t tp: 4754/16048 -> fp = 11294\n",
      "AUC : 20.8% \t precision: 0.0166 \t recall: 0.296 \t f1: 0.031349016633970224\n",
      "--------------------\n",
      "4753\n",
      "eps: 0.08 \t tp: 4753/16048 -> fp = 11295\n",
      "AUC : 20.9% \t precision: 0.0166 \t recall: 0.296 \t f1: 0.03137573315113888\n",
      "--------------------\n",
      "4742\n",
      "eps: 0.09 \t tp: 4742/16048 -> fp = 11306\n",
      "AUC : 20.9% \t precision: 0.0165 \t recall: 0.295 \t f1: 0.03133155818670755\n",
      "--------------------\n",
      "4740\n",
      "eps: 0.1 \t tp: 4740/16048 -> fp = 11308\n",
      "AUC : 20.9% \t precision: 0.0166 \t recall: 0.295 \t f1: 0.03134392017219319\n",
      "--------------------\n"
     ]
    },
    {
     "data": {
      "text/plain": [
       "0.08"
      ]
     },
     "execution_count": 97,
     "metadata": {},
     "output_type": "execute_result"
    }
   ],
   "source": [
    "eps = [round(0.01 + 0.01*i, 2) for i in range(10)]\n",
    "e_max = cross_validation_dbscan(eps)\n",
    "e_max"
   ]
  },
  {
   "cell_type": "code",
   "execution_count": 101,
   "metadata": {},
   "outputs": [],
   "source": [
    "e_max = 0.08"
   ]
  },
  {
   "cell_type": "code",
   "execution_count": null,
   "metadata": {},
   "outputs": [],
   "source": [
    "eps = [round(e_max-0.01 + 0.001*i, 3) for i in range(1,10)]\n",
    "e_max = cross_validation_lof(contamination)\n",
    "e_max"
   ]
  },
  {
   "cell_type": "code",
   "execution_count": 100,
   "metadata": {},
   "outputs": [
    {
     "ename": "NameError",
     "evalue": "name 'dbscan' is not defined",
     "output_type": "error",
     "traceback": [
      "\u001b[0;31m---------------------------------------------------------------------------\u001b[0m",
      "\u001b[0;31mNameError\u001b[0m                                 Traceback (most recent call last)",
      "\u001b[0;32m<ipython-input-100-527426c325af>\u001b[0m in \u001b[0;36m<module>\u001b[0;34m\u001b[0m\n\u001b[1;32m      1\u001b[0m \u001b[0mstart\u001b[0m \u001b[0;34m=\u001b[0m \u001b[0mdatetime\u001b[0m\u001b[0;34m.\u001b[0m\u001b[0mdatetime\u001b[0m\u001b[0;34m.\u001b[0m\u001b[0mnow\u001b[0m\u001b[0;34m(\u001b[0m\u001b[0;34m)\u001b[0m\u001b[0;34m\u001b[0m\u001b[0;34m\u001b[0m\u001b[0m\n\u001b[0;32m----> 2\u001b[0;31m \u001b[0mdb\u001b[0m \u001b[0;34m=\u001b[0m \u001b[0mdbscan\u001b[0m\u001b[0;34m.\u001b[0m\u001b[0mfit\u001b[0m\u001b[0;34m(\u001b[0m\u001b[0mx_test\u001b[0m\u001b[0;34m)\u001b[0m\u001b[0;34m\u001b[0m\u001b[0;34m\u001b[0m\u001b[0m\n\u001b[0m\u001b[1;32m      3\u001b[0m \u001b[0my_pred\u001b[0m \u001b[0;34m=\u001b[0m \u001b[0;34m[\u001b[0m\u001b[0;36m1\u001b[0m \u001b[0;32mif\u001b[0m \u001b[0mi\u001b[0m \u001b[0;34m!=\u001b[0m \u001b[0;34m-\u001b[0m\u001b[0;36m1\u001b[0m \u001b[0;32melse\u001b[0m \u001b[0mi\u001b[0m \u001b[0;32mfor\u001b[0m \u001b[0mi\u001b[0m \u001b[0;32min\u001b[0m \u001b[0mdb\u001b[0m\u001b[0;34m.\u001b[0m\u001b[0mlabels_\u001b[0m\u001b[0;34m]\u001b[0m\u001b[0;34m\u001b[0m\u001b[0;34m\u001b[0m\u001b[0m\n\u001b[1;32m      4\u001b[0m \u001b[0mtrainning_time\u001b[0m \u001b[0;34m=\u001b[0m \u001b[0mdatetime\u001b[0m\u001b[0;34m.\u001b[0m\u001b[0mdatetime\u001b[0m\u001b[0;34m.\u001b[0m\u001b[0mnow\u001b[0m\u001b[0;34m(\u001b[0m\u001b[0;34m)\u001b[0m \u001b[0;34m-\u001b[0m \u001b[0mstart\u001b[0m\u001b[0;34m\u001b[0m\u001b[0;34m\u001b[0m\u001b[0m\n\u001b[1;32m      5\u001b[0m \u001b[0mprint\u001b[0m\u001b[0;34m(\u001b[0m\u001b[0;34mf\"trainning Isolation Forest in {trainning_time}\"\u001b[0m\u001b[0;34m)\u001b[0m\u001b[0;34m\u001b[0m\u001b[0;34m\u001b[0m\u001b[0m\n",
      "\u001b[0;31mNameError\u001b[0m: name 'dbscan' is not defined"
     ]
    }
   ],
   "source": [
    "start = datetime.datetime.now()\n",
    "db = DBSCAN(eps=e, min_samples=10, metric='euclidean', algorithm = 'auto', n_jobs=-1).fit(x_test)\n",
    "y_pred = [1 if i != -1 else i for i in db.labels_]\n",
    "trainning_time = datetime.datetime.now() - start\n",
    "print(f\"trainning Isolation Forest in {trainning_time}\")\n",
    "cm = confusion_matrix(y_test, y_pred)\n",
    "plot_confusion_matrix(cm, \"confusion matrix\")\n",
    "print(classification_report(y_test, y_pred, target_names=['anomaly', 'normal']))\n",
    "print (\"AUC: \", \"{:.1%}\".format(roc_auc_score(y_test, y_pred)))"
   ]
  },
  {
   "cell_type": "code",
   "execution_count": null,
   "metadata": {},
   "outputs": [],
   "source": []
  },
  {
   "cell_type": "code",
   "execution_count": null,
   "metadata": {},
   "outputs": [],
   "source": []
  }
 ],
 "metadata": {
  "kernelspec": {
   "display_name": "Python 3",
   "language": "python",
   "name": "python3"
  },
  "language_info": {
   "codemirror_mode": {
    "name": "ipython",
    "version": 3
   },
   "file_extension": ".py",
   "mimetype": "text/x-python",
   "name": "python",
   "nbconvert_exporter": "python",
   "pygments_lexer": "ipython3",
   "version": "3.8.5"
  }
 },
 "nbformat": 4,
 "nbformat_minor": 4
}
