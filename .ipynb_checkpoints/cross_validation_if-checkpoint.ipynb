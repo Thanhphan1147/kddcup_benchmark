{
 "cells": [
  {
   "cell_type": "markdown",
   "metadata": {
    "id": "QyGijMtffVrf"
   },
   "source": [
    "# KDDCUP results"
   ]
  },
  {
   "cell_type": "code",
   "execution_count": 1,
   "metadata": {
    "id": "28CDIYLEfIp7"
   },
   "outputs": [],
   "source": [
    "from sklearn import datasets\n",
    "from sklearn import preprocessing\n",
    "from sklearn.model_selection import train_test_split\n",
    "\n",
    "from sklearn.ensemble import IsolationForest\n",
    "from sklearn.neighbors import LocalOutlierFactor\n",
    "from sklearn import svm\n",
    "from sklearn.neighbors import NearestNeighbors\n",
    "from sklearn.neighbors import KNeighborsClassifier\n",
    "from sklearn.cluster import KMeans\n",
    "from sklearn.svm import OneClassSVM\n",
    "from sklearn.cluster import DBSCAN\n",
    "\n",
    "from sklearn import metrics\n",
    "from sklearn.preprocessing import StandardScaler\n",
    "\n",
    "from sklearn.metrics import classification_report\n",
    "from sklearn.metrics import confusion_matrix\n",
    "# from sklearn.metrics import plot_confusion_matrix\n",
    "from sklearn.metrics import recall_score\n",
    "from sklearn.metrics import precision_score\n",
    "from sklearn.metrics import roc_auc_score\n",
    "from sklearn.metrics import precision_recall_fscore_support\n",
    "from sklearn.model_selection import GridSearchCV\n",
    "from sklearn.metrics import make_scorer\n",
    "from sklearn.metrics import accuracy_score\n",
    "\n",
    "import pandas as pd\n",
    "import numpy as np\n",
    "import itertools\n",
    "import matplotlib.pyplot as plt\n",
    "import datetime\n",
    "\n",
    "%matplotlib inline\n",
    "\n",
    "\n",
    "def byte_decoder(val):\n",
    "    # decodes byte literals to strings\n",
    "    \n",
    "    return val.decode('utf-8')\n",
    "\n",
    "def plot_confusion_matrix(cm, title, classes=['abnormal', 'normal'],\n",
    "                          cmap=plt.cm.Blues):\n",
    "    \n",
    "    cm = cm.astype('float') / cm.sum(axis=1)[:, np.newaxis]\n",
    "    \n",
    "    plt.imshow(cm, interpolation='nearest', cmap=cmap)\n",
    "    plt.title(title)\n",
    "    plt.colorbar()\n",
    "    tick_marks = np.arange(len(classes))\n",
    "    plt.xticks(tick_marks, classes, rotation=90)\n",
    "    plt.yticks(tick_marks, classes)\n",
    "\n",
    "    fmt = '.1%'\n",
    "    thresh = cm.max() / 2.\n",
    "    for i, j in itertools.product(range(cm.shape[0]), range(cm.shape[1])):\n",
    "        plt.text(j, i, format(cm[i, j], fmt),\n",
    "                 horizontalalignment=\"center\",\n",
    "                 color=\"white\" if cm[i, j] > thresh else \"black\")\n",
    "\n",
    "    plt.tight_layout()\n",
    "    plt.ylabel('True label')\n",
    "    plt.xlabel('Predicted label')\n",
    "\n",
    "def time(expr):\n",
    "    start = datetime.datetime.now()\n",
    "    code = eval(expr)\n",
    "    end = datetime.datetime.now()\n",
    "    return (end-start, code)\n",
    "\n",
    "sa_columns = [\"duration\",\"protocol_type\",\"service\",\"flag\",\"src_bytes\",\"dst_bytes\",\"land\",\"wrong_fragment\",\n",
    "                           \"urgent\",\"hot\",\"num_failed_logins\",\"logged_in\",\"num_compromised\",\"root_shell\",\"su_attempted\",\n",
    "                           \"num_root\",\"num_file_creations\",\"num_shells\",\"num_access_files\",\"num_outbound_cmds\",\"is_host_login\",\n",
    "                           \"is_guest_login\",\"count\",\"srv_count\",\"serror_rate\",\"srv_serror_rate\",\"rerror_rate\",\"srv_rerror_rate\",\n",
    "                           \"same_srv_rate\",\"diff_srv_rate\",\"srv_diff_host_rate\",\"dst_host_count\",\"dst_host_srv_count\",\n",
    "                           \"dst_host_same_srv_rate\",\"dst_host_diff_srv_rate\",\"dst_host_same_src_port_rate\",\n",
    "                           \"dst_host_srv_diff_host_rate\",\"dst_host_serror_rate\",\"dst_host_srv_serror_rate\",\n",
    "                           \"dst_host_rerror_rate\",\"dst_host_srv_rerror_rate\"]\n",
    "sf_columns = [\"duration\", \"service\", \"src_bytes\", \"dst_bytes\"]"
   ]
  },
  {
   "cell_type": "markdown",
   "metadata": {
    "id": "CZq19a-yfuKN"
   },
   "source": [
    "# Trainning IF"
   ]
  },
  {
   "cell_type": "markdown",
   "metadata": {
    "id": "LBXzdWtihxsQ"
   },
   "source": [
    "# Loading dataset and setup parameters"
   ]
  },
  {
   "cell_type": "code",
   "execution_count": null,
   "metadata": {
    "colab": {
     "base_uri": "https://localhost:8080/"
    },
    "id": "G5dgj5c3fnj0",
    "outputId": "c876d778-e82d-460f-83e0-544d7138a0df"
   },
   "outputs": [
    {
     "name": "stderr",
     "output_type": "stream",
     "text": [
      "Downloading https://ndownloader.figshare.com/files/5976042\n"
     ]
    }
   ],
   "source": [
    "sf = datasets.fetch_kddcup99(subset='SF', percent10=True, random_state=0)\n",
    "dfsf = pd.DataFrame(sf.data, columns=sf_columns)\n",
    "dfsf[\"target\"]=sf.target\n",
    "anomaly_rate_sf = 1.0 - len(dfsf.loc[dfsf[\"target\"]==b'normal.'])/len(dfsf)\n",
    "f\"SF anomaly rate is {anomaly_rate_sf:.1%}\"\n",
    "\n",
    "dfsf['binary_target'] = [1 if x==b'normal.' else -1 for x in dfsf[\"target\"]]\n",
    "toDecodeSF = [\"service\", \"target\"]    \n",
    "leSF = preprocessing.LabelEncoder()\n",
    "for f in toDecodeSF:\n",
    "    dfsf[f] = list(map(byte_decoder, dfsf[f]))\n",
    "    dfsf[f] = leSF.fit_transform(dfsf[f])\n",
    "\n",
    "X_train_sf, X_test_sf, y_train_sf, y_test_sf = train_test_split(dfsf.drop([\"target\", 'binary_target'], axis=1), dfsf['binary_target'], test_size=0.25, random_state=0)"
   ]
  },
  {
   "cell_type": "code",
   "execution_count": null,
   "metadata": {
    "id": "BqQ61p13fq3A"
   },
   "outputs": [],
   "source": [
    "parameters = {'contamination':[0.05, 0.1, 0.11, 0.12, 0.13, 0.14, 0.15, 0.16, 0.17, 0.18, 0.19, 0.2]}\n",
    "# If = GridSearchCV(IsolationForest(random_state=1, n_jobs=-1, max_samples=0.25, n_estimators=100), param_grid = parameters, scoring = make_scorer(precision_score), refit=True)\n",
    "# If.fit(X_train_sf, y_train_sf)"
   ]
  },
  {
   "cell_type": "markdown",
   "metadata": {
    "id": "13c4uZksh5p_"
   },
   "source": [
    "# Manual cross-validation search for contamination on smaller dataset\n"
   ]
  },
  {
   "cell_type": "code",
   "execution_count": null,
   "metadata": {
    "colab": {
     "base_uri": "https://localhost:8080/"
    },
    "id": "4zGKlWpQhJgj",
    "outputId": "04a8d0e5-6d16-4884-c528-5d27e14e2e5f"
   },
   "outputs": [
    {
     "name": "stdout",
     "output_type": "stream",
     "text": [
      "              precision    recall  f1-score   support\n",
      "\n",
      "          -1       0.15      0.17      0.16       836\n",
      "           1       0.96      0.95      0.96     17474\n",
      "\n",
      "    accuracy                           0.92     18310\n",
      "   macro avg       0.55      0.56      0.56     18310\n",
      "weighted avg       0.92      0.92      0.92     18310\n",
      "\n",
      "AUC : 0.6\n",
      "              precision    recall  f1-score   support\n",
      "\n",
      "          -1       0.08      0.18      0.11       836\n",
      "           1       0.96      0.90      0.93     17474\n",
      "\n",
      "    accuracy                           0.87     18310\n",
      "   macro avg       0.52      0.54      0.52     18310\n",
      "weighted avg       0.92      0.87      0.89     18310\n",
      "\n",
      "AUC : 0.5\n",
      "              precision    recall  f1-score   support\n",
      "\n",
      "          -1       0.07      0.18      0.10       836\n",
      "           1       0.96      0.89      0.92     17474\n",
      "\n",
      "    accuracy                           0.86     18310\n",
      "   macro avg       0.51      0.53      0.51     18310\n",
      "weighted avg       0.92      0.86      0.88     18310\n",
      "\n",
      "AUC : 0.5\n",
      "              precision    recall  f1-score   support\n",
      "\n",
      "          -1       0.07      0.18      0.10       836\n",
      "           1       0.96      0.88      0.92     17474\n",
      "\n",
      "    accuracy                           0.85     18310\n",
      "   macro avg       0.51      0.53      0.51     18310\n",
      "weighted avg       0.92      0.85      0.88     18310\n",
      "\n",
      "AUC : 0.5\n",
      "              precision    recall  f1-score   support\n",
      "\n",
      "          -1       0.12      0.35      0.18       836\n",
      "           1       0.97      0.88      0.92     17474\n",
      "\n",
      "    accuracy                           0.85     18310\n",
      "   macro avg       0.54      0.61      0.55     18310\n",
      "weighted avg       0.93      0.85      0.89     18310\n",
      "\n",
      "AUC : 0.6\n",
      "              precision    recall  f1-score   support\n",
      "\n",
      "          -1       0.11      0.35      0.17       836\n",
      "           1       0.97      0.87      0.91     17474\n",
      "\n",
      "    accuracy                           0.84     18310\n",
      "   macro avg       0.54      0.61      0.54     18310\n",
      "weighted avg       0.93      0.84      0.88     18310\n",
      "\n",
      "AUC : 0.6\n",
      "              precision    recall  f1-score   support\n",
      "\n",
      "          -1       0.10      0.35      0.16       836\n",
      "           1       0.97      0.86      0.91     17474\n",
      "\n",
      "    accuracy                           0.83     18310\n",
      "   macro avg       0.53      0.60      0.53     18310\n",
      "weighted avg       0.93      0.83      0.87     18310\n",
      "\n",
      "AUC : 0.6\n",
      "              precision    recall  f1-score   support\n",
      "\n",
      "          -1       0.10      0.35      0.15       836\n",
      "           1       0.96      0.85      0.90     17474\n",
      "\n",
      "    accuracy                           0.82     18310\n",
      "   macro avg       0.53      0.60      0.53     18310\n",
      "weighted avg       0.93      0.82      0.87     18310\n",
      "\n",
      "AUC : 0.6\n",
      "              precision    recall  f1-score   support\n",
      "\n",
      "          -1       0.09      0.35      0.15       836\n",
      "           1       0.96      0.83      0.89     17474\n",
      "\n",
      "    accuracy                           0.81     18310\n",
      "   macro avg       0.53      0.59      0.52     18310\n",
      "weighted avg       0.92      0.81      0.86     18310\n",
      "\n",
      "AUC : 0.6\n",
      "              precision    recall  f1-score   support\n",
      "\n",
      "          -1       0.09      0.35      0.14       836\n",
      "           1       0.96      0.83      0.89     17474\n",
      "\n",
      "    accuracy                           0.81     18310\n",
      "   macro avg       0.53      0.59      0.52     18310\n",
      "weighted avg       0.92      0.81      0.86     18310\n",
      "\n",
      "AUC : 0.6\n",
      "              precision    recall  f1-score   support\n",
      "\n",
      "          -1       0.09      0.35      0.14       836\n",
      "           1       0.96      0.83      0.89     17474\n",
      "\n",
      "    accuracy                           0.81     18310\n",
      "   macro avg       0.53      0.59      0.52     18310\n",
      "weighted avg       0.92      0.81      0.86     18310\n",
      "\n",
      "AUC : 0.6\n",
      "              precision    recall  f1-score   support\n",
      "\n",
      "          -1       0.09      0.35      0.14       836\n",
      "           1       0.96      0.83      0.89     17474\n",
      "\n",
      "    accuracy                           0.81     18310\n",
      "   macro avg       0.53      0.59      0.52     18310\n",
      "weighted avg       0.92      0.81      0.86     18310\n",
      "\n",
      "AUC : 0.6\n"
     ]
    }
   ],
   "source": [
    "for c in parameters['contamination']:\n",
    "  y_pred = IsolationForest(random_state=1, n_jobs=-1, max_samples=0.25, n_estimators=100, contamination=c).fit(X_train_sf).predict(X_test_sf)\n",
    "  print(classification_report(y_test_sf, y_pred))\n",
    "  print(f\"AUC : {roc_auc_score(y_test_sf, y_pred):.1}\")"
   ]
  },
  {
   "cell_type": "code",
   "execution_count": null,
   "metadata": {
    "colab": {
     "base_uri": "https://localhost:8080/"
    },
    "id": "V42Cc1yNPiV1",
    "outputId": "507a68c8-035b-4de5-9f06-f743cacf11ae"
   },
   "outputs": [
    {
     "name": "stdout",
     "output_type": "stream",
     "text": [
      "contamination: 0.1, AUC : 0.5, precision: 0.08, support: [836], recall: 0.18, fp: 9693.0\n",
      "contamination: 0.11, AUC : 0.5, precision: 0.07, support: [836], recall: 0.18, fp: 10953.0\n",
      "contamination: 0.12, AUC : 0.5, precision: 0.07, support: [836], recall: 0.18, fp: 11806.0\n",
      "contamination: 0.13, AUC : 0.6, precision: 0.12, support: [836], recall: 0.35, fp: 6091.0\n",
      "contamination: 0.14, AUC : 0.6, precision: 0.11, support: [836], recall: 0.35, fp: 6603.0\n",
      "contamination: 0.15, AUC : 0.6, precision: 0.1, support: [836], recall: 0.35, fp: 7171.0\n",
      "contamination: 0.16, AUC : 0.6, precision: 0.1, support: [836], recall: 0.35, fp: 7678.0\n",
      "contamination: 0.17, AUC : 0.6, precision: 0.09, support: [836], recall: 0.35, fp: 8229.0\n",
      "contamination: 0.18, AUC : 0.6, precision: 0.09, support: [836], recall: 0.35, fp: 8556.0\n",
      "contamination: 0.19, AUC : 0.6, precision: 0.09, support: [836], recall: 0.35, fp: 8556.0\n",
      "contamination: 0.2, AUC : 0.6, precision: 0.09, support: [836], recall: 0.35, fp: 8556.0\n",
      "contamination: 0.21, AUC : 0.9, precision: 0.21, support: [836], recall: 1.0, fp: 3154.0\n",
      "contamination: 0.22, AUC : 0.9, precision: 0.2, support: [836], recall: 1.0, fp: 3338.0\n",
      "contamination: 0.23, AUC : 0.9, precision: 0.19, support: [836], recall: 1.0, fp: 3528.0\n",
      "contamination: 0.24, AUC : 0.9, precision: 0.18, support: [836], recall: 1.0, fp: 3683.0\n",
      "contamination: 0.25, AUC : 0.9, precision: 0.18, support: [836], recall: 1.0, fp: 3887.0\n",
      "contamination: 0.26, AUC : 0.9, precision: 0.17, support: [836], recall: 1.0, fp: 4065.0\n",
      "contamination: 0.27, AUC : 0.9, precision: 0.16, support: [836], recall: 1.0, fp: 4253.0\n",
      "contamination: 0.28, AUC : 0.9, precision: 0.16, support: [836], recall: 1.0, fp: 4419.0\n",
      "contamination: 0.29, AUC : 0.9, precision: 0.15, support: [836], recall: 1.0, fp: 4595.0\n",
      "contamination: 0.3, AUC : 0.9, precision: 0.15, support: [836], recall: 1.0, fp: 4754.0\n",
      "contamination: 0.31, AUC : 0.9, precision: 0.15, support: [836], recall: 1.0, fp: 4922.0\n",
      "contamination: 0.32, AUC : 0.9, precision: 0.14, support: [836], recall: 1.0, fp: 5096.0\n",
      "contamination: 0.33, AUC : 0.8, precision: 0.14, support: [836], recall: 1.0, fp: 5258.0\n",
      "contamination: 0.34, AUC : 0.8, precision: 0.13, support: [836], recall: 1.0, fp: 5443.0\n",
      "contamination: 0.35, AUC : 0.8, precision: 0.13, support: [836], recall: 1.0, fp: 5610.0\n",
      "contamination: 0.36, AUC : 0.8, precision: 0.13, support: [836], recall: 1.0, fp: 5766.0\n",
      "contamination: 0.37, AUC : 0.8, precision: 0.12, support: [836], recall: 1.0, fp: 5949.0\n",
      "contamination: 0.38, AUC : 0.8, precision: 0.12, support: [836], recall: 1.0, fp: 6125.0\n",
      "contamination: 0.39, AUC : 0.8, precision: 0.12, support: [836], recall: 1.0, fp: 6303.0\n"
     ]
    }
   ],
   "source": [
    "contamination = [round(0.1 + 0.01*i, 2) for i in range(30)]\n",
    "for c in contamination:\n",
    "  y_pred = IsolationForest(random_state=1, n_jobs=-1, max_samples=0.25, n_estimators=100, contamination=c).fit(X_train_sf).predict(X_test_sf)\n",
    "  # print(classification_report(y_test_sf, y_pred))\n",
    "  p, r, f, s = precision_recall_fscore_support(y_test_sf, y_pred, labels=[-1])\n",
    "  fp = s / p - s\n",
    "  print(f\"contamination: {c}, AUC : {roc_auc_score(y_test_sf, y_pred):.1}, precision: {round(p[0], 2)}, support: {s}, recall: {round(r[0], 2)}, fp: {round(fp[0], 0)}\")"
   ]
  },
  {
   "cell_type": "code",
   "execution_count": null,
   "metadata": {
    "colab": {
     "base_uri": "https://localhost:8080/"
    },
    "id": "mXWxSOJsdd-3",
    "outputId": "107787bb-b18e-4f9b-9d4b-35f18c068e65"
   },
   "outputs": [
    {
     "name": "stdout",
     "output_type": "stream",
     "text": [
      "contamination: 0.2, AUC : 0.6, precision: 0.09, support: [836], recall: 0.35, fp: 8556.0\n",
      "contamination: 0.201, AUC : 0.6, precision: 0.09, support: [836], recall: 0.35, fp: 8556.0\n",
      "contamination: 0.202, AUC : 0.9, precision: 0.22, support: [836], recall: 1.0, fp: 3009.0\n",
      "contamination: 0.203, AUC : 0.6, precision: 0.09, support: [836], recall: 0.35, fp: 8556.0\n",
      "contamination: 0.204, AUC : 0.9, precision: 0.22, support: [836], recall: 1.0, fp: 3020.0\n",
      "contamination: 0.205, AUC : 0.9, precision: 0.22, support: [836], recall: 1.0, fp: 3041.0\n",
      "contamination: 0.206, AUC : 0.9, precision: 0.21, support: [836], recall: 1.0, fp: 3067.0\n",
      "contamination: 0.207, AUC : 0.9, precision: 0.21, support: [836], recall: 1.0, fp: 3087.0\n",
      "contamination: 0.208, AUC : 0.9, precision: 0.21, support: [836], recall: 1.0, fp: 3113.0\n",
      "contamination: 0.209, AUC : 0.9, precision: 0.21, support: [836], recall: 1.0, fp: 3131.0\n",
      "contamination: 0.21, AUC : 0.9, precision: 0.21, support: [836], recall: 1.0, fp: 3154.0\n"
     ]
    }
   ],
   "source": [
    "contamination = [round(0.2 + 0.001*i, 3) for i in range(11)]\n",
    "for c in contamination:\n",
    "  y_pred = IsolationForest(random_state=1, n_jobs=-1, max_samples=0.25, n_estimators=100, contamination=c).fit(X_train_sf).predict(X_test_sf)\n",
    "  # print(classification_report(y_test_sf, y_pred))\n",
    "  p, r, f, s = precision_recall_fscore_support(y_test_sf, y_pred, labels=[-1])\n",
    "  fp = s / p - s\n",
    "  print(f\"contamination: {c}, AUC : {roc_auc_score(y_test_sf, y_pred):.1}, precision: {round(p[0], 2)}, support: {s}, recall: {round(r[0], 2)}, fp: {round(fp[0], 0)}\")"
   ]
  },
  {
   "cell_type": "code",
   "execution_count": null,
   "metadata": {
    "colab": {
     "base_uri": "https://localhost:8080/"
    },
    "id": "VX_xXX25fs0q",
    "outputId": "9032aeeb-48da-4323-bd2e-52ce5fc1c8bd"
   },
   "outputs": [
    {
     "name": "stdout",
     "output_type": "stream",
     "text": [
      "contamination: 0.201, AUC : 0.6, precision: 0.09, support: [836], recall: 0.35, fp: 8556.0\n",
      "contamination: 0.2011, AUC : 0.6, precision: 0.09, support: [836], recall: 0.35, fp: 8556.0\n",
      "contamination: 0.2012, AUC : 0.9, precision: 0.22, support: [836], recall: 1.0, fp: 3009.0\n",
      "contamination: 0.2013, AUC : 0.6, precision: 0.09, support: [836], recall: 0.35, fp: 8556.0\n",
      "contamination: 0.2014, AUC : 0.6, precision: 0.09, support: [836], recall: 0.35, fp: 8556.0\n",
      "contamination: 0.2015, AUC : 0.6, precision: 0.09, support: [836], recall: 0.35, fp: 8556.0\n",
      "contamination: 0.2016, AUC : 0.9, precision: 0.22, support: [836], recall: 1.0, fp: 3009.0\n",
      "contamination: 0.2017, AUC : 0.6, precision: 0.09, support: [836], recall: 0.35, fp: 8556.0\n",
      "contamination: 0.2018, AUC : 0.9, precision: 0.22, support: [836], recall: 1.0, fp: 3009.0\n",
      "contamination: 0.2019, AUC : 0.6, precision: 0.09, support: [836], recall: 0.35, fp: 8556.0\n",
      "contamination: 0.202, AUC : 0.9, precision: 0.22, support: [836], recall: 1.0, fp: 3009.0\n"
     ]
    }
   ],
   "source": [
    "contamination = [round(0.201 + 0.0001*i, 4) for i in range(11)]\n",
    "for c in contamination:\n",
    "  y_pred = IsolationForest(random_state=1, n_jobs=-1, max_samples=0.25, n_estimators=100, contamination=c).fit(X_train_sf).predict(X_test_sf)\n",
    "  # print(classification_report(y_test_sf, y_pred))\n",
    "  p, r, f, s = precision_recall_fscore_support(y_test_sf, y_pred, labels=[-1])\n",
    "  fp = s / p - s\n",
    "  print(f\"contamination: {c}, AUC : {roc_auc_score(y_test_sf, y_pred):.1}, precision: {round(p[0], 2)}, support: {s}, recall: {round(r[0], 2)}, fp: {round(fp[0], 0)}\")"
   ]
  },
  {
   "cell_type": "code",
   "execution_count": null,
   "metadata": {
    "colab": {
     "base_uri": "https://localhost:8080/"
    },
    "id": "BKzL4KDRf8Mq",
    "outputId": "c7026e63-3c58-4d58-cf53-f76912b4bd8e"
   },
   "outputs": [
    {
     "name": "stdout",
     "output_type": "stream",
     "text": [
      "contamination: 0.2011, AUC : 0.6, precision: 0.09, support: [836], recall: 0.35, fp: 8556.0\n",
      "contamination: 0.20111, AUC : 0.6, precision: 0.09, support: [836], recall: 0.35, fp: 8556.0\n",
      "contamination: 0.20112, AUC : 0.9, precision: 0.22, support: [836], recall: 1.0, fp: 3009.0\n",
      "contamination: 0.20113, AUC : 0.9, precision: 0.22, support: [836], recall: 1.0, fp: 3009.0\n",
      "contamination: 0.20114, AUC : 0.6, precision: 0.09, support: [836], recall: 0.35, fp: 8556.0\n",
      "contamination: 0.20115, AUC : 0.6, precision: 0.09, support: [836], recall: 0.35, fp: 8556.0\n",
      "contamination: 0.20116, AUC : 0.9, precision: 0.22, support: [836], recall: 1.0, fp: 3009.0\n",
      "contamination: 0.20117, AUC : 0.6, precision: 0.09, support: [836], recall: 0.35, fp: 8556.0\n",
      "contamination: 0.20118, AUC : 0.6, precision: 0.09, support: [836], recall: 0.35, fp: 8556.0\n",
      "contamination: 0.20119, AUC : 0.6, precision: 0.09, support: [836], recall: 0.35, fp: 8556.0\n",
      "contamination: 0.2012, AUC : 0.9, precision: 0.22, support: [836], recall: 1.0, fp: 3009.0\n"
     ]
    }
   ],
   "source": [
    "contamination = [round(0.2011 + 0.00001*i, 5) for i in range(11)]\n",
    "for c in contamination:\n",
    "  y_pred = IsolationForest(random_state=1, n_jobs=-1, max_samples=0.25, n_estimators=100, contamination=c).fit(X_train_sf).predict(X_test_sf)\n",
    "  # print(classification_report(y_test_sf, y_pred))\n",
    "  p, r, f, s = precision_recall_fscore_support(y_test_sf, y_pred, labels=[-1])\n",
    "  fp = s / p - s\n",
    "  print(f\"contamination: {c}, AUC : {roc_auc_score(y_test_sf, y_pred):.1}, precision: {round(p[0], 2)}, support: {s}, recall: {round(r[0], 2)}, fp: {round(fp[0], 0)}\")"
   ]
  },
  {
   "cell_type": "code",
   "execution_count": null,
   "metadata": {
    "colab": {
     "base_uri": "https://localhost:8080/"
    },
    "id": "CDaHCyVZoffh",
    "outputId": "d118d0cd-96ce-4d79-916d-42c05f540c82"
   },
   "outputs": [
    {
     "data": {
      "text/plain": [
       "{'mean_fit_time': array([2.90855026, 2.67303553, 2.63002954, 2.63448086, 2.67360396,\n",
       "        2.68544455, 2.64424467, 2.63690939, 2.63578124, 2.60190864,\n",
       "        2.58971887, 2.59002118]),\n",
       " 'mean_score_time': array([0.63267727, 0.60461512, 0.6016675 , 0.58049212, 0.61961908,\n",
       "        0.60819039, 0.66821408, 0.52835064, 0.49928179, 0.55175858,\n",
       "        0.47246799, 0.46751328]),\n",
       " 'mean_test_score': array([0.96199859, 0.96047053, 0.96007857, 0.96164138, 0.96291305,\n",
       "        0.96720783, 0.96681218, 0.96647507, 0.97276371, 0.97268091,\n",
       "        0.98599401, 0.99310116]),\n",
       " 'param_contamination': masked_array(data=[0.05, 0.1, 0.11, 0.12, 0.13, 0.14, 0.15, 0.16, 0.17,\n",
       "                    0.18, 0.19, 0.2],\n",
       "              mask=[False, False, False, False, False, False, False, False,\n",
       "                    False, False, False, False],\n",
       "        fill_value='?',\n",
       "             dtype=object),\n",
       " 'params': [{'contamination': 0.05},\n",
       "  {'contamination': 0.1},\n",
       "  {'contamination': 0.11},\n",
       "  {'contamination': 0.12},\n",
       "  {'contamination': 0.13},\n",
       "  {'contamination': 0.14},\n",
       "  {'contamination': 0.15},\n",
       "  {'contamination': 0.16},\n",
       "  {'contamination': 0.17},\n",
       "  {'contamination': 0.18},\n",
       "  {'contamination': 0.19},\n",
       "  {'contamination': 0.2}],\n",
       " 'rank_test_score': array([ 9, 11, 12, 10,  8,  5,  6,  7,  3,  4,  2,  1], dtype=int32),\n",
       " 'split0_test_score': array([0.96500287, 0.96347403, 0.96310341, 0.9626401 , 0.9623431 ,\n",
       "        0.96841882, 0.9680566 , 0.96785329, 1.        , 1.        ,\n",
       "        1.        , 1.        ]),\n",
       " 'split1_test_score': array([0.96136844, 0.95958053, 0.95915638, 0.96890327, 0.96857203,\n",
       "        0.96821672, 0.9677559 , 0.96737822, 0.96731739, 0.96731739,\n",
       "        1.        , 1.        ]),\n",
       " 'split2_test_score': array([0.96109136, 0.95950313, 0.95914   , 0.95866832, 0.95848432,\n",
       "        0.96706081, 0.96674483, 0.96632851, 0.96593886, 0.96552486,\n",
       "        0.9655058 , 0.9655058 ]),\n",
       " 'split3_test_score': array([0.96177795, 0.96068152, 0.96028918, 0.95975232, 0.96720627,\n",
       "        0.96681463, 0.96641711, 0.96609803, 0.96609803, 0.96609803,\n",
       "        1.        , 1.        ]),\n",
       " 'split4_test_score': array([0.96075233, 0.95911345, 0.95870387, 0.95824289, 0.95795952,\n",
       "        0.96552815, 0.96508648, 0.96471731, 0.96446425, 0.96446425,\n",
       "        0.96446425, 1.        ]),\n",
       " 'std_fit_time': array([0.46576082, 0.02341754, 0.01822331, 0.03340584, 0.03495902,\n",
       "        0.02928421, 0.01740779, 0.03121492, 0.03266225, 0.04077673,\n",
       "        0.01606766, 0.0198225 ]),\n",
       " 'std_score_time': array([0.0465783 , 0.01451414, 0.05995395, 0.01313196, 0.04045457,\n",
       "        0.01019978, 0.06069019, 0.07801266, 0.02937199, 0.0070192 ,\n",
       "        0.01932778, 0.01136125]),\n",
       " 'std_test_score': array([0.00153933, 0.00158966, 0.00160095, 0.00394182, 0.00435733,\n",
       "        0.00104708, 0.0010562 , 0.00109257, 0.01364821, 0.01369056,\n",
       "        0.01715693, 0.01379768])}"
      ]
     },
     "execution_count": 8,
     "metadata": {
      "tags": []
     },
     "output_type": "execute_result"
    }
   ],
   "source": [
    "If.cv_results_"
   ]
  },
  {
   "cell_type": "markdown",
   "metadata": {
    "id": "ppir_li6iHzh"
   },
   "source": [
    "# Results of cross-validation search"
   ]
  },
  {
   "cell_type": "code",
   "execution_count": null,
   "metadata": {
    "colab": {
     "base_uri": "https://localhost:8080/",
     "height": 464
    },
    "id": "xCHIlpKbty5a",
    "outputId": "b377ecee-fdf2-43cc-e9f5-cfe02df4bde7"
   },
   "outputs": [
    {
     "name": "stdout",
     "output_type": "stream",
     "text": [
      "              precision    recall  f1-score   support\n",
      "\n",
      "          -1       0.22      1.00      0.36       836\n",
      "           1       1.00      0.83      0.91     17474\n",
      "\n",
      "    accuracy                           0.84     18310\n",
      "   macro avg       0.61      0.91      0.63     18310\n",
      "weighted avg       0.96      0.84      0.88     18310\n",
      "\n"
     ]
    },
    {
     "data": {
      "image/png": "[encoded data removed]",
      "text/plain": [
       "<Figure size 432x288 with 2 Axes>"
      ]
     },
     "metadata": {
      "needs_background": "light",
      "tags": []
     },
     "output_type": "display_data"
    }
   ],
   "source": [
    "oIf = IsolationForest(contamination=0.20112, max_samples=0.25, n_estimators=100, n_jobs=-1, random_state=1)\n",
    "Y_pred_if = oIf.fit(X_train_sf).predict(X_test_sf)\n",
    "cm_if = confusion_matrix(y_test_sf, Y_pred_if)\n",
    "print(classification_report(y_test_sf, Y_pred_if))\n",
    "plot_confusion_matrix(cm_if, \"Confusion matrix for If with c = 0.20112\")"
   ]
  },
  {
   "cell_type": "code",
   "execution_count": null,
   "metadata": {
    "id": "SUX-ikXAoZ7T"
   },
   "outputs": [],
   "source": []
  },
  {
   "cell_type": "markdown",
   "metadata": {
    "id": "moYg0654iS3D"
   },
   "source": [
    "# Load big dataset and setup parameters"
   ]
  },
  {
   "cell_type": "code",
   "execution_count": null,
   "metadata": {
    "id": "WIKu1UwyiZKA"
   },
   "outputs": [],
   "source": [
    "sf = datasets.fetch_kddcup99(subset='SF', percent10=False, random_state=0)\n",
    "dfsf = pd.DataFrame(sf.data, columns=sf_columns)\n",
    "dfsf[\"target\"]=sf.target\n",
    "anomaly_rate_sf = 1.0 - len(dfsf.loc[dfsf[\"target\"]==b'normal.'])/len(dfsf)\n",
    "f\"SF anomaly rate is {anomaly_rate_sf:.1%}\"\n",
    "\n",
    "dfsf['binary_target'] = [1 if x==b'normal.' else -1 for x in dfsf[\"target\"]]\n",
    "toDecodeSF = [\"service\", \"target\"]    \n",
    "leSF = preprocessing.LabelEncoder()\n",
    "for f in toDecodeSF:\n",
    "    dfsf[f] = list(map(byte_decoder, dfsf[f]))\n",
    "    dfsf[f] = leSF.fit_transform(dfsf[f])\n",
    "\n",
    "X_train_sf, X_test_sf, y_train_sf, y_test_sf = train_test_split(dfsf.drop([\"target\", 'binary_target'], axis=1), dfsf['binary_target'], test_size=0.25, random_state=0)"
   ]
  },
  {
   "cell_type": "markdown",
   "metadata": {
    "id": "T6EK16hniZrq"
   },
   "source": [
    "# Manual cross-validation search with bigger dataset\n"
   ]
  },
  {
   "cell_type": "markdown",
   "metadata": {
    "id": "HTvhCpfwijQb"
   },
   "source": [
    "# Isolation Forest"
   ]
  },
  {
   "cell_type": "code",
   "execution_count": null,
   "metadata": {
    "id": "ytIPym5mjprS"
   },
   "outputs": [],
   "source": [
    "def cross-validation(contamination):\n",
    "  highest_score = 0\n",
    "  highest_score_c = 0\n",
    "  for c in contamination:\n",
    "    y_pred = IsolationForest(random_state=1, n_jobs=-1, max_samples=0.25, n_estimators=100, contamination=c).fit(X_train_sf).predict(X_test_sf)\n",
    "    # print(classification_report(y_test_sf, y_pred))\n",
    "    p, r, f, s = precision_recall_fscore_support(y_test_sf, y_pred, labels=[-1])\n",
    "    if p > highest_score: p = highest_score; highest_score_c = c\n",
    "    fp = s / p - s\n",
    "    print(f\"contamination: {c}, AUC : {roc_auc_score(y_test_sf, y_pred):.1}, precision: {round(p[0], 2)}, support: {s}, recall: {round(r[0], 2)}, fp: {round(fp[0], 0)}\")\n",
    "    return c"
   ]
  },
  {
   "cell_type": "markdown",
   "metadata": {
    "id": "-q_BKY4Gi8Na"
   },
   "source": [
    "# Exhaustive search range, big margin"
   ]
  },
  {
   "cell_type": "code",
   "execution_count": null,
   "metadata": {
    "id": "2Zg1uERyiq8k"
   },
   "outputs": [],
   "source": [
    "contamination = [round(0.1 + 0.01*i, 2) for i in range(31)]\n",
    "c_max = cross-validation(contamination)\n",
    "c_max"
   ]
  },
  {
   "cell_type": "markdown",
   "metadata": {
    "id": "1XVBObH1jToB"
   },
   "source": [
    "# Narrowing search range, smaller margin"
   ]
  },
  {
   "cell_type": "code",
   "execution_count": null,
   "metadata": {
    "id": "0uO7haVUjaDb"
   },
   "outputs": [],
   "source": [
    "contamination = [round(c_max + 0.001*i, 3) for i in range(11)]\n",
    "c_max = cross-validation(contamination)"
   ]
  },
  {
   "cell_type": "markdown",
   "metadata": {
    "id": "jjVoYgnbjb-b"
   },
   "source": [
    "# Precision search range, smallest margin"
   ]
  },
  {
   "cell_type": "code",
   "execution_count": null,
   "metadata": {
    "id": "lY285yn0jhqi"
   },
   "outputs": [],
   "source": [
    "contamination = [round(c_max + 0.0001*i, 4) for i in range(11)]\n",
    "c_max = cross-validation(contamination)"
   ]
  },
  {
   "cell_type": "markdown",
   "metadata": {
    "id": "AnkNy7CzjiF1"
   },
   "source": [
    "# Limit testing, tiny margin"
   ]
  },
  {
   "cell_type": "code",
   "execution_count": null,
   "metadata": {
    "id": "r_IWDlE2jnCZ"
   },
   "outputs": [],
   "source": [
    "contamination = [round(c_max + 0.000001*i, 5) for i in range(11)]\n",
    "c_max = cross-validation(contamination)"
   ]
  }
 ],
 "metadata": {
  "colab": {
   "collapsed_sections": [],
   "name": "cross-validation-if.ipynb",
   "provenance": []
  },
  "kernelspec": {
   "display_name": "Python 3",
   "language": "python",
   "name": "python3"
  },
  "language_info": {
   "codemirror_mode": {
    "name": "ipython",
    "version": 3
   },
   "file_extension": ".py",
   "mimetype": "text/x-python",
   "name": "python",
   "nbconvert_exporter": "python",
   "pygments_lexer": "ipython3",
   "version": "3.8.5"
  }
 },
 "nbformat": 4,
 "nbformat_minor": 1
}
