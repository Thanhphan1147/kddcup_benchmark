{
 "cells": [
  {
   "cell_type": "code",
   "execution_count": 69,
   "metadata": {},
   "outputs": [],
   "source": [
    "from sklearn import datasets\n",
    "from sklearn import preprocessing\n",
    "from sklearn.model_selection import train_test_split\n",
    "\n",
    "from sklearn.ensemble import IsolationForest\n",
    "from sklearn.neighbors import LocalOutlierFactor\n",
    "from sklearn import svm\n",
    "from sklearn.neighbors import NearestNeighbors\n",
    "from sklearn.neighbors import KNeighborsClassifier\n",
    "from sklearn.cluster import KMeans\n",
    "from sklearn.svm import OneClassSVM\n",
    "from sklearn.cluster import DBSCAN\n",
    "\n",
    "from sklearn import metrics\n",
    "from sklearn.preprocessing import StandardScaler\n",
    "\n",
    "from sklearn.metrics import classification_report\n",
    "from sklearn.metrics import confusion_matrix\n",
    "# from sklearn.metrics import plot_confusion_matrix\n",
    "from sklearn.metrics import precision_recall_fscore_support\n",
    "from sklearn.metrics import recall_score\n",
    "from sklearn.metrics import roc_auc_score\n",
    "from sklearn.model_selection import GridSearchCV\n",
    "from sklearn.metrics import make_scorer\n",
    "from sklearn.metrics import accuracy_score\n",
    "\n",
    "import pandas as pd\n",
    "import numpy as np\n",
    "import itertools\n",
    "import matplotlib.pyplot as plt\n",
    "import datetime\n",
    "\n",
    "%matplotlib inline\n",
    "\n",
    "def byte_decoder(val):\n",
    "    # decodes byte literals to strings\n",
    "    \n",
    "    return val.decode('utf-8')\n",
    "\n",
    "def plot_confusion_matrix(cm, title, classes=['abnormal', 'normal'],\n",
    "                          cmap=plt.cm.Reds):\n",
    "    \n",
    "    cm = cm.astype('float') / cm.sum(axis=1)[:, np.newaxis]\n",
    "    \n",
    "    plt.imshow(cm, interpolation='nearest', cmap=cmap)\n",
    "    plt.title(title)\n",
    "    plt.colorbar()\n",
    "    tick_marks = np.arange(len(classes))\n",
    "    plt.xticks(tick_marks, classes, rotation=90)\n",
    "    plt.yticks(tick_marks, classes)\n",
    "\n",
    "    fmt = '.1%'\n",
    "    thresh = cm.max() / 2.\n",
    "    for i, j in itertools.product(range(cm.shape[0]), range(cm.shape[1])):\n",
    "        plt.text(j, i, format(cm[i, j], fmt),\n",
    "                 horizontalalignment=\"center\",\n",
    "                 color=\"white\" if cm[i, j] > thresh else \"black\")\n",
    "\n",
    "    plt.tight_layout()\n",
    "    plt.ylabel('True label')\n",
    "    plt.xlabel('Predicted label')\n",
    "\n",
    "def time(expr):\n",
    "    start = datetime.datetime.now()\n",
    "    code = eval(expr)\n",
    "    end = datetime.datetime.now()\n",
    "    return (end-start, code)\n",
    "\n",
    "sa_columns = [\"duration\",\"protocol_type\",\"service\",\"flag\",\"src_bytes\",\"dst_bytes\",\"land\",\"wrong_fragment\",\n",
    "                           \"urgent\",\"hot\",\"num_failed_logins\",\"logged_in\",\"num_compromised\",\"root_shell\",\"su_attempted\",\n",
    "                           \"num_root\",\"num_file_creations\",\"num_shells\",\"num_access_files\",\"num_outbound_cmds\",\"is_host_login\",\n",
    "                           \"is_guest_login\",\"count\",\"srv_count\",\"serror_rate\",\"srv_serror_rate\",\"rerror_rate\",\"srv_rerror_rate\",\n",
    "                           \"same_srv_rate\",\"diff_srv_rate\",\"srv_diff_host_rate\",\"dst_host_count\",\"dst_host_srv_count\",\n",
    "                           \"dst_host_same_srv_rate\",\"dst_host_diff_srv_rate\",\"dst_host_same_src_port_rate\",\n",
    "                           \"dst_host_srv_diff_host_rate\",\"dst_host_serror_rate\",\"dst_host_srv_serror_rate\",\n",
    "                           \"dst_host_rerror_rate\",\"dst_host_srv_rerror_rate\"]\n",
    "sf_columns = [\"duration\", \"service\", \"src_bytes\", \"dst_bytes\"]"
   ]
  },
  {
   "cell_type": "code",
   "execution_count": 68,
   "metadata": {},
   "outputs": [
    {
     "name": "stdout",
     "output_type": "stream",
     "text": [
      "SF anomaly rate is 0.5%\n"
     ]
    }
   ],
   "source": [
    "# sf = datasets.fetch_kddcup99(subset='SF', random_state=0, percent10=False)\n",
    "# dfsf = pd.DataFrame(sf.data, columns=sf_columns)\n",
    "df = pd.read_csv('kddcup.data.csv', delimiter=',')\n",
    "df.columns = sa_columns + [\"target\"]\n",
    "dfsf = df[(df[\"flag\"]=='SF') & (df[\"logged_in\"] == 1)]\n",
    "dfsf = dfsf[sf_columns+[\"target\"]]\n",
    "anomaly_rate_sf = 1.0 - len(dfsf.loc[dfsf[\"target\"]=='normal.'])/len(dfsf)\n",
    "print(f\"SF anomaly rate is {anomaly_rate_sf:.1%}\")\n",
    "\n",
    "dfsf['binary_target'] = [1 if x=='normal.' else -1 for x in dfsf[\"target\"]]\n",
    "toDecodeSF = [\"service\", \"target\"]    \n",
    "leSF = preprocessing.LabelEncoder()\n",
    "for f in toDecodeSF:\n",
    "    dfsf[f] = leSF.fit_transform(dfsf[f])\n",
    "\n",
    "X_train_sf, X_test_sf, y_train_sf, y_test_sf = train_test_split(dfsf.drop([\"target\", 'binary_target'], axis=1), dfsf['binary_target'], test_size=0.33, random_state=0)"
   ]
  },
  {
   "cell_type": "code",
   "execution_count": 49,
   "metadata": {},
   "outputs": [],
   "source": [
    "num_extimators = 100\n",
    "max_samples = 0.25\n",
    "contamination = 0.2\n",
    "eps = 0.2\n",
    "\n",
    "ifsf = IsolationForest(max_samples=max_samples, random_state=0, contamination=contamination, n_estimators=num_extimators, n_jobs=-1)\n",
    "lofsf = LocalOutlierFactor(n_neighbors=15, metric='euclidean', algorithm = 'auto', contamination=contamination, n_jobs=-1)\n",
    "ocsvm = OneClassSVM(nu=contamination, kernel=\"rbf\",gamma=0.1)\n",
    "dbscan = DBSCAN(eps=eps, min_samples=10, metric='euclidean', algorithm = 'auto', n_jobs=-1)\n",
    "estimators = {\n",
    "    \"if\": ifsf,\n",
    "    \"lof\": lofsf,\n",
    "    \"dbs\": dbscan,\n",
    "    \"svm\": ocsvm\n",
    "}"
   ]
  },
  {
   "cell_type": "code",
   "execution_count": 75,
   "metadata": {},
   "outputs": [],
   "source": [
    "def model(algorithm = \"if\", ds=\"SF\"):\n",
    "    if ds == \"SF\":\n",
    "        x_train, y_train, x_test, y_test = (X_train_sf, y_train_sf, X_test_sf, y_test_sf)\n",
    "    elif ds == \"SA\": \n",
    "        x_train, y_train, x_test, y_test = (X_train_sa, y_train_sa, X_test_sa, y_test_sa)\n",
    "    else:\n",
    "        return\n",
    "    \n",
    "    s = datetime.datetime.now()\n",
    "    y_pred = estimators[algorithm].fit(x_train).predict(x_test)\n",
    "    t = datetime.datetime.now() - s\n",
    "    print(f\"trainning finished in {t}\")\n",
    "    print(classification_report(y_test, y_pred, target_names=['anomaly', 'normal']))\n",
    "    print (\"AUC: \", \"{:.1%}\".format(roc_auc_score(y_test, y_pred)))\n",
    "    plot_confusion_matrix(confusion_matrix(y_test, y_pred), f\"Confusion Matrix for {algorithm} on SF test dataset\")\n",
    "    return (t, precision_recall_fscore_support(y_test, y_pred, labels=[-1]))"
   ]
  },
  {
   "cell_type": "code",
   "execution_count": 51,
   "metadata": {},
   "outputs": [
    {
     "name": "stdout",
     "output_type": "stream",
     "text": [
      "trainning finished in 0:00:24.847744\n",
      "              precision    recall  f1-score   support\n",
      "\n",
      "     anomaly       0.02      1.00      0.04      1043\n",
      "      normal       1.00      0.80      0.89    230504\n",
      "\n",
      "    accuracy                           0.80    231547\n",
      "   macro avg       0.51      0.90      0.47    231547\n",
      "weighted avg       1.00      0.80      0.89    231547\n",
      "\n",
      "AUC:  90.0%\n"
     ]
    },
    {
     "data": {
      "image/png": "[encoded data removed]",
      "text/plain": [
       "<Figure size 432x288 with 2 Axes>"
      ]
     },
     "metadata": {
      "needs_background": "light"
     },
     "output_type": "display_data"
    }
   ],
   "source": [
    "t, s = model(\"if\", \"SF\")"
   ]
  },
  {
   "cell_type": "code",
   "execution_count": 71,
   "metadata": {},
   "outputs": [
    {
     "name": "stdout",
     "output_type": "stream",
     "text": [
      "SA anomaly rate is 80.1%\n"
     ]
    }
   ],
   "source": [
    "# sf = datasets.fetch_kddcup99(subset='SF', random_state=0, percent10=False)\n",
    "# dfsf = pd.DataFrame(sf.data, columns=sf_columns)\n",
    "dfsa = pd.read_csv('kddcup.data.csv', delimiter=',')\n",
    "dfsa.columns = sa_columns + [\"target\"]\n",
    "dfsa = dfsa[sa_columns+[\"target\"]]\n",
    "anomaly_rate_sf = 1.0 - len(dfsa.loc[dfsa[\"target\"]=='normal.'])/len(dfsa)\n",
    "print(f\"SA anomaly rate is {anomaly_rate_sf:.1%}\")\n",
    "\n",
    "toDecodeSA = [\"protocol_type\", \"service\", \"flag\", \"target\"]\n",
    "dfsa['binary_target'] = [1 if x=='normal.' else -1 for x in dfsa[\"target\"]]\n",
    "# toDecodeSF = [\"service\", \"target\"]    \n",
    "le = preprocessing.LabelEncoder()\n",
    "for f in toDecodeSA:\n",
    "     dfsa[f] = le.fit_transform(dfsa[f])\n",
    "\n",
    "X_train_sa, X_test_sa, y_train_sa, y_test_sa = train_test_split(dfsa.drop([\"target\", 'binary_target'], axis=1), dfsa['binary_target'], test_size=0.33, random_state=0)"
   ]
  },
  {
   "cell_type": "code",
   "execution_count": 72,
   "metadata": {},
   "outputs": [
    {
     "data": {
      "text/plain": [
       "array([[0.000e+00, 1.000e+00, 2.400e+01, 9.000e+00, 1.620e+02, 4.528e+03,\n",
       "        0.000e+00, 0.000e+00, 0.000e+00, 0.000e+00, 0.000e+00, 1.000e+00,\n",
       "        0.000e+00, 0.000e+00, 0.000e+00, 0.000e+00, 0.000e+00, 0.000e+00,\n",
       "        0.000e+00, 0.000e+00, 0.000e+00, 0.000e+00, 2.000e+00, 2.000e+00,\n",
       "        0.000e+00, 0.000e+00, 0.000e+00, 0.000e+00, 1.000e+00, 0.000e+00,\n",
       "        0.000e+00, 1.000e+00, 1.000e+00, 1.000e+00, 0.000e+00, 1.000e+00,\n",
       "        0.000e+00, 0.000e+00, 0.000e+00, 0.000e+00, 0.000e+00, 1.100e+01,\n",
       "        1.000e+00]])"
      ]
     },
     "execution_count": 72,
     "metadata": {},
     "output_type": "execute_result"
    }
   ],
   "source": [
    "np.array(dfsa.head(1))"
   ]
  },
  {
   "cell_type": "code",
   "execution_count": 79,
   "metadata": {},
   "outputs": [],
   "source": [
    "num_extimators = 100\n",
    "max_samples = 0.25\n",
    "contamination = 0.8\n",
    "eps = 0.2\n",
    "\n",
    "ifsf = IsolationForest(max_samples=max_samples, random_state=0, contamination=contamination, n_estimators=num_extimators, n_jobs=-1)\n",
    "lofsf = LocalOutlierFactor(n_neighbors=15, metric='euclidean', algorithm = 'auto', contamination=contamination, n_jobs=-1)\n",
    "ocsvm = OneClassSVM(nu=contamination, kernel=\"rbf\",gamma=0.1)\n",
    "dbscan = DBSCAN(eps=eps, min_samples=10, metric='euclidean', algorithm = 'auto', n_jobs=-1)\n",
    "estimators = {\n",
    "    \"if\": ifsf,\n",
    "    \"lof\": lofsf,\n",
    "    \"dbs\": dbscan,\n",
    "    \"svm\": ocsvm\n",
    "}"
   ]
  },
  {
   "cell_type": "code",
   "execution_count": 80,
   "metadata": {},
   "outputs": [
    {
     "name": "stdout",
     "output_type": "stream",
     "text": [
      "trainning finished in 0:08:25.929799\n",
      "              precision    recall  f1-score   support\n",
      "\n",
      "     anomaly       0.67      0.51      0.58   1295823\n",
      "      normal       0.00      0.00      0.00    320659\n",
      "\n",
      "    accuracy                           0.41   1616482\n",
      "   macro avg       0.34      0.25      0.29   1616482\n",
      "weighted avg       0.54      0.41      0.46   1616482\n",
      "\n",
      "AUC:  25.5%\n"
     ]
    },
    {
     "data": {
      "image/png": "[encoded data removed]",
      "text/plain": [
       "<Figure size 432x288 with 2 Axes>"
      ]
     },
     "metadata": {
      "needs_background": "light"
     },
     "output_type": "display_data"
    }
   ],
   "source": [
    "t, s = model(\"if\", \"SA\")"
   ]
  },
  {
   "cell_type": "code",
   "execution_count": null,
   "metadata": {},
   "outputs": [],
   "source": []
  }
 ],
 "metadata": {
  "kernelspec": {
   "display_name": "Python 3",
   "language": "python",
   "name": "python3"
  },
  "language_info": {
   "codemirror_mode": {
    "name": "ipython",
    "version": 3
   },
   "file_extension": ".py",
   "mimetype": "text/x-python",
   "name": "python",
   "nbconvert_exporter": "python",
   "pygments_lexer": "ipython3",
   "version": "3.8.5"
  }
 },
 "nbformat": 4,
 "nbformat_minor": 4
}
