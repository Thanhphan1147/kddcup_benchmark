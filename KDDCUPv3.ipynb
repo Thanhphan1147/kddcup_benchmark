{
 "cells": [
  {
   "cell_type": "code",
   "execution_count": 2,
   "metadata": {},
   "outputs": [],
   "source": [
    "from imports import *"
   ]
  },
  {
   "cell_type": "code",
   "execution_count": 19,
   "metadata": {},
   "outputs": [
    {
     "name": "stdout",
     "output_type": "stream",
     "text": [
      "anomaly rate is 23.1%\n"
     ]
    }
   ],
   "source": [
    "# sf = datasets.fetch_kddcup99(subset='SF', random_state=0, percent10=False)\n",
    "# dfsf = pd.DataFrame(sf.data, columns=sf_columns)\n",
    "df = pd.read_csv('kddcup.data', delimiter=',')\n",
    "df.columns = sa_columns + [\"target\"]\n",
    "\n",
    "df_normal = df[df[\"target\"]== 'normal.']\n",
    "df_attacks = df[df[\"target\"]!= 'normal.']\n",
    "\n",
    "target_anomaly_rate = 0.3\n",
    "df_attacks = df_attacks.sample(n = int(len(df_normal)*target_anomaly_rate), random_state=1)\n",
    "\n",
    "df_train = df_normal.append(df_attacks)\n",
    "anomaly_rate = 1.0 - len(df_train.loc[df_train[\"target\"]=='normal.'])/len(df_train)\n",
    "print(f\"anomaly rate is {anomaly_rate:.1%}\")\n",
    "\n",
    "df_train['binary_target'] = [1 if x=='normal.' else -1 for x in df_train[\"target\"]]\n",
    "df_train = df_train.sample(frac=1, random_state=2)\n",
    "toDecode = [\"protocol_type\", \"service\", \"flag\", \"target\"]\n",
    "leSF = preprocessing.LabelEncoder()\n",
    "for f in toDecode:\n",
    "    df_train[f] = leSF.fit_transform(df_train[f])\n",
    "\n",
    "x_train, x_test, y_train, y_test = train_test_split(df_train.drop([\"target\", 'binary_target'], axis=1), df_train['binary_target'], test_size=0.33, random_state=0)\n",
    "results = []"
   ]
  },
  {
   "cell_type": "code",
   "execution_count": 20,
   "metadata": {},
   "outputs": [],
   "source": [
    "def cross_validation(contamination):\n",
    "    highest_score = 0\n",
    "    highest_score_c = 0\n",
    "    #print(\"array:\", contamination)\n",
    "    for c in contamination:\n",
    "        y_pred = IsolationForest(random_state=1, n_jobs=-1, max_samples=0.25, n_estimators=100, contamination=c).fit(x_train).predict(x_test)\n",
    "        p, r, f, s = map(lambda x: x[0], precision_recall_fscore_support(y_test, y_pred, labels=[-1]))\n",
    "        if p + r > highest_score: highest_score = p; highest_score_c = c\n",
    "        fp = s / p - s\n",
    "        print(f\"contamination: {c}, AUC : {roc_auc_score(y_test, y_pred):.1}, precision: {p}, support: {s}, recall: {r}, fp: {int(round(fp, 0))}\")\n",
    "    return highest_score_c"
   ]
  },
  {
   "cell_type": "code",
   "execution_count": 11,
   "metadata": {},
   "outputs": [
    {
     "name": "stdout",
     "output_type": "stream",
     "text": [
      "contamination: 0.01, AUC : 0.5, precision: 0.29918356597313667, support: 64369, recall: 0.01764824682688872, fp: 150780\n",
      "contamination: 0.02, AUC : 0.5, precision: 0.3205723124516628, support: 64369, recall: 0.03863661079090867, fp: 136425\n",
      "contamination: 0.03, AUC : 0.5, precision: 0.36767989009101837, support: 64369, recall: 0.06652270502881821, fp: 110699\n",
      "contamination: 0.04, AUC : 0.5, precision: 0.3609718472811415, support: 64369, recall: 0.08724696670757663, fp: 113952\n",
      "contamination: 0.05, AUC : 0.5, precision: 0.3211765311904394, support: 64369, recall: 0.0968633969768056, fp: 136047\n",
      "contamination: 0.06, AUC : 0.5, precision: 0.29882778831235995, support: 64369, recall: 0.10772266152961829, fp: 151036\n",
      "contamination: 0.07, AUC : 0.5, precision: 0.29240776128178747, support: 64369, recall: 0.12361540493094501, fp: 155765\n",
      "contamination: 0.08, AUC : 0.5, precision: 0.2924187725631769, support: 64369, recall: 0.140937407758393, fp: 155757\n",
      "contamination: 0.09, AUC : 0.5, precision: 0.29544868673559993, support: 64369, recall: 0.16024794543957496, fp: 153500\n",
      "contamination: 0.1, AUC : 0.6, precision: 0.30638221122877535, support: 64369, recall: 0.18473178082617409, fp: 145725\n"
     ]
    },
    {
     "data": {
      "text/plain": [
       "0.1"
      ]
     },
     "execution_count": 11,
     "metadata": {},
     "output_type": "execute_result"
    }
   ],
   "source": [
    "contamination = [round(0.01 + 0.01*i, 2) for i in range(10)]\n",
    "c_max = cross_validation(contamination)\n",
    "c_max"
   ]
  },
  {
   "cell_type": "code",
   "execution_count": 21,
   "metadata": {},
   "outputs": [
    {
     "name": "stdout",
     "output_type": "stream",
     "text": [
      "contamination: 0.1, AUC : 0.5, precision: 0.33631101264918173, support: 96177, recall: 0.14679185252191274, fp: 189799\n",
      "contamination: 0.2, AUC : 0.6, precision: 0.3758221332570775, support: 96177, recall: 0.3279578277550766, fp: 159734\n",
      "contamination: 0.3, AUC : 0.6, precision: 0.3413096626771704, support: 96177, recall: 0.4441706437089949, fp: 185611\n",
      "contamination: 0.4, AUC : 0.6, precision: 0.2946825420628018, support: 96177, recall: 0.5108081973860694, fp: 230198\n",
      "contamination: 0.5, AUC : 0.6, precision: 0.2946825420628018, support: 96177, recall: 0.5108081973860694, fp: 230198\n",
      "contamination: 0.6, AUC : 0.8, precision: 0.38523654453910766, support: 96177, recall: 1.0, fp: 153480\n"
     ]
    },
    {
     "data": {
      "text/plain": [
       "0.6"
      ]
     },
     "execution_count": 21,
     "metadata": {},
     "output_type": "execute_result"
    }
   ],
   "source": [
    "contamination = [round(0.1*i, 1) for i in range(1, 7)]\n",
    "c_max = cross_validation(contamination)\n",
    "c_max"
   ]
  },
  {
   "cell_type": "code",
   "execution_count": 22,
   "metadata": {},
   "outputs": [
    {
     "name": "stdout",
     "output_type": "stream",
     "text": [
      "contamination: 0.5, AUC : 0.6, precision: 0.2946825420628018, support: 96177, recall: 0.5108081973860694, fp: 230198\n",
      "contamination: 0.51, AUC : 0.6, precision: 0.2946825420628018, support: 96177, recall: 0.5108081973860694, fp: 230198\n",
      "contamination: 0.52, AUC : 0.8, precision: 0.4444326352562799, support: 96177, recall: 1.0, fp: 120227\n",
      "contamination: 0.53, AUC : 0.8, precision: 0.43553887049809126, support: 96177, recall: 1.0, fp: 124646\n",
      "contamination: 0.54, AUC : 0.8, precision: 0.4276300871026691, support: 96177, recall: 1.0, fp: 128730\n",
      "contamination: 0.55, AUC : 0.8, precision: 0.4199447217091733, support: 96177, recall: 1.0, fp: 132846\n",
      "contamination: 0.56, AUC : 0.8, precision: 0.4125307220156216, support: 96177, recall: 1.0, fp: 136962\n",
      "contamination: 0.57, AUC : 0.8, precision: 0.4052748901240134, support: 96177, recall: 1.0, fp: 141136\n",
      "contamination: 0.58, AUC : 0.8, precision: 0.3985141232871604, support: 96177, recall: 1.0, fp: 145162\n",
      "contamination: 0.59, AUC : 0.8, precision: 0.39167990226023214, support: 96177, recall: 1.0, fp: 149373\n",
      "contamination: 0.6, AUC : 0.8, precision: 0.38523654453910766, support: 96177, recall: 1.0, fp: 153480\n"
     ]
    },
    {
     "data": {
      "text/plain": [
       "0.6"
      ]
     },
     "execution_count": 22,
     "metadata": {},
     "output_type": "execute_result"
    }
   ],
   "source": [
    "contamination = [round(c_max - 0.1 + 0.01*i, 2) for i in range(11)]\n",
    "c_max = cross_validation(contamination)\n",
    "c_max"
   ]
  },
  {
   "cell_type": "code",
   "execution_count": 25,
   "metadata": {},
   "outputs": [
    {
     "name": "stdout",
     "output_type": "stream",
     "text": [
      "AUC: 57.2%\n",
      "              precision    recall  f1-score   support\n",
      "\n",
      "          -1       0.29      0.51      0.37     96177\n",
      "           1       0.81      0.63      0.71    321146\n",
      "\n",
      "    accuracy                           0.61    417323\n",
      "   macro avg       0.55      0.57      0.54    417323\n",
      "weighted avg       0.69      0.61      0.63    417323\n",
      "\n"
     ]
    },
    {
     "data": {
      "image/png": "[encoded data removed]",
      "text/plain": [
       "<Figure size 432x288 with 2 Axes>"
      ]
     },
     "metadata": {
      "needs_background": "light"
     },
     "output_type": "display_data"
    }
   ],
   "source": [
    "y_pred = IsolationForest(random_state=1, n_jobs=-1, max_samples=0.25, n_estimators=100, contamination=0.51).fit(x_train).predict(x_test)\n",
    "cm_if = confusion_matrix(y_test, y_pred)\n",
    "print(f\"AUC: {roc_auc_score(y_test, y_pred):.1%}\")\n",
    "print(classification_report(y_test, y_pred))\n",
    "plot_confusion_matrix(cm_if, f\"Confusion matrix for If with c = {0.52}\")"
   ]
  },
  {
   "cell_type": "code",
   "execution_count": null,
   "metadata": {},
   "outputs": [],
   "source": []
  }
 ],
 "metadata": {
  "kernelspec": {
   "display_name": "Python 3",
   "language": "python",
   "name": "python3"
  },
  "language_info": {
   "codemirror_mode": {
    "name": "ipython",
    "version": 3
   },
   "file_extension": ".py",
   "mimetype": "text/x-python",
   "name": "python",
   "nbconvert_exporter": "python",
   "pygments_lexer": "ipython3",
   "version": "3.8.5"
  }
 },
 "nbformat": 4,
 "nbformat_minor": 4
}
