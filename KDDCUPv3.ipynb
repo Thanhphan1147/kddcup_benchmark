{
 "cells": [
  {
   "cell_type": "code",
   "execution_count": 2,
   "metadata": {},
   "outputs": [],
   "source": [
    "from imports import *"
   ]
  },
  {
   "cell_type": "markdown",
   "metadata": {},
   "source": [
    "## Load dataset\n",
    "Take all the normal data and some abnormal data"
   ]
  },
  {
   "cell_type": "code",
   "execution_count": 3,
   "metadata": {},
   "outputs": [
    {
     "name": "stdout",
     "output_type": "stream",
     "text": [
      "anomaly rate is 1.0%\n"
     ]
    }
   ],
   "source": [
    "# sf = datasets.fetch_kddcup99(subset='SF', random_state=0, percent10=False)\n",
    "# dfsf = pd.DataFrame(sf.data, columns=sf_columns)\n",
    "df = pd.read_csv('kddcup.data', delimiter=',')\n",
    "df.columns = sa_columns + [\"target\"]\n",
    "\n",
    "df_normal = df[df[\"target\"]== 'normal.']\n",
    "\n",
    "target_anomaly_rate = 0.01\n",
    "df_attacks = df[df[\"target\"]!= 'normal.'].sample(n = int(len(df_normal)*target_anomaly_rate), random_state=1)\n",
    "\n",
    "df = df_normal.append(df_attacks).sample(frac=1, random_state=1)\n",
    "anomaly_rate = 1.0 - len(df.loc[df[\"target\"]=='normal.'])/len(df)\n",
    "print(f\"anomaly rate is {anomaly_rate:.1%}\")\n",
    "\n",
    "df['binary_target'] = [1 if x=='normal.' else -1 for x in df[\"target\"]]\n",
    "toDecode = [\"protocol_type\", \"service\", \"flag\", \"target\"]\n",
    "leSF = preprocessing.LabelEncoder()\n",
    "for f in toDecode:\n",
    "    df[f] = leSF.fit_transform(df[f])\n",
    "\n",
    "x_train, x_test, y_train, y_test = train_test_split(df.drop([\"target\", 'binary_target'], axis=1), df['binary_target'], test_size=0.33, random_state=0)"
   ]
  },
  {
   "cell_type": "code",
   "execution_count": 6,
   "metadata": {},
   "outputs": [],
   "source": [
    "def cross_validation(contamination):\n",
    "    highest_score = 0\n",
    "    highest_score_c = 0\n",
    "    #print(\"array:\", contamination)\n",
    "    for c in contamination:\n",
    "        y_pred = IsolationForest(random_state=1, n_jobs=-1, max_samples=0.25, n_estimators=100, contamination=c).fit(x_train).predict(x_test)\n",
    "        p, r, f, s = map(lambda x: x[0], precision_recall_fscore_support(y_test, y_pred, labels=[-1]))\n",
    "        if p + r > highest_score: highest_score = p + r; highest_score_c = c\n",
    "        fp = s / p - s\n",
    "        print(f\"contamination: {c}, AUC : {roc_auc_score(y_test, y_pred):.1}, precision: {p}, support: {s}, recall: {r}, fp: {int(round(fp, 0))}\")\n",
    "    return highest_score_c"
   ]
  },
  {
   "cell_type": "code",
   "execution_count": 7,
   "metadata": {},
   "outputs": [
    {
     "name": "stdout",
     "output_type": "stream",
     "text": [
      "contamination: 0.01, AUC : 0.7, precision: 0.39313984168865435, support: 3316, recall: 0.3594692400482509, fp: 5119\n",
      "contamination: 0.02, AUC : 0.7, precision: 0.2555521752357773, support: 3316, recall: 0.5066344993968637, fp: 9660\n",
      "contamination: 0.03, AUC : 1e+00, precision: 0.33559356340451374, support: 3316, recall: 1.0, fp: 6565\n",
      "contamination: 0.04, AUC : 1e+00, precision: 0.25011313923668727, support: 3316, recall: 1.0, fp: 9942\n",
      "contamination: 0.05, AUC : 1e+00, precision: 0.20198574648230494, support: 3316, recall: 1.0, fp: 13101\n",
      "contamination: 0.06, AUC : 1e+00, precision: 0.1682907023954527, support: 3316, recall: 1.0, fp: 16388\n",
      "contamination: 0.07, AUC : 1e+00, precision: 0.14389862871029335, support: 3316, recall: 1.0, fp: 19728\n",
      "contamination: 0.08, AUC : 1e+00, precision: 0.12548247937637175, support: 3316, recall: 1.0, fp: 23110\n",
      "contamination: 0.09, AUC : 1e+00, precision: 0.11213309887731639, support: 3316, recall: 1.0, fp: 26256\n",
      "contamination: 0.1, AUC : 1e+00, precision: 0.10078414686037324, support: 3316, recall: 1.0, fp: 29586\n"
     ]
    },
    {
     "data": {
      "text/plain": [
       "0.03"
      ]
     },
     "execution_count": 7,
     "metadata": {},
     "output_type": "execute_result"
    }
   ],
   "source": [
    "contamination = [round(0.01 + 0.01*i, 2) for i in range(10)]\n",
    "c_max = cross_validation(contamination)\n",
    "c_max"
   ]
  },
  {
   "cell_type": "code",
   "execution_count": 8,
   "metadata": {},
   "outputs": [
    {
     "name": "stdout",
     "output_type": "stream",
     "text": [
      "contamination: 0.1, AUC : 1e+00, precision: 0.10078414686037324, support: 3316, recall: 1.0, fp: 29586\n",
      "contamination: 0.2, AUC : 0.9, precision: 0.050439597213349154, support: 3316, recall: 1.0, fp: 62426\n",
      "contamination: 0.3, AUC : 0.9, precision: 0.03368241424493901, support: 3316, recall: 1.0, fp: 95133\n",
      "contamination: 0.4, AUC : 0.8, precision: 0.025382342585079837, support: 3316, recall: 1.0, fp: 127326\n",
      "contamination: 0.5, AUC : 0.8, precision: 0.020343683090080306, support: 3316, recall: 1.0, fp: 159683\n",
      "contamination: 0.6, AUC : 0.7, precision: 0.016984746509317025, support: 3316, recall: 1.0, fp: 191918\n"
     ]
    },
    {
     "data": {
      "text/plain": [
       "0.1"
      ]
     },
     "execution_count": 8,
     "metadata": {},
     "output_type": "execute_result"
    }
   ],
   "source": [
    "contamination = [round(0.1*i, 1) for i in range(1, 7)]\n",
    "c_max = cross_validation(contamination)\n",
    "c_max"
   ]
  },
  {
   "cell_type": "code",
   "execution_count": null,
   "metadata": {},
   "outputs": [],
   "source": [
    "contamination = [round(c_max - 0.1 + 0.01*i, 2) for i in range(11)]\n",
    "c_max = cross_validation(contamination)\n",
    "c_max"
   ]
  },
  {
   "cell_type": "code",
   "execution_count": 10,
   "metadata": {},
   "outputs": [],
   "source": [
    "c_max = 0.03"
   ]
  },
  {
   "cell_type": "code",
   "execution_count": 11,
   "metadata": {},
   "outputs": [
    {
     "name": "stdout",
     "output_type": "stream",
     "text": [
      "contamination: 0.02, AUC : 0.7, precision: 0.2555521752357773, support: 3316, recall: 0.5066344993968637, fp: 9660\n",
      "contamination: 0.021, AUC : 0.7, precision: 0.24245922932602107, support: 3316, recall: 0.5066344993968637, fp: 10361\n",
      "contamination: 0.022, AUC : 0.7, precision: 0.23509655751469352, support: 3316, recall: 0.5066344993968637, fp: 10789\n",
      "contamination: 0.023, AUC : 1e+00, precision: 0.3775905260760647, support: 3316, recall: 1.0, fp: 5466\n",
      "contamination: 0.024, AUC : 1e+00, precision: 0.3775905260760647, support: 3316, recall: 1.0, fp: 5466\n",
      "contamination: 0.025, AUC : 0.7, precision: 0.23509655751469352, support: 3316, recall: 0.5066344993968637, fp: 10789\n",
      "contamination: 0.026, AUC : 0.7, precision: 0.23509655751469352, support: 3316, recall: 0.5066344993968637, fp: 10789\n",
      "contamination: 0.027, AUC : 1e+00, precision: 0.3713741740396461, support: 3316, recall: 1.0, fp: 5613\n",
      "contamination: 0.028, AUC : 1e+00, precision: 0.3584864864864865, support: 3316, recall: 1.0, fp: 5934\n",
      "contamination: 0.029, AUC : 1e+00, precision: 0.347261493350089, support: 3316, recall: 1.0, fp: 6233\n",
      "contamination: 0.03, AUC : 1e+00, precision: 0.33559356340451374, support: 3316, recall: 1.0, fp: 6565\n"
     ]
    },
    {
     "data": {
      "text/plain": [
       "0.023"
      ]
     },
     "execution_count": 11,
     "metadata": {},
     "output_type": "execute_result"
    }
   ],
   "source": [
    "contamination = [round(c_max - 0.01 + 0.001*i, 3) for i in range(11)]\n",
    "c_max = cross_validation(contamination)\n",
    "c_max"
   ]
  },
  {
   "cell_type": "code",
   "execution_count": 12,
   "metadata": {},
   "outputs": [
    {
     "name": "stdout",
     "output_type": "stream",
     "text": [
      "AUC: 99.1%\n",
      "              precision    recall  f1-score   support\n",
      "\n",
      "          -1       0.38      1.00      0.55      3316\n",
      "           1       1.00      0.98      0.99    320912\n",
      "\n",
      "    accuracy                           0.98    324228\n",
      "   macro avg       0.69      0.99      0.77    324228\n",
      "weighted avg       0.99      0.98      0.99    324228\n",
      "\n"
     ]
    },
    {
     "data": {
      "image/png": "[encoded data removed]",
      "text/plain": [
       "<Figure size 432x288 with 2 Axes>"
      ]
     },
     "metadata": {
      "needs_background": "light"
     },
     "output_type": "display_data"
    }
   ],
   "source": [
    "y_pred = IsolationForest(random_state=1, n_jobs=-1, max_samples=0.25, n_estimators=100, contamination=c_max).fit(x_train).predict(x_test)\n",
    "cm_if = confusion_matrix(y_test, y_pred)\n",
    "print(f\"AUC: {roc_auc_score(y_test, y_pred):.1%}\")\n",
    "print(classification_report(y_test, y_pred))\n",
    "plot_confusion_matrix(cm_if, f\"Confusion matrix for If with c = {0.52}\")"
   ]
  },
  {
   "cell_type": "code",
   "execution_count": null,
   "metadata": {},
   "outputs": [],
   "source": []
  }
 ],
 "metadata": {
  "kernelspec": {
   "display_name": "Python 3",
   "language": "python",
   "name": "python3"
  },
  "language_info": {
   "codemirror_mode": {
    "name": "ipython",
    "version": 3
   },
   "file_extension": ".py",
   "mimetype": "text/x-python",
   "name": "python",
   "nbconvert_exporter": "python",
   "pygments_lexer": "ipython3",
   "version": "3.8.5"
  }
 },
 "nbformat": 4,
 "nbformat_minor": 4
}
