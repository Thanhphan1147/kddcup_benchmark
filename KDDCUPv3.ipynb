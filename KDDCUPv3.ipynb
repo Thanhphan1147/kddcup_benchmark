{
 "cells": [
  {
   "cell_type": "code",
   "execution_count": 3,
   "metadata": {},
   "outputs": [],
   "source": [
    "from imports import *"
   ]
  },
  {
   "cell_type": "code",
   "execution_count": 4,
   "metadata": {},
   "outputs": [
    {
     "name": "stdout",
     "output_type": "stream",
     "text": [
      "SA anomaly rate is 3.4%\n"
     ]
    }
   ],
   "source": [
    "model = Model(\"SA\")"
   ]
  },
  {
   "cell_type": "code",
   "execution_count": 5,
   "metadata": {},
   "outputs": [
    {
     "name": "stdout",
     "output_type": "stream",
     "text": [
      "trainning finished in 0:00:05.657159\n",
      "              precision    recall  f1-score   support\n",
      "\n",
      "     anomaly       0.17      1.00      0.29      1142\n",
      "      normal       1.00      0.83      0.91     32075\n",
      "\n",
      "    accuracy                           0.84     33217\n",
      "   macro avg       0.59      0.91      0.60     33217\n",
      "weighted avg       0.97      0.84      0.89     33217\n",
      "\n",
      "AUC:  91.4%\n"
     ]
    },
    {
     "data": {
      "text/plain": [
       "(datetime.timedelta(seconds=5, microseconds=657159),\n",
       " (array([0.17241379]),\n",
       "  array([0.99824869]),\n",
       "  array([0.29404178]),\n",
       "  array([1142])))"
      ]
     },
     "execution_count": 5,
     "metadata": {},
     "output_type": "execute_result"
    },
    {
     "data": {
      "image/png": "[encoded data removed]",
      "text/plain": [
       "<Figure size 432x288 with 2 Axes>"
      ]
     },
     "metadata": {
      "needs_background": "light"
     },
     "output_type": "display_data"
    }
   ],
   "source": [
    "model.fit_predict(\"if\")"
   ]
  },
  {
   "cell_type": "code",
   "execution_count": null,
   "metadata": {},
   "outputs": [],
   "source": [
    "model.fit_predict(\"svm\")"
   ]
  },
  {
   "cell_type": "code",
   "execution_count": null,
   "metadata": {},
   "outputs": [],
   "source": []
  }
 ],
 "metadata": {
  "kernelspec": {
   "display_name": "Python 3",
   "language": "python",
   "name": "python3"
  },
  "language_info": {
   "codemirror_mode": {
    "name": "ipython",
    "version": 3
   },
   "file_extension": ".py",
   "mimetype": "text/x-python",
   "name": "python",
   "nbconvert_exporter": "python",
   "pygments_lexer": "ipython3",
   "version": "3.8.5"
  }
 },
 "nbformat": 4,
 "nbformat_minor": 4
}
