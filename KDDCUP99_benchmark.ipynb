{
 "cells": [
  {
   "cell_type": "markdown",
   "metadata": {
    "id": "L2Im-C6r4rei"
   },
   "source": [
    "# Testing anomaly detection algorithms on KDDCUP99\n",
    "The 1998 DARPA Intrusion Detection Evaluation Program was prepared and managed by MIT Lincoln Labs. The objective was to survey and evaluate research in intrusion detection.  A standard set of data to be audited, which includes a wide variety of intrusions simulated in a military network environment, was provided.  The 1999 KDD intrusion detection contest uses a version of this dataset.\n",
    "\n",
    "We will evaluate the performance of unsupervised learning algorithms such as Isolation Forest, Local Outlier Factor, Support Vector Machines and DBSCAN against this dataset. Mainly in term of accuracy, runtime and memory consumption.\n"
   ]
  },
  {
   "cell_type": "code",
   "execution_count": 1,
   "metadata": {
    "id": "crPdIeDa6LaN"
   },
   "outputs": [],
   "source": [
    "from sklearn import datasets\n",
    "from sklearn import preprocessing\n",
    "from sklearn.model_selection import train_test_split\n",
    "\n",
    "from sklearn.ensemble import IsolationForest\n",
    "from sklearn.neighbors import LocalOutlierFactor\n",
    "from sklearn import svm\n",
    "from sklearn.neighbors import NearestNeighbors\n",
    "from sklearn.neighbors import KNeighborsClassifier\n",
    "from sklearn.cluster import KMeans\n",
    "from sklearn.svm import OneClassSVM\n",
    "from sklearn.cluster import DBSCAN\n",
    "\n",
    "from sklearn import metrics\n",
    "from sklearn.preprocessing import StandardScaler\n",
    "\n",
    "from sklearn.metrics import classification_report\n",
    "from sklearn.metrics import confusion_matrix\n",
    "# from sklearn.metrics import plot_confusion_matrix\n",
    "from sklearn.metrics import recall_score\n",
    "from sklearn.metrics import roc_auc_score\n",
    "from sklearn.model_selection import GridSearchCV\n",
    "from sklearn.metrics import make_scorer\n",
    "from sklearn.metrics import accuracy_score\n",
    "\n",
    "import pandas as pd\n",
    "import numpy as np\n",
    "import itertools\n",
    "import matplotlib.pyplot as plt\n",
    "import datetime\n",
    "\n",
    "%matplotlib inline"
   ]
  },
  {
   "cell_type": "code",
   "execution_count": 2,
   "metadata": {
    "id": "Ddc9zMMo6QM1"
   },
   "outputs": [],
   "source": [
    "def byte_decoder(val):\n",
    "    # decodes byte literals to strings\n",
    "    \n",
    "    return val.decode('utf-8')\n",
    "\n",
    "def plot_confusion_matrix(cm, title, classes=['abnormal', 'normal'],\n",
    "                          cmap=plt.cm.Reds):\n",
    "    \n",
    "    cm = cm.astype('float') / cm.sum(axis=1)[:, np.newaxis]\n",
    "    \n",
    "    plt.imshow(cm, interpolation='nearest', cmap=cmap)\n",
    "    plt.title(title)\n",
    "    plt.colorbar()\n",
    "    tick_marks = np.arange(len(classes))\n",
    "    plt.xticks(tick_marks, classes, rotation=90)\n",
    "    plt.yticks(tick_marks, classes)\n",
    "\n",
    "    fmt = '.1%'\n",
    "    thresh = cm.max() / 2.\n",
    "    for i, j in itertools.product(range(cm.shape[0]), range(cm.shape[1])):\n",
    "        plt.text(j, i, format(cm[i, j], fmt),\n",
    "                 horizontalalignment=\"center\",\n",
    "                 color=\"white\" if cm[i, j] > thresh else \"black\")\n",
    "\n",
    "    plt.tight_layout()\n",
    "    plt.ylabel('True label')\n",
    "    plt.xlabel('Predicted label')\n",
    "\n",
    "def time(expr):\n",
    "    start = datetime.datetime.now()\n",
    "    code = eval(expr)\n",
    "    end = datetime.datetime.now()\n",
    "    return (end-start, code)\n",
    "\n",
    "sa_columns = [\"duration\",\"protocol_type\",\"service\",\"flag\",\"src_bytes\",\"dst_bytes\",\"land\",\"wrong_fragment\",\n",
    "                           \"urgent\",\"hot\",\"num_failed_logins\",\"logged_in\",\"num_compromised\",\"root_shell\",\"su_attempted\",\n",
    "                           \"num_root\",\"num_file_creations\",\"num_shells\",\"num_access_files\",\"num_outbound_cmds\",\"is_host_login\",\n",
    "                           \"is_guest_login\",\"count\",\"srv_count\",\"serror_rate\",\"srv_serror_rate\",\"rerror_rate\",\"srv_rerror_rate\",\n",
    "                           \"same_srv_rate\",\"diff_srv_rate\",\"srv_diff_host_rate\",\"dst_host_count\",\"dst_host_srv_count\",\n",
    "                           \"dst_host_same_srv_rate\",\"dst_host_diff_srv_rate\",\"dst_host_same_src_port_rate\",\n",
    "                           \"dst_host_srv_diff_host_rate\",\"dst_host_serror_rate\",\"dst_host_srv_serror_rate\",\n",
    "                           \"dst_host_rerror_rate\",\"dst_host_srv_rerror_rate\"]\n",
    "sf_columns = [\"duration\", \"service\", \"src_bytes\", \"dst_bytes\"]"
   ]
  },
  {
   "cell_type": "markdown",
   "metadata": {
    "id": "NmYea_vX5yQv"
   },
   "source": [
    "# KDDCUP99 SF data set\n",
    "`SF` is the a subset of the main dataset where the attribute logged_in is positive, thus focusing on the intrusion attack, which gives an anomaly ratio 0.3%. SF has log-transformed 4 attributes."
   ]
  },
  {
   "cell_type": "code",
   "execution_count": 3,
   "metadata": {
    "colab": {
     "base_uri": "https://localhost:8080/",
     "height": 37
    },
    "id": "RPmbKq_E5s3C",
    "outputId": "737352f6-8d55-4436-d8e1-11f14c226e19"
   },
   "outputs": [
    {
     "data": {
      "text/plain": [
       "'SF anomaly rate is 0.5%'"
      ]
     },
     "execution_count": 3,
     "metadata": {},
     "output_type": "execute_result"
    }
   ],
   "source": [
    "sf = datasets.fetch_kddcup99(subset='SF', percent10=False, random_state=0)\n",
    "dfsf = pd.DataFrame(sf.data, columns=sf_columns)\n",
    "dfsf[\"target\"]=sf.target\n",
    "anomaly_rate_sf = 1.0 - len(dfsf.loc[dfsf[\"target\"]==b'normal.'])/len(dfsf)\n",
    "f\"SF anomaly rate is {anomaly_rate_sf:.1%}\""
   ]
  },
  {
   "cell_type": "markdown",
   "metadata": {
    "id": "pqBGJwRa765W"
   },
   "source": [
    "\n",
    "## Data preprocessing for SF\n",
    "The preprocessing step consists of :\n",
    "* Encode categorical attributes to numerical using a Label encoder\n",
    "* Strip the data of its label for unsupervised learning\n",
    "* Normalize the numerical attributes"
   ]
  },
  {
   "cell_type": "code",
   "execution_count": 4,
   "metadata": {
    "id": "pBxTDDLM7_jK"
   },
   "outputs": [],
   "source": [
    "dfsf['binary_target'] = [1 if x==b'normal.' else -1 for x in dfsf[\"target\"]]\n",
    "toDecodeSF = [\"service\", \"target\"]    \n",
    "leSF = preprocessing.LabelEncoder()\n",
    "for f in toDecodeSF:\n",
    "    dfsf[f] = list(map(byte_decoder, dfsf[f]))\n",
    "    dfsf[f] = leSF.fit_transform(dfsf[f])\n",
    "\n",
    "dfsf_normed = preprocessing.normalize(dfsf.drop([\"target\", 'binary_target'], axis=1))"
   ]
  },
  {
   "cell_type": "markdown",
   "metadata": {
    "id": "pP8Io04P8P36"
   },
   "source": [
    "## Initializing algorithms"
   ]
  },
  {
   "cell_type": "code",
   "execution_count": 5,
   "metadata": {
    "id": "TsvESVdl8K9b"
   },
   "outputs": [],
   "source": [
    "num_extimators = 100\n",
    "max_samples = 0.2\n",
    "contamination = 0.15\n",
    "eps = 0.25\n",
    "\n",
    "ifsf = IsolationForest(max_samples=0.25, random_state=1, contamination = contamination, n_estimators=100, n_jobs=-1)\n",
    "lofsf = LocalOutlierFactor(n_neighbors=15, metric='euclidean', algorithm = 'auto', contamination=0.05, n_jobs=-1)\n",
    "ocsvm = OneClassSVM(nu=contamination, kernel=\"rbf\",gamma=0.1)\n",
    "dbscan = DBSCAN(eps=eps, min_samples=10, metric='euclidean', algorithm = 'auto', n_jobs=-1)"
   ]
  },
  {
   "cell_type": "code",
   "execution_count": 6,
   "metadata": {
    "id": "46caSjgx8LSg"
   },
   "outputs": [],
   "source": [
    "X_sf = dfsf.drop([\"target\", 'binary_target'], axis=1)\n",
    "y_sf = dfsf[\"binary_target\"]"
   ]
  },
  {
   "cell_type": "code",
   "execution_count": 7,
   "metadata": {
    "colab": {
     "base_uri": "https://localhost:8080/"
    },
    "id": "WAzfkuPK8tnH",
    "outputId": "3144a520-8a79-4749-de1a-a73f3c7ba37f"
   },
   "outputs": [
    {
     "name": "stderr",
     "output_type": "stream",
     "text": [
      "/home/ubuntu/anaconda3/lib/python3.7/site-packages/sklearn/ensemble/iforest.py:223: FutureWarning: behaviour=\"old\" is deprecated and will be removed in version 0.22. Please use behaviour=\"new\", which makes the decision_function change to match other anomaly detection algorithm API.\n",
      "  FutureWarning)\n",
      "/home/ubuntu/anaconda3/lib/python3.7/site-packages/sklearn/ensemble/iforest.py:417: DeprecationWarning: threshold_ attribute is deprecated in 0.20 and will be removed in 0.22.\n",
      "  \" be removed in 0.22.\", DeprecationWarning)\n"
     ]
    },
    {
     "name": "stdout",
     "output_type": "stream",
     "text": [
      "Trainning If finished in 0:01:25.845672\n"
     ]
    }
   ],
   "source": [
    "fit_time_if_sf, Y_pred_sf_if  = time(expr = \"ifsf.fit_predict(X_sf)\")\n",
    "print(f\"Trainning If finished in {fit_time_if_sf}\")\n",
    "cm_sf_if = confusion_matrix(y_sf, Y_pred_sf_if)"
   ]
  },
  {
   "cell_type": "code",
   "execution_count": 8,
   "metadata": {
    "colab": {
     "base_uri": "https://localhost:8080/"
    },
    "id": "xwW3hj5y8x_y",
    "outputId": "fec5ab65-4768-459a-d410-295c7e307f78"
   },
   "outputs": [
    {
     "name": "stdout",
     "output_type": "stream",
     "text": [
      "Trainning lof finished in 0:05:52.508292\n"
     ]
    }
   ],
   "source": [
    "fit_time_lof_sf, Y_pred_sf_lof  = time(expr = \"lofsf.fit_predict(X_sf)\")\n",
    "print(f\"Trainning lof finished in {fit_time_lof_sf}\")\n",
    "cm_sf_lof = confusion_matrix(y_sf, Y_pred_sf_lof)"
   ]
  },
  {
   "cell_type": "code",
   "execution_count": null,
   "metadata": {
    "colab": {
     "base_uri": "https://localhost:8080/"
    },
    "id": "jJUEUDIS80iG",
    "outputId": "08f48464-ce37-4662-91d6-f1fea5438466"
   },
   "outputs": [],
   "source": [
    "fit_time_svm_sf, Y_pred_sf_svm  = time(expr = \"ocsvm.fit_predict(X_sf)\")\n",
    "print(f\"Trainning svm finished in {fit_time_svm_sf}\")\n",
    "cm_sf_svm = confusion_matrix(y_sf, Y_pred_sf_svm)"
   ]
  },
  {
   "cell_type": "code",
   "execution_count": null,
   "metadata": {
    "colab": {
     "base_uri": "https://localhost:8080/"
    },
    "id": "JJPE7Q6p85YA",
    "outputId": "48c80c74-f7b4-4c27-eccb-ea4f1e7806ce"
   },
   "outputs": [],
   "source": [
    "fit_time_dbscan_sf, db  = time(expr = \"dbscan.fit(X_sf)\")\n",
    "print(f\"Trainning dbscan finished in {fit_time_dbscan_sf}\")\n",
    "labels = db.labels_\n",
    "y_pred_sf_dbscan = [1 if i != -1 else i for i in labels]\n",
    "cm_sf_dbscan = confusion_matrix(y_sf, y_pred_sf_dbscan)"
   ]
  },
  {
   "cell_type": "code",
   "execution_count": 9,
   "metadata": {
    "colab": {
     "base_uri": "https://localhost:8080/",
     "height": 481
    },
    "id": "Sns5KQXN9qcH",
    "outputId": "81c2c360-23f5-423e-9a83-20784ac0daa7"
   },
   "outputs": [
    {
     "name": "stdout",
     "output_type": "stream",
     "text": [
      "              precision    recall  f1-score   support\n",
      "\n",
      "     anomaly       0.03      1.00      0.06      3377\n",
      "      normal       1.00      0.85      0.92    699690\n",
      "\n",
      "   micro avg       0.85      0.85      0.85    703067\n",
      "   macro avg       0.52      0.93      0.49    703067\n",
      "weighted avg       1.00      0.85      0.92    703067\n",
      "\n",
      "AUC:  92.7%\n"
     ]
    },
    {
     "data": {
      "image/png": "[encoded data removed]",
      "text/plain": [
       "<Figure size 432x288 with 2 Axes>"
      ]
     },
     "metadata": {
      "needs_background": "light"
     },
     "output_type": "display_data"
    }
   ],
   "source": [
    "print(classification_report(y_sf, Y_pred_sf_if, target_names=['anomaly', 'normal']))\n",
    "print (\"AUC: \", \"{:.1%}\".format(roc_auc_score(y_sf, Y_pred_sf_if)))\n",
    "plot_confusion_matrix(cm_sf_if, \"Confusion Matrix for IF on SF dataset\")"
   ]
  },
  {
   "cell_type": "code",
   "execution_count": 10,
   "metadata": {
    "colab": {
     "base_uri": "https://localhost:8080/",
     "height": 481
    },
    "id": "xyEeUwUk9uQZ",
    "outputId": "b5182f1f-14e7-4725-b965-a4d93425bf23"
   },
   "outputs": [
    {
     "name": "stdout",
     "output_type": "stream",
     "text": [
      "              precision    recall  f1-score   support\n",
      "\n",
      "     anomaly       0.00      0.01      0.00      3377\n",
      "      normal       0.99      0.95      0.97    699690\n",
      "\n",
      "   micro avg       0.95      0.95      0.95    703067\n",
      "   macro avg       0.50      0.48      0.49    703067\n",
      "weighted avg       0.99      0.95      0.97    703067\n",
      "\n",
      "AUC:  47.8%\n"
     ]
    },
    {
     "data": {
      "image/png": "[encoded data removed]",
      "text/plain": [
       "<Figure size 432x288 with 2 Axes>"
      ]
     },
     "metadata": {
      "needs_background": "light"
     },
     "output_type": "display_data"
    }
   ],
   "source": [
    "print(classification_report(y_sf, Y_pred_sf_lof, target_names=['anomaly', 'normal']))\n",
    "print (\"AUC: \", \"{:.1%}\".format(roc_auc_score(y_sf, Y_pred_sf_lof)))\n",
    "plot_confusion_matrix(cm_sf_lof, \"Confusion Matrix for LoF on SF dataset\")"
   ]
  },
  {
   "cell_type": "code",
   "execution_count": null,
   "metadata": {
    "colab": {
     "base_uri": "https://localhost:8080/",
     "height": 481
    },
    "id": "CKH83m8x9xrm",
    "outputId": "8e33d73b-9bc0-4e74-8959-a5b034e73e91"
   },
   "outputs": [],
   "source": [
    "print(classification_report(y_sf, Y_pred_sf_svm, target_names=['anomaly', 'normal']))\n",
    "print (\"AUC: \", \"{:.1%}\".format(roc_auc_score(y_sf, Y_pred_sf_svm)))\n",
    "plot_confusion_matrix(cm_sf_svm, \"Confusion Matrix for SVM on SF dataset\")"
   ]
  },
  {
   "cell_type": "code",
   "execution_count": null,
   "metadata": {
    "colab": {
     "base_uri": "https://localhost:8080/",
     "height": 481
    },
    "id": "3CPJjJq9_5H2",
    "outputId": "2483ad83-648e-495c-fda2-904ad03ff176"
   },
   "outputs": [],
   "source": [
    "print(classification_report(y_sf, y_pred_sf_dbscan, target_names=['anomaly', 'normal']))\n",
    "print (\"AUC: \", \"{:.1%}\".format(roc_auc_score(y_sf, y_pred_sf_dbscan)))\n",
    "plot_confusion_matrix(cm_sf_dbscan, \"Confusion Matrix for DBSCAN on SF dataset\")"
   ]
  },
  {
   "cell_type": "markdown",
   "metadata": {
    "id": "6BoRVsYE-26K"
   },
   "source": [
    "## Evaluating the algorithms on classifying new data\n",
    "Frequently we have to classify whether a not a banking transaction or a network traffic is an anomaly in realtime. To evaluate this capabilities, we'll split the dataset into a train and a test set. Our algorithms will train on the train set and then classify the test set"
   ]
  },
  {
   "cell_type": "code",
   "execution_count": null,
   "metadata": {
    "id": "M49KWL7w7yvm"
   },
   "outputs": [],
   "source": [
    "X_train_sf, X_test_sf, y_train_sf, y_test_sf = train_test_split(dfsf.drop([\"target\", 'binary_target'], axis=1), dfsf['binary_target'], test_size=0.33, random_state=0)\n",
    "X_train_nd, X_test_nd, y_train_nd, y_test_nd = train_test_split(dfsf_normed, dfsf['binary_target'], test_size=0.33, random_state=0)"
   ]
  },
  {
   "cell_type": "markdown",
   "metadata": {
    "id": "8jwDj4gBNwvX"
   },
   "source": [
    "### SF train set"
   ]
  },
  {
   "cell_type": "code",
   "execution_count": null,
   "metadata": {
    "colab": {
     "base_uri": "https://localhost:8080/"
    },
    "id": "osYvY1jBLhyC",
    "outputId": "7e9e1d0f-9174-4575-b46b-931b83b04998"
   },
   "outputs": [
    {
     "name": "stderr",
     "output_type": "stream",
     "text": [
      "/home/ubuntu/anaconda3/lib/python3.7/site-packages/sklearn/ensemble/iforest.py:223: FutureWarning: behaviour=\"old\" is deprecated and will be removed in version 0.22. Please use behaviour=\"new\", which makes the decision_function change to match other anomaly detection algorithm API.\n",
      "  FutureWarning)\n",
      "/home/ubuntu/anaconda3/lib/python3.7/site-packages/sklearn/ensemble/iforest.py:417: DeprecationWarning: threshold_ attribute is deprecated in 0.20 and will be removed in 0.22.\n",
      "  \" be removed in 0.22.\", DeprecationWarning)\n"
     ]
    },
    {
     "name": "stdout",
     "output_type": "stream",
     "text": [
      "trainning finished in : 0:00:56.903824 : {1, -1}\n"
     ]
    }
   ],
   "source": [
    "start = datetime.datetime.now()\n",
    "y_pred_train_if_sf = ifsf.fit_predict(X_train_sf)\n",
    "end = datetime.datetime.now()\n",
    "print(f\"trainning finished in : {end-start} : {set(y_pred_train_if_sf)}\")\n",
    "cm_train_if_sf = confusion_matrix(y_train_sf, y_pred_train_if_sf)"
   ]
  },
  {
   "cell_type": "code",
   "execution_count": null,
   "metadata": {
    "colab": {
     "base_uri": "https://localhost:8080/"
    },
    "id": "epb1oSv9NmGr",
    "outputId": "89f9aa0d-02fe-4341-907f-3c5f8a302b0a"
   },
   "outputs": [
    {
     "name": "stdout",
     "output_type": "stream",
     "text": [
      "trainning finished in : 0:03:05.919662 : {1, -1}\n"
     ]
    }
   ],
   "source": [
    "start = datetime.datetime.now()\n",
    "y_pred_train_lof_sf = lofsf.fit_predict(X_train_sf)\n",
    "end = datetime.datetime.now()\n",
    "print(f\"trainning finished in : {end-start} : {set(y_pred_train_lof_sf)}\")\n",
    "cm_train_lof_sf = confusion_matrix(y_train_sf, y_pred_train_lof_sf)"
   ]
  },
  {
   "cell_type": "code",
   "execution_count": null,
   "metadata": {
    "colab": {
     "base_uri": "https://localhost:8080/"
    },
    "id": "DoWb2Oe5NoCX",
    "outputId": "171e4040-f58a-410e-e624-6f5da05b00fa"
   },
   "outputs": [],
   "source": [
    "start = datetime.datetime.now()\n",
    "y_pred_train_svm_sf = ocsvm.fit(X_train_sf).predict(X_train_sf)\n",
    "end = datetime.datetime.now()\n",
    "print(f\"trainning finished in : {end-start} : {set(y_pred_train_svm_sf)}\")\n",
    "cm_train_svm_sf = confusion_matrix(y_train_sf, y_pred_train_svm_sf)"
   ]
  },
  {
   "cell_type": "code",
   "execution_count": null,
   "metadata": {
    "colab": {
     "base_uri": "https://localhost:8080/"
    },
    "id": "C19rGbsMNp5v",
    "outputId": "d964e85c-5d7b-4e64-f644-0a65b62d6255"
   },
   "outputs": [],
   "source": [
    "start = datetime.datetime.now()\n",
    "db = dbscan.fit(X_train_sf)\n",
    "y_pred_train_dbscan_sf = [1 if i != -1 else i for i in db.labels_]\n",
    "end = datetime.datetime.now()\n",
    "print(f\"trainning finished in : {end-start} : {set(y_pred_train_dbscan_sf)}\")\n",
    "cm_train_dbscan_sf = confusion_matrix(y_train_sf, y_pred_train_dbscan_sf)"
   ]
  },
  {
   "cell_type": "code",
   "execution_count": null,
   "metadata": {
    "colab": {
     "base_uri": "https://localhost:8080/",
     "height": 481
    },
    "id": "ByTVLYK5Lm5_",
    "outputId": "e8641255-d151-4e1b-b004-bb6e0f7baf86"
   },
   "outputs": [
    {
     "name": "stdout",
     "output_type": "stream",
     "text": [
      "              precision    recall  f1-score   support\n",
      "\n",
      "     anomaly       0.03      1.00      0.06      2276\n",
      "      normal       1.00      0.85      0.92    468778\n",
      "\n",
      "   micro avg       0.85      0.85      0.85    471054\n",
      "   macro avg       0.52      0.93      0.49    471054\n",
      "weighted avg       1.00      0.85      0.92    471054\n",
      "\n",
      "AUC:  92.7%\n"
     ]
    },
    {
     "data": {
      "image/png": "[encoded data removed]",
      "text/plain": [
       "<Figure size 432x288 with 2 Axes>"
      ]
     },
     "metadata": {
      "needs_background": "light"
     },
     "output_type": "display_data"
    }
   ],
   "source": [
    "print(classification_report(y_train_sf, y_pred_train_if_sf, target_names=['anomaly', 'normal']))\n",
    "print (\"AUC: \", \"{:.1%}\".format(roc_auc_score(y_train_sf, y_pred_train_if_sf)))\n",
    "plot_confusion_matrix(cm_train_if_sf, \"Confusion Matrix for If on SF train dataset\")"
   ]
  },
  {
   "cell_type": "code",
   "execution_count": null,
   "metadata": {
    "colab": {
     "base_uri": "https://localhost:8080/",
     "height": 481
    },
    "id": "9-EBePS9LqyO",
    "outputId": "6f784a6c-35fc-425a-9122-7ce11c058019"
   },
   "outputs": [
    {
     "name": "stdout",
     "output_type": "stream",
     "text": [
      "              precision    recall  f1-score   support\n",
      "\n",
      "     anomaly       0.00      0.02      0.00      2276\n",
      "      normal       1.00      0.95      0.97    468778\n",
      "\n",
      "   micro avg       0.95      0.95      0.95    471054\n",
      "   macro avg       0.50      0.49      0.49    471054\n",
      "weighted avg       0.99      0.95      0.97    471054\n",
      "\n",
      "AUC:  48.5%\n"
     ]
    },
    {
     "data": {
      "image/png": "[encoded data removed]",
      "text/plain": [
       "<Figure size 432x288 with 2 Axes>"
      ]
     },
     "metadata": {
      "needs_background": "light"
     },
     "output_type": "display_data"
    }
   ],
   "source": [
    "print(classification_report(y_train_sf, y_pred_train_lof_sf, target_names=['anomaly', 'normal']))\n",
    "print (\"AUC: \", \"{:.1%}\".format(roc_auc_score(y_train_sf, y_pred_train_lof_sf)))\n",
    "plot_confusion_matrix(cm_train_lof_sf, \"Confusion Matrix for Lof on SF train dataset\")"
   ]
  },
  {
   "cell_type": "code",
   "execution_count": null,
   "metadata": {
    "colab": {
     "base_uri": "https://localhost:8080/",
     "height": 481
    },
    "id": "2914G-VCNMAR",
    "outputId": "76df31fa-e6f7-4960-8057-4d6d84666a5c"
   },
   "outputs": [],
   "source": [
    "print(classification_report(y_train_sf, y_pred_train_svm_sf, target_names=['anomaly', 'normal']))\n",
    "print (\"AUC: \", \"{:.1%}\".format(roc_auc_score(y_train_sf, y_pred_train_svm_sf)))\n",
    "plot_confusion_matrix(cm_train_svm_sf, \"Confusion Matrix for svm on SF train dataset\")"
   ]
  },
  {
   "cell_type": "code",
   "execution_count": null,
   "metadata": {
    "colab": {
     "base_uri": "https://localhost:8080/",
     "height": 481
    },
    "id": "xlEcu7zkOdgV",
    "outputId": "2a38b036-d16f-4089-e0a8-7fb9c1a5b307"
   },
   "outputs": [],
   "source": [
    "print(classification_report(y_train_sf, y_pred_train_dbscan_sf, target_names=['anomaly', 'normal']))\n",
    "print (\"AUC: \", \"{:.1%}\".format(roc_auc_score(y_train_sf, y_pred_train_dbscan_sf)))\n",
    "plot_confusion_matrix(cm_train_dbscan_sf, \"Confusion Matrix for dbscan on SF train dataset\")"
   ]
  },
  {
   "cell_type": "markdown",
   "metadata": {
    "id": "RiYhnxeiN3KY"
   },
   "source": [
    "### SF test set\n"
   ]
  },
  {
   "cell_type": "code",
   "execution_count": null,
   "metadata": {
    "colab": {
     "base_uri": "https://localhost:8080/",
     "height": 481
    },
    "id": "GK8cibapLWvV",
    "outputId": "cac4c5e6-69d9-4ec4-afa3-d0ddca36286f"
   },
   "outputs": [
    {
     "name": "stderr",
     "output_type": "stream",
     "text": [
      "/home/ubuntu/anaconda3/lib/python3.7/site-packages/sklearn/ensemble/iforest.py:417: DeprecationWarning: threshold_ attribute is deprecated in 0.20 and will be removed in 0.22.\n",
      "  \" be removed in 0.22.\", DeprecationWarning)\n"
     ]
    },
    {
     "name": "stdout",
     "output_type": "stream",
     "text": [
      "              precision    recall  f1-score   support\n",
      "\n",
      "     anomaly       0.03      1.00      0.06      1101\n",
      "      normal       1.00      0.85      0.92    230912\n",
      "\n",
      "   micro avg       0.85      0.85      0.85    232013\n",
      "   macro avg       0.52      0.93      0.49    232013\n",
      "weighted avg       1.00      0.85      0.92    232013\n",
      "\n",
      "AUC:  92.7%\n"
     ]
    },
    {
     "data": {
      "image/png": "[encoded data removed]",
      "text/plain": [
       "<Figure size 432x288 with 2 Axes>"
      ]
     },
     "metadata": {
      "needs_background": "light"
     },
     "output_type": "display_data"
    }
   ],
   "source": [
    "y_pred_test_sf_if = ifsf.predict(X_test_sf)\n",
    "print(classification_report(y_test_sf, y_pred_test_sf_if, target_names=['anomaly', 'normal']))\n",
    "print (\"AUC: \", \"{:.1%}\".format(roc_auc_score(y_test_sf, y_pred_test_sf_if)))\n",
    "cm_test_if_sf = confusion_matrix(y_test_sf, y_pred_test_sf_if)\n",
    "plot_confusion_matrix(cm_test_if_sf, \"Confusion Matrix for if on SF test dataset\")"
   ]
  },
  {
   "cell_type": "code",
   "execution_count": null,
   "metadata": {
    "colab": {
     "base_uri": "https://localhost:8080/",
     "height": 481
    },
    "id": "W5tCp8TEPsC6",
    "outputId": "bc5ff2a7-47a6-4193-dc0c-227c24915d75"
   },
   "outputs": [],
   "source": [
    "X_clean_sf = X_train_sf.drop([index for i,index in enumerate(y_pred_train_lof_sf) if i==-1])\n",
    "n_lof = LocalOutlierFactor(n_neighbors=15, metric='euclidean', algorithm = 'auto', contamination=contamination, novelty=True, n_jobs=-1)\n",
    "n_lof.fit(X_clean_sf)\n",
    "\n",
    "y_pred_test_sf_lof = n_lof.fit(X_clean_sf).predict(X_test_sf)\n",
    "print(classification_report(y_test_sf, y_pred_test_sf_lof, target_names=['anomaly', 'normal']))\n",
    "print (\"AUC: \", \"{:.1%}\".format(roc_auc_score(y_test_sf, y_pred_test_sf_lof)))\n",
    "cm_test_lof_sf = confusion_matrix(y_test_sf, y_pred_test_sf_lof)\n",
    "plot_confusion_matrix(cm_test_lof_sf, \"Confusion Matrix for lof on SF test dataset\")"
   ]
  },
  {
   "cell_type": "code",
   "execution_count": null,
   "metadata": {
    "colab": {
     "base_uri": "https://localhost:8080/",
     "height": 481
    },
    "id": "dQdkB9shPvuT",
    "outputId": "0599746e-997e-4e22-baa5-a0251eb44928"
   },
   "outputs": [],
   "source": [
    "y_pred_test_sf_svm = ocsvm.predict(X_test_sf)\n",
    "print(classification_report(y_test_sf, y_pred_test_sf_svm, target_names=['anomaly', 'normal']))\n",
    "print (\"AUC: \", \"{:.1%}\".format(roc_auc_score(y_test_sf, y_pred_test_sf_svm)))\n",
    "cm_test_svm_sf = confusion_matrix(y_test_sf, y_pred_test_sf_svm)\n",
    "plot_confusion_matrix(cm_test_svm_sf, \"Confusion Matrix for svm on SF test dataset\")"
   ]
  },
  {
   "cell_type": "code",
   "execution_count": null,
   "metadata": {
    "colab": {
     "base_uri": "https://localhost:8080/",
     "height": 481
    },
    "id": "IEMof8ysPw-0",
    "outputId": "34bb99f2-75a2-4315-9b8e-61829d80f648"
   },
   "outputs": [],
   "source": [
    "db = dbscan.fit_predict(X_test_sf)\n",
    "y_pred_test_sf_db = [1 if i != -1 else i for i in db]\n",
    "print(classification_report(y_test_sf, y_pred_test_sf_db, target_names=['anomaly', 'normal']))\n",
    "print (\"AUC: \", \"{:.1%}\".format(roc_auc_score(y_test_sf, y_pred_test_sf_db)))\n",
    "cm_test_dbscan_sf = confusion_matrix(y_test_sf, y_pred_test_sf_db)\n",
    "plot_confusion_matrix(cm_test_dbscan_sf, \"Confusion Matrix for dbscan on SF test dataset\")"
   ]
  },
  {
   "cell_type": "markdown",
   "metadata": {
    "id": "0TOVBvDxzbK9"
   },
   "source": [
    "# KDDCUP SA dataset\n",
    "\n",
    "`SA` is obtained by simply selecting all the normal data, and a small proportion of abnormal data to give an anomaly ratio of 1%. SA has all 41 attributes.\n",
    "\n",
    "Similar to the `SF` dataset, unlabelled data are fed to the anomaly detection algorithms. The results are then compared with the original label to mesure performance.\n",
    "\n",
    "\n"
   ]
  },
  {
   "cell_type": "code",
   "execution_count": 4,
   "metadata": {
    "colab": {
     "base_uri": "https://localhost:8080/",
     "height": 37
    },
    "id": "is3a4iqaLOvg",
    "outputId": "38133c06-ce20-4416-c00d-828ae6260f86"
   },
   "outputs": [
    {
     "ename": "EOFError",
     "evalue": "Ran out of input",
     "output_type": "error",
     "traceback": [
      "\u001b[0;31m---------------------------------------------------------------------------\u001b[0m",
      "\u001b[0;31mUnboundLocalError\u001b[0m                         Traceback (most recent call last)",
      "\u001b[0;32m~/anaconda3/lib/python3.8/site-packages/sklearn/datasets/_kddcup99.py\u001b[0m in \u001b[0;36m_fetch_brute_kddcup99\u001b[0;34m(data_home, download_if_missing, percent10)\u001b[0m\n\u001b[1;32m    301\u001b[0m     \u001b[0;32mtry\u001b[0m\u001b[0;34m:\u001b[0m\u001b[0;34m\u001b[0m\u001b[0;34m\u001b[0m\u001b[0m\n\u001b[0;32m--> 302\u001b[0;31m         \u001b[0mX\u001b[0m\u001b[0;34m,\u001b[0m \u001b[0my\u001b[0m\u001b[0;34m\u001b[0m\u001b[0;34m\u001b[0m\u001b[0m\n\u001b[0m\u001b[1;32m    303\u001b[0m     \u001b[0;32mexcept\u001b[0m \u001b[0mNameError\u001b[0m\u001b[0;34m:\u001b[0m\u001b[0;34m\u001b[0m\u001b[0;34m\u001b[0m\u001b[0m\n",
      "\u001b[0;31mUnboundLocalError\u001b[0m: local variable 'X' referenced before assignment",
      "\nDuring handling of the above exception, another exception occurred:\n",
      "\u001b[0;31mEOFError\u001b[0m                                  Traceback (most recent call last)",
      "\u001b[0;32m<ipython-input-4-727b6f6e87c1>\u001b[0m in \u001b[0;36m<module>\u001b[0;34m\u001b[0m\n\u001b[0;32m----> 1\u001b[0;31m \u001b[0msa\u001b[0m \u001b[0;34m=\u001b[0m \u001b[0mdatasets\u001b[0m\u001b[0;34m.\u001b[0m\u001b[0mfetch_kddcup99\u001b[0m\u001b[0;34m(\u001b[0m\u001b[0msubset\u001b[0m\u001b[0;34m=\u001b[0m\u001b[0;34m'SA'\u001b[0m\u001b[0;34m,\u001b[0m \u001b[0mpercent10\u001b[0m\u001b[0;34m=\u001b[0m\u001b[0;32mFalse\u001b[0m\u001b[0;34m)\u001b[0m\u001b[0;34m\u001b[0m\u001b[0;34m\u001b[0m\u001b[0m\n\u001b[0m\u001b[1;32m      2\u001b[0m dfsa=pd.DataFrame(sa.data, \n\u001b[1;32m      3\u001b[0m                   columns=sa_columns)\n\u001b[1;32m      4\u001b[0m \u001b[0;32massert\u001b[0m \u001b[0mlen\u001b[0m\u001b[0;34m(\u001b[0m\u001b[0mdfsa\u001b[0m\u001b[0;34m)\u001b[0m\u001b[0;34m>\u001b[0m\u001b[0;36m0\u001b[0m\u001b[0;34m,\u001b[0m \u001b[0;34m\"SA dataset not loaded.\"\u001b[0m\u001b[0;34m\u001b[0m\u001b[0;34m\u001b[0m\u001b[0m\n\u001b[1;32m      5\u001b[0m \u001b[0mdfsa\u001b[0m\u001b[0;34m[\u001b[0m\u001b[0;34m\"target\"\u001b[0m\u001b[0;34m]\u001b[0m\u001b[0;34m=\u001b[0m\u001b[0msa\u001b[0m\u001b[0;34m.\u001b[0m\u001b[0mtarget\u001b[0m\u001b[0;34m\u001b[0m\u001b[0;34m\u001b[0m\u001b[0m\n",
      "\u001b[0;32m~/anaconda3/lib/python3.8/site-packages/sklearn/utils/validation.py\u001b[0m in \u001b[0;36minner_f\u001b[0;34m(*args, **kwargs)\u001b[0m\n\u001b[1;32m     70\u001b[0m                           FutureWarning)\n\u001b[1;32m     71\u001b[0m         \u001b[0mkwargs\u001b[0m\u001b[0;34m.\u001b[0m\u001b[0mupdate\u001b[0m\u001b[0;34m(\u001b[0m\u001b[0;34m{\u001b[0m\u001b[0mk\u001b[0m\u001b[0;34m:\u001b[0m \u001b[0marg\u001b[0m \u001b[0;32mfor\u001b[0m \u001b[0mk\u001b[0m\u001b[0;34m,\u001b[0m \u001b[0marg\u001b[0m \u001b[0;32min\u001b[0m \u001b[0mzip\u001b[0m\u001b[0;34m(\u001b[0m\u001b[0msig\u001b[0m\u001b[0;34m.\u001b[0m\u001b[0mparameters\u001b[0m\u001b[0;34m,\u001b[0m \u001b[0margs\u001b[0m\u001b[0;34m)\u001b[0m\u001b[0;34m}\u001b[0m\u001b[0;34m)\u001b[0m\u001b[0;34m\u001b[0m\u001b[0;34m\u001b[0m\u001b[0m\n\u001b[0;32m---> 72\u001b[0;31m         \u001b[0;32mreturn\u001b[0m \u001b[0mf\u001b[0m\u001b[0;34m(\u001b[0m\u001b[0;34m**\u001b[0m\u001b[0mkwargs\u001b[0m\u001b[0;34m)\u001b[0m\u001b[0;34m\u001b[0m\u001b[0;34m\u001b[0m\u001b[0m\n\u001b[0m\u001b[1;32m     73\u001b[0m     \u001b[0;32mreturn\u001b[0m \u001b[0minner_f\u001b[0m\u001b[0;34m\u001b[0m\u001b[0;34m\u001b[0m\u001b[0m\n\u001b[1;32m     74\u001b[0m \u001b[0;34m\u001b[0m\u001b[0m\n",
      "\u001b[0;32m~/anaconda3/lib/python3.8/site-packages/sklearn/datasets/_kddcup99.py\u001b[0m in \u001b[0;36mfetch_kddcup99\u001b[0;34m(subset, data_home, shuffle, random_state, percent10, download_if_missing, return_X_y)\u001b[0m\n\u001b[1;32m    115\u001b[0m     \"\"\"\n\u001b[1;32m    116\u001b[0m     \u001b[0mdata_home\u001b[0m \u001b[0;34m=\u001b[0m \u001b[0mget_data_home\u001b[0m\u001b[0;34m(\u001b[0m\u001b[0mdata_home\u001b[0m\u001b[0;34m=\u001b[0m\u001b[0mdata_home\u001b[0m\u001b[0;34m)\u001b[0m\u001b[0;34m\u001b[0m\u001b[0;34m\u001b[0m\u001b[0m\n\u001b[0;32m--> 117\u001b[0;31m     kddcup99 = _fetch_brute_kddcup99(data_home=data_home,\n\u001b[0m\u001b[1;32m    118\u001b[0m                                      \u001b[0mpercent10\u001b[0m\u001b[0;34m=\u001b[0m\u001b[0mpercent10\u001b[0m\u001b[0;34m,\u001b[0m\u001b[0;34m\u001b[0m\u001b[0;34m\u001b[0m\u001b[0m\n\u001b[1;32m    119\u001b[0m                                      download_if_missing=download_if_missing)\n",
      "\u001b[0;32m~/anaconda3/lib/python3.8/site-packages/sklearn/datasets/_kddcup99.py\u001b[0m in \u001b[0;36m_fetch_brute_kddcup99\u001b[0;34m(data_home, download_if_missing, percent10)\u001b[0m\n\u001b[1;32m    302\u001b[0m         \u001b[0mX\u001b[0m\u001b[0;34m,\u001b[0m \u001b[0my\u001b[0m\u001b[0;34m\u001b[0m\u001b[0;34m\u001b[0m\u001b[0m\n\u001b[1;32m    303\u001b[0m     \u001b[0;32mexcept\u001b[0m \u001b[0mNameError\u001b[0m\u001b[0;34m:\u001b[0m\u001b[0;34m\u001b[0m\u001b[0;34m\u001b[0m\u001b[0m\n\u001b[0;32m--> 304\u001b[0;31m         \u001b[0mX\u001b[0m \u001b[0;34m=\u001b[0m \u001b[0mjoblib\u001b[0m\u001b[0;34m.\u001b[0m\u001b[0mload\u001b[0m\u001b[0;34m(\u001b[0m\u001b[0msamples_path\u001b[0m\u001b[0;34m)\u001b[0m\u001b[0;34m\u001b[0m\u001b[0;34m\u001b[0m\u001b[0m\n\u001b[0m\u001b[1;32m    305\u001b[0m         \u001b[0my\u001b[0m \u001b[0;34m=\u001b[0m \u001b[0mjoblib\u001b[0m\u001b[0;34m.\u001b[0m\u001b[0mload\u001b[0m\u001b[0;34m(\u001b[0m\u001b[0mtargets_path\u001b[0m\u001b[0;34m)\u001b[0m\u001b[0;34m\u001b[0m\u001b[0;34m\u001b[0m\u001b[0m\n\u001b[1;32m    306\u001b[0m \u001b[0;34m\u001b[0m\u001b[0m\n",
      "\u001b[0;32m~/anaconda3/lib/python3.8/site-packages/joblib/numpy_pickle.py\u001b[0m in \u001b[0;36mload\u001b[0;34m(filename, mmap_mode)\u001b[0m\n\u001b[1;32m    583\u001b[0m                     \u001b[0;32mreturn\u001b[0m \u001b[0mload_compatibility\u001b[0m\u001b[0;34m(\u001b[0m\u001b[0mfobj\u001b[0m\u001b[0;34m)\u001b[0m\u001b[0;34m\u001b[0m\u001b[0;34m\u001b[0m\u001b[0m\n\u001b[1;32m    584\u001b[0m \u001b[0;34m\u001b[0m\u001b[0m\n\u001b[0;32m--> 585\u001b[0;31m                 \u001b[0mobj\u001b[0m \u001b[0;34m=\u001b[0m \u001b[0m_unpickle\u001b[0m\u001b[0;34m(\u001b[0m\u001b[0mfobj\u001b[0m\u001b[0;34m,\u001b[0m \u001b[0mfilename\u001b[0m\u001b[0;34m,\u001b[0m \u001b[0mmmap_mode\u001b[0m\u001b[0;34m)\u001b[0m\u001b[0;34m\u001b[0m\u001b[0;34m\u001b[0m\u001b[0m\n\u001b[0m\u001b[1;32m    586\u001b[0m     \u001b[0;32mreturn\u001b[0m \u001b[0mobj\u001b[0m\u001b[0;34m\u001b[0m\u001b[0;34m\u001b[0m\u001b[0m\n",
      "\u001b[0;32m~/anaconda3/lib/python3.8/site-packages/joblib/numpy_pickle.py\u001b[0m in \u001b[0;36m_unpickle\u001b[0;34m(fobj, filename, mmap_mode)\u001b[0m\n\u001b[1;32m    502\u001b[0m     \u001b[0mobj\u001b[0m \u001b[0;34m=\u001b[0m \u001b[0;32mNone\u001b[0m\u001b[0;34m\u001b[0m\u001b[0;34m\u001b[0m\u001b[0m\n\u001b[1;32m    503\u001b[0m     \u001b[0;32mtry\u001b[0m\u001b[0;34m:\u001b[0m\u001b[0;34m\u001b[0m\u001b[0;34m\u001b[0m\u001b[0m\n\u001b[0;32m--> 504\u001b[0;31m         \u001b[0mobj\u001b[0m \u001b[0;34m=\u001b[0m \u001b[0munpickler\u001b[0m\u001b[0;34m.\u001b[0m\u001b[0mload\u001b[0m\u001b[0;34m(\u001b[0m\u001b[0;34m)\u001b[0m\u001b[0;34m\u001b[0m\u001b[0;34m\u001b[0m\u001b[0m\n\u001b[0m\u001b[1;32m    505\u001b[0m         \u001b[0;32mif\u001b[0m \u001b[0munpickler\u001b[0m\u001b[0;34m.\u001b[0m\u001b[0mcompat_mode\u001b[0m\u001b[0;34m:\u001b[0m\u001b[0;34m\u001b[0m\u001b[0;34m\u001b[0m\u001b[0m\n\u001b[1;32m    506\u001b[0m             warnings.warn(\"The file '%s' has been generated with a \"\n",
      "\u001b[0;32m~/anaconda3/lib/python3.8/pickle.py\u001b[0m in \u001b[0;36mload\u001b[0;34m(self)\u001b[0m\n\u001b[1;32m   1208\u001b[0m                     \u001b[0;32mraise\u001b[0m \u001b[0mEOFError\u001b[0m\u001b[0;34m\u001b[0m\u001b[0;34m\u001b[0m\u001b[0m\n\u001b[1;32m   1209\u001b[0m                 \u001b[0;32massert\u001b[0m \u001b[0misinstance\u001b[0m\u001b[0;34m(\u001b[0m\u001b[0mkey\u001b[0m\u001b[0;34m,\u001b[0m \u001b[0mbytes_types\u001b[0m\u001b[0;34m)\u001b[0m\u001b[0;34m\u001b[0m\u001b[0;34m\u001b[0m\u001b[0m\n\u001b[0;32m-> 1210\u001b[0;31m                 \u001b[0mdispatch\u001b[0m\u001b[0;34m[\u001b[0m\u001b[0mkey\u001b[0m\u001b[0;34m[\u001b[0m\u001b[0;36m0\u001b[0m\u001b[0;34m]\u001b[0m\u001b[0;34m]\u001b[0m\u001b[0;34m(\u001b[0m\u001b[0mself\u001b[0m\u001b[0;34m)\u001b[0m\u001b[0;34m\u001b[0m\u001b[0;34m\u001b[0m\u001b[0m\n\u001b[0m\u001b[1;32m   1211\u001b[0m         \u001b[0;32mexcept\u001b[0m \u001b[0m_Stop\u001b[0m \u001b[0;32mas\u001b[0m \u001b[0mstopinst\u001b[0m\u001b[0;34m:\u001b[0m\u001b[0;34m\u001b[0m\u001b[0;34m\u001b[0m\u001b[0m\n\u001b[1;32m   1212\u001b[0m             \u001b[0;32mreturn\u001b[0m \u001b[0mstopinst\u001b[0m\u001b[0;34m.\u001b[0m\u001b[0mvalue\u001b[0m\u001b[0;34m\u001b[0m\u001b[0;34m\u001b[0m\u001b[0m\n",
      "\u001b[0;32m~/anaconda3/lib/python3.8/site-packages/joblib/numpy_pickle.py\u001b[0m in \u001b[0;36mload_build\u001b[0;34m(self)\u001b[0m\n\u001b[1;32m    340\u001b[0m             \u001b[0;32mif\u001b[0m \u001b[0misinstance\u001b[0m\u001b[0;34m(\u001b[0m\u001b[0marray_wrapper\u001b[0m\u001b[0;34m,\u001b[0m \u001b[0mNDArrayWrapper\u001b[0m\u001b[0;34m)\u001b[0m\u001b[0;34m:\u001b[0m\u001b[0;34m\u001b[0m\u001b[0;34m\u001b[0m\u001b[0m\n\u001b[1;32m    341\u001b[0m                 \u001b[0mself\u001b[0m\u001b[0;34m.\u001b[0m\u001b[0mcompat_mode\u001b[0m \u001b[0;34m=\u001b[0m \u001b[0;32mTrue\u001b[0m\u001b[0;34m\u001b[0m\u001b[0;34m\u001b[0m\u001b[0m\n\u001b[0;32m--> 342\u001b[0;31m             \u001b[0mself\u001b[0m\u001b[0;34m.\u001b[0m\u001b[0mstack\u001b[0m\u001b[0;34m.\u001b[0m\u001b[0mappend\u001b[0m\u001b[0;34m(\u001b[0m\u001b[0marray_wrapper\u001b[0m\u001b[0;34m.\u001b[0m\u001b[0mread\u001b[0m\u001b[0;34m(\u001b[0m\u001b[0mself\u001b[0m\u001b[0;34m)\u001b[0m\u001b[0;34m)\u001b[0m\u001b[0;34m\u001b[0m\u001b[0;34m\u001b[0m\u001b[0m\n\u001b[0m\u001b[1;32m    343\u001b[0m \u001b[0;34m\u001b[0m\u001b[0m\n\u001b[1;32m    344\u001b[0m     \u001b[0;31m# Be careful to register our new method.\u001b[0m\u001b[0;34m\u001b[0m\u001b[0;34m\u001b[0m\u001b[0;34m\u001b[0m\u001b[0m\n",
      "\u001b[0;32m~/anaconda3/lib/python3.8/site-packages/joblib/numpy_pickle.py\u001b[0m in \u001b[0;36mread\u001b[0;34m(self, unpickler)\u001b[0m\n\u001b[1;32m    185\u001b[0m             \u001b[0marray\u001b[0m \u001b[0;34m=\u001b[0m \u001b[0mself\u001b[0m\u001b[0;34m.\u001b[0m\u001b[0mread_mmap\u001b[0m\u001b[0;34m(\u001b[0m\u001b[0munpickler\u001b[0m\u001b[0;34m)\u001b[0m\u001b[0;34m\u001b[0m\u001b[0;34m\u001b[0m\u001b[0m\n\u001b[1;32m    186\u001b[0m         \u001b[0;32melse\u001b[0m\u001b[0;34m:\u001b[0m\u001b[0;34m\u001b[0m\u001b[0;34m\u001b[0m\u001b[0m\n\u001b[0;32m--> 187\u001b[0;31m             \u001b[0marray\u001b[0m \u001b[0;34m=\u001b[0m \u001b[0mself\u001b[0m\u001b[0;34m.\u001b[0m\u001b[0mread_array\u001b[0m\u001b[0;34m(\u001b[0m\u001b[0munpickler\u001b[0m\u001b[0;34m)\u001b[0m\u001b[0;34m\u001b[0m\u001b[0;34m\u001b[0m\u001b[0m\n\u001b[0m\u001b[1;32m    188\u001b[0m \u001b[0;34m\u001b[0m\u001b[0m\n\u001b[1;32m    189\u001b[0m         \u001b[0;31m# Manage array subclass case\u001b[0m\u001b[0;34m\u001b[0m\u001b[0;34m\u001b[0m\u001b[0;34m\u001b[0m\u001b[0m\n",
      "\u001b[0;32m~/anaconda3/lib/python3.8/site-packages/joblib/numpy_pickle.py\u001b[0m in \u001b[0;36mread_array\u001b[0;34m(self, unpickler)\u001b[0m\n\u001b[1;32m    119\u001b[0m         \u001b[0;32mif\u001b[0m \u001b[0mself\u001b[0m\u001b[0;34m.\u001b[0m\u001b[0mdtype\u001b[0m\u001b[0;34m.\u001b[0m\u001b[0mhasobject\u001b[0m\u001b[0;34m:\u001b[0m\u001b[0;34m\u001b[0m\u001b[0;34m\u001b[0m\u001b[0m\n\u001b[1;32m    120\u001b[0m             \u001b[0;31m# The array contained Python objects. We need to unpickle the data.\u001b[0m\u001b[0;34m\u001b[0m\u001b[0;34m\u001b[0m\u001b[0;34m\u001b[0m\u001b[0m\n\u001b[0;32m--> 121\u001b[0;31m             \u001b[0marray\u001b[0m \u001b[0;34m=\u001b[0m \u001b[0mpickle\u001b[0m\u001b[0;34m.\u001b[0m\u001b[0mload\u001b[0m\u001b[0;34m(\u001b[0m\u001b[0munpickler\u001b[0m\u001b[0;34m.\u001b[0m\u001b[0mfile_handle\u001b[0m\u001b[0;34m)\u001b[0m\u001b[0;34m\u001b[0m\u001b[0;34m\u001b[0m\u001b[0m\n\u001b[0m\u001b[1;32m    122\u001b[0m         \u001b[0;32melse\u001b[0m\u001b[0;34m:\u001b[0m\u001b[0;34m\u001b[0m\u001b[0;34m\u001b[0m\u001b[0m\n\u001b[1;32m    123\u001b[0m             \u001b[0;31m# This is not a real file. We have to read it the\u001b[0m\u001b[0;34m\u001b[0m\u001b[0;34m\u001b[0m\u001b[0;34m\u001b[0m\u001b[0m\n",
      "\u001b[0;31mEOFError\u001b[0m: Ran out of input"
     ]
    }
   ],
   "source": [
    "sa = datasets.fetch_kddcup99(subset='SA', percent10=False)\n",
    "dfsa=pd.DataFrame(sa.data, \n",
    "                  columns=sa_columns)\n",
    "assert len(dfsa)>0, \"SA dataset not loaded.\"\n",
    "dfsa[\"target\"]=sa.target\n",
    "anomaly_rate_sa = 1.0 - len(dfsa.loc[dfsa[\"target\"]==b'normal.'])/len(dfsa)\n",
    "f\"SA anomaly rate is {anomaly_rate_sa:.1%}\""
   ]
  },
  {
   "cell_type": "markdown",
   "metadata": {
    "id": "ClLQkErNzSQp"
   },
   "source": [
    "\n",
    "## Data preprocessing for SA\n",
    "The preprocessing step consists of :\n",
    "* Encode categorical attributes to numerical using a Label encoder\n",
    "* Strip the data of its label for unsupervised learning\n",
    "* Normalize the numerical attributes"
   ]
  },
  {
   "cell_type": "code",
   "execution_count": null,
   "metadata": {
    "id": "-tCQpX2vBzbv"
   },
   "outputs": [],
   "source": [
    "\n",
    "toDecodeSA = [\"protocol_type\", \"service\", \"flag\", \"target\"]\n",
    "dfsa[\"binary_target\"] = [1 if x==b'normal.' else -1 for x in dfsa[\"target\"]]    \n",
    "leSF = preprocessing.LabelEncoder()\n",
    "for f in toDecodeSA:\n",
    "    dfsa[f] = list(map(byte_decoder, dfsa[f]))\n",
    "    dfsa[f] = leSF.fit_transform(dfsa[f])\n",
    "    \n",
    "dfsa_normalized = preprocessing.normalize(dfsa.drop([\"target\", \"binary_target\"], axis=1))\n",
    "\n",
    "X_train_sa, X_test_sa, Y_train_sa, Y_test_sa = train_test_split(dfsa.drop([\"target\", \"binary_target\"], axis=1), dfsa[\"binary_target\"], test_size=0.33, random_state=0)\n",
    "X_train_sa_normalized, X_test_sa_normalized, Y_train_sa_normalized, Y_test_sa_normalized = train_test_split(dfsa_normalized, dfsa[\"binary_target\"], test_size=0.33, random_state=0)"
   ]
  },
  {
   "cell_type": "code",
   "execution_count": null,
   "metadata": {
    "id": "jdASte7d0ymF"
   },
   "outputs": [],
   "source": [
    "contamination = 0.2\n",
    "max_samples = 0.25\n",
    "n_estimator = 100\n",
    "random_state = 12\n",
    "n_neighbors = 15\n",
    "\n",
    "If = IsolationForest(max_samples       = max_samples, \n",
    "                     contamination     = contamination, \n",
    "                     n_estimators      = n_estimator,\n",
    "                     random_state      = random_state,\n",
    "                     n_jobs            = -1)\n",
    "\n",
    "Lof = LocalOutlierFactor(n_neighbors   = n_neighbors, \n",
    "                         metric        = 'euclidean', \n",
    "                         algorithm     = 'auto', \n",
    "                         contamination = contamination, \n",
    "                         n_jobs        = -1)\n",
    "\n",
    "OCSVM = OneClassSVM(gamma              = 'auto',\n",
    "                    verbose            = True)\n"
   ]
  },
  {
   "cell_type": "code",
   "execution_count": null,
   "metadata": {
    "colab": {
     "base_uri": "https://localhost:8080/"
    },
    "id": "QrHJ3XSy1Gtd",
    "outputId": "c55b79a8-9f7f-4c0f-90ed-def9097c481f"
   },
   "outputs": [],
   "source": [
    "fit_time_if_sa, Y_pred_train_sa_if  = time(expr = \"If.fit_predict(X_train_sa_normalized)\")\n",
    "print(f\"Trainning If finished in {fit_time_if_sa}\")\n",
    "cm_train_sa_if = confusion_matrix(Y_train_sa_normalized, Y_pred_train_sa_if)"
   ]
  },
  {
   "cell_type": "code",
   "execution_count": null,
   "metadata": {
    "colab": {
     "base_uri": "https://localhost:8080/"
    },
    "id": "RbqihHi91KxB",
    "outputId": "0e40fcca-d6ed-426a-87a1-36d805db575f"
   },
   "outputs": [],
   "source": [
    "fit_time_lof_sa, Y_pred_train_sa_lof = time(expr = \"Lof.fit_predict(X_train_sa_normalized)\")\n",
    "print(f\"Trainning Lof finished in {fit_time_lof_sa}\")\n",
    "cm_train_sa_lof = confusion_matrix(Y_train_sa_normalized, Y_pred_train_sa_lof)"
   ]
  },
  {
   "cell_type": "code",
   "execution_count": null,
   "metadata": {
    "colab": {
     "base_uri": "https://localhost:8080/"
    },
    "id": "ceN4Pl4X1OTC",
    "outputId": "a4d57b7c-524f-4390-839a-60a8b57271a0"
   },
   "outputs": [],
   "source": [
    "fit_time, Y_pred_train_sa_svm  = time(expr = \"OCSVM.fit_predict(X_train_sa_normalized)\")\n",
    "print(f\"Trainning svm finished in {fit_time}\")\n",
    "cm_train_sa_svm = confusion_matrix(Y_train_sa_normalized, Y_pred_train_sa_svm)"
   ]
  },
  {
   "cell_type": "code",
   "execution_count": null,
   "metadata": {
    "colab": {
     "base_uri": "https://localhost:8080/",
     "height": 481
    },
    "id": "UaXG5zOI1nhm",
    "outputId": "a3dcffab-7a3c-4267-bb3e-68b08942c437"
   },
   "outputs": [],
   "source": [
    "print(classification_report(Y_train_sa_normalized, Y_pred_train_sa_if, target_names=['anomaly', 'normal']))\n",
    "print (\"AUC: \", \"{:.1%}\".format(roc_auc_score(Y_train_sa_normalized, Y_pred_train_sa_if)))\n",
    "plot_confusion_matrix(cm_train_sa_if, \"Confusion Matrix for If on SA trainning dataset\")"
   ]
  },
  {
   "cell_type": "code",
   "execution_count": null,
   "metadata": {
    "colab": {
     "base_uri": "https://localhost:8080/",
     "height": 481
    },
    "id": "KaZLMoan4nmE",
    "outputId": "91e0ee43-d662-46b6-bc89-c6dc587761cb"
   },
   "outputs": [],
   "source": [
    "\n",
    "print(classification_report(Y_train_sa_normalized, Y_pred_train_sa_lof, target_names=['anomaly', 'normal']))\n",
    "print (\"AUC: \", \"{:.1%}\".format(roc_auc_score(Y_train_sa_normalized, Y_pred_train_sa_lof)))\n",
    "plot_confusion_matrix(cm_train_sa_lof, \"Confusion Matrix for Lof on SA trainning dataset\")\n"
   ]
  },
  {
   "cell_type": "code",
   "execution_count": null,
   "metadata": {
    "colab": {
     "base_uri": "https://localhost:8080/",
     "height": 481
    },
    "id": "jGBgda7J4rGt",
    "outputId": "823bdcf8-0a99-4893-bd8c-42ba206cdcb9"
   },
   "outputs": [],
   "source": [
    "print(classification_report(Y_train_sa_normalized, Y_pred_train_sa_svm, target_names=['anomaly', 'normal']))\n",
    "print (\"AUC: \", \"{:.1%}\".format(roc_auc_score(Y_train_sa_normalized, Y_pred_train_sa_svm)))\n",
    "plot_confusion_matrix(cm_train_sa_svm, \"Confusion Matrix for SVM on SA trainning dataset\")"
   ]
  },
  {
   "cell_type": "markdown",
   "metadata": {
    "id": "BBApGXTvdXPv"
   },
   "source": [
    "## SA test set"
   ]
  },
  {
   "cell_type": "code",
   "execution_count": null,
   "metadata": {
    "colab": {
     "base_uri": "https://localhost:8080/",
     "height": 481
    },
    "id": "Cm7oMKwn4t8O",
    "outputId": "1e5d0315-d4d8-4211-e20d-efc0981add35"
   },
   "outputs": [],
   "source": [
    "Y_pred_test_sa_if  = If.predict(X_test_sa_normalized)\n",
    "cm_test_sa_if = confusion_matrix(Y_test_sa_normalized, Y_pred_test_sa_if)\n",
    "\n",
    "print(classification_report(Y_test_sa_normalized, Y_pred_test_sa_if, target_names=['anomaly', 'normal']))\n",
    "print (\"AUC: \", \"{:.1%}\".format(roc_auc_score(Y_test_sa_normalized, Y_pred_test_sa_if)))\n",
    "plot_confusion_matrix(cm_test_sa_if, \"Confusion Matrix for If on SA test dataset\")"
   ]
  },
  {
   "cell_type": "code",
   "execution_count": null,
   "metadata": {
    "colab": {
     "base_uri": "https://localhost:8080/",
     "height": 481
    },
    "id": "3PPek5AJdGJi",
    "outputId": "06ae8124-b160-42e8-94a2-79a3fef701ef"
   },
   "outputs": [],
   "source": [
    "Y_pred_test_sa_lof = Lof.fit_predict(X_test_sa_normalized)\n",
    "cm_test_sa_lof = confusion_matrix(Y_test_sa_normalized, Y_pred_test_sa_lof)\n",
    "\n",
    "print(classification_report(Y_test_sa_normalized, Y_pred_test_sa_lof, target_names=['anomaly', 'normal']))\n",
    "print (\"AUC: \", \"{:.1%}\".format(roc_auc_score(Y_test_sa_normalized, Y_pred_test_sa_lof)))\n",
    "plot_confusion_matrix(cm_test_sa_lof, \"Confusion Matrix for If on SA test dataset\")"
   ]
  },
  {
   "cell_type": "code",
   "execution_count": null,
   "metadata": {
    "colab": {
     "base_uri": "https://localhost:8080/",
     "height": 481
    },
    "id": "nSWtvaJKdONu",
    "outputId": "340759ce-33b1-46a1-bd1b-cd5ac44d559d"
   },
   "outputs": [],
   "source": [
    "Y_pred_test_sa_svm = OCSVM.predict(X_test_sa_normalized)\n",
    "cm_test_sa_svm = confusion_matrix(Y_test_sa_normalized, Y_pred_test_sa_svm)\n",
    "\n",
    "\n",
    "print(classification_report(Y_test_sa_normalized, Y_pred_test_sa_svm, target_names=['anomaly', 'normal']))\n",
    "print (\"AUC: \", \"{:.1%}\".format(roc_auc_score(Y_test_sa_normalized, Y_pred_test_sa_svm)))\n",
    "plot_confusion_matrix(cm_test_sa_svm, \"Confusion Matrix for If on SA trainning dataset\")"
   ]
  },
  {
   "cell_type": "code",
   "execution_count": null,
   "metadata": {
    "id": "6KH5XgNSRoQW"
   },
   "outputs": [],
   "source": [
    "def custom_parameter_isolation_forest(max_samples = 0.25, contamination = 0.2, n_estimators = 100, random_state = 0):\n",
    "    If = IsolationForest(max_samples       = max_samples, \n",
    "                     contamination     = contamination, \n",
    "                     n_estimators      = n_estimator,\n",
    "                     random_state      = random_state,\n",
    "                     n_jobs            = -1)\n",
    "    \n",
    "    Y_pred_test_sa_if  = If.fit(X_train_sa_normalized).predict(X_test_sa_normalized)\n",
    "    return roc_auc_score(Y_test_sa, Y_pred_test_sa_if)\n",
    "\n",
    "def train_and_predict_lof(contamination = 0.2, n_neighbors = 15):\n",
    "    Lof = LocalOutlierFactor(n_neighbors   = n_neighbors, \n",
    "                          metric        = 'euclidean', \n",
    "                          algorithm     = 'auto', \n",
    "                          contamination = contamination, \n",
    "                          n_jobs        = -1)\n",
    "    Y_pred  = Lof.fit_predict(X_test_sa_normalized) \n",
    "    return roc_auc_score(Y_test_sa, Y_pred)"
   ]
  },
  {
   "cell_type": "code",
   "execution_count": null,
   "metadata": {
    "id": "qBs2V-awYIKF"
   },
   "outputs": [],
   "source": [
    "AUC_if = []\n",
    "contamination_values = [0.05*x for x in range(1, 6)]\n",
    "for i in range(4):\n",
    "    AUC_if.append([custom_parameter_isolation_forest(contamination = c, max_samples = 0.2 + i*0.05) for c in contamination_values])"
   ]
  },
  {
   "cell_type": "code",
   "execution_count": null,
   "metadata": {
    "id": "CCFFUWhp67rd"
   },
   "outputs": [],
   "source": [
    "AUC_lof = []\n",
    "contamination_values = [0.05*x for x in range(1, 6)]\n",
    "for i in range(4):\n",
    "    AUC_lof.append([train_and_predict_lof(n_neighbors = 10 + 5*i, contamination = c) for c in contamination_values])"
   ]
  },
  {
   "cell_type": "code",
   "execution_count": null,
   "metadata": {
    "colab": {
     "base_uri": "https://localhost:8080/",
     "height": 294
    },
    "id": "jBHf2elDY07p",
    "outputId": "a3c758f6-bbd6-42c4-8f9b-a4b361ff958d"
   },
   "outputs": [],
   "source": [
    "plt.style.use('seaborn-notebook')\n",
    "fig, (ax1, ax2) = plt.subplots(1,2, figsize=(20,4), dpi=120)\n",
    "for i in range(4):\n",
    "    ax1.plot(contamination_values, AUC_if[i], marker=['o','*', 'v', '^'][i], color=['r','b','g','y'][i], label=f\"max_samples = {0.2 + i*0.05}\")\n",
    "    ax2.plot(contamination_values, AUC_lof[i], marker=['o','*', 'v', '^'][i], color=['r','b','g','y'][i], label=f\"n_neigbors = {5 + i*5}\")\n",
    "ax1.set_title('Isolation forest');ax2.set_title('Local Outlier Factor')\n",
    "ax1.set_xlabel('Contamination');ax2.set_xlabel('Contamination')\n",
    "ax1.set_ylabel('AUC');ax2.set_ylabel('AUC')\n",
    "plt.legend()\n",
    "plt.show()"
   ]
  },
  {
   "cell_type": "code",
   "execution_count": null,
   "metadata": {
    "id": "bFPhbm96Egbp"
   },
   "outputs": [],
   "source": []
  }
 ],
 "metadata": {
  "colab": {
   "collapsed_sections": [],
   "name": "KDDCUP99_benchmark.ipynb",
   "provenance": []
  },
  "kernelspec": {
   "display_name": "Python 3",
   "language": "python",
   "name": "python3"
  },
  "language_info": {
   "codemirror_mode": {
    "name": "ipython",
    "version": 3
   },
   "file_extension": ".py",
   "mimetype": "text/x-python",
   "name": "python",
   "nbconvert_exporter": "python",
   "pygments_lexer": "ipython3",
   "version": "3.8.5"
  }
 },
 "nbformat": 4,
 "nbformat_minor": 1
}
